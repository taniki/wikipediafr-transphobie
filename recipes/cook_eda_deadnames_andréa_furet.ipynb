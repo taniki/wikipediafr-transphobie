{
 "cells": [
  {
   "cell_type": "code",
   "execution_count": 1,
   "id": "2ad56d7a-56a0-4f9e-a19d-906c01ac23f1",
   "metadata": {
    "execution": {
     "iopub.execute_input": "2024-03-31T21:11:22.474584Z",
     "iopub.status.busy": "2024-03-31T21:11:22.474318Z",
     "iopub.status.idle": "2024-03-31T21:11:22.950020Z",
     "shell.execute_reply": "2024-03-31T21:11:22.949777Z"
    },
    "papermill": {
     "duration": 0.490009,
     "end_time": "2024-03-31T21:11:22.950910",
     "exception": false,
     "start_time": "2024-03-31T21:11:22.460901",
     "status": "completed"
    },
    "tags": []
   },
   "outputs": [],
   "source": [
    "import pandas as pd\n",
    "from bs4 import BeautifulSoup\n",
    "from tqdm import tqdm\n",
    "import base64\n",
    "\n",
    "tqdm.pandas()\n",
    "from wekeypedia import WikipediaPage as Page"
   ]
  },
  {
   "cell_type": "code",
   "execution_count": 2,
   "id": "23765632-31c5-4a46-a008-89df2f3fb17a",
   "metadata": {
    "execution": {
     "iopub.execute_input": "2024-03-31T21:11:22.962026Z",
     "iopub.status.busy": "2024-03-31T21:11:22.961840Z",
     "iopub.status.idle": "2024-03-31T21:11:22.963857Z",
     "shell.execute_reply": "2024-03-31T21:11:22.963642Z"
    },
    "papermill": {
     "duration": 0.011134,
     "end_time": "2024-03-31T21:11:22.964534",
     "exception": false,
     "start_time": "2024-03-31T21:11:22.953400",
     "status": "completed"
    },
    "tags": [
     "parameters"
    ]
   },
   "outputs": [],
   "source": [
    "name = 'Elke Mackenzie'\n",
    "dead_name = 'SXZhbg=='\n",
    "page_name = 'Ivan_Mackenzie_Lamb'\n",
    "co_date = None"
   ]
  },
  {
   "cell_type": "code",
   "execution_count": 3,
   "id": "17fdb27d",
   "metadata": {
    "execution": {
     "iopub.execute_input": "2024-03-31T21:11:22.967821Z",
     "iopub.status.busy": "2024-03-31T21:11:22.967709Z",
     "iopub.status.idle": "2024-03-31T21:11:22.969292Z",
     "shell.execute_reply": "2024-03-31T21:11:22.969096Z"
    },
    "papermill": {
     "duration": 0.004077,
     "end_time": "2024-03-31T21:11:22.969928",
     "exception": false,
     "start_time": "2024-03-31T21:11:22.965851",
     "status": "completed"
    },
    "tags": [
     "injected-parameters"
    ]
   },
   "outputs": [],
   "source": [
    "# Parameters\n",
    "name = \"Andr\\xe9a Furet\"\n",
    "dead_name = \"QWxleGFuZHJl\"\n",
    "page_name = \"Andr\\xe9a_Furet\"\n",
    "co_date = \"2019-06-01\"\n"
   ]
  },
  {
   "cell_type": "code",
   "execution_count": 4,
   "id": "743460e0-da77-4f86-bb1c-7e260dd25dd2",
   "metadata": {
    "execution": {
     "iopub.execute_input": "2024-03-31T21:11:22.973110Z",
     "iopub.status.busy": "2024-03-31T21:11:22.973007Z",
     "iopub.status.idle": "2024-03-31T21:11:22.974486Z",
     "shell.execute_reply": "2024-03-31T21:11:22.974293Z"
    },
    "papermill": {
     "duration": 0.003898,
     "end_time": "2024-03-31T21:11:22.975128",
     "exception": false,
     "start_time": "2024-03-31T21:11:22.971230",
     "status": "completed"
    },
    "tags": []
   },
   "outputs": [],
   "source": [
    "def format_revid_index(revid, page):\n",
    "    return f'<a href=\"https://fr.wikipedia.org/w/index.php?title={page}&diff=prev&oldid={revid}\">{revid}</a>'"
   ]
  },
  {
   "cell_type": "markdown",
   "id": "5cc2bf74-9863-42ee-a757-703825106697",
   "metadata": {
    "papermill": {
     "duration": 0.001366,
     "end_time": "2024-03-31T21:11:22.977815",
     "exception": false,
     "start_time": "2024-03-31T21:11:22.976449",
     "status": "completed"
    },
    "tags": []
   },
   "source": [
    "# qui sont personnes qui énoncent le deadname dans l'article ?"
   ]
  },
  {
   "cell_type": "markdown",
   "id": "ef5929df-44e4-4ab2-a25b-25c1db364961",
   "metadata": {
    "papermill": {
     "duration": 0.001333,
     "end_time": "2024-03-31T21:11:22.980451",
     "exception": false,
     "start_time": "2024-03-31T21:11:22.979118",
     "status": "completed"
    },
    "tags": []
   },
   "source": [
    "## article"
   ]
  },
  {
   "cell_type": "code",
   "execution_count": 5,
   "id": "eed28b1e-97c4-4eab-9ead-6a8b55b85187",
   "metadata": {
    "execution": {
     "iopub.execute_input": "2024-03-31T21:11:22.983635Z",
     "iopub.status.busy": "2024-03-31T21:11:22.983509Z",
     "iopub.status.idle": "2024-03-31T21:11:23.257811Z",
     "shell.execute_reply": "2024-03-31T21:11:23.256064Z"
    },
    "papermill": {
     "duration": 0.27975,
     "end_time": "2024-03-31T21:11:23.261501",
     "exception": false,
     "start_time": "2024-03-31T21:11:22.981751",
     "status": "completed"
    },
    "tags": []
   },
   "outputs": [],
   "source": [
    "page = Page(page_name, lang='fr')"
   ]
  },
  {
   "cell_type": "code",
   "execution_count": 6,
   "id": "e496177f-af35-4c14-84a2-40f86b9a0309",
   "metadata": {
    "execution": {
     "iopub.execute_input": "2024-03-31T21:11:23.278957Z",
     "iopub.status.busy": "2024-03-31T21:11:23.278656Z",
     "iopub.status.idle": "2024-03-31T21:11:30.825813Z",
     "shell.execute_reply": "2024-03-31T21:11:30.825405Z"
    },
    "papermill": {
     "duration": 7.557022,
     "end_time": "2024-03-31T21:11:30.826826",
     "exception": false,
     "start_time": "2024-03-31T21:11:23.269804",
     "status": "completed"
    },
    "tags": []
   },
   "outputs": [
    {
     "data": {
      "text/html": [
       "<div>\n",
       "<style scoped>\n",
       "    .dataframe tbody tr th:only-of-type {\n",
       "        vertical-align: middle;\n",
       "    }\n",
       "\n",
       "    .dataframe tbody tr th {\n",
       "        vertical-align: top;\n",
       "    }\n",
       "\n",
       "    .dataframe thead th {\n",
       "        text-align: right;\n",
       "    }\n",
       "</style>\n",
       "<table border=\"1\" class=\"dataframe\">\n",
       "  <thead>\n",
       "    <tr style=\"text-align: right;\">\n",
       "      <th></th>\n",
       "      <th>parentid</th>\n",
       "      <th>user</th>\n",
       "      <th>userid</th>\n",
       "      <th>timestamp</th>\n",
       "      <th>size</th>\n",
       "      <th>sha1</th>\n",
       "      <th>contentformat</th>\n",
       "      <th>contentmodel</th>\n",
       "      <th>comment</th>\n",
       "      <th>*</th>\n",
       "      <th>anon</th>\n",
       "    </tr>\n",
       "    <tr>\n",
       "      <th>revid</th>\n",
       "      <th></th>\n",
       "      <th></th>\n",
       "      <th></th>\n",
       "      <th></th>\n",
       "      <th></th>\n",
       "      <th></th>\n",
       "      <th></th>\n",
       "      <th></th>\n",
       "      <th></th>\n",
       "      <th></th>\n",
       "      <th></th>\n",
       "    </tr>\n",
       "  </thead>\n",
       "  <tbody>\n",
       "    <tr>\n",
       "      <th>213316157</th>\n",
       "      <td>213116201</td>\n",
       "      <td>Victoire F.</td>\n",
       "      <td>1719539</td>\n",
       "      <td>2024-03-13T13:03:39Z</td>\n",
       "      <td>16524</td>\n",
       "      <td>fe6a2f3ee41409dfff55c73d845cd502bec0d16d</td>\n",
       "      <td>text/x-wiki</td>\n",
       "      <td>wikitext</td>\n",
       "      <td>Ajout rapide de {{palette}} : + Transidentité ...</td>\n",
       "      <td>{{Semi-protection longue}}\\n{{Voir homonymes|F...</td>\n",
       "      <td>NaN</td>\n",
       "    </tr>\n",
       "    <tr>\n",
       "      <th>213116201</th>\n",
       "      <td>213116127</td>\n",
       "      <td>TwoWings</td>\n",
       "      <td>28903</td>\n",
       "      <td>2024-03-06T17:24:35Z</td>\n",
       "      <td>16486</td>\n",
       "      <td>78694252f4cfd9a58309ce3f9a3eed3dd0f400e1</td>\n",
       "      <td>text/x-wiki</td>\n",
       "      <td>wikitext</td>\n",
       "      <td>maladroit</td>\n",
       "      <td>{{Semi-protection longue}}\\n{{Voir homonymes|F...</td>\n",
       "      <td>NaN</td>\n",
       "    </tr>\n",
       "    <tr>\n",
       "      <th>213116127</th>\n",
       "      <td>213112685</td>\n",
       "      <td>DarkVador79-UA</td>\n",
       "      <td>4553277</td>\n",
       "      <td>2024-03-06T17:20:55Z</td>\n",
       "      <td>16475</td>\n",
       "      <td>dcbeb02c588243344ea13546d1af22ff2094b144</td>\n",
       "      <td>text/x-wiki</td>\n",
       "      <td>wikitext</td>\n",
       "      <td>/* Carrière */</td>\n",
       "      <td>{{Semi-protection longue}}\\n{{Voir homonymes|F...</td>\n",
       "      <td>NaN</td>\n",
       "    </tr>\n",
       "    <tr>\n",
       "      <th>213112685</th>\n",
       "      <td>213112419</td>\n",
       "      <td>Cymbella</td>\n",
       "      <td>316223</td>\n",
       "      <td>2024-03-06T15:00:27Z</td>\n",
       "      <td>16463</td>\n",
       "      <td>6dde12a7c19e3b35c1ada7e9710bc4bc0bbd1000</td>\n",
       "      <td>text/x-wiki</td>\n",
       "      <td>wikitext</td>\n",
       "      <td>/* Carrière */ formulation moins ambiguë</td>\n",
       "      <td>{{Semi-protection longue}}\\n{{Voir homonymes|F...</td>\n",
       "      <td>NaN</td>\n",
       "    </tr>\n",
       "    <tr>\n",
       "      <th>213112419</th>\n",
       "      <td>213112061</td>\n",
       "      <td>Sherwood6</td>\n",
       "      <td>4022033</td>\n",
       "      <td>2024-03-06T14:49:56Z</td>\n",
       "      <td>16462</td>\n",
       "      <td>58af505b6de17df745ca7195ff1c6e3f3209019f</td>\n",
       "      <td>text/x-wiki</td>\n",
       "      <td>wikitext</td>\n",
       "      <td>Annulation de la [[Special:Diff/213112061|modi...</td>\n",
       "      <td>{{Semi-protection longue}}\\n{{Voir homonymes|F...</td>\n",
       "      <td>NaN</td>\n",
       "    </tr>\n",
       "    <tr>\n",
       "      <th>...</th>\n",
       "      <td>...</td>\n",
       "      <td>...</td>\n",
       "      <td>...</td>\n",
       "      <td>...</td>\n",
       "      <td>...</td>\n",
       "      <td>...</td>\n",
       "      <td>...</td>\n",
       "      <td>...</td>\n",
       "      <td>...</td>\n",
       "      <td>...</td>\n",
       "      <td>...</td>\n",
       "    </tr>\n",
       "    <tr>\n",
       "      <th>187698498</th>\n",
       "      <td>187698477</td>\n",
       "      <td>CuriousReader</td>\n",
       "      <td>377761</td>\n",
       "      <td>2021-11-04T07:53:46Z</td>\n",
       "      <td>7545</td>\n",
       "      <td>a5edab797b76049e9ea16bcedfa344f32ffcc2b4</td>\n",
       "      <td>text/x-wiki</td>\n",
       "      <td>wikitext</td>\n",
       "      <td>/* Carrière */ ajout</td>\n",
       "      <td>{{Voir homonymes|Furet (homonymie)}}\\n{{Infobo...</td>\n",
       "      <td>NaN</td>\n",
       "    </tr>\n",
       "    <tr>\n",
       "      <th>187698477</th>\n",
       "      <td>187698235</td>\n",
       "      <td>CuriousReader</td>\n",
       "      <td>377761</td>\n",
       "      <td>2021-11-04T07:52:42Z</td>\n",
       "      <td>7543</td>\n",
       "      <td>5c635618ea2aa5e8c5c45149ede212b6fd14eb25</td>\n",
       "      <td>text/x-wiki</td>\n",
       "      <td>wikitext</td>\n",
       "      <td>/* Carrière */ correction</td>\n",
       "      <td>{{Voir homonymes|Furet (homonymie)}}\\n{{Infobo...</td>\n",
       "      <td>NaN</td>\n",
       "    </tr>\n",
       "    <tr>\n",
       "      <th>187698235</th>\n",
       "      <td>187687803</td>\n",
       "      <td>CuriousReader</td>\n",
       "      <td>377761</td>\n",
       "      <td>2021-11-04T07:38:00Z</td>\n",
       "      <td>7546</td>\n",
       "      <td>1302775668cba51500875d735daa91ef36a23a5d</td>\n",
       "      <td>text/x-wiki</td>\n",
       "      <td>wikitext</td>\n",
       "      <td>/* Liens externes */ ajout paragraphe</td>\n",
       "      <td>{{Voir homonymes|Furet (homonymie)}}\\n{{Infobo...</td>\n",
       "      <td>NaN</td>\n",
       "    </tr>\n",
       "    <tr>\n",
       "      <th>187687803</th>\n",
       "      <td>187687586</td>\n",
       "      <td>CuriousReader</td>\n",
       "      <td>377761</td>\n",
       "      <td>2021-11-03T20:03:51Z</td>\n",
       "      <td>7151</td>\n",
       "      <td>162fce07b8e14a45e6df21ac80c3e8463475c870</td>\n",
       "      <td>text/x-wiki</td>\n",
       "      <td>wikitext</td>\n",
       "      <td>/* Jeunesse */ correction</td>\n",
       "      <td>{{Voir homonymes|Furet (homonymie)}}\\n{{Infobo...</td>\n",
       "      <td>NaN</td>\n",
       "    </tr>\n",
       "    <tr>\n",
       "      <th>187687586</th>\n",
       "      <td>0</td>\n",
       "      <td>CuriousReader</td>\n",
       "      <td>377761</td>\n",
       "      <td>2021-11-03T19:55:02Z</td>\n",
       "      <td>7144</td>\n",
       "      <td>f3273cf9aacad8cd19c888ad75e64fd535041967</td>\n",
       "      <td>text/x-wiki</td>\n",
       "      <td>wikitext</td>\n",
       "      <td>création</td>\n",
       "      <td>{{Voir homonymes|Furet (homonymie)}}\\n{{Infobo...</td>\n",
       "      <td>NaN</td>\n",
       "    </tr>\n",
       "  </tbody>\n",
       "</table>\n",
       "<p>242 rows × 11 columns</p>\n",
       "</div>"
      ],
      "text/plain": [
       "            parentid            user   userid             timestamp   size  \\\n",
       "revid                                                                        \n",
       "213316157  213116201     Victoire F.  1719539  2024-03-13T13:03:39Z  16524   \n",
       "213116201  213116127        TwoWings    28903  2024-03-06T17:24:35Z  16486   \n",
       "213116127  213112685  DarkVador79-UA  4553277  2024-03-06T17:20:55Z  16475   \n",
       "213112685  213112419        Cymbella   316223  2024-03-06T15:00:27Z  16463   \n",
       "213112419  213112061       Sherwood6  4022033  2024-03-06T14:49:56Z  16462   \n",
       "...              ...             ...      ...                   ...    ...   \n",
       "187698498  187698477   CuriousReader   377761  2021-11-04T07:53:46Z   7545   \n",
       "187698477  187698235   CuriousReader   377761  2021-11-04T07:52:42Z   7543   \n",
       "187698235  187687803   CuriousReader   377761  2021-11-04T07:38:00Z   7546   \n",
       "187687803  187687586   CuriousReader   377761  2021-11-03T20:03:51Z   7151   \n",
       "187687586          0   CuriousReader   377761  2021-11-03T19:55:02Z   7144   \n",
       "\n",
       "                                               sha1 contentformat  \\\n",
       "revid                                                               \n",
       "213316157  fe6a2f3ee41409dfff55c73d845cd502bec0d16d   text/x-wiki   \n",
       "213116201  78694252f4cfd9a58309ce3f9a3eed3dd0f400e1   text/x-wiki   \n",
       "213116127  dcbeb02c588243344ea13546d1af22ff2094b144   text/x-wiki   \n",
       "213112685  6dde12a7c19e3b35c1ada7e9710bc4bc0bbd1000   text/x-wiki   \n",
       "213112419  58af505b6de17df745ca7195ff1c6e3f3209019f   text/x-wiki   \n",
       "...                                             ...           ...   \n",
       "187698498  a5edab797b76049e9ea16bcedfa344f32ffcc2b4   text/x-wiki   \n",
       "187698477  5c635618ea2aa5e8c5c45149ede212b6fd14eb25   text/x-wiki   \n",
       "187698235  1302775668cba51500875d735daa91ef36a23a5d   text/x-wiki   \n",
       "187687803  162fce07b8e14a45e6df21ac80c3e8463475c870   text/x-wiki   \n",
       "187687586  f3273cf9aacad8cd19c888ad75e64fd535041967   text/x-wiki   \n",
       "\n",
       "          contentmodel                                            comment  \\\n",
       "revid                                                                       \n",
       "213316157     wikitext  Ajout rapide de {{palette}} : + Transidentité ...   \n",
       "213116201     wikitext                                          maladroit   \n",
       "213116127     wikitext                                     /* Carrière */   \n",
       "213112685     wikitext           /* Carrière */ formulation moins ambiguë   \n",
       "213112419     wikitext  Annulation de la [[Special:Diff/213112061|modi...   \n",
       "...                ...                                                ...   \n",
       "187698498     wikitext                               /* Carrière */ ajout   \n",
       "187698477     wikitext                          /* Carrière */ correction   \n",
       "187698235     wikitext              /* Liens externes */ ajout paragraphe   \n",
       "187687803     wikitext                          /* Jeunesse */ correction   \n",
       "187687586     wikitext                                           création   \n",
       "\n",
       "                                                           * anon  \n",
       "revid                                                              \n",
       "213316157  {{Semi-protection longue}}\\n{{Voir homonymes|F...  NaN  \n",
       "213116201  {{Semi-protection longue}}\\n{{Voir homonymes|F...  NaN  \n",
       "213116127  {{Semi-protection longue}}\\n{{Voir homonymes|F...  NaN  \n",
       "213112685  {{Semi-protection longue}}\\n{{Voir homonymes|F...  NaN  \n",
       "213112419  {{Semi-protection longue}}\\n{{Voir homonymes|F...  NaN  \n",
       "...                                                      ...  ...  \n",
       "187698498  {{Voir homonymes|Furet (homonymie)}}\\n{{Infobo...  NaN  \n",
       "187698477  {{Voir homonymes|Furet (homonymie)}}\\n{{Infobo...  NaN  \n",
       "187698235  {{Voir homonymes|Furet (homonymie)}}\\n{{Infobo...  NaN  \n",
       "187687803  {{Voir homonymes|Furet (homonymie)}}\\n{{Infobo...  NaN  \n",
       "187687586  {{Voir homonymes|Furet (homonymie)}}\\n{{Infobo...  NaN  \n",
       "\n",
       "[242 rows x 11 columns]"
      ]
     },
     "execution_count": 6,
     "metadata": {},
     "output_type": "execute_result"
    }
   ],
   "source": [
    "revisions = (\n",
    "    pd\n",
    "    .DataFrame\n",
    "    .from_records(page.get_revisions())\n",
    "    .set_index('revid')\n",
    ")\n",
    "\n",
    "revisions"
   ]
  },
  {
   "cell_type": "code",
   "execution_count": 7,
   "id": "c589c8bc-5e6a-4361-bb5c-99b125c56fd4",
   "metadata": {
    "execution": {
     "iopub.execute_input": "2024-03-31T21:11:30.839844Z",
     "iopub.status.busy": "2024-03-31T21:11:30.839505Z",
     "iopub.status.idle": "2024-03-31T21:11:30.867913Z",
     "shell.execute_reply": "2024-03-31T21:11:30.867471Z"
    },
    "papermill": {
     "duration": 0.039112,
     "end_time": "2024-03-31T21:11:30.868767",
     "exception": false,
     "start_time": "2024-03-31T21:11:30.829655",
     "status": "completed"
    },
    "tags": []
   },
   "outputs": [],
   "source": [
    "revisions.to_csv(f'../data/page-revisions/{page_name.lower()}.csv')"
   ]
  },
  {
   "cell_type": "code",
   "execution_count": 8,
   "id": "32533855-d09c-42e1-9071-35f10655dcd8",
   "metadata": {
    "execution": {
     "iopub.execute_input": "2024-03-31T21:11:30.872998Z",
     "iopub.status.busy": "2024-03-31T21:11:30.872915Z",
     "iopub.status.idle": "2024-03-31T21:11:30.874649Z",
     "shell.execute_reply": "2024-03-31T21:11:30.874452Z"
    },
    "papermill": {
     "duration": 0.004574,
     "end_time": "2024-03-31T21:11:30.875214",
     "exception": false,
     "start_time": "2024-03-31T21:11:30.870640",
     "status": "completed"
    },
    "tags": []
   },
   "outputs": [],
   "source": [
    "def decode(string):\n",
    "    return base64.b64decode(string).decode(\"utf-8\")"
   ]
  },
  {
   "cell_type": "code",
   "execution_count": 9,
   "id": "bea34dc6-f504-44a9-846f-39e8401c62f7",
   "metadata": {
    "execution": {
     "iopub.execute_input": "2024-03-31T21:11:30.879437Z",
     "iopub.status.busy": "2024-03-31T21:11:30.879316Z",
     "iopub.status.idle": "2024-03-31T21:11:31.097435Z",
     "shell.execute_reply": "2024-03-31T21:11:31.097151Z"
    },
    "papermill": {
     "duration": 0.221141,
     "end_time": "2024-03-31T21:11:31.098057",
     "exception": false,
     "start_time": "2024-03-31T21:11:30.876916",
     "status": "completed"
    },
    "tags": []
   },
   "outputs": [
    {
     "data": {
      "text/plain": [
       "<Axes: xlabel='date'>"
      ]
     },
     "execution_count": 9,
     "metadata": {},
     "output_type": "execute_result"
    },
    {
     "data": {
      "image/png": "[encoded data removed]",
      "text/plain": [
       "<Figure size 1500x1000 with 1 Axes>"
      ]
     },
     "metadata": {},
     "output_type": "display_data"
    }
   ],
   "source": [
    "(\n",
    "    revisions\n",
    "    .assign(\n",
    "        deadnames = lambda df: df['*'].apply(lambda x: str(x).lower().count(decode(dead_name).lower()))\n",
    "    )\n",
    "    #.reset_index()\n",
    "    [['timestamp', 'deadnames']]\n",
    "    .assign(\n",
    "        date = lambda df: pd.to_datetime(df.timestamp).dt.date\n",
    "    )\n",
    "    .groupby('date')\n",
    "    .agg({'deadnames': 'mean'})\n",
    "    .plot\n",
    "    .line(\n",
    "        figsize=(15,10)\n",
    "    )\n",
    ")"
   ]
  },
  {
   "cell_type": "code",
   "execution_count": 10,
   "id": "ca8a4ed9-db8d-4e1b-9f65-dfddd22ed89f",
   "metadata": {
    "execution": {
     "iopub.execute_input": "2024-03-31T21:11:31.109412Z",
     "iopub.status.busy": "2024-03-31T21:11:31.108930Z",
     "iopub.status.idle": "2024-03-31T21:12:51.233794Z",
     "shell.execute_reply": "2024-03-31T21:12:51.232402Z"
    },
    "papermill": {
     "duration": 80.136337,
     "end_time": "2024-03-31T21:12:51.236620",
     "exception": false,
     "start_time": "2024-03-31T21:11:31.100283",
     "status": "completed"
    },
    "tags": []
   },
   "outputs": [
    {
     "name": "stderr",
     "output_type": "stream",
     "text": [
      "100%|██████████| 242/242 [01:20<00:00,  3.02it/s]\n"
     ]
    }
   ],
   "source": [
    "def get_diff(revid):\n",
    "    return page.get_diff(revid)\n",
    "\n",
    "diffs = revisions.reset_index().revid.progress_apply(lambda x: page.extract_plusminus(get_diff(x))['added'] )\n",
    "\n",
    "#diffs"
   ]
  },
  {
   "cell_type": "markdown",
   "id": "49e1e9d0-0960-4573-a7d3-a7a218c3c34f",
   "metadata": {
    "papermill": {
     "duration": 0.007981,
     "end_time": "2024-03-31T21:12:51.263251",
     "exception": false,
     "start_time": "2024-03-31T21:12:51.255270",
     "status": "completed"
    },
    "tags": []
   },
   "source": [
    "### depuis le coming out"
   ]
  },
  {
   "cell_type": "code",
   "execution_count": 11,
   "id": "308c3a1c-e446-42b8-b087-915ff9fdf05f",
   "metadata": {
    "execution": {
     "iopub.execute_input": "2024-03-31T21:12:51.274850Z",
     "iopub.status.busy": "2024-03-31T21:12:51.274729Z",
     "iopub.status.idle": "2024-03-31T21:12:51.280346Z",
     "shell.execute_reply": "2024-03-31T21:12:51.280161Z"
    },
    "papermill": {
     "duration": 0.012288,
     "end_time": "2024-03-31T21:12:51.280996",
     "exception": false,
     "start_time": "2024-03-31T21:12:51.268708",
     "status": "completed"
    },
    "tags": []
   },
   "outputs": [
    {
     "data": {
      "text/plain": [
       "user\n",
       "Evynrhud          14\n",
       "Eliedion           8\n",
       "Cymbella           7\n",
       "JohnNewton8        6\n",
       "Lewisiscrazy       6\n",
       "Salebot            5\n",
       "Sherwood6          4\n",
       "Le chat perché     4\n",
       "ManuRoquette       3\n",
       "Kirham             3\n",
       "Name: deadname_count, dtype: int64"
      ]
     },
     "execution_count": 11,
     "metadata": {},
     "output_type": "execute_result"
    }
   ],
   "source": [
    "(\n",
    "    revisions\n",
    "    .assign(\n",
    "        deadname_count = [ ' '.join(added).lower().count(decode(dead_name).lower()) for added in diffs ]\n",
    "    )\n",
    "    # on ne garde que les contributions après son coming out\n",
    "    .pipe(lambda df: df.query(f'timestamp >= \"{co_date}\"') if co_date != None else df)\n",
    "    .groupby('user')\n",
    "    .deadname_count\n",
    "    .sum()\n",
    "    .sort_values(ascending=False)\n",
    "    .head(10)\n",
    ")"
   ]
  },
  {
   "cell_type": "markdown",
   "id": "cdbf2cbe-7d9c-458a-8bb5-7554dbb954b5",
   "metadata": {
    "papermill": {
     "duration": 0.005906,
     "end_time": "2024-03-31T21:12:51.292731",
     "exception": false,
     "start_time": "2024-03-31T21:12:51.286825",
     "status": "completed"
    },
    "tags": []
   },
   "source": [
    "### depuis le début du sondage"
   ]
  },
  {
   "cell_type": "code",
   "execution_count": 12,
   "id": "e75e4ded-3e9d-45a6-bdd7-0af3b6f8b8ee",
   "metadata": {
    "execution": {
     "iopub.execute_input": "2024-03-31T21:12:51.304685Z",
     "iopub.status.busy": "2024-03-31T21:12:51.304441Z",
     "iopub.status.idle": "2024-03-31T21:12:51.308939Z",
     "shell.execute_reply": "2024-03-31T21:12:51.308734Z"
    },
    "papermill": {
     "duration": 0.011033,
     "end_time": "2024-03-31T21:12:51.309533",
     "exception": false,
     "start_time": "2024-03-31T21:12:51.298500",
     "status": "completed"
    },
    "tags": []
   },
   "outputs": [
    {
     "data": {
      "text/plain": [
       "user\n",
       "Sherwood6          4\n",
       "Andreafuret1106    0\n",
       "Cymbella           0\n",
       "DarkVador79-UA     0\n",
       "JohnNewton8        0\n",
       "Machaonix          0\n",
       "Msbbb              0\n",
       "Shev123            0\n",
       "TwoWings           0\n",
       "Victoire F.        0\n",
       "Name: deadname_count, dtype: int64"
      ]
     },
     "execution_count": 12,
     "metadata": {},
     "output_type": "execute_result"
    }
   ],
   "source": [
    "(\n",
    "    revisions\n",
    "    .assign(\n",
    "        deadname_count = [ ' '.join(added).lower().count(decode(dead_name).lower()) for added in diffs ]\n",
    "    )\n",
    "    # début du sondage\n",
    "    .query('timestamp >= \"2024-02-12\"')\n",
    "    .groupby('user')\n",
    "    .deadname_count\n",
    "    .sum()\n",
    "    .sort_values(ascending=False)\n",
    "    .head(20)\n",
    ")"
   ]
  },
  {
   "cell_type": "code",
   "execution_count": 13,
   "id": "7e9a0650-90e2-4d49-9fec-7d015b4a75dc",
   "metadata": {
    "execution": {
     "iopub.execute_input": "2024-03-31T21:12:51.321216Z",
     "iopub.status.busy": "2024-03-31T21:12:51.321147Z",
     "iopub.status.idle": "2024-03-31T21:12:51.344488Z",
     "shell.execute_reply": "2024-03-31T21:12:51.344282Z"
    },
    "papermill": {
     "duration": 0.029963,
     "end_time": "2024-03-31T21:12:51.345119",
     "exception": false,
     "start_time": "2024-03-31T21:12:51.315156",
     "status": "completed"
    },
    "tags": []
   },
   "outputs": [
    {
     "data": {
      "text/html": [
       "<style type=\"text/css\">\n",
       "</style>\n",
       "<table id=\"T_1827e\">\n",
       "  <thead>\n",
       "    <tr>\n",
       "      <th class=\"blank level0\" >&nbsp;</th>\n",
       "      <th id=\"T_1827e_level0_col0\" class=\"col_heading level0 col0\" >user</th>\n",
       "      <th id=\"T_1827e_level0_col1\" class=\"col_heading level0 col1\" >deadname_count</th>\n",
       "      <th id=\"T_1827e_level0_col2\" class=\"col_heading level0 col2\" >timestamp</th>\n",
       "    </tr>\n",
       "    <tr>\n",
       "      <th class=\"index_name level0\" >revid</th>\n",
       "      <th class=\"blank col0\" >&nbsp;</th>\n",
       "      <th class=\"blank col1\" >&nbsp;</th>\n",
       "      <th class=\"blank col2\" >&nbsp;</th>\n",
       "    </tr>\n",
       "  </thead>\n",
       "  <tbody>\n",
       "    <tr>\n",
       "      <th id=\"T_1827e_level0_row0\" class=\"row_heading level0 row0\" ><a href=\"https://fr.wikipedia.org/w/index.php?title=Andréa_Furet&diff=prev&oldid=213043964\">213043964</a></th>\n",
       "      <td id=\"T_1827e_row0_col0\" class=\"data row0 col0\" >Sherwood6</td>\n",
       "      <td id=\"T_1827e_row0_col1\" class=\"data row0 col1\" >4</td>\n",
       "      <td id=\"T_1827e_row0_col2\" class=\"data row0 col2\" >2024-03-04T15:36:51Z</td>\n",
       "    </tr>\n",
       "    <tr>\n",
       "      <th id=\"T_1827e_level0_row1\" class=\"row_heading level0 row1\" ><a href=\"https://fr.wikipedia.org/w/index.php?title=Andréa_Furet&diff=prev&oldid=212190917\">212190917</a></th>\n",
       "      <td id=\"T_1827e_row1_col0\" class=\"data row1 col0\" >Lewisiscrazy</td>\n",
       "      <td id=\"T_1827e_row1_col1\" class=\"data row1 col1\" >6</td>\n",
       "      <td id=\"T_1827e_row1_col2\" class=\"data row1 col2\" >2024-02-05T22:40:00Z</td>\n",
       "    </tr>\n",
       "    <tr>\n",
       "      <th id=\"T_1827e_level0_row2\" class=\"row_heading level0 row2\" ><a href=\"https://fr.wikipedia.org/w/index.php?title=Andréa_Furet&diff=prev&oldid=212088329\">212088329</a></th>\n",
       "      <td id=\"T_1827e_row2_col0\" class=\"data row2 col0\" >Eliedion</td>\n",
       "      <td id=\"T_1827e_row2_col1\" class=\"data row2 col1\" >2</td>\n",
       "      <td id=\"T_1827e_row2_col2\" class=\"data row2 col2\" >2024-02-02T17:16:30Z</td>\n",
       "    </tr>\n",
       "  </tbody>\n",
       "</table>\n"
      ],
      "text/plain": [
       "<pandas.io.formats.style.Styler at 0x795cc33a42b0>"
      ]
     },
     "execution_count": 13,
     "metadata": {},
     "output_type": "execute_result"
    }
   ],
   "source": [
    "(\n",
    "    revisions\n",
    "    .assign(\n",
    "        deadname_count = [ ' '.join(added).lower().count(decode(dead_name).lower()) for added in diffs ]\n",
    "    )\n",
    "    # début du sondage\n",
    "    .query('timestamp >= \"2024-01-15\"')\n",
    "    .query('deadname_count > 0')\n",
    "    [['user', 'deadname_count', 'timestamp']]\n",
    "    .style\n",
    "    .format_index(lambda x: format_revid_index(x, page_name))\n",
    ")"
   ]
  },
  {
   "cell_type": "markdown",
   "id": "b4ae0d43-e0f3-403f-8d77-06778155c12d",
   "metadata": {
    "papermill": {
     "duration": 0.005773,
     "end_time": "2024-03-31T21:12:51.356780",
     "exception": false,
     "start_time": "2024-03-31T21:12:51.351007",
     "status": "completed"
    },
    "tags": []
   },
   "source": [
    "## Discussions"
   ]
  },
  {
   "cell_type": "code",
   "execution_count": 14,
   "id": "65c5a95c-6148-4099-bcec-47e23701d260",
   "metadata": {
    "execution": {
     "iopub.execute_input": "2024-03-31T21:12:51.369127Z",
     "iopub.status.busy": "2024-03-31T21:12:51.368957Z",
     "iopub.status.idle": "2024-03-31T21:12:51.669435Z",
     "shell.execute_reply": "2024-03-31T21:12:51.667437Z"
    },
    "papermill": {
     "duration": 0.309937,
     "end_time": "2024-03-31T21:12:51.672625",
     "exception": false,
     "start_time": "2024-03-31T21:12:51.362688",
     "status": "completed"
    },
    "tags": []
   },
   "outputs": [],
   "source": [
    "talk = Page(f'Discussion:{page_name}', lang='fr')"
   ]
  },
  {
   "cell_type": "code",
   "execution_count": 15,
   "id": "f1aaec90-5c20-4488-a9aa-11da50fd1cf6",
   "metadata": {
    "execution": {
     "iopub.execute_input": "2024-03-31T21:12:51.698674Z",
     "iopub.status.busy": "2024-03-31T21:12:51.698578Z",
     "iopub.status.idle": "2024-03-31T21:13:42.707407Z",
     "shell.execute_reply": "2024-03-31T21:13:42.707176Z"
    },
    "papermill": {
     "duration": 51.018738,
     "end_time": "2024-03-31T21:13:42.708170",
     "exception": false,
     "start_time": "2024-03-31T21:12:51.689432",
     "status": "completed"
    },
    "tags": []
   },
   "outputs": [
    {
     "name": "stderr",
     "output_type": "stream",
     "text": [
      "100%|██████████| 145/145 [00:50<00:00,  2.88it/s]\n"
     ]
    }
   ],
   "source": [
    "talk_revisions = (\n",
    "    pd\n",
    "    .DataFrame\n",
    "    .from_records(talk.get_revisions_list())\n",
    "    .assign(\n",
    "        diff = lambda df: df.revid.progress_apply(lambda x: talk.get_diff(x)),\n",
    "        deleted = lambda df: df['diff'].apply(lambda diff: talk.extract_plusminus(diff)['deleted']),\n",
    "        added = lambda df: df['diff'].apply(lambda diff: talk.extract_plusminus(diff)['added']),\n",
    "    )\n",
    "    .set_index('revid')\n",
    ")\n",
    "\n",
    "#talk_revisions"
   ]
  },
  {
   "cell_type": "code",
   "execution_count": 16,
   "id": "25ec8a7b-a133-458e-bad3-331c8f41b851",
   "metadata": {
    "execution": {
     "iopub.execute_input": "2024-03-31T21:13:42.725639Z",
     "iopub.status.busy": "2024-03-31T21:13:42.725504Z",
     "iopub.status.idle": "2024-03-31T21:13:42.732144Z",
     "shell.execute_reply": "2024-03-31T21:13:42.731886Z"
    },
    "papermill": {
     "duration": 0.016381,
     "end_time": "2024-03-31T21:13:42.732910",
     "exception": false,
     "start_time": "2024-03-31T21:13:42.716529",
     "status": "completed"
    },
    "tags": []
   },
   "outputs": [],
   "source": [
    "talk_revisions.to_csv(f'../data/page-diffs/discussion:{page_name.lower()}.csv')"
   ]
  },
  {
   "cell_type": "markdown",
   "id": "4d1737c2-1d19-48bb-925f-f3a73fc7c585",
   "metadata": {
    "papermill": {
     "duration": 0.008304,
     "end_time": "2024-03-31T21:13:42.749383",
     "exception": false,
     "start_time": "2024-03-31T21:13:42.741079",
     "status": "completed"
    },
    "tags": []
   },
   "source": [
    "### depuis le coming out"
   ]
  },
  {
   "cell_type": "code",
   "execution_count": 17,
   "id": "0e863939-69ce-43d1-a48c-ed831817f6c6",
   "metadata": {
    "execution": {
     "iopub.execute_input": "2024-03-31T21:13:42.765633Z",
     "iopub.status.busy": "2024-03-31T21:13:42.765546Z",
     "iopub.status.idle": "2024-03-31T21:13:42.769321Z",
     "shell.execute_reply": "2024-03-31T21:13:42.769134Z"
    },
    "papermill": {
     "duration": 0.012819,
     "end_time": "2024-03-31T21:13:42.770043",
     "exception": false,
     "start_time": "2024-03-31T21:13:42.757224",
     "status": "completed"
    },
    "tags": []
   },
   "outputs": [
    {
     "data": {
      "text/plain": [
       "user\n",
       "Evynrhud                                  10\n",
       "Eliedion                                   8\n",
       "JohnNewton8                                8\n",
       "ManuRoquette                               8\n",
       "Sherwood6                                  7\n",
       "TwoWings                                   4\n",
       "Scriptance                                 2\n",
       "Nattes à chat                              1\n",
       "Cymbella                                   1\n",
       "2A01:E34:EC21:C220:705E:43A2:413A:F3EA     0\n",
       "Name: deadname_count, dtype: int64"
      ]
     },
     "execution_count": 17,
     "metadata": {},
     "output_type": "execute_result"
    }
   ],
   "source": [
    "(\n",
    "    talk_revisions\n",
    "    .assign(\n",
    "        deadname_count = lambda df: df.added.apply(lambda x: ' '.join(x).lower().count(decode(dead_name).lower()))\n",
    "    )\n",
    "    # on ne garde que les contributions après son coming out\n",
    "    #.query('timestamp >= \"2013-08-22\"')\n",
    "    .groupby('user')\n",
    "    .deadname_count\n",
    "    .sum()\n",
    "    .sort_values(ascending=False)\n",
    "    .head(10)\n",
    ")"
   ]
  },
  {
   "cell_type": "markdown",
   "id": "f527cdea-8c65-45e8-8274-48ee9e2246b8",
   "metadata": {
    "papermill": {
     "duration": 0.007998,
     "end_time": "2024-03-31T21:13:42.786248",
     "exception": false,
     "start_time": "2024-03-31T21:13:42.778250",
     "status": "completed"
    },
    "tags": []
   },
   "source": [
    "### depuis le début du sondage"
   ]
  },
  {
   "cell_type": "code",
   "execution_count": 18,
   "id": "9e1a66e6-8622-4a4c-a031-95f1ee3e81b1",
   "metadata": {
    "execution": {
     "iopub.execute_input": "2024-03-31T21:13:42.802444Z",
     "iopub.status.busy": "2024-03-31T21:13:42.802340Z",
     "iopub.status.idle": "2024-03-31T21:13:42.806876Z",
     "shell.execute_reply": "2024-03-31T21:13:42.806686Z"
    },
    "papermill": {
     "duration": 0.013547,
     "end_time": "2024-03-31T21:13:42.807591",
     "exception": false,
     "start_time": "2024-03-31T21:13:42.794044",
     "status": "completed"
    },
    "tags": []
   },
   "outputs": [
    {
     "data": {
      "text/plain": [
       "user\n",
       "Sherwood6        7\n",
       "Anne Daemon      0\n",
       "Eliedion         0\n",
       "JohnNewton8      0\n",
       "Kvardek du       0\n",
       "Pic-Sou          0\n",
       "Shev123          0\n",
       "Vache-crapaud    0\n",
       "Name: deadname_count, dtype: int64"
      ]
     },
     "execution_count": 18,
     "metadata": {},
     "output_type": "execute_result"
    }
   ],
   "source": [
    "(\n",
    "    talk_revisions\n",
    "    .assign(\n",
    "        deadname_count = lambda df: df.added.apply(lambda x: ' '.join(x).lower().count(decode(dead_name).lower()))\n",
    "    )\n",
    "    # depuis le sondage\n",
    "    .query('timestamp >= \"2024-02-12\"')\n",
    "    .groupby('user')\n",
    "    .deadname_count\n",
    "    .sum()\n",
    "    .sort_values(ascending=False)\n",
    "    .head(10)\n",
    ")"
   ]
  },
  {
   "cell_type": "code",
   "execution_count": 19,
   "id": "63fb08f4-6403-42c9-87ea-7851eb4853b9",
   "metadata": {
    "execution": {
     "iopub.execute_input": "2024-03-31T21:13:42.824261Z",
     "iopub.status.busy": "2024-03-31T21:13:42.824171Z",
     "iopub.status.idle": "2024-03-31T21:13:42.829562Z",
     "shell.execute_reply": "2024-03-31T21:13:42.829382Z"
    },
    "papermill": {
     "duration": 0.014458,
     "end_time": "2024-03-31T21:13:42.830280",
     "exception": false,
     "start_time": "2024-03-31T21:13:42.815822",
     "status": "completed"
    },
    "tags": []
   },
   "outputs": [
    {
     "data": {
      "text/html": [
       "<style type=\"text/css\">\n",
       "</style>\n",
       "<table id=\"T_913c6\">\n",
       "  <thead>\n",
       "    <tr>\n",
       "      <th class=\"blank level0\" >&nbsp;</th>\n",
       "      <th id=\"T_913c6_level0_col0\" class=\"col_heading level0 col0\" >user</th>\n",
       "      <th id=\"T_913c6_level0_col1\" class=\"col_heading level0 col1\" >deadname_count</th>\n",
       "      <th id=\"T_913c6_level0_col2\" class=\"col_heading level0 col2\" >timestamp</th>\n",
       "    </tr>\n",
       "    <tr>\n",
       "      <th class=\"index_name level0\" >revid</th>\n",
       "      <th class=\"blank col0\" >&nbsp;</th>\n",
       "      <th class=\"blank col1\" >&nbsp;</th>\n",
       "      <th class=\"blank col2\" >&nbsp;</th>\n",
       "    </tr>\n",
       "  </thead>\n",
       "  <tbody>\n",
       "    <tr>\n",
       "      <th id=\"T_913c6_level0_row0\" class=\"row_heading level0 row0\" ><a href=\"https://fr.wikipedia.org/w/index.php?title=Discussion:Andréa_Furet&diff=prev&oldid=213122402\">213122402</a></th>\n",
       "      <td id=\"T_913c6_row0_col0\" class=\"data row0 col0\" >Sherwood6</td>\n",
       "      <td id=\"T_913c6_row0_col1\" class=\"data row0 col1\" >1</td>\n",
       "      <td id=\"T_913c6_row0_col2\" class=\"data row0 col2\" >2024-03-06T22:17:24Z</td>\n",
       "    </tr>\n",
       "    <tr>\n",
       "      <th id=\"T_913c6_level0_row1\" class=\"row_heading level0 row1\" ><a href=\"https://fr.wikipedia.org/w/index.php?title=Discussion:Andréa_Furet&diff=prev&oldid=213115664\">213115664</a></th>\n",
       "      <td id=\"T_913c6_row1_col0\" class=\"data row1 col0\" >Sherwood6</td>\n",
       "      <td id=\"T_913c6_row1_col1\" class=\"data row1 col1\" >2</td>\n",
       "      <td id=\"T_913c6_row1_col2\" class=\"data row1 col2\" >2024-03-06T16:59:36Z</td>\n",
       "    </tr>\n",
       "    <tr>\n",
       "      <th id=\"T_913c6_level0_row2\" class=\"row_heading level0 row2\" ><a href=\"https://fr.wikipedia.org/w/index.php?title=Discussion:Andréa_Furet&diff=prev&oldid=213075687\">213075687</a></th>\n",
       "      <td id=\"T_913c6_row2_col0\" class=\"data row2 col0\" >Sherwood6</td>\n",
       "      <td id=\"T_913c6_row2_col1\" class=\"data row2 col1\" >2</td>\n",
       "      <td id=\"T_913c6_row2_col2\" class=\"data row2 col2\" >2024-03-05T11:55:45Z</td>\n",
       "    </tr>\n",
       "    <tr>\n",
       "      <th id=\"T_913c6_level0_row3\" class=\"row_heading level0 row3\" ><a href=\"https://fr.wikipedia.org/w/index.php?title=Discussion:Andréa_Furet&diff=prev&oldid=213071959\">213071959</a></th>\n",
       "      <td id=\"T_913c6_row3_col0\" class=\"data row3 col0\" >Sherwood6</td>\n",
       "      <td id=\"T_913c6_row3_col1\" class=\"data row3 col1\" >2</td>\n",
       "      <td id=\"T_913c6_row3_col2\" class=\"data row3 col2\" >2024-03-05T09:44:46Z</td>\n",
       "    </tr>\n",
       "  </tbody>\n",
       "</table>\n"
      ],
      "text/plain": [
       "<pandas.io.formats.style.Styler at 0x795cc1736440>"
      ]
     },
     "execution_count": 19,
     "metadata": {},
     "output_type": "execute_result"
    }
   ],
   "source": [
    "(\n",
    "    talk_revisions\n",
    "    .assign(\n",
    "        deadname_count = lambda df: df.added.apply(lambda x: ' '.join(x).lower().count(decode(dead_name).lower()))\n",
    "    )\n",
    "    # depuis le sondage\n",
    "    .query('timestamp >= \"2024-02-12\"')\n",
    "    .query('deadname_count > 0')\n",
    "    [['user', 'deadname_count', 'timestamp']]\n",
    "    .style\n",
    "    .format_index(lambda x : format_revid_index(x, f'Discussion:{page_name}'))\n",
    ")"
   ]
  },
  {
   "cell_type": "code",
   "execution_count": 20,
   "id": "27f65dc8-0dab-464f-931b-4498c241e3f5",
   "metadata": {
    "execution": {
     "iopub.execute_input": "2024-03-31T21:13:42.847909Z",
     "iopub.status.busy": "2024-03-31T21:13:42.847745Z",
     "iopub.status.idle": "2024-03-31T21:13:42.853142Z",
     "shell.execute_reply": "2024-03-31T21:13:42.852807Z"
    },
    "papermill": {
     "duration": 0.015191,
     "end_time": "2024-03-31T21:13:42.853886",
     "exception": false,
     "start_time": "2024-03-31T21:13:42.838695",
     "status": "completed"
    },
    "tags": []
   },
   "outputs": [
    {
     "data": {
      "text/plain": [
       "4"
      ]
     },
     "execution_count": 20,
     "metadata": {},
     "output_type": "execute_result"
    }
   ],
   "source": [
    "len(\n",
    "    talk_revisions\n",
    "    .assign(\n",
    "        deadname_count = lambda df: df.added.apply(lambda x: ' '.join(x).lower().count(decode(dead_name).lower()))\n",
    "    )\n",
    "    # depuis le sondage\n",
    "    .query('timestamp >= \"2024-02-12\"')\n",
    "    .query('deadname_count > 0')\n",
    "    [['user', 'deadname_count']]\n",
    ")"
   ]
  },
  {
   "cell_type": "code",
   "execution_count": null,
   "id": "f53cbc6c-c121-4c41-895b-60d2eafe8fbe",
   "metadata": {
    "papermill": {
     "duration": 0.008406,
     "end_time": "2024-03-31T21:13:42.870671",
     "exception": false,
     "start_time": "2024-03-31T21:13:42.862265",
     "status": "completed"
    },
    "tags": []
   },
   "outputs": [],
   "source": []
  }
 ],
 "metadata": {
  "kernelspec": {
   "display_name": "Python 3 (ipykernel)",
   "language": "python",
   "name": "python3"
  },
  "language_info": {
   "codemirror_mode": {
    "name": "ipython",
    "version": 3
   },
   "file_extension": ".py",
   "mimetype": "text/x-python",
   "name": "python",
   "nbconvert_exporter": "python",
   "pygments_lexer": "ipython3",
   "version": "3.10.12"
  },
  "papermill": {
   "default_parameters": {},
   "duration": 141.177183,
   "end_time": "2024-03-31T21:13:43.098071",
   "environment_variables": {},
   "exception": null,
   "input_path": "cook_template_deadname_watch.ipynb",
   "output_path": "cook_eda_deadnames_andréa_furet.ipynb",
   "parameters": {
    "co_date": "2019-06-01",
    "dead_name": "QWxleGFuZHJl",
    "name": "Andréa Furet",
    "page_name": "Andréa_Furet"
   },
   "start_time": "2024-03-31T21:11:21.920888",
   "version": "2.4.0"
  }
 },
 "nbformat": 4,
 "nbformat_minor": 5
}
