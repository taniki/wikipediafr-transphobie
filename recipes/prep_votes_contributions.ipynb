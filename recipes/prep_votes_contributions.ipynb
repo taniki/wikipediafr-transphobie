{
 "cells": [
  {
   "cell_type": "code",
   "execution_count": 24,
   "id": "933d2305-7080-4713-9e4d-55aa7e98b5da",
   "metadata": {},
   "outputs": [],
   "source": [
    "import pandas as pd\n",
    "from wekeypedia import WikipediaUser as User\n",
    "from tqdm import tqdm"
   ]
  },
  {
   "cell_type": "code",
   "execution_count": 10,
   "id": "fb0b13e0-0b28-43ce-8294-aade3acf2074",
   "metadata": {},
   "outputs": [
    {
     "data": {
      "text/html": [
       "<div>\n",
       "<style scoped>\n",
       "    .dataframe tbody tr th:only-of-type {\n",
       "        vertical-align: middle;\n",
       "    }\n",
       "\n",
       "    .dataframe tbody tr th {\n",
       "        vertical-align: top;\n",
       "    }\n",
       "\n",
       "    .dataframe thead th {\n",
       "        text-align: right;\n",
       "    }\n",
       "</style>\n",
       "<table border=\"1\" class=\"dataframe\">\n",
       "  <thead>\n",
       "    <tr style=\"text-align: right;\">\n",
       "      <th></th>\n",
       "      <th>path</th>\n",
       "      <th>user</th>\n",
       "      <th>vote</th>\n",
       "    </tr>\n",
       "  </thead>\n",
       "  <tbody>\n",
       "    <tr>\n",
       "      <th>0</th>\n",
       "      <td>/wiki/Utilisateur:Sherwood6</td>\n",
       "      <td>Sherwood6</td>\n",
       "      <td>oui</td>\n",
       "    </tr>\n",
       "    <tr>\n",
       "      <th>1</th>\n",
       "      <td>/wiki/Utilisatrice:Braveheidi</td>\n",
       "      <td>Braveheidi</td>\n",
       "      <td>oui</td>\n",
       "    </tr>\n",
       "    <tr>\n",
       "      <th>2</th>\n",
       "      <td>/wiki/Utilisateur:Caf%C3%A9Buzz</td>\n",
       "      <td>CaféBuzz</td>\n",
       "      <td>oui</td>\n",
       "    </tr>\n",
       "    <tr>\n",
       "      <th>3</th>\n",
       "      <td>/wiki/Utilisateur:DarkVador79-UA</td>\n",
       "      <td>DarkVador79-UA</td>\n",
       "      <td>oui</td>\n",
       "    </tr>\n",
       "    <tr>\n",
       "      <th>4</th>\n",
       "      <td>/wiki/Utilisateur:JohnNewton8</td>\n",
       "      <td>JohnNewton8</td>\n",
       "      <td>oui</td>\n",
       "    </tr>\n",
       "    <tr>\n",
       "      <th>...</th>\n",
       "      <td>...</td>\n",
       "      <td>...</td>\n",
       "      <td>...</td>\n",
       "    </tr>\n",
       "    <tr>\n",
       "      <th>297</th>\n",
       "      <td>/wiki/Utilisateur:Borvan53</td>\n",
       "      <td>Borvan53</td>\n",
       "      <td>neutre</td>\n",
       "    </tr>\n",
       "    <tr>\n",
       "      <th>298</th>\n",
       "      <td>/wiki/Utilisateur:Toghebon</td>\n",
       "      <td>Toghebon</td>\n",
       "      <td>neutre</td>\n",
       "    </tr>\n",
       "    <tr>\n",
       "      <th>299</th>\n",
       "      <td>/wiki/Utilisatrice:Frenouille</td>\n",
       "      <td>Frenouille</td>\n",
       "      <td>neutre</td>\n",
       "    </tr>\n",
       "    <tr>\n",
       "      <th>300</th>\n",
       "      <td>/wiki/Utilisatrice:Rartroz</td>\n",
       "      <td>Rartroz</td>\n",
       "      <td>neutre</td>\n",
       "    </tr>\n",
       "    <tr>\n",
       "      <th>301</th>\n",
       "      <td>/wiki/Utilisateur:Bischnu</td>\n",
       "      <td>Bischnu</td>\n",
       "      <td>neutre</td>\n",
       "    </tr>\n",
       "  </tbody>\n",
       "</table>\n",
       "<p>302 rows × 3 columns</p>\n",
       "</div>"
      ],
      "text/plain": [
       "                                 path            user    vote\n",
       "0         /wiki/Utilisateur:Sherwood6       Sherwood6     oui\n",
       "1       /wiki/Utilisatrice:Braveheidi      Braveheidi     oui\n",
       "2     /wiki/Utilisateur:Caf%C3%A9Buzz        CaféBuzz     oui\n",
       "3    /wiki/Utilisateur:DarkVador79-UA  DarkVador79-UA     oui\n",
       "4       /wiki/Utilisateur:JohnNewton8     JohnNewton8     oui\n",
       "..                                ...             ...     ...\n",
       "297        /wiki/Utilisateur:Borvan53        Borvan53  neutre\n",
       "298        /wiki/Utilisateur:Toghebon        Toghebon  neutre\n",
       "299     /wiki/Utilisatrice:Frenouille      Frenouille  neutre\n",
       "300        /wiki/Utilisatrice:Rartroz         Rartroz  neutre\n",
       "301         /wiki/Utilisateur:Bischnu         Bischnu  neutre\n",
       "\n",
       "[302 rows x 3 columns]"
      ]
     },
     "execution_count": 10,
     "metadata": {},
     "output_type": "execute_result"
    }
   ],
   "source": [
    "votes = pd.read_csv('../data/votes-q1.csv')\n",
    "\n",
    "votes"
   ]
  },
  {
   "cell_type": "code",
   "execution_count": null,
   "id": "685dbc81-d56f-4326-b8a0-7a6754091f9c",
   "metadata": {},
   "outputs": [
    {
     "name": "stderr",
     "output_type": "stream",
     "text": [
      "100%|████████████████████████████████████████████████████████████████████| 302/302 [3:11:36<00:00, 38.07s/it]\n"
     ]
    }
   ],
   "source": [
    "for user in tqdm(votes.user):\n",
    "    wkp_user = User(name=user, lang='fr')\n",
    "    contribs = wkp_user.fetch_contribs()\n",
    "    df = pd.DataFrame.from_records(contribs)\n",
    "    df.to_csv(f'../data/user-logs/{user.lower()}.csv', index=False)"
   ]
  }
 ],
 "metadata": {
  "kernelspec": {
   "display_name": "Python 3 (ipykernel)",
   "language": "python",
   "name": "python3"
  },
  "language_info": {
   "codemirror_mode": {
    "name": "ipython",
    "version": 3
   },
   "file_extension": ".py",
   "mimetype": "text/x-python",
   "name": "python",
   "nbconvert_exporter": "python",
   "pygments_lexer": "ipython3",
   "version": "3.10.12"
  }
 },
 "nbformat": 4,
 "nbformat_minor": 5
}
