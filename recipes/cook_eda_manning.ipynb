{
 "cells": [
  {
   "cell_type": "code",
   "execution_count": 1,
   "id": "2ad56d7a-56a0-4f9e-a19d-906c01ac23f1",
   "metadata": {},
   "outputs": [],
   "source": [
    "import pandas as pd\n",
    "from bs4 import BeautifulSoup\n",
    "from tqdm import tqdm\n",
    "import base64\n",
    "\n",
    "tqdm.pandas()\n",
    "from wekeypedia import WikipediaPage as Page"
   ]
  },
  {
   "cell_type": "code",
   "execution_count": 2,
   "id": "23765632-31c5-4a46-a008-89df2f3fb17a",
   "metadata": {},
   "outputs": [],
   "source": [
    "name = 'Chelsea Manning'\n",
    "dead_name = b'QnJhZGxleQ=='"
   ]
  },
  {
   "cell_type": "markdown",
   "id": "5cc2bf74-9863-42ee-a757-703825106697",
   "metadata": {},
   "source": [
    "# qui sont personnes qui énoncent le deadname dans l'article ?"
   ]
  },
  {
   "cell_type": "markdown",
   "id": "ef5929df-44e4-4ab2-a25b-25c1db364961",
   "metadata": {},
   "source": [
    "## article"
   ]
  },
  {
   "cell_type": "code",
   "execution_count": 3,
   "id": "eed28b1e-97c4-4eab-9ead-6a8b55b85187",
   "metadata": {},
   "outputs": [],
   "source": [
    "page = Page('Chelsea_Manning', lang='fr')"
   ]
  },
  {
   "cell_type": "code",
   "execution_count": 4,
   "id": "e496177f-af35-4c14-84a2-40f86b9a0309",
   "metadata": {},
   "outputs": [
    {
     "data": {
      "text/html": [
       "<div>\n",
       "<style scoped>\n",
       "    .dataframe tbody tr th:only-of-type {\n",
       "        vertical-align: middle;\n",
       "    }\n",
       "\n",
       "    .dataframe tbody tr th {\n",
       "        vertical-align: top;\n",
       "    }\n",
       "\n",
       "    .dataframe thead th {\n",
       "        text-align: right;\n",
       "    }\n",
       "</style>\n",
       "<table border=\"1\" class=\"dataframe\">\n",
       "  <thead>\n",
       "    <tr style=\"text-align: right;\">\n",
       "      <th></th>\n",
       "      <th>parentid</th>\n",
       "      <th>user</th>\n",
       "      <th>userid</th>\n",
       "      <th>timestamp</th>\n",
       "      <th>size</th>\n",
       "      <th>sha1</th>\n",
       "      <th>contentformat</th>\n",
       "      <th>contentmodel</th>\n",
       "      <th>comment</th>\n",
       "      <th>*</th>\n",
       "      <th>anon</th>\n",
       "    </tr>\n",
       "    <tr>\n",
       "      <th>revid</th>\n",
       "      <th></th>\n",
       "      <th></th>\n",
       "      <th></th>\n",
       "      <th></th>\n",
       "      <th></th>\n",
       "      <th></th>\n",
       "      <th></th>\n",
       "      <th></th>\n",
       "      <th></th>\n",
       "      <th></th>\n",
       "      <th></th>\n",
       "    </tr>\n",
       "  </thead>\n",
       "  <tbody>\n",
       "    <tr>\n",
       "      <th>213078305</th>\n",
       "      <td>213074072</td>\n",
       "      <td>Cymbella</td>\n",
       "      <td>316223</td>\n",
       "      <td>2024-03-05T13:35:19Z</td>\n",
       "      <td>65080</td>\n",
       "      <td>d04ef73a4963672590b9abbc80020d18c74cc1dc</td>\n",
       "      <td>text/x-wiki</td>\n",
       "      <td>wikitext</td>\n",
       "      <td>/* Retour aux États-Unis */ style</td>\n",
       "      <td>{{homon|Manning}}\\n{{Nom protégé}}\\n{{Infobox ...</td>\n",
       "      <td>NaN</td>\n",
       "    </tr>\n",
       "    <tr>\n",
       "      <th>213074072</th>\n",
       "      <td>213073964</td>\n",
       "      <td>Chouette bougonne</td>\n",
       "      <td>4364626</td>\n",
       "      <td>2024-03-05T10:51:07Z</td>\n",
       "      <td>65092</td>\n",
       "      <td>43d85c1b04a6ae3fc2edc14de66e944f20eff16f</td>\n",
       "      <td>text/x-wiki</td>\n",
       "      <td>wikitext</td>\n",
       "      <td>Annulation de la [[Special:Diff/213073964|modi...</td>\n",
       "      <td>{{homon|Manning}}\\n{{Nom protégé}}\\n{{Infobox ...</td>\n",
       "      <td>NaN</td>\n",
       "    </tr>\n",
       "    <tr>\n",
       "      <th>213073964</th>\n",
       "      <td>213073846</td>\n",
       "      <td>Nattes à chat</td>\n",
       "      <td>1372207</td>\n",
       "      <td>2024-03-05T10:47:17Z</td>\n",
       "      <td>65136</td>\n",
       "      <td>8f7278cdad94fda6a4f2793564384ad5a6c97131</td>\n",
       "      <td>text/x-wiki</td>\n",
       "      <td>wikitext</td>\n",
       "      <td>Ajout de {{[[Modèle:Désaccord de pertinence|Dé...</td>\n",
       "      <td>{{Désaccord de pertinence|date=mars 2024}}\\n{{...</td>\n",
       "      <td>NaN</td>\n",
       "    </tr>\n",
       "    <tr>\n",
       "      <th>213073846</th>\n",
       "      <td>213073767</td>\n",
       "      <td>Chouette bougonne</td>\n",
       "      <td>4364626</td>\n",
       "      <td>2024-03-05T10:43:25Z</td>\n",
       "      <td>65092</td>\n",
       "      <td>43d85c1b04a6ae3fc2edc14de66e944f20eff16f</td>\n",
       "      <td>text/x-wiki</td>\n",
       "      <td>wikitext</td>\n",
       "      <td>Annulation de la [[Special:Diff/213073767|modi...</td>\n",
       "      <td>{{homon|Manning}}\\n{{Nom protégé}}\\n{{Infobox ...</td>\n",
       "      <td>NaN</td>\n",
       "    </tr>\n",
       "    <tr>\n",
       "      <th>213073767</th>\n",
       "      <td>213070331</td>\n",
       "      <td>Nattes à chat</td>\n",
       "      <td>1372207</td>\n",
       "      <td>2024-03-05T10:40:57Z</td>\n",
       "      <td>65130</td>\n",
       "      <td>0078220eb8337292b9609f41db561956389c40ad</td>\n",
       "      <td>text/x-wiki</td>\n",
       "      <td>wikitext</td>\n",
       "      <td>Ajout de {{[[Modèle:Article non neutre|Article...</td>\n",
       "      <td>{{Article non neutre|date=mars 2024}}\\n{{homon...</td>\n",
       "      <td>NaN</td>\n",
       "    </tr>\n",
       "    <tr>\n",
       "      <th>...</th>\n",
       "      <td>...</td>\n",
       "      <td>...</td>\n",
       "      <td>...</td>\n",
       "      <td>...</td>\n",
       "      <td>...</td>\n",
       "      <td>...</td>\n",
       "      <td>...</td>\n",
       "      <td>...</td>\n",
       "      <td>...</td>\n",
       "      <td>...</td>\n",
       "      <td>...</td>\n",
       "    </tr>\n",
       "    <tr>\n",
       "      <th>55885071</th>\n",
       "      <td>55855880</td>\n",
       "      <td>82.234.40.89</td>\n",
       "      <td>0</td>\n",
       "      <td>2010-08-05T20:06:06Z</td>\n",
       "      <td>3209</td>\n",
       "      <td>268905c1fab752a4753f263f7b687d9bedc1c411</td>\n",
       "      <td>text/x-wiki</td>\n",
       "      <td>wikitext</td>\n",
       "      <td></td>\n",
       "      <td>'''Bradley Manning''' (né en 1987) est un anna...</td>\n",
       "      <td></td>\n",
       "    </tr>\n",
       "    <tr>\n",
       "      <th>55855880</th>\n",
       "      <td>55774595</td>\n",
       "      <td>Luckas-bot</td>\n",
       "      <td>414968</td>\n",
       "      <td>2010-08-04T20:07:22Z</td>\n",
       "      <td>3205</td>\n",
       "      <td>a5648276e079e211eb19dbd0a985d04c55f6dd59</td>\n",
       "      <td>text/x-wiki</td>\n",
       "      <td>wikitext</td>\n",
       "      <td>robot Ajoute: [[es:Bradley Manning]]</td>\n",
       "      <td>'''Bradley Manning''' (né en 1987) est un anna...</td>\n",
       "      <td>NaN</td>\n",
       "    </tr>\n",
       "    <tr>\n",
       "      <th>55774595</th>\n",
       "      <td>55774530</td>\n",
       "      <td>84.164.59.139</td>\n",
       "      <td>0</td>\n",
       "      <td>2010-08-02T09:43:44Z</td>\n",
       "      <td>3182</td>\n",
       "      <td>3367b7c2dbb06761ea755ec510ffe74ec932014d</td>\n",
       "      <td>text/x-wiki</td>\n",
       "      <td>wikitext</td>\n",
       "      <td>création de la page depuis la version englaise...</td>\n",
       "      <td>'''Bradley Manning''' (né en 1987) est un anna...</td>\n",
       "      <td></td>\n",
       "    </tr>\n",
       "    <tr>\n",
       "      <th>55774530</th>\n",
       "      <td>55774468</td>\n",
       "      <td>84.164.59.139</td>\n",
       "      <td>0</td>\n",
       "      <td>2010-08-02T09:41:11Z</td>\n",
       "      <td>3594</td>\n",
       "      <td>027063c2a24987a0714349b45ef61b2cde17b2bd</td>\n",
       "      <td>text/x-wiki</td>\n",
       "      <td>wikitext</td>\n",
       "      <td></td>\n",
       "      <td>'''Bradley Manning''' (né en 1987) est un anna...</td>\n",
       "      <td></td>\n",
       "    </tr>\n",
       "    <tr>\n",
       "      <th>55774468</th>\n",
       "      <td>0</td>\n",
       "      <td>84.164.59.139</td>\n",
       "      <td>0</td>\n",
       "      <td>2010-08-02T09:38:54Z</td>\n",
       "      <td>3591</td>\n",
       "      <td>554ff2e0f9b368e2d8d923a759afd906d872f930</td>\n",
       "      <td>text/x-wiki</td>\n",
       "      <td>wikitext</td>\n",
       "      <td>Nouvelle page : '''Bradley Manning''' (né en 1...</td>\n",
       "      <td>'''Bradley Manning''' (né en 1987) est un anna...</td>\n",
       "      <td></td>\n",
       "    </tr>\n",
       "  </tbody>\n",
       "</table>\n",
       "<p>1060 rows × 11 columns</p>\n",
       "</div>"
      ],
      "text/plain": [
       "            parentid               user   userid             timestamp   size  \\\n",
       "revid                                                                           \n",
       "213078305  213074072           Cymbella   316223  2024-03-05T13:35:19Z  65080   \n",
       "213074072  213073964  Chouette bougonne  4364626  2024-03-05T10:51:07Z  65092   \n",
       "213073964  213073846      Nattes à chat  1372207  2024-03-05T10:47:17Z  65136   \n",
       "213073846  213073767  Chouette bougonne  4364626  2024-03-05T10:43:25Z  65092   \n",
       "213073767  213070331      Nattes à chat  1372207  2024-03-05T10:40:57Z  65130   \n",
       "...              ...                ...      ...                   ...    ...   \n",
       "55885071    55855880       82.234.40.89        0  2010-08-05T20:06:06Z   3209   \n",
       "55855880    55774595         Luckas-bot   414968  2010-08-04T20:07:22Z   3205   \n",
       "55774595    55774530      84.164.59.139        0  2010-08-02T09:43:44Z   3182   \n",
       "55774530    55774468      84.164.59.139        0  2010-08-02T09:41:11Z   3594   \n",
       "55774468           0      84.164.59.139        0  2010-08-02T09:38:54Z   3591   \n",
       "\n",
       "                                               sha1 contentformat  \\\n",
       "revid                                                               \n",
       "213078305  d04ef73a4963672590b9abbc80020d18c74cc1dc   text/x-wiki   \n",
       "213074072  43d85c1b04a6ae3fc2edc14de66e944f20eff16f   text/x-wiki   \n",
       "213073964  8f7278cdad94fda6a4f2793564384ad5a6c97131   text/x-wiki   \n",
       "213073846  43d85c1b04a6ae3fc2edc14de66e944f20eff16f   text/x-wiki   \n",
       "213073767  0078220eb8337292b9609f41db561956389c40ad   text/x-wiki   \n",
       "...                                             ...           ...   \n",
       "55885071   268905c1fab752a4753f263f7b687d9bedc1c411   text/x-wiki   \n",
       "55855880   a5648276e079e211eb19dbd0a985d04c55f6dd59   text/x-wiki   \n",
       "55774595   3367b7c2dbb06761ea755ec510ffe74ec932014d   text/x-wiki   \n",
       "55774530   027063c2a24987a0714349b45ef61b2cde17b2bd   text/x-wiki   \n",
       "55774468   554ff2e0f9b368e2d8d923a759afd906d872f930   text/x-wiki   \n",
       "\n",
       "          contentmodel                                            comment  \\\n",
       "revid                                                                       \n",
       "213078305     wikitext                  /* Retour aux États-Unis */ style   \n",
       "213074072     wikitext  Annulation de la [[Special:Diff/213073964|modi...   \n",
       "213073964     wikitext  Ajout de {{[[Modèle:Désaccord de pertinence|Dé...   \n",
       "213073846     wikitext  Annulation de la [[Special:Diff/213073767|modi...   \n",
       "213073767     wikitext  Ajout de {{[[Modèle:Article non neutre|Article...   \n",
       "...                ...                                                ...   \n",
       "55885071      wikitext                                                      \n",
       "55855880      wikitext               robot Ajoute: [[es:Bradley Manning]]   \n",
       "55774595      wikitext  création de la page depuis la version englaise...   \n",
       "55774530      wikitext                                                      \n",
       "55774468      wikitext  Nouvelle page : '''Bradley Manning''' (né en 1...   \n",
       "\n",
       "                                                           * anon  \n",
       "revid                                                              \n",
       "213078305  {{homon|Manning}}\\n{{Nom protégé}}\\n{{Infobox ...  NaN  \n",
       "213074072  {{homon|Manning}}\\n{{Nom protégé}}\\n{{Infobox ...  NaN  \n",
       "213073964  {{Désaccord de pertinence|date=mars 2024}}\\n{{...  NaN  \n",
       "213073846  {{homon|Manning}}\\n{{Nom protégé}}\\n{{Infobox ...  NaN  \n",
       "213073767  {{Article non neutre|date=mars 2024}}\\n{{homon...  NaN  \n",
       "...                                                      ...  ...  \n",
       "55885071   '''Bradley Manning''' (né en 1987) est un anna...       \n",
       "55855880   '''Bradley Manning''' (né en 1987) est un anna...  NaN  \n",
       "55774595   '''Bradley Manning''' (né en 1987) est un anna...       \n",
       "55774530   '''Bradley Manning''' (né en 1987) est un anna...       \n",
       "55774468   '''Bradley Manning''' (né en 1987) est un anna...       \n",
       "\n",
       "[1060 rows x 11 columns]"
      ]
     },
     "execution_count": 4,
     "metadata": {},
     "output_type": "execute_result"
    }
   ],
   "source": [
    "revisions = (\n",
    "    pd\n",
    "    .DataFrame\n",
    "    .from_records(page.get_revisions())\n",
    "    .set_index('revid')\n",
    ")\n",
    "\n",
    "revisions"
   ]
  },
  {
   "cell_type": "code",
   "execution_count": 5,
   "id": "c589c8bc-5e6a-4361-bb5c-99b125c56fd4",
   "metadata": {},
   "outputs": [],
   "source": [
    "revisions.to_csv('../data/page-revisions/chelsea_manning.csv')"
   ]
  },
  {
   "cell_type": "code",
   "execution_count": 6,
   "id": "32533855-d09c-42e1-9071-35f10655dcd8",
   "metadata": {},
   "outputs": [],
   "source": [
    "def decode(string):\n",
    "    return base64.b64decode(string).decode(\"utf-8\")"
   ]
  },
  {
   "cell_type": "code",
   "execution_count": 7,
   "id": "bea34dc6-f504-44a9-846f-39e8401c62f7",
   "metadata": {},
   "outputs": [
    {
     "data": {
      "text/plain": [
       "<Axes: xlabel='date'>"
      ]
     },
     "execution_count": 7,
     "metadata": {},
     "output_type": "execute_result"
    },
    {
     "data": {
      "image/png": "[encoded data removed]",
      "text/plain": [
       "<Figure size 1500x1000 with 1 Axes>"
      ]
     },
     "metadata": {},
     "output_type": "display_data"
    }
   ],
   "source": [
    "(\n",
    "    revisions\n",
    "    .assign(\n",
    "        deadnames = lambda df: df['*'].apply(lambda x: x.lower().count(decode(dead_name).lower()))\n",
    "    )\n",
    "    #.reset_index()\n",
    "    [['timestamp', 'deadnames']]\n",
    "    .assign(\n",
    "        date = lambda df: pd.to_datetime(df.timestamp).dt.date\n",
    "    )\n",
    "    .groupby('date')\n",
    "    .agg({'deadnames': 'mean'})\n",
    "    .plot\n",
    "    .line(\n",
    "        figsize=(15,10)\n",
    "    )\n",
    ")"
   ]
  },
  {
   "cell_type": "code",
   "execution_count": 8,
   "id": "ca8a4ed9-db8d-4e1b-9f65-dfddd22ed89f",
   "metadata": {},
   "outputs": [
    {
     "name": "stderr",
     "output_type": "stream",
     "text": [
      "100%|████████████████████████████████████████████████████████████████████| 1060/1060 [05:42<00:00,  3.10it/s]\n"
     ]
    }
   ],
   "source": [
    "def get_diff(revid):\n",
    "    return page.get_diff(revid)\n",
    "\n",
    "diffs = revisions.reset_index().revid.progress_apply(lambda x: page.extract_plusminus(get_diff(x))['added'] )\n",
    "\n",
    "#diffs"
   ]
  },
  {
   "cell_type": "markdown",
   "id": "49e1e9d0-0960-4573-a7d3-a7a218c3c34f",
   "metadata": {},
   "source": [
    "### depuis le coming out"
   ]
  },
  {
   "cell_type": "code",
   "execution_count": 19,
   "id": "308c3a1c-e446-42b8-b087-915ff9fdf05f",
   "metadata": {},
   "outputs": [
    {
     "data": {
      "text/plain": [
       "user\n",
       "Sebk                 129\n",
       "Malaria28            115\n",
       "Skouratov             97\n",
       "Mattho69              89\n",
       "Chouette bougonne     58\n",
       "Julien1978            40\n",
       "Shev123               34\n",
       "Hégésippe Cormier     31\n",
       "Lebob                 30\n",
       "Super Bazooka         23\n",
       "Name: deadname_count, dtype: int64"
      ]
     },
     "execution_count": 19,
     "metadata": {},
     "output_type": "execute_result"
    }
   ],
   "source": [
    "(\n",
    "    revisions\n",
    "    .assign(\n",
    "        deadname_count = [ ' '.join(added).lower().count(decode(dead_name).lower()) for added in diffs ]\n",
    "    )\n",
    "    # on ne garde que les contributions après son coming out\n",
    "    .query('timestamp >= \"2013-08-22\"')\n",
    "    .groupby('user')\n",
    "    .deadname_count\n",
    "    .sum()\n",
    "    .sort_values(ascending=False)\n",
    "    .head(10)\n",
    ")"
   ]
  },
  {
   "cell_type": "markdown",
   "id": "cdbf2cbe-7d9c-458a-8bb5-7554dbb954b5",
   "metadata": {},
   "source": [
    "### depuis le début du sondage"
   ]
  },
  {
   "cell_type": "code",
   "execution_count": 16,
   "id": "e75e4ded-3e9d-45a6-bdd7-0af3b6f8b8ee",
   "metadata": {},
   "outputs": [
    {
     "data": {
      "text/plain": [
       "user\n",
       "Sherwood6                     12\n",
       "Triboulet sur une montagne     6\n",
       "Anne Daemon                    0\n",
       "Chouette bougonne              0\n",
       "Cymbella                       0\n",
       "Evpok                          0\n",
       "Nattes à chat                  0\n",
       "Name: deadname_count, dtype: int64"
      ]
     },
     "execution_count": 16,
     "metadata": {},
     "output_type": "execute_result"
    }
   ],
   "source": [
    "(\n",
    "    revisions\n",
    "    .assign(\n",
    "        deadname_count = [ ' '.join(added).lower().count(decode(dead_name).lower()) for added in diffs ]\n",
    "    )\n",
    "    # début du sondage\n",
    "    .query('timestamp >= \"2024-02-12\"')\n",
    "    .groupby('user')\n",
    "    .deadname_count\n",
    "    .sum()\n",
    "    .sort_values(ascending=False)\n",
    "    .head(20)\n",
    ")"
   ]
  },
  {
   "cell_type": "markdown",
   "id": "b4ae0d43-e0f3-403f-8d77-06778155c12d",
   "metadata": {},
   "source": [
    "## Discussions"
   ]
  },
  {
   "cell_type": "code",
   "execution_count": 11,
   "id": "65c5a95c-6148-4099-bcec-47e23701d260",
   "metadata": {},
   "outputs": [],
   "source": [
    "talk = Page('Discussion:Chelsea_Manning', lang='fr')"
   ]
  },
  {
   "cell_type": "code",
   "execution_count": 12,
   "id": "f1aaec90-5c20-4488-a9aa-11da50fd1cf6",
   "metadata": {},
   "outputs": [
    {
     "name": "stderr",
     "output_type": "stream",
     "text": [
      "100%|██████████████████████████████████████████████████████████████████████| 534/534 [02:45<00:00,  3.24it/s]\n"
     ]
    }
   ],
   "source": [
    "talk_revisions = (\n",
    "    pd\n",
    "    .DataFrame\n",
    "    .from_records(talk.get_revisions_list())\n",
    "    .assign(\n",
    "        diff = lambda df: df.revid.progress_apply(lambda x: talk.get_diff(x)),\n",
    "        deleted = lambda df: df['diff'].apply(lambda diff: talk.extract_plusminus(diff)['deleted']),\n",
    "        added = lambda df: df['diff'].apply(lambda diff: talk.extract_plusminus(diff)['added']),\n",
    "    )\n",
    "    .set_index('revid')\n",
    ")\n",
    "\n",
    "#talk_revisions"
   ]
  },
  {
   "cell_type": "code",
   "execution_count": 13,
   "id": "25ec8a7b-a133-458e-bad3-331c8f41b851",
   "metadata": {},
   "outputs": [],
   "source": [
    "talk_revisions.to_csv('../data/page-diffs/discussion:chelsea_manning.csv')"
   ]
  },
  {
   "cell_type": "markdown",
   "id": "4d1737c2-1d19-48bb-925f-f3a73fc7c585",
   "metadata": {},
   "source": [
    "### depuis le coming out"
   ]
  },
  {
   "cell_type": "code",
   "execution_count": 17,
   "id": "0e863939-69ce-43d1-a48c-ed831817f6c6",
   "metadata": {},
   "outputs": [
    {
     "data": {
      "text/plain": [
       "user\n",
       "Hauru                   33\n",
       "Jean-Jacques Georges    22\n",
       "Sherwood6               17\n",
       "Christophe Dioux        11\n",
       "Euterpia                 7\n",
       "Julien1978               7\n",
       "Ash Crow                 6\n",
       "Heddryin                 6\n",
       "Fanchb29                 5\n",
       "Gaz0line                 4\n",
       "Name: deadname_count, dtype: int64"
      ]
     },
     "execution_count": 17,
     "metadata": {},
     "output_type": "execute_result"
    }
   ],
   "source": [
    "(\n",
    "    talk_revisions\n",
    "    .assign(\n",
    "        deadname_count = lambda df: df.added.apply(lambda x: ' '.join(x).lower().count(decode(dead_name).lower()))\n",
    "    )\n",
    "    # on ne garde que les contributions après son coming out\n",
    "    .query('timestamp >= \"2013-08-22\"')\n",
    "    .groupby('user')\n",
    "    .deadname_count\n",
    "    .sum()\n",
    "    .sort_values(ascending=False)\n",
    "    .head(10)\n",
    ")"
   ]
  },
  {
   "cell_type": "markdown",
   "id": "f527cdea-8c65-45e8-8274-48ee9e2246b8",
   "metadata": {},
   "source": [
    "### depuis le début du sondage"
   ]
  },
  {
   "cell_type": "code",
   "execution_count": 18,
   "id": "9e1a66e6-8622-4a4c-a031-95f1ee3e81b1",
   "metadata": {},
   "outputs": [
    {
     "data": {
      "text/plain": [
       "user\n",
       "Sherwood6            17\n",
       "Anne Daemon           3\n",
       "Chouette bougonne     1\n",
       "Lastrik               1\n",
       "Nattes à chat         1\n",
       "Cymbella              0\n",
       "Evpok                 0\n",
       "Jugio                 0\n",
       "Lewisiscrazy          0\n",
       "Pic-Sou               0\n",
       "Name: deadname_count, dtype: int64"
      ]
     },
     "execution_count": 18,
     "metadata": {},
     "output_type": "execute_result"
    }
   ],
   "source": [
    "(\n",
    "    talk_revisions\n",
    "    .assign(\n",
    "        deadname_count = lambda df: df.added.apply(lambda x: ' '.join(x).lower().count(decode(dead_name).lower()))\n",
    "    )\n",
    "    # depuis le sondage\n",
    "    .query('timestamp >= \"2024-02-12\"')\n",
    "    .groupby('user')\n",
    "    .deadname_count\n",
    "    .sum()\n",
    "    .sort_values(ascending=False)\n",
    "    .head(10)\n",
    ")"
   ]
  },
  {
   "cell_type": "code",
   "execution_count": null,
   "id": "63fb08f4-6403-42c9-87ea-7851eb4853b9",
   "metadata": {},
   "outputs": [],
   "source": []
  }
 ],
 "metadata": {
  "kernelspec": {
   "display_name": "Python 3 (ipykernel)",
   "language": "python",
   "name": "python3"
  },
  "language_info": {
   "codemirror_mode": {
    "name": "ipython",
    "version": 3
   },
   "file_extension": ".py",
   "mimetype": "text/x-python",
   "name": "python",
   "nbconvert_exporter": "python",
   "pygments_lexer": "ipython3",
   "version": "3.10.12"
  }
 },
 "nbformat": 4,
 "nbformat_minor": 5
}
