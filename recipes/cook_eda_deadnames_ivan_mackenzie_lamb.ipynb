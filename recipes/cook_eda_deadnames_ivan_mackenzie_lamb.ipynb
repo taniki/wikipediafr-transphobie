{
 "cells": [
  {
   "cell_type": "code",
   "execution_count": 1,
   "id": "2ad56d7a-56a0-4f9e-a19d-906c01ac23f1",
   "metadata": {
    "execution": {
     "iopub.execute_input": "2024-04-02T17:04:15.615196Z",
     "iopub.status.busy": "2024-04-02T17:04:15.614744Z",
     "iopub.status.idle": "2024-04-02T17:04:16.059511Z",
     "shell.execute_reply": "2024-04-02T17:04:16.059196Z"
    },
    "papermill": {
     "duration": 0.45491,
     "end_time": "2024-04-02T17:04:16.060384",
     "exception": false,
     "start_time": "2024-04-02T17:04:15.605474",
     "status": "completed"
    },
    "tags": []
   },
   "outputs": [],
   "source": [
    "import pandas as pd\n",
    "from bs4 import BeautifulSoup\n",
    "from tqdm import tqdm\n",
    "import base64\n",
    "\n",
    "tqdm.pandas()\n",
    "from wekeypedia import WikipediaPage as Page"
   ]
  },
  {
   "cell_type": "code",
   "execution_count": 2,
   "id": "23765632-31c5-4a46-a008-89df2f3fb17a",
   "metadata": {
    "execution": {
     "iopub.execute_input": "2024-04-02T17:04:16.070841Z",
     "iopub.status.busy": "2024-04-02T17:04:16.070661Z",
     "iopub.status.idle": "2024-04-02T17:04:16.072905Z",
     "shell.execute_reply": "2024-04-02T17:04:16.072428Z"
    },
    "papermill": {
     "duration": 0.011278,
     "end_time": "2024-04-02T17:04:16.073439",
     "exception": false,
     "start_time": "2024-04-02T17:04:16.062161",
     "status": "completed"
    },
    "tags": [
     "parameters"
    ]
   },
   "outputs": [],
   "source": [
    "name = \"Elliot Page\"\n",
    "dead_name = \"RWxsZW4=\"\n",
    "page_name = \"Elliot_Page\"\n",
    "co_date = \"2020-12-01\""
   ]
  },
  {
   "cell_type": "code",
   "execution_count": 3,
   "id": "ccd960f8",
   "metadata": {
    "execution": {
     "iopub.execute_input": "2024-04-02T17:04:16.076793Z",
     "iopub.status.busy": "2024-04-02T17:04:16.076663Z",
     "iopub.status.idle": "2024-04-02T17:04:16.078621Z",
     "shell.execute_reply": "2024-04-02T17:04:16.078252Z"
    },
    "papermill": {
     "duration": 0.004306,
     "end_time": "2024-04-02T17:04:16.079128",
     "exception": false,
     "start_time": "2024-04-02T17:04:16.074822",
     "status": "completed"
    },
    "tags": [
     "injected-parameters"
    ]
   },
   "outputs": [],
   "source": [
    "# Parameters\n",
    "name = \"Elke Mackenzie\"\n",
    "dead_name = \"SXZhbg==\"\n",
    "page_name = \"Ivan_Mackenzie_Lamb\"\n",
    "co_date = None\n"
   ]
  },
  {
   "cell_type": "code",
   "execution_count": 4,
   "id": "743460e0-da77-4f86-bb1c-7e260dd25dd2",
   "metadata": {
    "execution": {
     "iopub.execute_input": "2024-04-02T17:04:16.082147Z",
     "iopub.status.busy": "2024-04-02T17:04:16.082051Z",
     "iopub.status.idle": "2024-04-02T17:04:16.083769Z",
     "shell.execute_reply": "2024-04-02T17:04:16.083520Z"
    },
    "papermill": {
     "duration": 0.003746,
     "end_time": "2024-04-02T17:04:16.084237",
     "exception": false,
     "start_time": "2024-04-02T17:04:16.080491",
     "status": "completed"
    },
    "tags": []
   },
   "outputs": [],
   "source": [
    "def format_revid_index(revid, page):\n",
    "    return f'<a href=\"https://fr.wikipedia.org/w/index.php?title={page}&diff=prev&oldid={revid}\">{revid}</a>'"
   ]
  },
  {
   "cell_type": "markdown",
   "id": "5cc2bf74-9863-42ee-a757-703825106697",
   "metadata": {
    "papermill": {
     "duration": 0.001325,
     "end_time": "2024-04-02T17:04:16.086881",
     "exception": false,
     "start_time": "2024-04-02T17:04:16.085556",
     "status": "completed"
    },
    "tags": []
   },
   "source": [
    "# qui sont personnes qui énoncent le deadname dans l'article ?"
   ]
  },
  {
   "cell_type": "markdown",
   "id": "ef5929df-44e4-4ab2-a25b-25c1db364961",
   "metadata": {
    "papermill": {
     "duration": 0.001357,
     "end_time": "2024-04-02T17:04:16.089547",
     "exception": false,
     "start_time": "2024-04-02T17:04:16.088190",
     "status": "completed"
    },
    "tags": []
   },
   "source": [
    "## article"
   ]
  },
  {
   "cell_type": "code",
   "execution_count": 5,
   "id": "eed28b1e-97c4-4eab-9ead-6a8b55b85187",
   "metadata": {
    "execution": {
     "iopub.execute_input": "2024-04-02T17:04:16.092651Z",
     "iopub.status.busy": "2024-04-02T17:04:16.092469Z",
     "iopub.status.idle": "2024-04-02T17:04:16.391077Z",
     "shell.execute_reply": "2024-04-02T17:04:16.390265Z"
    },
    "papermill": {
     "duration": 0.301449,
     "end_time": "2024-04-02T17:04:16.392365",
     "exception": false,
     "start_time": "2024-04-02T17:04:16.090916",
     "status": "completed"
    },
    "tags": []
   },
   "outputs": [],
   "source": [
    "page = Page(page_name, lang='fr')"
   ]
  },
  {
   "cell_type": "code",
   "execution_count": 6,
   "id": "e496177f-af35-4c14-84a2-40f86b9a0309",
   "metadata": {
    "execution": {
     "iopub.execute_input": "2024-04-02T17:04:16.410250Z",
     "iopub.status.busy": "2024-04-02T17:04:16.409804Z",
     "iopub.status.idle": "2024-04-02T17:04:48.043573Z",
     "shell.execute_reply": "2024-04-02T17:04:48.043368Z"
    },
    "papermill": {
     "duration": 31.643994,
     "end_time": "2024-04-02T17:04:48.044272",
     "exception": false,
     "start_time": "2024-04-02T17:04:16.400278",
     "status": "completed"
    },
    "tags": []
   },
   "outputs": [
    {
     "name": "stderr",
     "output_type": "stream",
     "text": [
      "\r",
      "  0%|          | 0/95 [00:00<?, ?it/s]"
     ]
    },
    {
     "name": "stderr",
     "output_type": "stream",
     "text": [
      "\r",
      "  2%|▏         | 2/95 [00:00<00:13,  6.97it/s]"
     ]
    },
    {
     "name": "stderr",
     "output_type": "stream",
     "text": [
      "\r",
      "  3%|▎         | 3/95 [00:00<00:20,  4.58it/s]"
     ]
    },
    {
     "name": "stderr",
     "output_type": "stream",
     "text": [
      "\r",
      "  4%|▍         | 4/95 [00:00<00:22,  4.03it/s]"
     ]
    },
    {
     "name": "stderr",
     "output_type": "stream",
     "text": [
      "\r",
      "  5%|▌         | 5/95 [00:01<00:24,  3.65it/s]"
     ]
    },
    {
     "name": "stderr",
     "output_type": "stream",
     "text": [
      "\r",
      "  6%|▋         | 6/95 [00:01<00:25,  3.50it/s]"
     ]
    },
    {
     "name": "stderr",
     "output_type": "stream",
     "text": [
      "\r",
      "  7%|▋         | 7/95 [00:01<00:27,  3.14it/s]"
     ]
    },
    {
     "name": "stderr",
     "output_type": "stream",
     "text": [
      "\r",
      "  8%|▊         | 8/95 [00:02<00:27,  3.12it/s]"
     ]
    },
    {
     "name": "stderr",
     "output_type": "stream",
     "text": [
      "\r",
      "  9%|▉         | 9/95 [00:02<00:27,  3.12it/s]"
     ]
    },
    {
     "name": "stderr",
     "output_type": "stream",
     "text": [
      "\r",
      " 11%|█         | 10/95 [00:02<00:29,  2.84it/s]"
     ]
    },
    {
     "name": "stderr",
     "output_type": "stream",
     "text": [
      "\r",
      " 12%|█▏        | 11/95 [00:03<00:28,  2.98it/s]"
     ]
    },
    {
     "name": "stderr",
     "output_type": "stream",
     "text": [
      "\r",
      " 13%|█▎        | 12/95 [00:03<00:27,  3.04it/s]"
     ]
    },
    {
     "name": "stderr",
     "output_type": "stream",
     "text": [
      "\r",
      " 14%|█▎        | 13/95 [00:04<00:31,  2.64it/s]"
     ]
    },
    {
     "name": "stderr",
     "output_type": "stream",
     "text": [
      "\r",
      " 15%|█▍        | 14/95 [00:04<00:29,  2.78it/s]"
     ]
    },
    {
     "name": "stderr",
     "output_type": "stream",
     "text": [
      "\r",
      " 16%|█▌        | 15/95 [00:04<00:27,  2.87it/s]"
     ]
    },
    {
     "name": "stderr",
     "output_type": "stream",
     "text": [
      "\r",
      " 17%|█▋        | 16/95 [00:05<00:26,  2.95it/s]"
     ]
    },
    {
     "name": "stderr",
     "output_type": "stream",
     "text": [
      "\r",
      " 18%|█▊        | 17/95 [00:05<00:26,  3.00it/s]"
     ]
    },
    {
     "name": "stderr",
     "output_type": "stream",
     "text": [
      "\r",
      " 19%|█▉        | 18/95 [00:05<00:25,  3.04it/s]"
     ]
    },
    {
     "name": "stderr",
     "output_type": "stream",
     "text": [
      "\r",
      " 20%|██        | 19/95 [00:06<00:24,  3.08it/s]"
     ]
    },
    {
     "name": "stderr",
     "output_type": "stream",
     "text": [
      "\r",
      " 21%|██        | 20/95 [00:06<00:23,  3.14it/s]"
     ]
    },
    {
     "name": "stderr",
     "output_type": "stream",
     "text": [
      "\r",
      " 22%|██▏       | 21/95 [00:06<00:23,  3.14it/s]"
     ]
    },
    {
     "name": "stderr",
     "output_type": "stream",
     "text": [
      "\r",
      " 23%|██▎       | 22/95 [00:06<00:23,  3.14it/s]"
     ]
    },
    {
     "name": "stderr",
     "output_type": "stream",
     "text": [
      "\r",
      " 24%|██▍       | 23/95 [00:07<00:22,  3.18it/s]"
     ]
    },
    {
     "name": "stderr",
     "output_type": "stream",
     "text": [
      "\r",
      " 25%|██▌       | 24/95 [00:07<00:22,  3.15it/s]"
     ]
    },
    {
     "name": "stderr",
     "output_type": "stream",
     "text": [
      "\r",
      " 26%|██▋       | 25/95 [00:07<00:22,  3.15it/s]"
     ]
    },
    {
     "name": "stderr",
     "output_type": "stream",
     "text": [
      "\r",
      " 27%|██▋       | 26/95 [00:08<00:21,  3.21it/s]"
     ]
    },
    {
     "name": "stderr",
     "output_type": "stream",
     "text": [
      "\r",
      " 28%|██▊       | 27/95 [00:08<00:21,  3.19it/s]"
     ]
    },
    {
     "name": "stderr",
     "output_type": "stream",
     "text": [
      "\r",
      " 29%|██▉       | 28/95 [00:08<00:21,  3.14it/s]"
     ]
    },
    {
     "name": "stderr",
     "output_type": "stream",
     "text": [
      "\r",
      " 31%|███       | 29/95 [00:09<00:21,  3.10it/s]"
     ]
    },
    {
     "name": "stderr",
     "output_type": "stream",
     "text": [
      "\r",
      " 32%|███▏      | 30/95 [00:09<00:21,  3.07it/s]"
     ]
    },
    {
     "name": "stderr",
     "output_type": "stream",
     "text": [
      "\r",
      " 33%|███▎      | 31/95 [00:09<00:20,  3.17it/s]"
     ]
    },
    {
     "name": "stderr",
     "output_type": "stream",
     "text": [
      "\r",
      " 34%|███▎      | 32/95 [00:10<00:19,  3.17it/s]"
     ]
    },
    {
     "name": "stderr",
     "output_type": "stream",
     "text": [
      "\r",
      " 35%|███▍      | 33/95 [00:10<00:19,  3.20it/s]"
     ]
    },
    {
     "name": "stderr",
     "output_type": "stream",
     "text": [
      "\r",
      " 36%|███▌      | 34/95 [00:10<00:19,  3.17it/s]"
     ]
    },
    {
     "name": "stderr",
     "output_type": "stream",
     "text": [
      "\r",
      " 37%|███▋      | 35/95 [00:11<00:19,  3.14it/s]"
     ]
    },
    {
     "name": "stderr",
     "output_type": "stream",
     "text": [
      "\r",
      " 38%|███▊      | 36/95 [00:11<00:18,  3.15it/s]"
     ]
    },
    {
     "name": "stderr",
     "output_type": "stream",
     "text": [
      "\r",
      " 39%|███▉      | 37/95 [00:11<00:18,  3.13it/s]"
     ]
    },
    {
     "name": "stderr",
     "output_type": "stream",
     "text": [
      "\r",
      " 40%|████      | 38/95 [00:12<00:18,  3.15it/s]"
     ]
    },
    {
     "name": "stderr",
     "output_type": "stream",
     "text": [
      "\r",
      " 41%|████      | 39/95 [00:12<00:17,  3.12it/s]"
     ]
    },
    {
     "name": "stderr",
     "output_type": "stream",
     "text": [
      "\r",
      " 42%|████▏     | 40/95 [00:12<00:17,  3.08it/s]"
     ]
    },
    {
     "name": "stderr",
     "output_type": "stream",
     "text": [
      "\r",
      " 43%|████▎     | 41/95 [00:13<00:18,  2.92it/s]"
     ]
    },
    {
     "name": "stderr",
     "output_type": "stream",
     "text": [
      "\r",
      " 44%|████▍     | 42/95 [00:13<00:17,  3.01it/s]"
     ]
    },
    {
     "name": "stderr",
     "output_type": "stream",
     "text": [
      "\r",
      " 45%|████▌     | 43/95 [00:13<00:16,  3.09it/s]"
     ]
    },
    {
     "name": "stderr",
     "output_type": "stream",
     "text": [
      "\r",
      " 46%|████▋     | 44/95 [00:13<00:16,  3.17it/s]"
     ]
    },
    {
     "name": "stderr",
     "output_type": "stream",
     "text": [
      "\r",
      " 47%|████▋     | 45/95 [00:14<00:15,  3.15it/s]"
     ]
    },
    {
     "name": "stderr",
     "output_type": "stream",
     "text": [
      "\r",
      " 48%|████▊     | 46/95 [00:14<00:15,  3.14it/s]"
     ]
    },
    {
     "name": "stderr",
     "output_type": "stream",
     "text": [
      "\r",
      " 49%|████▉     | 47/95 [00:14<00:15,  3.19it/s]"
     ]
    },
    {
     "name": "stderr",
     "output_type": "stream",
     "text": [
      "\r",
      " 51%|█████     | 48/95 [00:15<00:14,  3.14it/s]"
     ]
    },
    {
     "name": "stderr",
     "output_type": "stream",
     "text": [
      "\r",
      " 52%|█████▏    | 49/95 [00:15<00:14,  3.18it/s]"
     ]
    },
    {
     "name": "stderr",
     "output_type": "stream",
     "text": [
      "\r",
      " 53%|█████▎    | 50/95 [00:15<00:13,  3.23it/s]"
     ]
    },
    {
     "name": "stderr",
     "output_type": "stream",
     "text": [
      "\r",
      " 54%|█████▎    | 51/95 [00:16<00:16,  2.70it/s]"
     ]
    },
    {
     "name": "stderr",
     "output_type": "stream",
     "text": [
      "\r",
      " 55%|█████▍    | 52/95 [00:16<00:15,  2.84it/s]"
     ]
    },
    {
     "name": "stderr",
     "output_type": "stream",
     "text": [
      "\r",
      " 56%|█████▌    | 53/95 [00:16<00:14,  2.98it/s]"
     ]
    },
    {
     "name": "stderr",
     "output_type": "stream",
     "text": [
      "\r",
      " 57%|█████▋    | 54/95 [00:17<00:13,  2.97it/s]"
     ]
    },
    {
     "name": "stderr",
     "output_type": "stream",
     "text": [
      "\r",
      " 58%|█████▊    | 55/95 [00:17<00:14,  2.78it/s]"
     ]
    },
    {
     "name": "stderr",
     "output_type": "stream",
     "text": [
      "\r",
      " 59%|█████▉    | 56/95 [00:18<00:14,  2.73it/s]"
     ]
    },
    {
     "name": "stderr",
     "output_type": "stream",
     "text": [
      "\r",
      " 60%|██████    | 57/95 [00:18<00:14,  2.69it/s]"
     ]
    },
    {
     "name": "stderr",
     "output_type": "stream",
     "text": [
      "\r",
      " 61%|██████    | 58/95 [00:18<00:13,  2.76it/s]"
     ]
    },
    {
     "name": "stderr",
     "output_type": "stream",
     "text": [
      "\r",
      " 62%|██████▏   | 59/95 [00:19<00:12,  2.86it/s]"
     ]
    },
    {
     "name": "stderr",
     "output_type": "stream",
     "text": [
      "\r",
      " 63%|██████▎   | 60/95 [00:19<00:12,  2.73it/s]"
     ]
    },
    {
     "name": "stderr",
     "output_type": "stream",
     "text": [
      "\r",
      " 64%|██████▍   | 61/95 [00:19<00:11,  2.91it/s]"
     ]
    },
    {
     "name": "stderr",
     "output_type": "stream",
     "text": [
      "\r",
      " 65%|██████▌   | 62/95 [00:20<00:12,  2.73it/s]"
     ]
    },
    {
     "name": "stderr",
     "output_type": "stream",
     "text": [
      "\r",
      " 66%|██████▋   | 63/95 [00:20<00:11,  2.90it/s]"
     ]
    },
    {
     "name": "stderr",
     "output_type": "stream",
     "text": [
      "\r",
      " 67%|██████▋   | 64/95 [00:20<00:10,  2.96it/s]"
     ]
    },
    {
     "name": "stderr",
     "output_type": "stream",
     "text": [
      "\r",
      " 68%|██████▊   | 65/95 [00:21<00:09,  3.01it/s]"
     ]
    },
    {
     "name": "stderr",
     "output_type": "stream",
     "text": [
      "\r",
      " 69%|██████▉   | 66/95 [00:21<00:09,  2.99it/s]"
     ]
    },
    {
     "name": "stderr",
     "output_type": "stream",
     "text": [
      "\r",
      " 71%|███████   | 67/95 [00:21<00:09,  2.96it/s]"
     ]
    },
    {
     "name": "stderr",
     "output_type": "stream",
     "text": [
      "\r",
      " 72%|███████▏  | 68/95 [00:22<00:08,  3.10it/s]"
     ]
    },
    {
     "name": "stderr",
     "output_type": "stream",
     "text": [
      "\r",
      " 73%|███████▎  | 69/95 [00:22<00:08,  3.07it/s]"
     ]
    },
    {
     "name": "stderr",
     "output_type": "stream",
     "text": [
      "\r",
      " 74%|███████▎  | 70/95 [00:22<00:07,  3.14it/s]"
     ]
    },
    {
     "name": "stderr",
     "output_type": "stream",
     "text": [
      "\r",
      " 75%|███████▍  | 71/95 [00:23<00:07,  3.17it/s]"
     ]
    },
    {
     "name": "stderr",
     "output_type": "stream",
     "text": [
      "\r",
      " 76%|███████▌  | 72/95 [00:23<00:07,  3.22it/s]"
     ]
    },
    {
     "name": "stderr",
     "output_type": "stream",
     "text": [
      "\r",
      " 77%|███████▋  | 73/95 [00:23<00:06,  3.23it/s]"
     ]
    },
    {
     "name": "stderr",
     "output_type": "stream",
     "text": [
      "\r",
      " 78%|███████▊  | 74/95 [00:24<00:06,  3.23it/s]"
     ]
    },
    {
     "name": "stderr",
     "output_type": "stream",
     "text": [
      "\r",
      " 79%|███████▉  | 75/95 [00:24<00:06,  3.26it/s]"
     ]
    },
    {
     "name": "stderr",
     "output_type": "stream",
     "text": [
      "\r",
      " 80%|████████  | 76/95 [00:24<00:05,  3.23it/s]"
     ]
    },
    {
     "name": "stderr",
     "output_type": "stream",
     "text": [
      "\r",
      " 81%|████████  | 77/95 [00:24<00:05,  3.24it/s]"
     ]
    },
    {
     "name": "stderr",
     "output_type": "stream",
     "text": [
      "\r",
      " 82%|████████▏ | 78/95 [00:25<00:05,  3.18it/s]"
     ]
    },
    {
     "name": "stderr",
     "output_type": "stream",
     "text": [
      "\r",
      " 83%|████████▎ | 79/95 [00:25<00:05,  3.15it/s]"
     ]
    },
    {
     "name": "stderr",
     "output_type": "stream",
     "text": [
      "\r",
      " 84%|████████▍ | 80/95 [00:25<00:04,  3.19it/s]"
     ]
    },
    {
     "name": "stderr",
     "output_type": "stream",
     "text": [
      "\r",
      " 85%|████████▌ | 81/95 [00:26<00:04,  3.17it/s]"
     ]
    },
    {
     "name": "stderr",
     "output_type": "stream",
     "text": [
      "\r",
      " 86%|████████▋ | 82/95 [00:26<00:04,  3.15it/s]"
     ]
    },
    {
     "name": "stderr",
     "output_type": "stream",
     "text": [
      "\r",
      " 87%|████████▋ | 83/95 [00:26<00:03,  3.19it/s]"
     ]
    },
    {
     "name": "stderr",
     "output_type": "stream",
     "text": [
      "\r",
      " 88%|████████▊ | 84/95 [00:27<00:03,  3.29it/s]"
     ]
    },
    {
     "name": "stderr",
     "output_type": "stream",
     "text": [
      "\r",
      " 89%|████████▉ | 85/95 [00:27<00:03,  3.07it/s]"
     ]
    },
    {
     "name": "stderr",
     "output_type": "stream",
     "text": [
      "\r",
      " 91%|█████████ | 86/95 [00:27<00:02,  3.16it/s]"
     ]
    },
    {
     "name": "stderr",
     "output_type": "stream",
     "text": [
      "\r",
      " 92%|█████████▏| 87/95 [00:28<00:02,  3.20it/s]"
     ]
    },
    {
     "name": "stderr",
     "output_type": "stream",
     "text": [
      "\r",
      " 93%|█████████▎| 88/95 [00:28<00:02,  3.05it/s]"
     ]
    },
    {
     "name": "stderr",
     "output_type": "stream",
     "text": [
      "\r",
      " 94%|█████████▎| 89/95 [00:28<00:01,  3.12it/s]"
     ]
    },
    {
     "name": "stderr",
     "output_type": "stream",
     "text": [
      "\r",
      " 95%|█████████▍| 90/95 [00:29<00:01,  3.16it/s]"
     ]
    },
    {
     "name": "stderr",
     "output_type": "stream",
     "text": [
      "\r",
      " 96%|█████████▌| 91/95 [00:29<00:01,  3.11it/s]"
     ]
    },
    {
     "name": "stderr",
     "output_type": "stream",
     "text": [
      "\r",
      " 97%|█████████▋| 92/95 [00:29<00:00,  3.13it/s]"
     ]
    },
    {
     "name": "stderr",
     "output_type": "stream",
     "text": [
      "\r",
      " 98%|█████████▊| 93/95 [00:30<00:00,  3.14it/s]"
     ]
    },
    {
     "name": "stderr",
     "output_type": "stream",
     "text": [
      "\r",
      " 99%|█████████▉| 94/95 [00:30<00:00,  3.19it/s]"
     ]
    },
    {
     "name": "stderr",
     "output_type": "stream",
     "text": [
      "\r",
      "100%|██████████| 95/95 [00:30<00:00,  3.17it/s]"
     ]
    },
    {
     "name": "stderr",
     "output_type": "stream",
     "text": [
      "\r",
      "100%|██████████| 95/95 [00:30<00:00,  3.07it/s]"
     ]
    },
    {
     "name": "stderr",
     "output_type": "stream",
     "text": [
      "\n"
     ]
    },
    {
     "data": {
      "text/html": [
       "<div>\n",
       "<style scoped>\n",
       "    .dataframe tbody tr th:only-of-type {\n",
       "        vertical-align: middle;\n",
       "    }\n",
       "\n",
       "    .dataframe tbody tr th {\n",
       "        vertical-align: top;\n",
       "    }\n",
       "\n",
       "    .dataframe thead th {\n",
       "        text-align: right;\n",
       "    }\n",
       "</style>\n",
       "<table border=\"1\" class=\"dataframe\">\n",
       "  <thead>\n",
       "    <tr style=\"text-align: right;\">\n",
       "      <th></th>\n",
       "      <th>parentid</th>\n",
       "      <th>user</th>\n",
       "      <th>userid</th>\n",
       "      <th>timestamp</th>\n",
       "      <th>size</th>\n",
       "      <th>sha1</th>\n",
       "      <th>comment</th>\n",
       "      <th>anon</th>\n",
       "      <th>diff</th>\n",
       "      <th>deleted</th>\n",
       "      <th>added</th>\n",
       "    </tr>\n",
       "    <tr>\n",
       "      <th>revid</th>\n",
       "      <th></th>\n",
       "      <th></th>\n",
       "      <th></th>\n",
       "      <th></th>\n",
       "      <th></th>\n",
       "      <th></th>\n",
       "      <th></th>\n",
       "      <th></th>\n",
       "      <th></th>\n",
       "      <th></th>\n",
       "      <th></th>\n",
       "    </tr>\n",
       "  </thead>\n",
       "  <tbody>\n",
       "    <tr>\n",
       "      <th>213906488</th>\n",
       "      <td>213906421</td>\n",
       "      <td>Anne Daemon</td>\n",
       "      <td>3147955</td>\n",
       "      <td>2024-04-02T16:13:27Z</td>\n",
       "      <td>16350</td>\n",
       "      <td>50cfe4296d92e19efe0aa8050469f4b0868657a9</td>\n",
       "      <td>/* Transition, retraite anticipée et dernières...</td>\n",
       "      <td>NaN</td>\n",
       "      <td>&lt;tr&gt;\\n  &lt;td colspan=\"2\" class=\"diff-lineno\"&gt;Li...</td>\n",
       "      <td>[amie]</td>\n",
       "      <td>[ami]</td>\n",
       "    </tr>\n",
       "    <tr>\n",
       "      <th>213906421</th>\n",
       "      <td>213906342</td>\n",
       "      <td>Cymbella</td>\n",
       "      <td>316223</td>\n",
       "      <td>2024-04-02T16:10:12Z</td>\n",
       "      <td>16351</td>\n",
       "      <td>ec7136773ec2e043cb600e1ed13ad75793ad012e</td>\n",
       "      <td>/* Transition, retraite anticipée et dernières...</td>\n",
       "      <td>NaN</td>\n",
       "      <td>&lt;tr&gt;\\n  &lt;td colspan=\"2\" class=\"diff-lineno\"&gt;Li...</td>\n",
       "      <td>[, proche de Mackenzie]</td>\n",
       "      <td>[son amie {{lien|langue=en|trad=, }}]</td>\n",
       "    </tr>\n",
       "    <tr>\n",
       "      <th>213906342</th>\n",
       "      <td>213905961</td>\n",
       "      <td>Cymbella</td>\n",
       "      <td>316223</td>\n",
       "      <td>2024-04-02T16:07:00Z</td>\n",
       "      <td>16339</td>\n",
       "      <td>0e3a24ec5fab5861cdce715c1764cef81351be90</td>\n",
       "      <td>/* Transition, retraite anticipée et dernières...</td>\n",
       "      <td>NaN</td>\n",
       "      <td>&lt;tr&gt;\\n  &lt;td colspan=\"2\" class=\"diff-lineno\"&gt;Li...</td>\n",
       "      <td>[]</td>\n",
       "      <td>[]] et en raison d'un [[Dysphorie de genre|mal...</td>\n",
       "    </tr>\n",
       "    <tr>\n",
       "      <th>213905961</th>\n",
       "      <td>213905727</td>\n",
       "      <td>Anne Daemon</td>\n",
       "      <td>3147955</td>\n",
       "      <td>2024-04-02T15:55:29Z</td>\n",
       "      <td>16273</td>\n",
       "      <td>906a17607dae43e93df94b802ee36f6e9a4e4ecc</td>\n",
       "      <td>correction auteur source</td>\n",
       "      <td>NaN</td>\n",
       "      <td>&lt;tr&gt;\\n  &lt;td colspan=\"2\" class=\"diff-lineno\"&gt;Li...</td>\n",
       "      <td>[Elizabeth, Winterhalter, Elizabeth, Winterhal...</td>\n",
       "      <td>[Sabrina, Imbler, Imbler, Sabrina]</td>\n",
       "    </tr>\n",
       "    <tr>\n",
       "      <th>213905727</th>\n",
       "      <td>213904933</td>\n",
       "      <td>Anne Daemon</td>\n",
       "      <td>3147955</td>\n",
       "      <td>2024-04-02T15:47:00Z</td>\n",
       "      <td>16289</td>\n",
       "      <td>0b62a5eccf2c38f899f050a34946ce9e0fe812a9</td>\n",
       "      <td>/* Transition, mise à la retraite et dernières...</td>\n",
       "      <td>NaN</td>\n",
       "      <td>&lt;tr&gt;\\n  &lt;td colspan=\"2\" class=\"diff-lineno\"&gt;Li...</td>\n",
       "      <td>[mise, à la retraite]</td>\n",
       "      <td>[retraite, anticipée, . Selon Laurence Senelic...</td>\n",
       "    </tr>\n",
       "    <tr>\n",
       "      <th>...</th>\n",
       "      <td>...</td>\n",
       "      <td>...</td>\n",
       "      <td>...</td>\n",
       "      <td>...</td>\n",
       "      <td>...</td>\n",
       "      <td>...</td>\n",
       "      <td>...</td>\n",
       "      <td>...</td>\n",
       "      <td>...</td>\n",
       "      <td>...</td>\n",
       "      <td>...</td>\n",
       "    </tr>\n",
       "    <tr>\n",
       "      <th>179466871</th>\n",
       "      <td>179466834</td>\n",
       "      <td>Cymbella</td>\n",
       "      <td>316223</td>\n",
       "      <td>2021-02-01T16:32:35Z</td>\n",
       "      <td>10596</td>\n",
       "      <td>1a78da4baf1b9b45045c61155d775a13c38aed53</td>\n",
       "      <td>/* Carrière */ précision</td>\n",
       "      <td>NaN</td>\n",
       "      <td>&lt;tr&gt;\\n  &lt;td colspan=\"2\" class=\"diff-lineno\"&gt;Li...</td>\n",
       "      <td>[]</td>\n",
       "      <td>[ de lichens]</td>\n",
       "    </tr>\n",
       "    <tr>\n",
       "      <th>179466834</th>\n",
       "      <td>179466796</td>\n",
       "      <td>Cymbella</td>\n",
       "      <td>316223</td>\n",
       "      <td>2021-02-01T16:31:32Z</td>\n",
       "      <td>10585</td>\n",
       "      <td>4b1581edbadffb364b691ba2ced0e02fb4f0ac3a</td>\n",
       "      <td>/* Carrière */ relecture</td>\n",
       "      <td>NaN</td>\n",
       "      <td>&lt;tr&gt;\\n  &lt;td colspan=\"2\" class=\"diff-lineno\"&gt;Li...</td>\n",
       "      <td>[un]</td>\n",
       "      <td>[une]</td>\n",
       "    </tr>\n",
       "    <tr>\n",
       "      <th>179466796</th>\n",
       "      <td>179466692</td>\n",
       "      <td>Cymbella</td>\n",
       "      <td>316223</td>\n",
       "      <td>2021-02-01T16:30:33Z</td>\n",
       "      <td>10584</td>\n",
       "      <td>a01435f3a8e93409e8daf0352cc3af588a5a155a</td>\n",
       "      <td>/* Introduction */ + liens int</td>\n",
       "      <td>NaN</td>\n",
       "      <td>&lt;tr&gt;\\n  &lt;td colspan=\"2\" class=\"diff-lineno\"&gt;Li...</td>\n",
       "      <td>[]</td>\n",
       "      <td>[[[, ]], [[Exploration polaire|, ]]]</td>\n",
       "    </tr>\n",
       "    <tr>\n",
       "      <th>179466692</th>\n",
       "      <td>179466433</td>\n",
       "      <td>Cymbella</td>\n",
       "      <td>316223</td>\n",
       "      <td>2021-02-01T16:27:58Z</td>\n",
       "      <td>10556</td>\n",
       "      <td>88cd8ca66d81528063334a7769a84b2af448c0b4</td>\n",
       "      <td>retouche de la modification précédente</td>\n",
       "      <td>NaN</td>\n",
       "      <td>&lt;tr&gt;\\n  &lt;td colspan=\"2\" class=\"diff-lineno\"&gt;Li...</td>\n",
       "      <td>['''Ivan Mackenzie Lamb''' ('''Elke Mackenzie'...</td>\n",
       "      <td>[{{Infobox Biographie 2, |charte=botaniste}}, ...</td>\n",
       "    </tr>\n",
       "    <tr>\n",
       "      <th>179466433</th>\n",
       "      <td>0</td>\n",
       "      <td>Cymbella</td>\n",
       "      <td>316223</td>\n",
       "      <td>2021-02-01T16:22:07Z</td>\n",
       "      <td>10481</td>\n",
       "      <td>2c0ec5e2580e76e6a47a567c30a4ab18dc008d81</td>\n",
       "      <td>Nouvelle page : '''Ivan Mackenzie Lamb''' ('''...</td>\n",
       "      <td>NaN</td>\n",
       "      <td></td>\n",
       "      <td>[]</td>\n",
       "      <td>[]</td>\n",
       "    </tr>\n",
       "  </tbody>\n",
       "</table>\n",
       "<p>95 rows × 11 columns</p>\n",
       "</div>"
      ],
      "text/plain": [
       "            parentid         user   userid             timestamp   size  \\\n",
       "revid                                                                     \n",
       "213906488  213906421  Anne Daemon  3147955  2024-04-02T16:13:27Z  16350   \n",
       "213906421  213906342     Cymbella   316223  2024-04-02T16:10:12Z  16351   \n",
       "213906342  213905961     Cymbella   316223  2024-04-02T16:07:00Z  16339   \n",
       "213905961  213905727  Anne Daemon  3147955  2024-04-02T15:55:29Z  16273   \n",
       "213905727  213904933  Anne Daemon  3147955  2024-04-02T15:47:00Z  16289   \n",
       "...              ...          ...      ...                   ...    ...   \n",
       "179466871  179466834     Cymbella   316223  2021-02-01T16:32:35Z  10596   \n",
       "179466834  179466796     Cymbella   316223  2021-02-01T16:31:32Z  10585   \n",
       "179466796  179466692     Cymbella   316223  2021-02-01T16:30:33Z  10584   \n",
       "179466692  179466433     Cymbella   316223  2021-02-01T16:27:58Z  10556   \n",
       "179466433          0     Cymbella   316223  2021-02-01T16:22:07Z  10481   \n",
       "\n",
       "                                               sha1  \\\n",
       "revid                                                 \n",
       "213906488  50cfe4296d92e19efe0aa8050469f4b0868657a9   \n",
       "213906421  ec7136773ec2e043cb600e1ed13ad75793ad012e   \n",
       "213906342  0e3a24ec5fab5861cdce715c1764cef81351be90   \n",
       "213905961  906a17607dae43e93df94b802ee36f6e9a4e4ecc   \n",
       "213905727  0b62a5eccf2c38f899f050a34946ce9e0fe812a9   \n",
       "...                                             ...   \n",
       "179466871  1a78da4baf1b9b45045c61155d775a13c38aed53   \n",
       "179466834  4b1581edbadffb364b691ba2ced0e02fb4f0ac3a   \n",
       "179466796  a01435f3a8e93409e8daf0352cc3af588a5a155a   \n",
       "179466692  88cd8ca66d81528063334a7769a84b2af448c0b4   \n",
       "179466433  2c0ec5e2580e76e6a47a567c30a4ab18dc008d81   \n",
       "\n",
       "                                                     comment anon  \\\n",
       "revid                                                               \n",
       "213906488  /* Transition, retraite anticipée et dernières...  NaN   \n",
       "213906421  /* Transition, retraite anticipée et dernières...  NaN   \n",
       "213906342  /* Transition, retraite anticipée et dernières...  NaN   \n",
       "213905961                           correction auteur source  NaN   \n",
       "213905727  /* Transition, mise à la retraite et dernières...  NaN   \n",
       "...                                                      ...  ...   \n",
       "179466871                           /* Carrière */ précision  NaN   \n",
       "179466834                           /* Carrière */ relecture  NaN   \n",
       "179466796                     /* Introduction */ + liens int  NaN   \n",
       "179466692             retouche de la modification précédente  NaN   \n",
       "179466433  Nouvelle page : '''Ivan Mackenzie Lamb''' ('''...  NaN   \n",
       "\n",
       "                                                        diff  \\\n",
       "revid                                                          \n",
       "213906488  <tr>\\n  <td colspan=\"2\" class=\"diff-lineno\">Li...   \n",
       "213906421  <tr>\\n  <td colspan=\"2\" class=\"diff-lineno\">Li...   \n",
       "213906342  <tr>\\n  <td colspan=\"2\" class=\"diff-lineno\">Li...   \n",
       "213905961  <tr>\\n  <td colspan=\"2\" class=\"diff-lineno\">Li...   \n",
       "213905727  <tr>\\n  <td colspan=\"2\" class=\"diff-lineno\">Li...   \n",
       "...                                                      ...   \n",
       "179466871  <tr>\\n  <td colspan=\"2\" class=\"diff-lineno\">Li...   \n",
       "179466834  <tr>\\n  <td colspan=\"2\" class=\"diff-lineno\">Li...   \n",
       "179466796  <tr>\\n  <td colspan=\"2\" class=\"diff-lineno\">Li...   \n",
       "179466692  <tr>\\n  <td colspan=\"2\" class=\"diff-lineno\">Li...   \n",
       "179466433                                                      \n",
       "\n",
       "                                                     deleted  \\\n",
       "revid                                                          \n",
       "213906488                                             [amie]   \n",
       "213906421                            [, proche de Mackenzie]   \n",
       "213906342                                                 []   \n",
       "213905961  [Elizabeth, Winterhalter, Elizabeth, Winterhal...   \n",
       "213905727                              [mise, à la retraite]   \n",
       "...                                                      ...   \n",
       "179466871                                                 []   \n",
       "179466834                                               [un]   \n",
       "179466796                                                 []   \n",
       "179466692  ['''Ivan Mackenzie Lamb''' ('''Elke Mackenzie'...   \n",
       "179466433                                                 []   \n",
       "\n",
       "                                                       added  \n",
       "revid                                                         \n",
       "213906488                                              [ami]  \n",
       "213906421              [son amie {{lien|langue=en|trad=, }}]  \n",
       "213906342  []] et en raison d'un [[Dysphorie de genre|mal...  \n",
       "213905961                 [Sabrina, Imbler, Imbler, Sabrina]  \n",
       "213905727  [retraite, anticipée, . Selon Laurence Senelic...  \n",
       "...                                                      ...  \n",
       "179466871                                      [ de lichens]  \n",
       "179466834                                              [une]  \n",
       "179466796               [[[, ]], [[Exploration polaire|, ]]]  \n",
       "179466692  [{{Infobox Biographie 2, |charte=botaniste}}, ...  \n",
       "179466433                                                 []  \n",
       "\n",
       "[95 rows x 11 columns]"
      ]
     },
     "execution_count": 6,
     "metadata": {},
     "output_type": "execute_result"
    }
   ],
   "source": [
    "revisions = (\n",
    "    pd\n",
    "    .DataFrame\n",
    "    .from_records(page.get_revisions_list())\n",
    "    .assign(\n",
    "        diff = lambda df: df.revid.progress_apply(lambda x: page.get_diff(x)).fillna(''),\n",
    "        deleted = lambda df: df['diff'].apply(lambda diff: page.extract_plusminus(diff)['deleted']),\n",
    "        added = lambda df: df['diff'].apply(lambda diff: page.extract_plusminus(diff)['added']),\n",
    "    )\n",
    "    .set_index('revid')\n",
    ")\n",
    "\n",
    "revisions"
   ]
  },
  {
   "cell_type": "code",
   "execution_count": 7,
   "id": "c589c8bc-5e6a-4361-bb5c-99b125c56fd4",
   "metadata": {
    "execution": {
     "iopub.execute_input": "2024-04-02T17:04:48.056341Z",
     "iopub.status.busy": "2024-04-02T17:04:48.056176Z",
     "iopub.status.idle": "2024-04-02T17:04:48.062565Z",
     "shell.execute_reply": "2024-04-02T17:04:48.062345Z"
    },
    "papermill": {
     "duration": 0.015458,
     "end_time": "2024-04-02T17:04:48.063131",
     "exception": false,
     "start_time": "2024-04-02T17:04:48.047673",
     "status": "completed"
    },
    "tags": []
   },
   "outputs": [],
   "source": [
    "revisions.to_csv(f'../data/page-revisions/{page_name.lower()}.csv')"
   ]
  },
  {
   "cell_type": "code",
   "execution_count": 8,
   "id": "32533855-d09c-42e1-9071-35f10655dcd8",
   "metadata": {
    "execution": {
     "iopub.execute_input": "2024-04-02T17:04:48.070004Z",
     "iopub.status.busy": "2024-04-02T17:04:48.069896Z",
     "iopub.status.idle": "2024-04-02T17:04:48.071415Z",
     "shell.execute_reply": "2024-04-02T17:04:48.071237Z"
    },
    "papermill": {
     "duration": 0.005702,
     "end_time": "2024-04-02T17:04:48.072016",
     "exception": false,
     "start_time": "2024-04-02T17:04:48.066314",
     "status": "completed"
    },
    "tags": []
   },
   "outputs": [],
   "source": [
    "def decode(string):\n",
    "    return base64.b64decode(string).decode(\"utf-8\")"
   ]
  },
  {
   "cell_type": "code",
   "execution_count": 9,
   "id": "bea34dc6-f504-44a9-846f-39e8401c62f7",
   "metadata": {
    "execution": {
     "iopub.execute_input": "2024-04-02T17:04:48.078783Z",
     "iopub.status.busy": "2024-04-02T17:04:48.078653Z",
     "iopub.status.idle": "2024-04-02T17:04:48.080037Z",
     "shell.execute_reply": "2024-04-02T17:04:48.079850Z"
    },
    "papermill": {
     "duration": 0.005344,
     "end_time": "2024-04-02T17:04:48.080475",
     "exception": false,
     "start_time": "2024-04-02T17:04:48.075131",
     "status": "completed"
    },
    "tags": []
   },
   "outputs": [],
   "source": [
    "# (\n",
    "#     revisions\n",
    "#     .assign(\n",
    "#         deadnames = lambda df: df['*'].apply(lambda x: str(x).lower().count(decode(dead_name).lower()))\n",
    "#     )\n",
    "#     #.reset_index()\n",
    "#     [['timestamp', 'deadnames']]\n",
    "#     .assign(\n",
    "#         date = lambda df: pd.to_datetime(df.timestamp).dt.date\n",
    "#     )\n",
    "#     .groupby('date')\n",
    "#     .agg({'deadnames': 'mean'})\n",
    "#     .plot\n",
    "#     .line(\n",
    "#         figsize=(15,10)\n",
    "#     )\n",
    "# )"
   ]
  },
  {
   "cell_type": "markdown",
   "id": "49e1e9d0-0960-4573-a7d3-a7a218c3c34f",
   "metadata": {
    "papermill": {
     "duration": 0.003159,
     "end_time": "2024-04-02T17:04:48.086708",
     "exception": false,
     "start_time": "2024-04-02T17:04:48.083549",
     "status": "completed"
    },
    "tags": []
   },
   "source": [
    "### depuis le coming out"
   ]
  },
  {
   "cell_type": "code",
   "execution_count": 10,
   "id": "308c3a1c-e446-42b8-b087-915ff9fdf05f",
   "metadata": {
    "execution": {
     "iopub.execute_input": "2024-04-02T17:04:48.093253Z",
     "iopub.status.busy": "2024-04-02T17:04:48.093122Z",
     "iopub.status.idle": "2024-04-02T17:04:48.096604Z",
     "shell.execute_reply": "2024-04-02T17:04:48.096432Z"
    },
    "papermill": {
     "duration": 0.007254,
     "end_time": "2024-04-02T17:04:48.097025",
     "exception": false,
     "start_time": "2024-04-02T17:04:48.089771",
     "status": "completed"
    },
    "tags": []
   },
   "outputs": [
    {
     "data": {
      "text/plain": [
       "user\n",
       "Cymbella                              14\n",
       "Anne Daemon                            3\n",
       "Biologisteantique                      2\n",
       "2A02:8440:5304:1188:0:1B:C326:2F01     1\n",
       "Cardabela48                            0\n",
       "Criric                                 0\n",
       "FR                                     0\n",
       "La Grande Feutrelle                    0\n",
       "Matpib                                 0\n",
       "Pierrette13                            0\n",
       "Name: deadname_count, dtype: int64"
      ]
     },
     "execution_count": 10,
     "metadata": {},
     "output_type": "execute_result"
    }
   ],
   "source": [
    "(\n",
    "    revisions\n",
    "    .assign(\n",
    "        deadname_count = lambda df: df.added.apply(lambda x: ' '.join(x).lower().count(decode(dead_name).lower()))\n",
    "    )\n",
    "    # on ne garde que les contributions après son coming out\n",
    "    .pipe(lambda df: df.query(f'timestamp >= \"{co_date}\"') if co_date != None else df)\n",
    "    .groupby('user')\n",
    "    .deadname_count\n",
    "    .sum()\n",
    "    .sort_values(ascending=False)\n",
    "    .head(10)\n",
    ")"
   ]
  },
  {
   "cell_type": "markdown",
   "id": "cdbf2cbe-7d9c-458a-8bb5-7554dbb954b5",
   "metadata": {
    "papermill": {
     "duration": 0.003128,
     "end_time": "2024-04-02T17:04:48.103254",
     "exception": false,
     "start_time": "2024-04-02T17:04:48.100126",
     "status": "completed"
    },
    "tags": []
   },
   "source": [
    "### depuis le début du sondage"
   ]
  },
  {
   "cell_type": "code",
   "execution_count": 11,
   "id": "e75e4ded-3e9d-45a6-bdd7-0af3b6f8b8ee",
   "metadata": {
    "execution": {
     "iopub.execute_input": "2024-04-02T17:04:48.109837Z",
     "iopub.status.busy": "2024-04-02T17:04:48.109713Z",
     "iopub.status.idle": "2024-04-02T17:04:48.113779Z",
     "shell.execute_reply": "2024-04-02T17:04:48.113595Z"
    },
    "papermill": {
     "duration": 0.007964,
     "end_time": "2024-04-02T17:04:48.114297",
     "exception": false,
     "start_time": "2024-04-02T17:04:48.106333",
     "status": "completed"
    },
    "tags": []
   },
   "outputs": [
    {
     "data": {
      "text/plain": [
       "user\n",
       "Cymbella       4\n",
       "Anne Daemon    3\n",
       "Shev123        0\n",
       "Name: deadname_count, dtype: int64"
      ]
     },
     "execution_count": 11,
     "metadata": {},
     "output_type": "execute_result"
    }
   ],
   "source": [
    "(\n",
    "    revisions\n",
    "    .assign(\n",
    "        deadname_count = lambda df: df.added.apply(lambda x: ' '.join(x).lower().count(decode(dead_name).lower()))\n",
    "    )\n",
    "    # début du sondage\n",
    "    .query('timestamp >= \"2024-01-15\"')\n",
    "    .groupby('user')\n",
    "    .deadname_count\n",
    "    .sum()\n",
    "    .sort_values(ascending=False)\n",
    "    .head(20)\n",
    ")"
   ]
  },
  {
   "cell_type": "code",
   "execution_count": 12,
   "id": "7e9a0650-90e2-4d49-9fec-7d015b4a75dc",
   "metadata": {
    "execution": {
     "iopub.execute_input": "2024-04-02T17:04:48.121059Z",
     "iopub.status.busy": "2024-04-02T17:04:48.120932Z",
     "iopub.status.idle": "2024-04-02T17:04:48.277087Z",
     "shell.execute_reply": "2024-04-02T17:04:48.276825Z"
    },
    "papermill": {
     "duration": 0.160452,
     "end_time": "2024-04-02T17:04:48.277892",
     "exception": false,
     "start_time": "2024-04-02T17:04:48.117440",
     "status": "completed"
    },
    "tags": []
   },
   "outputs": [
    {
     "data": {
      "text/html": [
       "<style type=\"text/css\">\n",
       "</style>\n",
       "<table id=\"T_0cede\">\n",
       "  <thead>\n",
       "    <tr>\n",
       "      <th class=\"blank level0\" >&nbsp;</th>\n",
       "      <th id=\"T_0cede_level0_col0\" class=\"col_heading level0 col0\" >user</th>\n",
       "      <th id=\"T_0cede_level0_col1\" class=\"col_heading level0 col1\" >deadname_count</th>\n",
       "      <th id=\"T_0cede_level0_col2\" class=\"col_heading level0 col2\" >timestamp</th>\n",
       "    </tr>\n",
       "    <tr>\n",
       "      <th class=\"index_name level0\" >revid</th>\n",
       "      <th class=\"blank col0\" >&nbsp;</th>\n",
       "      <th class=\"blank col1\" >&nbsp;</th>\n",
       "      <th class=\"blank col2\" >&nbsp;</th>\n",
       "    </tr>\n",
       "  </thead>\n",
       "  <tbody>\n",
       "    <tr>\n",
       "      <th id=\"T_0cede_level0_row0\" class=\"row_heading level0 row0\" ><a href=\"https://fr.wikipedia.org/w/index.php?title=Ivan_Mackenzie_Lamb&diff=prev&oldid=213895078\">213895078</a></th>\n",
       "      <td id=\"T_0cede_row0_col0\" class=\"data row0 col0\" >Anne Daemon</td>\n",
       "      <td id=\"T_0cede_row0_col1\" class=\"data row0 col1\" >2</td>\n",
       "      <td id=\"T_0cede_row0_col2\" class=\"data row0 col2\" >2024-04-02T08:20:57Z</td>\n",
       "    </tr>\n",
       "    <tr>\n",
       "      <th id=\"T_0cede_level0_row1\" class=\"row_heading level0 row1\" ><a href=\"https://fr.wikipedia.org/w/index.php?title=Ivan_Mackenzie_Lamb&diff=prev&oldid=213704822\">213704822</a></th>\n",
       "      <td id=\"T_0cede_row1_col0\" class=\"data row1 col0\" >Cymbella</td>\n",
       "      <td id=\"T_0cede_row1_col1\" class=\"data row1 col1\" >2</td>\n",
       "      <td id=\"T_0cede_row1_col2\" class=\"data row1 col2\" >2024-03-26T20:16:14Z</td>\n",
       "    </tr>\n",
       "    <tr>\n",
       "      <th id=\"T_0cede_level0_row2\" class=\"row_heading level0 row2\" ><a href=\"https://fr.wikipedia.org/w/index.php?title=Ivan_Mackenzie_Lamb&diff=prev&oldid=213513219\">213513219</a></th>\n",
       "      <td id=\"T_0cede_row2_col0\" class=\"data row2 col0\" >Anne Daemon</td>\n",
       "      <td id=\"T_0cede_row2_col1\" class=\"data row2 col1\" >1</td>\n",
       "      <td id=\"T_0cede_row2_col2\" class=\"data row2 col2\" >2024-03-20T14:40:41Z</td>\n",
       "    </tr>\n",
       "    <tr>\n",
       "      <th id=\"T_0cede_level0_row3\" class=\"row_heading level0 row3\" ><a href=\"https://fr.wikipedia.org/w/index.php?title=Ivan_Mackenzie_Lamb&diff=prev&oldid=213112486\">213112486</a></th>\n",
       "      <td id=\"T_0cede_row3_col0\" class=\"data row3 col0\" >Cymbella</td>\n",
       "      <td id=\"T_0cede_row3_col1\" class=\"data row3 col1\" >2</td>\n",
       "      <td id=\"T_0cede_row3_col2\" class=\"data row3 col2\" >2024-03-06T14:52:30Z</td>\n",
       "    </tr>\n",
       "  </tbody>\n",
       "</table>\n"
      ],
      "text/plain": [
       "<pandas.io.formats.style.Styler at 0x7a9817c6a860>"
      ]
     },
     "execution_count": 12,
     "metadata": {},
     "output_type": "execute_result"
    }
   ],
   "source": [
    "(\n",
    "    revisions\n",
    "    .assign(\n",
    "        deadname_count = lambda df: df.added.apply(lambda x: ' '.join(x).lower().count(decode(dead_name).lower()))\n",
    "    )\n",
    "    # début du sondage\n",
    "    .query('timestamp >= \"2024-01-15\"')\n",
    "    .query('deadname_count > 0')\n",
    "    [['user', 'deadname_count', 'timestamp']]\n",
    "    .style\n",
    "    .format_index(lambda x: format_revid_index(x, page_name))\n",
    ")"
   ]
  },
  {
   "cell_type": "markdown",
   "id": "b4ae0d43-e0f3-403f-8d77-06778155c12d",
   "metadata": {
    "papermill": {
     "duration": 0.008168,
     "end_time": "2024-04-02T17:04:48.289746",
     "exception": false,
     "start_time": "2024-04-02T17:04:48.281578",
     "status": "completed"
    },
    "tags": []
   },
   "source": [
    "## Discussions"
   ]
  },
  {
   "cell_type": "code",
   "execution_count": 13,
   "id": "65c5a95c-6148-4099-bcec-47e23701d260",
   "metadata": {
    "execution": {
     "iopub.execute_input": "2024-04-02T17:04:48.297256Z",
     "iopub.status.busy": "2024-04-02T17:04:48.296915Z",
     "iopub.status.idle": "2024-04-02T17:04:48.595955Z",
     "shell.execute_reply": "2024-04-02T17:04:48.594204Z"
    },
    "papermill": {
     "duration": 0.306152,
     "end_time": "2024-04-02T17:04:48.599167",
     "exception": false,
     "start_time": "2024-04-02T17:04:48.293015",
     "status": "completed"
    },
    "tags": []
   },
   "outputs": [],
   "source": [
    "talk = Page(f'Discussion:{page_name}', lang='fr')"
   ]
  },
  {
   "cell_type": "code",
   "execution_count": 14,
   "id": "f1aaec90-5c20-4488-a9aa-11da50fd1cf6",
   "metadata": {
    "execution": {
     "iopub.execute_input": "2024-04-02T17:04:48.619099Z",
     "iopub.status.busy": "2024-04-02T17:04:48.618907Z",
     "iopub.status.idle": "2024-04-02T17:05:32.216172Z",
     "shell.execute_reply": "2024-04-02T17:05:32.215750Z"
    },
    "papermill": {
     "duration": 43.607055,
     "end_time": "2024-04-02T17:05:32.216827",
     "exception": false,
     "start_time": "2024-04-02T17:04:48.609772",
     "status": "completed"
    },
    "tags": []
   },
   "outputs": [
    {
     "name": "stderr",
     "output_type": "stream",
     "text": [
      "\r",
      "  0%|          | 0/132 [00:00<?, ?it/s]"
     ]
    },
    {
     "name": "stderr",
     "output_type": "stream",
     "text": [
      "\r",
      "  2%|▏         | 2/132 [00:00<00:19,  6.67it/s]"
     ]
    },
    {
     "name": "stderr",
     "output_type": "stream",
     "text": [
      "\r",
      "  2%|▏         | 3/132 [00:00<00:27,  4.69it/s]"
     ]
    },
    {
     "name": "stderr",
     "output_type": "stream",
     "text": [
      "\r",
      "  3%|▎         | 4/132 [00:00<00:31,  4.11it/s]"
     ]
    },
    {
     "name": "stderr",
     "output_type": "stream",
     "text": [
      "\r",
      "  4%|▍         | 5/132 [00:01<00:33,  3.75it/s]"
     ]
    },
    {
     "name": "stderr",
     "output_type": "stream",
     "text": [
      "\r",
      "  5%|▍         | 6/132 [00:01<00:35,  3.56it/s]"
     ]
    },
    {
     "name": "stderr",
     "output_type": "stream",
     "text": [
      "\r",
      "  5%|▌         | 7/132 [00:01<00:36,  3.40it/s]"
     ]
    },
    {
     "name": "stderr",
     "output_type": "stream",
     "text": [
      "\r",
      "  6%|▌         | 8/132 [00:02<00:37,  3.34it/s]"
     ]
    },
    {
     "name": "stderr",
     "output_type": "stream",
     "text": [
      "\r",
      "  7%|▋         | 9/132 [00:02<00:37,  3.29it/s]"
     ]
    },
    {
     "name": "stderr",
     "output_type": "stream",
     "text": [
      "\r",
      "  8%|▊         | 10/132 [00:02<00:37,  3.22it/s]"
     ]
    },
    {
     "name": "stderr",
     "output_type": "stream",
     "text": [
      "\r",
      "  8%|▊         | 11/132 [00:03<00:39,  3.10it/s]"
     ]
    },
    {
     "name": "stderr",
     "output_type": "stream",
     "text": [
      "\r",
      "  9%|▉         | 12/132 [00:03<00:38,  3.09it/s]"
     ]
    },
    {
     "name": "stderr",
     "output_type": "stream",
     "text": [
      "\r",
      " 10%|▉         | 13/132 [00:03<00:37,  3.17it/s]"
     ]
    },
    {
     "name": "stderr",
     "output_type": "stream",
     "text": [
      "\r",
      " 11%|█         | 14/132 [00:04<00:36,  3.21it/s]"
     ]
    },
    {
     "name": "stderr",
     "output_type": "stream",
     "text": [
      "\r",
      " 11%|█▏        | 15/132 [00:04<00:36,  3.24it/s]"
     ]
    },
    {
     "name": "stderr",
     "output_type": "stream",
     "text": [
      "\r",
      " 12%|█▏        | 16/132 [00:04<00:35,  3.26it/s]"
     ]
    },
    {
     "name": "stderr",
     "output_type": "stream",
     "text": [
      "\r",
      " 13%|█▎        | 17/132 [00:04<00:35,  3.27it/s]"
     ]
    },
    {
     "name": "stderr",
     "output_type": "stream",
     "text": [
      "\r",
      " 14%|█▎        | 18/132 [00:05<00:35,  3.22it/s]"
     ]
    },
    {
     "name": "stderr",
     "output_type": "stream",
     "text": [
      "\r",
      " 14%|█▍        | 19/132 [00:05<00:35,  3.22it/s]"
     ]
    },
    {
     "name": "stderr",
     "output_type": "stream",
     "text": [
      "\r",
      " 15%|█▌        | 20/132 [00:05<00:34,  3.23it/s]"
     ]
    },
    {
     "name": "stderr",
     "output_type": "stream",
     "text": [
      "\r",
      " 16%|█▌        | 21/132 [00:06<00:34,  3.18it/s]"
     ]
    },
    {
     "name": "stderr",
     "output_type": "stream",
     "text": [
      "\r",
      " 17%|█▋        | 22/132 [00:06<00:34,  3.16it/s]"
     ]
    },
    {
     "name": "stderr",
     "output_type": "stream",
     "text": [
      "\r",
      " 17%|█▋        | 23/132 [00:06<00:34,  3.14it/s]"
     ]
    },
    {
     "name": "stderr",
     "output_type": "stream",
     "text": [
      "\r",
      " 18%|█▊        | 24/132 [00:07<00:34,  3.16it/s]"
     ]
    },
    {
     "name": "stderr",
     "output_type": "stream",
     "text": [
      "\r",
      " 19%|█▉        | 25/132 [00:07<00:32,  3.25it/s]"
     ]
    },
    {
     "name": "stderr",
     "output_type": "stream",
     "text": [
      "\r",
      " 20%|█▉        | 26/132 [00:07<00:33,  3.18it/s]"
     ]
    },
    {
     "name": "stderr",
     "output_type": "stream",
     "text": [
      "\r",
      " 20%|██        | 27/132 [00:08<00:32,  3.23it/s]"
     ]
    },
    {
     "name": "stderr",
     "output_type": "stream",
     "text": [
      "\r",
      " 21%|██        | 28/132 [00:08<00:32,  3.17it/s]"
     ]
    },
    {
     "name": "stderr",
     "output_type": "stream",
     "text": [
      "\r",
      " 22%|██▏       | 29/132 [00:08<00:32,  3.17it/s]"
     ]
    },
    {
     "name": "stderr",
     "output_type": "stream",
     "text": [
      "\r",
      " 23%|██▎       | 30/132 [00:09<00:32,  3.14it/s]"
     ]
    },
    {
     "name": "stderr",
     "output_type": "stream",
     "text": [
      "\r",
      " 23%|██▎       | 31/132 [00:09<00:32,  3.12it/s]"
     ]
    },
    {
     "name": "stderr",
     "output_type": "stream",
     "text": [
      "\r",
      " 24%|██▍       | 32/132 [00:09<00:33,  3.01it/s]"
     ]
    },
    {
     "name": "stderr",
     "output_type": "stream",
     "text": [
      "\r",
      " 25%|██▌       | 33/132 [00:10<00:32,  3.00it/s]"
     ]
    },
    {
     "name": "stderr",
     "output_type": "stream",
     "text": [
      "\r",
      " 26%|██▌       | 34/132 [00:10<00:31,  3.08it/s]"
     ]
    },
    {
     "name": "stderr",
     "output_type": "stream",
     "text": [
      "\r",
      " 27%|██▋       | 35/132 [00:10<00:31,  3.09it/s]"
     ]
    },
    {
     "name": "stderr",
     "output_type": "stream",
     "text": [
      "\r",
      " 27%|██▋       | 36/132 [00:11<00:30,  3.11it/s]"
     ]
    },
    {
     "name": "stderr",
     "output_type": "stream",
     "text": [
      "\r",
      " 28%|██▊       | 37/132 [00:11<00:30,  3.14it/s]"
     ]
    },
    {
     "name": "stderr",
     "output_type": "stream",
     "text": [
      "\r",
      " 29%|██▉       | 38/132 [00:11<00:30,  3.13it/s]"
     ]
    },
    {
     "name": "stderr",
     "output_type": "stream",
     "text": [
      "\r",
      " 30%|██▉       | 39/132 [00:11<00:29,  3.13it/s]"
     ]
    },
    {
     "name": "stderr",
     "output_type": "stream",
     "text": [
      "\r",
      " 30%|███       | 40/132 [00:12<00:29,  3.09it/s]"
     ]
    },
    {
     "name": "stderr",
     "output_type": "stream",
     "text": [
      "\r",
      " 31%|███       | 41/132 [00:12<00:29,  3.03it/s]"
     ]
    },
    {
     "name": "stderr",
     "output_type": "stream",
     "text": [
      "\r",
      " 32%|███▏      | 42/132 [00:12<00:29,  3.04it/s]"
     ]
    },
    {
     "name": "stderr",
     "output_type": "stream",
     "text": [
      "\r",
      " 33%|███▎      | 43/132 [00:13<00:29,  3.05it/s]"
     ]
    },
    {
     "name": "stderr",
     "output_type": "stream",
     "text": [
      "\r",
      " 33%|███▎      | 44/132 [00:13<00:28,  3.05it/s]"
     ]
    },
    {
     "name": "stderr",
     "output_type": "stream",
     "text": [
      "\r",
      " 34%|███▍      | 45/132 [00:13<00:28,  3.06it/s]"
     ]
    },
    {
     "name": "stderr",
     "output_type": "stream",
     "text": [
      "\r",
      " 35%|███▍      | 46/132 [00:14<00:28,  3.06it/s]"
     ]
    },
    {
     "name": "stderr",
     "output_type": "stream",
     "text": [
      "\r",
      " 36%|███▌      | 47/132 [00:14<00:28,  3.00it/s]"
     ]
    },
    {
     "name": "stderr",
     "output_type": "stream",
     "text": [
      "\r",
      " 36%|███▋      | 48/132 [00:15<00:28,  2.94it/s]"
     ]
    },
    {
     "name": "stderr",
     "output_type": "stream",
     "text": [
      "\r",
      " 37%|███▋      | 49/132 [00:15<00:28,  2.95it/s]"
     ]
    },
    {
     "name": "stderr",
     "output_type": "stream",
     "text": [
      "\r",
      " 38%|███▊      | 50/132 [00:15<00:28,  2.88it/s]"
     ]
    },
    {
     "name": "stderr",
     "output_type": "stream",
     "text": [
      "\r",
      " 39%|███▊      | 51/132 [00:16<00:27,  2.89it/s]"
     ]
    },
    {
     "name": "stderr",
     "output_type": "stream",
     "text": [
      "\r",
      " 39%|███▉      | 52/132 [00:16<00:27,  2.95it/s]"
     ]
    },
    {
     "name": "stderr",
     "output_type": "stream",
     "text": [
      "\r",
      " 40%|████      | 53/132 [00:16<00:26,  3.00it/s]"
     ]
    },
    {
     "name": "stderr",
     "output_type": "stream",
     "text": [
      "\r",
      " 41%|████      | 54/132 [00:17<00:25,  3.03it/s]"
     ]
    },
    {
     "name": "stderr",
     "output_type": "stream",
     "text": [
      "\r",
      " 42%|████▏     | 55/132 [00:17<00:25,  3.07it/s]"
     ]
    },
    {
     "name": "stderr",
     "output_type": "stream",
     "text": [
      "\r",
      " 42%|████▏     | 56/132 [00:17<00:24,  3.13it/s]"
     ]
    },
    {
     "name": "stderr",
     "output_type": "stream",
     "text": [
      "\r",
      " 43%|████▎     | 57/132 [00:18<00:24,  3.01it/s]"
     ]
    },
    {
     "name": "stderr",
     "output_type": "stream",
     "text": [
      "\r",
      " 44%|████▍     | 58/132 [00:18<00:24,  2.99it/s]"
     ]
    },
    {
     "name": "stderr",
     "output_type": "stream",
     "text": [
      "\r",
      " 45%|████▍     | 59/132 [00:18<00:24,  3.03it/s]"
     ]
    },
    {
     "name": "stderr",
     "output_type": "stream",
     "text": [
      "\r",
      " 45%|████▌     | 60/132 [00:18<00:23,  3.05it/s]"
     ]
    },
    {
     "name": "stderr",
     "output_type": "stream",
     "text": [
      "\r",
      " 46%|████▌     | 61/132 [00:19<00:23,  3.07it/s]"
     ]
    },
    {
     "name": "stderr",
     "output_type": "stream",
     "text": [
      "\r",
      " 47%|████▋     | 62/132 [00:19<00:22,  3.12it/s]"
     ]
    },
    {
     "name": "stderr",
     "output_type": "stream",
     "text": [
      "\r",
      " 48%|████▊     | 63/132 [00:19<00:22,  3.11it/s]"
     ]
    },
    {
     "name": "stderr",
     "output_type": "stream",
     "text": [
      "\r",
      " 48%|████▊     | 64/132 [00:20<00:22,  3.03it/s]"
     ]
    },
    {
     "name": "stderr",
     "output_type": "stream",
     "text": [
      "\r",
      " 49%|████▉     | 65/132 [00:20<00:21,  3.09it/s]"
     ]
    },
    {
     "name": "stderr",
     "output_type": "stream",
     "text": [
      "\r",
      " 50%|█████     | 66/132 [00:20<00:20,  3.16it/s]"
     ]
    },
    {
     "name": "stderr",
     "output_type": "stream",
     "text": [
      "\r",
      " 51%|█████     | 67/132 [00:21<00:20,  3.12it/s]"
     ]
    },
    {
     "name": "stderr",
     "output_type": "stream",
     "text": [
      "\r",
      " 52%|█████▏    | 68/132 [00:21<00:20,  3.09it/s]"
     ]
    },
    {
     "name": "stderr",
     "output_type": "stream",
     "text": [
      "\r",
      " 52%|█████▏    | 69/132 [00:21<00:20,  3.06it/s]"
     ]
    },
    {
     "name": "stderr",
     "output_type": "stream",
     "text": [
      "\r",
      " 53%|█████▎    | 70/132 [00:22<00:20,  3.00it/s]"
     ]
    },
    {
     "name": "stderr",
     "output_type": "stream",
     "text": [
      "\r",
      " 54%|█████▍    | 71/132 [00:22<00:20,  2.97it/s]"
     ]
    },
    {
     "name": "stderr",
     "output_type": "stream",
     "text": [
      "\r",
      " 55%|█████▍    | 72/132 [00:23<00:23,  2.56it/s]"
     ]
    },
    {
     "name": "stderr",
     "output_type": "stream",
     "text": [
      "\r",
      " 55%|█████▌    | 73/132 [00:23<00:21,  2.70it/s]"
     ]
    },
    {
     "name": "stderr",
     "output_type": "stream",
     "text": [
      "\r",
      " 56%|█████▌    | 74/132 [00:23<00:20,  2.80it/s]"
     ]
    },
    {
     "name": "stderr",
     "output_type": "stream",
     "text": [
      "\r",
      " 57%|█████▋    | 75/132 [00:24<00:19,  2.87it/s]"
     ]
    },
    {
     "name": "stderr",
     "output_type": "stream",
     "text": [
      "\r",
      " 58%|█████▊    | 76/132 [00:24<00:19,  2.92it/s]"
     ]
    },
    {
     "name": "stderr",
     "output_type": "stream",
     "text": [
      "\r",
      " 58%|█████▊    | 77/132 [00:24<00:18,  2.90it/s]"
     ]
    },
    {
     "name": "stderr",
     "output_type": "stream",
     "text": [
      "\r",
      " 59%|█████▉    | 78/132 [00:25<00:18,  2.90it/s]"
     ]
    },
    {
     "name": "stderr",
     "output_type": "stream",
     "text": [
      "\r",
      " 60%|█████▉    | 79/132 [00:25<00:18,  2.90it/s]"
     ]
    },
    {
     "name": "stderr",
     "output_type": "stream",
     "text": [
      "\r",
      " 61%|██████    | 80/132 [00:25<00:18,  2.88it/s]"
     ]
    },
    {
     "name": "stderr",
     "output_type": "stream",
     "text": [
      "\r",
      " 61%|██████▏   | 81/132 [00:26<00:17,  2.92it/s]"
     ]
    },
    {
     "name": "stderr",
     "output_type": "stream",
     "text": [
      "\r",
      " 62%|██████▏   | 82/132 [00:26<00:17,  2.90it/s]"
     ]
    },
    {
     "name": "stderr",
     "output_type": "stream",
     "text": [
      "\r",
      " 63%|██████▎   | 83/132 [00:26<00:16,  2.91it/s]"
     ]
    },
    {
     "name": "stderr",
     "output_type": "stream",
     "text": [
      "\r",
      " 64%|██████▎   | 84/132 [00:27<00:16,  2.93it/s]"
     ]
    },
    {
     "name": "stderr",
     "output_type": "stream",
     "text": [
      "\r",
      " 64%|██████▍   | 85/132 [00:27<00:15,  2.96it/s]"
     ]
    },
    {
     "name": "stderr",
     "output_type": "stream",
     "text": [
      "\r",
      " 65%|██████▌   | 86/132 [00:27<00:15,  2.98it/s]"
     ]
    },
    {
     "name": "stderr",
     "output_type": "stream",
     "text": [
      "\r",
      " 66%|██████▌   | 87/132 [00:28<00:14,  3.06it/s]"
     ]
    },
    {
     "name": "stderr",
     "output_type": "stream",
     "text": [
      "\r",
      " 67%|██████▋   | 88/132 [00:28<00:14,  3.09it/s]"
     ]
    },
    {
     "name": "stderr",
     "output_type": "stream",
     "text": [
      "\r",
      " 67%|██████▋   | 89/132 [00:28<00:13,  3.12it/s]"
     ]
    },
    {
     "name": "stderr",
     "output_type": "stream",
     "text": [
      "\r",
      " 68%|██████▊   | 90/132 [00:29<00:13,  3.18it/s]"
     ]
    },
    {
     "name": "stderr",
     "output_type": "stream",
     "text": [
      "\r",
      " 69%|██████▉   | 91/132 [00:29<00:12,  3.15it/s]"
     ]
    },
    {
     "name": "stderr",
     "output_type": "stream",
     "text": [
      "\r",
      " 70%|██████▉   | 92/132 [00:29<00:12,  3.12it/s]"
     ]
    },
    {
     "name": "stderr",
     "output_type": "stream",
     "text": [
      "\r",
      " 70%|███████   | 93/132 [00:30<00:12,  3.05it/s]"
     ]
    },
    {
     "name": "stderr",
     "output_type": "stream",
     "text": [
      "\r",
      " 71%|███████   | 94/132 [00:30<00:12,  3.02it/s]"
     ]
    },
    {
     "name": "stderr",
     "output_type": "stream",
     "text": [
      "\r",
      " 72%|███████▏  | 95/132 [00:30<00:12,  3.04it/s]"
     ]
    },
    {
     "name": "stderr",
     "output_type": "stream",
     "text": [
      "\r",
      " 73%|███████▎  | 96/132 [00:31<00:11,  3.03it/s]"
     ]
    },
    {
     "name": "stderr",
     "output_type": "stream",
     "text": [
      "\r",
      " 73%|███████▎  | 97/132 [00:31<00:11,  3.04it/s]"
     ]
    },
    {
     "name": "stderr",
     "output_type": "stream",
     "text": [
      "\r",
      " 74%|███████▍  | 98/132 [00:31<00:11,  3.05it/s]"
     ]
    },
    {
     "name": "stderr",
     "output_type": "stream",
     "text": [
      "\r",
      " 75%|███████▌  | 99/132 [00:32<00:10,  3.07it/s]"
     ]
    },
    {
     "name": "stderr",
     "output_type": "stream",
     "text": [
      "\r",
      " 76%|███████▌  | 100/132 [00:32<00:10,  3.03it/s]"
     ]
    },
    {
     "name": "stderr",
     "output_type": "stream",
     "text": [
      "\r",
      " 77%|███████▋  | 101/132 [00:32<00:10,  3.05it/s]"
     ]
    },
    {
     "name": "stderr",
     "output_type": "stream",
     "text": [
      "\r",
      " 77%|███████▋  | 102/132 [00:32<00:09,  3.09it/s]"
     ]
    },
    {
     "name": "stderr",
     "output_type": "stream",
     "text": [
      "\r",
      " 78%|███████▊  | 103/132 [00:33<00:09,  3.16it/s]"
     ]
    },
    {
     "name": "stderr",
     "output_type": "stream",
     "text": [
      "\r",
      " 79%|███████▉  | 104/132 [00:33<00:08,  3.16it/s]"
     ]
    },
    {
     "name": "stderr",
     "output_type": "stream",
     "text": [
      "\r",
      " 80%|███████▉  | 105/132 [00:33<00:08,  3.18it/s]"
     ]
    },
    {
     "name": "stderr",
     "output_type": "stream",
     "text": [
      "\r",
      " 80%|████████  | 106/132 [00:34<00:08,  3.18it/s]"
     ]
    },
    {
     "name": "stderr",
     "output_type": "stream",
     "text": [
      "\r",
      " 81%|████████  | 107/132 [00:34<00:07,  3.18it/s]"
     ]
    },
    {
     "name": "stderr",
     "output_type": "stream",
     "text": [
      "\r",
      " 82%|████████▏ | 108/132 [00:34<00:07,  3.17it/s]"
     ]
    },
    {
     "name": "stderr",
     "output_type": "stream",
     "text": [
      "\r",
      " 83%|████████▎ | 109/132 [00:35<00:07,  3.11it/s]"
     ]
    },
    {
     "name": "stderr",
     "output_type": "stream",
     "text": [
      "\r",
      " 83%|████████▎ | 110/132 [00:35<00:08,  2.69it/s]"
     ]
    },
    {
     "name": "stderr",
     "output_type": "stream",
     "text": [
      "\r",
      " 84%|████████▍ | 111/132 [00:36<00:07,  2.78it/s]"
     ]
    },
    {
     "name": "stderr",
     "output_type": "stream",
     "text": [
      "\r",
      " 85%|████████▍ | 112/132 [00:36<00:06,  2.91it/s]"
     ]
    },
    {
     "name": "stderr",
     "output_type": "stream",
     "text": [
      "\r",
      " 86%|████████▌ | 113/132 [00:36<00:06,  2.96it/s]"
     ]
    },
    {
     "name": "stderr",
     "output_type": "stream",
     "text": [
      "\r",
      " 86%|████████▋ | 114/132 [00:36<00:05,  3.07it/s]"
     ]
    },
    {
     "name": "stderr",
     "output_type": "stream",
     "text": [
      "\r",
      " 87%|████████▋ | 115/132 [00:37<00:05,  3.09it/s]"
     ]
    },
    {
     "name": "stderr",
     "output_type": "stream",
     "text": [
      "\r",
      " 88%|████████▊ | 116/132 [00:37<00:05,  3.11it/s]"
     ]
    },
    {
     "name": "stderr",
     "output_type": "stream",
     "text": [
      "\r",
      " 89%|████████▊ | 117/132 [00:37<00:04,  3.09it/s]"
     ]
    },
    {
     "name": "stderr",
     "output_type": "stream",
     "text": [
      "\r",
      " 89%|████████▉ | 118/132 [00:38<00:04,  3.05it/s]"
     ]
    },
    {
     "name": "stderr",
     "output_type": "stream",
     "text": [
      "\r",
      " 90%|█████████ | 119/132 [00:38<00:04,  3.14it/s]"
     ]
    },
    {
     "name": "stderr",
     "output_type": "stream",
     "text": [
      "\r",
      " 91%|█████████ | 120/132 [00:38<00:03,  3.14it/s]"
     ]
    },
    {
     "name": "stderr",
     "output_type": "stream",
     "text": [
      "\r",
      " 92%|█████████▏| 121/132 [00:39<00:03,  3.16it/s]"
     ]
    },
    {
     "name": "stderr",
     "output_type": "stream",
     "text": [
      "\r",
      " 92%|█████████▏| 122/132 [00:39<00:03,  3.20it/s]"
     ]
    },
    {
     "name": "stderr",
     "output_type": "stream",
     "text": [
      "\r",
      " 93%|█████████▎| 123/132 [00:39<00:02,  3.16it/s]"
     ]
    },
    {
     "name": "stderr",
     "output_type": "stream",
     "text": [
      "\r",
      " 94%|█████████▍| 124/132 [00:40<00:02,  3.19it/s]"
     ]
    },
    {
     "name": "stderr",
     "output_type": "stream",
     "text": [
      "\r",
      " 95%|█████████▍| 125/132 [00:40<00:02,  3.20it/s]"
     ]
    },
    {
     "name": "stderr",
     "output_type": "stream",
     "text": [
      "\r",
      " 95%|█████████▌| 126/132 [00:40<00:01,  3.20it/s]"
     ]
    },
    {
     "name": "stderr",
     "output_type": "stream",
     "text": [
      "\r",
      " 96%|█████████▌| 127/132 [00:41<00:01,  3.13it/s]"
     ]
    },
    {
     "name": "stderr",
     "output_type": "stream",
     "text": [
      "\r",
      " 97%|█████████▋| 128/132 [00:41<00:01,  3.14it/s]"
     ]
    },
    {
     "name": "stderr",
     "output_type": "stream",
     "text": [
      "\r",
      " 98%|█████████▊| 129/132 [00:41<00:00,  3.18it/s]"
     ]
    },
    {
     "name": "stderr",
     "output_type": "stream",
     "text": [
      "\r",
      " 98%|█████████▊| 130/132 [00:42<00:00,  3.16it/s]"
     ]
    },
    {
     "name": "stderr",
     "output_type": "stream",
     "text": [
      "\r",
      " 99%|█████████▉| 131/132 [00:42<00:00,  3.17it/s]"
     ]
    },
    {
     "name": "stderr",
     "output_type": "stream",
     "text": [
      "\r",
      "100%|██████████| 132/132 [00:42<00:00,  3.14it/s]"
     ]
    },
    {
     "name": "stderr",
     "output_type": "stream",
     "text": [
      "\r",
      "100%|██████████| 132/132 [00:42<00:00,  3.07it/s]"
     ]
    },
    {
     "name": "stderr",
     "output_type": "stream",
     "text": [
      "\n"
     ]
    }
   ],
   "source": [
    "talk_revisions = (\n",
    "    pd\n",
    "    .DataFrame\n",
    "    .from_records(talk.get_revisions_list())\n",
    "    .assign(\n",
    "        diff = lambda df: df.revid.progress_apply(lambda x: talk.get_diff(x)),\n",
    "        deleted = lambda df: df['diff'].apply(lambda diff: talk.extract_plusminus(diff)['deleted']),\n",
    "        added = lambda df: df['diff'].apply(lambda diff: talk.extract_plusminus(diff)['added']),\n",
    "    )\n",
    "    .set_index('revid')\n",
    ")\n",
    "\n",
    "#talk_revisions"
   ]
  },
  {
   "cell_type": "code",
   "execution_count": 15,
   "id": "25ec8a7b-a133-458e-bad3-331c8f41b851",
   "metadata": {
    "execution": {
     "iopub.execute_input": "2024-04-02T17:05:32.228914Z",
     "iopub.status.busy": "2024-04-02T17:05:32.228776Z",
     "iopub.status.idle": "2024-04-02T17:05:32.235910Z",
     "shell.execute_reply": "2024-04-02T17:05:32.235633Z"
    },
    "papermill": {
     "duration": 0.013932,
     "end_time": "2024-04-02T17:05:32.236502",
     "exception": false,
     "start_time": "2024-04-02T17:05:32.222570",
     "status": "completed"
    },
    "tags": []
   },
   "outputs": [],
   "source": [
    "talk_revisions.to_csv(f'../data/page-revisions/discussion:{page_name.lower()}.csv')"
   ]
  },
  {
   "cell_type": "markdown",
   "id": "4d1737c2-1d19-48bb-925f-f3a73fc7c585",
   "metadata": {
    "papermill": {
     "duration": 0.005425,
     "end_time": "2024-04-02T17:05:32.247332",
     "exception": false,
     "start_time": "2024-04-02T17:05:32.241907",
     "status": "completed"
    },
    "tags": []
   },
   "source": [
    "### depuis le coming out"
   ]
  },
  {
   "cell_type": "code",
   "execution_count": 16,
   "id": "0e863939-69ce-43d1-a48c-ed831817f6c6",
   "metadata": {
    "execution": {
     "iopub.execute_input": "2024-04-02T17:05:32.258623Z",
     "iopub.status.busy": "2024-04-02T17:05:32.258483Z",
     "iopub.status.idle": "2024-04-02T17:05:32.263006Z",
     "shell.execute_reply": "2024-04-02T17:05:32.262794Z"
    },
    "papermill": {
     "duration": 0.011314,
     "end_time": "2024-04-02T17:05:32.263949",
     "exception": false,
     "start_time": "2024-04-02T17:05:32.252635",
     "status": "completed"
    },
    "tags": []
   },
   "outputs": [
    {
     "data": {
      "text/plain": [
       "user\n",
       "Cymbella                                18\n",
       "Enthalpist                               9\n",
       "Sherwood6                                7\n",
       "Jeune Lutin                              3\n",
       "Anne Daemon                              2\n",
       "GF38storic                               1\n",
       "Le GreeKiwi                              1\n",
       "2A01:CB18:3A1:600:7D38:3E1:EB42:DB05     1\n",
       "Florck                                   1\n",
       "Jean.claude                              0\n",
       "Name: deadname_count, dtype: int64"
      ]
     },
     "execution_count": 16,
     "metadata": {},
     "output_type": "execute_result"
    }
   ],
   "source": [
    "(\n",
    "    talk_revisions\n",
    "    .assign(\n",
    "        deadname_count = lambda df: df.added.apply(lambda x: ' '.join(x).lower().count(decode(dead_name).lower()))\n",
    "    )\n",
    "    # on ne garde que les contributions après son coming out\n",
    "    #.query('timestamp >= \"2013-08-22\"')\n",
    "    .groupby('user')\n",
    "    .deadname_count\n",
    "    .sum()\n",
    "    .sort_values(ascending=False)\n",
    "    .head(10)\n",
    ")"
   ]
  },
  {
   "cell_type": "markdown",
   "id": "f527cdea-8c65-45e8-8274-48ee9e2246b8",
   "metadata": {
    "papermill": {
     "duration": 0.005455,
     "end_time": "2024-04-02T17:05:32.274767",
     "exception": false,
     "start_time": "2024-04-02T17:05:32.269312",
     "status": "completed"
    },
    "tags": []
   },
   "source": [
    "### depuis le début du sondage"
   ]
  },
  {
   "cell_type": "code",
   "execution_count": 17,
   "id": "9e1a66e6-8622-4a4c-a031-95f1ee3e81b1",
   "metadata": {
    "execution": {
     "iopub.execute_input": "2024-04-02T17:05:32.286206Z",
     "iopub.status.busy": "2024-04-02T17:05:32.286085Z",
     "iopub.status.idle": "2024-04-02T17:05:32.291013Z",
     "shell.execute_reply": "2024-04-02T17:05:32.290836Z"
    },
    "papermill": {
     "duration": 0.011721,
     "end_time": "2024-04-02T17:05:32.291863",
     "exception": false,
     "start_time": "2024-04-02T17:05:32.280142",
     "status": "completed"
    },
    "tags": []
   },
   "outputs": [
    {
     "data": {
      "text/plain": [
       "user\n",
       "Cymbella                                  11\n",
       "Enthalpist                                 9\n",
       "Sherwood6                                  6\n",
       "Jeune Lutin                                3\n",
       "Anne Daemon                                2\n",
       "2A01:CB18:3A1:600:7D38:3E1:EB42:DB05       1\n",
       "Florck                                     1\n",
       "GF38storic                                 1\n",
       "Le GreeKiwi                                1\n",
       "2A02:8440:A10A:6893:8C9A:7FF:FEBB:6102     0\n",
       "Name: deadname_count, dtype: int64"
      ]
     },
     "execution_count": 17,
     "metadata": {},
     "output_type": "execute_result"
    }
   ],
   "source": [
    "(\n",
    "    talk_revisions\n",
    "    .assign(\n",
    "        deadname_count = lambda df: df.added.apply(lambda x: ' '.join(x).lower().count(decode(dead_name).lower()))\n",
    "    )\n",
    "    # depuis le sondage\n",
    "    .query('timestamp >= \"2024-01-15\"')\n",
    "    .groupby('user')\n",
    "    .deadname_count\n",
    "    .sum()\n",
    "    .sort_values(ascending=False)\n",
    "    .head(10)\n",
    ")"
   ]
  },
  {
   "cell_type": "code",
   "execution_count": 18,
   "id": "63fb08f4-6403-42c9-87ea-7851eb4853b9",
   "metadata": {
    "execution": {
     "iopub.execute_input": "2024-04-02T17:05:32.303775Z",
     "iopub.status.busy": "2024-04-02T17:05:32.303658Z",
     "iopub.status.idle": "2024-04-02T17:05:32.312007Z",
     "shell.execute_reply": "2024-04-02T17:05:32.311677Z"
    },
    "papermill": {
     "duration": 0.016949,
     "end_time": "2024-04-02T17:05:32.314247",
     "exception": false,
     "start_time": "2024-04-02T17:05:32.297298",
     "status": "completed"
    },
    "tags": []
   },
   "outputs": [
    {
     "data": {
      "text/html": [
       "<style type=\"text/css\">\n",
       "</style>\n",
       "<table id=\"T_0a12d\">\n",
       "  <thead>\n",
       "    <tr>\n",
       "      <th class=\"blank level0\" >&nbsp;</th>\n",
       "      <th id=\"T_0a12d_level0_col0\" class=\"col_heading level0 col0\" >user</th>\n",
       "      <th id=\"T_0a12d_level0_col1\" class=\"col_heading level0 col1\" >deadname_count</th>\n",
       "      <th id=\"T_0a12d_level0_col2\" class=\"col_heading level0 col2\" >timestamp</th>\n",
       "    </tr>\n",
       "    <tr>\n",
       "      <th class=\"index_name level0\" >revid</th>\n",
       "      <th class=\"blank col0\" >&nbsp;</th>\n",
       "      <th class=\"blank col1\" >&nbsp;</th>\n",
       "      <th class=\"blank col2\" >&nbsp;</th>\n",
       "    </tr>\n",
       "  </thead>\n",
       "  <tbody>\n",
       "    <tr>\n",
       "      <th id=\"T_0a12d_level0_row0\" class=\"row_heading level0 row0\" ><a href=\"https://fr.wikipedia.org/w/index.php?title=Discussion:Ivan_Mackenzie_Lamb&diff=prev&oldid=213905277\">213905277</a></th>\n",
       "      <td id=\"T_0a12d_row0_col0\" class=\"data row0 col0\" >Cymbella</td>\n",
       "      <td id=\"T_0a12d_row0_col1\" class=\"data row0 col1\" >1</td>\n",
       "      <td id=\"T_0a12d_row0_col2\" class=\"data row0 col2\" >2024-04-02T15:29:37Z</td>\n",
       "    </tr>\n",
       "    <tr>\n",
       "      <th id=\"T_0a12d_level0_row1\" class=\"row_heading level0 row1\" ><a href=\"https://fr.wikipedia.org/w/index.php?title=Discussion:Ivan_Mackenzie_Lamb&diff=prev&oldid=213905176\">213905176</a></th>\n",
       "      <td id=\"T_0a12d_row1_col0\" class=\"data row1 col0\" >Florck</td>\n",
       "      <td id=\"T_0a12d_row1_col1\" class=\"data row1 col1\" >1</td>\n",
       "      <td id=\"T_0a12d_row1_col2\" class=\"data row1 col2\" >2024-04-02T15:26:15Z</td>\n",
       "    </tr>\n",
       "    <tr>\n",
       "      <th id=\"T_0a12d_level0_row2\" class=\"row_heading level0 row2\" ><a href=\"https://fr.wikipedia.org/w/index.php?title=Discussion:Ivan_Mackenzie_Lamb&diff=prev&oldid=213903307\">213903307</a></th>\n",
       "      <td id=\"T_0a12d_row2_col0\" class=\"data row2 col0\" >Anne Daemon</td>\n",
       "      <td id=\"T_0a12d_row2_col1\" class=\"data row2 col1\" >1</td>\n",
       "      <td id=\"T_0a12d_row2_col2\" class=\"data row2 col2\" >2024-04-02T14:19:54Z</td>\n",
       "    </tr>\n",
       "    <tr>\n",
       "      <th id=\"T_0a12d_level0_row3\" class=\"row_heading level0 row3\" ><a href=\"https://fr.wikipedia.org/w/index.php?title=Discussion:Ivan_Mackenzie_Lamb&diff=prev&oldid=213902946\">213902946</a></th>\n",
       "      <td id=\"T_0a12d_row3_col0\" class=\"data row3 col0\" >Anne Daemon</td>\n",
       "      <td id=\"T_0a12d_row3_col1\" class=\"data row3 col1\" >1</td>\n",
       "      <td id=\"T_0a12d_row3_col2\" class=\"data row3 col2\" >2024-04-02T14:07:50Z</td>\n",
       "    </tr>\n",
       "    <tr>\n",
       "      <th id=\"T_0a12d_level0_row4\" class=\"row_heading level0 row4\" ><a href=\"https://fr.wikipedia.org/w/index.php?title=Discussion:Ivan_Mackenzie_Lamb&diff=prev&oldid=213900741\">213900741</a></th>\n",
       "      <td id=\"T_0a12d_row4_col0\" class=\"data row4 col0\" >GF38storic</td>\n",
       "      <td id=\"T_0a12d_row4_col1\" class=\"data row4 col1\" >1</td>\n",
       "      <td id=\"T_0a12d_row4_col2\" class=\"data row4 col2\" >2024-04-02T12:43:32Z</td>\n",
       "    </tr>\n",
       "    <tr>\n",
       "      <th id=\"T_0a12d_level0_row5\" class=\"row_heading level0 row5\" ><a href=\"https://fr.wikipedia.org/w/index.php?title=Discussion:Ivan_Mackenzie_Lamb&diff=prev&oldid=213893318\">213893318</a></th>\n",
       "      <td id=\"T_0a12d_row5_col0\" class=\"data row5 col0\" >Enthalpist</td>\n",
       "      <td id=\"T_0a12d_row5_col1\" class=\"data row5 col1\" >3</td>\n",
       "      <td id=\"T_0a12d_row5_col2\" class=\"data row5 col2\" >2024-04-02T06:24:28Z</td>\n",
       "    </tr>\n",
       "    <tr>\n",
       "      <th id=\"T_0a12d_level0_row6\" class=\"row_heading level0 row6\" ><a href=\"https://fr.wikipedia.org/w/index.php?title=Discussion:Ivan_Mackenzie_Lamb&diff=prev&oldid=213887766\">213887766</a></th>\n",
       "      <td id=\"T_0a12d_row6_col0\" class=\"data row6 col0\" >Jeune Lutin</td>\n",
       "      <td id=\"T_0a12d_row6_col1\" class=\"data row6 col1\" >3</td>\n",
       "      <td id=\"T_0a12d_row6_col2\" class=\"data row6 col2\" >2024-04-01T23:35:10Z</td>\n",
       "    </tr>\n",
       "    <tr>\n",
       "      <th id=\"T_0a12d_level0_row7\" class=\"row_heading level0 row7\" ><a href=\"https://fr.wikipedia.org/w/index.php?title=Discussion:Ivan_Mackenzie_Lamb&diff=prev&oldid=213884313\">213884313</a></th>\n",
       "      <td id=\"T_0a12d_row7_col0\" class=\"data row7 col0\" >Cymbella</td>\n",
       "      <td id=\"T_0a12d_row7_col1\" class=\"data row7 col1\" >1</td>\n",
       "      <td id=\"T_0a12d_row7_col2\" class=\"data row7 col2\" >2024-04-01T21:18:37Z</td>\n",
       "    </tr>\n",
       "    <tr>\n",
       "      <th id=\"T_0a12d_level0_row8\" class=\"row_heading level0 row8\" ><a href=\"https://fr.wikipedia.org/w/index.php?title=Discussion:Ivan_Mackenzie_Lamb&diff=prev&oldid=213843134\">213843134</a></th>\n",
       "      <td id=\"T_0a12d_row8_col0\" class=\"data row8 col0\" >Cymbella</td>\n",
       "      <td id=\"T_0a12d_row8_col1\" class=\"data row8 col1\" >1</td>\n",
       "      <td id=\"T_0a12d_row8_col2\" class=\"data row8 col2\" >2024-03-31T17:10:53Z</td>\n",
       "    </tr>\n",
       "    <tr>\n",
       "      <th id=\"T_0a12d_level0_row9\" class=\"row_heading level0 row9\" ><a href=\"https://fr.wikipedia.org/w/index.php?title=Discussion:Ivan_Mackenzie_Lamb&diff=prev&oldid=213751051\">213751051</a></th>\n",
       "      <td id=\"T_0a12d_row9_col0\" class=\"data row9 col0\" >2A01:CB18:3A1:600:7D38:3E1:EB42:DB05</td>\n",
       "      <td id=\"T_0a12d_row9_col1\" class=\"data row9 col1\" >1</td>\n",
       "      <td id=\"T_0a12d_row9_col2\" class=\"data row9 col2\" >2024-03-28T11:41:08Z</td>\n",
       "    </tr>\n",
       "    <tr>\n",
       "      <th id=\"T_0a12d_level0_row10\" class=\"row_heading level0 row10\" ><a href=\"https://fr.wikipedia.org/w/index.php?title=Discussion:Ivan_Mackenzie_Lamb&diff=prev&oldid=213747283\">213747283</a></th>\n",
       "      <td id=\"T_0a12d_row10_col0\" class=\"data row10 col0\" >Enthalpist</td>\n",
       "      <td id=\"T_0a12d_row10_col1\" class=\"data row10 col1\" >2</td>\n",
       "      <td id=\"T_0a12d_row10_col2\" class=\"data row10 col2\" >2024-03-28T09:02:54Z</td>\n",
       "    </tr>\n",
       "    <tr>\n",
       "      <th id=\"T_0a12d_level0_row11\" class=\"row_heading level0 row11\" ><a href=\"https://fr.wikipedia.org/w/index.php?title=Discussion:Ivan_Mackenzie_Lamb&diff=prev&oldid=213733772\">213733772</a></th>\n",
       "      <td id=\"T_0a12d_row11_col0\" class=\"data row11 col0\" >Enthalpist</td>\n",
       "      <td id=\"T_0a12d_row11_col1\" class=\"data row11 col1\" >3</td>\n",
       "      <td id=\"T_0a12d_row11_col2\" class=\"data row11 col2\" >2024-03-27T18:43:44Z</td>\n",
       "    </tr>\n",
       "    <tr>\n",
       "      <th id=\"T_0a12d_level0_row12\" class=\"row_heading level0 row12\" ><a href=\"https://fr.wikipedia.org/w/index.php?title=Discussion:Ivan_Mackenzie_Lamb&diff=prev&oldid=213732723\">213732723</a></th>\n",
       "      <td id=\"T_0a12d_row12_col0\" class=\"data row12 col0\" >Sherwood6</td>\n",
       "      <td id=\"T_0a12d_row12_col1\" class=\"data row12 col1\" >1</td>\n",
       "      <td id=\"T_0a12d_row12_col2\" class=\"data row12 col2\" >2024-03-27T17:58:19Z</td>\n",
       "    </tr>\n",
       "    <tr>\n",
       "      <th id=\"T_0a12d_level0_row13\" class=\"row_heading level0 row13\" ><a href=\"https://fr.wikipedia.org/w/index.php?title=Discussion:Ivan_Mackenzie_Lamb&diff=prev&oldid=213731305\">213731305</a></th>\n",
       "      <td id=\"T_0a12d_row13_col0\" class=\"data row13 col0\" >Enthalpist</td>\n",
       "      <td id=\"T_0a12d_row13_col1\" class=\"data row13 col1\" >1</td>\n",
       "      <td id=\"T_0a12d_row13_col2\" class=\"data row13 col2\" >2024-03-27T17:11:37Z</td>\n",
       "    </tr>\n",
       "    <tr>\n",
       "      <th id=\"T_0a12d_level0_row14\" class=\"row_heading level0 row14\" ><a href=\"https://fr.wikipedia.org/w/index.php?title=Discussion:Ivan_Mackenzie_Lamb&diff=prev&oldid=213729217\">213729217</a></th>\n",
       "      <td id=\"T_0a12d_row14_col0\" class=\"data row14 col0\" >Cymbella</td>\n",
       "      <td id=\"T_0a12d_row14_col1\" class=\"data row14 col1\" >1</td>\n",
       "      <td id=\"T_0a12d_row14_col2\" class=\"data row14 col2\" >2024-03-27T16:01:44Z</td>\n",
       "    </tr>\n",
       "    <tr>\n",
       "      <th id=\"T_0a12d_level0_row15\" class=\"row_heading level0 row15\" ><a href=\"https://fr.wikipedia.org/w/index.php?title=Discussion:Ivan_Mackenzie_Lamb&diff=prev&oldid=213723362\">213723362</a></th>\n",
       "      <td id=\"T_0a12d_row15_col0\" class=\"data row15 col0\" >Sherwood6</td>\n",
       "      <td id=\"T_0a12d_row15_col1\" class=\"data row15 col1\" >1</td>\n",
       "      <td id=\"T_0a12d_row15_col2\" class=\"data row15 col2\" >2024-03-27T12:43:39Z</td>\n",
       "    </tr>\n",
       "    <tr>\n",
       "      <th id=\"T_0a12d_level0_row16\" class=\"row_heading level0 row16\" ><a href=\"https://fr.wikipedia.org/w/index.php?title=Discussion:Ivan_Mackenzie_Lamb&diff=prev&oldid=213538736\">213538736</a></th>\n",
       "      <td id=\"T_0a12d_row16_col0\" class=\"data row16 col0\" >Cymbella</td>\n",
       "      <td id=\"T_0a12d_row16_col1\" class=\"data row16 col1\" >1</td>\n",
       "      <td id=\"T_0a12d_row16_col2\" class=\"data row16 col2\" >2024-03-21T13:50:11Z</td>\n",
       "    </tr>\n",
       "    <tr>\n",
       "      <th id=\"T_0a12d_level0_row17\" class=\"row_heading level0 row17\" ><a href=\"https://fr.wikipedia.org/w/index.php?title=Discussion:Ivan_Mackenzie_Lamb&diff=prev&oldid=213537083\">213537083</a></th>\n",
       "      <td id=\"T_0a12d_row17_col0\" class=\"data row17 col0\" >Sherwood6</td>\n",
       "      <td id=\"T_0a12d_row17_col1\" class=\"data row17 col1\" >1</td>\n",
       "      <td id=\"T_0a12d_row17_col2\" class=\"data row17 col2\" >2024-03-21T12:43:03Z</td>\n",
       "    </tr>\n",
       "    <tr>\n",
       "      <th id=\"T_0a12d_level0_row18\" class=\"row_heading level0 row18\" ><a href=\"https://fr.wikipedia.org/w/index.php?title=Discussion:Ivan_Mackenzie_Lamb&diff=prev&oldid=213536879\">213536879</a></th>\n",
       "      <td id=\"T_0a12d_row18_col0\" class=\"data row18 col0\" >Sherwood6</td>\n",
       "      <td id=\"T_0a12d_row18_col1\" class=\"data row18 col1\" >1</td>\n",
       "      <td id=\"T_0a12d_row18_col2\" class=\"data row18 col2\" >2024-03-21T12:35:16Z</td>\n",
       "    </tr>\n",
       "    <tr>\n",
       "      <th id=\"T_0a12d_level0_row19\" class=\"row_heading level0 row19\" ><a href=\"https://fr.wikipedia.org/w/index.php?title=Discussion:Ivan_Mackenzie_Lamb&diff=prev&oldid=213535423\">213535423</a></th>\n",
       "      <td id=\"T_0a12d_row19_col0\" class=\"data row19 col0\" >Cymbella</td>\n",
       "      <td id=\"T_0a12d_row19_col1\" class=\"data row19 col1\" >2</td>\n",
       "      <td id=\"T_0a12d_row19_col2\" class=\"data row19 col2\" >2024-03-21T11:22:29Z</td>\n",
       "    </tr>\n",
       "    <tr>\n",
       "      <th id=\"T_0a12d_level0_row20\" class=\"row_heading level0 row20\" ><a href=\"https://fr.wikipedia.org/w/index.php?title=Discussion:Ivan_Mackenzie_Lamb&diff=prev&oldid=213534411\">213534411</a></th>\n",
       "      <td id=\"T_0a12d_row20_col0\" class=\"data row20 col0\" >Le GreeKiwi</td>\n",
       "      <td id=\"T_0a12d_row20_col1\" class=\"data row20 col1\" >1</td>\n",
       "      <td id=\"T_0a12d_row20_col2\" class=\"data row20 col2\" >2024-03-21T10:41:31Z</td>\n",
       "    </tr>\n",
       "    <tr>\n",
       "      <th id=\"T_0a12d_level0_row21\" class=\"row_heading level0 row21\" ><a href=\"https://fr.wikipedia.org/w/index.php?title=Discussion:Ivan_Mackenzie_Lamb&diff=prev&oldid=213534030\">213534030</a></th>\n",
       "      <td id=\"T_0a12d_row21_col0\" class=\"data row21 col0\" >Cymbella</td>\n",
       "      <td id=\"T_0a12d_row21_col1\" class=\"data row21 col1\" >1</td>\n",
       "      <td id=\"T_0a12d_row21_col2\" class=\"data row21 col2\" >2024-03-21T10:26:34Z</td>\n",
       "    </tr>\n",
       "    <tr>\n",
       "      <th id=\"T_0a12d_level0_row22\" class=\"row_heading level0 row22\" ><a href=\"https://fr.wikipedia.org/w/index.php?title=Discussion:Ivan_Mackenzie_Lamb&diff=prev&oldid=213521178\">213521178</a></th>\n",
       "      <td id=\"T_0a12d_row22_col0\" class=\"data row22 col0\" >Sherwood6</td>\n",
       "      <td id=\"T_0a12d_row22_col1\" class=\"data row22 col1\" >1</td>\n",
       "      <td id=\"T_0a12d_row22_col2\" class=\"data row22 col2\" >2024-03-20T19:43:38Z</td>\n",
       "    </tr>\n",
       "    <tr>\n",
       "      <th id=\"T_0a12d_level0_row23\" class=\"row_heading level0 row23\" ><a href=\"https://fr.wikipedia.org/w/index.php?title=Discussion:Ivan_Mackenzie_Lamb&diff=prev&oldid=213519286\">213519286</a></th>\n",
       "      <td id=\"T_0a12d_row23_col0\" class=\"data row23 col0\" >Sherwood6</td>\n",
       "      <td id=\"T_0a12d_row23_col1\" class=\"data row23 col1\" >1</td>\n",
       "      <td id=\"T_0a12d_row23_col2\" class=\"data row23 col2\" >2024-03-20T18:05:21Z</td>\n",
       "    </tr>\n",
       "    <tr>\n",
       "      <th id=\"T_0a12d_level0_row24\" class=\"row_heading level0 row24\" ><a href=\"https://fr.wikipedia.org/w/index.php?title=Discussion:Ivan_Mackenzie_Lamb&diff=prev&oldid=213511085\">213511085</a></th>\n",
       "      <td id=\"T_0a12d_row24_col0\" class=\"data row24 col0\" >Cymbella</td>\n",
       "      <td id=\"T_0a12d_row24_col1\" class=\"data row24 col1\" >1</td>\n",
       "      <td id=\"T_0a12d_row24_col2\" class=\"data row24 col2\" >2024-03-20T13:20:01Z</td>\n",
       "    </tr>\n",
       "    <tr>\n",
       "      <th id=\"T_0a12d_level0_row25\" class=\"row_heading level0 row25\" ><a href=\"https://fr.wikipedia.org/w/index.php?title=Discussion:Ivan_Mackenzie_Lamb&diff=prev&oldid=213479789\">213479789</a></th>\n",
       "      <td id=\"T_0a12d_row25_col0\" class=\"data row25 col0\" >Cymbella</td>\n",
       "      <td id=\"T_0a12d_row25_col1\" class=\"data row25 col1\" >2</td>\n",
       "      <td id=\"T_0a12d_row25_col2\" class=\"data row25 col2\" >2024-03-19T10:54:34Z</td>\n",
       "    </tr>\n",
       "  </tbody>\n",
       "</table>\n"
      ],
      "text/plain": [
       "<pandas.io.formats.style.Styler at 0x7a98184b3df0>"
      ]
     },
     "execution_count": 18,
     "metadata": {},
     "output_type": "execute_result"
    }
   ],
   "source": [
    "(\n",
    "    talk_revisions\n",
    "    .assign(\n",
    "        deadname_count = lambda df: df.added.apply(lambda x: ' '.join(x).lower().count(decode(dead_name).lower()))\n",
    "    )\n",
    "    # depuis le sondage\n",
    "    .query('timestamp >= \"2024-01-15\"')\n",
    "    .query('deadname_count > 0')\n",
    "    [['user', 'deadname_count', 'timestamp']]\n",
    "    .style\n",
    "    .format_index(lambda x : format_revid_index(x, f'Discussion:{page_name}'))\n",
    ")"
   ]
  },
  {
   "cell_type": "code",
   "execution_count": 19,
   "id": "27f65dc8-0dab-464f-931b-4498c241e3f5",
   "metadata": {
    "execution": {
     "iopub.execute_input": "2024-04-02T17:05:32.330252Z",
     "iopub.status.busy": "2024-04-02T17:05:32.330083Z",
     "iopub.status.idle": "2024-04-02T17:05:32.335159Z",
     "shell.execute_reply": "2024-04-02T17:05:32.334980Z"
    },
    "papermill": {
     "duration": 0.012271,
     "end_time": "2024-04-02T17:05:32.335987",
     "exception": false,
     "start_time": "2024-04-02T17:05:32.323716",
     "status": "completed"
    },
    "tags": []
   },
   "outputs": [
    {
     "data": {
      "text/plain": [
       "26"
      ]
     },
     "execution_count": 19,
     "metadata": {},
     "output_type": "execute_result"
    }
   ],
   "source": [
    "len(\n",
    "    talk_revisions\n",
    "    .assign(\n",
    "        deadname_count = lambda df: df.added.apply(lambda x: ' '.join(x).lower().count(decode(dead_name).lower()))\n",
    "    )\n",
    "    # depuis le sondage\n",
    "    .query('timestamp >= \"2024-01-15\"')\n",
    "    .query('deadname_count > 0')\n",
    "    [['user', 'deadname_count']]\n",
    ")"
   ]
  },
  {
   "cell_type": "code",
   "execution_count": null,
   "id": "f53cbc6c-c121-4c41-895b-60d2eafe8fbe",
   "metadata": {
    "papermill": {
     "duration": 0.005746,
     "end_time": "2024-04-02T17:05:32.347516",
     "exception": false,
     "start_time": "2024-04-02T17:05:32.341770",
     "status": "completed"
    },
    "tags": []
   },
   "outputs": [],
   "source": []
  }
 ],
 "metadata": {
  "kernelspec": {
   "display_name": "Python 3 (ipykernel)",
   "language": "python",
   "name": "python3"
  },
  "language_info": {
   "codemirror_mode": {
    "name": "ipython",
    "version": 3
   },
   "file_extension": ".py",
   "mimetype": "text/x-python",
   "name": "python",
   "nbconvert_exporter": "python",
   "pygments_lexer": "ipython3",
   "version": "3.10.12"
  },
  "papermill": {
   "default_parameters": {},
   "duration": 77.48356,
   "end_time": "2024-04-02T17:05:32.573118",
   "environment_variables": {},
   "exception": null,
   "input_path": "cook_template_deadname_watch.ipynb",
   "output_path": "cook_eda_deadnames_ivan_mackenzie_lamb.ipynb",
   "parameters": {
    "co_date": null,
    "dead_name": "SXZhbg==",
    "name": "Elke Mackenzie",
    "page_name": "Ivan_Mackenzie_Lamb"
   },
   "start_time": "2024-04-02T17:04:15.089558",
   "version": "2.4.0"
  }
 },
 "nbformat": 4,
 "nbformat_minor": 5
}