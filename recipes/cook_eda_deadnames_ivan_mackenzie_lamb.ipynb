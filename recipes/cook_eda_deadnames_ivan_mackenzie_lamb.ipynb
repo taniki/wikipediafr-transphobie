{
 "cells": [
  {
   "cell_type": "code",
   "execution_count": 1,
   "id": "2ad56d7a-56a0-4f9e-a19d-906c01ac23f1",
   "metadata": {
    "execution": {
     "iopub.execute_input": "2024-04-03T19:56:32.154993Z",
     "iopub.status.busy": "2024-04-03T19:56:32.154872Z",
     "iopub.status.idle": "2024-04-03T19:56:32.605089Z",
     "shell.execute_reply": "2024-04-03T19:56:32.604778Z"
    },
    "papermill": {
     "duration": 0.460201,
     "end_time": "2024-04-03T19:56:32.606090",
     "exception": false,
     "start_time": "2024-04-03T19:56:32.145889",
     "status": "completed"
    },
    "tags": []
   },
   "outputs": [],
   "source": [
    "import pandas as pd\n",
    "from bs4 import BeautifulSoup\n",
    "from tqdm import tqdm\n",
    "import base64\n",
    "\n",
    "tqdm.pandas()\n",
    "from wekeypedia import WikipediaPage as Page"
   ]
  },
  {
   "cell_type": "code",
   "execution_count": 2,
   "id": "23765632-31c5-4a46-a008-89df2f3fb17a",
   "metadata": {
    "execution": {
     "iopub.execute_input": "2024-04-03T19:56:32.616440Z",
     "iopub.status.busy": "2024-04-03T19:56:32.616246Z",
     "iopub.status.idle": "2024-04-03T19:56:32.618451Z",
     "shell.execute_reply": "2024-04-03T19:56:32.618098Z"
    },
    "papermill": {
     "duration": 0.011254,
     "end_time": "2024-04-03T19:56:32.619032",
     "exception": false,
     "start_time": "2024-04-03T19:56:32.607778",
     "status": "completed"
    },
    "tags": [
     "parameters"
    ]
   },
   "outputs": [],
   "source": [
    "name = \"Elliot Page\"\n",
    "dead_name = \"RWxsZW4=\"\n",
    "page_name = \"Elliot_Page\"\n",
    "co_date = \"2020-12-01\""
   ]
  },
  {
   "cell_type": "code",
   "execution_count": 3,
   "id": "2c57f1f7",
   "metadata": {
    "execution": {
     "iopub.execute_input": "2024-04-03T19:56:32.622180Z",
     "iopub.status.busy": "2024-04-03T19:56:32.622055Z",
     "iopub.status.idle": "2024-04-03T19:56:32.623486Z",
     "shell.execute_reply": "2024-04-03T19:56:32.623314Z"
    },
    "papermill": {
     "duration": 0.003507,
     "end_time": "2024-04-03T19:56:32.623924",
     "exception": false,
     "start_time": "2024-04-03T19:56:32.620417",
     "status": "completed"
    },
    "tags": [
     "injected-parameters"
    ]
   },
   "outputs": [],
   "source": [
    "# Parameters\n",
    "name = \"Elke Mackenzie\"\n",
    "dead_name = \"SXZhbg==\"\n",
    "page_name = \"Ivan_Mackenzie_Lamb\"\n",
    "co_date = None\n"
   ]
  },
  {
   "cell_type": "code",
   "execution_count": 4,
   "id": "743460e0-da77-4f86-bb1c-7e260dd25dd2",
   "metadata": {
    "execution": {
     "iopub.execute_input": "2024-04-03T19:56:32.626887Z",
     "iopub.status.busy": "2024-04-03T19:56:32.626818Z",
     "iopub.status.idle": "2024-04-03T19:56:32.628296Z",
     "shell.execute_reply": "2024-04-03T19:56:32.628094Z"
    },
    "papermill": {
     "duration": 0.003525,
     "end_time": "2024-04-03T19:56:32.628773",
     "exception": false,
     "start_time": "2024-04-03T19:56:32.625248",
     "status": "completed"
    },
    "tags": []
   },
   "outputs": [],
   "source": [
    "def format_revid_index(revid, page):\n",
    "    return f'<a href=\"https://fr.wikipedia.org/w/index.php?title={page}&diff=prev&oldid={revid}\">{revid}</a>'"
   ]
  },
  {
   "cell_type": "markdown",
   "id": "5cc2bf74-9863-42ee-a757-703825106697",
   "metadata": {
    "papermill": {
     "duration": 0.001401,
     "end_time": "2024-04-03T19:56:32.631598",
     "exception": false,
     "start_time": "2024-04-03T19:56:32.630197",
     "status": "completed"
    },
    "tags": []
   },
   "source": [
    "# qui sont personnes qui énoncent le deadname dans l'article ?"
   ]
  },
  {
   "cell_type": "markdown",
   "id": "ef5929df-44e4-4ab2-a25b-25c1db364961",
   "metadata": {
    "papermill": {
     "duration": 0.001254,
     "end_time": "2024-04-03T19:56:32.634201",
     "exception": false,
     "start_time": "2024-04-03T19:56:32.632947",
     "status": "completed"
    },
    "tags": []
   },
   "source": [
    "## article"
   ]
  },
  {
   "cell_type": "code",
   "execution_count": 5,
   "id": "eed28b1e-97c4-4eab-9ead-6a8b55b85187",
   "metadata": {
    "execution": {
     "iopub.execute_input": "2024-04-03T19:56:32.637086Z",
     "iopub.status.busy": "2024-04-03T19:56:32.636962Z",
     "iopub.status.idle": "2024-04-03T19:56:32.933612Z",
     "shell.execute_reply": "2024-04-03T19:56:32.933278Z"
    },
    "papermill": {
     "duration": 0.298919,
     "end_time": "2024-04-03T19:56:32.934384",
     "exception": false,
     "start_time": "2024-04-03T19:56:32.635465",
     "status": "completed"
    },
    "tags": []
   },
   "outputs": [],
   "source": [
    "page = Page(page_name, lang='fr')"
   ]
  },
  {
   "cell_type": "code",
   "execution_count": 6,
   "id": "e496177f-af35-4c14-84a2-40f86b9a0309",
   "metadata": {
    "execution": {
     "iopub.execute_input": "2024-04-03T19:56:32.944697Z",
     "iopub.status.busy": "2024-04-03T19:56:32.944562Z",
     "iopub.status.idle": "2024-04-03T19:57:12.398228Z",
     "shell.execute_reply": "2024-04-03T19:57:12.398009Z"
    },
    "papermill": {
     "duration": 39.462861,
     "end_time": "2024-04-03T19:57:12.398959",
     "exception": false,
     "start_time": "2024-04-03T19:56:32.936098",
     "status": "completed"
    },
    "tags": []
   },
   "outputs": [
    {
     "name": "stderr",
     "output_type": "stream",
     "text": [
      "\r",
      "  0%|          | 0/121 [00:00<?, ?it/s]"
     ]
    },
    {
     "name": "stderr",
     "output_type": "stream",
     "text": [
      "\r",
      "  2%|▏         | 2/121 [00:00<00:18,  6.35it/s]"
     ]
    },
    {
     "name": "stderr",
     "output_type": "stream",
     "text": [
      "\r",
      "  2%|▏         | 3/121 [00:00<00:25,  4.60it/s]"
     ]
    },
    {
     "name": "stderr",
     "output_type": "stream",
     "text": [
      "\r",
      "  3%|▎         | 4/121 [00:00<00:30,  3.86it/s]"
     ]
    },
    {
     "name": "stderr",
     "output_type": "stream",
     "text": [
      "\r",
      "  4%|▍         | 5/121 [00:01<00:31,  3.67it/s]"
     ]
    },
    {
     "name": "stderr",
     "output_type": "stream",
     "text": [
      "\r",
      "  5%|▍         | 6/121 [00:01<00:33,  3.44it/s]"
     ]
    },
    {
     "name": "stderr",
     "output_type": "stream",
     "text": [
      "\r",
      "  6%|▌         | 7/121 [00:01<00:34,  3.35it/s]"
     ]
    },
    {
     "name": "stderr",
     "output_type": "stream",
     "text": [
      "\r",
      "  7%|▋         | 8/121 [00:02<00:35,  3.20it/s]"
     ]
    },
    {
     "name": "stderr",
     "output_type": "stream",
     "text": [
      "\r",
      "  7%|▋         | 9/121 [00:02<00:35,  3.18it/s]"
     ]
    },
    {
     "name": "stderr",
     "output_type": "stream",
     "text": [
      "\r",
      "  8%|▊         | 10/121 [00:02<00:34,  3.17it/s]"
     ]
    },
    {
     "name": "stderr",
     "output_type": "stream",
     "text": [
      "\r",
      "  9%|▉         | 11/121 [00:03<00:34,  3.23it/s]"
     ]
    },
    {
     "name": "stderr",
     "output_type": "stream",
     "text": [
      "\r",
      " 10%|▉         | 12/121 [00:03<00:34,  3.19it/s]"
     ]
    },
    {
     "name": "stderr",
     "output_type": "stream",
     "text": [
      "\r",
      " 11%|█         | 13/121 [00:03<00:33,  3.21it/s]"
     ]
    },
    {
     "name": "stderr",
     "output_type": "stream",
     "text": [
      "\r",
      " 12%|█▏        | 14/121 [00:04<00:33,  3.19it/s]"
     ]
    },
    {
     "name": "stderr",
     "output_type": "stream",
     "text": [
      "\r",
      " 12%|█▏        | 15/121 [00:04<00:32,  3.25it/s]"
     ]
    },
    {
     "name": "stderr",
     "output_type": "stream",
     "text": [
      "\r",
      " 13%|█▎        | 16/121 [00:04<00:32,  3.25it/s]"
     ]
    },
    {
     "name": "stderr",
     "output_type": "stream",
     "text": [
      "\r",
      " 14%|█▍        | 17/121 [00:05<00:32,  3.22it/s]"
     ]
    },
    {
     "name": "stderr",
     "output_type": "stream",
     "text": [
      "\r",
      " 15%|█▍        | 18/121 [00:05<00:31,  3.26it/s]"
     ]
    },
    {
     "name": "stderr",
     "output_type": "stream",
     "text": [
      "\r",
      " 16%|█▌        | 19/121 [00:05<00:31,  3.26it/s]"
     ]
    },
    {
     "name": "stderr",
     "output_type": "stream",
     "text": [
      "\r",
      " 17%|█▋        | 20/121 [00:05<00:31,  3.24it/s]"
     ]
    },
    {
     "name": "stderr",
     "output_type": "stream",
     "text": [
      "\r",
      " 17%|█▋        | 21/121 [00:06<00:30,  3.26it/s]"
     ]
    },
    {
     "name": "stderr",
     "output_type": "stream",
     "text": [
      "\r",
      " 18%|█▊        | 22/121 [00:06<00:31,  3.15it/s]"
     ]
    },
    {
     "name": "stderr",
     "output_type": "stream",
     "text": [
      "\r",
      " 19%|█▉        | 23/121 [00:06<00:31,  3.16it/s]"
     ]
    },
    {
     "name": "stderr",
     "output_type": "stream",
     "text": [
      "\r",
      " 20%|█▉        | 24/121 [00:07<00:31,  3.12it/s]"
     ]
    },
    {
     "name": "stderr",
     "output_type": "stream",
     "text": [
      "\r",
      " 21%|██        | 25/121 [00:07<00:30,  3.19it/s]"
     ]
    },
    {
     "name": "stderr",
     "output_type": "stream",
     "text": [
      "\r",
      " 21%|██▏       | 26/121 [00:07<00:29,  3.23it/s]"
     ]
    },
    {
     "name": "stderr",
     "output_type": "stream",
     "text": [
      "\r",
      " 22%|██▏       | 27/121 [00:08<00:29,  3.24it/s]"
     ]
    },
    {
     "name": "stderr",
     "output_type": "stream",
     "text": [
      "\r",
      " 23%|██▎       | 28/121 [00:08<00:29,  3.14it/s]"
     ]
    },
    {
     "name": "stderr",
     "output_type": "stream",
     "text": [
      "\r",
      " 24%|██▍       | 29/121 [00:08<00:28,  3.22it/s]"
     ]
    },
    {
     "name": "stderr",
     "output_type": "stream",
     "text": [
      "\r",
      " 25%|██▍       | 30/121 [00:09<00:27,  3.25it/s]"
     ]
    },
    {
     "name": "stderr",
     "output_type": "stream",
     "text": [
      "\r",
      " 26%|██▌       | 31/121 [00:09<00:27,  3.24it/s]"
     ]
    },
    {
     "name": "stderr",
     "output_type": "stream",
     "text": [
      "\r",
      " 26%|██▋       | 32/121 [00:09<00:27,  3.25it/s]"
     ]
    },
    {
     "name": "stderr",
     "output_type": "stream",
     "text": [
      "\r",
      " 27%|██▋       | 33/121 [00:09<00:26,  3.28it/s]"
     ]
    },
    {
     "name": "stderr",
     "output_type": "stream",
     "text": [
      "\r",
      " 28%|██▊       | 34/121 [00:10<00:26,  3.26it/s]"
     ]
    },
    {
     "name": "stderr",
     "output_type": "stream",
     "text": [
      "\r",
      " 29%|██▉       | 35/121 [00:10<00:30,  2.81it/s]"
     ]
    },
    {
     "name": "stderr",
     "output_type": "stream",
     "text": [
      "\r",
      " 30%|██▉       | 36/121 [00:11<00:31,  2.73it/s]"
     ]
    },
    {
     "name": "stderr",
     "output_type": "stream",
     "text": [
      "\r",
      " 31%|███       | 37/121 [00:11<00:28,  2.91it/s]"
     ]
    },
    {
     "name": "stderr",
     "output_type": "stream",
     "text": [
      "\r",
      " 31%|███▏      | 38/121 [00:11<00:27,  3.03it/s]"
     ]
    },
    {
     "name": "stderr",
     "output_type": "stream",
     "text": [
      "\r",
      " 32%|███▏      | 39/121 [00:12<00:26,  3.05it/s]"
     ]
    },
    {
     "name": "stderr",
     "output_type": "stream",
     "text": [
      "\r",
      " 33%|███▎      | 40/121 [00:12<00:26,  3.08it/s]"
     ]
    },
    {
     "name": "stderr",
     "output_type": "stream",
     "text": [
      "\r",
      " 34%|███▍      | 41/121 [00:12<00:25,  3.11it/s]"
     ]
    },
    {
     "name": "stderr",
     "output_type": "stream",
     "text": [
      "\r",
      " 35%|███▍      | 42/121 [00:13<00:25,  3.07it/s]"
     ]
    },
    {
     "name": "stderr",
     "output_type": "stream",
     "text": [
      "\r",
      " 36%|███▌      | 43/121 [00:13<00:25,  3.09it/s]"
     ]
    },
    {
     "name": "stderr",
     "output_type": "stream",
     "text": [
      "\r",
      " 36%|███▋      | 44/121 [00:13<00:24,  3.12it/s]"
     ]
    },
    {
     "name": "stderr",
     "output_type": "stream",
     "text": [
      "\r",
      " 37%|███▋      | 45/121 [00:13<00:24,  3.12it/s]"
     ]
    },
    {
     "name": "stderr",
     "output_type": "stream",
     "text": [
      "\r",
      " 38%|███▊      | 46/121 [00:14<00:24,  3.07it/s]"
     ]
    },
    {
     "name": "stderr",
     "output_type": "stream",
     "text": [
      "\r",
      " 39%|███▉      | 47/121 [00:14<00:24,  3.07it/s]"
     ]
    },
    {
     "name": "stderr",
     "output_type": "stream",
     "text": [
      "\r",
      " 40%|███▉      | 48/121 [00:14<00:24,  3.04it/s]"
     ]
    },
    {
     "name": "stderr",
     "output_type": "stream",
     "text": [
      "\r",
      " 40%|████      | 49/121 [00:15<00:22,  3.14it/s]"
     ]
    },
    {
     "name": "stderr",
     "output_type": "stream",
     "text": [
      "\r",
      " 41%|████▏     | 50/121 [00:15<00:22,  3.14it/s]"
     ]
    },
    {
     "name": "stderr",
     "output_type": "stream",
     "text": [
      "\r",
      " 42%|████▏     | 51/121 [00:15<00:22,  3.16it/s]"
     ]
    },
    {
     "name": "stderr",
     "output_type": "stream",
     "text": [
      "\r",
      " 43%|████▎     | 52/121 [00:16<00:22,  3.12it/s]"
     ]
    },
    {
     "name": "stderr",
     "output_type": "stream",
     "text": [
      "\r",
      " 44%|████▍     | 53/121 [00:16<00:21,  3.16it/s]"
     ]
    },
    {
     "name": "stderr",
     "output_type": "stream",
     "text": [
      "\r",
      " 45%|████▍     | 54/121 [00:16<00:21,  3.16it/s]"
     ]
    },
    {
     "name": "stderr",
     "output_type": "stream",
     "text": [
      "\r",
      " 45%|████▌     | 55/121 [00:17<00:20,  3.25it/s]"
     ]
    },
    {
     "name": "stderr",
     "output_type": "stream",
     "text": [
      "\r",
      " 46%|████▋     | 56/121 [00:17<00:20,  3.24it/s]"
     ]
    },
    {
     "name": "stderr",
     "output_type": "stream",
     "text": [
      "\r",
      " 47%|████▋     | 57/121 [00:17<00:19,  3.22it/s]"
     ]
    },
    {
     "name": "stderr",
     "output_type": "stream",
     "text": [
      "\r",
      " 48%|████▊     | 58/121 [00:18<00:20,  3.06it/s]"
     ]
    },
    {
     "name": "stderr",
     "output_type": "stream",
     "text": [
      "\r",
      " 49%|████▉     | 59/121 [00:18<00:19,  3.11it/s]"
     ]
    },
    {
     "name": "stderr",
     "output_type": "stream",
     "text": [
      "\r",
      " 50%|████▉     | 60/121 [00:18<00:19,  3.09it/s]"
     ]
    },
    {
     "name": "stderr",
     "output_type": "stream",
     "text": [
      "\r",
      " 50%|█████     | 61/121 [00:19<00:18,  3.16it/s]"
     ]
    },
    {
     "name": "stderr",
     "output_type": "stream",
     "text": [
      "\r",
      " 51%|█████     | 62/121 [00:19<00:18,  3.17it/s]"
     ]
    },
    {
     "name": "stderr",
     "output_type": "stream",
     "text": [
      "\r",
      " 52%|█████▏    | 63/121 [00:19<00:18,  3.22it/s]"
     ]
    },
    {
     "name": "stderr",
     "output_type": "stream",
     "text": [
      "\r",
      " 53%|█████▎    | 64/121 [00:19<00:17,  3.29it/s]"
     ]
    },
    {
     "name": "stderr",
     "output_type": "stream",
     "text": [
      "\r",
      " 54%|█████▎    | 65/121 [00:20<00:17,  3.25it/s]"
     ]
    },
    {
     "name": "stderr",
     "output_type": "stream",
     "text": [
      "\r",
      " 55%|█████▍    | 66/121 [00:20<00:17,  3.10it/s]"
     ]
    },
    {
     "name": "stderr",
     "output_type": "stream",
     "text": [
      "\r",
      " 55%|█████▌    | 67/121 [00:21<00:18,  2.85it/s]"
     ]
    },
    {
     "name": "stderr",
     "output_type": "stream",
     "text": [
      "\r",
      " 56%|█████▌    | 68/121 [00:21<00:17,  3.03it/s]"
     ]
    },
    {
     "name": "stderr",
     "output_type": "stream",
     "text": [
      "\r",
      " 57%|█████▋    | 69/121 [00:21<00:17,  3.03it/s]"
     ]
    },
    {
     "name": "stderr",
     "output_type": "stream",
     "text": [
      "\r",
      " 58%|█████▊    | 70/121 [00:21<00:16,  3.09it/s]"
     ]
    },
    {
     "name": "stderr",
     "output_type": "stream",
     "text": [
      "\r",
      " 59%|█████▊    | 71/121 [00:22<00:16,  3.10it/s]"
     ]
    },
    {
     "name": "stderr",
     "output_type": "stream",
     "text": [
      "\r",
      " 60%|█████▉    | 72/121 [00:22<00:15,  3.09it/s]"
     ]
    },
    {
     "name": "stderr",
     "output_type": "stream",
     "text": [
      "\r",
      " 60%|██████    | 73/121 [00:22<00:15,  3.15it/s]"
     ]
    },
    {
     "name": "stderr",
     "output_type": "stream",
     "text": [
      "\r",
      " 61%|██████    | 74/121 [00:23<00:14,  3.17it/s]"
     ]
    },
    {
     "name": "stderr",
     "output_type": "stream",
     "text": [
      "\r",
      " 62%|██████▏   | 75/121 [00:23<00:14,  3.14it/s]"
     ]
    },
    {
     "name": "stderr",
     "output_type": "stream",
     "text": [
      "\r",
      " 63%|██████▎   | 76/121 [00:23<00:14,  3.11it/s]"
     ]
    },
    {
     "name": "stderr",
     "output_type": "stream",
     "text": [
      "\r",
      " 64%|██████▎   | 77/121 [00:24<00:14,  3.10it/s]"
     ]
    },
    {
     "name": "stderr",
     "output_type": "stream",
     "text": [
      "\r",
      " 64%|██████▍   | 78/121 [00:24<00:13,  3.15it/s]"
     ]
    },
    {
     "name": "stderr",
     "output_type": "stream",
     "text": [
      "\r",
      " 65%|██████▌   | 79/121 [00:24<00:13,  3.21it/s]"
     ]
    },
    {
     "name": "stderr",
     "output_type": "stream",
     "text": [
      "\r",
      " 66%|██████▌   | 80/121 [00:25<00:12,  3.15it/s]"
     ]
    },
    {
     "name": "stderr",
     "output_type": "stream",
     "text": [
      "\r",
      " 67%|██████▋   | 81/121 [00:25<00:13,  2.92it/s]"
     ]
    },
    {
     "name": "stderr",
     "output_type": "stream",
     "text": [
      "\r",
      " 68%|██████▊   | 82/121 [00:25<00:14,  2.71it/s]"
     ]
    },
    {
     "name": "stderr",
     "output_type": "stream",
     "text": [
      "\r",
      " 69%|██████▊   | 83/121 [00:26<00:14,  2.63it/s]"
     ]
    },
    {
     "name": "stderr",
     "output_type": "stream",
     "text": [
      "\r",
      " 69%|██████▉   | 84/121 [00:26<00:13,  2.75it/s]"
     ]
    },
    {
     "name": "stderr",
     "output_type": "stream",
     "text": [
      "\r",
      " 70%|███████   | 85/121 [00:27<00:12,  2.89it/s]"
     ]
    },
    {
     "name": "stderr",
     "output_type": "stream",
     "text": [
      "\r",
      " 71%|███████   | 86/121 [00:27<00:12,  2.80it/s]"
     ]
    },
    {
     "name": "stderr",
     "output_type": "stream",
     "text": [
      "\r",
      " 72%|███████▏  | 87/121 [00:27<00:11,  2.89it/s]"
     ]
    },
    {
     "name": "stderr",
     "output_type": "stream",
     "text": [
      "\r",
      " 73%|███████▎  | 88/121 [00:28<00:12,  2.67it/s]"
     ]
    },
    {
     "name": "stderr",
     "output_type": "stream",
     "text": [
      "\r",
      " 74%|███████▎  | 89/121 [00:28<00:11,  2.81it/s]"
     ]
    },
    {
     "name": "stderr",
     "output_type": "stream",
     "text": [
      "\r",
      " 74%|███████▍  | 90/121 [00:28<00:10,  2.97it/s]"
     ]
    },
    {
     "name": "stderr",
     "output_type": "stream",
     "text": [
      "\r",
      " 75%|███████▌  | 91/121 [00:29<00:09,  3.04it/s]"
     ]
    },
    {
     "name": "stderr",
     "output_type": "stream",
     "text": [
      "\r",
      " 76%|███████▌  | 92/121 [00:29<00:09,  3.06it/s]"
     ]
    },
    {
     "name": "stderr",
     "output_type": "stream",
     "text": [
      "\r",
      " 77%|███████▋  | 93/121 [00:29<00:09,  3.10it/s]"
     ]
    },
    {
     "name": "stderr",
     "output_type": "stream",
     "text": [
      "\r",
      " 78%|███████▊  | 94/121 [00:30<00:08,  3.04it/s]"
     ]
    },
    {
     "name": "stderr",
     "output_type": "stream",
     "text": [
      "\r",
      " 79%|███████▊  | 95/121 [00:30<00:08,  3.12it/s]"
     ]
    },
    {
     "name": "stderr",
     "output_type": "stream",
     "text": [
      "\r",
      " 79%|███████▉  | 96/121 [00:30<00:08,  3.08it/s]"
     ]
    },
    {
     "name": "stderr",
     "output_type": "stream",
     "text": [
      "\r",
      " 80%|████████  | 97/121 [00:31<00:07,  3.13it/s]"
     ]
    },
    {
     "name": "stderr",
     "output_type": "stream",
     "text": [
      "\r",
      " 81%|████████  | 98/121 [00:31<00:07,  3.09it/s]"
     ]
    },
    {
     "name": "stderr",
     "output_type": "stream",
     "text": [
      "\r",
      " 82%|████████▏ | 99/121 [00:31<00:07,  3.10it/s]"
     ]
    },
    {
     "name": "stderr",
     "output_type": "stream",
     "text": [
      "\r",
      " 83%|████████▎ | 100/121 [00:31<00:06,  3.15it/s]"
     ]
    },
    {
     "name": "stderr",
     "output_type": "stream",
     "text": [
      "\r",
      " 83%|████████▎ | 101/121 [00:32<00:06,  3.20it/s]"
     ]
    },
    {
     "name": "stderr",
     "output_type": "stream",
     "text": [
      "\r",
      " 84%|████████▍ | 102/121 [00:32<00:05,  3.18it/s]"
     ]
    },
    {
     "name": "stderr",
     "output_type": "stream",
     "text": [
      "\r",
      " 85%|████████▌ | 103/121 [00:32<00:05,  3.20it/s]"
     ]
    },
    {
     "name": "stderr",
     "output_type": "stream",
     "text": [
      "\r",
      " 86%|████████▌ | 104/121 [00:33<00:05,  3.18it/s]"
     ]
    },
    {
     "name": "stderr",
     "output_type": "stream",
     "text": [
      "\r",
      " 87%|████████▋ | 105/121 [00:33<00:05,  3.14it/s]"
     ]
    },
    {
     "name": "stderr",
     "output_type": "stream",
     "text": [
      "\r",
      " 88%|████████▊ | 106/121 [00:33<00:04,  3.21it/s]"
     ]
    },
    {
     "name": "stderr",
     "output_type": "stream",
     "text": [
      "\r",
      " 88%|████████▊ | 107/121 [00:34<00:04,  3.16it/s]"
     ]
    },
    {
     "name": "stderr",
     "output_type": "stream",
     "text": [
      "\r",
      " 89%|████████▉ | 108/121 [00:34<00:04,  3.22it/s]"
     ]
    },
    {
     "name": "stderr",
     "output_type": "stream",
     "text": [
      "\r",
      " 90%|█████████ | 109/121 [00:34<00:03,  3.30it/s]"
     ]
    },
    {
     "name": "stderr",
     "output_type": "stream",
     "text": [
      "\r",
      " 91%|█████████ | 110/121 [00:35<00:03,  3.26it/s]"
     ]
    },
    {
     "name": "stderr",
     "output_type": "stream",
     "text": [
      "\r",
      " 92%|█████████▏| 111/121 [00:35<00:03,  3.02it/s]"
     ]
    },
    {
     "name": "stderr",
     "output_type": "stream",
     "text": [
      "\r",
      " 93%|█████████▎| 112/121 [00:35<00:02,  3.06it/s]"
     ]
    },
    {
     "name": "stderr",
     "output_type": "stream",
     "text": [
      "\r",
      " 93%|█████████▎| 113/121 [00:36<00:02,  3.10it/s]"
     ]
    },
    {
     "name": "stderr",
     "output_type": "stream",
     "text": [
      "\r",
      " 94%|█████████▍| 114/121 [00:36<00:02,  3.09it/s]"
     ]
    },
    {
     "name": "stderr",
     "output_type": "stream",
     "text": [
      "\r",
      " 95%|█████████▌| 115/121 [00:36<00:01,  3.13it/s]"
     ]
    },
    {
     "name": "stderr",
     "output_type": "stream",
     "text": [
      "\r",
      " 96%|█████████▌| 116/121 [00:37<00:01,  3.18it/s]"
     ]
    },
    {
     "name": "stderr",
     "output_type": "stream",
     "text": [
      "\r",
      " 97%|█████████▋| 117/121 [00:37<00:01,  3.20it/s]"
     ]
    },
    {
     "name": "stderr",
     "output_type": "stream",
     "text": [
      "\r",
      " 98%|█████████▊| 118/121 [00:37<00:00,  3.20it/s]"
     ]
    },
    {
     "name": "stderr",
     "output_type": "stream",
     "text": [
      "\r",
      " 98%|█████████▊| 119/121 [00:37<00:00,  3.21it/s]"
     ]
    },
    {
     "name": "stderr",
     "output_type": "stream",
     "text": [
      "\r",
      " 99%|█████████▉| 120/121 [00:38<00:00,  3.23it/s]"
     ]
    },
    {
     "name": "stderr",
     "output_type": "stream",
     "text": [
      "\r",
      "100%|██████████| 121/121 [00:38<00:00,  3.19it/s]"
     ]
    },
    {
     "name": "stderr",
     "output_type": "stream",
     "text": [
      "\r",
      "100%|██████████| 121/121 [00:38<00:00,  3.11it/s]"
     ]
    },
    {
     "name": "stderr",
     "output_type": "stream",
     "text": [
      "\n"
     ]
    },
    {
     "data": {
      "text/html": [
       "<div>\n",
       "<style scoped>\n",
       "    .dataframe tbody tr th:only-of-type {\n",
       "        vertical-align: middle;\n",
       "    }\n",
       "\n",
       "    .dataframe tbody tr th {\n",
       "        vertical-align: top;\n",
       "    }\n",
       "\n",
       "    .dataframe thead th {\n",
       "        text-align: right;\n",
       "    }\n",
       "</style>\n",
       "<table border=\"1\" class=\"dataframe\">\n",
       "  <thead>\n",
       "    <tr style=\"text-align: right;\">\n",
       "      <th></th>\n",
       "      <th>parentid</th>\n",
       "      <th>user</th>\n",
       "      <th>userid</th>\n",
       "      <th>timestamp</th>\n",
       "      <th>size</th>\n",
       "      <th>sha1</th>\n",
       "      <th>comment</th>\n",
       "      <th>anon</th>\n",
       "      <th>diff</th>\n",
       "      <th>deleted</th>\n",
       "      <th>added</th>\n",
       "    </tr>\n",
       "    <tr>\n",
       "      <th>revid</th>\n",
       "      <th></th>\n",
       "      <th></th>\n",
       "      <th></th>\n",
       "      <th></th>\n",
       "      <th></th>\n",
       "      <th></th>\n",
       "      <th></th>\n",
       "      <th></th>\n",
       "      <th></th>\n",
       "      <th></th>\n",
       "      <th></th>\n",
       "    </tr>\n",
       "  </thead>\n",
       "  <tbody>\n",
       "    <tr>\n",
       "      <th>213940127</th>\n",
       "      <td>213939871</td>\n",
       "      <td>Enthalpist</td>\n",
       "      <td>2686256</td>\n",
       "      <td>2024-04-03T19:26:36Z</td>\n",
       "      <td>17474</td>\n",
       "      <td>427f9d9b874efe4f1d22103c0bd38a48683504ab</td>\n",
       "      <td>Ajout de précision sur son travail du début de...</td>\n",
       "      <td>NaN</td>\n",
       "      <td>&lt;tr&gt;\\n  &lt;td colspan=\"2\" class=\"diff-lineno\"&gt;Li...</td>\n",
       "      <td>[En [[Seconde Guerre mondiale|pleine guerre]],...</td>\n",
       "      <td>[, Ayant fait valoir son [[objection de consci...</td>\n",
       "    </tr>\n",
       "    <tr>\n",
       "      <th>213939871</th>\n",
       "      <td>213939622</td>\n",
       "      <td>Enthalpist</td>\n",
       "      <td>2686256</td>\n",
       "      <td>2024-04-03T19:15:42Z</td>\n",
       "      <td>17024</td>\n",
       "      <td>996e97b496d166221355a59b11c4f5bff644343c</td>\n",
       "      <td>Correction de la date d'obtention de son docto...</td>\n",
       "      <td>NaN</td>\n",
       "      <td>&lt;tr&gt;\\n  &lt;td colspan=\"2\" class=\"diff-lineno\"&gt;Li...</td>\n",
       "      <td>[1943]</td>\n",
       "      <td>[1942]</td>\n",
       "    </tr>\n",
       "    <tr>\n",
       "      <th>213939622</th>\n",
       "      <td>213933695</td>\n",
       "      <td>Enthalpist</td>\n",
       "      <td>2686256</td>\n",
       "      <td>2024-04-03T19:02:56Z</td>\n",
       "      <td>17024</td>\n",
       "      <td>5e75843a3795bdfd7bc8213e9a17769855405147</td>\n",
       "      <td>Ajout de la localisation de la photographie.</td>\n",
       "      <td>NaN</td>\n",
       "      <td>&lt;tr&gt;\\n  &lt;td colspan=\"2\" class=\"diff-lineno\"&gt;Li...</td>\n",
       "      <td>[]</td>\n",
       "      <td>[, près de [[Port Lockroy]]]</td>\n",
       "    </tr>\n",
       "    <tr>\n",
       "      <th>213933695</th>\n",
       "      <td>213932417</td>\n",
       "      <td>Cymbella</td>\n",
       "      <td>316223</td>\n",
       "      <td>2024-04-03T15:33:38Z</td>\n",
       "      <td>16997</td>\n",
       "      <td>6479d76903ef5cb7c25e62f451ceda15bb972b43</td>\n",
       "      <td>/* Introduction */ alt trop long (et faut pas ...</td>\n",
       "      <td>NaN</td>\n",
       "      <td>&lt;tr&gt;\\n  &lt;td colspan=\"2\" class=\"diff-lineno\"&gt;Li...</td>\n",
       "      <td>[une, personne, , les yeux plissés,  clairs et...</td>\n",
       "      <td>[un, homme]</td>\n",
       "    </tr>\n",
       "    <tr>\n",
       "      <th>213932417</th>\n",
       "      <td>213932359</td>\n",
       "      <td>Sherwood6</td>\n",
       "      <td>4022033</td>\n",
       "      <td>2024-04-03T14:50:06Z</td>\n",
       "      <td>17113</td>\n",
       "      <td>937d8d803165d70594e4d2c45d9bc3f1ceecdadf</td>\n",
       "      <td>Annulation de la [[Special:Diff/213932315|modi...</td>\n",
       "      <td>NaN</td>\n",
       "      <td>&lt;tr&gt;\\n  &lt;td colspan=\"2\" class=\"diff-lineno\"&gt;Li...</td>\n",
       "      <td>[]</td>\n",
       "      <td>[ Ivan,  Lamb]</td>\n",
       "    </tr>\n",
       "    <tr>\n",
       "      <th>...</th>\n",
       "      <td>...</td>\n",
       "      <td>...</td>\n",
       "      <td>...</td>\n",
       "      <td>...</td>\n",
       "      <td>...</td>\n",
       "      <td>...</td>\n",
       "      <td>...</td>\n",
       "      <td>...</td>\n",
       "      <td>...</td>\n",
       "      <td>...</td>\n",
       "      <td>...</td>\n",
       "    </tr>\n",
       "    <tr>\n",
       "      <th>179466871</th>\n",
       "      <td>179466834</td>\n",
       "      <td>Cymbella</td>\n",
       "      <td>316223</td>\n",
       "      <td>2021-02-01T16:32:35Z</td>\n",
       "      <td>10596</td>\n",
       "      <td>1a78da4baf1b9b45045c61155d775a13c38aed53</td>\n",
       "      <td>/* Carrière */ précision</td>\n",
       "      <td>NaN</td>\n",
       "      <td>&lt;tr&gt;\\n  &lt;td colspan=\"2\" class=\"diff-lineno\"&gt;Li...</td>\n",
       "      <td>[]</td>\n",
       "      <td>[ de lichens]</td>\n",
       "    </tr>\n",
       "    <tr>\n",
       "      <th>179466834</th>\n",
       "      <td>179466796</td>\n",
       "      <td>Cymbella</td>\n",
       "      <td>316223</td>\n",
       "      <td>2021-02-01T16:31:32Z</td>\n",
       "      <td>10585</td>\n",
       "      <td>4b1581edbadffb364b691ba2ced0e02fb4f0ac3a</td>\n",
       "      <td>/* Carrière */ relecture</td>\n",
       "      <td>NaN</td>\n",
       "      <td>&lt;tr&gt;\\n  &lt;td colspan=\"2\" class=\"diff-lineno\"&gt;Li...</td>\n",
       "      <td>[un]</td>\n",
       "      <td>[une]</td>\n",
       "    </tr>\n",
       "    <tr>\n",
       "      <th>179466796</th>\n",
       "      <td>179466692</td>\n",
       "      <td>Cymbella</td>\n",
       "      <td>316223</td>\n",
       "      <td>2021-02-01T16:30:33Z</td>\n",
       "      <td>10584</td>\n",
       "      <td>a01435f3a8e93409e8daf0352cc3af588a5a155a</td>\n",
       "      <td>/* Introduction */ + liens int</td>\n",
       "      <td>NaN</td>\n",
       "      <td>&lt;tr&gt;\\n  &lt;td colspan=\"2\" class=\"diff-lineno\"&gt;Li...</td>\n",
       "      <td>[]</td>\n",
       "      <td>[[[, ]], [[Exploration polaire|, ]]]</td>\n",
       "    </tr>\n",
       "    <tr>\n",
       "      <th>179466692</th>\n",
       "      <td>179466433</td>\n",
       "      <td>Cymbella</td>\n",
       "      <td>316223</td>\n",
       "      <td>2021-02-01T16:27:58Z</td>\n",
       "      <td>10556</td>\n",
       "      <td>88cd8ca66d81528063334a7769a84b2af448c0b4</td>\n",
       "      <td>retouche de la modification précédente</td>\n",
       "      <td>NaN</td>\n",
       "      <td>&lt;tr&gt;\\n  &lt;td colspan=\"2\" class=\"diff-lineno\"&gt;Li...</td>\n",
       "      <td>['''Ivan Mackenzie Lamb''' ('''Elke Mackenzie'...</td>\n",
       "      <td>[{{Infobox Biographie 2, |charte=botaniste}}, ...</td>\n",
       "    </tr>\n",
       "    <tr>\n",
       "      <th>179466433</th>\n",
       "      <td>0</td>\n",
       "      <td>Cymbella</td>\n",
       "      <td>316223</td>\n",
       "      <td>2021-02-01T16:22:07Z</td>\n",
       "      <td>10481</td>\n",
       "      <td>2c0ec5e2580e76e6a47a567c30a4ab18dc008d81</td>\n",
       "      <td>Nouvelle page : '''Ivan Mackenzie Lamb''' ('''...</td>\n",
       "      <td>NaN</td>\n",
       "      <td></td>\n",
       "      <td>[]</td>\n",
       "      <td>[]</td>\n",
       "    </tr>\n",
       "  </tbody>\n",
       "</table>\n",
       "<p>121 rows × 11 columns</p>\n",
       "</div>"
      ],
      "text/plain": [
       "            parentid        user   userid             timestamp   size  \\\n",
       "revid                                                                    \n",
       "213940127  213939871  Enthalpist  2686256  2024-04-03T19:26:36Z  17474   \n",
       "213939871  213939622  Enthalpist  2686256  2024-04-03T19:15:42Z  17024   \n",
       "213939622  213933695  Enthalpist  2686256  2024-04-03T19:02:56Z  17024   \n",
       "213933695  213932417    Cymbella   316223  2024-04-03T15:33:38Z  16997   \n",
       "213932417  213932359   Sherwood6  4022033  2024-04-03T14:50:06Z  17113   \n",
       "...              ...         ...      ...                   ...    ...   \n",
       "179466871  179466834    Cymbella   316223  2021-02-01T16:32:35Z  10596   \n",
       "179466834  179466796    Cymbella   316223  2021-02-01T16:31:32Z  10585   \n",
       "179466796  179466692    Cymbella   316223  2021-02-01T16:30:33Z  10584   \n",
       "179466692  179466433    Cymbella   316223  2021-02-01T16:27:58Z  10556   \n",
       "179466433          0    Cymbella   316223  2021-02-01T16:22:07Z  10481   \n",
       "\n",
       "                                               sha1  \\\n",
       "revid                                                 \n",
       "213940127  427f9d9b874efe4f1d22103c0bd38a48683504ab   \n",
       "213939871  996e97b496d166221355a59b11c4f5bff644343c   \n",
       "213939622  5e75843a3795bdfd7bc8213e9a17769855405147   \n",
       "213933695  6479d76903ef5cb7c25e62f451ceda15bb972b43   \n",
       "213932417  937d8d803165d70594e4d2c45d9bc3f1ceecdadf   \n",
       "...                                             ...   \n",
       "179466871  1a78da4baf1b9b45045c61155d775a13c38aed53   \n",
       "179466834  4b1581edbadffb364b691ba2ced0e02fb4f0ac3a   \n",
       "179466796  a01435f3a8e93409e8daf0352cc3af588a5a155a   \n",
       "179466692  88cd8ca66d81528063334a7769a84b2af448c0b4   \n",
       "179466433  2c0ec5e2580e76e6a47a567c30a4ab18dc008d81   \n",
       "\n",
       "                                                     comment anon  \\\n",
       "revid                                                               \n",
       "213940127  Ajout de précision sur son travail du début de...  NaN   \n",
       "213939871  Correction de la date d'obtention de son docto...  NaN   \n",
       "213939622       Ajout de la localisation de la photographie.  NaN   \n",
       "213933695  /* Introduction */ alt trop long (et faut pas ...  NaN   \n",
       "213932417  Annulation de la [[Special:Diff/213932315|modi...  NaN   \n",
       "...                                                      ...  ...   \n",
       "179466871                           /* Carrière */ précision  NaN   \n",
       "179466834                           /* Carrière */ relecture  NaN   \n",
       "179466796                     /* Introduction */ + liens int  NaN   \n",
       "179466692             retouche de la modification précédente  NaN   \n",
       "179466433  Nouvelle page : '''Ivan Mackenzie Lamb''' ('''...  NaN   \n",
       "\n",
       "                                                        diff  \\\n",
       "revid                                                          \n",
       "213940127  <tr>\\n  <td colspan=\"2\" class=\"diff-lineno\">Li...   \n",
       "213939871  <tr>\\n  <td colspan=\"2\" class=\"diff-lineno\">Li...   \n",
       "213939622  <tr>\\n  <td colspan=\"2\" class=\"diff-lineno\">Li...   \n",
       "213933695  <tr>\\n  <td colspan=\"2\" class=\"diff-lineno\">Li...   \n",
       "213932417  <tr>\\n  <td colspan=\"2\" class=\"diff-lineno\">Li...   \n",
       "...                                                      ...   \n",
       "179466871  <tr>\\n  <td colspan=\"2\" class=\"diff-lineno\">Li...   \n",
       "179466834  <tr>\\n  <td colspan=\"2\" class=\"diff-lineno\">Li...   \n",
       "179466796  <tr>\\n  <td colspan=\"2\" class=\"diff-lineno\">Li...   \n",
       "179466692  <tr>\\n  <td colspan=\"2\" class=\"diff-lineno\">Li...   \n",
       "179466433                                                      \n",
       "\n",
       "                                                     deleted  \\\n",
       "revid                                                          \n",
       "213940127  [En [[Seconde Guerre mondiale|pleine guerre]],...   \n",
       "213939871                                             [1943]   \n",
       "213939622                                                 []   \n",
       "213933695  [une, personne, , les yeux plissés,  clairs et...   \n",
       "213932417                                                 []   \n",
       "...                                                      ...   \n",
       "179466871                                                 []   \n",
       "179466834                                               [un]   \n",
       "179466796                                                 []   \n",
       "179466692  ['''Ivan Mackenzie Lamb''' ('''Elke Mackenzie'...   \n",
       "179466433                                                 []   \n",
       "\n",
       "                                                       added  \n",
       "revid                                                         \n",
       "213940127  [, Ayant fait valoir son [[objection de consci...  \n",
       "213939871                                             [1942]  \n",
       "213939622                       [, près de [[Port Lockroy]]]  \n",
       "213933695                                        [un, homme]  \n",
       "213932417                                     [ Ivan,  Lamb]  \n",
       "...                                                      ...  \n",
       "179466871                                      [ de lichens]  \n",
       "179466834                                              [une]  \n",
       "179466796               [[[, ]], [[Exploration polaire|, ]]]  \n",
       "179466692  [{{Infobox Biographie 2, |charte=botaniste}}, ...  \n",
       "179466433                                                 []  \n",
       "\n",
       "[121 rows x 11 columns]"
      ]
     },
     "execution_count": 6,
     "metadata": {},
     "output_type": "execute_result"
    }
   ],
   "source": [
    "revisions = (\n",
    "    pd\n",
    "    .DataFrame\n",
    "    .from_records(page.get_revisions_list())\n",
    "    .assign(\n",
    "        diff = lambda df: df.revid.progress_apply(lambda x: page.get_diff(x)).fillna(''),\n",
    "        deleted = lambda df: df['diff'].apply(lambda diff: page.extract_plusminus(diff)['deleted']),\n",
    "        added = lambda df: df['diff'].apply(lambda diff: page.extract_plusminus(diff)['added']),\n",
    "    )\n",
    "    .set_index('revid')\n",
    ")\n",
    "\n",
    "revisions"
   ]
  },
  {
   "cell_type": "code",
   "execution_count": 7,
   "id": "c589c8bc-5e6a-4361-bb5c-99b125c56fd4",
   "metadata": {
    "execution": {
     "iopub.execute_input": "2024-04-03T19:57:12.411903Z",
     "iopub.status.busy": "2024-04-03T19:57:12.411799Z",
     "iopub.status.idle": "2024-04-03T19:57:12.418790Z",
     "shell.execute_reply": "2024-04-03T19:57:12.418582Z"
    },
    "papermill": {
     "duration": 0.016121,
     "end_time": "2024-04-03T19:57:12.419370",
     "exception": false,
     "start_time": "2024-04-03T19:57:12.403249",
     "status": "completed"
    },
    "tags": []
   },
   "outputs": [],
   "source": [
    "revisions.to_csv(f'../data/page-revisions/{page_name.lower()}.csv')"
   ]
  },
  {
   "cell_type": "code",
   "execution_count": 8,
   "id": "32533855-d09c-42e1-9071-35f10655dcd8",
   "metadata": {
    "execution": {
     "iopub.execute_input": "2024-04-03T19:57:12.426912Z",
     "iopub.status.busy": "2024-04-03T19:57:12.426822Z",
     "iopub.status.idle": "2024-04-03T19:57:12.428568Z",
     "shell.execute_reply": "2024-04-03T19:57:12.428364Z"
    },
    "papermill": {
     "duration": 0.006208,
     "end_time": "2024-04-03T19:57:12.429139",
     "exception": false,
     "start_time": "2024-04-03T19:57:12.422931",
     "status": "completed"
    },
    "tags": []
   },
   "outputs": [],
   "source": [
    "def decode(string):\n",
    "    return base64.b64decode(string).decode(\"utf-8\")"
   ]
  },
  {
   "cell_type": "code",
   "execution_count": 9,
   "id": "bea34dc6-f504-44a9-846f-39e8401c62f7",
   "metadata": {
    "execution": {
     "iopub.execute_input": "2024-04-03T19:57:12.436634Z",
     "iopub.status.busy": "2024-04-03T19:57:12.436445Z",
     "iopub.status.idle": "2024-04-03T19:57:12.437906Z",
     "shell.execute_reply": "2024-04-03T19:57:12.437712Z"
    },
    "papermill": {
     "duration": 0.005953,
     "end_time": "2024-04-03T19:57:12.438607",
     "exception": false,
     "start_time": "2024-04-03T19:57:12.432654",
     "status": "completed"
    },
    "tags": []
   },
   "outputs": [],
   "source": [
    "# (\n",
    "#     revisions\n",
    "#     .assign(\n",
    "#         deadnames = lambda df: df['*'].apply(lambda x: str(x).lower().count(decode(dead_name).lower()))\n",
    "#     )\n",
    "#     #.reset_index()\n",
    "#     [['timestamp', 'deadnames']]\n",
    "#     .assign(\n",
    "#         date = lambda df: pd.to_datetime(df.timestamp).dt.date\n",
    "#     )\n",
    "#     .groupby('date')\n",
    "#     .agg({'deadnames': 'mean'})\n",
    "#     .plot\n",
    "#     .line(\n",
    "#         figsize=(15,10)\n",
    "#     )\n",
    "# )"
   ]
  },
  {
   "cell_type": "markdown",
   "id": "49e1e9d0-0960-4573-a7d3-a7a218c3c34f",
   "metadata": {
    "papermill": {
     "duration": 0.003559,
     "end_time": "2024-04-03T19:57:12.445813",
     "exception": false,
     "start_time": "2024-04-03T19:57:12.442254",
     "status": "completed"
    },
    "tags": []
   },
   "source": [
    "### depuis le coming out"
   ]
  },
  {
   "cell_type": "code",
   "execution_count": 10,
   "id": "308c3a1c-e446-42b8-b087-915ff9fdf05f",
   "metadata": {
    "execution": {
     "iopub.execute_input": "2024-04-03T19:57:12.453753Z",
     "iopub.status.busy": "2024-04-03T19:57:12.453631Z",
     "iopub.status.idle": "2024-04-03T19:57:12.457425Z",
     "shell.execute_reply": "2024-04-03T19:57:12.457228Z"
    },
    "papermill": {
     "duration": 0.008703,
     "end_time": "2024-04-03T19:57:12.457990",
     "exception": false,
     "start_time": "2024-04-03T19:57:12.449287",
     "status": "completed"
    },
    "tags": []
   },
   "outputs": [
    {
     "data": {
      "text/plain": [
       "user\n",
       "Cymbella                              15\n",
       "Anne Daemon                            3\n",
       "Biologisteantique                      2\n",
       "Sherwood6                              2\n",
       "2A02:8440:5304:1188:0:1B:C326:2F01     1\n",
       "Enthalpist                             1\n",
       "Pierrette13                            0\n",
       "Warmax98                               0\n",
       "TED                                    0\n",
       "SmgnumA                                0\n",
       "Name: deadname_count, dtype: int64"
      ]
     },
     "execution_count": 10,
     "metadata": {},
     "output_type": "execute_result"
    }
   ],
   "source": [
    "(\n",
    "    revisions\n",
    "    .assign(\n",
    "        deadname_count = lambda df: df.added.apply(lambda x: ' '.join(x).lower().count(decode(dead_name).lower()))\n",
    "    )\n",
    "    # on ne garde que les contributions après son coming out\n",
    "    .pipe(lambda df: df.query(f'timestamp >= \"{co_date}\"') if co_date != None else df)\n",
    "    .groupby('user')\n",
    "    .deadname_count\n",
    "    .sum()\n",
    "    .sort_values(ascending=False)\n",
    "    .head(10)\n",
    ")"
   ]
  },
  {
   "cell_type": "markdown",
   "id": "cdbf2cbe-7d9c-458a-8bb5-7554dbb954b5",
   "metadata": {
    "papermill": {
     "duration": 0.003487,
     "end_time": "2024-04-03T19:57:12.464990",
     "exception": false,
     "start_time": "2024-04-03T19:57:12.461503",
     "status": "completed"
    },
    "tags": []
   },
   "source": [
    "### depuis le début du sondage"
   ]
  },
  {
   "cell_type": "code",
   "execution_count": 11,
   "id": "e75e4ded-3e9d-45a6-bdd7-0af3b6f8b8ee",
   "metadata": {
    "execution": {
     "iopub.execute_input": "2024-04-03T19:57:12.472444Z",
     "iopub.status.busy": "2024-04-03T19:57:12.472365Z",
     "iopub.status.idle": "2024-04-03T19:57:12.476927Z",
     "shell.execute_reply": "2024-04-03T19:57:12.476737Z"
    },
    "papermill": {
     "duration": 0.008976,
     "end_time": "2024-04-03T19:57:12.477482",
     "exception": false,
     "start_time": "2024-04-03T19:57:12.468506",
     "status": "completed"
    },
    "tags": []
   },
   "outputs": [
    {
     "data": {
      "text/plain": [
       "user\n",
       "Cymbella       5\n",
       "Anne Daemon    3\n",
       "Sherwood6      2\n",
       "Enthalpist     1\n",
       "Florck         0\n",
       "GF38storic     0\n",
       "Shev123        0\n",
       "Name: deadname_count, dtype: int64"
      ]
     },
     "execution_count": 11,
     "metadata": {},
     "output_type": "execute_result"
    }
   ],
   "source": [
    "(\n",
    "    revisions\n",
    "    .assign(\n",
    "        deadname_count = lambda df: df.added.apply(lambda x: ' '.join(x).lower().count(decode(dead_name).lower()))\n",
    "    )\n",
    "    # début du sondage\n",
    "    .query('timestamp >= \"2024-01-15\"')\n",
    "    .groupby('user')\n",
    "    .deadname_count\n",
    "    .sum()\n",
    "    .sort_values(ascending=False)\n",
    "    .head(20)\n",
    ")"
   ]
  },
  {
   "cell_type": "code",
   "execution_count": 12,
   "id": "7e9a0650-90e2-4d49-9fec-7d015b4a75dc",
   "metadata": {
    "execution": {
     "iopub.execute_input": "2024-04-03T19:57:12.485128Z",
     "iopub.status.busy": "2024-04-03T19:57:12.484999Z",
     "iopub.status.idle": "2024-04-03T19:57:12.641377Z",
     "shell.execute_reply": "2024-04-03T19:57:12.641133Z"
    },
    "papermill": {
     "duration": 0.160993,
     "end_time": "2024-04-03T19:57:12.642099",
     "exception": false,
     "start_time": "2024-04-03T19:57:12.481106",
     "status": "completed"
    },
    "tags": []
   },
   "outputs": [
    {
     "data": {
      "text/html": [
       "<style type=\"text/css\">\n",
       "</style>\n",
       "<table id=\"T_6b514\">\n",
       "  <thead>\n",
       "    <tr>\n",
       "      <th class=\"blank level0\" >&nbsp;</th>\n",
       "      <th id=\"T_6b514_level0_col0\" class=\"col_heading level0 col0\" >user</th>\n",
       "      <th id=\"T_6b514_level0_col1\" class=\"col_heading level0 col1\" >deadname_count</th>\n",
       "      <th id=\"T_6b514_level0_col2\" class=\"col_heading level0 col2\" >timestamp</th>\n",
       "    </tr>\n",
       "    <tr>\n",
       "      <th class=\"index_name level0\" >revid</th>\n",
       "      <th class=\"blank col0\" >&nbsp;</th>\n",
       "      <th class=\"blank col1\" >&nbsp;</th>\n",
       "      <th class=\"blank col2\" >&nbsp;</th>\n",
       "    </tr>\n",
       "  </thead>\n",
       "  <tbody>\n",
       "    <tr>\n",
       "      <th id=\"T_6b514_level0_row0\" class=\"row_heading level0 row0\" ><a href=\"https://fr.wikipedia.org/w/index.php?title=Ivan_Mackenzie_Lamb&diff=prev&oldid=213932417\">213932417</a></th>\n",
       "      <td id=\"T_6b514_row0_col0\" class=\"data row0 col0\" >Sherwood6</td>\n",
       "      <td id=\"T_6b514_row0_col1\" class=\"data row0 col1\" >1</td>\n",
       "      <td id=\"T_6b514_row0_col2\" class=\"data row0 col2\" >2024-04-03T14:50:06Z</td>\n",
       "    </tr>\n",
       "    <tr>\n",
       "      <th id=\"T_6b514_level0_row1\" class=\"row_heading level0 row1\" ><a href=\"https://fr.wikipedia.org/w/index.php?title=Ivan_Mackenzie_Lamb&diff=prev&oldid=213931356\">213931356</a></th>\n",
       "      <td id=\"T_6b514_row1_col0\" class=\"data row1 col0\" >Cymbella</td>\n",
       "      <td id=\"T_6b514_row1_col1\" class=\"data row1 col1\" >1</td>\n",
       "      <td id=\"T_6b514_row1_col2\" class=\"data row1 col2\" >2024-04-03T14:18:32Z</td>\n",
       "    </tr>\n",
       "    <tr>\n",
       "      <th id=\"T_6b514_level0_row2\" class=\"row_heading level0 row2\" ><a href=\"https://fr.wikipedia.org/w/index.php?title=Ivan_Mackenzie_Lamb&diff=prev&oldid=213930929\">213930929</a></th>\n",
       "      <td id=\"T_6b514_row2_col0\" class=\"data row2 col0\" >Enthalpist</td>\n",
       "      <td id=\"T_6b514_row2_col1\" class=\"data row2 col1\" >1</td>\n",
       "      <td id=\"T_6b514_row2_col2\" class=\"data row2 col2\" >2024-04-03T14:02:54Z</td>\n",
       "    </tr>\n",
       "    <tr>\n",
       "      <th id=\"T_6b514_level0_row3\" class=\"row_heading level0 row3\" ><a href=\"https://fr.wikipedia.org/w/index.php?title=Ivan_Mackenzie_Lamb&diff=prev&oldid=213924764\">213924764</a></th>\n",
       "      <td id=\"T_6b514_row3_col0\" class=\"data row3 col0\" >Sherwood6</td>\n",
       "      <td id=\"T_6b514_row3_col1\" class=\"data row3 col1\" >1</td>\n",
       "      <td id=\"T_6b514_row3_col2\" class=\"data row3 col2\" >2024-04-03T09:42:22Z</td>\n",
       "    </tr>\n",
       "    <tr>\n",
       "      <th id=\"T_6b514_level0_row4\" class=\"row_heading level0 row4\" ><a href=\"https://fr.wikipedia.org/w/index.php?title=Ivan_Mackenzie_Lamb&diff=prev&oldid=213895078\">213895078</a></th>\n",
       "      <td id=\"T_6b514_row4_col0\" class=\"data row4 col0\" >Anne Daemon</td>\n",
       "      <td id=\"T_6b514_row4_col1\" class=\"data row4 col1\" >2</td>\n",
       "      <td id=\"T_6b514_row4_col2\" class=\"data row4 col2\" >2024-04-02T08:20:57Z</td>\n",
       "    </tr>\n",
       "    <tr>\n",
       "      <th id=\"T_6b514_level0_row5\" class=\"row_heading level0 row5\" ><a href=\"https://fr.wikipedia.org/w/index.php?title=Ivan_Mackenzie_Lamb&diff=prev&oldid=213704822\">213704822</a></th>\n",
       "      <td id=\"T_6b514_row5_col0\" class=\"data row5 col0\" >Cymbella</td>\n",
       "      <td id=\"T_6b514_row5_col1\" class=\"data row5 col1\" >2</td>\n",
       "      <td id=\"T_6b514_row5_col2\" class=\"data row5 col2\" >2024-03-26T20:16:14Z</td>\n",
       "    </tr>\n",
       "    <tr>\n",
       "      <th id=\"T_6b514_level0_row6\" class=\"row_heading level0 row6\" ><a href=\"https://fr.wikipedia.org/w/index.php?title=Ivan_Mackenzie_Lamb&diff=prev&oldid=213513219\">213513219</a></th>\n",
       "      <td id=\"T_6b514_row6_col0\" class=\"data row6 col0\" >Anne Daemon</td>\n",
       "      <td id=\"T_6b514_row6_col1\" class=\"data row6 col1\" >1</td>\n",
       "      <td id=\"T_6b514_row6_col2\" class=\"data row6 col2\" >2024-03-20T14:40:41Z</td>\n",
       "    </tr>\n",
       "    <tr>\n",
       "      <th id=\"T_6b514_level0_row7\" class=\"row_heading level0 row7\" ><a href=\"https://fr.wikipedia.org/w/index.php?title=Ivan_Mackenzie_Lamb&diff=prev&oldid=213112486\">213112486</a></th>\n",
       "      <td id=\"T_6b514_row7_col0\" class=\"data row7 col0\" >Cymbella</td>\n",
       "      <td id=\"T_6b514_row7_col1\" class=\"data row7 col1\" >2</td>\n",
       "      <td id=\"T_6b514_row7_col2\" class=\"data row7 col2\" >2024-03-06T14:52:30Z</td>\n",
       "    </tr>\n",
       "  </tbody>\n",
       "</table>\n"
      ],
      "text/plain": [
       "<pandas.io.formats.style.Styler at 0x7aa87476f8e0>"
      ]
     },
     "execution_count": 12,
     "metadata": {},
     "output_type": "execute_result"
    }
   ],
   "source": [
    "(\n",
    "    revisions\n",
    "    .assign(\n",
    "        deadname_count = lambda df: df.added.apply(lambda x: ' '.join(x).lower().count(decode(dead_name).lower()))\n",
    "    )\n",
    "    # début du sondage\n",
    "    .query('timestamp >= \"2024-01-15\"')\n",
    "    .query('deadname_count > 0')\n",
    "    [['user', 'deadname_count', 'timestamp']]\n",
    "    .style\n",
    "    .format_index(lambda x: format_revid_index(x, page_name))\n",
    ")"
   ]
  },
  {
   "cell_type": "markdown",
   "id": "b4ae0d43-e0f3-403f-8d77-06778155c12d",
   "metadata": {
    "papermill": {
     "duration": 0.008083,
     "end_time": "2024-04-03T19:57:12.654103",
     "exception": false,
     "start_time": "2024-04-03T19:57:12.646020",
     "status": "completed"
    },
    "tags": []
   },
   "source": [
    "## Discussions"
   ]
  },
  {
   "cell_type": "code",
   "execution_count": 13,
   "id": "65c5a95c-6148-4099-bcec-47e23701d260",
   "metadata": {
    "execution": {
     "iopub.execute_input": "2024-04-03T19:57:12.662008Z",
     "iopub.status.busy": "2024-04-03T19:57:12.661863Z",
     "iopub.status.idle": "2024-04-03T19:57:12.965608Z",
     "shell.execute_reply": "2024-04-03T19:57:12.964167Z"
    },
    "papermill": {
     "duration": 0.311074,
     "end_time": "2024-04-03T19:57:12.968776",
     "exception": false,
     "start_time": "2024-04-03T19:57:12.657702",
     "status": "completed"
    },
    "tags": []
   },
   "outputs": [],
   "source": [
    "talk = Page(f'Discussion:{page_name}', lang='fr')"
   ]
  },
  {
   "cell_type": "code",
   "execution_count": 14,
   "id": "f1aaec90-5c20-4488-a9aa-11da50fd1cf6",
   "metadata": {
    "execution": {
     "iopub.execute_input": "2024-04-03T19:57:12.994203Z",
     "iopub.status.busy": "2024-04-03T19:57:12.994102Z",
     "iopub.status.idle": "2024-04-03T19:58:11.033812Z",
     "shell.execute_reply": "2024-04-03T19:58:11.033588Z"
    },
    "papermill": {
     "duration": 58.049324,
     "end_time": "2024-04-03T19:58:11.034546",
     "exception": false,
     "start_time": "2024-04-03T19:57:12.985222",
     "status": "completed"
    },
    "tags": []
   },
   "outputs": [
    {
     "name": "stderr",
     "output_type": "stream",
     "text": [
      "\r",
      "  0%|          | 0/175 [00:00<?, ?it/s]"
     ]
    },
    {
     "name": "stderr",
     "output_type": "stream",
     "text": [
      "\r",
      "  1%|          | 2/175 [00:00<00:26,  6.44it/s]"
     ]
    },
    {
     "name": "stderr",
     "output_type": "stream",
     "text": [
      "\r",
      "  2%|▏         | 3/175 [00:00<00:37,  4.56it/s]"
     ]
    },
    {
     "name": "stderr",
     "output_type": "stream",
     "text": [
      "\r",
      "  2%|▏         | 4/175 [00:00<00:44,  3.87it/s]"
     ]
    },
    {
     "name": "stderr",
     "output_type": "stream",
     "text": [
      "\r",
      "  3%|▎         | 5/175 [00:01<00:47,  3.60it/s]"
     ]
    },
    {
     "name": "stderr",
     "output_type": "stream",
     "text": [
      "\r",
      "  3%|▎         | 6/175 [00:01<00:48,  3.50it/s]"
     ]
    },
    {
     "name": "stderr",
     "output_type": "stream",
     "text": [
      "\r",
      "  4%|▍         | 7/175 [00:01<00:48,  3.43it/s]"
     ]
    },
    {
     "name": "stderr",
     "output_type": "stream",
     "text": [
      "\r",
      "  5%|▍         | 8/175 [00:02<00:49,  3.37it/s]"
     ]
    },
    {
     "name": "stderr",
     "output_type": "stream",
     "text": [
      "\r",
      "  5%|▌         | 9/175 [00:02<00:50,  3.28it/s]"
     ]
    },
    {
     "name": "stderr",
     "output_type": "stream",
     "text": [
      "\r",
      "  6%|▌         | 10/175 [00:02<00:52,  3.14it/s]"
     ]
    },
    {
     "name": "stderr",
     "output_type": "stream",
     "text": [
      "\r",
      "  6%|▋         | 11/175 [00:03<00:52,  3.14it/s]"
     ]
    },
    {
     "name": "stderr",
     "output_type": "stream",
     "text": [
      "\r",
      "  7%|▋         | 12/175 [00:03<01:04,  2.54it/s]"
     ]
    },
    {
     "name": "stderr",
     "output_type": "stream",
     "text": [
      "\r",
      "  7%|▋         | 13/175 [00:04<01:00,  2.68it/s]"
     ]
    },
    {
     "name": "stderr",
     "output_type": "stream",
     "text": [
      "\r",
      "  8%|▊         | 14/175 [00:04<01:05,  2.46it/s]"
     ]
    },
    {
     "name": "stderr",
     "output_type": "stream",
     "text": [
      "\r",
      "  9%|▊         | 15/175 [00:04<01:00,  2.64it/s]"
     ]
    },
    {
     "name": "stderr",
     "output_type": "stream",
     "text": [
      "\r",
      "  9%|▉         | 16/175 [00:05<00:57,  2.77it/s]"
     ]
    },
    {
     "name": "stderr",
     "output_type": "stream",
     "text": [
      "\r",
      " 10%|▉         | 17/175 [00:05<00:54,  2.88it/s]"
     ]
    },
    {
     "name": "stderr",
     "output_type": "stream",
     "text": [
      "\r",
      " 10%|█         | 18/175 [00:05<00:53,  2.93it/s]"
     ]
    },
    {
     "name": "stderr",
     "output_type": "stream",
     "text": [
      "\r",
      " 11%|█         | 19/175 [00:06<00:52,  2.97it/s]"
     ]
    },
    {
     "name": "stderr",
     "output_type": "stream",
     "text": [
      "\r",
      " 11%|█▏        | 20/175 [00:06<00:51,  2.99it/s]"
     ]
    },
    {
     "name": "stderr",
     "output_type": "stream",
     "text": [
      "\r",
      " 12%|█▏        | 21/175 [00:06<00:51,  2.98it/s]"
     ]
    },
    {
     "name": "stderr",
     "output_type": "stream",
     "text": [
      "\r",
      " 13%|█▎        | 22/175 [00:07<00:50,  3.04it/s]"
     ]
    },
    {
     "name": "stderr",
     "output_type": "stream",
     "text": [
      "\r",
      " 13%|█▎        | 23/175 [00:07<00:49,  3.04it/s]"
     ]
    },
    {
     "name": "stderr",
     "output_type": "stream",
     "text": [
      "\r",
      " 14%|█▎        | 24/175 [00:07<00:49,  3.05it/s]"
     ]
    },
    {
     "name": "stderr",
     "output_type": "stream",
     "text": [
      "\r",
      " 14%|█▍        | 25/175 [00:08<00:49,  3.03it/s]"
     ]
    },
    {
     "name": "stderr",
     "output_type": "stream",
     "text": [
      "\r",
      " 15%|█▍        | 26/175 [00:08<00:49,  3.01it/s]"
     ]
    },
    {
     "name": "stderr",
     "output_type": "stream",
     "text": [
      "\r",
      " 15%|█▌        | 27/175 [00:08<00:49,  3.02it/s]"
     ]
    },
    {
     "name": "stderr",
     "output_type": "stream",
     "text": [
      "\r",
      " 16%|█▌        | 28/175 [00:09<00:48,  3.04it/s]"
     ]
    },
    {
     "name": "stderr",
     "output_type": "stream",
     "text": [
      "\r",
      " 17%|█▋        | 29/175 [00:09<00:46,  3.12it/s]"
     ]
    },
    {
     "name": "stderr",
     "output_type": "stream",
     "text": [
      "\r",
      " 17%|█▋        | 30/175 [00:09<00:45,  3.17it/s]"
     ]
    },
    {
     "name": "stderr",
     "output_type": "stream",
     "text": [
      "\r",
      " 18%|█▊        | 31/175 [00:10<00:46,  3.11it/s]"
     ]
    },
    {
     "name": "stderr",
     "output_type": "stream",
     "text": [
      "\r",
      " 18%|█▊        | 32/175 [00:10<00:46,  3.10it/s]"
     ]
    },
    {
     "name": "stderr",
     "output_type": "stream",
     "text": [
      "\r",
      " 19%|█▉        | 33/175 [00:10<00:46,  3.06it/s]"
     ]
    },
    {
     "name": "stderr",
     "output_type": "stream",
     "text": [
      "\r",
      " 19%|█▉        | 34/175 [00:11<00:45,  3.09it/s]"
     ]
    },
    {
     "name": "stderr",
     "output_type": "stream",
     "text": [
      "\r",
      " 20%|██        | 35/175 [00:11<00:45,  3.07it/s]"
     ]
    },
    {
     "name": "stderr",
     "output_type": "stream",
     "text": [
      "\r",
      " 21%|██        | 36/175 [00:11<00:45,  3.06it/s]"
     ]
    },
    {
     "name": "stderr",
     "output_type": "stream",
     "text": [
      "\r",
      " 21%|██        | 37/175 [00:11<00:44,  3.12it/s]"
     ]
    },
    {
     "name": "stderr",
     "output_type": "stream",
     "text": [
      "\r",
      " 22%|██▏       | 38/175 [00:12<00:43,  3.16it/s]"
     ]
    },
    {
     "name": "stderr",
     "output_type": "stream",
     "text": [
      "\r",
      " 22%|██▏       | 39/175 [00:12<00:44,  3.02it/s]"
     ]
    },
    {
     "name": "stderr",
     "output_type": "stream",
     "text": [
      "\r",
      " 23%|██▎       | 40/175 [00:12<00:44,  3.06it/s]"
     ]
    },
    {
     "name": "stderr",
     "output_type": "stream",
     "text": [
      "\r",
      " 23%|██▎       | 41/175 [00:13<00:43,  3.08it/s]"
     ]
    },
    {
     "name": "stderr",
     "output_type": "stream",
     "text": [
      "\r",
      " 24%|██▍       | 42/175 [00:13<00:42,  3.11it/s]"
     ]
    },
    {
     "name": "stderr",
     "output_type": "stream",
     "text": [
      "\r",
      " 25%|██▍       | 43/175 [00:13<00:42,  3.13it/s]"
     ]
    },
    {
     "name": "stderr",
     "output_type": "stream",
     "text": [
      "\r",
      " 25%|██▌       | 44/175 [00:14<00:42,  3.08it/s]"
     ]
    },
    {
     "name": "stderr",
     "output_type": "stream",
     "text": [
      "\r",
      " 26%|██▌       | 45/175 [00:14<00:41,  3.10it/s]"
     ]
    },
    {
     "name": "stderr",
     "output_type": "stream",
     "text": [
      "\r",
      " 26%|██▋       | 46/175 [00:14<00:41,  3.10it/s]"
     ]
    },
    {
     "name": "stderr",
     "output_type": "stream",
     "text": [
      "\r",
      " 27%|██▋       | 47/175 [00:15<00:41,  3.11it/s]"
     ]
    },
    {
     "name": "stderr",
     "output_type": "stream",
     "text": [
      "\r",
      " 27%|██▋       | 48/175 [00:15<00:41,  3.07it/s]"
     ]
    },
    {
     "name": "stderr",
     "output_type": "stream",
     "text": [
      "\r",
      " 28%|██▊       | 49/175 [00:15<00:41,  3.02it/s]"
     ]
    },
    {
     "name": "stderr",
     "output_type": "stream",
     "text": [
      "\r",
      " 29%|██▊       | 50/175 [00:16<00:40,  3.06it/s]"
     ]
    },
    {
     "name": "stderr",
     "output_type": "stream",
     "text": [
      "\r",
      " 29%|██▉       | 51/175 [00:16<00:40,  3.06it/s]"
     ]
    },
    {
     "name": "stderr",
     "output_type": "stream",
     "text": [
      "\r",
      " 30%|██▉       | 52/175 [00:16<00:40,  3.03it/s]"
     ]
    },
    {
     "name": "stderr",
     "output_type": "stream",
     "text": [
      "\r",
      " 30%|███       | 53/175 [00:17<00:40,  3.01it/s]"
     ]
    },
    {
     "name": "stderr",
     "output_type": "stream",
     "text": [
      "\r",
      " 31%|███       | 54/175 [00:17<00:39,  3.07it/s]"
     ]
    },
    {
     "name": "stderr",
     "output_type": "stream",
     "text": [
      "\r",
      " 31%|███▏      | 55/175 [00:17<00:38,  3.11it/s]"
     ]
    },
    {
     "name": "stderr",
     "output_type": "stream",
     "text": [
      "\r",
      " 32%|███▏      | 56/175 [00:18<00:38,  3.07it/s]"
     ]
    },
    {
     "name": "stderr",
     "output_type": "stream",
     "text": [
      "\r",
      " 33%|███▎      | 57/175 [00:18<00:37,  3.13it/s]"
     ]
    },
    {
     "name": "stderr",
     "output_type": "stream",
     "text": [
      "\r",
      " 33%|███▎      | 58/175 [00:18<00:37,  3.15it/s]"
     ]
    },
    {
     "name": "stderr",
     "output_type": "stream",
     "text": [
      "\r",
      " 34%|███▎      | 59/175 [00:19<00:37,  3.11it/s]"
     ]
    },
    {
     "name": "stderr",
     "output_type": "stream",
     "text": [
      "\r",
      " 34%|███▍      | 60/175 [00:19<00:37,  3.08it/s]"
     ]
    },
    {
     "name": "stderr",
     "output_type": "stream",
     "text": [
      "\r",
      " 35%|███▍      | 61/175 [00:19<00:36,  3.09it/s]"
     ]
    },
    {
     "name": "stderr",
     "output_type": "stream",
     "text": [
      "\r",
      " 35%|███▌      | 62/175 [00:20<00:36,  3.09it/s]"
     ]
    },
    {
     "name": "stderr",
     "output_type": "stream",
     "text": [
      "\r",
      " 36%|███▌      | 63/175 [00:20<00:36,  3.06it/s]"
     ]
    },
    {
     "name": "stderr",
     "output_type": "stream",
     "text": [
      "\r",
      " 37%|███▋      | 64/175 [00:20<00:35,  3.10it/s]"
     ]
    },
    {
     "name": "stderr",
     "output_type": "stream",
     "text": [
      "\r",
      " 37%|███▋      | 65/175 [00:21<00:34,  3.15it/s]"
     ]
    },
    {
     "name": "stderr",
     "output_type": "stream",
     "text": [
      "\r",
      " 38%|███▊      | 66/175 [00:21<00:34,  3.16it/s]"
     ]
    },
    {
     "name": "stderr",
     "output_type": "stream",
     "text": [
      "\r",
      " 38%|███▊      | 67/175 [00:21<00:34,  3.13it/s]"
     ]
    },
    {
     "name": "stderr",
     "output_type": "stream",
     "text": [
      "\r",
      " 39%|███▉      | 68/175 [00:22<00:35,  3.02it/s]"
     ]
    },
    {
     "name": "stderr",
     "output_type": "stream",
     "text": [
      "\r",
      " 39%|███▉      | 69/175 [00:22<00:34,  3.05it/s]"
     ]
    },
    {
     "name": "stderr",
     "output_type": "stream",
     "text": [
      "\r",
      " 40%|████      | 70/175 [00:22<00:33,  3.10it/s]"
     ]
    },
    {
     "name": "stderr",
     "output_type": "stream",
     "text": [
      "\r",
      " 41%|████      | 71/175 [00:23<00:33,  3.09it/s]"
     ]
    },
    {
     "name": "stderr",
     "output_type": "stream",
     "text": [
      "\r",
      " 41%|████      | 72/175 [00:23<00:33,  3.06it/s]"
     ]
    },
    {
     "name": "stderr",
     "output_type": "stream",
     "text": [
      "\r",
      " 42%|████▏     | 73/175 [00:23<00:33,  3.04it/s]"
     ]
    },
    {
     "name": "stderr",
     "output_type": "stream",
     "text": [
      "\r",
      " 42%|████▏     | 74/175 [00:23<00:32,  3.14it/s]"
     ]
    },
    {
     "name": "stderr",
     "output_type": "stream",
     "text": [
      "\r",
      " 43%|████▎     | 75/175 [00:24<00:32,  3.05it/s]"
     ]
    },
    {
     "name": "stderr",
     "output_type": "stream",
     "text": [
      "\r",
      " 43%|████▎     | 76/175 [00:24<00:32,  3.06it/s]"
     ]
    },
    {
     "name": "stderr",
     "output_type": "stream",
     "text": [
      "\r",
      " 44%|████▍     | 77/175 [00:24<00:32,  3.05it/s]"
     ]
    },
    {
     "name": "stderr",
     "output_type": "stream",
     "text": [
      "\r",
      " 45%|████▍     | 78/175 [00:25<00:31,  3.08it/s]"
     ]
    },
    {
     "name": "stderr",
     "output_type": "stream",
     "text": [
      "\r",
      " 45%|████▌     | 79/175 [00:25<00:31,  3.08it/s]"
     ]
    },
    {
     "name": "stderr",
     "output_type": "stream",
     "text": [
      "\r",
      " 46%|████▌     | 80/175 [00:25<00:30,  3.07it/s]"
     ]
    },
    {
     "name": "stderr",
     "output_type": "stream",
     "text": [
      "\r",
      " 46%|████▋     | 81/175 [00:26<00:30,  3.13it/s]"
     ]
    },
    {
     "name": "stderr",
     "output_type": "stream",
     "text": [
      "\r",
      " 47%|████▋     | 82/175 [00:26<00:30,  3.08it/s]"
     ]
    },
    {
     "name": "stderr",
     "output_type": "stream",
     "text": [
      "\r",
      " 47%|████▋     | 83/175 [00:26<00:29,  3.11it/s]"
     ]
    },
    {
     "name": "stderr",
     "output_type": "stream",
     "text": [
      "\r",
      " 48%|████▊     | 84/175 [00:27<00:29,  3.05it/s]"
     ]
    },
    {
     "name": "stderr",
     "output_type": "stream",
     "text": [
      "\r",
      " 49%|████▊     | 85/175 [00:27<00:29,  3.00it/s]"
     ]
    },
    {
     "name": "stderr",
     "output_type": "stream",
     "text": [
      "\r",
      " 49%|████▉     | 86/175 [00:27<00:29,  3.04it/s]"
     ]
    },
    {
     "name": "stderr",
     "output_type": "stream",
     "text": [
      "\r",
      " 50%|████▉     | 87/175 [00:28<00:29,  3.01it/s]"
     ]
    },
    {
     "name": "stderr",
     "output_type": "stream",
     "text": [
      "\r",
      " 50%|█████     | 88/175 [00:28<00:28,  3.06it/s]"
     ]
    },
    {
     "name": "stderr",
     "output_type": "stream",
     "text": [
      "\r",
      " 51%|█████     | 89/175 [00:28<00:27,  3.08it/s]"
     ]
    },
    {
     "name": "stderr",
     "output_type": "stream",
     "text": [
      "\r",
      " 51%|█████▏    | 90/175 [00:29<00:27,  3.13it/s]"
     ]
    },
    {
     "name": "stderr",
     "output_type": "stream",
     "text": [
      "\r",
      " 52%|█████▏    | 91/175 [00:29<00:27,  3.09it/s]"
     ]
    },
    {
     "name": "stderr",
     "output_type": "stream",
     "text": [
      "\r",
      " 53%|█████▎    | 92/175 [00:29<00:27,  2.97it/s]"
     ]
    },
    {
     "name": "stderr",
     "output_type": "stream",
     "text": [
      "\r",
      " 53%|█████▎    | 93/175 [00:30<00:32,  2.56it/s]"
     ]
    },
    {
     "name": "stderr",
     "output_type": "stream",
     "text": [
      "\r",
      " 54%|█████▎    | 94/175 [00:30<00:31,  2.61it/s]"
     ]
    },
    {
     "name": "stderr",
     "output_type": "stream",
     "text": [
      "\r",
      " 54%|█████▍    | 95/175 [00:31<00:29,  2.76it/s]"
     ]
    },
    {
     "name": "stderr",
     "output_type": "stream",
     "text": [
      "\r",
      " 55%|█████▍    | 96/175 [00:31<00:28,  2.80it/s]"
     ]
    },
    {
     "name": "stderr",
     "output_type": "stream",
     "text": [
      "\r",
      " 55%|█████▌    | 97/175 [00:31<00:26,  2.91it/s]"
     ]
    },
    {
     "name": "stderr",
     "output_type": "stream",
     "text": [
      "\r",
      " 56%|█████▌    | 98/175 [00:32<00:26,  2.92it/s]"
     ]
    },
    {
     "name": "stderr",
     "output_type": "stream",
     "text": [
      "\r",
      " 57%|█████▋    | 99/175 [00:32<00:26,  2.91it/s]"
     ]
    },
    {
     "name": "stderr",
     "output_type": "stream",
     "text": [
      "\r",
      " 57%|█████▋    | 100/175 [00:32<00:26,  2.81it/s]"
     ]
    },
    {
     "name": "stderr",
     "output_type": "stream",
     "text": [
      "\r",
      " 58%|█████▊    | 101/175 [00:33<00:26,  2.81it/s]"
     ]
    },
    {
     "name": "stderr",
     "output_type": "stream",
     "text": [
      "\r",
      " 58%|█████▊    | 102/175 [00:33<00:25,  2.89it/s]"
     ]
    },
    {
     "name": "stderr",
     "output_type": "stream",
     "text": [
      "\r",
      " 59%|█████▉    | 103/175 [00:33<00:25,  2.85it/s]"
     ]
    },
    {
     "name": "stderr",
     "output_type": "stream",
     "text": [
      "\r",
      " 59%|█████▉    | 104/175 [00:34<00:24,  2.86it/s]"
     ]
    },
    {
     "name": "stderr",
     "output_type": "stream",
     "text": [
      "\r",
      " 60%|██████    | 105/175 [00:34<00:24,  2.90it/s]"
     ]
    },
    {
     "name": "stderr",
     "output_type": "stream",
     "text": [
      "\r",
      " 61%|██████    | 106/175 [00:34<00:22,  3.01it/s]"
     ]
    },
    {
     "name": "stderr",
     "output_type": "stream",
     "text": [
      "\r",
      " 61%|██████    | 107/175 [00:35<00:22,  3.08it/s]"
     ]
    },
    {
     "name": "stderr",
     "output_type": "stream",
     "text": [
      "\r",
      " 62%|██████▏   | 108/175 [00:35<00:21,  3.11it/s]"
     ]
    },
    {
     "name": "stderr",
     "output_type": "stream",
     "text": [
      "\r",
      " 62%|██████▏   | 109/175 [00:35<00:21,  3.13it/s]"
     ]
    },
    {
     "name": "stderr",
     "output_type": "stream",
     "text": [
      "\r",
      " 63%|██████▎   | 110/175 [00:36<00:20,  3.18it/s]"
     ]
    },
    {
     "name": "stderr",
     "output_type": "stream",
     "text": [
      "\r",
      " 63%|██████▎   | 111/175 [00:36<00:20,  3.09it/s]"
     ]
    },
    {
     "name": "stderr",
     "output_type": "stream",
     "text": [
      "\r",
      " 64%|██████▍   | 112/175 [00:36<00:20,  3.08it/s]"
     ]
    },
    {
     "name": "stderr",
     "output_type": "stream",
     "text": [
      "\r",
      " 65%|██████▍   | 113/175 [00:37<00:21,  2.90it/s]"
     ]
    },
    {
     "name": "stderr",
     "output_type": "stream",
     "text": [
      "\r",
      " 65%|██████▌   | 114/175 [00:37<00:21,  2.90it/s]"
     ]
    },
    {
     "name": "stderr",
     "output_type": "stream",
     "text": [
      "\r",
      " 66%|██████▌   | 115/175 [00:37<00:20,  2.94it/s]"
     ]
    },
    {
     "name": "stderr",
     "output_type": "stream",
     "text": [
      "\r",
      " 66%|██████▋   | 116/175 [00:38<00:19,  3.08it/s]"
     ]
    },
    {
     "name": "stderr",
     "output_type": "stream",
     "text": [
      "\r",
      " 67%|██████▋   | 117/175 [00:38<00:19,  3.01it/s]"
     ]
    },
    {
     "name": "stderr",
     "output_type": "stream",
     "text": [
      "\r",
      " 67%|██████▋   | 118/175 [00:38<00:18,  3.06it/s]"
     ]
    },
    {
     "name": "stderr",
     "output_type": "stream",
     "text": [
      "\r",
      " 68%|██████▊   | 119/175 [00:39<00:18,  3.00it/s]"
     ]
    },
    {
     "name": "stderr",
     "output_type": "stream",
     "text": [
      "\r",
      " 69%|██████▊   | 120/175 [00:39<00:18,  3.02it/s]"
     ]
    },
    {
     "name": "stderr",
     "output_type": "stream",
     "text": [
      "\r",
      " 69%|██████▉   | 121/175 [00:39<00:18,  2.99it/s]"
     ]
    },
    {
     "name": "stderr",
     "output_type": "stream",
     "text": [
      "\r",
      " 70%|██████▉   | 122/175 [00:40<00:17,  3.01it/s]"
     ]
    },
    {
     "name": "stderr",
     "output_type": "stream",
     "text": [
      "\r",
      " 70%|███████   | 123/175 [00:40<00:17,  3.05it/s]"
     ]
    },
    {
     "name": "stderr",
     "output_type": "stream",
     "text": [
      "\r",
      " 71%|███████   | 124/175 [00:40<00:16,  3.05it/s]"
     ]
    },
    {
     "name": "stderr",
     "output_type": "stream",
     "text": [
      "\r",
      " 71%|███████▏  | 125/175 [00:41<00:16,  3.09it/s]"
     ]
    },
    {
     "name": "stderr",
     "output_type": "stream",
     "text": [
      "\r",
      " 72%|███████▏  | 126/175 [00:41<00:15,  3.12it/s]"
     ]
    },
    {
     "name": "stderr",
     "output_type": "stream",
     "text": [
      "\r",
      " 73%|███████▎  | 127/175 [00:41<00:15,  3.09it/s]"
     ]
    },
    {
     "name": "stderr",
     "output_type": "stream",
     "text": [
      "\r",
      " 73%|███████▎  | 128/175 [00:42<00:15,  2.99it/s]"
     ]
    },
    {
     "name": "stderr",
     "output_type": "stream",
     "text": [
      "\r",
      " 74%|███████▎  | 129/175 [00:42<00:15,  2.92it/s]"
     ]
    },
    {
     "name": "stderr",
     "output_type": "stream",
     "text": [
      "\r",
      " 74%|███████▍  | 130/175 [00:42<00:15,  2.99it/s]"
     ]
    },
    {
     "name": "stderr",
     "output_type": "stream",
     "text": [
      "\r",
      " 75%|███████▍  | 131/175 [00:43<00:14,  3.02it/s]"
     ]
    },
    {
     "name": "stderr",
     "output_type": "stream",
     "text": [
      "\r",
      " 75%|███████▌  | 132/175 [00:43<00:13,  3.09it/s]"
     ]
    },
    {
     "name": "stderr",
     "output_type": "stream",
     "text": [
      "\r",
      " 76%|███████▌  | 133/175 [00:43<00:13,  3.05it/s]"
     ]
    },
    {
     "name": "stderr",
     "output_type": "stream",
     "text": [
      "\r",
      " 77%|███████▋  | 134/175 [00:44<00:13,  3.04it/s]"
     ]
    },
    {
     "name": "stderr",
     "output_type": "stream",
     "text": [
      "\r",
      " 77%|███████▋  | 135/175 [00:44<00:13,  3.01it/s]"
     ]
    },
    {
     "name": "stderr",
     "output_type": "stream",
     "text": [
      "\r",
      " 78%|███████▊  | 136/175 [00:44<00:12,  3.07it/s]"
     ]
    },
    {
     "name": "stderr",
     "output_type": "stream",
     "text": [
      "\r",
      " 78%|███████▊  | 137/175 [00:45<00:14,  2.62it/s]"
     ]
    },
    {
     "name": "stderr",
     "output_type": "stream",
     "text": [
      "\r",
      " 79%|███████▉  | 138/175 [00:45<00:13,  2.70it/s]"
     ]
    },
    {
     "name": "stderr",
     "output_type": "stream",
     "text": [
      "\r",
      " 79%|███████▉  | 139/175 [00:45<00:12,  2.81it/s]"
     ]
    },
    {
     "name": "stderr",
     "output_type": "stream",
     "text": [
      "\r",
      " 80%|████████  | 140/175 [00:46<00:12,  2.87it/s]"
     ]
    },
    {
     "name": "stderr",
     "output_type": "stream",
     "text": [
      "\r",
      " 81%|████████  | 141/175 [00:46<00:11,  2.96it/s]"
     ]
    },
    {
     "name": "stderr",
     "output_type": "stream",
     "text": [
      "\r",
      " 81%|████████  | 142/175 [00:46<00:11,  2.98it/s]"
     ]
    },
    {
     "name": "stderr",
     "output_type": "stream",
     "text": [
      "\r",
      " 82%|████████▏ | 143/175 [00:47<00:10,  3.02it/s]"
     ]
    },
    {
     "name": "stderr",
     "output_type": "stream",
     "text": [
      "\r",
      " 82%|████████▏ | 144/175 [00:47<00:09,  3.14it/s]"
     ]
    },
    {
     "name": "stderr",
     "output_type": "stream",
     "text": [
      "\r",
      " 83%|████████▎ | 145/175 [00:47<00:09,  3.16it/s]"
     ]
    },
    {
     "name": "stderr",
     "output_type": "stream",
     "text": [
      "\r",
      " 83%|████████▎ | 146/175 [00:48<00:09,  3.19it/s]"
     ]
    },
    {
     "name": "stderr",
     "output_type": "stream",
     "text": [
      "\r",
      " 84%|████████▍ | 147/175 [00:48<00:08,  3.22it/s]"
     ]
    },
    {
     "name": "stderr",
     "output_type": "stream",
     "text": [
      "\r",
      " 85%|████████▍ | 148/175 [00:48<00:08,  3.24it/s]"
     ]
    },
    {
     "name": "stderr",
     "output_type": "stream",
     "text": [
      "\r",
      " 85%|████████▌ | 149/175 [00:48<00:07,  3.27it/s]"
     ]
    },
    {
     "name": "stderr",
     "output_type": "stream",
     "text": [
      "\r",
      " 86%|████████▌ | 150/175 [00:49<00:07,  3.23it/s]"
     ]
    },
    {
     "name": "stderr",
     "output_type": "stream",
     "text": [
      "\r",
      " 86%|████████▋ | 151/175 [00:49<00:07,  3.28it/s]"
     ]
    },
    {
     "name": "stderr",
     "output_type": "stream",
     "text": [
      "\r",
      " 87%|████████▋ | 152/175 [00:49<00:07,  3.27it/s]"
     ]
    },
    {
     "name": "stderr",
     "output_type": "stream",
     "text": [
      "\r",
      " 87%|████████▋ | 153/175 [00:50<00:06,  3.27it/s]"
     ]
    },
    {
     "name": "stderr",
     "output_type": "stream",
     "text": [
      "\r",
      " 88%|████████▊ | 154/175 [00:50<00:06,  3.26it/s]"
     ]
    },
    {
     "name": "stderr",
     "output_type": "stream",
     "text": [
      "\r",
      " 89%|████████▊ | 155/175 [00:50<00:06,  3.21it/s]"
     ]
    },
    {
     "name": "stderr",
     "output_type": "stream",
     "text": [
      "\r",
      " 89%|████████▉ | 156/175 [00:51<00:05,  3.31it/s]"
     ]
    },
    {
     "name": "stderr",
     "output_type": "stream",
     "text": [
      "\r",
      " 90%|████████▉ | 157/175 [00:51<00:05,  3.31it/s]"
     ]
    },
    {
     "name": "stderr",
     "output_type": "stream",
     "text": [
      "\r",
      " 90%|█████████ | 158/175 [00:51<00:05,  3.35it/s]"
     ]
    },
    {
     "name": "stderr",
     "output_type": "stream",
     "text": [
      "\r",
      " 91%|█████████ | 159/175 [00:51<00:04,  3.40it/s]"
     ]
    },
    {
     "name": "stderr",
     "output_type": "stream",
     "text": [
      "\r",
      " 91%|█████████▏| 160/175 [00:52<00:04,  3.38it/s]"
     ]
    },
    {
     "name": "stderr",
     "output_type": "stream",
     "text": [
      "\r",
      " 92%|█████████▏| 161/175 [00:52<00:04,  3.40it/s]"
     ]
    },
    {
     "name": "stderr",
     "output_type": "stream",
     "text": [
      "\r",
      " 93%|█████████▎| 162/175 [00:52<00:03,  3.36it/s]"
     ]
    },
    {
     "name": "stderr",
     "output_type": "stream",
     "text": [
      "\r",
      " 93%|█████████▎| 163/175 [00:53<00:03,  3.31it/s]"
     ]
    },
    {
     "name": "stderr",
     "output_type": "stream",
     "text": [
      "\r",
      " 94%|█████████▎| 164/175 [00:53<00:03,  3.28it/s]"
     ]
    },
    {
     "name": "stderr",
     "output_type": "stream",
     "text": [
      "\r",
      " 94%|█████████▍| 165/175 [00:53<00:03,  3.24it/s]"
     ]
    },
    {
     "name": "stderr",
     "output_type": "stream",
     "text": [
      "\r",
      " 95%|█████████▍| 166/175 [00:54<00:02,  3.19it/s]"
     ]
    },
    {
     "name": "stderr",
     "output_type": "stream",
     "text": [
      "\r",
      " 95%|█████████▌| 167/175 [00:54<00:02,  3.21it/s]"
     ]
    },
    {
     "name": "stderr",
     "output_type": "stream",
     "text": [
      "\r",
      " 96%|█████████▌| 168/175 [00:54<00:02,  3.24it/s]"
     ]
    },
    {
     "name": "stderr",
     "output_type": "stream",
     "text": [
      "\r",
      " 97%|█████████▋| 169/175 [00:55<00:01,  3.11it/s]"
     ]
    },
    {
     "name": "stderr",
     "output_type": "stream",
     "text": [
      "\r",
      " 97%|█████████▋| 170/175 [00:55<00:01,  3.09it/s]"
     ]
    },
    {
     "name": "stderr",
     "output_type": "stream",
     "text": [
      "\r",
      " 98%|█████████▊| 171/175 [00:55<00:01,  3.12it/s]"
     ]
    },
    {
     "name": "stderr",
     "output_type": "stream",
     "text": [
      "\r",
      " 98%|█████████▊| 172/175 [00:56<00:00,  3.09it/s]"
     ]
    },
    {
     "name": "stderr",
     "output_type": "stream",
     "text": [
      "\r",
      " 99%|█████████▉| 173/175 [00:56<00:00,  3.07it/s]"
     ]
    },
    {
     "name": "stderr",
     "output_type": "stream",
     "text": [
      "\r",
      " 99%|█████████▉| 174/175 [00:56<00:00,  3.08it/s]"
     ]
    },
    {
     "name": "stderr",
     "output_type": "stream",
     "text": [
      "\r",
      "100%|██████████| 175/175 [00:57<00:00,  3.08it/s]"
     ]
    },
    {
     "name": "stderr",
     "output_type": "stream",
     "text": [
      "\r",
      "100%|██████████| 175/175 [00:57<00:00,  3.05it/s]"
     ]
    },
    {
     "name": "stderr",
     "output_type": "stream",
     "text": [
      "\n"
     ]
    }
   ],
   "source": [
    "talk_revisions = (\n",
    "    pd\n",
    "    .DataFrame\n",
    "    .from_records(talk.get_revisions_list())\n",
    "    .assign(\n",
    "        diff = lambda df: df.revid.progress_apply(lambda x: talk.get_diff(x)),\n",
    "        deleted = lambda df: df['diff'].apply(lambda diff: talk.extract_plusminus(diff)['deleted']),\n",
    "        added = lambda df: df['diff'].apply(lambda diff: talk.extract_plusminus(diff)['added']),\n",
    "    )\n",
    "    .set_index('revid')\n",
    ")\n",
    "\n",
    "#talk_revisions"
   ]
  },
  {
   "cell_type": "code",
   "execution_count": 15,
   "id": "25ec8a7b-a133-458e-bad3-331c8f41b851",
   "metadata": {
    "execution": {
     "iopub.execute_input": "2024-04-03T19:58:11.050158Z",
     "iopub.status.busy": "2024-04-03T19:58:11.050003Z",
     "iopub.status.idle": "2024-04-03T19:58:11.058510Z",
     "shell.execute_reply": "2024-04-03T19:58:11.058299Z"
    },
    "papermill": {
     "duration": 0.018297,
     "end_time": "2024-04-03T19:58:11.059567",
     "exception": false,
     "start_time": "2024-04-03T19:58:11.041270",
     "status": "completed"
    },
    "tags": []
   },
   "outputs": [],
   "source": [
    "talk_revisions.to_csv(f'../data/page-revisions/discussion:{page_name.lower()}.csv')"
   ]
  },
  {
   "cell_type": "markdown",
   "id": "4d1737c2-1d19-48bb-925f-f3a73fc7c585",
   "metadata": {
    "papermill": {
     "duration": 0.006771,
     "end_time": "2024-04-03T19:58:11.072936",
     "exception": false,
     "start_time": "2024-04-03T19:58:11.066165",
     "status": "completed"
    },
    "tags": []
   },
   "source": [
    "### depuis le coming out"
   ]
  },
  {
   "cell_type": "code",
   "execution_count": 16,
   "id": "0e863939-69ce-43d1-a48c-ed831817f6c6",
   "metadata": {
    "execution": {
     "iopub.execute_input": "2024-04-03T19:58:11.086597Z",
     "iopub.status.busy": "2024-04-03T19:58:11.086491Z",
     "iopub.status.idle": "2024-04-03T19:58:11.090245Z",
     "shell.execute_reply": "2024-04-03T19:58:11.090070Z"
    },
    "papermill": {
     "duration": 0.011833,
     "end_time": "2024-04-03T19:58:11.091283",
     "exception": false,
     "start_time": "2024-04-03T19:58:11.079450",
     "status": "completed"
    },
    "tags": []
   },
   "outputs": [
    {
     "data": {
      "text/plain": [
       "user\n",
       "Cymbella                                21\n",
       "Sherwood6                               12\n",
       "Enthalpist                              10\n",
       "Jeune Lutin                              3\n",
       "Florck                                   3\n",
       "Anne Daemon                              2\n",
       "GF38storic                               1\n",
       "Le GreeKiwi                              1\n",
       "2A01:CB18:3A1:600:7D38:3E1:EB42:DB05     1\n",
       "Jean.claude                              0\n",
       "Name: deadname_count, dtype: int64"
      ]
     },
     "execution_count": 16,
     "metadata": {},
     "output_type": "execute_result"
    }
   ],
   "source": [
    "(\n",
    "    talk_revisions\n",
    "    .assign(\n",
    "        deadname_count = lambda df: df.added.apply(lambda x: ' '.join(x).lower().count(decode(dead_name).lower()))\n",
    "    )\n",
    "    # on ne garde que les contributions après son coming out\n",
    "    #.query('timestamp >= \"2013-08-22\"')\n",
    "    .groupby('user')\n",
    "    .deadname_count\n",
    "    .sum()\n",
    "    .sort_values(ascending=False)\n",
    "    .head(10)\n",
    ")"
   ]
  },
  {
   "cell_type": "markdown",
   "id": "f527cdea-8c65-45e8-8274-48ee9e2246b8",
   "metadata": {
    "papermill": {
     "duration": 0.006529,
     "end_time": "2024-04-03T19:58:11.104302",
     "exception": false,
     "start_time": "2024-04-03T19:58:11.097773",
     "status": "completed"
    },
    "tags": []
   },
   "source": [
    "### depuis le début du sondage"
   ]
  },
  {
   "cell_type": "code",
   "execution_count": 17,
   "id": "9e1a66e6-8622-4a4c-a031-95f1ee3e81b1",
   "metadata": {
    "execution": {
     "iopub.execute_input": "2024-04-03T19:58:11.118202Z",
     "iopub.status.busy": "2024-04-03T19:58:11.117997Z",
     "iopub.status.idle": "2024-04-03T19:58:11.123956Z",
     "shell.execute_reply": "2024-04-03T19:58:11.123651Z"
    },
    "papermill": {
     "duration": 0.014054,
     "end_time": "2024-04-03T19:58:11.124894",
     "exception": false,
     "start_time": "2024-04-03T19:58:11.110840",
     "status": "completed"
    },
    "tags": []
   },
   "outputs": [
    {
     "data": {
      "text/plain": [
       "user\n",
       "Cymbella                                  14\n",
       "Sherwood6                                 11\n",
       "Enthalpist                                10\n",
       "Jeune Lutin                                3\n",
       "Florck                                     3\n",
       "Anne Daemon                                2\n",
       "2A01:CB18:3A1:600:7D38:3E1:EB42:DB05       1\n",
       "Le GreeKiwi                                1\n",
       "GF38storic                                 1\n",
       "2A02:8440:A10A:6893:8C9A:7FF:FEBB:6102     0\n",
       "Name: deadname_count, dtype: int64"
      ]
     },
     "execution_count": 17,
     "metadata": {},
     "output_type": "execute_result"
    }
   ],
   "source": [
    "(\n",
    "    talk_revisions\n",
    "    .assign(\n",
    "        deadname_count = lambda df: df.added.apply(lambda x: ' '.join(x).lower().count(decode(dead_name).lower()))\n",
    "    )\n",
    "    # depuis le sondage\n",
    "    .query('timestamp >= \"2024-01-15\"')\n",
    "    .groupby('user')\n",
    "    .deadname_count\n",
    "    .sum()\n",
    "    .sort_values(ascending=False)\n",
    "    .head(10)\n",
    ")"
   ]
  },
  {
   "cell_type": "code",
   "execution_count": 18,
   "id": "63fb08f4-6403-42c9-87ea-7851eb4853b9",
   "metadata": {
    "execution": {
     "iopub.execute_input": "2024-04-03T19:58:11.139066Z",
     "iopub.status.busy": "2024-04-03T19:58:11.138745Z",
     "iopub.status.idle": "2024-04-03T19:58:11.146623Z",
     "shell.execute_reply": "2024-04-03T19:58:11.146415Z"
    },
    "papermill": {
     "duration": 0.016094,
     "end_time": "2024-04-03T19:58:11.147673",
     "exception": false,
     "start_time": "2024-04-03T19:58:11.131579",
     "status": "completed"
    },
    "tags": []
   },
   "outputs": [
    {
     "data": {
      "text/html": [
       "<style type=\"text/css\">\n",
       "</style>\n",
       "<table id=\"T_ca118\">\n",
       "  <thead>\n",
       "    <tr>\n",
       "      <th class=\"blank level0\" >&nbsp;</th>\n",
       "      <th id=\"T_ca118_level0_col0\" class=\"col_heading level0 col0\" >user</th>\n",
       "      <th id=\"T_ca118_level0_col1\" class=\"col_heading level0 col1\" >deadname_count</th>\n",
       "      <th id=\"T_ca118_level0_col2\" class=\"col_heading level0 col2\" >timestamp</th>\n",
       "    </tr>\n",
       "    <tr>\n",
       "      <th class=\"index_name level0\" >revid</th>\n",
       "      <th class=\"blank col0\" >&nbsp;</th>\n",
       "      <th class=\"blank col1\" >&nbsp;</th>\n",
       "      <th class=\"blank col2\" >&nbsp;</th>\n",
       "    </tr>\n",
       "  </thead>\n",
       "  <tbody>\n",
       "    <tr>\n",
       "      <th id=\"T_ca118_level0_row0\" class=\"row_heading level0 row0\" ><a href=\"https://fr.wikipedia.org/w/index.php?title=Discussion:Ivan_Mackenzie_Lamb&diff=prev&oldid=213939484\">213939484</a></th>\n",
       "      <td id=\"T_ca118_row0_col0\" class=\"data row0 col0\" >Florck</td>\n",
       "      <td id=\"T_ca118_row0_col1\" class=\"data row0 col1\" >2</td>\n",
       "      <td id=\"T_ca118_row0_col2\" class=\"data row0 col2\" >2024-04-03T18:57:09Z</td>\n",
       "    </tr>\n",
       "    <tr>\n",
       "      <th id=\"T_ca118_level0_row1\" class=\"row_heading level0 row1\" ><a href=\"https://fr.wikipedia.org/w/index.php?title=Discussion:Ivan_Mackenzie_Lamb&diff=prev&oldid=213939338\">213939338</a></th>\n",
       "      <td id=\"T_ca118_row1_col0\" class=\"data row1 col0\" >Cymbella</td>\n",
       "      <td id=\"T_ca118_row1_col1\" class=\"data row1 col1\" >1</td>\n",
       "      <td id=\"T_ca118_row1_col2\" class=\"data row1 col2\" >2024-04-03T18:50:09Z</td>\n",
       "    </tr>\n",
       "    <tr>\n",
       "      <th id=\"T_ca118_level0_row2\" class=\"row_heading level0 row2\" ><a href=\"https://fr.wikipedia.org/w/index.php?title=Discussion:Ivan_Mackenzie_Lamb&diff=prev&oldid=213935263\">213935263</a></th>\n",
       "      <td id=\"T_ca118_row2_col0\" class=\"data row2 col0\" >Sherwood6</td>\n",
       "      <td id=\"T_ca118_row2_col1\" class=\"data row2 col1\" >1</td>\n",
       "      <td id=\"T_ca118_row2_col2\" class=\"data row2 col2\" >2024-04-03T16:17:35Z</td>\n",
       "    </tr>\n",
       "    <tr>\n",
       "      <th id=\"T_ca118_level0_row3\" class=\"row_heading level0 row3\" ><a href=\"https://fr.wikipedia.org/w/index.php?title=Discussion:Ivan_Mackenzie_Lamb&diff=prev&oldid=213933439\">213933439</a></th>\n",
       "      <td id=\"T_ca118_row3_col0\" class=\"data row3 col0\" >Enthalpist</td>\n",
       "      <td id=\"T_ca118_row3_col1\" class=\"data row3 col1\" >1</td>\n",
       "      <td id=\"T_ca118_row3_col2\" class=\"data row3 col2\" >2024-04-03T15:26:28Z</td>\n",
       "    </tr>\n",
       "    <tr>\n",
       "      <th id=\"T_ca118_level0_row4\" class=\"row_heading level0 row4\" ><a href=\"https://fr.wikipedia.org/w/index.php?title=Discussion:Ivan_Mackenzie_Lamb&diff=prev&oldid=213932972\">213932972</a></th>\n",
       "      <td id=\"T_ca118_row4_col0\" class=\"data row4 col0\" >Sherwood6</td>\n",
       "      <td id=\"T_ca118_row4_col1\" class=\"data row4 col1\" >1</td>\n",
       "      <td id=\"T_ca118_row4_col2\" class=\"data row4 col2\" >2024-04-03T15:10:58Z</td>\n",
       "    </tr>\n",
       "    <tr>\n",
       "      <th id=\"T_ca118_level0_row5\" class=\"row_heading level0 row5\" ><a href=\"https://fr.wikipedia.org/w/index.php?title=Discussion:Ivan_Mackenzie_Lamb&diff=prev&oldid=213932691\">213932691</a></th>\n",
       "      <td id=\"T_ca118_row5_col0\" class=\"data row5 col0\" >Sherwood6</td>\n",
       "      <td id=\"T_ca118_row5_col1\" class=\"data row5 col1\" >1</td>\n",
       "      <td id=\"T_ca118_row5_col2\" class=\"data row5 col2\" >2024-04-03T14:59:49Z</td>\n",
       "    </tr>\n",
       "    <tr>\n",
       "      <th id=\"T_ca118_level0_row6\" class=\"row_heading level0 row6\" ><a href=\"https://fr.wikipedia.org/w/index.php?title=Discussion:Ivan_Mackenzie_Lamb&diff=prev&oldid=213932674\">213932674</a></th>\n",
       "      <td id=\"T_ca118_row6_col0\" class=\"data row6 col0\" >Cymbella</td>\n",
       "      <td id=\"T_ca118_row6_col1\" class=\"data row6 col1\" >2</td>\n",
       "      <td id=\"T_ca118_row6_col2\" class=\"data row6 col2\" >2024-04-03T14:59:01Z</td>\n",
       "    </tr>\n",
       "    <tr>\n",
       "      <th id=\"T_ca118_level0_row7\" class=\"row_heading level0 row7\" ><a href=\"https://fr.wikipedia.org/w/index.php?title=Discussion:Ivan_Mackenzie_Lamb&diff=prev&oldid=213927581\">213927581</a></th>\n",
       "      <td id=\"T_ca118_row7_col0\" class=\"data row7 col0\" >Sherwood6</td>\n",
       "      <td id=\"T_ca118_row7_col1\" class=\"data row7 col1\" >2</td>\n",
       "      <td id=\"T_ca118_row7_col2\" class=\"data row7 col2\" >2024-04-03T11:48:32Z</td>\n",
       "    </tr>\n",
       "    <tr>\n",
       "      <th id=\"T_ca118_level0_row8\" class=\"row_heading level0 row8\" ><a href=\"https://fr.wikipedia.org/w/index.php?title=Discussion:Ivan_Mackenzie_Lamb&diff=prev&oldid=213905277\">213905277</a></th>\n",
       "      <td id=\"T_ca118_row8_col0\" class=\"data row8 col0\" >Cymbella</td>\n",
       "      <td id=\"T_ca118_row8_col1\" class=\"data row8 col1\" >1</td>\n",
       "      <td id=\"T_ca118_row8_col2\" class=\"data row8 col2\" >2024-04-02T15:29:37Z</td>\n",
       "    </tr>\n",
       "    <tr>\n",
       "      <th id=\"T_ca118_level0_row9\" class=\"row_heading level0 row9\" ><a href=\"https://fr.wikipedia.org/w/index.php?title=Discussion:Ivan_Mackenzie_Lamb&diff=prev&oldid=213905176\">213905176</a></th>\n",
       "      <td id=\"T_ca118_row9_col0\" class=\"data row9 col0\" >Florck</td>\n",
       "      <td id=\"T_ca118_row9_col1\" class=\"data row9 col1\" >1</td>\n",
       "      <td id=\"T_ca118_row9_col2\" class=\"data row9 col2\" >2024-04-02T15:26:15Z</td>\n",
       "    </tr>\n",
       "    <tr>\n",
       "      <th id=\"T_ca118_level0_row10\" class=\"row_heading level0 row10\" ><a href=\"https://fr.wikipedia.org/w/index.php?title=Discussion:Ivan_Mackenzie_Lamb&diff=prev&oldid=213903307\">213903307</a></th>\n",
       "      <td id=\"T_ca118_row10_col0\" class=\"data row10 col0\" >Anne Daemon</td>\n",
       "      <td id=\"T_ca118_row10_col1\" class=\"data row10 col1\" >1</td>\n",
       "      <td id=\"T_ca118_row10_col2\" class=\"data row10 col2\" >2024-04-02T14:19:54Z</td>\n",
       "    </tr>\n",
       "    <tr>\n",
       "      <th id=\"T_ca118_level0_row11\" class=\"row_heading level0 row11\" ><a href=\"https://fr.wikipedia.org/w/index.php?title=Discussion:Ivan_Mackenzie_Lamb&diff=prev&oldid=213902946\">213902946</a></th>\n",
       "      <td id=\"T_ca118_row11_col0\" class=\"data row11 col0\" >Anne Daemon</td>\n",
       "      <td id=\"T_ca118_row11_col1\" class=\"data row11 col1\" >1</td>\n",
       "      <td id=\"T_ca118_row11_col2\" class=\"data row11 col2\" >2024-04-02T14:07:50Z</td>\n",
       "    </tr>\n",
       "    <tr>\n",
       "      <th id=\"T_ca118_level0_row12\" class=\"row_heading level0 row12\" ><a href=\"https://fr.wikipedia.org/w/index.php?title=Discussion:Ivan_Mackenzie_Lamb&diff=prev&oldid=213900741\">213900741</a></th>\n",
       "      <td id=\"T_ca118_row12_col0\" class=\"data row12 col0\" >GF38storic</td>\n",
       "      <td id=\"T_ca118_row12_col1\" class=\"data row12 col1\" >1</td>\n",
       "      <td id=\"T_ca118_row12_col2\" class=\"data row12 col2\" >2024-04-02T12:43:32Z</td>\n",
       "    </tr>\n",
       "    <tr>\n",
       "      <th id=\"T_ca118_level0_row13\" class=\"row_heading level0 row13\" ><a href=\"https://fr.wikipedia.org/w/index.php?title=Discussion:Ivan_Mackenzie_Lamb&diff=prev&oldid=213893318\">213893318</a></th>\n",
       "      <td id=\"T_ca118_row13_col0\" class=\"data row13 col0\" >Enthalpist</td>\n",
       "      <td id=\"T_ca118_row13_col1\" class=\"data row13 col1\" >3</td>\n",
       "      <td id=\"T_ca118_row13_col2\" class=\"data row13 col2\" >2024-04-02T06:24:28Z</td>\n",
       "    </tr>\n",
       "    <tr>\n",
       "      <th id=\"T_ca118_level0_row14\" class=\"row_heading level0 row14\" ><a href=\"https://fr.wikipedia.org/w/index.php?title=Discussion:Ivan_Mackenzie_Lamb&diff=prev&oldid=213887766\">213887766</a></th>\n",
       "      <td id=\"T_ca118_row14_col0\" class=\"data row14 col0\" >Jeune Lutin</td>\n",
       "      <td id=\"T_ca118_row14_col1\" class=\"data row14 col1\" >3</td>\n",
       "      <td id=\"T_ca118_row14_col2\" class=\"data row14 col2\" >2024-04-01T23:35:10Z</td>\n",
       "    </tr>\n",
       "    <tr>\n",
       "      <th id=\"T_ca118_level0_row15\" class=\"row_heading level0 row15\" ><a href=\"https://fr.wikipedia.org/w/index.php?title=Discussion:Ivan_Mackenzie_Lamb&diff=prev&oldid=213884313\">213884313</a></th>\n",
       "      <td id=\"T_ca118_row15_col0\" class=\"data row15 col0\" >Cymbella</td>\n",
       "      <td id=\"T_ca118_row15_col1\" class=\"data row15 col1\" >1</td>\n",
       "      <td id=\"T_ca118_row15_col2\" class=\"data row15 col2\" >2024-04-01T21:18:37Z</td>\n",
       "    </tr>\n",
       "    <tr>\n",
       "      <th id=\"T_ca118_level0_row16\" class=\"row_heading level0 row16\" ><a href=\"https://fr.wikipedia.org/w/index.php?title=Discussion:Ivan_Mackenzie_Lamb&diff=prev&oldid=213843134\">213843134</a></th>\n",
       "      <td id=\"T_ca118_row16_col0\" class=\"data row16 col0\" >Cymbella</td>\n",
       "      <td id=\"T_ca118_row16_col1\" class=\"data row16 col1\" >1</td>\n",
       "      <td id=\"T_ca118_row16_col2\" class=\"data row16 col2\" >2024-03-31T17:10:53Z</td>\n",
       "    </tr>\n",
       "    <tr>\n",
       "      <th id=\"T_ca118_level0_row17\" class=\"row_heading level0 row17\" ><a href=\"https://fr.wikipedia.org/w/index.php?title=Discussion:Ivan_Mackenzie_Lamb&diff=prev&oldid=213751051\">213751051</a></th>\n",
       "      <td id=\"T_ca118_row17_col0\" class=\"data row17 col0\" >2A01:CB18:3A1:600:7D38:3E1:EB42:DB05</td>\n",
       "      <td id=\"T_ca118_row17_col1\" class=\"data row17 col1\" >1</td>\n",
       "      <td id=\"T_ca118_row17_col2\" class=\"data row17 col2\" >2024-03-28T11:41:08Z</td>\n",
       "    </tr>\n",
       "    <tr>\n",
       "      <th id=\"T_ca118_level0_row18\" class=\"row_heading level0 row18\" ><a href=\"https://fr.wikipedia.org/w/index.php?title=Discussion:Ivan_Mackenzie_Lamb&diff=prev&oldid=213747283\">213747283</a></th>\n",
       "      <td id=\"T_ca118_row18_col0\" class=\"data row18 col0\" >Enthalpist</td>\n",
       "      <td id=\"T_ca118_row18_col1\" class=\"data row18 col1\" >2</td>\n",
       "      <td id=\"T_ca118_row18_col2\" class=\"data row18 col2\" >2024-03-28T09:02:54Z</td>\n",
       "    </tr>\n",
       "    <tr>\n",
       "      <th id=\"T_ca118_level0_row19\" class=\"row_heading level0 row19\" ><a href=\"https://fr.wikipedia.org/w/index.php?title=Discussion:Ivan_Mackenzie_Lamb&diff=prev&oldid=213733772\">213733772</a></th>\n",
       "      <td id=\"T_ca118_row19_col0\" class=\"data row19 col0\" >Enthalpist</td>\n",
       "      <td id=\"T_ca118_row19_col1\" class=\"data row19 col1\" >3</td>\n",
       "      <td id=\"T_ca118_row19_col2\" class=\"data row19 col2\" >2024-03-27T18:43:44Z</td>\n",
       "    </tr>\n",
       "    <tr>\n",
       "      <th id=\"T_ca118_level0_row20\" class=\"row_heading level0 row20\" ><a href=\"https://fr.wikipedia.org/w/index.php?title=Discussion:Ivan_Mackenzie_Lamb&diff=prev&oldid=213732723\">213732723</a></th>\n",
       "      <td id=\"T_ca118_row20_col0\" class=\"data row20 col0\" >Sherwood6</td>\n",
       "      <td id=\"T_ca118_row20_col1\" class=\"data row20 col1\" >1</td>\n",
       "      <td id=\"T_ca118_row20_col2\" class=\"data row20 col2\" >2024-03-27T17:58:19Z</td>\n",
       "    </tr>\n",
       "    <tr>\n",
       "      <th id=\"T_ca118_level0_row21\" class=\"row_heading level0 row21\" ><a href=\"https://fr.wikipedia.org/w/index.php?title=Discussion:Ivan_Mackenzie_Lamb&diff=prev&oldid=213731305\">213731305</a></th>\n",
       "      <td id=\"T_ca118_row21_col0\" class=\"data row21 col0\" >Enthalpist</td>\n",
       "      <td id=\"T_ca118_row21_col1\" class=\"data row21 col1\" >1</td>\n",
       "      <td id=\"T_ca118_row21_col2\" class=\"data row21 col2\" >2024-03-27T17:11:37Z</td>\n",
       "    </tr>\n",
       "    <tr>\n",
       "      <th id=\"T_ca118_level0_row22\" class=\"row_heading level0 row22\" ><a href=\"https://fr.wikipedia.org/w/index.php?title=Discussion:Ivan_Mackenzie_Lamb&diff=prev&oldid=213729217\">213729217</a></th>\n",
       "      <td id=\"T_ca118_row22_col0\" class=\"data row22 col0\" >Cymbella</td>\n",
       "      <td id=\"T_ca118_row22_col1\" class=\"data row22 col1\" >1</td>\n",
       "      <td id=\"T_ca118_row22_col2\" class=\"data row22 col2\" >2024-03-27T16:01:44Z</td>\n",
       "    </tr>\n",
       "    <tr>\n",
       "      <th id=\"T_ca118_level0_row23\" class=\"row_heading level0 row23\" ><a href=\"https://fr.wikipedia.org/w/index.php?title=Discussion:Ivan_Mackenzie_Lamb&diff=prev&oldid=213723362\">213723362</a></th>\n",
       "      <td id=\"T_ca118_row23_col0\" class=\"data row23 col0\" >Sherwood6</td>\n",
       "      <td id=\"T_ca118_row23_col1\" class=\"data row23 col1\" >1</td>\n",
       "      <td id=\"T_ca118_row23_col2\" class=\"data row23 col2\" >2024-03-27T12:43:39Z</td>\n",
       "    </tr>\n",
       "    <tr>\n",
       "      <th id=\"T_ca118_level0_row24\" class=\"row_heading level0 row24\" ><a href=\"https://fr.wikipedia.org/w/index.php?title=Discussion:Ivan_Mackenzie_Lamb&diff=prev&oldid=213538736\">213538736</a></th>\n",
       "      <td id=\"T_ca118_row24_col0\" class=\"data row24 col0\" >Cymbella</td>\n",
       "      <td id=\"T_ca118_row24_col1\" class=\"data row24 col1\" >1</td>\n",
       "      <td id=\"T_ca118_row24_col2\" class=\"data row24 col2\" >2024-03-21T13:50:11Z</td>\n",
       "    </tr>\n",
       "    <tr>\n",
       "      <th id=\"T_ca118_level0_row25\" class=\"row_heading level0 row25\" ><a href=\"https://fr.wikipedia.org/w/index.php?title=Discussion:Ivan_Mackenzie_Lamb&diff=prev&oldid=213537083\">213537083</a></th>\n",
       "      <td id=\"T_ca118_row25_col0\" class=\"data row25 col0\" >Sherwood6</td>\n",
       "      <td id=\"T_ca118_row25_col1\" class=\"data row25 col1\" >1</td>\n",
       "      <td id=\"T_ca118_row25_col2\" class=\"data row25 col2\" >2024-03-21T12:43:03Z</td>\n",
       "    </tr>\n",
       "    <tr>\n",
       "      <th id=\"T_ca118_level0_row26\" class=\"row_heading level0 row26\" ><a href=\"https://fr.wikipedia.org/w/index.php?title=Discussion:Ivan_Mackenzie_Lamb&diff=prev&oldid=213536879\">213536879</a></th>\n",
       "      <td id=\"T_ca118_row26_col0\" class=\"data row26 col0\" >Sherwood6</td>\n",
       "      <td id=\"T_ca118_row26_col1\" class=\"data row26 col1\" >1</td>\n",
       "      <td id=\"T_ca118_row26_col2\" class=\"data row26 col2\" >2024-03-21T12:35:16Z</td>\n",
       "    </tr>\n",
       "    <tr>\n",
       "      <th id=\"T_ca118_level0_row27\" class=\"row_heading level0 row27\" ><a href=\"https://fr.wikipedia.org/w/index.php?title=Discussion:Ivan_Mackenzie_Lamb&diff=prev&oldid=213535423\">213535423</a></th>\n",
       "      <td id=\"T_ca118_row27_col0\" class=\"data row27 col0\" >Cymbella</td>\n",
       "      <td id=\"T_ca118_row27_col1\" class=\"data row27 col1\" >2</td>\n",
       "      <td id=\"T_ca118_row27_col2\" class=\"data row27 col2\" >2024-03-21T11:22:29Z</td>\n",
       "    </tr>\n",
       "    <tr>\n",
       "      <th id=\"T_ca118_level0_row28\" class=\"row_heading level0 row28\" ><a href=\"https://fr.wikipedia.org/w/index.php?title=Discussion:Ivan_Mackenzie_Lamb&diff=prev&oldid=213534411\">213534411</a></th>\n",
       "      <td id=\"T_ca118_row28_col0\" class=\"data row28 col0\" >Le GreeKiwi</td>\n",
       "      <td id=\"T_ca118_row28_col1\" class=\"data row28 col1\" >1</td>\n",
       "      <td id=\"T_ca118_row28_col2\" class=\"data row28 col2\" >2024-03-21T10:41:31Z</td>\n",
       "    </tr>\n",
       "    <tr>\n",
       "      <th id=\"T_ca118_level0_row29\" class=\"row_heading level0 row29\" ><a href=\"https://fr.wikipedia.org/w/index.php?title=Discussion:Ivan_Mackenzie_Lamb&diff=prev&oldid=213534030\">213534030</a></th>\n",
       "      <td id=\"T_ca118_row29_col0\" class=\"data row29 col0\" >Cymbella</td>\n",
       "      <td id=\"T_ca118_row29_col1\" class=\"data row29 col1\" >1</td>\n",
       "      <td id=\"T_ca118_row29_col2\" class=\"data row29 col2\" >2024-03-21T10:26:34Z</td>\n",
       "    </tr>\n",
       "    <tr>\n",
       "      <th id=\"T_ca118_level0_row30\" class=\"row_heading level0 row30\" ><a href=\"https://fr.wikipedia.org/w/index.php?title=Discussion:Ivan_Mackenzie_Lamb&diff=prev&oldid=213521178\">213521178</a></th>\n",
       "      <td id=\"T_ca118_row30_col0\" class=\"data row30 col0\" >Sherwood6</td>\n",
       "      <td id=\"T_ca118_row30_col1\" class=\"data row30 col1\" >1</td>\n",
       "      <td id=\"T_ca118_row30_col2\" class=\"data row30 col2\" >2024-03-20T19:43:38Z</td>\n",
       "    </tr>\n",
       "    <tr>\n",
       "      <th id=\"T_ca118_level0_row31\" class=\"row_heading level0 row31\" ><a href=\"https://fr.wikipedia.org/w/index.php?title=Discussion:Ivan_Mackenzie_Lamb&diff=prev&oldid=213519286\">213519286</a></th>\n",
       "      <td id=\"T_ca118_row31_col0\" class=\"data row31 col0\" >Sherwood6</td>\n",
       "      <td id=\"T_ca118_row31_col1\" class=\"data row31 col1\" >1</td>\n",
       "      <td id=\"T_ca118_row31_col2\" class=\"data row31 col2\" >2024-03-20T18:05:21Z</td>\n",
       "    </tr>\n",
       "    <tr>\n",
       "      <th id=\"T_ca118_level0_row32\" class=\"row_heading level0 row32\" ><a href=\"https://fr.wikipedia.org/w/index.php?title=Discussion:Ivan_Mackenzie_Lamb&diff=prev&oldid=213511085\">213511085</a></th>\n",
       "      <td id=\"T_ca118_row32_col0\" class=\"data row32 col0\" >Cymbella</td>\n",
       "      <td id=\"T_ca118_row32_col1\" class=\"data row32 col1\" >1</td>\n",
       "      <td id=\"T_ca118_row32_col2\" class=\"data row32 col2\" >2024-03-20T13:20:01Z</td>\n",
       "    </tr>\n",
       "    <tr>\n",
       "      <th id=\"T_ca118_level0_row33\" class=\"row_heading level0 row33\" ><a href=\"https://fr.wikipedia.org/w/index.php?title=Discussion:Ivan_Mackenzie_Lamb&diff=prev&oldid=213479789\">213479789</a></th>\n",
       "      <td id=\"T_ca118_row33_col0\" class=\"data row33 col0\" >Cymbella</td>\n",
       "      <td id=\"T_ca118_row33_col1\" class=\"data row33 col1\" >2</td>\n",
       "      <td id=\"T_ca118_row33_col2\" class=\"data row33 col2\" >2024-03-19T10:54:34Z</td>\n",
       "    </tr>\n",
       "  </tbody>\n",
       "</table>\n"
      ],
      "text/plain": [
       "<pandas.io.formats.style.Styler at 0x7aa7a0730b20>"
      ]
     },
     "execution_count": 18,
     "metadata": {},
     "output_type": "execute_result"
    }
   ],
   "source": [
    "(\n",
    "    talk_revisions\n",
    "    .assign(\n",
    "        deadname_count = lambda df: df.added.apply(lambda x: ' '.join(x).lower().count(decode(dead_name).lower()))\n",
    "    )\n",
    "    # depuis le sondage\n",
    "    .query('timestamp >= \"2024-01-15\"')\n",
    "    .query('deadname_count > 0')\n",
    "    [['user', 'deadname_count', 'timestamp']]\n",
    "    .style\n",
    "    .format_index(lambda x : format_revid_index(x, f'Discussion:{page_name}'))\n",
    ")"
   ]
  },
  {
   "cell_type": "code",
   "execution_count": 19,
   "id": "27f65dc8-0dab-464f-931b-4498c241e3f5",
   "metadata": {
    "execution": {
     "iopub.execute_input": "2024-04-03T19:58:11.162968Z",
     "iopub.status.busy": "2024-04-03T19:58:11.162573Z",
     "iopub.status.idle": "2024-04-03T19:58:11.170720Z",
     "shell.execute_reply": "2024-04-03T19:58:11.170465Z"
    },
    "papermill": {
     "duration": 0.016866,
     "end_time": "2024-04-03T19:58:11.171589",
     "exception": false,
     "start_time": "2024-04-03T19:58:11.154723",
     "status": "completed"
    },
    "tags": []
   },
   "outputs": [
    {
     "data": {
      "text/plain": [
       "34"
      ]
     },
     "execution_count": 19,
     "metadata": {},
     "output_type": "execute_result"
    }
   ],
   "source": [
    "len(\n",
    "    talk_revisions\n",
    "    .assign(\n",
    "        deadname_count = lambda df: df.added.apply(lambda x: ' '.join(x).lower().count(decode(dead_name).lower()))\n",
    "    )\n",
    "    # depuis le sondage\n",
    "    .query('timestamp >= \"2024-01-15\"')\n",
    "    .query('deadname_count > 0')\n",
    "    [['user', 'deadname_count']]\n",
    ")"
   ]
  },
  {
   "cell_type": "code",
   "execution_count": null,
   "id": "f53cbc6c-c121-4c41-895b-60d2eafe8fbe",
   "metadata": {
    "papermill": {
     "duration": 0.006988,
     "end_time": "2024-04-03T19:58:11.185743",
     "exception": false,
     "start_time": "2024-04-03T19:58:11.178755",
     "status": "completed"
    },
    "tags": []
   },
   "outputs": [],
   "source": []
  }
 ],
 "metadata": {
  "kernelspec": {
   "display_name": "Python 3 (ipykernel)",
   "language": "python",
   "name": "python3"
  },
  "language_info": {
   "codemirror_mode": {
    "name": "ipython",
    "version": 3
   },
   "file_extension": ".py",
   "mimetype": "text/x-python",
   "name": "python",
   "nbconvert_exporter": "python",
   "pygments_lexer": "ipython3",
   "version": "3.10.12"
  },
  "papermill": {
   "default_parameters": {},
   "duration": 99.783693,
   "end_time": "2024-04-03T19:58:11.412533",
   "environment_variables": {},
   "exception": null,
   "input_path": "cook_template_deadname_watch.ipynb",
   "output_path": "cook_eda_deadnames_ivan_mackenzie_lamb.ipynb",
   "parameters": {
    "co_date": null,
    "dead_name": "SXZhbg==",
    "name": "Elke Mackenzie",
    "page_name": "Ivan_Mackenzie_Lamb"
   },
   "start_time": "2024-04-03T19:56:31.628840",
   "version": "2.4.0"
  }
 },
 "nbformat": 4,
 "nbformat_minor": 5
}