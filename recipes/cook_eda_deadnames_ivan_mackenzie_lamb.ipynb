{
 "cells": [
  {
   "cell_type": "code",
   "execution_count": 1,
   "id": "2ad56d7a-56a0-4f9e-a19d-906c01ac23f1",
   "metadata": {
    "execution": {
     "iopub.execute_input": "2024-04-01T20:18:57.642905Z",
     "iopub.status.busy": "2024-04-01T20:18:57.642442Z",
     "iopub.status.idle": "2024-04-01T20:18:58.090292Z",
     "shell.execute_reply": "2024-04-01T20:18:58.089926Z"
    },
    "papermill": {
     "duration": 0.4562,
     "end_time": "2024-04-01T20:18:58.091081",
     "exception": false,
     "start_time": "2024-04-01T20:18:57.634881",
     "status": "completed"
    },
    "tags": []
   },
   "outputs": [],
   "source": [
    "import pandas as pd\n",
    "from bs4 import BeautifulSoup\n",
    "from tqdm import tqdm\n",
    "import base64\n",
    "\n",
    "tqdm.pandas()\n",
    "from wekeypedia import WikipediaPage as Page"
   ]
  },
  {
   "cell_type": "code",
   "execution_count": 2,
   "id": "23765632-31c5-4a46-a008-89df2f3fb17a",
   "metadata": {
    "execution": {
     "iopub.execute_input": "2024-04-01T20:18:58.101344Z",
     "iopub.status.busy": "2024-04-01T20:18:58.101166Z",
     "iopub.status.idle": "2024-04-01T20:18:58.102808Z",
     "shell.execute_reply": "2024-04-01T20:18:58.102615Z"
    },
    "papermill": {
     "duration": 0.010462,
     "end_time": "2024-04-01T20:18:58.103292",
     "exception": false,
     "start_time": "2024-04-01T20:18:58.092830",
     "status": "completed"
    },
    "tags": [
     "parameters"
    ]
   },
   "outputs": [],
   "source": [
    "name = \"Elliot Page\"\n",
    "dead_name = \"RWxsZW4=\"\n",
    "page_name = \"Elliot_Page\"\n",
    "co_date = \"2020-12-01\""
   ]
  },
  {
   "cell_type": "code",
   "execution_count": 3,
   "id": "b7a39e41",
   "metadata": {
    "execution": {
     "iopub.execute_input": "2024-04-01T20:18:58.106417Z",
     "iopub.status.busy": "2024-04-01T20:18:58.106318Z",
     "iopub.status.idle": "2024-04-01T20:18:58.107768Z",
     "shell.execute_reply": "2024-04-01T20:18:58.107590Z"
    },
    "papermill": {
     "duration": 0.003585,
     "end_time": "2024-04-01T20:18:58.108253",
     "exception": false,
     "start_time": "2024-04-01T20:18:58.104668",
     "status": "completed"
    },
    "tags": [
     "injected-parameters"
    ]
   },
   "outputs": [],
   "source": [
    "# Parameters\n",
    "name = \"Elke Mackenzie\"\n",
    "dead_name = \"SXZhbg==\"\n",
    "page_name = \"Ivan_Mackenzie_Lamb\"\n",
    "co_date = None\n"
   ]
  },
  {
   "cell_type": "code",
   "execution_count": 4,
   "id": "743460e0-da77-4f86-bb1c-7e260dd25dd2",
   "metadata": {
    "execution": {
     "iopub.execute_input": "2024-04-01T20:18:58.111411Z",
     "iopub.status.busy": "2024-04-01T20:18:58.111302Z",
     "iopub.status.idle": "2024-04-01T20:18:58.112778Z",
     "shell.execute_reply": "2024-04-01T20:18:58.112600Z"
    },
    "papermill": {
     "duration": 0.003673,
     "end_time": "2024-04-01T20:18:58.113239",
     "exception": false,
     "start_time": "2024-04-01T20:18:58.109566",
     "status": "completed"
    },
    "tags": []
   },
   "outputs": [],
   "source": [
    "def format_revid_index(revid, page):\n",
    "    return f'<a href=\"https://fr.wikipedia.org/w/index.php?title={page}&diff=prev&oldid={revid}\">{revid}</a>'"
   ]
  },
  {
   "cell_type": "markdown",
   "id": "5cc2bf74-9863-42ee-a757-703825106697",
   "metadata": {
    "papermill": {
     "duration": 0.001385,
     "end_time": "2024-04-01T20:18:58.115995",
     "exception": false,
     "start_time": "2024-04-01T20:18:58.114610",
     "status": "completed"
    },
    "tags": []
   },
   "source": [
    "# qui sont personnes qui énoncent le deadname dans l'article ?"
   ]
  },
  {
   "cell_type": "markdown",
   "id": "ef5929df-44e4-4ab2-a25b-25c1db364961",
   "metadata": {
    "papermill": {
     "duration": 0.001358,
     "end_time": "2024-04-01T20:18:58.118646",
     "exception": false,
     "start_time": "2024-04-01T20:18:58.117288",
     "status": "completed"
    },
    "tags": []
   },
   "source": [
    "## article"
   ]
  },
  {
   "cell_type": "code",
   "execution_count": 5,
   "id": "eed28b1e-97c4-4eab-9ead-6a8b55b85187",
   "metadata": {
    "execution": {
     "iopub.execute_input": "2024-04-01T20:18:58.121748Z",
     "iopub.status.busy": "2024-04-01T20:18:58.121646Z",
     "iopub.status.idle": "2024-04-01T20:18:58.413635Z",
     "shell.execute_reply": "2024-04-01T20:18:58.411976Z"
    },
    "papermill": {
     "duration": 0.297201,
     "end_time": "2024-04-01T20:18:58.417161",
     "exception": false,
     "start_time": "2024-04-01T20:18:58.119960",
     "status": "completed"
    },
    "tags": []
   },
   "outputs": [],
   "source": [
    "page = Page(page_name, lang='fr')"
   ]
  },
  {
   "cell_type": "code",
   "execution_count": 6,
   "id": "e496177f-af35-4c14-84a2-40f86b9a0309",
   "metadata": {
    "execution": {
     "iopub.execute_input": "2024-04-01T20:18:58.433868Z",
     "iopub.status.busy": "2024-04-01T20:18:58.433689Z",
     "iopub.status.idle": "2024-04-01T20:19:25.115751Z",
     "shell.execute_reply": "2024-04-01T20:19:25.115457Z"
    },
    "papermill": {
     "duration": 26.691138,
     "end_time": "2024-04-01T20:19:25.116459",
     "exception": false,
     "start_time": "2024-04-01T20:18:58.425321",
     "status": "completed"
    },
    "tags": []
   },
   "outputs": [
    {
     "name": "stderr",
     "output_type": "stream",
     "text": [
      "\r",
      "  0%|          | 0/80 [00:00<?, ?it/s]"
     ]
    },
    {
     "name": "stderr",
     "output_type": "stream",
     "text": [
      "\r",
      "  2%|▎         | 2/80 [00:00<00:12,  6.26it/s]"
     ]
    },
    {
     "name": "stderr",
     "output_type": "stream",
     "text": [
      "\r",
      "  4%|▍         | 3/80 [00:00<00:17,  4.48it/s]"
     ]
    },
    {
     "name": "stderr",
     "output_type": "stream",
     "text": [
      "\r",
      "  5%|▌         | 4/80 [00:00<00:19,  3.89it/s]"
     ]
    },
    {
     "name": "stderr",
     "output_type": "stream",
     "text": [
      "\r",
      "  6%|▋         | 5/80 [00:01<00:22,  3.34it/s]"
     ]
    },
    {
     "name": "stderr",
     "output_type": "stream",
     "text": [
      "\r",
      "  8%|▊         | 6/80 [00:01<00:22,  3.26it/s]"
     ]
    },
    {
     "name": "stderr",
     "output_type": "stream",
     "text": [
      "\r",
      "  9%|▉         | 7/80 [00:01<00:22,  3.20it/s]"
     ]
    },
    {
     "name": "stderr",
     "output_type": "stream",
     "text": [
      "\r",
      " 10%|█         | 8/80 [00:02<00:22,  3.21it/s]"
     ]
    },
    {
     "name": "stderr",
     "output_type": "stream",
     "text": [
      "\r",
      " 11%|█▏        | 9/80 [00:02<00:22,  3.22it/s]"
     ]
    },
    {
     "name": "stderr",
     "output_type": "stream",
     "text": [
      "\r",
      " 12%|█▎        | 10/80 [00:02<00:21,  3.22it/s]"
     ]
    },
    {
     "name": "stderr",
     "output_type": "stream",
     "text": [
      "\r",
      " 14%|█▍        | 11/80 [00:03<00:21,  3.17it/s]"
     ]
    },
    {
     "name": "stderr",
     "output_type": "stream",
     "text": [
      "\r",
      " 15%|█▌        | 12/80 [00:03<00:21,  3.17it/s]"
     ]
    },
    {
     "name": "stderr",
     "output_type": "stream",
     "text": [
      "\r",
      " 16%|█▋        | 13/80 [00:03<00:21,  3.14it/s]"
     ]
    },
    {
     "name": "stderr",
     "output_type": "stream",
     "text": [
      "\r",
      " 18%|█▊        | 14/80 [00:04<00:21,  3.06it/s]"
     ]
    },
    {
     "name": "stderr",
     "output_type": "stream",
     "text": [
      "\r",
      " 19%|█▉        | 15/80 [00:04<00:21,  3.06it/s]"
     ]
    },
    {
     "name": "stderr",
     "output_type": "stream",
     "text": [
      "\r",
      " 20%|██        | 16/80 [00:04<00:19,  3.21it/s]"
     ]
    },
    {
     "name": "stderr",
     "output_type": "stream",
     "text": [
      "\r",
      " 21%|██▏       | 17/80 [00:05<00:19,  3.22it/s]"
     ]
    },
    {
     "name": "stderr",
     "output_type": "stream",
     "text": [
      "\r",
      " 22%|██▎       | 18/80 [00:05<00:19,  3.21it/s]"
     ]
    },
    {
     "name": "stderr",
     "output_type": "stream",
     "text": [
      "\r",
      " 24%|██▍       | 19/80 [00:05<00:19,  3.20it/s]"
     ]
    },
    {
     "name": "stderr",
     "output_type": "stream",
     "text": [
      "\r",
      " 25%|██▌       | 20/80 [00:06<00:18,  3.25it/s]"
     ]
    },
    {
     "name": "stderr",
     "output_type": "stream",
     "text": [
      "\r",
      " 26%|██▋       | 21/80 [00:06<00:21,  2.77it/s]"
     ]
    },
    {
     "name": "stderr",
     "output_type": "stream",
     "text": [
      "\r",
      " 28%|██▊       | 22/80 [00:06<00:19,  2.91it/s]"
     ]
    },
    {
     "name": "stderr",
     "output_type": "stream",
     "text": [
      "\r",
      " 29%|██▉       | 23/80 [00:07<00:19,  2.98it/s]"
     ]
    },
    {
     "name": "stderr",
     "output_type": "stream",
     "text": [
      "\r",
      " 30%|███       | 24/80 [00:07<00:18,  3.02it/s]"
     ]
    },
    {
     "name": "stderr",
     "output_type": "stream",
     "text": [
      "\r",
      " 31%|███▏      | 25/80 [00:07<00:18,  3.01it/s]"
     ]
    },
    {
     "name": "stderr",
     "output_type": "stream",
     "text": [
      "\r",
      " 32%|███▎      | 26/80 [00:08<00:19,  2.84it/s]"
     ]
    },
    {
     "name": "stderr",
     "output_type": "stream",
     "text": [
      "\r",
      " 34%|███▍      | 27/80 [00:08<00:18,  2.94it/s]"
     ]
    },
    {
     "name": "stderr",
     "output_type": "stream",
     "text": [
      "\r",
      " 35%|███▌      | 28/80 [00:08<00:17,  2.94it/s]"
     ]
    },
    {
     "name": "stderr",
     "output_type": "stream",
     "text": [
      "\r",
      " 36%|███▋      | 29/80 [00:09<00:17,  2.99it/s]"
     ]
    },
    {
     "name": "stderr",
     "output_type": "stream",
     "text": [
      "\r",
      " 38%|███▊      | 30/80 [00:09<00:16,  3.09it/s]"
     ]
    },
    {
     "name": "stderr",
     "output_type": "stream",
     "text": [
      "\r",
      " 39%|███▉      | 31/80 [00:09<00:15,  3.14it/s]"
     ]
    },
    {
     "name": "stderr",
     "output_type": "stream",
     "text": [
      "\r",
      " 40%|████      | 32/80 [00:10<00:15,  3.19it/s]"
     ]
    },
    {
     "name": "stderr",
     "output_type": "stream",
     "text": [
      "\r",
      " 41%|████▏     | 33/80 [00:10<00:14,  3.24it/s]"
     ]
    },
    {
     "name": "stderr",
     "output_type": "stream",
     "text": [
      "\r",
      " 42%|████▎     | 34/80 [00:10<00:14,  3.23it/s]"
     ]
    },
    {
     "name": "stderr",
     "output_type": "stream",
     "text": [
      "\r",
      " 44%|████▍     | 35/80 [00:11<00:14,  3.19it/s]"
     ]
    },
    {
     "name": "stderr",
     "output_type": "stream",
     "text": [
      "\r",
      " 45%|████▌     | 36/80 [00:11<00:14,  3.12it/s]"
     ]
    },
    {
     "name": "stderr",
     "output_type": "stream",
     "text": [
      "\r",
      " 46%|████▋     | 37/80 [00:11<00:13,  3.15it/s]"
     ]
    },
    {
     "name": "stderr",
     "output_type": "stream",
     "text": [
      "\r",
      " 48%|████▊     | 38/80 [00:11<00:13,  3.22it/s]"
     ]
    },
    {
     "name": "stderr",
     "output_type": "stream",
     "text": [
      "\r",
      " 49%|████▉     | 39/80 [00:12<00:12,  3.26it/s]"
     ]
    },
    {
     "name": "stderr",
     "output_type": "stream",
     "text": [
      "\r",
      " 50%|█████     | 40/80 [00:12<00:13,  3.01it/s]"
     ]
    },
    {
     "name": "stderr",
     "output_type": "stream",
     "text": [
      "\r",
      " 51%|█████▏    | 41/80 [00:13<00:13,  2.85it/s]"
     ]
    },
    {
     "name": "stderr",
     "output_type": "stream",
     "text": [
      "\r",
      " 52%|█████▎    | 42/80 [00:13<00:13,  2.73it/s]"
     ]
    },
    {
     "name": "stderr",
     "output_type": "stream",
     "text": [
      "\r",
      " 54%|█████▍    | 43/80 [00:13<00:12,  2.88it/s]"
     ]
    },
    {
     "name": "stderr",
     "output_type": "stream",
     "text": [
      "\r",
      " 55%|█████▌    | 44/80 [00:14<00:12,  2.93it/s]"
     ]
    },
    {
     "name": "stderr",
     "output_type": "stream",
     "text": [
      "\r",
      " 56%|█████▋    | 45/80 [00:14<00:12,  2.77it/s]"
     ]
    },
    {
     "name": "stderr",
     "output_type": "stream",
     "text": [
      "\r",
      " 57%|█████▊    | 46/80 [00:14<00:12,  2.77it/s]"
     ]
    },
    {
     "name": "stderr",
     "output_type": "stream",
     "text": [
      "\r",
      " 59%|█████▉    | 47/80 [00:15<00:12,  2.67it/s]"
     ]
    },
    {
     "name": "stderr",
     "output_type": "stream",
     "text": [
      "\r",
      " 60%|██████    | 48/80 [00:15<00:11,  2.82it/s]"
     ]
    },
    {
     "name": "stderr",
     "output_type": "stream",
     "text": [
      "\r",
      " 61%|██████▏   | 49/80 [00:15<00:10,  2.93it/s]"
     ]
    },
    {
     "name": "stderr",
     "output_type": "stream",
     "text": [
      "\r",
      " 62%|██████▎   | 50/80 [00:16<00:09,  3.05it/s]"
     ]
    },
    {
     "name": "stderr",
     "output_type": "stream",
     "text": [
      "\r",
      " 64%|██████▍   | 51/80 [00:16<00:09,  3.03it/s]"
     ]
    },
    {
     "name": "stderr",
     "output_type": "stream",
     "text": [
      "\r",
      " 65%|██████▌   | 52/80 [00:16<00:09,  3.07it/s]"
     ]
    },
    {
     "name": "stderr",
     "output_type": "stream",
     "text": [
      "\r",
      " 66%|██████▋   | 53/80 [00:17<00:08,  3.10it/s]"
     ]
    },
    {
     "name": "stderr",
     "output_type": "stream",
     "text": [
      "\r",
      " 68%|██████▊   | 54/80 [00:17<00:08,  3.03it/s]"
     ]
    },
    {
     "name": "stderr",
     "output_type": "stream",
     "text": [
      "\r",
      " 69%|██████▉   | 55/80 [00:17<00:08,  3.05it/s]"
     ]
    },
    {
     "name": "stderr",
     "output_type": "stream",
     "text": [
      "\r",
      " 70%|███████   | 56/80 [00:18<00:07,  3.11it/s]"
     ]
    },
    {
     "name": "stderr",
     "output_type": "stream",
     "text": [
      "\r",
      " 71%|███████▏  | 57/80 [00:18<00:07,  3.17it/s]"
     ]
    },
    {
     "name": "stderr",
     "output_type": "stream",
     "text": [
      "\r",
      " 72%|███████▎  | 58/80 [00:18<00:06,  3.18it/s]"
     ]
    },
    {
     "name": "stderr",
     "output_type": "stream",
     "text": [
      "\r",
      " 74%|███████▍  | 59/80 [00:19<00:06,  3.04it/s]"
     ]
    },
    {
     "name": "stderr",
     "output_type": "stream",
     "text": [
      "\r",
      " 75%|███████▌  | 60/80 [00:19<00:06,  3.10it/s]"
     ]
    },
    {
     "name": "stderr",
     "output_type": "stream",
     "text": [
      "\r",
      " 76%|███████▋  | 61/80 [00:19<00:06,  3.14it/s]"
     ]
    },
    {
     "name": "stderr",
     "output_type": "stream",
     "text": [
      "\r",
      " 78%|███████▊  | 62/80 [00:20<00:05,  3.11it/s]"
     ]
    },
    {
     "name": "stderr",
     "output_type": "stream",
     "text": [
      "\r",
      " 79%|███████▉  | 63/80 [00:20<00:05,  3.12it/s]"
     ]
    },
    {
     "name": "stderr",
     "output_type": "stream",
     "text": [
      "\r",
      " 80%|████████  | 64/80 [00:20<00:05,  3.08it/s]"
     ]
    },
    {
     "name": "stderr",
     "output_type": "stream",
     "text": [
      "\r",
      " 81%|████████▏ | 65/80 [00:20<00:04,  3.19it/s]"
     ]
    },
    {
     "name": "stderr",
     "output_type": "stream",
     "text": [
      "\r",
      " 82%|████████▎ | 66/80 [00:21<00:04,  3.13it/s]"
     ]
    },
    {
     "name": "stderr",
     "output_type": "stream",
     "text": [
      "\r",
      " 84%|████████▍ | 67/80 [00:21<00:04,  3.11it/s]"
     ]
    },
    {
     "name": "stderr",
     "output_type": "stream",
     "text": [
      "\r",
      " 85%|████████▌ | 68/80 [00:21<00:03,  3.16it/s]"
     ]
    },
    {
     "name": "stderr",
     "output_type": "stream",
     "text": [
      "\r",
      " 86%|████████▋ | 69/80 [00:22<00:03,  3.16it/s]"
     ]
    },
    {
     "name": "stderr",
     "output_type": "stream",
     "text": [
      "\r",
      " 88%|████████▊ | 70/80 [00:22<00:03,  2.87it/s]"
     ]
    },
    {
     "name": "stderr",
     "output_type": "stream",
     "text": [
      "\r",
      " 89%|████████▉ | 71/80 [00:23<00:03,  2.91it/s]"
     ]
    },
    {
     "name": "stderr",
     "output_type": "stream",
     "text": [
      "\r",
      " 90%|█████████ | 72/80 [00:23<00:02,  3.00it/s]"
     ]
    },
    {
     "name": "stderr",
     "output_type": "stream",
     "text": [
      "\r",
      " 91%|█████████▏| 73/80 [00:23<00:02,  3.09it/s]"
     ]
    },
    {
     "name": "stderr",
     "output_type": "stream",
     "text": [
      "\r",
      " 92%|█████████▎| 74/80 [00:23<00:01,  3.13it/s]"
     ]
    },
    {
     "name": "stderr",
     "output_type": "stream",
     "text": [
      "\r",
      " 94%|█████████▍| 75/80 [00:24<00:01,  3.15it/s]"
     ]
    },
    {
     "name": "stderr",
     "output_type": "stream",
     "text": [
      "\r",
      " 95%|█████████▌| 76/80 [00:24<00:01,  3.23it/s]"
     ]
    },
    {
     "name": "stderr",
     "output_type": "stream",
     "text": [
      "\r",
      " 96%|█████████▋| 77/80 [00:24<00:00,  3.21it/s]"
     ]
    },
    {
     "name": "stderr",
     "output_type": "stream",
     "text": [
      "\r",
      " 98%|█████████▊| 78/80 [00:25<00:00,  3.20it/s]"
     ]
    },
    {
     "name": "stderr",
     "output_type": "stream",
     "text": [
      "\r",
      " 99%|█████████▉| 79/80 [00:25<00:00,  3.23it/s]"
     ]
    },
    {
     "name": "stderr",
     "output_type": "stream",
     "text": [
      "\r",
      "100%|██████████| 80/80 [00:25<00:00,  3.23it/s]"
     ]
    },
    {
     "name": "stderr",
     "output_type": "stream",
     "text": [
      "\r",
      "100%|██████████| 80/80 [00:26<00:00,  3.07it/s]"
     ]
    },
    {
     "name": "stderr",
     "output_type": "stream",
     "text": [
      "\n"
     ]
    },
    {
     "data": {
      "text/html": [
       "<div>\n",
       "<style scoped>\n",
       "    .dataframe tbody tr th:only-of-type {\n",
       "        vertical-align: middle;\n",
       "    }\n",
       "\n",
       "    .dataframe tbody tr th {\n",
       "        vertical-align: top;\n",
       "    }\n",
       "\n",
       "    .dataframe thead th {\n",
       "        text-align: right;\n",
       "    }\n",
       "</style>\n",
       "<table border=\"1\" class=\"dataframe\">\n",
       "  <thead>\n",
       "    <tr style=\"text-align: right;\">\n",
       "      <th></th>\n",
       "      <th>parentid</th>\n",
       "      <th>user</th>\n",
       "      <th>userid</th>\n",
       "      <th>timestamp</th>\n",
       "      <th>size</th>\n",
       "      <th>sha1</th>\n",
       "      <th>comment</th>\n",
       "      <th>anon</th>\n",
       "      <th>diff</th>\n",
       "      <th>deleted</th>\n",
       "      <th>added</th>\n",
       "    </tr>\n",
       "    <tr>\n",
       "      <th>revid</th>\n",
       "      <th></th>\n",
       "      <th></th>\n",
       "      <th></th>\n",
       "      <th></th>\n",
       "      <th></th>\n",
       "      <th></th>\n",
       "      <th></th>\n",
       "      <th></th>\n",
       "      <th></th>\n",
       "      <th></th>\n",
       "      <th></th>\n",
       "    </tr>\n",
       "  </thead>\n",
       "  <tbody>\n",
       "    <tr>\n",
       "      <th>213844287</th>\n",
       "      <td>213844145</td>\n",
       "      <td>Cymbella</td>\n",
       "      <td>316223</td>\n",
       "      <td>2024-03-31T17:49:57Z</td>\n",
       "      <td>14621</td>\n",
       "      <td>3bfade8089890811e9b090bfaf7e3630ca08c5bb</td>\n",
       "      <td>/* Collections et archives */ reformulation no...</td>\n",
       "      <td>NaN</td>\n",
       "      <td>&lt;tr&gt;\\n  &lt;td colspan=\"2\" class=\"diff-lineno\"&gt;Li...</td>\n",
       "      <td>[il, au, muséum, dont, il, va devenir, conserv...</td>\n",
       "      <td>[Lamb, à, son, futur, employeur, au, Canada]</td>\n",
       "    </tr>\n",
       "    <tr>\n",
       "      <th>213844145</th>\n",
       "      <td>213842295</td>\n",
       "      <td>Cymbella</td>\n",
       "      <td>316223</td>\n",
       "      <td>2024-03-31T17:44:37Z</td>\n",
       "      <td>14629</td>\n",
       "      <td>d6fe03e932e2c2a061fc69724e1fdf75b8cfa225</td>\n",
       "      <td>/* Identité de genre et dernières années */ re...</td>\n",
       "      <td>NaN</td>\n",
       "      <td>&lt;tr&gt;\\n  &lt;td colspan=\"2\" class=\"diff-lineno\"&gt;Li...</td>\n",
       "      <td>[{{sfn|Llano|1991|p=318}}. Cette année-là elle...</td>\n",
       "      <td>[, qui est en congé sabbatique depuis 1971, et...</td>\n",
       "    </tr>\n",
       "    <tr>\n",
       "      <th>213842295</th>\n",
       "      <td>213841635</td>\n",
       "      <td>Shev123</td>\n",
       "      <td>1144964</td>\n",
       "      <td>2024-03-31T16:42:01Z</td>\n",
       "      <td>14662</td>\n",
       "      <td>9440533d666f7053d36d17e78347bebbe187ab8e</td>\n",
       "      <td>retrait du sous-titre, modèle inapproprié pour...</td>\n",
       "      <td>NaN</td>\n",
       "      <td>&lt;tr&gt;\\n  &lt;td colspan=\"2\" class=\"diff-lineno\"&gt;Li...</td>\n",
       "      <td>[{{sous-titre|Elke Mackenzie}}]</td>\n",
       "      <td>[]</td>\n",
       "    </tr>\n",
       "    <tr>\n",
       "      <th>213841635</th>\n",
       "      <td>213841602</td>\n",
       "      <td>Cymbella</td>\n",
       "      <td>316223</td>\n",
       "      <td>2024-03-31T16:18:49Z</td>\n",
       "      <td>14692</td>\n",
       "      <td>69ce53815f2b67b9dda9e2a1f162387cd74d3c52</td>\n",
       "      <td>+ sous-titre</td>\n",
       "      <td>NaN</td>\n",
       "      <td>&lt;tr&gt;\\n  &lt;td colspan=\"2\" class=\"diff-lineno\"&gt;Li...</td>\n",
       "      <td>[]</td>\n",
       "      <td>[{{sous-titre|Elke Mackenzie}}]</td>\n",
       "    </tr>\n",
       "    <tr>\n",
       "      <th>213841602</th>\n",
       "      <td>213839792</td>\n",
       "      <td>Cymbella</td>\n",
       "      <td>316223</td>\n",
       "      <td>2024-03-31T16:17:44Z</td>\n",
       "      <td>14662</td>\n",
       "      <td>9440533d666f7053d36d17e78347bebbe187ab8e</td>\n",
       "      <td>formulation évitant de genrer</td>\n",
       "      <td>NaN</td>\n",
       "      <td>&lt;tr&gt;\\n  &lt;td colspan=\"2\" class=\"diff-lineno\"&gt;Li...</td>\n",
       "      <td>[ (né à [[Clapham]], ), et morte à,  une, et, ...</td>\n",
       "      <td>[,, –, ,, , de nationalité, membre, d', explor...</td>\n",
       "    </tr>\n",
       "    <tr>\n",
       "      <th>...</th>\n",
       "      <td>...</td>\n",
       "      <td>...</td>\n",
       "      <td>...</td>\n",
       "      <td>...</td>\n",
       "      <td>...</td>\n",
       "      <td>...</td>\n",
       "      <td>...</td>\n",
       "      <td>...</td>\n",
       "      <td>...</td>\n",
       "      <td>...</td>\n",
       "      <td>...</td>\n",
       "    </tr>\n",
       "    <tr>\n",
       "      <th>179466871</th>\n",
       "      <td>179466834</td>\n",
       "      <td>Cymbella</td>\n",
       "      <td>316223</td>\n",
       "      <td>2021-02-01T16:32:35Z</td>\n",
       "      <td>10596</td>\n",
       "      <td>1a78da4baf1b9b45045c61155d775a13c38aed53</td>\n",
       "      <td>/* Carrière */ précision</td>\n",
       "      <td>NaN</td>\n",
       "      <td>&lt;tr&gt;\\n  &lt;td colspan=\"2\" class=\"diff-lineno\"&gt;Li...</td>\n",
       "      <td>[]</td>\n",
       "      <td>[ de lichens]</td>\n",
       "    </tr>\n",
       "    <tr>\n",
       "      <th>179466834</th>\n",
       "      <td>179466796</td>\n",
       "      <td>Cymbella</td>\n",
       "      <td>316223</td>\n",
       "      <td>2021-02-01T16:31:32Z</td>\n",
       "      <td>10585</td>\n",
       "      <td>4b1581edbadffb364b691ba2ced0e02fb4f0ac3a</td>\n",
       "      <td>/* Carrière */ relecture</td>\n",
       "      <td>NaN</td>\n",
       "      <td>&lt;tr&gt;\\n  &lt;td colspan=\"2\" class=\"diff-lineno\"&gt;Li...</td>\n",
       "      <td>[un]</td>\n",
       "      <td>[une]</td>\n",
       "    </tr>\n",
       "    <tr>\n",
       "      <th>179466796</th>\n",
       "      <td>179466692</td>\n",
       "      <td>Cymbella</td>\n",
       "      <td>316223</td>\n",
       "      <td>2021-02-01T16:30:33Z</td>\n",
       "      <td>10584</td>\n",
       "      <td>a01435f3a8e93409e8daf0352cc3af588a5a155a</td>\n",
       "      <td>/* Introduction */ + liens int</td>\n",
       "      <td>NaN</td>\n",
       "      <td>&lt;tr&gt;\\n  &lt;td colspan=\"2\" class=\"diff-lineno\"&gt;Li...</td>\n",
       "      <td>[]</td>\n",
       "      <td>[[[, ]], [[Exploration polaire|, ]]]</td>\n",
       "    </tr>\n",
       "    <tr>\n",
       "      <th>179466692</th>\n",
       "      <td>179466433</td>\n",
       "      <td>Cymbella</td>\n",
       "      <td>316223</td>\n",
       "      <td>2021-02-01T16:27:58Z</td>\n",
       "      <td>10556</td>\n",
       "      <td>88cd8ca66d81528063334a7769a84b2af448c0b4</td>\n",
       "      <td>retouche de la modification précédente</td>\n",
       "      <td>NaN</td>\n",
       "      <td>&lt;tr&gt;\\n  &lt;td colspan=\"2\" class=\"diff-lineno\"&gt;Li...</td>\n",
       "      <td>['''Ivan Mackenzie Lamb''' ('''Elke Mackenzie'...</td>\n",
       "      <td>[{{Infobox Biographie 2, |charte=botaniste}}, ...</td>\n",
       "    </tr>\n",
       "    <tr>\n",
       "      <th>179466433</th>\n",
       "      <td>0</td>\n",
       "      <td>Cymbella</td>\n",
       "      <td>316223</td>\n",
       "      <td>2021-02-01T16:22:07Z</td>\n",
       "      <td>10481</td>\n",
       "      <td>2c0ec5e2580e76e6a47a567c30a4ab18dc008d81</td>\n",
       "      <td>Nouvelle page : '''Ivan Mackenzie Lamb''' ('''...</td>\n",
       "      <td>NaN</td>\n",
       "      <td></td>\n",
       "      <td>[]</td>\n",
       "      <td>[]</td>\n",
       "    </tr>\n",
       "  </tbody>\n",
       "</table>\n",
       "<p>80 rows × 11 columns</p>\n",
       "</div>"
      ],
      "text/plain": [
       "            parentid      user   userid             timestamp   size  \\\n",
       "revid                                                                  \n",
       "213844287  213844145  Cymbella   316223  2024-03-31T17:49:57Z  14621   \n",
       "213844145  213842295  Cymbella   316223  2024-03-31T17:44:37Z  14629   \n",
       "213842295  213841635   Shev123  1144964  2024-03-31T16:42:01Z  14662   \n",
       "213841635  213841602  Cymbella   316223  2024-03-31T16:18:49Z  14692   \n",
       "213841602  213839792  Cymbella   316223  2024-03-31T16:17:44Z  14662   \n",
       "...              ...       ...      ...                   ...    ...   \n",
       "179466871  179466834  Cymbella   316223  2021-02-01T16:32:35Z  10596   \n",
       "179466834  179466796  Cymbella   316223  2021-02-01T16:31:32Z  10585   \n",
       "179466796  179466692  Cymbella   316223  2021-02-01T16:30:33Z  10584   \n",
       "179466692  179466433  Cymbella   316223  2021-02-01T16:27:58Z  10556   \n",
       "179466433          0  Cymbella   316223  2021-02-01T16:22:07Z  10481   \n",
       "\n",
       "                                               sha1  \\\n",
       "revid                                                 \n",
       "213844287  3bfade8089890811e9b090bfaf7e3630ca08c5bb   \n",
       "213844145  d6fe03e932e2c2a061fc69724e1fdf75b8cfa225   \n",
       "213842295  9440533d666f7053d36d17e78347bebbe187ab8e   \n",
       "213841635  69ce53815f2b67b9dda9e2a1f162387cd74d3c52   \n",
       "213841602  9440533d666f7053d36d17e78347bebbe187ab8e   \n",
       "...                                             ...   \n",
       "179466871  1a78da4baf1b9b45045c61155d775a13c38aed53   \n",
       "179466834  4b1581edbadffb364b691ba2ced0e02fb4f0ac3a   \n",
       "179466796  a01435f3a8e93409e8daf0352cc3af588a5a155a   \n",
       "179466692  88cd8ca66d81528063334a7769a84b2af448c0b4   \n",
       "179466433  2c0ec5e2580e76e6a47a567c30a4ab18dc008d81   \n",
       "\n",
       "                                                     comment anon  \\\n",
       "revid                                                               \n",
       "213844287  /* Collections et archives */ reformulation no...  NaN   \n",
       "213844145  /* Identité de genre et dernières années */ re...  NaN   \n",
       "213842295  retrait du sous-titre, modèle inapproprié pour...  NaN   \n",
       "213841635                                       + sous-titre  NaN   \n",
       "213841602                      formulation évitant de genrer  NaN   \n",
       "...                                                      ...  ...   \n",
       "179466871                           /* Carrière */ précision  NaN   \n",
       "179466834                           /* Carrière */ relecture  NaN   \n",
       "179466796                     /* Introduction */ + liens int  NaN   \n",
       "179466692             retouche de la modification précédente  NaN   \n",
       "179466433  Nouvelle page : '''Ivan Mackenzie Lamb''' ('''...  NaN   \n",
       "\n",
       "                                                        diff  \\\n",
       "revid                                                          \n",
       "213844287  <tr>\\n  <td colspan=\"2\" class=\"diff-lineno\">Li...   \n",
       "213844145  <tr>\\n  <td colspan=\"2\" class=\"diff-lineno\">Li...   \n",
       "213842295  <tr>\\n  <td colspan=\"2\" class=\"diff-lineno\">Li...   \n",
       "213841635  <tr>\\n  <td colspan=\"2\" class=\"diff-lineno\">Li...   \n",
       "213841602  <tr>\\n  <td colspan=\"2\" class=\"diff-lineno\">Li...   \n",
       "...                                                      ...   \n",
       "179466871  <tr>\\n  <td colspan=\"2\" class=\"diff-lineno\">Li...   \n",
       "179466834  <tr>\\n  <td colspan=\"2\" class=\"diff-lineno\">Li...   \n",
       "179466796  <tr>\\n  <td colspan=\"2\" class=\"diff-lineno\">Li...   \n",
       "179466692  <tr>\\n  <td colspan=\"2\" class=\"diff-lineno\">Li...   \n",
       "179466433                                                      \n",
       "\n",
       "                                                     deleted  \\\n",
       "revid                                                          \n",
       "213844287  [il, au, muséum, dont, il, va devenir, conserv...   \n",
       "213844145  [{{sfn|Llano|1991|p=318}}. Cette année-là elle...   \n",
       "213842295                    [{{sous-titre|Elke Mackenzie}}]   \n",
       "213841635                                                 []   \n",
       "213841602  [ (né à [[Clapham]], ), et morte à,  une, et, ...   \n",
       "...                                                      ...   \n",
       "179466871                                                 []   \n",
       "179466834                                               [un]   \n",
       "179466796                                                 []   \n",
       "179466692  ['''Ivan Mackenzie Lamb''' ('''Elke Mackenzie'...   \n",
       "179466433                                                 []   \n",
       "\n",
       "                                                       added  \n",
       "revid                                                         \n",
       "213844287       [Lamb, à, son, futur, employeur, au, Canada]  \n",
       "213844145  [, qui est en congé sabbatique depuis 1971, et...  \n",
       "213842295                                                 []  \n",
       "213841635                    [{{sous-titre|Elke Mackenzie}}]  \n",
       "213841602  [,, –, ,, , de nationalité, membre, d', explor...  \n",
       "...                                                      ...  \n",
       "179466871                                      [ de lichens]  \n",
       "179466834                                              [une]  \n",
       "179466796               [[[, ]], [[Exploration polaire|, ]]]  \n",
       "179466692  [{{Infobox Biographie 2, |charte=botaniste}}, ...  \n",
       "179466433                                                 []  \n",
       "\n",
       "[80 rows x 11 columns]"
      ]
     },
     "execution_count": 6,
     "metadata": {},
     "output_type": "execute_result"
    }
   ],
   "source": [
    "revisions = (\n",
    "    pd\n",
    "    .DataFrame\n",
    "    .from_records(page.get_revisions_list())\n",
    "    .assign(\n",
    "        diff = lambda df: df.revid.progress_apply(lambda x: page.get_diff(x)).fillna(''),\n",
    "        deleted = lambda df: df['diff'].apply(lambda diff: page.extract_plusminus(diff)['deleted']),\n",
    "        added = lambda df: df['diff'].apply(lambda diff: page.extract_plusminus(diff)['added']),\n",
    "    )\n",
    "    .set_index('revid')\n",
    ")\n",
    "\n",
    "revisions"
   ]
  },
  {
   "cell_type": "code",
   "execution_count": 7,
   "id": "c589c8bc-5e6a-4361-bb5c-99b125c56fd4",
   "metadata": {
    "execution": {
     "iopub.execute_input": "2024-04-01T20:19:25.128327Z",
     "iopub.status.busy": "2024-04-01T20:19:25.128238Z",
     "iopub.status.idle": "2024-04-01T20:19:25.133836Z",
     "shell.execute_reply": "2024-04-01T20:19:25.133625Z"
    },
    "papermill": {
     "duration": 0.014748,
     "end_time": "2024-04-01T20:19:25.134550",
     "exception": false,
     "start_time": "2024-04-01T20:19:25.119802",
     "status": "completed"
    },
    "tags": []
   },
   "outputs": [],
   "source": [
    "revisions.to_csv(f'../data/page-revisions/{page_name.lower()}.csv')"
   ]
  },
  {
   "cell_type": "code",
   "execution_count": 8,
   "id": "32533855-d09c-42e1-9071-35f10655dcd8",
   "metadata": {
    "execution": {
     "iopub.execute_input": "2024-04-01T20:19:25.140701Z",
     "iopub.status.busy": "2024-04-01T20:19:25.140616Z",
     "iopub.status.idle": "2024-04-01T20:19:25.142109Z",
     "shell.execute_reply": "2024-04-01T20:19:25.141915Z"
    },
    "papermill": {
     "duration": 0.005463,
     "end_time": "2024-04-01T20:19:25.142824",
     "exception": false,
     "start_time": "2024-04-01T20:19:25.137361",
     "status": "completed"
    },
    "tags": []
   },
   "outputs": [],
   "source": [
    "def decode(string):\n",
    "    return base64.b64decode(string).decode(\"utf-8\")"
   ]
  },
  {
   "cell_type": "code",
   "execution_count": 9,
   "id": "bea34dc6-f504-44a9-846f-39e8401c62f7",
   "metadata": {
    "execution": {
     "iopub.execute_input": "2024-04-01T20:19:25.149740Z",
     "iopub.status.busy": "2024-04-01T20:19:25.149618Z",
     "iopub.status.idle": "2024-04-01T20:19:25.150969Z",
     "shell.execute_reply": "2024-04-01T20:19:25.150799Z"
    },
    "papermill": {
     "duration": 0.005455,
     "end_time": "2024-04-01T20:19:25.151617",
     "exception": false,
     "start_time": "2024-04-01T20:19:25.146162",
     "status": "completed"
    },
    "tags": []
   },
   "outputs": [],
   "source": [
    "# (\n",
    "#     revisions\n",
    "#     .assign(\n",
    "#         deadnames = lambda df: df['*'].apply(lambda x: str(x).lower().count(decode(dead_name).lower()))\n",
    "#     )\n",
    "#     #.reset_index()\n",
    "#     [['timestamp', 'deadnames']]\n",
    "#     .assign(\n",
    "#         date = lambda df: pd.to_datetime(df.timestamp).dt.date\n",
    "#     )\n",
    "#     .groupby('date')\n",
    "#     .agg({'deadnames': 'mean'})\n",
    "#     .plot\n",
    "#     .line(\n",
    "#         figsize=(15,10)\n",
    "#     )\n",
    "# )"
   ]
  },
  {
   "cell_type": "markdown",
   "id": "49e1e9d0-0960-4573-a7d3-a7a218c3c34f",
   "metadata": {
    "papermill": {
     "duration": 0.002865,
     "end_time": "2024-04-01T20:19:25.157306",
     "exception": false,
     "start_time": "2024-04-01T20:19:25.154441",
     "status": "completed"
    },
    "tags": []
   },
   "source": [
    "### depuis le coming out"
   ]
  },
  {
   "cell_type": "code",
   "execution_count": 10,
   "id": "308c3a1c-e446-42b8-b087-915ff9fdf05f",
   "metadata": {
    "execution": {
     "iopub.execute_input": "2024-04-01T20:19:25.163539Z",
     "iopub.status.busy": "2024-04-01T20:19:25.163420Z",
     "iopub.status.idle": "2024-04-01T20:19:25.166653Z",
     "shell.execute_reply": "2024-04-01T20:19:25.166468Z"
    },
    "papermill": {
     "duration": 0.007227,
     "end_time": "2024-04-01T20:19:25.167333",
     "exception": false,
     "start_time": "2024-04-01T20:19:25.160106",
     "status": "completed"
    },
    "tags": []
   },
   "outputs": [
    {
     "data": {
      "text/plain": [
       "user\n",
       "Cymbella                              14\n",
       "Biologisteantique                      2\n",
       "2A02:8440:5304:1188:0:1B:C326:2F01     1\n",
       "Anne Daemon                            1\n",
       "Cardabela48                            0\n",
       "Criric                                 0\n",
       "FR                                     0\n",
       "La Grande Feutrelle                    0\n",
       "Matpib                                 0\n",
       "Pierrette13                            0\n",
       "Name: deadname_count, dtype: int64"
      ]
     },
     "execution_count": 10,
     "metadata": {},
     "output_type": "execute_result"
    }
   ],
   "source": [
    "(\n",
    "    revisions\n",
    "    .assign(\n",
    "        deadname_count = lambda df: df.added.apply(lambda x: ' '.join(x).lower().count(decode(dead_name).lower()))\n",
    "    )\n",
    "    # on ne garde que les contributions après son coming out\n",
    "    .pipe(lambda df: df.query(f'timestamp >= \"{co_date}\"') if co_date != None else df)\n",
    "    .groupby('user')\n",
    "    .deadname_count\n",
    "    .sum()\n",
    "    .sort_values(ascending=False)\n",
    "    .head(10)\n",
    ")"
   ]
  },
  {
   "cell_type": "markdown",
   "id": "cdbf2cbe-7d9c-458a-8bb5-7554dbb954b5",
   "metadata": {
    "papermill": {
     "duration": 0.002955,
     "end_time": "2024-04-01T20:19:25.173194",
     "exception": false,
     "start_time": "2024-04-01T20:19:25.170239",
     "status": "completed"
    },
    "tags": []
   },
   "source": [
    "### depuis le début du sondage"
   ]
  },
  {
   "cell_type": "code",
   "execution_count": 11,
   "id": "e75e4ded-3e9d-45a6-bdd7-0af3b6f8b8ee",
   "metadata": {
    "execution": {
     "iopub.execute_input": "2024-04-01T20:19:25.179490Z",
     "iopub.status.busy": "2024-04-01T20:19:25.179374Z",
     "iopub.status.idle": "2024-04-01T20:19:25.183485Z",
     "shell.execute_reply": "2024-04-01T20:19:25.183314Z"
    },
    "papermill": {
     "duration": 0.008096,
     "end_time": "2024-04-01T20:19:25.184163",
     "exception": false,
     "start_time": "2024-04-01T20:19:25.176067",
     "status": "completed"
    },
    "tags": []
   },
   "outputs": [
    {
     "data": {
      "text/plain": [
       "user\n",
       "Cymbella       4\n",
       "Anne Daemon    1\n",
       "Shev123        0\n",
       "Name: deadname_count, dtype: int64"
      ]
     },
     "execution_count": 11,
     "metadata": {},
     "output_type": "execute_result"
    }
   ],
   "source": [
    "(\n",
    "    revisions\n",
    "    .assign(\n",
    "        deadname_count = lambda df: df.added.apply(lambda x: ' '.join(x).lower().count(decode(dead_name).lower()))\n",
    "    )\n",
    "    # début du sondage\n",
    "    .query('timestamp >= \"2024-01-15\"')\n",
    "    .groupby('user')\n",
    "    .deadname_count\n",
    "    .sum()\n",
    "    .sort_values(ascending=False)\n",
    "    .head(20)\n",
    ")"
   ]
  },
  {
   "cell_type": "code",
   "execution_count": 12,
   "id": "7e9a0650-90e2-4d49-9fec-7d015b4a75dc",
   "metadata": {
    "execution": {
     "iopub.execute_input": "2024-04-01T20:19:25.190548Z",
     "iopub.status.busy": "2024-04-01T20:19:25.190438Z",
     "iopub.status.idle": "2024-04-01T20:19:25.342423Z",
     "shell.execute_reply": "2024-04-01T20:19:25.342122Z"
    },
    "papermill": {
     "duration": 0.156084,
     "end_time": "2024-04-01T20:19:25.343178",
     "exception": false,
     "start_time": "2024-04-01T20:19:25.187094",
     "status": "completed"
    },
    "tags": []
   },
   "outputs": [
    {
     "data": {
      "text/html": [
       "<style type=\"text/css\">\n",
       "</style>\n",
       "<table id=\"T_08df9\">\n",
       "  <thead>\n",
       "    <tr>\n",
       "      <th class=\"blank level0\" >&nbsp;</th>\n",
       "      <th id=\"T_08df9_level0_col0\" class=\"col_heading level0 col0\" >user</th>\n",
       "      <th id=\"T_08df9_level0_col1\" class=\"col_heading level0 col1\" >deadname_count</th>\n",
       "      <th id=\"T_08df9_level0_col2\" class=\"col_heading level0 col2\" >timestamp</th>\n",
       "    </tr>\n",
       "    <tr>\n",
       "      <th class=\"index_name level0\" >revid</th>\n",
       "      <th class=\"blank col0\" >&nbsp;</th>\n",
       "      <th class=\"blank col1\" >&nbsp;</th>\n",
       "      <th class=\"blank col2\" >&nbsp;</th>\n",
       "    </tr>\n",
       "  </thead>\n",
       "  <tbody>\n",
       "    <tr>\n",
       "      <th id=\"T_08df9_level0_row0\" class=\"row_heading level0 row0\" ><a href=\"https://fr.wikipedia.org/w/index.php?title=Ivan_Mackenzie_Lamb&diff=prev&oldid=213704822\">213704822</a></th>\n",
       "      <td id=\"T_08df9_row0_col0\" class=\"data row0 col0\" >Cymbella</td>\n",
       "      <td id=\"T_08df9_row0_col1\" class=\"data row0 col1\" >2</td>\n",
       "      <td id=\"T_08df9_row0_col2\" class=\"data row0 col2\" >2024-03-26T20:16:14Z</td>\n",
       "    </tr>\n",
       "    <tr>\n",
       "      <th id=\"T_08df9_level0_row1\" class=\"row_heading level0 row1\" ><a href=\"https://fr.wikipedia.org/w/index.php?title=Ivan_Mackenzie_Lamb&diff=prev&oldid=213513219\">213513219</a></th>\n",
       "      <td id=\"T_08df9_row1_col0\" class=\"data row1 col0\" >Anne Daemon</td>\n",
       "      <td id=\"T_08df9_row1_col1\" class=\"data row1 col1\" >1</td>\n",
       "      <td id=\"T_08df9_row1_col2\" class=\"data row1 col2\" >2024-03-20T14:40:41Z</td>\n",
       "    </tr>\n",
       "    <tr>\n",
       "      <th id=\"T_08df9_level0_row2\" class=\"row_heading level0 row2\" ><a href=\"https://fr.wikipedia.org/w/index.php?title=Ivan_Mackenzie_Lamb&diff=prev&oldid=213112486\">213112486</a></th>\n",
       "      <td id=\"T_08df9_row2_col0\" class=\"data row2 col0\" >Cymbella</td>\n",
       "      <td id=\"T_08df9_row2_col1\" class=\"data row2 col1\" >2</td>\n",
       "      <td id=\"T_08df9_row2_col2\" class=\"data row2 col2\" >2024-03-06T14:52:30Z</td>\n",
       "    </tr>\n",
       "  </tbody>\n",
       "</table>\n"
      ],
      "text/plain": [
       "<pandas.io.formats.style.Styler at 0x78b9795d32b0>"
      ]
     },
     "execution_count": 12,
     "metadata": {},
     "output_type": "execute_result"
    }
   ],
   "source": [
    "(\n",
    "    revisions\n",
    "    .assign(\n",
    "        deadname_count = lambda df: df.added.apply(lambda x: ' '.join(x).lower().count(decode(dead_name).lower()))\n",
    "    )\n",
    "    # début du sondage\n",
    "    .query('timestamp >= \"2024-01-15\"')\n",
    "    .query('deadname_count > 0')\n",
    "    [['user', 'deadname_count', 'timestamp']]\n",
    "    .style\n",
    "    .format_index(lambda x: format_revid_index(x, page_name))\n",
    ")"
   ]
  },
  {
   "cell_type": "markdown",
   "id": "b4ae0d43-e0f3-403f-8d77-06778155c12d",
   "metadata": {
    "papermill": {
     "duration": 0.008005,
     "end_time": "2024-04-01T20:19:25.354642",
     "exception": false,
     "start_time": "2024-04-01T20:19:25.346637",
     "status": "completed"
    },
    "tags": []
   },
   "source": [
    "## Discussions"
   ]
  },
  {
   "cell_type": "code",
   "execution_count": 13,
   "id": "65c5a95c-6148-4099-bcec-47e23701d260",
   "metadata": {
    "execution": {
     "iopub.execute_input": "2024-04-01T20:19:25.361148Z",
     "iopub.status.busy": "2024-04-01T20:19:25.360957Z",
     "iopub.status.idle": "2024-04-01T20:19:25.651330Z",
     "shell.execute_reply": "2024-04-01T20:19:25.649819Z"
    },
    "papermill": {
     "duration": 0.296138,
     "end_time": "2024-04-01T20:19:25.653662",
     "exception": false,
     "start_time": "2024-04-01T20:19:25.357524",
     "status": "completed"
    },
    "tags": []
   },
   "outputs": [],
   "source": [
    "talk = Page(f'Discussion:{page_name}', lang='fr')"
   ]
  },
  {
   "cell_type": "code",
   "execution_count": 14,
   "id": "f1aaec90-5c20-4488-a9aa-11da50fd1cf6",
   "metadata": {
    "execution": {
     "iopub.execute_input": "2024-04-01T20:19:25.669109Z",
     "iopub.status.busy": "2024-04-01T20:19:25.668931Z",
     "iopub.status.idle": "2024-04-01T20:19:56.927952Z",
     "shell.execute_reply": "2024-04-01T20:19:56.927657Z"
    },
    "papermill": {
     "duration": 31.269127,
     "end_time": "2024-04-01T20:19:56.928618",
     "exception": false,
     "start_time": "2024-04-01T20:19:25.659491",
     "status": "completed"
    },
    "tags": []
   },
   "outputs": [
    {
     "name": "stderr",
     "output_type": "stream",
     "text": [
      "\r",
      "  0%|          | 0/94 [00:00<?, ?it/s]"
     ]
    },
    {
     "name": "stderr",
     "output_type": "stream",
     "text": [
      "\r",
      "  2%|▏         | 2/94 [00:00<00:14,  6.17it/s]"
     ]
    },
    {
     "name": "stderr",
     "output_type": "stream",
     "text": [
      "\r",
      "  3%|▎         | 3/94 [00:00<00:19,  4.58it/s]"
     ]
    },
    {
     "name": "stderr",
     "output_type": "stream",
     "text": [
      "\r",
      "  4%|▍         | 4/94 [00:00<00:23,  3.85it/s]"
     ]
    },
    {
     "name": "stderr",
     "output_type": "stream",
     "text": [
      "\r",
      "  5%|▌         | 5/94 [00:01<00:25,  3.52it/s]"
     ]
    },
    {
     "name": "stderr",
     "output_type": "stream",
     "text": [
      "\r",
      "  6%|▋         | 6/94 [00:01<00:25,  3.41it/s]"
     ]
    },
    {
     "name": "stderr",
     "output_type": "stream",
     "text": [
      "\r",
      "  7%|▋         | 7/94 [00:01<00:26,  3.32it/s]"
     ]
    },
    {
     "name": "stderr",
     "output_type": "stream",
     "text": [
      "\r",
      "  9%|▊         | 8/94 [00:02<00:26,  3.27it/s]"
     ]
    },
    {
     "name": "stderr",
     "output_type": "stream",
     "text": [
      "\r",
      " 10%|▉         | 9/94 [00:02<00:26,  3.22it/s]"
     ]
    },
    {
     "name": "stderr",
     "output_type": "stream",
     "text": [
      "\r",
      " 11%|█         | 10/94 [00:02<00:26,  3.21it/s]"
     ]
    },
    {
     "name": "stderr",
     "output_type": "stream",
     "text": [
      "\r",
      " 12%|█▏        | 11/94 [00:03<00:26,  3.14it/s]"
     ]
    },
    {
     "name": "stderr",
     "output_type": "stream",
     "text": [
      "\r",
      " 13%|█▎        | 12/94 [00:03<00:26,  3.09it/s]"
     ]
    },
    {
     "name": "stderr",
     "output_type": "stream",
     "text": [
      "\r",
      " 14%|█▍        | 13/94 [00:03<00:26,  3.06it/s]"
     ]
    },
    {
     "name": "stderr",
     "output_type": "stream",
     "text": [
      "\r",
      " 15%|█▍        | 14/94 [00:04<00:25,  3.09it/s]"
     ]
    },
    {
     "name": "stderr",
     "output_type": "stream",
     "text": [
      "\r",
      " 16%|█▌        | 15/94 [00:04<00:25,  3.07it/s]"
     ]
    },
    {
     "name": "stderr",
     "output_type": "stream",
     "text": [
      "\r",
      " 17%|█▋        | 16/94 [00:04<00:25,  3.10it/s]"
     ]
    },
    {
     "name": "stderr",
     "output_type": "stream",
     "text": [
      "\r",
      " 18%|█▊        | 17/94 [00:05<00:24,  3.16it/s]"
     ]
    },
    {
     "name": "stderr",
     "output_type": "stream",
     "text": [
      "\r",
      " 19%|█▉        | 18/94 [00:05<00:23,  3.17it/s]"
     ]
    },
    {
     "name": "stderr",
     "output_type": "stream",
     "text": [
      "\r",
      " 20%|██        | 19/94 [00:05<00:24,  3.11it/s]"
     ]
    },
    {
     "name": "stderr",
     "output_type": "stream",
     "text": [
      "\r",
      " 21%|██▏       | 20/94 [00:06<00:26,  2.81it/s]"
     ]
    },
    {
     "name": "stderr",
     "output_type": "stream",
     "text": [
      "\r",
      " 22%|██▏       | 21/94 [00:06<00:25,  2.81it/s]"
     ]
    },
    {
     "name": "stderr",
     "output_type": "stream",
     "text": [
      "\r",
      " 23%|██▎       | 22/94 [00:06<00:24,  2.90it/s]"
     ]
    },
    {
     "name": "stderr",
     "output_type": "stream",
     "text": [
      "\r",
      " 24%|██▍       | 23/94 [00:07<00:24,  2.90it/s]"
     ]
    },
    {
     "name": "stderr",
     "output_type": "stream",
     "text": [
      "\r",
      " 26%|██▌       | 24/94 [00:07<00:23,  2.93it/s]"
     ]
    },
    {
     "name": "stderr",
     "output_type": "stream",
     "text": [
      "\r",
      " 27%|██▋       | 25/94 [00:07<00:23,  2.99it/s]"
     ]
    },
    {
     "name": "stderr",
     "output_type": "stream",
     "text": [
      "\r",
      " 28%|██▊       | 26/94 [00:08<00:23,  2.93it/s]"
     ]
    },
    {
     "name": "stderr",
     "output_type": "stream",
     "text": [
      "\r",
      " 29%|██▊       | 27/94 [00:08<00:22,  2.95it/s]"
     ]
    },
    {
     "name": "stderr",
     "output_type": "stream",
     "text": [
      "\r",
      " 30%|██▉       | 28/94 [00:08<00:21,  3.08it/s]"
     ]
    },
    {
     "name": "stderr",
     "output_type": "stream",
     "text": [
      "\r",
      " 31%|███       | 29/94 [00:09<00:21,  3.01it/s]"
     ]
    },
    {
     "name": "stderr",
     "output_type": "stream",
     "text": [
      "\r",
      " 32%|███▏      | 30/94 [00:09<00:20,  3.05it/s]"
     ]
    },
    {
     "name": "stderr",
     "output_type": "stream",
     "text": [
      "\r",
      " 33%|███▎      | 31/94 [00:09<00:20,  3.10it/s]"
     ]
    },
    {
     "name": "stderr",
     "output_type": "stream",
     "text": [
      "\r",
      " 34%|███▍      | 32/94 [00:10<00:19,  3.12it/s]"
     ]
    },
    {
     "name": "stderr",
     "output_type": "stream",
     "text": [
      "\r",
      " 35%|███▌      | 33/94 [00:10<00:19,  3.11it/s]"
     ]
    },
    {
     "name": "stderr",
     "output_type": "stream",
     "text": [
      "\r",
      " 36%|███▌      | 34/94 [00:10<00:19,  3.10it/s]"
     ]
    },
    {
     "name": "stderr",
     "output_type": "stream",
     "text": [
      "\r",
      " 37%|███▋      | 35/94 [00:11<00:19,  3.09it/s]"
     ]
    },
    {
     "name": "stderr",
     "output_type": "stream",
     "text": [
      "\r",
      " 38%|███▊      | 36/94 [00:11<00:18,  3.08it/s]"
     ]
    },
    {
     "name": "stderr",
     "output_type": "stream",
     "text": [
      "\r",
      " 39%|███▉      | 37/94 [00:11<00:18,  3.06it/s]"
     ]
    },
    {
     "name": "stderr",
     "output_type": "stream",
     "text": [
      "\r",
      " 40%|████      | 38/94 [00:12<00:18,  3.05it/s]"
     ]
    },
    {
     "name": "stderr",
     "output_type": "stream",
     "text": [
      "\r",
      " 41%|████▏     | 39/94 [00:12<00:17,  3.09it/s]"
     ]
    },
    {
     "name": "stderr",
     "output_type": "stream",
     "text": [
      "\r",
      " 43%|████▎     | 40/94 [00:12<00:17,  3.04it/s]"
     ]
    },
    {
     "name": "stderr",
     "output_type": "stream",
     "text": [
      "\r",
      " 44%|████▎     | 41/94 [00:13<00:17,  3.06it/s]"
     ]
    },
    {
     "name": "stderr",
     "output_type": "stream",
     "text": [
      "\r",
      " 45%|████▍     | 42/94 [00:13<00:16,  3.07it/s]"
     ]
    },
    {
     "name": "stderr",
     "output_type": "stream",
     "text": [
      "\r",
      " 46%|████▌     | 43/94 [00:13<00:17,  2.96it/s]"
     ]
    },
    {
     "name": "stderr",
     "output_type": "stream",
     "text": [
      "\r",
      " 47%|████▋     | 44/94 [00:14<00:17,  2.91it/s]"
     ]
    },
    {
     "name": "stderr",
     "output_type": "stream",
     "text": [
      "\r",
      " 48%|████▊     | 45/94 [00:14<00:16,  2.97it/s]"
     ]
    },
    {
     "name": "stderr",
     "output_type": "stream",
     "text": [
      "\r",
      " 49%|████▉     | 46/94 [00:14<00:15,  3.02it/s]"
     ]
    },
    {
     "name": "stderr",
     "output_type": "stream",
     "text": [
      "\r",
      " 50%|█████     | 47/94 [00:15<00:17,  2.66it/s]"
     ]
    },
    {
     "name": "stderr",
     "output_type": "stream",
     "text": [
      "\r",
      " 51%|█████     | 48/94 [00:15<00:16,  2.76it/s]"
     ]
    },
    {
     "name": "stderr",
     "output_type": "stream",
     "text": [
      "\r",
      " 52%|█████▏    | 49/94 [00:15<00:15,  2.85it/s]"
     ]
    },
    {
     "name": "stderr",
     "output_type": "stream",
     "text": [
      "\r",
      " 53%|█████▎    | 50/94 [00:16<00:15,  2.88it/s]"
     ]
    },
    {
     "name": "stderr",
     "output_type": "stream",
     "text": [
      "\r",
      " 54%|█████▍    | 51/94 [00:16<00:14,  2.94it/s]"
     ]
    },
    {
     "name": "stderr",
     "output_type": "stream",
     "text": [
      "\r",
      " 55%|█████▌    | 52/94 [00:16<00:13,  3.03it/s]"
     ]
    },
    {
     "name": "stderr",
     "output_type": "stream",
     "text": [
      "\r",
      " 56%|█████▋    | 53/94 [00:17<00:13,  3.02it/s]"
     ]
    },
    {
     "name": "stderr",
     "output_type": "stream",
     "text": [
      "\r",
      " 57%|█████▋    | 54/94 [00:17<00:13,  3.02it/s]"
     ]
    },
    {
     "name": "stderr",
     "output_type": "stream",
     "text": [
      "\r",
      " 59%|█████▊    | 55/94 [00:17<00:12,  3.05it/s]"
     ]
    },
    {
     "name": "stderr",
     "output_type": "stream",
     "text": [
      "\r",
      " 60%|█████▉    | 56/94 [00:18<00:12,  2.96it/s]"
     ]
    },
    {
     "name": "stderr",
     "output_type": "stream",
     "text": [
      "\r",
      " 61%|██████    | 57/94 [00:18<00:12,  3.02it/s]"
     ]
    },
    {
     "name": "stderr",
     "output_type": "stream",
     "text": [
      "\r",
      " 62%|██████▏   | 58/94 [00:18<00:12,  2.99it/s]"
     ]
    },
    {
     "name": "stderr",
     "output_type": "stream",
     "text": [
      "\r",
      " 63%|██████▎   | 59/94 [00:19<00:11,  3.02it/s]"
     ]
    },
    {
     "name": "stderr",
     "output_type": "stream",
     "text": [
      "\r",
      " 64%|██████▍   | 60/94 [00:19<00:11,  2.98it/s]"
     ]
    },
    {
     "name": "stderr",
     "output_type": "stream",
     "text": [
      "\r",
      " 65%|██████▍   | 61/94 [00:19<00:10,  3.04it/s]"
     ]
    },
    {
     "name": "stderr",
     "output_type": "stream",
     "text": [
      "\r",
      " 66%|██████▌   | 62/94 [00:20<00:10,  3.02it/s]"
     ]
    },
    {
     "name": "stderr",
     "output_type": "stream",
     "text": [
      "\r",
      " 67%|██████▋   | 63/94 [00:20<00:10,  3.06it/s]"
     ]
    },
    {
     "name": "stderr",
     "output_type": "stream",
     "text": [
      "\r",
      " 68%|██████▊   | 64/94 [00:20<00:09,  3.15it/s]"
     ]
    },
    {
     "name": "stderr",
     "output_type": "stream",
     "text": [
      "\r",
      " 69%|██████▉   | 65/94 [00:21<00:09,  3.17it/s]"
     ]
    },
    {
     "name": "stderr",
     "output_type": "stream",
     "text": [
      "\r",
      " 70%|███████   | 66/94 [00:21<00:08,  3.15it/s]"
     ]
    },
    {
     "name": "stderr",
     "output_type": "stream",
     "text": [
      "\r",
      " 71%|███████▏  | 67/94 [00:21<00:08,  3.18it/s]"
     ]
    },
    {
     "name": "stderr",
     "output_type": "stream",
     "text": [
      "\r",
      " 72%|███████▏  | 68/94 [00:22<00:08,  3.21it/s]"
     ]
    },
    {
     "name": "stderr",
     "output_type": "stream",
     "text": [
      "\r",
      " 73%|███████▎  | 69/94 [00:22<00:07,  3.15it/s]"
     ]
    },
    {
     "name": "stderr",
     "output_type": "stream",
     "text": [
      "\r",
      " 74%|███████▍  | 70/94 [00:22<00:07,  3.20it/s]"
     ]
    },
    {
     "name": "stderr",
     "output_type": "stream",
     "text": [
      "\r",
      " 76%|███████▌  | 71/94 [00:23<00:07,  3.08it/s]"
     ]
    },
    {
     "name": "stderr",
     "output_type": "stream",
     "text": [
      "\r",
      " 77%|███████▋  | 72/94 [00:23<00:07,  3.08it/s]"
     ]
    },
    {
     "name": "stderr",
     "output_type": "stream",
     "text": [
      "\r",
      " 78%|███████▊  | 73/94 [00:23<00:08,  2.56it/s]"
     ]
    },
    {
     "name": "stderr",
     "output_type": "stream",
     "text": [
      "\r",
      " 79%|███████▊  | 74/94 [00:24<00:07,  2.76it/s]"
     ]
    },
    {
     "name": "stderr",
     "output_type": "stream",
     "text": [
      "\r",
      " 80%|███████▉  | 75/94 [00:24<00:06,  2.84it/s]"
     ]
    },
    {
     "name": "stderr",
     "output_type": "stream",
     "text": [
      "\r",
      " 81%|████████  | 76/94 [00:24<00:06,  2.98it/s]"
     ]
    },
    {
     "name": "stderr",
     "output_type": "stream",
     "text": [
      "\r",
      " 82%|████████▏ | 77/94 [00:25<00:05,  3.01it/s]"
     ]
    },
    {
     "name": "stderr",
     "output_type": "stream",
     "text": [
      "\r",
      " 83%|████████▎ | 78/94 [00:25<00:05,  3.10it/s]"
     ]
    },
    {
     "name": "stderr",
     "output_type": "stream",
     "text": [
      "\r",
      " 84%|████████▍ | 79/94 [00:25<00:04,  3.12it/s]"
     ]
    },
    {
     "name": "stderr",
     "output_type": "stream",
     "text": [
      "\r",
      " 85%|████████▌ | 80/94 [00:26<00:04,  3.19it/s]"
     ]
    },
    {
     "name": "stderr",
     "output_type": "stream",
     "text": [
      "\r",
      " 86%|████████▌ | 81/94 [00:26<00:04,  3.22it/s]"
     ]
    },
    {
     "name": "stderr",
     "output_type": "stream",
     "text": [
      "\r",
      " 87%|████████▋ | 82/94 [00:26<00:03,  3.23it/s]"
     ]
    },
    {
     "name": "stderr",
     "output_type": "stream",
     "text": [
      "\r",
      " 88%|████████▊ | 83/94 [00:27<00:03,  3.19it/s]"
     ]
    },
    {
     "name": "stderr",
     "output_type": "stream",
     "text": [
      "\r",
      " 89%|████████▉ | 84/94 [00:27<00:03,  3.14it/s]"
     ]
    },
    {
     "name": "stderr",
     "output_type": "stream",
     "text": [
      "\r",
      " 90%|█████████ | 85/94 [00:27<00:02,  3.11it/s]"
     ]
    },
    {
     "name": "stderr",
     "output_type": "stream",
     "text": [
      "\r",
      " 91%|█████████▏| 86/94 [00:27<00:02,  3.14it/s]"
     ]
    },
    {
     "name": "stderr",
     "output_type": "stream",
     "text": [
      "\r",
      " 93%|█████████▎| 87/94 [00:28<00:02,  3.16it/s]"
     ]
    },
    {
     "name": "stderr",
     "output_type": "stream",
     "text": [
      "\r",
      " 94%|█████████▎| 88/94 [00:28<00:01,  3.21it/s]"
     ]
    },
    {
     "name": "stderr",
     "output_type": "stream",
     "text": [
      "\r",
      " 95%|█████████▍| 89/94 [00:28<00:01,  3.24it/s]"
     ]
    },
    {
     "name": "stderr",
     "output_type": "stream",
     "text": [
      "\r",
      " 96%|█████████▌| 90/94 [00:29<00:01,  3.26it/s]"
     ]
    },
    {
     "name": "stderr",
     "output_type": "stream",
     "text": [
      "\r",
      " 97%|█████████▋| 91/94 [00:29<00:00,  3.21it/s]"
     ]
    },
    {
     "name": "stderr",
     "output_type": "stream",
     "text": [
      "\r",
      " 98%|█████████▊| 92/94 [00:29<00:00,  3.23it/s]"
     ]
    },
    {
     "name": "stderr",
     "output_type": "stream",
     "text": [
      "\r",
      " 99%|█████████▉| 93/94 [00:30<00:00,  3.25it/s]"
     ]
    },
    {
     "name": "stderr",
     "output_type": "stream",
     "text": [
      "\r",
      "100%|██████████| 94/94 [00:30<00:00,  3.27it/s]"
     ]
    },
    {
     "name": "stderr",
     "output_type": "stream",
     "text": [
      "\r",
      "100%|██████████| 94/94 [00:30<00:00,  3.06it/s]"
     ]
    },
    {
     "name": "stderr",
     "output_type": "stream",
     "text": [
      "\n"
     ]
    }
   ],
   "source": [
    "talk_revisions = (\n",
    "    pd\n",
    "    .DataFrame\n",
    "    .from_records(talk.get_revisions_list())\n",
    "    .assign(\n",
    "        diff = lambda df: df.revid.progress_apply(lambda x: talk.get_diff(x)),\n",
    "        deleted = lambda df: df['diff'].apply(lambda diff: talk.extract_plusminus(diff)['deleted']),\n",
    "        added = lambda df: df['diff'].apply(lambda diff: talk.extract_plusminus(diff)['added']),\n",
    "    )\n",
    "    .set_index('revid')\n",
    ")\n",
    "\n",
    "#talk_revisions"
   ]
  },
  {
   "cell_type": "code",
   "execution_count": 15,
   "id": "25ec8a7b-a133-458e-bad3-331c8f41b851",
   "metadata": {
    "execution": {
     "iopub.execute_input": "2024-04-01T20:19:56.942173Z",
     "iopub.status.busy": "2024-04-01T20:19:56.942035Z",
     "iopub.status.idle": "2024-04-01T20:19:56.947358Z",
     "shell.execute_reply": "2024-04-01T20:19:56.947151Z"
    },
    "papermill": {
     "duration": 0.014726,
     "end_time": "2024-04-01T20:19:56.948066",
     "exception": false,
     "start_time": "2024-04-01T20:19:56.933340",
     "status": "completed"
    },
    "tags": []
   },
   "outputs": [],
   "source": [
    "talk_revisions.to_csv(f'../data/page-revisions/discussion:{page_name.lower()}.csv')"
   ]
  },
  {
   "cell_type": "markdown",
   "id": "4d1737c2-1d19-48bb-925f-f3a73fc7c585",
   "metadata": {
    "papermill": {
     "duration": 0.004728,
     "end_time": "2024-04-01T20:19:56.957346",
     "exception": false,
     "start_time": "2024-04-01T20:19:56.952618",
     "status": "completed"
    },
    "tags": []
   },
   "source": [
    "### depuis le coming out"
   ]
  },
  {
   "cell_type": "code",
   "execution_count": 16,
   "id": "0e863939-69ce-43d1-a48c-ed831817f6c6",
   "metadata": {
    "execution": {
     "iopub.execute_input": "2024-04-01T20:19:56.967146Z",
     "iopub.status.busy": "2024-04-01T20:19:56.966992Z",
     "iopub.status.idle": "2024-04-01T20:19:56.970410Z",
     "shell.execute_reply": "2024-04-01T20:19:56.970224Z"
    },
    "papermill": {
     "duration": 0.008956,
     "end_time": "2024-04-01T20:19:56.970902",
     "exception": false,
     "start_time": "2024-04-01T20:19:56.961946",
     "status": "completed"
    },
    "tags": []
   },
   "outputs": [
    {
     "data": {
      "text/plain": [
       "user\n",
       "Cymbella                                16\n",
       "Sherwood6                                7\n",
       "Enthalpist                               6\n",
       "2A01:CB18:3A1:600:7D38:3E1:EB42:DB05     1\n",
       "Le GreeKiwi                              1\n",
       "Kvardek du                               0\n",
       "Shev123                                  0\n",
       "Léna                                     0\n",
       "Lambig44                                 0\n",
       "La Grande Feutrelle                      0\n",
       "Name: deadname_count, dtype: int64"
      ]
     },
     "execution_count": 16,
     "metadata": {},
     "output_type": "execute_result"
    }
   ],
   "source": [
    "(\n",
    "    talk_revisions\n",
    "    .assign(\n",
    "        deadname_count = lambda df: df.added.apply(lambda x: ' '.join(x).lower().count(decode(dead_name).lower()))\n",
    "    )\n",
    "    # on ne garde que les contributions après son coming out\n",
    "    #.query('timestamp >= \"2013-08-22\"')\n",
    "    .groupby('user')\n",
    "    .deadname_count\n",
    "    .sum()\n",
    "    .sort_values(ascending=False)\n",
    "    .head(10)\n",
    ")"
   ]
  },
  {
   "cell_type": "markdown",
   "id": "f527cdea-8c65-45e8-8274-48ee9e2246b8",
   "metadata": {
    "papermill": {
     "duration": 0.004728,
     "end_time": "2024-04-01T20:19:56.980290",
     "exception": false,
     "start_time": "2024-04-01T20:19:56.975562",
     "status": "completed"
    },
    "tags": []
   },
   "source": [
    "### depuis le début du sondage"
   ]
  },
  {
   "cell_type": "code",
   "execution_count": 17,
   "id": "9e1a66e6-8622-4a4c-a031-95f1ee3e81b1",
   "metadata": {
    "execution": {
     "iopub.execute_input": "2024-04-01T20:19:56.990075Z",
     "iopub.status.busy": "2024-04-01T20:19:56.989927Z",
     "iopub.status.idle": "2024-04-01T20:19:56.994381Z",
     "shell.execute_reply": "2024-04-01T20:19:56.994192Z"
    },
    "papermill": {
     "duration": 0.010115,
     "end_time": "2024-04-01T20:19:56.995005",
     "exception": false,
     "start_time": "2024-04-01T20:19:56.984890",
     "status": "completed"
    },
    "tags": []
   },
   "outputs": [
    {
     "data": {
      "text/plain": [
       "user\n",
       "Cymbella                                  9\n",
       "Enthalpist                                6\n",
       "Sherwood6                                 6\n",
       "2A01:CB18:3A1:600:7D38:3E1:EB42:DB05      1\n",
       "Le GreeKiwi                               1\n",
       "2A02:8440:A10A:6893:8C9A:7FF:FEBB:6102    0\n",
       "2A04:8EC0:0:216:CE0B:3DD0:28C:416F        0\n",
       "Anne Daemon                               0\n",
       "Jeune Lutin                               0\n",
       "Jugio                                     0\n",
       "Name: deadname_count, dtype: int64"
      ]
     },
     "execution_count": 17,
     "metadata": {},
     "output_type": "execute_result"
    }
   ],
   "source": [
    "(\n",
    "    talk_revisions\n",
    "    .assign(\n",
    "        deadname_count = lambda df: df.added.apply(lambda x: ' '.join(x).lower().count(decode(dead_name).lower()))\n",
    "    )\n",
    "    # depuis le sondage\n",
    "    .query('timestamp >= \"2024-01-15\"')\n",
    "    .groupby('user')\n",
    "    .deadname_count\n",
    "    .sum()\n",
    "    .sort_values(ascending=False)\n",
    "    .head(10)\n",
    ")"
   ]
  },
  {
   "cell_type": "code",
   "execution_count": 18,
   "id": "63fb08f4-6403-42c9-87ea-7851eb4853b9",
   "metadata": {
    "execution": {
     "iopub.execute_input": "2024-04-01T20:19:57.004940Z",
     "iopub.status.busy": "2024-04-01T20:19:57.004848Z",
     "iopub.status.idle": "2024-04-01T20:19:57.010420Z",
     "shell.execute_reply": "2024-04-01T20:19:57.010229Z"
    },
    "papermill": {
     "duration": 0.011416,
     "end_time": "2024-04-01T20:19:57.011069",
     "exception": false,
     "start_time": "2024-04-01T20:19:56.999653",
     "status": "completed"
    },
    "tags": []
   },
   "outputs": [
    {
     "data": {
      "text/html": [
       "<style type=\"text/css\">\n",
       "</style>\n",
       "<table id=\"T_4ebb2\">\n",
       "  <thead>\n",
       "    <tr>\n",
       "      <th class=\"blank level0\" >&nbsp;</th>\n",
       "      <th id=\"T_4ebb2_level0_col0\" class=\"col_heading level0 col0\" >user</th>\n",
       "      <th id=\"T_4ebb2_level0_col1\" class=\"col_heading level0 col1\" >deadname_count</th>\n",
       "      <th id=\"T_4ebb2_level0_col2\" class=\"col_heading level0 col2\" >timestamp</th>\n",
       "    </tr>\n",
       "    <tr>\n",
       "      <th class=\"index_name level0\" >revid</th>\n",
       "      <th class=\"blank col0\" >&nbsp;</th>\n",
       "      <th class=\"blank col1\" >&nbsp;</th>\n",
       "      <th class=\"blank col2\" >&nbsp;</th>\n",
       "    </tr>\n",
       "  </thead>\n",
       "  <tbody>\n",
       "    <tr>\n",
       "      <th id=\"T_4ebb2_level0_row0\" class=\"row_heading level0 row0\" ><a href=\"https://fr.wikipedia.org/w/index.php?title=Discussion:Ivan_Mackenzie_Lamb&diff=prev&oldid=213843134\">213843134</a></th>\n",
       "      <td id=\"T_4ebb2_row0_col0\" class=\"data row0 col0\" >Cymbella</td>\n",
       "      <td id=\"T_4ebb2_row0_col1\" class=\"data row0 col1\" >1</td>\n",
       "      <td id=\"T_4ebb2_row0_col2\" class=\"data row0 col2\" >2024-03-31T17:10:53Z</td>\n",
       "    </tr>\n",
       "    <tr>\n",
       "      <th id=\"T_4ebb2_level0_row1\" class=\"row_heading level0 row1\" ><a href=\"https://fr.wikipedia.org/w/index.php?title=Discussion:Ivan_Mackenzie_Lamb&diff=prev&oldid=213751051\">213751051</a></th>\n",
       "      <td id=\"T_4ebb2_row1_col0\" class=\"data row1 col0\" >2A01:CB18:3A1:600:7D38:3E1:EB42:DB05</td>\n",
       "      <td id=\"T_4ebb2_row1_col1\" class=\"data row1 col1\" >1</td>\n",
       "      <td id=\"T_4ebb2_row1_col2\" class=\"data row1 col2\" >2024-03-28T11:41:08Z</td>\n",
       "    </tr>\n",
       "    <tr>\n",
       "      <th id=\"T_4ebb2_level0_row2\" class=\"row_heading level0 row2\" ><a href=\"https://fr.wikipedia.org/w/index.php?title=Discussion:Ivan_Mackenzie_Lamb&diff=prev&oldid=213747283\">213747283</a></th>\n",
       "      <td id=\"T_4ebb2_row2_col0\" class=\"data row2 col0\" >Enthalpist</td>\n",
       "      <td id=\"T_4ebb2_row2_col1\" class=\"data row2 col1\" >2</td>\n",
       "      <td id=\"T_4ebb2_row2_col2\" class=\"data row2 col2\" >2024-03-28T09:02:54Z</td>\n",
       "    </tr>\n",
       "    <tr>\n",
       "      <th id=\"T_4ebb2_level0_row3\" class=\"row_heading level0 row3\" ><a href=\"https://fr.wikipedia.org/w/index.php?title=Discussion:Ivan_Mackenzie_Lamb&diff=prev&oldid=213733772\">213733772</a></th>\n",
       "      <td id=\"T_4ebb2_row3_col0\" class=\"data row3 col0\" >Enthalpist</td>\n",
       "      <td id=\"T_4ebb2_row3_col1\" class=\"data row3 col1\" >3</td>\n",
       "      <td id=\"T_4ebb2_row3_col2\" class=\"data row3 col2\" >2024-03-27T18:43:44Z</td>\n",
       "    </tr>\n",
       "    <tr>\n",
       "      <th id=\"T_4ebb2_level0_row4\" class=\"row_heading level0 row4\" ><a href=\"https://fr.wikipedia.org/w/index.php?title=Discussion:Ivan_Mackenzie_Lamb&diff=prev&oldid=213732723\">213732723</a></th>\n",
       "      <td id=\"T_4ebb2_row4_col0\" class=\"data row4 col0\" >Sherwood6</td>\n",
       "      <td id=\"T_4ebb2_row4_col1\" class=\"data row4 col1\" >1</td>\n",
       "      <td id=\"T_4ebb2_row4_col2\" class=\"data row4 col2\" >2024-03-27T17:58:19Z</td>\n",
       "    </tr>\n",
       "    <tr>\n",
       "      <th id=\"T_4ebb2_level0_row5\" class=\"row_heading level0 row5\" ><a href=\"https://fr.wikipedia.org/w/index.php?title=Discussion:Ivan_Mackenzie_Lamb&diff=prev&oldid=213731305\">213731305</a></th>\n",
       "      <td id=\"T_4ebb2_row5_col0\" class=\"data row5 col0\" >Enthalpist</td>\n",
       "      <td id=\"T_4ebb2_row5_col1\" class=\"data row5 col1\" >1</td>\n",
       "      <td id=\"T_4ebb2_row5_col2\" class=\"data row5 col2\" >2024-03-27T17:11:37Z</td>\n",
       "    </tr>\n",
       "    <tr>\n",
       "      <th id=\"T_4ebb2_level0_row6\" class=\"row_heading level0 row6\" ><a href=\"https://fr.wikipedia.org/w/index.php?title=Discussion:Ivan_Mackenzie_Lamb&diff=prev&oldid=213729217\">213729217</a></th>\n",
       "      <td id=\"T_4ebb2_row6_col0\" class=\"data row6 col0\" >Cymbella</td>\n",
       "      <td id=\"T_4ebb2_row6_col1\" class=\"data row6 col1\" >1</td>\n",
       "      <td id=\"T_4ebb2_row6_col2\" class=\"data row6 col2\" >2024-03-27T16:01:44Z</td>\n",
       "    </tr>\n",
       "    <tr>\n",
       "      <th id=\"T_4ebb2_level0_row7\" class=\"row_heading level0 row7\" ><a href=\"https://fr.wikipedia.org/w/index.php?title=Discussion:Ivan_Mackenzie_Lamb&diff=prev&oldid=213723362\">213723362</a></th>\n",
       "      <td id=\"T_4ebb2_row7_col0\" class=\"data row7 col0\" >Sherwood6</td>\n",
       "      <td id=\"T_4ebb2_row7_col1\" class=\"data row7 col1\" >1</td>\n",
       "      <td id=\"T_4ebb2_row7_col2\" class=\"data row7 col2\" >2024-03-27T12:43:39Z</td>\n",
       "    </tr>\n",
       "    <tr>\n",
       "      <th id=\"T_4ebb2_level0_row8\" class=\"row_heading level0 row8\" ><a href=\"https://fr.wikipedia.org/w/index.php?title=Discussion:Ivan_Mackenzie_Lamb&diff=prev&oldid=213538736\">213538736</a></th>\n",
       "      <td id=\"T_4ebb2_row8_col0\" class=\"data row8 col0\" >Cymbella</td>\n",
       "      <td id=\"T_4ebb2_row8_col1\" class=\"data row8 col1\" >1</td>\n",
       "      <td id=\"T_4ebb2_row8_col2\" class=\"data row8 col2\" >2024-03-21T13:50:11Z</td>\n",
       "    </tr>\n",
       "    <tr>\n",
       "      <th id=\"T_4ebb2_level0_row9\" class=\"row_heading level0 row9\" ><a href=\"https://fr.wikipedia.org/w/index.php?title=Discussion:Ivan_Mackenzie_Lamb&diff=prev&oldid=213537083\">213537083</a></th>\n",
       "      <td id=\"T_4ebb2_row9_col0\" class=\"data row9 col0\" >Sherwood6</td>\n",
       "      <td id=\"T_4ebb2_row9_col1\" class=\"data row9 col1\" >1</td>\n",
       "      <td id=\"T_4ebb2_row9_col2\" class=\"data row9 col2\" >2024-03-21T12:43:03Z</td>\n",
       "    </tr>\n",
       "    <tr>\n",
       "      <th id=\"T_4ebb2_level0_row10\" class=\"row_heading level0 row10\" ><a href=\"https://fr.wikipedia.org/w/index.php?title=Discussion:Ivan_Mackenzie_Lamb&diff=prev&oldid=213536879\">213536879</a></th>\n",
       "      <td id=\"T_4ebb2_row10_col0\" class=\"data row10 col0\" >Sherwood6</td>\n",
       "      <td id=\"T_4ebb2_row10_col1\" class=\"data row10 col1\" >1</td>\n",
       "      <td id=\"T_4ebb2_row10_col2\" class=\"data row10 col2\" >2024-03-21T12:35:16Z</td>\n",
       "    </tr>\n",
       "    <tr>\n",
       "      <th id=\"T_4ebb2_level0_row11\" class=\"row_heading level0 row11\" ><a href=\"https://fr.wikipedia.org/w/index.php?title=Discussion:Ivan_Mackenzie_Lamb&diff=prev&oldid=213535423\">213535423</a></th>\n",
       "      <td id=\"T_4ebb2_row11_col0\" class=\"data row11 col0\" >Cymbella</td>\n",
       "      <td id=\"T_4ebb2_row11_col1\" class=\"data row11 col1\" >2</td>\n",
       "      <td id=\"T_4ebb2_row11_col2\" class=\"data row11 col2\" >2024-03-21T11:22:29Z</td>\n",
       "    </tr>\n",
       "    <tr>\n",
       "      <th id=\"T_4ebb2_level0_row12\" class=\"row_heading level0 row12\" ><a href=\"https://fr.wikipedia.org/w/index.php?title=Discussion:Ivan_Mackenzie_Lamb&diff=prev&oldid=213534411\">213534411</a></th>\n",
       "      <td id=\"T_4ebb2_row12_col0\" class=\"data row12 col0\" >Le GreeKiwi</td>\n",
       "      <td id=\"T_4ebb2_row12_col1\" class=\"data row12 col1\" >1</td>\n",
       "      <td id=\"T_4ebb2_row12_col2\" class=\"data row12 col2\" >2024-03-21T10:41:31Z</td>\n",
       "    </tr>\n",
       "    <tr>\n",
       "      <th id=\"T_4ebb2_level0_row13\" class=\"row_heading level0 row13\" ><a href=\"https://fr.wikipedia.org/w/index.php?title=Discussion:Ivan_Mackenzie_Lamb&diff=prev&oldid=213534030\">213534030</a></th>\n",
       "      <td id=\"T_4ebb2_row13_col0\" class=\"data row13 col0\" >Cymbella</td>\n",
       "      <td id=\"T_4ebb2_row13_col1\" class=\"data row13 col1\" >1</td>\n",
       "      <td id=\"T_4ebb2_row13_col2\" class=\"data row13 col2\" >2024-03-21T10:26:34Z</td>\n",
       "    </tr>\n",
       "    <tr>\n",
       "      <th id=\"T_4ebb2_level0_row14\" class=\"row_heading level0 row14\" ><a href=\"https://fr.wikipedia.org/w/index.php?title=Discussion:Ivan_Mackenzie_Lamb&diff=prev&oldid=213521178\">213521178</a></th>\n",
       "      <td id=\"T_4ebb2_row14_col0\" class=\"data row14 col0\" >Sherwood6</td>\n",
       "      <td id=\"T_4ebb2_row14_col1\" class=\"data row14 col1\" >1</td>\n",
       "      <td id=\"T_4ebb2_row14_col2\" class=\"data row14 col2\" >2024-03-20T19:43:38Z</td>\n",
       "    </tr>\n",
       "    <tr>\n",
       "      <th id=\"T_4ebb2_level0_row15\" class=\"row_heading level0 row15\" ><a href=\"https://fr.wikipedia.org/w/index.php?title=Discussion:Ivan_Mackenzie_Lamb&diff=prev&oldid=213519286\">213519286</a></th>\n",
       "      <td id=\"T_4ebb2_row15_col0\" class=\"data row15 col0\" >Sherwood6</td>\n",
       "      <td id=\"T_4ebb2_row15_col1\" class=\"data row15 col1\" >1</td>\n",
       "      <td id=\"T_4ebb2_row15_col2\" class=\"data row15 col2\" >2024-03-20T18:05:21Z</td>\n",
       "    </tr>\n",
       "    <tr>\n",
       "      <th id=\"T_4ebb2_level0_row16\" class=\"row_heading level0 row16\" ><a href=\"https://fr.wikipedia.org/w/index.php?title=Discussion:Ivan_Mackenzie_Lamb&diff=prev&oldid=213511085\">213511085</a></th>\n",
       "      <td id=\"T_4ebb2_row16_col0\" class=\"data row16 col0\" >Cymbella</td>\n",
       "      <td id=\"T_4ebb2_row16_col1\" class=\"data row16 col1\" >1</td>\n",
       "      <td id=\"T_4ebb2_row16_col2\" class=\"data row16 col2\" >2024-03-20T13:20:01Z</td>\n",
       "    </tr>\n",
       "    <tr>\n",
       "      <th id=\"T_4ebb2_level0_row17\" class=\"row_heading level0 row17\" ><a href=\"https://fr.wikipedia.org/w/index.php?title=Discussion:Ivan_Mackenzie_Lamb&diff=prev&oldid=213479789\">213479789</a></th>\n",
       "      <td id=\"T_4ebb2_row17_col0\" class=\"data row17 col0\" >Cymbella</td>\n",
       "      <td id=\"T_4ebb2_row17_col1\" class=\"data row17 col1\" >2</td>\n",
       "      <td id=\"T_4ebb2_row17_col2\" class=\"data row17 col2\" >2024-03-19T10:54:34Z</td>\n",
       "    </tr>\n",
       "  </tbody>\n",
       "</table>\n"
      ],
      "text/plain": [
       "<pandas.io.formats.style.Styler at 0x78b8a16daad0>"
      ]
     },
     "execution_count": 18,
     "metadata": {},
     "output_type": "execute_result"
    }
   ],
   "source": [
    "(\n",
    "    talk_revisions\n",
    "    .assign(\n",
    "        deadname_count = lambda df: df.added.apply(lambda x: ' '.join(x).lower().count(decode(dead_name).lower()))\n",
    "    )\n",
    "    # depuis le sondage\n",
    "    .query('timestamp >= \"2024-01-15\"')\n",
    "    .query('deadname_count > 0')\n",
    "    [['user', 'deadname_count', 'timestamp']]\n",
    "    .style\n",
    "    .format_index(lambda x : format_revid_index(x, f'Discussion:{page_name}'))\n",
    ")"
   ]
  },
  {
   "cell_type": "code",
   "execution_count": 19,
   "id": "27f65dc8-0dab-464f-931b-4498c241e3f5",
   "metadata": {
    "execution": {
     "iopub.execute_input": "2024-04-01T20:19:57.021229Z",
     "iopub.status.busy": "2024-04-01T20:19:57.021130Z",
     "iopub.status.idle": "2024-04-01T20:19:57.025499Z",
     "shell.execute_reply": "2024-04-01T20:19:57.025323Z"
    },
    "papermill": {
     "duration": 0.010268,
     "end_time": "2024-04-01T20:19:57.026129",
     "exception": false,
     "start_time": "2024-04-01T20:19:57.015861",
     "status": "completed"
    },
    "tags": []
   },
   "outputs": [
    {
     "data": {
      "text/plain": [
       "18"
      ]
     },
     "execution_count": 19,
     "metadata": {},
     "output_type": "execute_result"
    }
   ],
   "source": [
    "len(\n",
    "    talk_revisions\n",
    "    .assign(\n",
    "        deadname_count = lambda df: df.added.apply(lambda x: ' '.join(x).lower().count(decode(dead_name).lower()))\n",
    "    )\n",
    "    # depuis le sondage\n",
    "    .query('timestamp >= \"2024-01-15\"')\n",
    "    .query('deadname_count > 0')\n",
    "    [['user', 'deadname_count']]\n",
    ")"
   ]
  },
  {
   "cell_type": "code",
   "execution_count": null,
   "id": "f53cbc6c-c121-4c41-895b-60d2eafe8fbe",
   "metadata": {
    "papermill": {
     "duration": 0.004923,
     "end_time": "2024-04-01T20:19:57.035899",
     "exception": false,
     "start_time": "2024-04-01T20:19:57.030976",
     "status": "completed"
    },
    "tags": []
   },
   "outputs": [],
   "source": []
  }
 ],
 "metadata": {
  "kernelspec": {
   "display_name": "Python 3 (ipykernel)",
   "language": "python",
   "name": "python3"
  },
  "language_info": {
   "codemirror_mode": {
    "name": "ipython",
    "version": 3
   },
   "file_extension": ".py",
   "mimetype": "text/x-python",
   "name": "python",
   "nbconvert_exporter": "python",
   "pygments_lexer": "ipython3",
   "version": "3.10.12"
  },
  "papermill": {
   "default_parameters": {},
   "duration": 60.297262,
   "end_time": "2024-04-01T20:19:57.258075",
   "environment_variables": {},
   "exception": null,
   "input_path": "cook_template_deadname_watch.ipynb",
   "output_path": "cook_eda_deadnames_ivan_mackenzie_lamb.ipynb",
   "parameters": {
    "co_date": null,
    "dead_name": "SXZhbg==",
    "name": "Elke Mackenzie",
    "page_name": "Ivan_Mackenzie_Lamb"
   },
   "start_time": "2024-04-01T20:18:56.960813",
   "version": "2.4.0"
  }
 },
 "nbformat": 4,
 "nbformat_minor": 5
}