{
 "cells": [
  {
   "cell_type": "code",
   "execution_count": 1,
   "id": "15f30433-f4e9-4960-8c7d-39b238b3e045",
   "metadata": {},
   "outputs": [],
   "source": [
    "import pandas as pd"
   ]
  },
  {
   "cell_type": "code",
   "execution_count": 2,
   "id": "1d0808da-3d65-477a-bcfd-9ad3aa243ff4",
   "metadata": {},
   "outputs": [],
   "source": [
    "df = pd.read_csv('../data/votes-q1.csv')"
   ]
  },
  {
   "cell_type": "code",
   "execution_count": 6,
   "id": "b962081c-2b4a-4d3a-bc86-c762439997d1",
   "metadata": {},
   "outputs": [
    {
     "data": {
      "text/html": [
       "<div>\n",
       "<style scoped>\n",
       "    .dataframe tbody tr th:only-of-type {\n",
       "        vertical-align: middle;\n",
       "    }\n",
       "\n",
       "    .dataframe tbody tr th {\n",
       "        vertical-align: top;\n",
       "    }\n",
       "\n",
       "    .dataframe thead th {\n",
       "        text-align: right;\n",
       "    }\n",
       "</style>\n",
       "<table border=\"1\" class=\"dataframe\">\n",
       "  <thead>\n",
       "    <tr style=\"text-align: right;\">\n",
       "      <th>label</th>\n",
       "      <th>Utilisateur</th>\n",
       "      <th>Utilisatrice</th>\n",
       "    </tr>\n",
       "    <tr>\n",
       "      <th>vote</th>\n",
       "      <th></th>\n",
       "      <th></th>\n",
       "    </tr>\n",
       "  </thead>\n",
       "  <tbody>\n",
       "    <tr>\n",
       "      <th>neutre</th>\n",
       "      <td>7</td>\n",
       "      <td>2</td>\n",
       "    </tr>\n",
       "    <tr>\n",
       "      <th>non</th>\n",
       "      <td>100</td>\n",
       "      <td>26</td>\n",
       "    </tr>\n",
       "    <tr>\n",
       "      <th>oui</th>\n",
       "      <td>158</td>\n",
       "      <td>9</td>\n",
       "    </tr>\n",
       "  </tbody>\n",
       "</table>\n",
       "</div>"
      ],
      "text/plain": [
       "label   Utilisateur  Utilisatrice\n",
       "vote                             \n",
       "neutre            7             2\n",
       "non             100            26\n",
       "oui             158             9"
      ]
     },
     "execution_count": 6,
     "metadata": {},
     "output_type": "execute_result"
    }
   ],
   "source": [
    "table = (\n",
    "    df\n",
    "    .assign(label = lambda df: df.path.apply(lambda x: x.split('/')[-1].split(':')[0]))\n",
    "    .pivot_table(\n",
    "        index = 'vote',\n",
    "        columns = 'label',\n",
    "        values = 'user',\n",
    "        aggfunc = 'count'\n",
    "    )\n",
    ")\n",
    "\n",
    "table"
   ]
  },
  {
   "cell_type": "code",
   "execution_count": 8,
   "id": "bbb0a410-e08a-4515-a485-773caa26ee0f",
   "metadata": {},
   "outputs": [
    {
     "name": "stdout",
     "output_type": "stream",
     "text": [
      "| vote   |   Utilisateur |   Utilisatrice |\n",
      "|:-------|--------------:|---------------:|\n",
      "| neutre |             7 |              2 |\n",
      "| non    |           100 |             26 |\n",
      "| oui    |           158 |              9 |\n"
     ]
    }
   ],
   "source": [
    "print(table.to_markdown())"
   ]
  },
  {
   "cell_type": "code",
   "execution_count": 17,
   "id": "75b0c8ad-ae55-465b-8f82-f8195e1cf6dc",
   "metadata": {},
   "outputs": [
    {
     "data": {
      "text/html": [
       "<style type=\"text/css\">\n",
       "</style>\n",
       "<table id=\"T_7c561\">\n",
       "  <thead>\n",
       "    <tr>\n",
       "      <th class=\"index_name level0\" >label</th>\n",
       "      <th id=\"T_7c561_level0_col0\" class=\"col_heading level0 col0\" >Utilisateur</th>\n",
       "      <th id=\"T_7c561_level0_col1\" class=\"col_heading level0 col1\" >Utilisatrice</th>\n",
       "    </tr>\n",
       "    <tr>\n",
       "      <th class=\"index_name level0\" >vote</th>\n",
       "      <th class=\"blank col0\" >&nbsp;</th>\n",
       "      <th class=\"blank col1\" >&nbsp;</th>\n",
       "    </tr>\n",
       "  </thead>\n",
       "  <tbody>\n",
       "    <tr>\n",
       "      <th id=\"T_7c561_level0_row0\" class=\"row_heading level0 row0\" >neutre</th>\n",
       "      <td id=\"T_7c561_row0_col0\" class=\"data row0 col0\" >2.6%</td>\n",
       "      <td id=\"T_7c561_row0_col1\" class=\"data row0 col1\" >5.4%</td>\n",
       "    </tr>\n",
       "    <tr>\n",
       "      <th id=\"T_7c561_level0_row1\" class=\"row_heading level0 row1\" >non</th>\n",
       "      <td id=\"T_7c561_row1_col0\" class=\"data row1 col0\" >37.7%</td>\n",
       "      <td id=\"T_7c561_row1_col1\" class=\"data row1 col1\" >70.3%</td>\n",
       "    </tr>\n",
       "    <tr>\n",
       "      <th id=\"T_7c561_level0_row2\" class=\"row_heading level0 row2\" >oui</th>\n",
       "      <td id=\"T_7c561_row2_col0\" class=\"data row2 col0\" >59.6%</td>\n",
       "      <td id=\"T_7c561_row2_col1\" class=\"data row2 col1\" >24.3%</td>\n",
       "    </tr>\n",
       "  </tbody>\n",
       "</table>\n"
      ],
      "text/plain": [
       "<pandas.io.formats.style.Styler at 0x7f0cdf382bf0>"
      ]
     },
     "execution_count": 17,
     "metadata": {},
     "output_type": "execute_result"
    }
   ],
   "source": [
    "(\n",
    "    table\n",
    "    .div(table.sum(axis=0), axis=1)\n",
    "    .style\n",
    "    .format(\n",
    "        '{:,.1%}'\n",
    "    )\n",
    ")"
   ]
  },
  {
   "cell_type": "code",
   "execution_count": null,
   "id": "e3d2f552-a34f-4275-8416-a42dc6f1535e",
   "metadata": {},
   "outputs": [],
   "source": []
  }
 ],
 "metadata": {
  "kernelspec": {
   "display_name": "Python 3 (ipykernel)",
   "language": "python",
   "name": "python3"
  },
  "language_info": {
   "codemirror_mode": {
    "name": "ipython",
    "version": 3
   },
   "file_extension": ".py",
   "mimetype": "text/x-python",
   "name": "python",
   "nbconvert_exporter": "python",
   "pygments_lexer": "ipython3",
   "version": "3.10.12"
  }
 },
 "nbformat": 4,
 "nbformat_minor": 5
}
