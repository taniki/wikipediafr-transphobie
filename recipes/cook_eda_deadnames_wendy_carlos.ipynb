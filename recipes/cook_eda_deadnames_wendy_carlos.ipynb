{
 "cells": [
  {
   "cell_type": "code",
   "execution_count": 1,
   "id": "2ad56d7a-56a0-4f9e-a19d-906c01ac23f1",
   "metadata": {
    "execution": {
     "iopub.execute_input": "2024-04-01T20:20:52.632356Z",
     "iopub.status.busy": "2024-04-01T20:20:52.632076Z",
     "iopub.status.idle": "2024-04-01T20:20:53.078537Z",
     "shell.execute_reply": "2024-04-01T20:20:53.078119Z"
    },
    "papermill": {
     "duration": 0.454377,
     "end_time": "2024-04-01T20:20:53.079371",
     "exception": false,
     "start_time": "2024-04-01T20:20:52.624994",
     "status": "completed"
    },
    "tags": []
   },
   "outputs": [],
   "source": [
    "import pandas as pd\n",
    "from bs4 import BeautifulSoup\n",
    "from tqdm import tqdm\n",
    "import base64\n",
    "\n",
    "tqdm.pandas()\n",
    "from wekeypedia import WikipediaPage as Page"
   ]
  },
  {
   "cell_type": "code",
   "execution_count": 2,
   "id": "23765632-31c5-4a46-a008-89df2f3fb17a",
   "metadata": {
    "execution": {
     "iopub.execute_input": "2024-04-01T20:20:53.089537Z",
     "iopub.status.busy": "2024-04-01T20:20:53.089382Z",
     "iopub.status.idle": "2024-04-01T20:20:53.091046Z",
     "shell.execute_reply": "2024-04-01T20:20:53.090854Z"
    },
    "papermill": {
     "duration": 0.010427,
     "end_time": "2024-04-01T20:20:53.091534",
     "exception": false,
     "start_time": "2024-04-01T20:20:53.081107",
     "status": "completed"
    },
    "tags": [
     "parameters"
    ]
   },
   "outputs": [],
   "source": [
    "name = \"Elliot Page\"\n",
    "dead_name = \"RWxsZW4=\"\n",
    "page_name = \"Elliot_Page\"\n",
    "co_date = \"2020-12-01\""
   ]
  },
  {
   "cell_type": "code",
   "execution_count": 3,
   "id": "68de6f41",
   "metadata": {
    "execution": {
     "iopub.execute_input": "2024-04-01T20:20:53.094569Z",
     "iopub.status.busy": "2024-04-01T20:20:53.094469Z",
     "iopub.status.idle": "2024-04-01T20:20:53.095852Z",
     "shell.execute_reply": "2024-04-01T20:20:53.095681Z"
    },
    "papermill": {
     "duration": 0.003387,
     "end_time": "2024-04-01T20:20:53.096285",
     "exception": false,
     "start_time": "2024-04-01T20:20:53.092898",
     "status": "completed"
    },
    "tags": [
     "injected-parameters"
    ]
   },
   "outputs": [],
   "source": [
    "# Parameters\n",
    "name = \"Wendy Carlos\"\n",
    "dead_name = \"V2FsdGVy\"\n",
    "page_name = \"Wendy_Carlos\"\n",
    "co_date = None\n"
   ]
  },
  {
   "cell_type": "code",
   "execution_count": 4,
   "id": "743460e0-da77-4f86-bb1c-7e260dd25dd2",
   "metadata": {
    "execution": {
     "iopub.execute_input": "2024-04-01T20:20:53.099355Z",
     "iopub.status.busy": "2024-04-01T20:20:53.099213Z",
     "iopub.status.idle": "2024-04-01T20:20:53.100575Z",
     "shell.execute_reply": "2024-04-01T20:20:53.100399Z"
    },
    "papermill": {
     "duration": 0.003336,
     "end_time": "2024-04-01T20:20:53.100990",
     "exception": false,
     "start_time": "2024-04-01T20:20:53.097654",
     "status": "completed"
    },
    "tags": []
   },
   "outputs": [],
   "source": [
    "def format_revid_index(revid, page):\n",
    "    return f'<a href=\"https://fr.wikipedia.org/w/index.php?title={page}&diff=prev&oldid={revid}\">{revid}</a>'"
   ]
  },
  {
   "cell_type": "markdown",
   "id": "5cc2bf74-9863-42ee-a757-703825106697",
   "metadata": {
    "papermill": {
     "duration": 0.001301,
     "end_time": "2024-04-01T20:20:53.103657",
     "exception": false,
     "start_time": "2024-04-01T20:20:53.102356",
     "status": "completed"
    },
    "tags": []
   },
   "source": [
    "# qui sont personnes qui énoncent le deadname dans l'article ?"
   ]
  },
  {
   "cell_type": "markdown",
   "id": "ef5929df-44e4-4ab2-a25b-25c1db364961",
   "metadata": {
    "papermill": {
     "duration": 0.001376,
     "end_time": "2024-04-01T20:20:53.106332",
     "exception": false,
     "start_time": "2024-04-01T20:20:53.104956",
     "status": "completed"
    },
    "tags": []
   },
   "source": [
    "## article"
   ]
  },
  {
   "cell_type": "code",
   "execution_count": 5,
   "id": "eed28b1e-97c4-4eab-9ead-6a8b55b85187",
   "metadata": {
    "execution": {
     "iopub.execute_input": "2024-04-01T20:20:53.109364Z",
     "iopub.status.busy": "2024-04-01T20:20:53.109257Z",
     "iopub.status.idle": "2024-04-01T20:20:53.421816Z",
     "shell.execute_reply": "2024-04-01T20:20:53.420614Z"
    },
    "papermill": {
     "duration": 0.315958,
     "end_time": "2024-04-01T20:20:53.423661",
     "exception": false,
     "start_time": "2024-04-01T20:20:53.107703",
     "status": "completed"
    },
    "tags": []
   },
   "outputs": [],
   "source": [
    "page = Page(page_name, lang='fr')"
   ]
  },
  {
   "cell_type": "code",
   "execution_count": 6,
   "id": "e496177f-af35-4c14-84a2-40f86b9a0309",
   "metadata": {
    "execution": {
     "iopub.execute_input": "2024-04-01T20:20:53.430308Z",
     "iopub.status.busy": "2024-04-01T20:20:53.430134Z",
     "iopub.status.idle": "2024-04-01T20:22:34.643064Z",
     "shell.execute_reply": "2024-04-01T20:22:34.642743Z"
    },
    "papermill": {
     "duration": 101.216661,
     "end_time": "2024-04-01T20:22:34.644013",
     "exception": false,
     "start_time": "2024-04-01T20:20:53.427352",
     "status": "completed"
    },
    "tags": []
   },
   "outputs": [
    {
     "name": "stderr",
     "output_type": "stream",
     "text": [
      "\r",
      "  0%|          | 0/298 [00:00<?, ?it/s]"
     ]
    },
    {
     "name": "stderr",
     "output_type": "stream",
     "text": [
      "\r",
      "  1%|          | 2/298 [00:00<00:45,  6.47it/s]"
     ]
    },
    {
     "name": "stderr",
     "output_type": "stream",
     "text": [
      "\r",
      "  1%|          | 3/298 [00:00<01:12,  4.06it/s]"
     ]
    },
    {
     "name": "stderr",
     "output_type": "stream",
     "text": [
      "\r",
      "  1%|▏         | 4/298 [00:00<01:15,  3.87it/s]"
     ]
    },
    {
     "name": "stderr",
     "output_type": "stream",
     "text": [
      "\r",
      "  2%|▏         | 5/298 [00:01<01:21,  3.59it/s]"
     ]
    },
    {
     "name": "stderr",
     "output_type": "stream",
     "text": [
      "\r",
      "  2%|▏         | 6/298 [00:01<01:25,  3.41it/s]"
     ]
    },
    {
     "name": "stderr",
     "output_type": "stream",
     "text": [
      "\r",
      "  2%|▏         | 7/298 [00:01<01:26,  3.37it/s]"
     ]
    },
    {
     "name": "stderr",
     "output_type": "stream",
     "text": [
      "\r",
      "  3%|▎         | 8/298 [00:02<01:28,  3.26it/s]"
     ]
    },
    {
     "name": "stderr",
     "output_type": "stream",
     "text": [
      "\r",
      "  3%|▎         | 9/298 [00:02<01:27,  3.30it/s]"
     ]
    },
    {
     "name": "stderr",
     "output_type": "stream",
     "text": [
      "\r",
      "  3%|▎         | 10/298 [00:02<01:27,  3.29it/s]"
     ]
    },
    {
     "name": "stderr",
     "output_type": "stream",
     "text": [
      "\r",
      "  4%|▎         | 11/298 [00:03<01:25,  3.37it/s]"
     ]
    },
    {
     "name": "stderr",
     "output_type": "stream",
     "text": [
      "\r",
      "  4%|▍         | 12/298 [00:03<01:30,  3.17it/s]"
     ]
    },
    {
     "name": "stderr",
     "output_type": "stream",
     "text": [
      "\r",
      "  4%|▍         | 13/298 [00:03<01:44,  2.72it/s]"
     ]
    },
    {
     "name": "stderr",
     "output_type": "stream",
     "text": [
      "\r",
      "  5%|▍         | 14/298 [00:04<01:57,  2.42it/s]"
     ]
    },
    {
     "name": "stderr",
     "output_type": "stream",
     "text": [
      "\r",
      "  5%|▌         | 15/298 [00:04<01:48,  2.61it/s]"
     ]
    },
    {
     "name": "stderr",
     "output_type": "stream",
     "text": [
      "\r",
      "  5%|▌         | 16/298 [00:05<01:41,  2.77it/s]"
     ]
    },
    {
     "name": "stderr",
     "output_type": "stream",
     "text": [
      "\r",
      "  6%|▌         | 17/298 [00:05<01:36,  2.92it/s]"
     ]
    },
    {
     "name": "stderr",
     "output_type": "stream",
     "text": [
      "\r",
      "  6%|▌         | 18/298 [00:05<01:32,  3.03it/s]"
     ]
    },
    {
     "name": "stderr",
     "output_type": "stream",
     "text": [
      "\r",
      "  6%|▋         | 19/298 [00:06<01:31,  3.06it/s]"
     ]
    },
    {
     "name": "stderr",
     "output_type": "stream",
     "text": [
      "\r",
      "  7%|▋         | 20/298 [00:06<01:28,  3.16it/s]"
     ]
    },
    {
     "name": "stderr",
     "output_type": "stream",
     "text": [
      "\r",
      "  7%|▋         | 21/298 [00:06<01:26,  3.18it/s]"
     ]
    },
    {
     "name": "stderr",
     "output_type": "stream",
     "text": [
      "\r",
      "  7%|▋         | 22/298 [00:06<01:26,  3.21it/s]"
     ]
    },
    {
     "name": "stderr",
     "output_type": "stream",
     "text": [
      "\r",
      "  8%|▊         | 23/298 [00:07<01:24,  3.27it/s]"
     ]
    },
    {
     "name": "stderr",
     "output_type": "stream",
     "text": [
      "\r",
      "  8%|▊         | 24/298 [00:07<01:22,  3.31it/s]"
     ]
    },
    {
     "name": "stderr",
     "output_type": "stream",
     "text": [
      "\r",
      "  8%|▊         | 25/298 [00:07<01:22,  3.30it/s]"
     ]
    },
    {
     "name": "stderr",
     "output_type": "stream",
     "text": [
      "\r",
      "  9%|▊         | 26/298 [00:08<01:22,  3.31it/s]"
     ]
    },
    {
     "name": "stderr",
     "output_type": "stream",
     "text": [
      "\r",
      "  9%|▉         | 27/298 [00:08<01:23,  3.25it/s]"
     ]
    },
    {
     "name": "stderr",
     "output_type": "stream",
     "text": [
      "\r",
      "  9%|▉         | 28/298 [00:08<01:30,  2.98it/s]"
     ]
    },
    {
     "name": "stderr",
     "output_type": "stream",
     "text": [
      "\r",
      " 10%|▉         | 29/298 [00:09<01:28,  3.02it/s]"
     ]
    },
    {
     "name": "stderr",
     "output_type": "stream",
     "text": [
      "\r",
      " 10%|█         | 30/298 [00:09<01:27,  3.05it/s]"
     ]
    },
    {
     "name": "stderr",
     "output_type": "stream",
     "text": [
      "\r",
      " 10%|█         | 31/298 [00:09<01:26,  3.09it/s]"
     ]
    },
    {
     "name": "stderr",
     "output_type": "stream",
     "text": [
      "\r",
      " 11%|█         | 32/298 [00:10<01:24,  3.15it/s]"
     ]
    },
    {
     "name": "stderr",
     "output_type": "stream",
     "text": [
      "\r",
      " 11%|█         | 33/298 [00:10<01:22,  3.20it/s]"
     ]
    },
    {
     "name": "stderr",
     "output_type": "stream",
     "text": [
      "\r",
      " 11%|█▏        | 34/298 [00:10<01:21,  3.25it/s]"
     ]
    },
    {
     "name": "stderr",
     "output_type": "stream",
     "text": [
      "\r",
      " 12%|█▏        | 35/298 [00:10<01:18,  3.33it/s]"
     ]
    },
    {
     "name": "stderr",
     "output_type": "stream",
     "text": [
      "\r",
      " 12%|█▏        | 36/298 [00:11<01:17,  3.37it/s]"
     ]
    },
    {
     "name": "stderr",
     "output_type": "stream",
     "text": [
      "\r",
      " 12%|█▏        | 37/298 [00:11<01:18,  3.32it/s]"
     ]
    },
    {
     "name": "stderr",
     "output_type": "stream",
     "text": [
      "\r",
      " 13%|█▎        | 38/298 [00:11<01:19,  3.28it/s]"
     ]
    },
    {
     "name": "stderr",
     "output_type": "stream",
     "text": [
      "\r",
      " 13%|█▎        | 39/298 [00:12<01:22,  3.15it/s]"
     ]
    },
    {
     "name": "stderr",
     "output_type": "stream",
     "text": [
      "\r",
      " 13%|█▎        | 40/298 [00:12<01:27,  2.96it/s]"
     ]
    },
    {
     "name": "stderr",
     "output_type": "stream",
     "text": [
      "\r",
      " 14%|█▍        | 41/298 [00:13<01:34,  2.73it/s]"
     ]
    },
    {
     "name": "stderr",
     "output_type": "stream",
     "text": [
      "\r",
      " 14%|█▍        | 42/298 [00:13<01:43,  2.47it/s]"
     ]
    },
    {
     "name": "stderr",
     "output_type": "stream",
     "text": [
      "\r",
      " 14%|█▍        | 43/298 [00:13<01:36,  2.65it/s]"
     ]
    },
    {
     "name": "stderr",
     "output_type": "stream",
     "text": [
      "\r",
      " 15%|█▍        | 44/298 [00:14<01:30,  2.80it/s]"
     ]
    },
    {
     "name": "stderr",
     "output_type": "stream",
     "text": [
      "\r",
      " 15%|█▌        | 45/298 [00:14<01:32,  2.73it/s]"
     ]
    },
    {
     "name": "stderr",
     "output_type": "stream",
     "text": [
      "\r",
      " 15%|█▌        | 46/298 [00:14<01:30,  2.79it/s]"
     ]
    },
    {
     "name": "stderr",
     "output_type": "stream",
     "text": [
      "\r",
      " 16%|█▌        | 47/298 [00:15<01:34,  2.66it/s]"
     ]
    },
    {
     "name": "stderr",
     "output_type": "stream",
     "text": [
      "\r",
      " 16%|█▌        | 48/298 [00:15<01:36,  2.59it/s]"
     ]
    },
    {
     "name": "stderr",
     "output_type": "stream",
     "text": [
      "\r",
      " 16%|█▋        | 49/298 [00:16<01:40,  2.47it/s]"
     ]
    },
    {
     "name": "stderr",
     "output_type": "stream",
     "text": [
      "\r",
      " 17%|█▋        | 50/298 [00:16<01:42,  2.41it/s]"
     ]
    },
    {
     "name": "stderr",
     "output_type": "stream",
     "text": [
      "\r",
      " 17%|█▋        | 51/298 [00:16<01:33,  2.64it/s]"
     ]
    },
    {
     "name": "stderr",
     "output_type": "stream",
     "text": [
      "\r",
      " 17%|█▋        | 52/298 [00:17<01:34,  2.62it/s]"
     ]
    },
    {
     "name": "stderr",
     "output_type": "stream",
     "text": [
      "\r",
      " 18%|█▊        | 53/298 [00:17<01:28,  2.76it/s]"
     ]
    },
    {
     "name": "stderr",
     "output_type": "stream",
     "text": [
      "\r",
      " 18%|█▊        | 54/298 [00:17<01:25,  2.84it/s]"
     ]
    },
    {
     "name": "stderr",
     "output_type": "stream",
     "text": [
      "\r",
      " 18%|█▊        | 55/298 [00:18<01:22,  2.96it/s]"
     ]
    },
    {
     "name": "stderr",
     "output_type": "stream",
     "text": [
      "\r",
      " 19%|█▉        | 56/298 [00:18<01:17,  3.12it/s]"
     ]
    },
    {
     "name": "stderr",
     "output_type": "stream",
     "text": [
      "\r",
      " 19%|█▉        | 57/298 [00:18<01:16,  3.14it/s]"
     ]
    },
    {
     "name": "stderr",
     "output_type": "stream",
     "text": [
      "\r",
      " 19%|█▉        | 58/298 [00:19<01:15,  3.19it/s]"
     ]
    },
    {
     "name": "stderr",
     "output_type": "stream",
     "text": [
      "\r",
      " 20%|█▉        | 59/298 [00:19<01:14,  3.20it/s]"
     ]
    },
    {
     "name": "stderr",
     "output_type": "stream",
     "text": [
      "\r",
      " 20%|██        | 60/298 [00:19<01:17,  3.08it/s]"
     ]
    },
    {
     "name": "stderr",
     "output_type": "stream",
     "text": [
      "\r",
      " 20%|██        | 61/298 [00:20<01:20,  2.94it/s]"
     ]
    },
    {
     "name": "stderr",
     "output_type": "stream",
     "text": [
      "\r",
      " 21%|██        | 62/298 [00:20<01:17,  3.06it/s]"
     ]
    },
    {
     "name": "stderr",
     "output_type": "stream",
     "text": [
      "\r",
      " 21%|██        | 63/298 [00:20<01:13,  3.20it/s]"
     ]
    },
    {
     "name": "stderr",
     "output_type": "stream",
     "text": [
      "\r",
      " 21%|██▏       | 64/298 [00:21<01:13,  3.19it/s]"
     ]
    },
    {
     "name": "stderr",
     "output_type": "stream",
     "text": [
      "\r",
      " 22%|██▏       | 65/298 [00:21<01:13,  3.18it/s]"
     ]
    },
    {
     "name": "stderr",
     "output_type": "stream",
     "text": [
      "\r",
      " 22%|██▏       | 66/298 [00:21<01:14,  3.11it/s]"
     ]
    },
    {
     "name": "stderr",
     "output_type": "stream",
     "text": [
      "\r",
      " 22%|██▏       | 67/298 [00:22<01:13,  3.15it/s]"
     ]
    },
    {
     "name": "stderr",
     "output_type": "stream",
     "text": [
      "\r",
      " 23%|██▎       | 68/298 [00:22<01:12,  3.16it/s]"
     ]
    },
    {
     "name": "stderr",
     "output_type": "stream",
     "text": [
      "\r",
      " 23%|██▎       | 69/298 [00:22<01:16,  2.98it/s]"
     ]
    },
    {
     "name": "stderr",
     "output_type": "stream",
     "text": [
      "\r",
      " 23%|██▎       | 70/298 [00:23<01:21,  2.79it/s]"
     ]
    },
    {
     "name": "stderr",
     "output_type": "stream",
     "text": [
      "\r",
      " 24%|██▍       | 71/298 [00:23<01:22,  2.75it/s]"
     ]
    },
    {
     "name": "stderr",
     "output_type": "stream",
     "text": [
      "\r",
      " 24%|██▍       | 72/298 [00:23<01:24,  2.69it/s]"
     ]
    },
    {
     "name": "stderr",
     "output_type": "stream",
     "text": [
      "\r",
      " 24%|██▍       | 73/298 [00:24<01:25,  2.63it/s]"
     ]
    },
    {
     "name": "stderr",
     "output_type": "stream",
     "text": [
      "\r",
      " 25%|██▍       | 74/298 [00:24<01:19,  2.81it/s]"
     ]
    },
    {
     "name": "stderr",
     "output_type": "stream",
     "text": [
      "\r",
      " 25%|██▌       | 75/298 [00:24<01:16,  2.92it/s]"
     ]
    },
    {
     "name": "stderr",
     "output_type": "stream",
     "text": [
      "\r",
      " 26%|██▌       | 76/298 [00:25<01:14,  2.96it/s]"
     ]
    },
    {
     "name": "stderr",
     "output_type": "stream",
     "text": [
      "\r",
      " 26%|██▌       | 77/298 [00:25<01:14,  2.98it/s]"
     ]
    },
    {
     "name": "stderr",
     "output_type": "stream",
     "text": [
      "\r",
      " 26%|██▌       | 78/298 [00:26<01:21,  2.71it/s]"
     ]
    },
    {
     "name": "stderr",
     "output_type": "stream",
     "text": [
      "\r",
      " 27%|██▋       | 79/298 [00:26<01:31,  2.39it/s]"
     ]
    },
    {
     "name": "stderr",
     "output_type": "stream",
     "text": [
      "\r",
      " 27%|██▋       | 80/298 [00:26<01:29,  2.43it/s]"
     ]
    },
    {
     "name": "stderr",
     "output_type": "stream",
     "text": [
      "\r",
      " 27%|██▋       | 81/298 [00:27<01:23,  2.61it/s]"
     ]
    },
    {
     "name": "stderr",
     "output_type": "stream",
     "text": [
      "\r",
      " 28%|██▊       | 82/298 [00:27<01:35,  2.25it/s]"
     ]
    },
    {
     "name": "stderr",
     "output_type": "stream",
     "text": [
      "\r",
      " 28%|██▊       | 83/298 [00:28<01:31,  2.35it/s]"
     ]
    },
    {
     "name": "stderr",
     "output_type": "stream",
     "text": [
      "\r",
      " 28%|██▊       | 84/298 [00:28<01:25,  2.51it/s]"
     ]
    },
    {
     "name": "stderr",
     "output_type": "stream",
     "text": [
      "\r",
      " 29%|██▊       | 85/298 [00:28<01:19,  2.67it/s]"
     ]
    },
    {
     "name": "stderr",
     "output_type": "stream",
     "text": [
      "\r",
      " 29%|██▉       | 86/298 [00:29<01:21,  2.59it/s]"
     ]
    },
    {
     "name": "stderr",
     "output_type": "stream",
     "text": [
      "\r",
      " 29%|██▉       | 87/298 [00:29<01:17,  2.72it/s]"
     ]
    },
    {
     "name": "stderr",
     "output_type": "stream",
     "text": [
      "\r",
      " 30%|██▉       | 88/298 [00:30<01:20,  2.62it/s]"
     ]
    },
    {
     "name": "stderr",
     "output_type": "stream",
     "text": [
      "\r",
      " 30%|██▉       | 89/298 [00:30<01:21,  2.56it/s]"
     ]
    },
    {
     "name": "stderr",
     "output_type": "stream",
     "text": [
      "\r",
      " 30%|███       | 90/298 [00:30<01:18,  2.66it/s]"
     ]
    },
    {
     "name": "stderr",
     "output_type": "stream",
     "text": [
      "\r",
      " 31%|███       | 91/298 [00:31<01:19,  2.61it/s]"
     ]
    },
    {
     "name": "stderr",
     "output_type": "stream",
     "text": [
      "\r",
      " 31%|███       | 92/298 [00:31<01:13,  2.81it/s]"
     ]
    },
    {
     "name": "stderr",
     "output_type": "stream",
     "text": [
      "\r",
      " 31%|███       | 93/298 [00:31<01:10,  2.91it/s]"
     ]
    },
    {
     "name": "stderr",
     "output_type": "stream",
     "text": [
      "\r",
      " 32%|███▏      | 94/298 [00:32<01:07,  3.03it/s]"
     ]
    },
    {
     "name": "stderr",
     "output_type": "stream",
     "text": [
      "\r",
      " 32%|███▏      | 95/298 [00:32<01:05,  3.09it/s]"
     ]
    },
    {
     "name": "stderr",
     "output_type": "stream",
     "text": [
      "\r",
      " 32%|███▏      | 96/298 [00:32<01:03,  3.20it/s]"
     ]
    },
    {
     "name": "stderr",
     "output_type": "stream",
     "text": [
      "\r",
      " 33%|███▎      | 97/298 [00:33<01:02,  3.24it/s]"
     ]
    },
    {
     "name": "stderr",
     "output_type": "stream",
     "text": [
      "\r",
      " 33%|███▎      | 98/298 [00:33<01:01,  3.23it/s]"
     ]
    },
    {
     "name": "stderr",
     "output_type": "stream",
     "text": [
      "\r",
      " 33%|███▎      | 99/298 [00:33<01:06,  3.00it/s]"
     ]
    },
    {
     "name": "stderr",
     "output_type": "stream",
     "text": [
      "\r",
      " 34%|███▎      | 100/298 [00:34<01:09,  2.86it/s]"
     ]
    },
    {
     "name": "stderr",
     "output_type": "stream",
     "text": [
      "\r",
      " 34%|███▍      | 101/298 [00:34<01:07,  2.94it/s]"
     ]
    },
    {
     "name": "stderr",
     "output_type": "stream",
     "text": [
      "\r",
      " 34%|███▍      | 102/298 [00:34<01:04,  3.03it/s]"
     ]
    },
    {
     "name": "stderr",
     "output_type": "stream",
     "text": [
      "\r",
      " 35%|███▍      | 103/298 [00:35<01:04,  3.05it/s]"
     ]
    },
    {
     "name": "stderr",
     "output_type": "stream",
     "text": [
      "\r",
      " 35%|███▍      | 104/298 [00:35<01:02,  3.11it/s]"
     ]
    },
    {
     "name": "stderr",
     "output_type": "stream",
     "text": [
      "\r",
      " 35%|███▌      | 105/298 [00:35<01:00,  3.20it/s]"
     ]
    },
    {
     "name": "stderr",
     "output_type": "stream",
     "text": [
      "\r",
      " 36%|███▌      | 106/298 [00:35<00:58,  3.30it/s]"
     ]
    },
    {
     "name": "stderr",
     "output_type": "stream",
     "text": [
      "\r",
      " 36%|███▌      | 107/298 [00:36<00:58,  3.29it/s]"
     ]
    },
    {
     "name": "stderr",
     "output_type": "stream",
     "text": [
      "\r",
      " 36%|███▌      | 108/298 [00:36<01:02,  3.04it/s]"
     ]
    },
    {
     "name": "stderr",
     "output_type": "stream",
     "text": [
      "\r",
      " 37%|███▋      | 109/298 [00:36<01:01,  3.09it/s]"
     ]
    },
    {
     "name": "stderr",
     "output_type": "stream",
     "text": [
      "\r",
      " 37%|███▋      | 110/298 [00:37<00:59,  3.14it/s]"
     ]
    },
    {
     "name": "stderr",
     "output_type": "stream",
     "text": [
      "\r",
      " 37%|███▋      | 111/298 [00:37<00:58,  3.21it/s]"
     ]
    },
    {
     "name": "stderr",
     "output_type": "stream",
     "text": [
      "\r",
      " 38%|███▊      | 112/298 [00:37<00:57,  3.25it/s]"
     ]
    },
    {
     "name": "stderr",
     "output_type": "stream",
     "text": [
      "\r",
      " 38%|███▊      | 113/298 [00:38<00:56,  3.27it/s]"
     ]
    },
    {
     "name": "stderr",
     "output_type": "stream",
     "text": [
      "\r",
      " 38%|███▊      | 114/298 [00:38<00:56,  3.25it/s]"
     ]
    },
    {
     "name": "stderr",
     "output_type": "stream",
     "text": [
      "\r",
      " 39%|███▊      | 115/298 [00:38<01:01,  2.98it/s]"
     ]
    },
    {
     "name": "stderr",
     "output_type": "stream",
     "text": [
      "\r",
      " 39%|███▉      | 116/298 [00:39<00:59,  3.04it/s]"
     ]
    },
    {
     "name": "stderr",
     "output_type": "stream",
     "text": [
      "\r",
      " 39%|███▉      | 117/298 [00:39<00:57,  3.13it/s]"
     ]
    },
    {
     "name": "stderr",
     "output_type": "stream",
     "text": [
      "\r",
      " 40%|███▉      | 118/298 [00:39<00:57,  3.12it/s]"
     ]
    },
    {
     "name": "stderr",
     "output_type": "stream",
     "text": [
      "\r",
      " 40%|███▉      | 119/298 [00:40<00:57,  3.13it/s]"
     ]
    },
    {
     "name": "stderr",
     "output_type": "stream",
     "text": [
      "\r",
      " 40%|████      | 120/298 [00:40<00:56,  3.15it/s]"
     ]
    },
    {
     "name": "stderr",
     "output_type": "stream",
     "text": [
      "\r",
      " 41%|████      | 121/298 [00:40<00:56,  3.15it/s]"
     ]
    },
    {
     "name": "stderr",
     "output_type": "stream",
     "text": [
      "\r",
      " 41%|████      | 122/298 [00:41<00:54,  3.21it/s]"
     ]
    },
    {
     "name": "stderr",
     "output_type": "stream",
     "text": [
      "\r",
      " 41%|████▏     | 123/298 [00:41<00:54,  3.24it/s]"
     ]
    },
    {
     "name": "stderr",
     "output_type": "stream",
     "text": [
      "\r",
      " 42%|████▏     | 124/298 [00:41<00:53,  3.24it/s]"
     ]
    },
    {
     "name": "stderr",
     "output_type": "stream",
     "text": [
      "\r",
      " 42%|████▏     | 125/298 [00:41<00:53,  3.23it/s]"
     ]
    },
    {
     "name": "stderr",
     "output_type": "stream",
     "text": [
      "\r",
      " 42%|████▏     | 126/298 [00:42<00:52,  3.25it/s]"
     ]
    },
    {
     "name": "stderr",
     "output_type": "stream",
     "text": [
      "\r",
      " 43%|████▎     | 127/298 [00:42<00:52,  3.24it/s]"
     ]
    },
    {
     "name": "stderr",
     "output_type": "stream",
     "text": [
      "\r",
      " 43%|████▎     | 128/298 [00:42<00:52,  3.22it/s]"
     ]
    },
    {
     "name": "stderr",
     "output_type": "stream",
     "text": [
      "\r",
      " 43%|████▎     | 129/298 [00:43<00:52,  3.24it/s]"
     ]
    },
    {
     "name": "stderr",
     "output_type": "stream",
     "text": [
      "\r",
      " 44%|████▎     | 130/298 [00:43<00:52,  3.20it/s]"
     ]
    },
    {
     "name": "stderr",
     "output_type": "stream",
     "text": [
      "\r",
      " 44%|████▍     | 131/298 [00:43<00:52,  3.18it/s]"
     ]
    },
    {
     "name": "stderr",
     "output_type": "stream",
     "text": [
      "\r",
      " 44%|████▍     | 132/298 [00:44<00:51,  3.25it/s]"
     ]
    },
    {
     "name": "stderr",
     "output_type": "stream",
     "text": [
      "\r",
      " 45%|████▍     | 133/298 [00:44<00:50,  3.26it/s]"
     ]
    },
    {
     "name": "stderr",
     "output_type": "stream",
     "text": [
      "\r",
      " 45%|████▍     | 134/298 [00:44<00:51,  3.21it/s]"
     ]
    },
    {
     "name": "stderr",
     "output_type": "stream",
     "text": [
      "\r",
      " 45%|████▌     | 135/298 [00:45<00:50,  3.21it/s]"
     ]
    },
    {
     "name": "stderr",
     "output_type": "stream",
     "text": [
      "\r",
      " 46%|████▌     | 136/298 [00:45<00:49,  3.25it/s]"
     ]
    },
    {
     "name": "stderr",
     "output_type": "stream",
     "text": [
      "\r",
      " 46%|████▌     | 137/298 [00:45<00:49,  3.27it/s]"
     ]
    },
    {
     "name": "stderr",
     "output_type": "stream",
     "text": [
      "\r",
      " 46%|████▋     | 138/298 [00:45<00:49,  3.26it/s]"
     ]
    },
    {
     "name": "stderr",
     "output_type": "stream",
     "text": [
      "\r",
      " 47%|████▋     | 139/298 [00:46<00:49,  3.24it/s]"
     ]
    },
    {
     "name": "stderr",
     "output_type": "stream",
     "text": [
      "\r",
      " 47%|████▋     | 140/298 [00:46<00:52,  3.00it/s]"
     ]
    },
    {
     "name": "stderr",
     "output_type": "stream",
     "text": [
      "\r",
      " 47%|████▋     | 141/298 [00:47<00:55,  2.82it/s]"
     ]
    },
    {
     "name": "stderr",
     "output_type": "stream",
     "text": [
      "\r",
      " 48%|████▊     | 142/298 [00:47<00:56,  2.78it/s]"
     ]
    },
    {
     "name": "stderr",
     "output_type": "stream",
     "text": [
      "\r",
      " 48%|████▊     | 143/298 [00:47<00:57,  2.69it/s]"
     ]
    },
    {
     "name": "stderr",
     "output_type": "stream",
     "text": [
      "\r",
      " 48%|████▊     | 144/298 [00:48<00:54,  2.82it/s]"
     ]
    },
    {
     "name": "stderr",
     "output_type": "stream",
     "text": [
      "\r",
      " 49%|████▊     | 145/298 [00:48<00:53,  2.86it/s]"
     ]
    },
    {
     "name": "stderr",
     "output_type": "stream",
     "text": [
      "\r",
      " 49%|████▉     | 146/298 [00:48<00:57,  2.64it/s]"
     ]
    },
    {
     "name": "stderr",
     "output_type": "stream",
     "text": [
      "\r",
      " 49%|████▉     | 147/298 [00:49<00:54,  2.78it/s]"
     ]
    },
    {
     "name": "stderr",
     "output_type": "stream",
     "text": [
      "\r",
      " 50%|████▉     | 148/298 [00:49<00:52,  2.88it/s]"
     ]
    },
    {
     "name": "stderr",
     "output_type": "stream",
     "text": [
      "\r",
      " 50%|█████     | 149/298 [00:49<00:53,  2.80it/s]"
     ]
    },
    {
     "name": "stderr",
     "output_type": "stream",
     "text": [
      "\r",
      " 50%|█████     | 150/298 [00:50<00:50,  2.96it/s]"
     ]
    },
    {
     "name": "stderr",
     "output_type": "stream",
     "text": [
      "\r",
      " 51%|█████     | 151/298 [00:50<00:48,  3.05it/s]"
     ]
    },
    {
     "name": "stderr",
     "output_type": "stream",
     "text": [
      "\r",
      " 51%|█████     | 152/298 [00:50<00:47,  3.05it/s]"
     ]
    },
    {
     "name": "stderr",
     "output_type": "stream",
     "text": [
      "\r",
      " 51%|█████▏    | 153/298 [00:51<00:47,  3.06it/s]"
     ]
    },
    {
     "name": "stderr",
     "output_type": "stream",
     "text": [
      "\r",
      " 52%|█████▏    | 154/298 [00:51<00:46,  3.12it/s]"
     ]
    },
    {
     "name": "stderr",
     "output_type": "stream",
     "text": [
      "\r",
      " 52%|█████▏    | 155/298 [00:51<00:45,  3.12it/s]"
     ]
    },
    {
     "name": "stderr",
     "output_type": "stream",
     "text": [
      "\r",
      " 52%|█████▏    | 156/298 [00:52<00:45,  3.15it/s]"
     ]
    },
    {
     "name": "stderr",
     "output_type": "stream",
     "text": [
      "\r",
      " 53%|█████▎    | 157/298 [00:52<00:44,  3.18it/s]"
     ]
    },
    {
     "name": "stderr",
     "output_type": "stream",
     "text": [
      "\r",
      " 53%|█████▎    | 158/298 [00:52<00:44,  3.15it/s]"
     ]
    },
    {
     "name": "stderr",
     "output_type": "stream",
     "text": [
      "\r",
      " 53%|█████▎    | 159/298 [00:53<00:43,  3.19it/s]"
     ]
    },
    {
     "name": "stderr",
     "output_type": "stream",
     "text": [
      "\r",
      " 54%|█████▎    | 160/298 [00:53<00:47,  2.90it/s]"
     ]
    },
    {
     "name": "stderr",
     "output_type": "stream",
     "text": [
      "\r",
      " 54%|█████▍    | 161/298 [00:53<00:53,  2.58it/s]"
     ]
    },
    {
     "name": "stderr",
     "output_type": "stream",
     "text": [
      "\r",
      " 54%|█████▍    | 162/298 [00:54<00:55,  2.45it/s]"
     ]
    },
    {
     "name": "stderr",
     "output_type": "stream",
     "text": [
      "\r",
      " 55%|█████▍    | 163/298 [00:54<00:54,  2.48it/s]"
     ]
    },
    {
     "name": "stderr",
     "output_type": "stream",
     "text": [
      "\r",
      " 55%|█████▌    | 164/298 [00:55<00:54,  2.46it/s]"
     ]
    },
    {
     "name": "stderr",
     "output_type": "stream",
     "text": [
      "\r",
      " 55%|█████▌    | 165/298 [00:55<00:52,  2.52it/s]"
     ]
    },
    {
     "name": "stderr",
     "output_type": "stream",
     "text": [
      "\r",
      " 56%|█████▌    | 166/298 [00:55<00:48,  2.71it/s]"
     ]
    },
    {
     "name": "stderr",
     "output_type": "stream",
     "text": [
      "\r",
      " 56%|█████▌    | 167/298 [00:56<00:45,  2.87it/s]"
     ]
    },
    {
     "name": "stderr",
     "output_type": "stream",
     "text": [
      "\r",
      " 56%|█████▋    | 168/298 [00:56<00:44,  2.91it/s]"
     ]
    },
    {
     "name": "stderr",
     "output_type": "stream",
     "text": [
      "\r",
      " 57%|█████▋    | 169/298 [00:56<00:42,  3.04it/s]"
     ]
    },
    {
     "name": "stderr",
     "output_type": "stream",
     "text": [
      "\r",
      " 57%|█████▋    | 170/298 [00:57<00:42,  3.02it/s]"
     ]
    },
    {
     "name": "stderr",
     "output_type": "stream",
     "text": [
      "\r",
      " 57%|█████▋    | 171/298 [00:57<00:42,  3.00it/s]"
     ]
    },
    {
     "name": "stderr",
     "output_type": "stream",
     "text": [
      "\r",
      " 58%|█████▊    | 172/298 [00:57<00:41,  3.06it/s]"
     ]
    },
    {
     "name": "stderr",
     "output_type": "stream",
     "text": [
      "\r",
      " 58%|█████▊    | 173/298 [00:58<00:43,  2.87it/s]"
     ]
    },
    {
     "name": "stderr",
     "output_type": "stream",
     "text": [
      "\r",
      " 58%|█████▊    | 174/298 [00:58<00:42,  2.94it/s]"
     ]
    },
    {
     "name": "stderr",
     "output_type": "stream",
     "text": [
      "\r",
      " 59%|█████▊    | 175/298 [00:59<00:49,  2.47it/s]"
     ]
    },
    {
     "name": "stderr",
     "output_type": "stream",
     "text": [
      "\r",
      " 59%|█████▉    | 176/298 [00:59<00:46,  2.65it/s]"
     ]
    },
    {
     "name": "stderr",
     "output_type": "stream",
     "text": [
      "\r",
      " 59%|█████▉    | 177/298 [00:59<00:44,  2.72it/s]"
     ]
    },
    {
     "name": "stderr",
     "output_type": "stream",
     "text": [
      "\r",
      " 60%|█████▉    | 178/298 [01:00<00:41,  2.86it/s]"
     ]
    },
    {
     "name": "stderr",
     "output_type": "stream",
     "text": [
      "\r",
      " 60%|██████    | 179/298 [01:00<00:40,  2.96it/s]"
     ]
    },
    {
     "name": "stderr",
     "output_type": "stream",
     "text": [
      "\r",
      " 60%|██████    | 180/298 [01:00<00:38,  3.04it/s]"
     ]
    },
    {
     "name": "stderr",
     "output_type": "stream",
     "text": [
      "\r",
      " 61%|██████    | 181/298 [01:01<00:38,  3.04it/s]"
     ]
    },
    {
     "name": "stderr",
     "output_type": "stream",
     "text": [
      "\r",
      " 61%|██████    | 182/298 [01:01<00:37,  3.10it/s]"
     ]
    },
    {
     "name": "stderr",
     "output_type": "stream",
     "text": [
      "\r",
      " 61%|██████▏   | 183/298 [01:01<00:39,  2.93it/s]"
     ]
    },
    {
     "name": "stderr",
     "output_type": "stream",
     "text": [
      "\r",
      " 62%|██████▏   | 184/298 [01:02<00:38,  2.94it/s]"
     ]
    },
    {
     "name": "stderr",
     "output_type": "stream",
     "text": [
      "\r",
      " 62%|██████▏   | 185/298 [01:02<00:40,  2.80it/s]"
     ]
    },
    {
     "name": "stderr",
     "output_type": "stream",
     "text": [
      "\r",
      " 62%|██████▏   | 186/298 [01:02<00:38,  2.89it/s]"
     ]
    },
    {
     "name": "stderr",
     "output_type": "stream",
     "text": [
      "\r",
      " 63%|██████▎   | 187/298 [01:03<00:37,  2.96it/s]"
     ]
    },
    {
     "name": "stderr",
     "output_type": "stream",
     "text": [
      "\r",
      " 63%|██████▎   | 188/298 [01:03<00:36,  3.03it/s]"
     ]
    },
    {
     "name": "stderr",
     "output_type": "stream",
     "text": [
      "\r",
      " 63%|██████▎   | 189/298 [01:03<00:35,  3.10it/s]"
     ]
    },
    {
     "name": "stderr",
     "output_type": "stream",
     "text": [
      "\r",
      " 64%|██████▍   | 190/298 [01:04<00:34,  3.16it/s]"
     ]
    },
    {
     "name": "stderr",
     "output_type": "stream",
     "text": [
      "\r",
      " 64%|██████▍   | 191/298 [01:04<00:34,  3.14it/s]"
     ]
    },
    {
     "name": "stderr",
     "output_type": "stream",
     "text": [
      "\r",
      " 64%|██████▍   | 192/298 [01:04<00:34,  3.10it/s]"
     ]
    },
    {
     "name": "stderr",
     "output_type": "stream",
     "text": [
      "\r",
      " 65%|██████▍   | 193/298 [01:04<00:33,  3.15it/s]"
     ]
    },
    {
     "name": "stderr",
     "output_type": "stream",
     "text": [
      "\r",
      " 65%|██████▌   | 194/298 [01:05<00:32,  3.18it/s]"
     ]
    },
    {
     "name": "stderr",
     "output_type": "stream",
     "text": [
      "\r",
      " 65%|██████▌   | 195/298 [01:05<00:32,  3.19it/s]"
     ]
    },
    {
     "name": "stderr",
     "output_type": "stream",
     "text": [
      "\r",
      " 66%|██████▌   | 196/298 [01:05<00:31,  3.24it/s]"
     ]
    },
    {
     "name": "stderr",
     "output_type": "stream",
     "text": [
      "\r",
      " 66%|██████▌   | 197/298 [01:06<00:32,  3.14it/s]"
     ]
    },
    {
     "name": "stderr",
     "output_type": "stream",
     "text": [
      "\r",
      " 66%|██████▋   | 198/298 [01:06<00:33,  2.98it/s]"
     ]
    },
    {
     "name": "stderr",
     "output_type": "stream",
     "text": [
      "\r",
      " 67%|██████▋   | 199/298 [01:07<00:36,  2.71it/s]"
     ]
    },
    {
     "name": "stderr",
     "output_type": "stream",
     "text": [
      "\r",
      " 67%|██████▋   | 200/298 [01:07<00:34,  2.88it/s]"
     ]
    },
    {
     "name": "stderr",
     "output_type": "stream",
     "text": [
      "\r",
      " 67%|██████▋   | 201/298 [01:07<00:32,  2.99it/s]"
     ]
    },
    {
     "name": "stderr",
     "output_type": "stream",
     "text": [
      "\r",
      " 68%|██████▊   | 202/298 [01:07<00:31,  3.05it/s]"
     ]
    },
    {
     "name": "stderr",
     "output_type": "stream",
     "text": [
      "\r",
      " 68%|██████▊   | 203/298 [01:08<00:30,  3.07it/s]"
     ]
    },
    {
     "name": "stderr",
     "output_type": "stream",
     "text": [
      "\r",
      " 68%|██████▊   | 204/298 [01:08<00:29,  3.13it/s]"
     ]
    },
    {
     "name": "stderr",
     "output_type": "stream",
     "text": [
      "\r",
      " 69%|██████▉   | 205/298 [01:08<00:29,  3.18it/s]"
     ]
    },
    {
     "name": "stderr",
     "output_type": "stream",
     "text": [
      "\r",
      " 69%|██████▉   | 206/298 [01:09<00:31,  2.96it/s]"
     ]
    },
    {
     "name": "stderr",
     "output_type": "stream",
     "text": [
      "\r",
      " 69%|██████▉   | 207/298 [01:09<00:32,  2.81it/s]"
     ]
    },
    {
     "name": "stderr",
     "output_type": "stream",
     "text": [
      "\r",
      " 70%|██████▉   | 208/298 [01:09<00:30,  2.99it/s]"
     ]
    },
    {
     "name": "stderr",
     "output_type": "stream",
     "text": [
      "\r",
      " 70%|███████   | 209/298 [01:10<00:29,  3.06it/s]"
     ]
    },
    {
     "name": "stderr",
     "output_type": "stream",
     "text": [
      "\r",
      " 70%|███████   | 210/298 [01:10<00:27,  3.18it/s]"
     ]
    },
    {
     "name": "stderr",
     "output_type": "stream",
     "text": [
      "\r",
      " 71%|███████   | 211/298 [01:10<00:26,  3.24it/s]"
     ]
    },
    {
     "name": "stderr",
     "output_type": "stream",
     "text": [
      "\r",
      " 71%|███████   | 212/298 [01:11<00:25,  3.31it/s]"
     ]
    },
    {
     "name": "stderr",
     "output_type": "stream",
     "text": [
      "\r",
      " 71%|███████▏  | 213/298 [01:11<00:25,  3.27it/s]"
     ]
    },
    {
     "name": "stderr",
     "output_type": "stream",
     "text": [
      "\r",
      " 72%|███████▏  | 214/298 [01:11<00:26,  3.19it/s]"
     ]
    },
    {
     "name": "stderr",
     "output_type": "stream",
     "text": [
      "\r",
      " 72%|███████▏  | 215/298 [01:12<00:27,  2.99it/s]"
     ]
    },
    {
     "name": "stderr",
     "output_type": "stream",
     "text": [
      "\r",
      " 72%|███████▏  | 216/298 [01:12<00:30,  2.73it/s]"
     ]
    },
    {
     "name": "stderr",
     "output_type": "stream",
     "text": [
      "\r",
      " 73%|███████▎  | 217/298 [01:12<00:27,  2.92it/s]"
     ]
    },
    {
     "name": "stderr",
     "output_type": "stream",
     "text": [
      "\r",
      " 73%|███████▎  | 218/298 [01:13<00:26,  3.01it/s]"
     ]
    },
    {
     "name": "stderr",
     "output_type": "stream",
     "text": [
      "\r",
      " 73%|███████▎  | 219/298 [01:13<00:25,  3.07it/s]"
     ]
    },
    {
     "name": "stderr",
     "output_type": "stream",
     "text": [
      "\r",
      " 74%|███████▍  | 220/298 [01:13<00:25,  3.12it/s]"
     ]
    },
    {
     "name": "stderr",
     "output_type": "stream",
     "text": [
      "\r",
      " 74%|███████▍  | 221/298 [01:14<00:24,  3.12it/s]"
     ]
    },
    {
     "name": "stderr",
     "output_type": "stream",
     "text": [
      "\r",
      " 74%|███████▍  | 222/298 [01:14<00:23,  3.18it/s]"
     ]
    },
    {
     "name": "stderr",
     "output_type": "stream",
     "text": [
      "\r",
      " 75%|███████▍  | 223/298 [01:14<00:22,  3.26it/s]"
     ]
    },
    {
     "name": "stderr",
     "output_type": "stream",
     "text": [
      "\r",
      " 75%|███████▌  | 224/298 [01:15<00:22,  3.23it/s]"
     ]
    },
    {
     "name": "stderr",
     "output_type": "stream",
     "text": [
      "\r",
      " 76%|███████▌  | 225/298 [01:15<00:22,  3.25it/s]"
     ]
    },
    {
     "name": "stderr",
     "output_type": "stream",
     "text": [
      "\r",
      " 76%|███████▌  | 226/298 [01:15<00:22,  3.27it/s]"
     ]
    },
    {
     "name": "stderr",
     "output_type": "stream",
     "text": [
      "\r",
      " 76%|███████▌  | 227/298 [01:15<00:21,  3.25it/s]"
     ]
    },
    {
     "name": "stderr",
     "output_type": "stream",
     "text": [
      "\r",
      " 77%|███████▋  | 228/298 [01:16<00:21,  3.23it/s]"
     ]
    },
    {
     "name": "stderr",
     "output_type": "stream",
     "text": [
      "\r",
      " 77%|███████▋  | 229/298 [01:16<00:21,  3.21it/s]"
     ]
    },
    {
     "name": "stderr",
     "output_type": "stream",
     "text": [
      "\r",
      " 77%|███████▋  | 230/298 [01:16<00:21,  3.21it/s]"
     ]
    },
    {
     "name": "stderr",
     "output_type": "stream",
     "text": [
      "\r",
      " 78%|███████▊  | 231/298 [01:17<00:20,  3.20it/s]"
     ]
    },
    {
     "name": "stderr",
     "output_type": "stream",
     "text": [
      "\r",
      " 78%|███████▊  | 232/298 [01:17<00:20,  3.18it/s]"
     ]
    },
    {
     "name": "stderr",
     "output_type": "stream",
     "text": [
      "\r",
      " 78%|███████▊  | 233/298 [01:17<00:21,  3.08it/s]"
     ]
    },
    {
     "name": "stderr",
     "output_type": "stream",
     "text": [
      "\r",
      " 79%|███████▊  | 234/298 [01:18<00:23,  2.68it/s]"
     ]
    },
    {
     "name": "stderr",
     "output_type": "stream",
     "text": [
      "\r",
      " 79%|███████▉  | 235/298 [01:18<00:26,  2.41it/s]"
     ]
    },
    {
     "name": "stderr",
     "output_type": "stream",
     "text": [
      "\r",
      " 79%|███████▉  | 236/298 [01:19<00:24,  2.58it/s]"
     ]
    },
    {
     "name": "stderr",
     "output_type": "stream",
     "text": [
      "\r",
      " 80%|███████▉  | 237/298 [01:19<00:22,  2.77it/s]"
     ]
    },
    {
     "name": "stderr",
     "output_type": "stream",
     "text": [
      "\r",
      " 80%|███████▉  | 238/298 [01:19<00:20,  2.93it/s]"
     ]
    },
    {
     "name": "stderr",
     "output_type": "stream",
     "text": [
      "\r",
      " 80%|████████  | 239/298 [01:20<00:19,  3.00it/s]"
     ]
    },
    {
     "name": "stderr",
     "output_type": "stream",
     "text": [
      "\r",
      " 81%|████████  | 240/298 [01:20<00:19,  3.02it/s]"
     ]
    },
    {
     "name": "stderr",
     "output_type": "stream",
     "text": [
      "\r",
      " 81%|████████  | 241/298 [01:20<00:18,  3.06it/s]"
     ]
    },
    {
     "name": "stderr",
     "output_type": "stream",
     "text": [
      "\r",
      " 81%|████████  | 242/298 [01:21<00:18,  2.97it/s]"
     ]
    },
    {
     "name": "stderr",
     "output_type": "stream",
     "text": [
      "\r",
      " 82%|████████▏ | 243/298 [01:21<00:18,  2.93it/s]"
     ]
    },
    {
     "name": "stderr",
     "output_type": "stream",
     "text": [
      "\r",
      " 82%|████████▏ | 244/298 [01:21<00:19,  2.77it/s]"
     ]
    },
    {
     "name": "stderr",
     "output_type": "stream",
     "text": [
      "\r",
      " 82%|████████▏ | 245/298 [01:22<00:18,  2.81it/s]"
     ]
    },
    {
     "name": "stderr",
     "output_type": "stream",
     "text": [
      "\r",
      " 83%|████████▎ | 246/298 [01:22<00:18,  2.75it/s]"
     ]
    },
    {
     "name": "stderr",
     "output_type": "stream",
     "text": [
      "\r",
      " 83%|████████▎ | 247/298 [01:22<00:17,  2.94it/s]"
     ]
    },
    {
     "name": "stderr",
     "output_type": "stream",
     "text": [
      "\r",
      " 83%|████████▎ | 248/298 [01:23<00:16,  3.09it/s]"
     ]
    },
    {
     "name": "stderr",
     "output_type": "stream",
     "text": [
      "\r",
      " 84%|████████▎ | 249/298 [01:23<00:15,  3.20it/s]"
     ]
    },
    {
     "name": "stderr",
     "output_type": "stream",
     "text": [
      "\r",
      " 84%|████████▍ | 250/298 [01:23<00:14,  3.21it/s]"
     ]
    },
    {
     "name": "stderr",
     "output_type": "stream",
     "text": [
      "\r",
      " 84%|████████▍ | 251/298 [01:24<00:14,  3.26it/s]"
     ]
    },
    {
     "name": "stderr",
     "output_type": "stream",
     "text": [
      "\r",
      " 85%|████████▍ | 252/298 [01:24<00:14,  3.25it/s]"
     ]
    },
    {
     "name": "stderr",
     "output_type": "stream",
     "text": [
      "\r",
      " 85%|████████▍ | 253/298 [01:24<00:13,  3.29it/s]"
     ]
    },
    {
     "name": "stderr",
     "output_type": "stream",
     "text": [
      "\r",
      " 85%|████████▌ | 254/298 [01:25<00:13,  3.19it/s]"
     ]
    },
    {
     "name": "stderr",
     "output_type": "stream",
     "text": [
      "\r",
      " 86%|████████▌ | 255/298 [01:25<00:15,  2.86it/s]"
     ]
    },
    {
     "name": "stderr",
     "output_type": "stream",
     "text": [
      "\r",
      " 86%|████████▌ | 256/298 [01:25<00:16,  2.55it/s]"
     ]
    },
    {
     "name": "stderr",
     "output_type": "stream",
     "text": [
      "\r",
      " 86%|████████▌ | 257/298 [01:26<00:16,  2.54it/s]"
     ]
    },
    {
     "name": "stderr",
     "output_type": "stream",
     "text": [
      "\r",
      " 87%|████████▋ | 258/298 [01:26<00:14,  2.74it/s]"
     ]
    },
    {
     "name": "stderr",
     "output_type": "stream",
     "text": [
      "\r",
      " 87%|████████▋ | 259/298 [01:26<00:13,  2.85it/s]"
     ]
    },
    {
     "name": "stderr",
     "output_type": "stream",
     "text": [
      "\r",
      " 87%|████████▋ | 260/298 [01:27<00:12,  2.92it/s]"
     ]
    },
    {
     "name": "stderr",
     "output_type": "stream",
     "text": [
      "\r",
      " 88%|████████▊ | 261/298 [01:27<00:12,  2.99it/s]"
     ]
    },
    {
     "name": "stderr",
     "output_type": "stream",
     "text": [
      "\r",
      " 88%|████████▊ | 262/298 [01:27<00:12,  2.84it/s]"
     ]
    },
    {
     "name": "stderr",
     "output_type": "stream",
     "text": [
      "\r",
      " 88%|████████▊ | 263/298 [01:28<00:12,  2.91it/s]"
     ]
    },
    {
     "name": "stderr",
     "output_type": "stream",
     "text": [
      "\r",
      " 89%|████████▊ | 264/298 [01:28<00:11,  3.01it/s]"
     ]
    },
    {
     "name": "stderr",
     "output_type": "stream",
     "text": [
      "\r",
      " 89%|████████▉ | 265/298 [01:28<00:10,  3.08it/s]"
     ]
    },
    {
     "name": "stderr",
     "output_type": "stream",
     "text": [
      "\r",
      " 89%|████████▉ | 266/298 [01:29<00:10,  3.14it/s]"
     ]
    },
    {
     "name": "stderr",
     "output_type": "stream",
     "text": [
      "\r",
      " 90%|████████▉ | 267/298 [01:29<00:09,  3.17it/s]"
     ]
    },
    {
     "name": "stderr",
     "output_type": "stream",
     "text": [
      "\r",
      " 90%|████████▉ | 268/298 [01:29<00:09,  3.11it/s]"
     ]
    },
    {
     "name": "stderr",
     "output_type": "stream",
     "text": [
      "\r",
      " 90%|█████████ | 269/298 [01:30<00:09,  3.10it/s]"
     ]
    },
    {
     "name": "stderr",
     "output_type": "stream",
     "text": [
      "\r",
      " 91%|█████████ | 270/298 [01:30<00:09,  3.01it/s]"
     ]
    },
    {
     "name": "stderr",
     "output_type": "stream",
     "text": [
      "\r",
      " 91%|█████████ | 271/298 [01:30<00:09,  2.87it/s]"
     ]
    },
    {
     "name": "stderr",
     "output_type": "stream",
     "text": [
      "\r",
      " 91%|█████████▏| 272/298 [01:31<00:09,  2.63it/s]"
     ]
    },
    {
     "name": "stderr",
     "output_type": "stream",
     "text": [
      "\r",
      " 92%|█████████▏| 273/298 [01:31<00:09,  2.61it/s]"
     ]
    },
    {
     "name": "stderr",
     "output_type": "stream",
     "text": [
      "\r",
      " 92%|█████████▏| 274/298 [01:32<00:08,  2.80it/s]"
     ]
    },
    {
     "name": "stderr",
     "output_type": "stream",
     "text": [
      "\r",
      " 92%|█████████▏| 275/298 [01:32<00:07,  2.97it/s]"
     ]
    },
    {
     "name": "stderr",
     "output_type": "stream",
     "text": [
      "\r",
      " 93%|█████████▎| 276/298 [01:32<00:07,  3.10it/s]"
     ]
    },
    {
     "name": "stderr",
     "output_type": "stream",
     "text": [
      "\r",
      " 93%|█████████▎| 277/298 [01:32<00:06,  3.16it/s]"
     ]
    },
    {
     "name": "stderr",
     "output_type": "stream",
     "text": [
      "\r",
      " 93%|█████████▎| 278/298 [01:33<00:06,  3.21it/s]"
     ]
    },
    {
     "name": "stderr",
     "output_type": "stream",
     "text": [
      "\r",
      " 94%|█████████▎| 279/298 [01:33<00:05,  3.19it/s]"
     ]
    },
    {
     "name": "stderr",
     "output_type": "stream",
     "text": [
      "\r",
      " 94%|█████████▍| 280/298 [01:33<00:05,  3.25it/s]"
     ]
    },
    {
     "name": "stderr",
     "output_type": "stream",
     "text": [
      "\r",
      " 94%|█████████▍| 281/298 [01:34<00:05,  3.23it/s]"
     ]
    },
    {
     "name": "stderr",
     "output_type": "stream",
     "text": [
      "\r",
      " 95%|█████████▍| 282/298 [01:34<00:04,  3.21it/s]"
     ]
    },
    {
     "name": "stderr",
     "output_type": "stream",
     "text": [
      "\r",
      " 95%|█████████▍| 283/298 [01:34<00:04,  3.21it/s]"
     ]
    },
    {
     "name": "stderr",
     "output_type": "stream",
     "text": [
      "\r",
      " 95%|█████████▌| 284/298 [01:35<00:04,  3.12it/s]"
     ]
    },
    {
     "name": "stderr",
     "output_type": "stream",
     "text": [
      "\r",
      " 96%|█████████▌| 285/298 [01:35<00:04,  3.14it/s]"
     ]
    },
    {
     "name": "stderr",
     "output_type": "stream",
     "text": [
      "\r",
      " 96%|█████████▌| 286/298 [01:35<00:03,  3.17it/s]"
     ]
    },
    {
     "name": "stderr",
     "output_type": "stream",
     "text": [
      "\r",
      " 96%|█████████▋| 287/298 [01:36<00:03,  3.19it/s]"
     ]
    },
    {
     "name": "stderr",
     "output_type": "stream",
     "text": [
      "\r",
      " 97%|█████████▋| 288/298 [01:36<00:03,  3.26it/s]"
     ]
    },
    {
     "name": "stderr",
     "output_type": "stream",
     "text": [
      "\r",
      " 97%|█████████▋| 289/298 [01:36<00:02,  3.22it/s]"
     ]
    },
    {
     "name": "stderr",
     "output_type": "stream",
     "text": [
      "\r",
      " 97%|█████████▋| 290/298 [01:36<00:02,  3.24it/s]"
     ]
    },
    {
     "name": "stderr",
     "output_type": "stream",
     "text": [
      "\r",
      " 98%|█████████▊| 291/298 [01:37<00:02,  3.27it/s]"
     ]
    },
    {
     "name": "stderr",
     "output_type": "stream",
     "text": [
      "\r",
      " 98%|█████████▊| 292/298 [01:37<00:02,  2.98it/s]"
     ]
    },
    {
     "name": "stderr",
     "output_type": "stream",
     "text": [
      "\r",
      " 98%|█████████▊| 293/298 [01:37<00:01,  3.09it/s]"
     ]
    },
    {
     "name": "stderr",
     "output_type": "stream",
     "text": [
      "\r",
      " 99%|█████████▊| 294/298 [01:38<00:01,  3.06it/s]"
     ]
    },
    {
     "name": "stderr",
     "output_type": "stream",
     "text": [
      "\r",
      " 99%|█████████▉| 295/298 [01:38<00:00,  3.06it/s]"
     ]
    },
    {
     "name": "stderr",
     "output_type": "stream",
     "text": [
      "\r",
      " 99%|█████████▉| 296/298 [01:38<00:00,  3.07it/s]"
     ]
    },
    {
     "name": "stderr",
     "output_type": "stream",
     "text": [
      "\r",
      "100%|█████████▉| 297/298 [01:39<00:00,  3.14it/s]"
     ]
    },
    {
     "name": "stderr",
     "output_type": "stream",
     "text": [
      "\r",
      "100%|██████████| 298/298 [01:39<00:00,  3.16it/s]"
     ]
    },
    {
     "name": "stderr",
     "output_type": "stream",
     "text": [
      "\r",
      "100%|██████████| 298/298 [01:39<00:00,  2.98it/s]"
     ]
    },
    {
     "name": "stderr",
     "output_type": "stream",
     "text": [
      "\n"
     ]
    },
    {
     "data": {
      "text/html": [
       "<div>\n",
       "<style scoped>\n",
       "    .dataframe tbody tr th:only-of-type {\n",
       "        vertical-align: middle;\n",
       "    }\n",
       "\n",
       "    .dataframe tbody tr th {\n",
       "        vertical-align: top;\n",
       "    }\n",
       "\n",
       "    .dataframe thead th {\n",
       "        text-align: right;\n",
       "    }\n",
       "</style>\n",
       "<table border=\"1\" class=\"dataframe\">\n",
       "  <thead>\n",
       "    <tr style=\"text-align: right;\">\n",
       "      <th></th>\n",
       "      <th>parentid</th>\n",
       "      <th>user</th>\n",
       "      <th>userid</th>\n",
       "      <th>timestamp</th>\n",
       "      <th>size</th>\n",
       "      <th>sha1</th>\n",
       "      <th>comment</th>\n",
       "      <th>anon</th>\n",
       "      <th>diff</th>\n",
       "      <th>deleted</th>\n",
       "      <th>added</th>\n",
       "    </tr>\n",
       "    <tr>\n",
       "      <th>revid</th>\n",
       "      <th></th>\n",
       "      <th></th>\n",
       "      <th></th>\n",
       "      <th></th>\n",
       "      <th></th>\n",
       "      <th></th>\n",
       "      <th></th>\n",
       "      <th></th>\n",
       "      <th></th>\n",
       "      <th></th>\n",
       "      <th></th>\n",
       "    </tr>\n",
       "  </thead>\n",
       "  <tbody>\n",
       "    <tr>\n",
       "      <th>213750840</th>\n",
       "      <td>213245467</td>\n",
       "      <td>Anne Daemon</td>\n",
       "      <td>3147955</td>\n",
       "      <td>2024-03-28T11:33:05Z</td>\n",
       "      <td>16001</td>\n",
       "      <td>aa3511e1f277c82f1edd989b5c10c9d865b9aee6</td>\n",
       "      <td>suppression doublon image (cf. PDD)</td>\n",
       "      <td>NaN</td>\n",
       "      <td>&lt;tr&gt;\\n  &lt;td colspan=\"2\" class=\"diff-lineno\"&gt;Li...</td>\n",
       "      <td>[]</td>\n",
       "      <td>[|image = -              ]</td>\n",
       "    </tr>\n",
       "    <tr>\n",
       "      <th>213245467</th>\n",
       "      <td>213244722</td>\n",
       "      <td>Evpok</td>\n",
       "      <td>215241</td>\n",
       "      <td>2024-03-10T23:58:44Z</td>\n",
       "      <td>15976</td>\n",
       "      <td>ff589bd67c2ebcef5c28c8ab5271dec6f6445750</td>\n",
       "      <td>Retour au consensus précédent</td>\n",
       "      <td>NaN</td>\n",
       "      <td>&lt;tr&gt;\\n  &lt;td colspan=\"2\" class=\"diff-lineno\"&gt;Li...</td>\n",
       "      <td>[, Élevée dans une famille de la [[classe ouvr...</td>\n",
       "      <td>[,, ,, Née, ,, dans une famille de la [[classe...</td>\n",
       "    </tr>\n",
       "    <tr>\n",
       "      <th>213244722</th>\n",
       "      <td>213213666</td>\n",
       "      <td>37.171.177.227</td>\n",
       "      <td>0</td>\n",
       "      <td>2024-03-10T23:12:13Z</td>\n",
       "      <td>16098</td>\n",
       "      <td>a2ad379f22ca86eac6dfe44cb059e8f2f79d9a7a</td>\n",
       "      <td></td>\n",
       "      <td></td>\n",
       "      <td>&lt;tr&gt;\\n  &lt;td colspan=\"2\" class=\"diff-lineno\"&gt;Li...</td>\n",
       "      <td>[,, ,, Née, ,, Wendy Carlos, l'aînée, '', '', )]</td>\n",
       "      <td>[, (,  Walter Carlos, Wendy Carlos naît, . Ell...</td>\n",
       "    </tr>\n",
       "    <tr>\n",
       "      <th>213213666</th>\n",
       "      <td>213129264</td>\n",
       "      <td>Anne Daemon</td>\n",
       "      <td>3147955</td>\n",
       "      <td>2024-03-10T06:54:43Z</td>\n",
       "      <td>15976</td>\n",
       "      <td>ff589bd67c2ebcef5c28c8ab5271dec6f6445750</td>\n",
       "      <td>Retour à la version initiale (maintien de la m...</td>\n",
       "      <td>NaN</td>\n",
       "      <td>&lt;tr&gt;\\n  &lt;td colspan=\"2\" class=\"diff-lineno\"&gt;Li...</td>\n",
       "      <td>[, Élevée dans une famille de la [[classe ouvr...</td>\n",
       "      <td>[,, ,, Née, ,, dans une famille de la [[classe...</td>\n",
       "    </tr>\n",
       "    <tr>\n",
       "      <th>213129264</th>\n",
       "      <td>213122863</td>\n",
       "      <td>Lefringant</td>\n",
       "      <td>935409</td>\n",
       "      <td>2024-03-07T08:25:58Z</td>\n",
       "      <td>16096</td>\n",
       "      <td>1d9bf9221c1c16994d98eb0a8b2fb919fa7da465</td>\n",
       "      <td>/* Albums studio */</td>\n",
       "      <td>NaN</td>\n",
       "      <td>&lt;tr&gt;\\n  &lt;td colspan=\"2\" class=\"diff-lineno\"&gt;Li...</td>\n",
       "      <td>[« ,  »)]</td>\n",
       "      <td>['', '', )]</td>\n",
       "    </tr>\n",
       "    <tr>\n",
       "      <th>...</th>\n",
       "      <td>...</td>\n",
       "      <td>...</td>\n",
       "      <td>...</td>\n",
       "      <td>...</td>\n",
       "      <td>...</td>\n",
       "      <td>...</td>\n",
       "      <td>...</td>\n",
       "      <td>...</td>\n",
       "      <td>...</td>\n",
       "      <td>...</td>\n",
       "      <td>...</td>\n",
       "    </tr>\n",
       "    <tr>\n",
       "      <th>4472802</th>\n",
       "      <td>4472745</td>\n",
       "      <td>M350z</td>\n",
       "      <td>35555</td>\n",
       "      <td>2005-12-11T21:46:07Z</td>\n",
       "      <td>2465</td>\n",
       "      <td>e7fa34137dc77fc80e6b9de84eae77cc0b1cf6a4</td>\n",
       "      <td></td>\n",
       "      <td>NaN</td>\n",
       "      <td>&lt;tr&gt;\\n  &lt;td colspan=\"2\" class=\"diff-lineno\"&gt;Li...</td>\n",
       "      <td>[-, intuites, -]</td>\n",
       "      <td>['', &amp;mdash;, intuited, &amp;mdash;, '']</td>\n",
       "    </tr>\n",
       "    <tr>\n",
       "      <th>4472745</th>\n",
       "      <td>4469826</td>\n",
       "      <td>M350z</td>\n",
       "      <td>35555</td>\n",
       "      <td>2005-12-11T21:42:44Z</td>\n",
       "      <td>2449</td>\n",
       "      <td>ba6af61cea00367a8eab1999711d282713db6937</td>\n",
       "      <td>citation de Glenn Gould</td>\n",
       "      <td>NaN</td>\n",
       "      <td>&lt;tr&gt;\\n  &lt;td colspan=\"2\" class=\"diff-lineno\"&gt;Li...</td>\n",
       "      <td>[]</td>\n",
       "      <td>[ : « Carlos's realization of the Fourth Brand...</td>\n",
       "    </tr>\n",
       "    <tr>\n",
       "      <th>4469826</th>\n",
       "      <td>2445984</td>\n",
       "      <td>M350z</td>\n",
       "      <td>35555</td>\n",
       "      <td>2005-12-11T18:46:07Z</td>\n",
       "      <td>2267</td>\n",
       "      <td>af907728c40f68f31a47b064362b9b47930796f2</td>\n",
       "      <td>réécriture de l'art. \"W.Carlos\"</td>\n",
       "      <td>NaN</td>\n",
       "      <td>&lt;tr&gt;\\n  &lt;td colspan=\"2\" class=\"diff-lineno\"&gt;Li...</td>\n",
       "      <td>[#Redirect [[Walter Carlos]]]</td>\n",
       "      <td>['''W. Carlos''' est un compositeur et interpr...</td>\n",
       "    </tr>\n",
       "    <tr>\n",
       "      <th>2445984</th>\n",
       "      <td>986111</td>\n",
       "      <td>Jean-no</td>\n",
       "      <td>6825</td>\n",
       "      <td>2004-10-23T14:13:38Z</td>\n",
       "      <td>27</td>\n",
       "      <td>7c80bb8c04ef22ff0ee3cee13cd7339fe6def2b9</td>\n",
       "      <td></td>\n",
       "      <td>NaN</td>\n",
       "      <td>&lt;tr&gt;\\n  &lt;td colspan=\"2\" class=\"diff-lineno\"&gt;Li...</td>\n",
       "      <td>[]</td>\n",
       "      <td>[[[, ]]]</td>\n",
       "    </tr>\n",
       "    <tr>\n",
       "      <th>986111</th>\n",
       "      <td>0</td>\n",
       "      <td>Jean-no</td>\n",
       "      <td>6825</td>\n",
       "      <td>2004-10-23T14:13:26Z</td>\n",
       "      <td>23</td>\n",
       "      <td>4c0a2bebb9ed9db50a15068e41bac53c9252c73c</td>\n",
       "      <td>redirection</td>\n",
       "      <td>NaN</td>\n",
       "      <td></td>\n",
       "      <td>[]</td>\n",
       "      <td>[]</td>\n",
       "    </tr>\n",
       "  </tbody>\n",
       "</table>\n",
       "<p>298 rows × 11 columns</p>\n",
       "</div>"
      ],
      "text/plain": [
       "            parentid            user   userid             timestamp   size  \\\n",
       "revid                                                                        \n",
       "213750840  213245467     Anne Daemon  3147955  2024-03-28T11:33:05Z  16001   \n",
       "213245467  213244722           Evpok   215241  2024-03-10T23:58:44Z  15976   \n",
       "213244722  213213666  37.171.177.227        0  2024-03-10T23:12:13Z  16098   \n",
       "213213666  213129264     Anne Daemon  3147955  2024-03-10T06:54:43Z  15976   \n",
       "213129264  213122863      Lefringant   935409  2024-03-07T08:25:58Z  16096   \n",
       "...              ...             ...      ...                   ...    ...   \n",
       "4472802      4472745           M350z    35555  2005-12-11T21:46:07Z   2465   \n",
       "4472745      4469826           M350z    35555  2005-12-11T21:42:44Z   2449   \n",
       "4469826      2445984           M350z    35555  2005-12-11T18:46:07Z   2267   \n",
       "2445984       986111         Jean-no     6825  2004-10-23T14:13:38Z     27   \n",
       "986111             0         Jean-no     6825  2004-10-23T14:13:26Z     23   \n",
       "\n",
       "                                               sha1  \\\n",
       "revid                                                 \n",
       "213750840  aa3511e1f277c82f1edd989b5c10c9d865b9aee6   \n",
       "213245467  ff589bd67c2ebcef5c28c8ab5271dec6f6445750   \n",
       "213244722  a2ad379f22ca86eac6dfe44cb059e8f2f79d9a7a   \n",
       "213213666  ff589bd67c2ebcef5c28c8ab5271dec6f6445750   \n",
       "213129264  1d9bf9221c1c16994d98eb0a8b2fb919fa7da465   \n",
       "...                                             ...   \n",
       "4472802    e7fa34137dc77fc80e6b9de84eae77cc0b1cf6a4   \n",
       "4472745    ba6af61cea00367a8eab1999711d282713db6937   \n",
       "4469826    af907728c40f68f31a47b064362b9b47930796f2   \n",
       "2445984    7c80bb8c04ef22ff0ee3cee13cd7339fe6def2b9   \n",
       "986111     4c0a2bebb9ed9db50a15068e41bac53c9252c73c   \n",
       "\n",
       "                                                     comment anon  \\\n",
       "revid                                                               \n",
       "213750840                suppression doublon image (cf. PDD)  NaN   \n",
       "213245467                      Retour au consensus précédent  NaN   \n",
       "213244722                                                           \n",
       "213213666  Retour à la version initiale (maintien de la m...  NaN   \n",
       "213129264                                /* Albums studio */  NaN   \n",
       "...                                                      ...  ...   \n",
       "4472802                                                       NaN   \n",
       "4472745                              citation de Glenn Gould  NaN   \n",
       "4469826                      réécriture de l'art. \"W.Carlos\"  NaN   \n",
       "2445984                                                       NaN   \n",
       "986111                                           redirection  NaN   \n",
       "\n",
       "                                                        diff  \\\n",
       "revid                                                          \n",
       "213750840  <tr>\\n  <td colspan=\"2\" class=\"diff-lineno\">Li...   \n",
       "213245467  <tr>\\n  <td colspan=\"2\" class=\"diff-lineno\">Li...   \n",
       "213244722  <tr>\\n  <td colspan=\"2\" class=\"diff-lineno\">Li...   \n",
       "213213666  <tr>\\n  <td colspan=\"2\" class=\"diff-lineno\">Li...   \n",
       "213129264  <tr>\\n  <td colspan=\"2\" class=\"diff-lineno\">Li...   \n",
       "...                                                      ...   \n",
       "4472802    <tr>\\n  <td colspan=\"2\" class=\"diff-lineno\">Li...   \n",
       "4472745    <tr>\\n  <td colspan=\"2\" class=\"diff-lineno\">Li...   \n",
       "4469826    <tr>\\n  <td colspan=\"2\" class=\"diff-lineno\">Li...   \n",
       "2445984    <tr>\\n  <td colspan=\"2\" class=\"diff-lineno\">Li...   \n",
       "986111                                                         \n",
       "\n",
       "                                                     deleted  \\\n",
       "revid                                                          \n",
       "213750840                                                 []   \n",
       "213245467  [, Élevée dans une famille de la [[classe ouvr...   \n",
       "213244722   [,, ,, Née, ,, Wendy Carlos, l'aînée, '', '', )]   \n",
       "213213666  [, Élevée dans une famille de la [[classe ouvr...   \n",
       "213129264                                          [« ,  »)]   \n",
       "...                                                      ...   \n",
       "4472802                                     [-, intuites, -]   \n",
       "4472745                                                   []   \n",
       "4469826                        [#Redirect [[Walter Carlos]]]   \n",
       "2445984                                                   []   \n",
       "986111                                                    []   \n",
       "\n",
       "                                                       added  \n",
       "revid                                                         \n",
       "213750840                         [|image = -              ]  \n",
       "213245467  [,, ,, Née, ,, dans une famille de la [[classe...  \n",
       "213244722  [, (,  Walter Carlos, Wendy Carlos naît, . Ell...  \n",
       "213213666  [,, ,, Née, ,, dans une famille de la [[classe...  \n",
       "213129264                                        ['', '', )]  \n",
       "...                                                      ...  \n",
       "4472802                 ['', &mdash;, intuited, &mdash;, '']  \n",
       "4472745    [ : « Carlos's realization of the Fourth Brand...  \n",
       "4469826    ['''W. Carlos''' est un compositeur et interpr...  \n",
       "2445984                                             [[[, ]]]  \n",
       "986111                                                    []  \n",
       "\n",
       "[298 rows x 11 columns]"
      ]
     },
     "execution_count": 6,
     "metadata": {},
     "output_type": "execute_result"
    }
   ],
   "source": [
    "revisions = (\n",
    "    pd\n",
    "    .DataFrame\n",
    "    .from_records(page.get_revisions_list())\n",
    "    .assign(\n",
    "        diff = lambda df: df.revid.progress_apply(lambda x: page.get_diff(x)).fillna(''),\n",
    "        deleted = lambda df: df['diff'].apply(lambda diff: page.extract_plusminus(diff)['deleted']),\n",
    "        added = lambda df: df['diff'].apply(lambda diff: page.extract_plusminus(diff)['added']),\n",
    "    )\n",
    "    .set_index('revid')\n",
    ")\n",
    "\n",
    "revisions"
   ]
  },
  {
   "cell_type": "code",
   "execution_count": 7,
   "id": "c589c8bc-5e6a-4361-bb5c-99b125c56fd4",
   "metadata": {
    "execution": {
     "iopub.execute_input": "2024-04-01T20:22:34.659832Z",
     "iopub.status.busy": "2024-04-01T20:22:34.659652Z",
     "iopub.status.idle": "2024-04-01T20:22:34.677366Z",
     "shell.execute_reply": "2024-04-01T20:22:34.677067Z"
    },
    "papermill": {
     "duration": 0.027528,
     "end_time": "2024-04-01T20:22:34.678315",
     "exception": false,
     "start_time": "2024-04-01T20:22:34.650787",
     "status": "completed"
    },
    "tags": []
   },
   "outputs": [],
   "source": [
    "revisions.to_csv(f'../data/page-revisions/{page_name.lower()}.csv')"
   ]
  },
  {
   "cell_type": "code",
   "execution_count": 8,
   "id": "32533855-d09c-42e1-9071-35f10655dcd8",
   "metadata": {
    "execution": {
     "iopub.execute_input": "2024-04-01T20:22:34.691750Z",
     "iopub.status.busy": "2024-04-01T20:22:34.691612Z",
     "iopub.status.idle": "2024-04-01T20:22:34.693500Z",
     "shell.execute_reply": "2024-04-01T20:22:34.693211Z"
    },
    "papermill": {
     "duration": 0.009337,
     "end_time": "2024-04-01T20:22:34.694078",
     "exception": false,
     "start_time": "2024-04-01T20:22:34.684741",
     "status": "completed"
    },
    "tags": []
   },
   "outputs": [],
   "source": [
    "def decode(string):\n",
    "    return base64.b64decode(string).decode(\"utf-8\")"
   ]
  },
  {
   "cell_type": "code",
   "execution_count": 9,
   "id": "bea34dc6-f504-44a9-846f-39e8401c62f7",
   "metadata": {
    "execution": {
     "iopub.execute_input": "2024-04-01T20:22:34.707687Z",
     "iopub.status.busy": "2024-04-01T20:22:34.707551Z",
     "iopub.status.idle": "2024-04-01T20:22:34.709299Z",
     "shell.execute_reply": "2024-04-01T20:22:34.709014Z"
    },
    "papermill": {
     "duration": 0.009366,
     "end_time": "2024-04-01T20:22:34.709941",
     "exception": false,
     "start_time": "2024-04-01T20:22:34.700575",
     "status": "completed"
    },
    "tags": []
   },
   "outputs": [],
   "source": [
    "# (\n",
    "#     revisions\n",
    "#     .assign(\n",
    "#         deadnames = lambda df: df['*'].apply(lambda x: str(x).lower().count(decode(dead_name).lower()))\n",
    "#     )\n",
    "#     #.reset_index()\n",
    "#     [['timestamp', 'deadnames']]\n",
    "#     .assign(\n",
    "#         date = lambda df: pd.to_datetime(df.timestamp).dt.date\n",
    "#     )\n",
    "#     .groupby('date')\n",
    "#     .agg({'deadnames': 'mean'})\n",
    "#     .plot\n",
    "#     .line(\n",
    "#         figsize=(15,10)\n",
    "#     )\n",
    "# )"
   ]
  },
  {
   "cell_type": "markdown",
   "id": "49e1e9d0-0960-4573-a7d3-a7a218c3c34f",
   "metadata": {
    "papermill": {
     "duration": 0.009148,
     "end_time": "2024-04-01T20:22:34.725662",
     "exception": false,
     "start_time": "2024-04-01T20:22:34.716514",
     "status": "completed"
    },
    "tags": []
   },
   "source": [
    "### depuis le coming out"
   ]
  },
  {
   "cell_type": "code",
   "execution_count": 10,
   "id": "308c3a1c-e446-42b8-b087-915ff9fdf05f",
   "metadata": {
    "execution": {
     "iopub.execute_input": "2024-04-01T20:22:34.741092Z",
     "iopub.status.busy": "2024-04-01T20:22:34.740943Z",
     "iopub.status.idle": "2024-04-01T20:22:34.745083Z",
     "shell.execute_reply": "2024-04-01T20:22:34.744882Z"
    },
    "papermill": {
     "duration": 0.011521,
     "end_time": "2024-04-01T20:22:34.745556",
     "exception": false,
     "start_time": "2024-04-01T20:22:34.734035",
     "status": "completed"
    },
    "tags": []
   },
   "outputs": [
    {
     "data": {
      "text/plain": [
       "user\n",
       "Roucoulou                                  15\n",
       "M350z                                       5\n",
       "Jean-Christophe BENOIST                     4\n",
       "Pic-Sou                                     3\n",
       "Sherwood6                                   3\n",
       "2A01:CB08:205:A700:F4C1:F763:DFB6:95CF      3\n",
       "2A04:CEC0:11CA:739E:F8ED:61D1:1489:B938     2\n",
       "Insane Stamina                              2\n",
       "Dodeeric                                    2\n",
       "Cymbella                                    2\n",
       "Name: deadname_count, dtype: int64"
      ]
     },
     "execution_count": 10,
     "metadata": {},
     "output_type": "execute_result"
    }
   ],
   "source": [
    "(\n",
    "    revisions\n",
    "    .assign(\n",
    "        deadname_count = lambda df: df.added.apply(lambda x: ' '.join(x).lower().count(decode(dead_name).lower()))\n",
    "    )\n",
    "    # on ne garde que les contributions après son coming out\n",
    "    .pipe(lambda df: df.query(f'timestamp >= \"{co_date}\"') if co_date != None else df)\n",
    "    .groupby('user')\n",
    "    .deadname_count\n",
    "    .sum()\n",
    "    .sort_values(ascending=False)\n",
    "    .head(10)\n",
    ")"
   ]
  },
  {
   "cell_type": "markdown",
   "id": "cdbf2cbe-7d9c-458a-8bb5-7554dbb954b5",
   "metadata": {
    "papermill": {
     "duration": 0.006752,
     "end_time": "2024-04-01T20:22:34.759053",
     "exception": false,
     "start_time": "2024-04-01T20:22:34.752301",
     "status": "completed"
    },
    "tags": []
   },
   "source": [
    "### depuis le début du sondage"
   ]
  },
  {
   "cell_type": "code",
   "execution_count": 11,
   "id": "e75e4ded-3e9d-45a6-bdd7-0af3b6f8b8ee",
   "metadata": {
    "execution": {
     "iopub.execute_input": "2024-04-01T20:22:34.775050Z",
     "iopub.status.busy": "2024-04-01T20:22:34.774902Z",
     "iopub.status.idle": "2024-04-01T20:22:34.780042Z",
     "shell.execute_reply": "2024-04-01T20:22:34.779836Z"
    },
    "papermill": {
     "duration": 0.013639,
     "end_time": "2024-04-01T20:22:34.780819",
     "exception": false,
     "start_time": "2024-04-01T20:22:34.767180",
     "status": "completed"
    },
    "tags": []
   },
   "outputs": [
    {
     "data": {
      "text/plain": [
       "user\n",
       "Pic-Sou                                 3\n",
       "Sherwood6                               3\n",
       "37.171.177.227                          2\n",
       "Cymbella                                2\n",
       "2A01:CB18:44:E700:CA7:BB82:27DE:C098    1\n",
       "Typhoeus                                1\n",
       "176.133.67.133                          0\n",
       "Anne Daemon                             0\n",
       "Evpok                                   0\n",
       "Gdgourou                                0\n",
       "GrandEscogriffe                         0\n",
       "Lefringant                              0\n",
       "Name: deadname_count, dtype: int64"
      ]
     },
     "execution_count": 11,
     "metadata": {},
     "output_type": "execute_result"
    }
   ],
   "source": [
    "(\n",
    "    revisions\n",
    "    .assign(\n",
    "        deadname_count = lambda df: df.added.apply(lambda x: ' '.join(x).lower().count(decode(dead_name).lower()))\n",
    "    )\n",
    "    # début du sondage\n",
    "    .query('timestamp >= \"2024-01-15\"')\n",
    "    .groupby('user')\n",
    "    .deadname_count\n",
    "    .sum()\n",
    "    .sort_values(ascending=False)\n",
    "    .head(20)\n",
    ")"
   ]
  },
  {
   "cell_type": "code",
   "execution_count": 12,
   "id": "7e9a0650-90e2-4d49-9fec-7d015b4a75dc",
   "metadata": {
    "execution": {
     "iopub.execute_input": "2024-04-01T20:22:34.794689Z",
     "iopub.status.busy": "2024-04-01T20:22:34.794464Z",
     "iopub.status.idle": "2024-04-01T20:22:34.969894Z",
     "shell.execute_reply": "2024-04-01T20:22:34.969529Z"
    },
    "papermill": {
     "duration": 0.183215,
     "end_time": "2024-04-01T20:22:34.970573",
     "exception": false,
     "start_time": "2024-04-01T20:22:34.787358",
     "status": "completed"
    },
    "tags": []
   },
   "outputs": [
    {
     "data": {
      "text/html": [
       "<style type=\"text/css\">\n",
       "</style>\n",
       "<table id=\"T_debf8\">\n",
       "  <thead>\n",
       "    <tr>\n",
       "      <th class=\"blank level0\" >&nbsp;</th>\n",
       "      <th id=\"T_debf8_level0_col0\" class=\"col_heading level0 col0\" >user</th>\n",
       "      <th id=\"T_debf8_level0_col1\" class=\"col_heading level0 col1\" >deadname_count</th>\n",
       "      <th id=\"T_debf8_level0_col2\" class=\"col_heading level0 col2\" >timestamp</th>\n",
       "    </tr>\n",
       "    <tr>\n",
       "      <th class=\"index_name level0\" >revid</th>\n",
       "      <th class=\"blank col0\" >&nbsp;</th>\n",
       "      <th class=\"blank col1\" >&nbsp;</th>\n",
       "      <th class=\"blank col2\" >&nbsp;</th>\n",
       "    </tr>\n",
       "  </thead>\n",
       "  <tbody>\n",
       "    <tr>\n",
       "      <th id=\"T_debf8_level0_row0\" class=\"row_heading level0 row0\" ><a href=\"https://fr.wikipedia.org/w/index.php?title=Wendy_Carlos&diff=prev&oldid=213244722\">213244722</a></th>\n",
       "      <td id=\"T_debf8_row0_col0\" class=\"data row0 col0\" >37.171.177.227</td>\n",
       "      <td id=\"T_debf8_row0_col1\" class=\"data row0 col1\" >2</td>\n",
       "      <td id=\"T_debf8_row0_col2\" class=\"data row0 col2\" >2024-03-10T23:12:13Z</td>\n",
       "    </tr>\n",
       "    <tr>\n",
       "      <th id=\"T_debf8_level0_row1\" class=\"row_heading level0 row1\" ><a href=\"https://fr.wikipedia.org/w/index.php?title=Wendy_Carlos&diff=prev&oldid=213122863\">213122863</a></th>\n",
       "      <td id=\"T_debf8_row1_col0\" class=\"data row1 col0\" >Sherwood6</td>\n",
       "      <td id=\"T_debf8_row1_col1\" class=\"data row1 col1\" >2</td>\n",
       "      <td id=\"T_debf8_row1_col2\" class=\"data row1 col2\" >2024-03-06T22:38:35Z</td>\n",
       "    </tr>\n",
       "    <tr>\n",
       "      <th id=\"T_debf8_level0_row2\" class=\"row_heading level0 row2\" ><a href=\"https://fr.wikipedia.org/w/index.php?title=Wendy_Carlos&diff=prev&oldid=213118028\">213118028</a></th>\n",
       "      <td id=\"T_debf8_row2_col0\" class=\"data row2 col0\" >Pic-Sou</td>\n",
       "      <td id=\"T_debf8_row2_col1\" class=\"data row2 col1\" >1</td>\n",
       "      <td id=\"T_debf8_row2_col2\" class=\"data row2 col2\" >2024-03-06T18:41:25Z</td>\n",
       "    </tr>\n",
       "    <tr>\n",
       "      <th id=\"T_debf8_level0_row3\" class=\"row_heading level0 row3\" ><a href=\"https://fr.wikipedia.org/w/index.php?title=Wendy_Carlos&diff=prev&oldid=213109187\">213109187</a></th>\n",
       "      <td id=\"T_debf8_row3_col0\" class=\"data row3 col0\" >Pic-Sou</td>\n",
       "      <td id=\"T_debf8_row3_col1\" class=\"data row3 col1\" >1</td>\n",
       "      <td id=\"T_debf8_row3_col2\" class=\"data row3 col2\" >2024-03-06T13:07:25Z</td>\n",
       "    </tr>\n",
       "    <tr>\n",
       "      <th id=\"T_debf8_level0_row4\" class=\"row_heading level0 row4\" ><a href=\"https://fr.wikipedia.org/w/index.php?title=Wendy_Carlos&diff=prev&oldid=213109036\">213109036</a></th>\n",
       "      <td id=\"T_debf8_row4_col0\" class=\"data row4 col0\" >Pic-Sou</td>\n",
       "      <td id=\"T_debf8_row4_col1\" class=\"data row4 col1\" >1</td>\n",
       "      <td id=\"T_debf8_row4_col2\" class=\"data row4 col2\" >2024-03-06T13:03:42Z</td>\n",
       "    </tr>\n",
       "    <tr>\n",
       "      <th id=\"T_debf8_level0_row5\" class=\"row_heading level0 row5\" ><a href=\"https://fr.wikipedia.org/w/index.php?title=Wendy_Carlos&diff=prev&oldid=212924740\">212924740</a></th>\n",
       "      <td id=\"T_debf8_row5_col0\" class=\"data row5 col0\" >2A01:CB18:44:E700:CA7:BB82:27DE:C098</td>\n",
       "      <td id=\"T_debf8_row5_col1\" class=\"data row5 col1\" >1</td>\n",
       "      <td id=\"T_debf8_row5_col2\" class=\"data row5 col2\" >2024-02-29T22:54:14Z</td>\n",
       "    </tr>\n",
       "    <tr>\n",
       "      <th id=\"T_debf8_level0_row6\" class=\"row_heading level0 row6\" ><a href=\"https://fr.wikipedia.org/w/index.php?title=Wendy_Carlos&diff=prev&oldid=212853837\">212853837</a></th>\n",
       "      <td id=\"T_debf8_row6_col0\" class=\"data row6 col0\" >Sherwood6</td>\n",
       "      <td id=\"T_debf8_row6_col1\" class=\"data row6 col1\" >1</td>\n",
       "      <td id=\"T_debf8_row6_col2\" class=\"data row6 col2\" >2024-02-27T15:31:43Z</td>\n",
       "    </tr>\n",
       "    <tr>\n",
       "      <th id=\"T_debf8_level0_row7\" class=\"row_heading level0 row7\" ><a href=\"https://fr.wikipedia.org/w/index.php?title=Wendy_Carlos&diff=prev&oldid=212848174\">212848174</a></th>\n",
       "      <td id=\"T_debf8_row7_col0\" class=\"data row7 col0\" >Typhoeus</td>\n",
       "      <td id=\"T_debf8_row7_col1\" class=\"data row7 col1\" >1</td>\n",
       "      <td id=\"T_debf8_row7_col2\" class=\"data row7 col2\" >2024-02-27T11:35:43Z</td>\n",
       "    </tr>\n",
       "    <tr>\n",
       "      <th id=\"T_debf8_level0_row8\" class=\"row_heading level0 row8\" ><a href=\"https://fr.wikipedia.org/w/index.php?title=Wendy_Carlos&diff=prev&oldid=212844146\">212844146</a></th>\n",
       "      <td id=\"T_debf8_row8_col0\" class=\"data row8 col0\" >Cymbella</td>\n",
       "      <td id=\"T_debf8_row8_col1\" class=\"data row8 col1\" >1</td>\n",
       "      <td id=\"T_debf8_row8_col2\" class=\"data row8 col2\" >2024-02-27T08:42:02Z</td>\n",
       "    </tr>\n",
       "    <tr>\n",
       "      <th id=\"T_debf8_level0_row9\" class=\"row_heading level0 row9\" ><a href=\"https://fr.wikipedia.org/w/index.php?title=Wendy_Carlos&diff=prev&oldid=212835323\">212835323</a></th>\n",
       "      <td id=\"T_debf8_row9_col0\" class=\"data row9 col0\" >Cymbella</td>\n",
       "      <td id=\"T_debf8_row9_col1\" class=\"data row9 col1\" >1</td>\n",
       "      <td id=\"T_debf8_row9_col2\" class=\"data row9 col2\" >2024-02-26T21:16:20Z</td>\n",
       "    </tr>\n",
       "  </tbody>\n",
       "</table>\n"
      ],
      "text/plain": [
       "<pandas.io.formats.style.Styler at 0x7a2a6fcf5480>"
      ]
     },
     "execution_count": 12,
     "metadata": {},
     "output_type": "execute_result"
    }
   ],
   "source": [
    "(\n",
    "    revisions\n",
    "    .assign(\n",
    "        deadname_count = lambda df: df.added.apply(lambda x: ' '.join(x).lower().count(decode(dead_name).lower()))\n",
    "    )\n",
    "    # début du sondage\n",
    "    .query('timestamp >= \"2024-01-15\"')\n",
    "    .query('deadname_count > 0')\n",
    "    [['user', 'deadname_count', 'timestamp']]\n",
    "    .style\n",
    "    .format_index(lambda x: format_revid_index(x, page_name))\n",
    ")"
   ]
  },
  {
   "cell_type": "markdown",
   "id": "b4ae0d43-e0f3-403f-8d77-06778155c12d",
   "metadata": {
    "papermill": {
     "duration": 0.008052,
     "end_time": "2024-04-01T20:22:34.985688",
     "exception": false,
     "start_time": "2024-04-01T20:22:34.977636",
     "status": "completed"
    },
    "tags": []
   },
   "source": [
    "## Discussions"
   ]
  },
  {
   "cell_type": "code",
   "execution_count": 13,
   "id": "65c5a95c-6148-4099-bcec-47e23701d260",
   "metadata": {
    "execution": {
     "iopub.execute_input": "2024-04-01T20:22:34.999500Z",
     "iopub.status.busy": "2024-04-01T20:22:34.999267Z",
     "iopub.status.idle": "2024-04-01T20:22:35.292234Z",
     "shell.execute_reply": "2024-04-01T20:22:35.290751Z"
    },
    "papermill": {
     "duration": 0.302631,
     "end_time": "2024-04-01T20:22:35.294892",
     "exception": false,
     "start_time": "2024-04-01T20:22:34.992261",
     "status": "completed"
    },
    "tags": []
   },
   "outputs": [],
   "source": [
    "talk = Page(f'Discussion:{page_name}', lang='fr')"
   ]
  },
  {
   "cell_type": "code",
   "execution_count": 14,
   "id": "f1aaec90-5c20-4488-a9aa-11da50fd1cf6",
   "metadata": {
    "execution": {
     "iopub.execute_input": "2024-04-01T20:22:35.316190Z",
     "iopub.status.busy": "2024-04-01T20:22:35.315831Z",
     "iopub.status.idle": "2024-04-01T20:23:37.146975Z",
     "shell.execute_reply": "2024-04-01T20:23:37.146458Z"
    },
    "papermill": {
     "duration": 61.839683,
     "end_time": "2024-04-01T20:23:37.148098",
     "exception": false,
     "start_time": "2024-04-01T20:22:35.308415",
     "status": "completed"
    },
    "tags": []
   },
   "outputs": [
    {
     "name": "stderr",
     "output_type": "stream",
     "text": [
      "\r",
      "  0%|          | 0/183 [00:00<?, ?it/s]"
     ]
    },
    {
     "name": "stderr",
     "output_type": "stream",
     "text": [
      "\r",
      "  1%|          | 2/183 [00:00<00:29,  6.24it/s]"
     ]
    },
    {
     "name": "stderr",
     "output_type": "stream",
     "text": [
      "\r",
      "  2%|▏         | 3/183 [00:00<00:39,  4.59it/s]"
     ]
    },
    {
     "name": "stderr",
     "output_type": "stream",
     "text": [
      "\r",
      "  2%|▏         | 4/183 [00:01<00:50,  3.55it/s]"
     ]
    },
    {
     "name": "stderr",
     "output_type": "stream",
     "text": [
      "\r",
      "  3%|▎         | 5/183 [00:01<00:52,  3.39it/s]"
     ]
    },
    {
     "name": "stderr",
     "output_type": "stream",
     "text": [
      "\r",
      "  3%|▎         | 6/183 [00:01<00:53,  3.30it/s]"
     ]
    },
    {
     "name": "stderr",
     "output_type": "stream",
     "text": [
      "\r",
      "  4%|▍         | 7/183 [00:01<00:55,  3.18it/s]"
     ]
    },
    {
     "name": "stderr",
     "output_type": "stream",
     "text": [
      "\r",
      "  4%|▍         | 8/183 [00:02<00:55,  3.15it/s]"
     ]
    },
    {
     "name": "stderr",
     "output_type": "stream",
     "text": [
      "\r",
      "  5%|▍         | 9/183 [00:02<00:56,  3.08it/s]"
     ]
    },
    {
     "name": "stderr",
     "output_type": "stream",
     "text": [
      "\r",
      "  5%|▌         | 10/183 [00:02<00:56,  3.07it/s]"
     ]
    },
    {
     "name": "stderr",
     "output_type": "stream",
     "text": [
      "\r",
      "  6%|▌         | 11/183 [00:03<00:58,  2.95it/s]"
     ]
    },
    {
     "name": "stderr",
     "output_type": "stream",
     "text": [
      "\r",
      "  7%|▋         | 12/183 [00:03<01:04,  2.67it/s]"
     ]
    },
    {
     "name": "stderr",
     "output_type": "stream",
     "text": [
      "\r",
      "  7%|▋         | 13/183 [00:04<01:07,  2.52it/s]"
     ]
    },
    {
     "name": "stderr",
     "output_type": "stream",
     "text": [
      "\r",
      "  8%|▊         | 14/183 [00:04<01:06,  2.55it/s]"
     ]
    },
    {
     "name": "stderr",
     "output_type": "stream",
     "text": [
      "\r",
      "  8%|▊         | 15/183 [00:04<01:04,  2.62it/s]"
     ]
    },
    {
     "name": "stderr",
     "output_type": "stream",
     "text": [
      "\r",
      "  9%|▊         | 16/183 [00:05<01:01,  2.74it/s]"
     ]
    },
    {
     "name": "stderr",
     "output_type": "stream",
     "text": [
      "\r",
      "  9%|▉         | 17/183 [00:05<00:59,  2.78it/s]"
     ]
    },
    {
     "name": "stderr",
     "output_type": "stream",
     "text": [
      "\r",
      " 10%|▉         | 18/183 [00:06<00:59,  2.79it/s]"
     ]
    },
    {
     "name": "stderr",
     "output_type": "stream",
     "text": [
      "\r",
      " 10%|█         | 19/183 [00:06<00:58,  2.79it/s]"
     ]
    },
    {
     "name": "stderr",
     "output_type": "stream",
     "text": [
      "\r",
      " 11%|█         | 20/183 [00:06<00:57,  2.82it/s]"
     ]
    },
    {
     "name": "stderr",
     "output_type": "stream",
     "text": [
      "\r",
      " 11%|█▏        | 21/183 [00:07<00:55,  2.90it/s]"
     ]
    },
    {
     "name": "stderr",
     "output_type": "stream",
     "text": [
      "\r",
      " 12%|█▏        | 22/183 [00:07<00:54,  2.98it/s]"
     ]
    },
    {
     "name": "stderr",
     "output_type": "stream",
     "text": [
      "\r",
      " 13%|█▎        | 23/183 [00:07<00:54,  2.94it/s]"
     ]
    },
    {
     "name": "stderr",
     "output_type": "stream",
     "text": [
      "\r",
      " 13%|█▎        | 24/183 [00:08<00:59,  2.65it/s]"
     ]
    },
    {
     "name": "stderr",
     "output_type": "stream",
     "text": [
      "\r",
      " 14%|█▎        | 25/183 [00:08<01:05,  2.40it/s]"
     ]
    },
    {
     "name": "stderr",
     "output_type": "stream",
     "text": [
      "\r",
      " 14%|█▍        | 26/183 [00:09<01:02,  2.49it/s]"
     ]
    },
    {
     "name": "stderr",
     "output_type": "stream",
     "text": [
      "\r",
      " 15%|█▍        | 27/183 [00:09<00:57,  2.69it/s]"
     ]
    },
    {
     "name": "stderr",
     "output_type": "stream",
     "text": [
      "\r",
      " 15%|█▌        | 28/183 [00:09<00:55,  2.81it/s]"
     ]
    },
    {
     "name": "stderr",
     "output_type": "stream",
     "text": [
      "\r",
      " 16%|█▌        | 29/183 [00:09<00:52,  2.91it/s]"
     ]
    },
    {
     "name": "stderr",
     "output_type": "stream",
     "text": [
      "\r",
      " 16%|█▋        | 30/183 [00:10<00:51,  2.95it/s]"
     ]
    },
    {
     "name": "stderr",
     "output_type": "stream",
     "text": [
      "\r",
      " 17%|█▋        | 31/183 [00:10<00:49,  3.07it/s]"
     ]
    },
    {
     "name": "stderr",
     "output_type": "stream",
     "text": [
      "\r",
      " 17%|█▋        | 32/183 [00:10<00:50,  2.99it/s]"
     ]
    },
    {
     "name": "stderr",
     "output_type": "stream",
     "text": [
      "\r",
      " 18%|█▊        | 33/183 [00:11<00:51,  2.93it/s]"
     ]
    },
    {
     "name": "stderr",
     "output_type": "stream",
     "text": [
      "\r",
      " 19%|█▊        | 34/183 [00:11<00:49,  3.00it/s]"
     ]
    },
    {
     "name": "stderr",
     "output_type": "stream",
     "text": [
      "\r",
      " 19%|█▉        | 35/183 [00:11<00:48,  3.07it/s]"
     ]
    },
    {
     "name": "stderr",
     "output_type": "stream",
     "text": [
      "\r",
      " 20%|█▉        | 36/183 [00:12<00:47,  3.08it/s]"
     ]
    },
    {
     "name": "stderr",
     "output_type": "stream",
     "text": [
      "\r",
      " 20%|██        | 37/183 [00:12<00:48,  3.03it/s]"
     ]
    },
    {
     "name": "stderr",
     "output_type": "stream",
     "text": [
      "\r",
      " 21%|██        | 38/183 [00:12<00:47,  3.07it/s]"
     ]
    },
    {
     "name": "stderr",
     "output_type": "stream",
     "text": [
      "\r",
      " 21%|██▏       | 39/183 [00:13<00:48,  2.97it/s]"
     ]
    },
    {
     "name": "stderr",
     "output_type": "stream",
     "text": [
      "\r",
      " 22%|██▏       | 40/183 [00:13<00:47,  2.99it/s]"
     ]
    },
    {
     "name": "stderr",
     "output_type": "stream",
     "text": [
      "\r",
      " 22%|██▏       | 41/183 [00:13<00:47,  2.99it/s]"
     ]
    },
    {
     "name": "stderr",
     "output_type": "stream",
     "text": [
      "\r",
      " 23%|██▎       | 42/183 [00:14<00:46,  3.03it/s]"
     ]
    },
    {
     "name": "stderr",
     "output_type": "stream",
     "text": [
      "\r",
      " 23%|██▎       | 43/183 [00:14<00:46,  3.02it/s]"
     ]
    },
    {
     "name": "stderr",
     "output_type": "stream",
     "text": [
      "\r",
      " 24%|██▍       | 44/183 [00:14<00:46,  2.98it/s]"
     ]
    },
    {
     "name": "stderr",
     "output_type": "stream",
     "text": [
      "\r",
      " 25%|██▍       | 45/183 [00:15<00:46,  2.96it/s]"
     ]
    },
    {
     "name": "stderr",
     "output_type": "stream",
     "text": [
      "\r",
      " 25%|██▌       | 46/183 [00:15<00:47,  2.90it/s]"
     ]
    },
    {
     "name": "stderr",
     "output_type": "stream",
     "text": [
      "\r",
      " 26%|██▌       | 47/183 [00:16<00:48,  2.83it/s]"
     ]
    },
    {
     "name": "stderr",
     "output_type": "stream",
     "text": [
      "\r",
      " 26%|██▌       | 48/183 [00:16<00:46,  2.88it/s]"
     ]
    },
    {
     "name": "stderr",
     "output_type": "stream",
     "text": [
      "\r",
      " 27%|██▋       | 49/183 [00:16<00:45,  2.95it/s]"
     ]
    },
    {
     "name": "stderr",
     "output_type": "stream",
     "text": [
      "\r",
      " 27%|██▋       | 50/183 [00:17<00:45,  2.94it/s]"
     ]
    },
    {
     "name": "stderr",
     "output_type": "stream",
     "text": [
      "\r",
      " 28%|██▊       | 51/183 [00:17<00:43,  3.00it/s]"
     ]
    },
    {
     "name": "stderr",
     "output_type": "stream",
     "text": [
      "\r",
      " 28%|██▊       | 52/183 [00:17<00:42,  3.07it/s]"
     ]
    },
    {
     "name": "stderr",
     "output_type": "stream",
     "text": [
      "\r",
      " 29%|██▉       | 53/183 [00:17<00:42,  3.04it/s]"
     ]
    },
    {
     "name": "stderr",
     "output_type": "stream",
     "text": [
      "\r",
      " 30%|██▉       | 54/183 [00:18<00:41,  3.10it/s]"
     ]
    },
    {
     "name": "stderr",
     "output_type": "stream",
     "text": [
      "\r",
      " 30%|███       | 55/183 [00:18<00:41,  3.10it/s]"
     ]
    },
    {
     "name": "stderr",
     "output_type": "stream",
     "text": [
      "\r",
      " 31%|███       | 56/183 [00:18<00:41,  3.06it/s]"
     ]
    },
    {
     "name": "stderr",
     "output_type": "stream",
     "text": [
      "\r",
      " 31%|███       | 57/183 [00:19<00:40,  3.13it/s]"
     ]
    },
    {
     "name": "stderr",
     "output_type": "stream",
     "text": [
      "\r",
      " 32%|███▏      | 58/183 [00:19<00:39,  3.13it/s]"
     ]
    },
    {
     "name": "stderr",
     "output_type": "stream",
     "text": [
      "\r",
      " 32%|███▏      | 59/183 [00:19<00:41,  3.00it/s]"
     ]
    },
    {
     "name": "stderr",
     "output_type": "stream",
     "text": [
      "\r",
      " 33%|███▎      | 60/183 [00:20<00:41,  2.96it/s]"
     ]
    },
    {
     "name": "stderr",
     "output_type": "stream",
     "text": [
      "\r",
      " 33%|███▎      | 61/183 [00:20<00:41,  2.93it/s]"
     ]
    },
    {
     "name": "stderr",
     "output_type": "stream",
     "text": [
      "\r",
      " 34%|███▍      | 62/183 [00:20<00:40,  2.97it/s]"
     ]
    },
    {
     "name": "stderr",
     "output_type": "stream",
     "text": [
      "\r",
      " 34%|███▍      | 63/183 [00:21<00:41,  2.92it/s]"
     ]
    },
    {
     "name": "stderr",
     "output_type": "stream",
     "text": [
      "\r",
      " 35%|███▍      | 64/183 [00:21<00:39,  3.03it/s]"
     ]
    },
    {
     "name": "stderr",
     "output_type": "stream",
     "text": [
      "\r",
      " 36%|███▌      | 65/183 [00:21<00:39,  3.02it/s]"
     ]
    },
    {
     "name": "stderr",
     "output_type": "stream",
     "text": [
      "\r",
      " 36%|███▌      | 66/183 [00:22<00:38,  3.05it/s]"
     ]
    },
    {
     "name": "stderr",
     "output_type": "stream",
     "text": [
      "\r",
      " 37%|███▋      | 67/183 [00:22<00:37,  3.09it/s]"
     ]
    },
    {
     "name": "stderr",
     "output_type": "stream",
     "text": [
      "\r",
      " 37%|███▋      | 68/183 [00:23<00:40,  2.83it/s]"
     ]
    },
    {
     "name": "stderr",
     "output_type": "stream",
     "text": [
      "\r",
      " 38%|███▊      | 69/183 [00:23<00:38,  2.95it/s]"
     ]
    },
    {
     "name": "stderr",
     "output_type": "stream",
     "text": [
      "\r",
      " 38%|███▊      | 70/183 [00:23<00:37,  3.01it/s]"
     ]
    },
    {
     "name": "stderr",
     "output_type": "stream",
     "text": [
      "\r",
      " 39%|███▉      | 71/183 [00:23<00:38,  2.94it/s]"
     ]
    },
    {
     "name": "stderr",
     "output_type": "stream",
     "text": [
      "\r",
      " 39%|███▉      | 72/183 [00:24<00:38,  2.91it/s]"
     ]
    },
    {
     "name": "stderr",
     "output_type": "stream",
     "text": [
      "\r",
      " 40%|███▉      | 73/183 [00:24<00:37,  2.93it/s]"
     ]
    },
    {
     "name": "stderr",
     "output_type": "stream",
     "text": [
      "\r",
      " 40%|████      | 74/183 [00:24<00:36,  3.01it/s]"
     ]
    },
    {
     "name": "stderr",
     "output_type": "stream",
     "text": [
      "\r",
      " 41%|████      | 75/183 [00:25<00:35,  3.07it/s]"
     ]
    },
    {
     "name": "stderr",
     "output_type": "stream",
     "text": [
      "\r",
      " 42%|████▏     | 76/183 [00:25<00:34,  3.14it/s]"
     ]
    },
    {
     "name": "stderr",
     "output_type": "stream",
     "text": [
      "\r",
      " 42%|████▏     | 77/183 [00:25<00:35,  3.02it/s]"
     ]
    },
    {
     "name": "stderr",
     "output_type": "stream",
     "text": [
      "\r",
      " 43%|████▎     | 78/183 [00:26<00:36,  2.84it/s]"
     ]
    },
    {
     "name": "stderr",
     "output_type": "stream",
     "text": [
      "\r",
      " 43%|████▎     | 79/183 [00:26<00:40,  2.54it/s]"
     ]
    },
    {
     "name": "stderr",
     "output_type": "stream",
     "text": [
      "\r",
      " 44%|████▎     | 80/183 [00:27<00:41,  2.49it/s]"
     ]
    },
    {
     "name": "stderr",
     "output_type": "stream",
     "text": [
      "\r",
      " 44%|████▍     | 81/183 [00:27<00:38,  2.68it/s]"
     ]
    },
    {
     "name": "stderr",
     "output_type": "stream",
     "text": [
      "\r",
      " 45%|████▍     | 82/183 [00:27<00:37,  2.71it/s]"
     ]
    },
    {
     "name": "stderr",
     "output_type": "stream",
     "text": [
      "\r",
      " 45%|████▌     | 83/183 [00:28<00:36,  2.75it/s]"
     ]
    },
    {
     "name": "stderr",
     "output_type": "stream",
     "text": [
      "\r",
      " 46%|████▌     | 84/183 [00:28<00:34,  2.84it/s]"
     ]
    },
    {
     "name": "stderr",
     "output_type": "stream",
     "text": [
      "\r",
      " 46%|████▋     | 85/183 [00:28<00:32,  2.99it/s]"
     ]
    },
    {
     "name": "stderr",
     "output_type": "stream",
     "text": [
      "\r",
      " 47%|████▋     | 86/183 [00:29<00:31,  3.07it/s]"
     ]
    },
    {
     "name": "stderr",
     "output_type": "stream",
     "text": [
      "\r",
      " 48%|████▊     | 87/183 [00:29<00:30,  3.17it/s]"
     ]
    },
    {
     "name": "stderr",
     "output_type": "stream",
     "text": [
      "\r",
      " 48%|████▊     | 88/183 [00:29<00:30,  3.15it/s]"
     ]
    },
    {
     "name": "stderr",
     "output_type": "stream",
     "text": [
      "\r",
      " 49%|████▊     | 89/183 [00:30<00:30,  3.12it/s]"
     ]
    },
    {
     "name": "stderr",
     "output_type": "stream",
     "text": [
      "\r",
      " 49%|████▉     | 90/183 [00:30<00:29,  3.18it/s]"
     ]
    },
    {
     "name": "stderr",
     "output_type": "stream",
     "text": [
      "\r",
      " 50%|████▉     | 91/183 [00:30<00:29,  3.17it/s]"
     ]
    },
    {
     "name": "stderr",
     "output_type": "stream",
     "text": [
      "\r",
      " 50%|█████     | 92/183 [00:31<00:28,  3.17it/s]"
     ]
    },
    {
     "name": "stderr",
     "output_type": "stream",
     "text": [
      "\r",
      " 51%|█████     | 93/183 [00:31<00:28,  3.17it/s]"
     ]
    },
    {
     "name": "stderr",
     "output_type": "stream",
     "text": [
      "\r",
      " 51%|█████▏    | 94/183 [00:31<00:28,  3.17it/s]"
     ]
    },
    {
     "name": "stderr",
     "output_type": "stream",
     "text": [
      "\r",
      " 52%|█████▏    | 95/183 [00:32<00:27,  3.23it/s]"
     ]
    },
    {
     "name": "stderr",
     "output_type": "stream",
     "text": [
      "\r",
      " 52%|█████▏    | 96/183 [00:32<00:26,  3.24it/s]"
     ]
    },
    {
     "name": "stderr",
     "output_type": "stream",
     "text": [
      "\r",
      " 53%|█████▎    | 97/183 [00:32<00:26,  3.25it/s]"
     ]
    },
    {
     "name": "stderr",
     "output_type": "stream",
     "text": [
      "\r",
      " 54%|█████▎    | 98/183 [00:32<00:25,  3.28it/s]"
     ]
    },
    {
     "name": "stderr",
     "output_type": "stream",
     "text": [
      "\r",
      " 54%|█████▍    | 99/183 [00:33<00:25,  3.29it/s]"
     ]
    },
    {
     "name": "stderr",
     "output_type": "stream",
     "text": [
      "\r",
      " 55%|█████▍    | 100/183 [00:33<00:25,  3.20it/s]"
     ]
    },
    {
     "name": "stderr",
     "output_type": "stream",
     "text": [
      "\r",
      " 55%|█████▌    | 101/183 [00:33<00:27,  3.03it/s]"
     ]
    },
    {
     "name": "stderr",
     "output_type": "stream",
     "text": [
      "\r",
      " 56%|█████▌    | 102/183 [00:34<00:27,  2.93it/s]"
     ]
    },
    {
     "name": "stderr",
     "output_type": "stream",
     "text": [
      "\r",
      " 56%|█████▋    | 103/183 [00:34<00:27,  2.95it/s]"
     ]
    },
    {
     "name": "stderr",
     "output_type": "stream",
     "text": [
      "\r",
      " 57%|█████▋    | 104/183 [00:34<00:26,  2.96it/s]"
     ]
    },
    {
     "name": "stderr",
     "output_type": "stream",
     "text": [
      "\r",
      " 57%|█████▋    | 105/183 [00:35<00:27,  2.81it/s]"
     ]
    },
    {
     "name": "stderr",
     "output_type": "stream",
     "text": [
      "\r",
      " 58%|█████▊    | 106/183 [00:35<00:29,  2.62it/s]"
     ]
    },
    {
     "name": "stderr",
     "output_type": "stream",
     "text": [
      "\r",
      " 58%|█████▊    | 107/183 [00:36<00:28,  2.64it/s]"
     ]
    },
    {
     "name": "stderr",
     "output_type": "stream",
     "text": [
      "\r",
      " 59%|█████▉    | 108/183 [00:36<00:28,  2.65it/s]"
     ]
    },
    {
     "name": "stderr",
     "output_type": "stream",
     "text": [
      "\r",
      " 60%|█████▉    | 109/183 [00:36<00:27,  2.70it/s]"
     ]
    },
    {
     "name": "stderr",
     "output_type": "stream",
     "text": [
      "\r",
      " 60%|██████    | 110/183 [00:37<00:25,  2.81it/s]"
     ]
    },
    {
     "name": "stderr",
     "output_type": "stream",
     "text": [
      "\r",
      " 61%|██████    | 111/183 [00:37<00:24,  2.95it/s]"
     ]
    },
    {
     "name": "stderr",
     "output_type": "stream",
     "text": [
      "\r",
      " 61%|██████    | 112/183 [00:37<00:26,  2.71it/s]"
     ]
    },
    {
     "name": "stderr",
     "output_type": "stream",
     "text": [
      "\r",
      " 62%|██████▏   | 113/183 [00:38<00:24,  2.84it/s]"
     ]
    },
    {
     "name": "stderr",
     "output_type": "stream",
     "text": [
      "\r",
      " 62%|██████▏   | 114/183 [00:38<00:24,  2.84it/s]"
     ]
    },
    {
     "name": "stderr",
     "output_type": "stream",
     "text": [
      "\r",
      " 63%|██████▎   | 115/183 [00:38<00:22,  2.99it/s]"
     ]
    },
    {
     "name": "stderr",
     "output_type": "stream",
     "text": [
      "\r",
      " 63%|██████▎   | 116/183 [00:39<00:21,  3.10it/s]"
     ]
    },
    {
     "name": "stderr",
     "output_type": "stream",
     "text": [
      "\r",
      " 64%|██████▍   | 117/183 [00:39<00:21,  3.06it/s]"
     ]
    },
    {
     "name": "stderr",
     "output_type": "stream",
     "text": [
      "\r",
      " 64%|██████▍   | 118/183 [00:39<00:20,  3.15it/s]"
     ]
    },
    {
     "name": "stderr",
     "output_type": "stream",
     "text": [
      "\r",
      " 65%|██████▌   | 119/183 [00:40<00:19,  3.20it/s]"
     ]
    },
    {
     "name": "stderr",
     "output_type": "stream",
     "text": [
      "\r",
      " 66%|██████▌   | 120/183 [00:40<00:19,  3.20it/s]"
     ]
    },
    {
     "name": "stderr",
     "output_type": "stream",
     "text": [
      "\r",
      " 66%|██████▌   | 121/183 [00:40<00:18,  3.26it/s]"
     ]
    },
    {
     "name": "stderr",
     "output_type": "stream",
     "text": [
      "\r",
      " 67%|██████▋   | 122/183 [00:41<00:18,  3.25it/s]"
     ]
    },
    {
     "name": "stderr",
     "output_type": "stream",
     "text": [
      "\r",
      " 67%|██████▋   | 123/183 [00:41<00:18,  3.20it/s]"
     ]
    },
    {
     "name": "stderr",
     "output_type": "stream",
     "text": [
      "\r",
      " 68%|██████▊   | 124/183 [00:41<00:18,  3.27it/s]"
     ]
    },
    {
     "name": "stderr",
     "output_type": "stream",
     "text": [
      "\r",
      " 68%|██████▊   | 125/183 [00:41<00:17,  3.26it/s]"
     ]
    },
    {
     "name": "stderr",
     "output_type": "stream",
     "text": [
      "\r",
      " 69%|██████▉   | 126/183 [00:42<00:17,  3.24it/s]"
     ]
    },
    {
     "name": "stderr",
     "output_type": "stream",
     "text": [
      "\r",
      " 69%|██████▉   | 127/183 [00:42<00:17,  3.28it/s]"
     ]
    },
    {
     "name": "stderr",
     "output_type": "stream",
     "text": [
      "\r",
      " 70%|██████▉   | 128/183 [00:42<00:16,  3.30it/s]"
     ]
    },
    {
     "name": "stderr",
     "output_type": "stream",
     "text": [
      "\r",
      " 70%|███████   | 129/183 [00:43<00:16,  3.32it/s]"
     ]
    },
    {
     "name": "stderr",
     "output_type": "stream",
     "text": [
      "\r",
      " 71%|███████   | 130/183 [00:43<00:16,  3.25it/s]"
     ]
    },
    {
     "name": "stderr",
     "output_type": "stream",
     "text": [
      "\r",
      " 72%|███████▏  | 131/183 [00:43<00:15,  3.27it/s]"
     ]
    },
    {
     "name": "stderr",
     "output_type": "stream",
     "text": [
      "\r",
      " 72%|███████▏  | 132/183 [00:44<00:15,  3.33it/s]"
     ]
    },
    {
     "name": "stderr",
     "output_type": "stream",
     "text": [
      "\r",
      " 73%|███████▎  | 133/183 [00:44<00:14,  3.36it/s]"
     ]
    },
    {
     "name": "stderr",
     "output_type": "stream",
     "text": [
      "\r",
      " 73%|███████▎  | 134/183 [00:44<00:14,  3.31it/s]"
     ]
    },
    {
     "name": "stderr",
     "output_type": "stream",
     "text": [
      "\r",
      " 74%|███████▍  | 135/183 [00:45<00:15,  3.06it/s]"
     ]
    },
    {
     "name": "stderr",
     "output_type": "stream",
     "text": [
      "\r",
      " 74%|███████▍  | 136/183 [00:45<00:17,  2.69it/s]"
     ]
    },
    {
     "name": "stderr",
     "output_type": "stream",
     "text": [
      "\r",
      " 75%|███████▍  | 137/183 [00:45<00:17,  2.64it/s]"
     ]
    },
    {
     "name": "stderr",
     "output_type": "stream",
     "text": [
      "\r",
      " 75%|███████▌  | 138/183 [00:46<00:16,  2.81it/s]"
     ]
    },
    {
     "name": "stderr",
     "output_type": "stream",
     "text": [
      "\r",
      " 76%|███████▌  | 139/183 [00:46<00:15,  2.91it/s]"
     ]
    },
    {
     "name": "stderr",
     "output_type": "stream",
     "text": [
      "\r",
      " 77%|███████▋  | 140/183 [00:46<00:14,  2.90it/s]"
     ]
    },
    {
     "name": "stderr",
     "output_type": "stream",
     "text": [
      "\r",
      " 77%|███████▋  | 141/183 [00:47<00:14,  2.95it/s]"
     ]
    },
    {
     "name": "stderr",
     "output_type": "stream",
     "text": [
      "\r",
      " 78%|███████▊  | 142/183 [00:47<00:13,  3.05it/s]"
     ]
    },
    {
     "name": "stderr",
     "output_type": "stream",
     "text": [
      "\r",
      " 78%|███████▊  | 143/183 [00:47<00:13,  3.06it/s]"
     ]
    },
    {
     "name": "stderr",
     "output_type": "stream",
     "text": [
      "\r",
      " 79%|███████▊  | 144/183 [00:48<00:12,  3.13it/s]"
     ]
    },
    {
     "name": "stderr",
     "output_type": "stream",
     "text": [
      "\r",
      " 79%|███████▉  | 145/183 [00:48<00:11,  3.25it/s]"
     ]
    },
    {
     "name": "stderr",
     "output_type": "stream",
     "text": [
      "\r",
      " 80%|███████▉  | 146/183 [00:48<00:11,  3.23it/s]"
     ]
    },
    {
     "name": "stderr",
     "output_type": "stream",
     "text": [
      "\r",
      " 80%|████████  | 147/183 [00:49<00:11,  3.22it/s]"
     ]
    },
    {
     "name": "stderr",
     "output_type": "stream",
     "text": [
      "\r",
      " 81%|████████  | 148/183 [00:49<00:10,  3.18it/s]"
     ]
    },
    {
     "name": "stderr",
     "output_type": "stream",
     "text": [
      "\r",
      " 81%|████████▏ | 149/183 [00:49<00:10,  3.19it/s]"
     ]
    },
    {
     "name": "stderr",
     "output_type": "stream",
     "text": [
      "\r",
      " 82%|████████▏ | 150/183 [00:50<00:10,  3.17it/s]"
     ]
    },
    {
     "name": "stderr",
     "output_type": "stream",
     "text": [
      "\r",
      " 83%|████████▎ | 151/183 [00:50<00:09,  3.20it/s]"
     ]
    },
    {
     "name": "stderr",
     "output_type": "stream",
     "text": [
      "\r",
      " 83%|████████▎ | 152/183 [00:50<00:09,  3.24it/s]"
     ]
    },
    {
     "name": "stderr",
     "output_type": "stream",
     "text": [
      "\r",
      " 84%|████████▎ | 153/183 [00:51<00:09,  3.14it/s]"
     ]
    },
    {
     "name": "stderr",
     "output_type": "stream",
     "text": [
      "\r",
      " 84%|████████▍ | 154/183 [00:51<00:09,  3.16it/s]"
     ]
    },
    {
     "name": "stderr",
     "output_type": "stream",
     "text": [
      "\r",
      " 85%|████████▍ | 155/183 [00:51<00:08,  3.18it/s]"
     ]
    },
    {
     "name": "stderr",
     "output_type": "stream",
     "text": [
      "\r",
      " 85%|████████▌ | 156/183 [00:51<00:08,  3.25it/s]"
     ]
    },
    {
     "name": "stderr",
     "output_type": "stream",
     "text": [
      "\r",
      " 86%|████████▌ | 157/183 [00:52<00:07,  3.28it/s]"
     ]
    },
    {
     "name": "stderr",
     "output_type": "stream",
     "text": [
      "\r",
      " 86%|████████▋ | 158/183 [00:52<00:07,  3.21it/s]"
     ]
    },
    {
     "name": "stderr",
     "output_type": "stream",
     "text": [
      "\r",
      " 87%|████████▋ | 159/183 [00:52<00:07,  3.28it/s]"
     ]
    },
    {
     "name": "stderr",
     "output_type": "stream",
     "text": [
      "\r",
      " 87%|████████▋ | 160/183 [00:53<00:07,  3.24it/s]"
     ]
    },
    {
     "name": "stderr",
     "output_type": "stream",
     "text": [
      "\r",
      " 88%|████████▊ | 161/183 [00:53<00:06,  3.26it/s]"
     ]
    },
    {
     "name": "stderr",
     "output_type": "stream",
     "text": [
      "\r",
      " 89%|████████▊ | 162/183 [00:53<00:06,  3.26it/s]"
     ]
    },
    {
     "name": "stderr",
     "output_type": "stream",
     "text": [
      "\r",
      " 89%|████████▉ | 163/183 [00:54<00:06,  3.30it/s]"
     ]
    },
    {
     "name": "stderr",
     "output_type": "stream",
     "text": [
      "\r",
      " 90%|████████▉ | 164/183 [00:54<00:05,  3.19it/s]"
     ]
    },
    {
     "name": "stderr",
     "output_type": "stream",
     "text": [
      "\r",
      " 90%|█████████ | 165/183 [00:54<00:05,  3.24it/s]"
     ]
    },
    {
     "name": "stderr",
     "output_type": "stream",
     "text": [
      "\r",
      " 91%|█████████ | 166/183 [00:54<00:05,  3.25it/s]"
     ]
    },
    {
     "name": "stderr",
     "output_type": "stream",
     "text": [
      "\r",
      " 91%|█████████▏| 167/183 [00:55<00:04,  3.30it/s]"
     ]
    },
    {
     "name": "stderr",
     "output_type": "stream",
     "text": [
      "\r",
      " 92%|█████████▏| 168/183 [00:55<00:04,  3.36it/s]"
     ]
    },
    {
     "name": "stderr",
     "output_type": "stream",
     "text": [
      "\r",
      " 92%|█████████▏| 169/183 [00:55<00:04,  3.35it/s]"
     ]
    },
    {
     "name": "stderr",
     "output_type": "stream",
     "text": [
      "\r",
      " 93%|█████████▎| 170/183 [00:56<00:03,  3.33it/s]"
     ]
    },
    {
     "name": "stderr",
     "output_type": "stream",
     "text": [
      "\r",
      " 93%|█████████▎| 171/183 [00:56<00:03,  3.23it/s]"
     ]
    },
    {
     "name": "stderr",
     "output_type": "stream",
     "text": [
      "\r",
      " 94%|█████████▍| 172/183 [00:56<00:03,  3.25it/s]"
     ]
    },
    {
     "name": "stderr",
     "output_type": "stream",
     "text": [
      "\r",
      " 95%|█████████▍| 173/183 [00:57<00:03,  3.09it/s]"
     ]
    },
    {
     "name": "stderr",
     "output_type": "stream",
     "text": [
      "\r",
      " 95%|█████████▌| 174/183 [00:57<00:03,  2.76it/s]"
     ]
    },
    {
     "name": "stderr",
     "output_type": "stream",
     "text": [
      "\r",
      " 96%|█████████▌| 175/183 [00:58<00:03,  2.55it/s]"
     ]
    },
    {
     "name": "stderr",
     "output_type": "stream",
     "text": [
      "\r",
      " 96%|█████████▌| 176/183 [00:58<00:02,  2.60it/s]"
     ]
    },
    {
     "name": "stderr",
     "output_type": "stream",
     "text": [
      "\r",
      " 97%|█████████▋| 177/183 [00:58<00:02,  2.77it/s]"
     ]
    },
    {
     "name": "stderr",
     "output_type": "stream",
     "text": [
      "\r",
      " 97%|█████████▋| 178/183 [00:59<00:01,  2.92it/s]"
     ]
    },
    {
     "name": "stderr",
     "output_type": "stream",
     "text": [
      "\r",
      " 98%|█████████▊| 179/183 [00:59<00:01,  3.07it/s]"
     ]
    },
    {
     "name": "stderr",
     "output_type": "stream",
     "text": [
      "\r",
      " 98%|█████████▊| 180/183 [00:59<00:00,  3.04it/s]"
     ]
    },
    {
     "name": "stderr",
     "output_type": "stream",
     "text": [
      "\r",
      " 99%|█████████▉| 181/183 [00:59<00:00,  3.09it/s]"
     ]
    },
    {
     "name": "stderr",
     "output_type": "stream",
     "text": [
      "\r",
      " 99%|█████████▉| 182/183 [01:00<00:00,  3.13it/s]"
     ]
    },
    {
     "name": "stderr",
     "output_type": "stream",
     "text": [
      "\r",
      "100%|██████████| 183/183 [01:00<00:00,  2.93it/s]"
     ]
    },
    {
     "name": "stderr",
     "output_type": "stream",
     "text": [
      "\r",
      "100%|██████████| 183/183 [01:01<00:00,  2.99it/s]"
     ]
    },
    {
     "name": "stderr",
     "output_type": "stream",
     "text": [
      "\n"
     ]
    }
   ],
   "source": [
    "talk_revisions = (\n",
    "    pd\n",
    "    .DataFrame\n",
    "    .from_records(talk.get_revisions_list())\n",
    "    .assign(\n",
    "        diff = lambda df: df.revid.progress_apply(lambda x: talk.get_diff(x)),\n",
    "        deleted = lambda df: df['diff'].apply(lambda diff: talk.extract_plusminus(diff)['deleted']),\n",
    "        added = lambda df: df['diff'].apply(lambda diff: talk.extract_plusminus(diff)['added']),\n",
    "    )\n",
    "    .set_index('revid')\n",
    ")\n",
    "\n",
    "#talk_revisions"
   ]
  },
  {
   "cell_type": "code",
   "execution_count": 15,
   "id": "25ec8a7b-a133-458e-bad3-331c8f41b851",
   "metadata": {
    "execution": {
     "iopub.execute_input": "2024-04-01T20:23:37.168953Z",
     "iopub.status.busy": "2024-04-01T20:23:37.168831Z",
     "iopub.status.idle": "2024-04-01T20:23:37.176698Z",
     "shell.execute_reply": "2024-04-01T20:23:37.176413Z"
    },
    "papermill": {
     "duration": 0.01922,
     "end_time": "2024-04-01T20:23:37.177499",
     "exception": false,
     "start_time": "2024-04-01T20:23:37.158279",
     "status": "completed"
    },
    "tags": []
   },
   "outputs": [],
   "source": [
    "talk_revisions.to_csv(f'../data/page-revisions/discussion:{page_name.lower()}.csv')"
   ]
  },
  {
   "cell_type": "markdown",
   "id": "4d1737c2-1d19-48bb-925f-f3a73fc7c585",
   "metadata": {
    "papermill": {
     "duration": 0.009691,
     "end_time": "2024-04-01T20:23:37.196808",
     "exception": false,
     "start_time": "2024-04-01T20:23:37.187117",
     "status": "completed"
    },
    "tags": []
   },
   "source": [
    "### depuis le coming out"
   ]
  },
  {
   "cell_type": "code",
   "execution_count": 16,
   "id": "0e863939-69ce-43d1-a48c-ed831817f6c6",
   "metadata": {
    "execution": {
     "iopub.execute_input": "2024-04-01T20:23:37.216656Z",
     "iopub.status.busy": "2024-04-01T20:23:37.216509Z",
     "iopub.status.idle": "2024-04-01T20:23:37.220539Z",
     "shell.execute_reply": "2024-04-01T20:23:37.220349Z"
    },
    "papermill": {
     "duration": 0.014949,
     "end_time": "2024-04-01T20:23:37.221260",
     "exception": false,
     "start_time": "2024-04-01T20:23:37.206311",
     "status": "completed"
    },
    "tags": []
   },
   "outputs": [
    {
     "data": {
      "text/plain": [
       "user\n",
       "GF38storic        34\n",
       "HB                 2\n",
       "Sherwood6          1\n",
       "Anne Daemon        1\n",
       "194.167.30.129     0\n",
       "Le chat perché     0\n",
       "Taniki             0\n",
       "Shev123            0\n",
       "Pic-Sou            0\n",
       "Nouill             0\n",
       "Name: deadname_count, dtype: int64"
      ]
     },
     "execution_count": 16,
     "metadata": {},
     "output_type": "execute_result"
    }
   ],
   "source": [
    "(\n",
    "    talk_revisions\n",
    "    .assign(\n",
    "        deadname_count = lambda df: df.added.apply(lambda x: ' '.join(x).lower().count(decode(dead_name).lower()))\n",
    "    )\n",
    "    # on ne garde que les contributions après son coming out\n",
    "    #.query('timestamp >= \"2013-08-22\"')\n",
    "    .groupby('user')\n",
    "    .deadname_count\n",
    "    .sum()\n",
    "    .sort_values(ascending=False)\n",
    "    .head(10)\n",
    ")"
   ]
  },
  {
   "cell_type": "markdown",
   "id": "f527cdea-8c65-45e8-8274-48ee9e2246b8",
   "metadata": {
    "papermill": {
     "duration": 0.009497,
     "end_time": "2024-04-01T20:23:37.240162",
     "exception": false,
     "start_time": "2024-04-01T20:23:37.230665",
     "status": "completed"
    },
    "tags": []
   },
   "source": [
    "### depuis le début du sondage"
   ]
  },
  {
   "cell_type": "code",
   "execution_count": 17,
   "id": "9e1a66e6-8622-4a4c-a031-95f1ee3e81b1",
   "metadata": {
    "execution": {
     "iopub.execute_input": "2024-04-01T20:23:37.259650Z",
     "iopub.status.busy": "2024-04-01T20:23:37.259495Z",
     "iopub.status.idle": "2024-04-01T20:23:37.265682Z",
     "shell.execute_reply": "2024-04-01T20:23:37.265416Z"
    },
    "papermill": {
     "duration": 0.016823,
     "end_time": "2024-04-01T20:23:37.266424",
     "exception": false,
     "start_time": "2024-04-01T20:23:37.249601",
     "status": "completed"
    },
    "tags": []
   },
   "outputs": [
    {
     "data": {
      "text/plain": [
       "user\n",
       "GF38storic                 34\n",
       "Anne Daemon                 1\n",
       "Sherwood6                   1\n",
       "Evpok                       0\n",
       "GrandEscogriffe             0\n",
       "Jean-Christophe BENOIST     0\n",
       "Le chat perché              0\n",
       "Lefringant                  0\n",
       "Lionel June                 0\n",
       "Nouill                      0\n",
       "Name: deadname_count, dtype: int64"
      ]
     },
     "execution_count": 17,
     "metadata": {},
     "output_type": "execute_result"
    }
   ],
   "source": [
    "(\n",
    "    talk_revisions\n",
    "    .assign(\n",
    "        deadname_count = lambda df: df.added.apply(lambda x: ' '.join(x).lower().count(decode(dead_name).lower()))\n",
    "    )\n",
    "    # depuis le sondage\n",
    "    .query('timestamp >= \"2024-01-15\"')\n",
    "    .groupby('user')\n",
    "    .deadname_count\n",
    "    .sum()\n",
    "    .sort_values(ascending=False)\n",
    "    .head(10)\n",
    ")"
   ]
  },
  {
   "cell_type": "code",
   "execution_count": 18,
   "id": "63fb08f4-6403-42c9-87ea-7851eb4853b9",
   "metadata": {
    "execution": {
     "iopub.execute_input": "2024-04-01T20:23:37.289562Z",
     "iopub.status.busy": "2024-04-01T20:23:37.289406Z",
     "iopub.status.idle": "2024-04-01T20:23:37.295643Z",
     "shell.execute_reply": "2024-04-01T20:23:37.295298Z"
    },
    "papermill": {
     "duration": 0.020193,
     "end_time": "2024-04-01T20:23:37.296376",
     "exception": false,
     "start_time": "2024-04-01T20:23:37.276183",
     "status": "completed"
    },
    "tags": []
   },
   "outputs": [
    {
     "data": {
      "text/html": [
       "<style type=\"text/css\">\n",
       "</style>\n",
       "<table id=\"T_38f0e\">\n",
       "  <thead>\n",
       "    <tr>\n",
       "      <th class=\"blank level0\" >&nbsp;</th>\n",
       "      <th id=\"T_38f0e_level0_col0\" class=\"col_heading level0 col0\" >user</th>\n",
       "      <th id=\"T_38f0e_level0_col1\" class=\"col_heading level0 col1\" >deadname_count</th>\n",
       "      <th id=\"T_38f0e_level0_col2\" class=\"col_heading level0 col2\" >timestamp</th>\n",
       "    </tr>\n",
       "    <tr>\n",
       "      <th class=\"index_name level0\" >revid</th>\n",
       "      <th class=\"blank col0\" >&nbsp;</th>\n",
       "      <th class=\"blank col1\" >&nbsp;</th>\n",
       "      <th class=\"blank col2\" >&nbsp;</th>\n",
       "    </tr>\n",
       "  </thead>\n",
       "  <tbody>\n",
       "    <tr>\n",
       "      <th id=\"T_38f0e_level0_row0\" class=\"row_heading level0 row0\" ><a href=\"https://fr.wikipedia.org/w/index.php?title=Discussion:Wendy_Carlos&diff=prev&oldid=213236855\">213236855</a></th>\n",
       "      <td id=\"T_38f0e_row0_col0\" class=\"data row0 col0\" >GF38storic</td>\n",
       "      <td id=\"T_38f0e_row0_col1\" class=\"data row0 col1\" >34</td>\n",
       "      <td id=\"T_38f0e_row0_col2\" class=\"data row0 col2\" >2024-03-10T19:33:36Z</td>\n",
       "    </tr>\n",
       "    <tr>\n",
       "      <th id=\"T_38f0e_level0_row1\" class=\"row_heading level0 row1\" ><a href=\"https://fr.wikipedia.org/w/index.php?title=Discussion:Wendy_Carlos&diff=prev&oldid=213130208\">213130208</a></th>\n",
       "      <td id=\"T_38f0e_row1_col0\" class=\"data row1 col0\" >Anne Daemon</td>\n",
       "      <td id=\"T_38f0e_row1_col1\" class=\"data row1 col1\" >1</td>\n",
       "      <td id=\"T_38f0e_row1_col2\" class=\"data row1 col2\" >2024-03-07T09:09:34Z</td>\n",
       "    </tr>\n",
       "    <tr>\n",
       "      <th id=\"T_38f0e_level0_row2\" class=\"row_heading level0 row2\" ><a href=\"https://fr.wikipedia.org/w/index.php?title=Discussion:Wendy_Carlos&diff=prev&oldid=212925337\">212925337</a></th>\n",
       "      <td id=\"T_38f0e_row2_col0\" class=\"data row2 col0\" >Sherwood6</td>\n",
       "      <td id=\"T_38f0e_row2_col1\" class=\"data row2 col1\" >1</td>\n",
       "      <td id=\"T_38f0e_row2_col2\" class=\"data row2 col2\" >2024-02-29T23:21:59Z</td>\n",
       "    </tr>\n",
       "  </tbody>\n",
       "</table>\n"
      ],
      "text/plain": [
       "<pandas.io.formats.style.Styler at 0x7a2a6ea7aa70>"
      ]
     },
     "execution_count": 18,
     "metadata": {},
     "output_type": "execute_result"
    }
   ],
   "source": [
    "(\n",
    "    talk_revisions\n",
    "    .assign(\n",
    "        deadname_count = lambda df: df.added.apply(lambda x: ' '.join(x).lower().count(decode(dead_name).lower()))\n",
    "    )\n",
    "    # depuis le sondage\n",
    "    .query('timestamp >= \"2024-01-15\"')\n",
    "    .query('deadname_count > 0')\n",
    "    [['user', 'deadname_count', 'timestamp']]\n",
    "    .style\n",
    "    .format_index(lambda x : format_revid_index(x, f'Discussion:{page_name}'))\n",
    ")"
   ]
  },
  {
   "cell_type": "code",
   "execution_count": 19,
   "id": "27f65dc8-0dab-464f-931b-4498c241e3f5",
   "metadata": {
    "execution": {
     "iopub.execute_input": "2024-04-01T20:23:37.316138Z",
     "iopub.status.busy": "2024-04-01T20:23:37.315922Z",
     "iopub.status.idle": "2024-04-01T20:23:37.321085Z",
     "shell.execute_reply": "2024-04-01T20:23:37.320829Z"
    },
    "papermill": {
     "duration": 0.015837,
     "end_time": "2024-04-01T20:23:37.321763",
     "exception": false,
     "start_time": "2024-04-01T20:23:37.305926",
     "status": "completed"
    },
    "tags": []
   },
   "outputs": [
    {
     "data": {
      "text/plain": [
       "3"
      ]
     },
     "execution_count": 19,
     "metadata": {},
     "output_type": "execute_result"
    }
   ],
   "source": [
    "len(\n",
    "    talk_revisions\n",
    "    .assign(\n",
    "        deadname_count = lambda df: df.added.apply(lambda x: ' '.join(x).lower().count(decode(dead_name).lower()))\n",
    "    )\n",
    "    # depuis le sondage\n",
    "    .query('timestamp >= \"2024-01-15\"')\n",
    "    .query('deadname_count > 0')\n",
    "    [['user', 'deadname_count']]\n",
    ")"
   ]
  },
  {
   "cell_type": "code",
   "execution_count": null,
   "id": "f53cbc6c-c121-4c41-895b-60d2eafe8fbe",
   "metadata": {
    "papermill": {
     "duration": 0.009763,
     "end_time": "2024-04-01T20:23:37.341723",
     "exception": false,
     "start_time": "2024-04-01T20:23:37.331960",
     "status": "completed"
    },
    "tags": []
   },
   "outputs": [],
   "source": []
  }
 ],
 "metadata": {
  "kernelspec": {
   "display_name": "Python 3 (ipykernel)",
   "language": "python",
   "name": "python3"
  },
  "language_info": {
   "codemirror_mode": {
    "name": "ipython",
    "version": 3
   },
   "file_extension": ".py",
   "mimetype": "text/x-python",
   "name": "python",
   "nbconvert_exporter": "python",
   "pygments_lexer": "ipython3",
   "version": "3.10.12"
  },
  "papermill": {
   "default_parameters": {},
   "duration": 165.493519,
   "end_time": "2024-04-01T20:23:37.567440",
   "environment_variables": {},
   "exception": null,
   "input_path": "cook_template_deadname_watch.ipynb",
   "output_path": "cook_eda_deadnames_wendy_carlos.ipynb",
   "parameters": {
    "co_date": null,
    "dead_name": "V2FsdGVy",
    "name": "Wendy Carlos",
    "page_name": "Wendy_Carlos"
   },
   "start_time": "2024-04-01T20:20:52.073921",
   "version": "2.4.0"
  }
 },
 "nbformat": 4,
 "nbformat_minor": 5
}