{
 "cells": [
  {
   "cell_type": "code",
   "execution_count": 1,
   "id": "2ad56d7a-56a0-4f9e-a19d-906c01ac23f1",
   "metadata": {
    "execution": {
     "iopub.execute_input": "2024-04-01T20:19:58.007035Z",
     "iopub.status.busy": "2024-04-01T20:19:58.006554Z",
     "iopub.status.idle": "2024-04-01T20:19:58.441849Z",
     "shell.execute_reply": "2024-04-01T20:19:58.441529Z"
    },
    "papermill": {
     "duration": 0.445472,
     "end_time": "2024-04-01T20:19:58.442739",
     "exception": false,
     "start_time": "2024-04-01T20:19:57.997267",
     "status": "completed"
    },
    "tags": []
   },
   "outputs": [],
   "source": [
    "import pandas as pd\n",
    "from bs4 import BeautifulSoup\n",
    "from tqdm import tqdm\n",
    "import base64\n",
    "\n",
    "tqdm.pandas()\n",
    "from wekeypedia import WikipediaPage as Page"
   ]
  },
  {
   "cell_type": "code",
   "execution_count": 2,
   "id": "23765632-31c5-4a46-a008-89df2f3fb17a",
   "metadata": {
    "execution": {
     "iopub.execute_input": "2024-04-01T20:19:58.446492Z",
     "iopub.status.busy": "2024-04-01T20:19:58.446359Z",
     "iopub.status.idle": "2024-04-01T20:19:58.448248Z",
     "shell.execute_reply": "2024-04-01T20:19:58.448006Z"
    },
    "papermill": {
     "duration": 0.004621,
     "end_time": "2024-04-01T20:19:58.449139",
     "exception": false,
     "start_time": "2024-04-01T20:19:58.444518",
     "status": "completed"
    },
    "tags": [
     "parameters"
    ]
   },
   "outputs": [],
   "source": [
    "name = \"Elliot Page\"\n",
    "dead_name = \"RWxsZW4=\"\n",
    "page_name = \"Elliot_Page\"\n",
    "co_date = \"2020-12-01\""
   ]
  },
  {
   "cell_type": "code",
   "execution_count": 3,
   "id": "fc85446b",
   "metadata": {
    "execution": {
     "iopub.execute_input": "2024-04-01T20:19:58.452167Z",
     "iopub.status.busy": "2024-04-01T20:19:58.452083Z",
     "iopub.status.idle": "2024-04-01T20:19:58.453492Z",
     "shell.execute_reply": "2024-04-01T20:19:58.453317Z"
    },
    "papermill": {
     "duration": 0.00367,
     "end_time": "2024-04-01T20:19:58.454097",
     "exception": false,
     "start_time": "2024-04-01T20:19:58.450427",
     "status": "completed"
    },
    "tags": [
     "injected-parameters"
    ]
   },
   "outputs": [],
   "source": [
    "# Parameters\n",
    "name = \"Jennell Jaquays\"\n",
    "dead_name = \"UGF1bCBKYXF1YXlz\"\n",
    "page_name = \"Jennell_Jaquays\"\n",
    "co_date = \"2021-03-04\"\n"
   ]
  },
  {
   "cell_type": "code",
   "execution_count": 4,
   "id": "743460e0-da77-4f86-bb1c-7e260dd25dd2",
   "metadata": {
    "execution": {
     "iopub.execute_input": "2024-04-01T20:19:58.457198Z",
     "iopub.status.busy": "2024-04-01T20:19:58.457055Z",
     "iopub.status.idle": "2024-04-01T20:19:58.458416Z",
     "shell.execute_reply": "2024-04-01T20:19:58.458236Z"
    },
    "papermill": {
     "duration": 0.003575,
     "end_time": "2024-04-01T20:19:58.458997",
     "exception": false,
     "start_time": "2024-04-01T20:19:58.455422",
     "status": "completed"
    },
    "tags": []
   },
   "outputs": [],
   "source": [
    "def format_revid_index(revid, page):\n",
    "    return f'<a href=\"https://fr.wikipedia.org/w/index.php?title={page}&diff=prev&oldid={revid}\">{revid}</a>'"
   ]
  },
  {
   "cell_type": "markdown",
   "id": "5cc2bf74-9863-42ee-a757-703825106697",
   "metadata": {
    "papermill": {
     "duration": 0.001361,
     "end_time": "2024-04-01T20:19:58.461645",
     "exception": false,
     "start_time": "2024-04-01T20:19:58.460284",
     "status": "completed"
    },
    "tags": []
   },
   "source": [
    "# qui sont personnes qui énoncent le deadname dans l'article ?"
   ]
  },
  {
   "cell_type": "markdown",
   "id": "ef5929df-44e4-4ab2-a25b-25c1db364961",
   "metadata": {
    "papermill": {
     "duration": 0.001478,
     "end_time": "2024-04-01T20:19:58.464415",
     "exception": false,
     "start_time": "2024-04-01T20:19:58.462937",
     "status": "completed"
    },
    "tags": []
   },
   "source": [
    "## article"
   ]
  },
  {
   "cell_type": "code",
   "execution_count": 5,
   "id": "eed28b1e-97c4-4eab-9ead-6a8b55b85187",
   "metadata": {
    "execution": {
     "iopub.execute_input": "2024-04-01T20:19:58.468262Z",
     "iopub.status.busy": "2024-04-01T20:19:58.468075Z",
     "iopub.status.idle": "2024-04-01T20:19:58.739098Z",
     "shell.execute_reply": "2024-04-01T20:19:58.737177Z"
    },
    "papermill": {
     "duration": 0.276423,
     "end_time": "2024-04-01T20:19:58.742424",
     "exception": false,
     "start_time": "2024-04-01T20:19:58.466001",
     "status": "completed"
    },
    "tags": []
   },
   "outputs": [],
   "source": [
    "page = Page(page_name, lang='fr')"
   ]
  },
  {
   "cell_type": "code",
   "execution_count": 6,
   "id": "e496177f-af35-4c14-84a2-40f86b9a0309",
   "metadata": {
    "execution": {
     "iopub.execute_input": "2024-04-01T20:19:58.759858Z",
     "iopub.status.busy": "2024-04-01T20:19:58.759546Z",
     "iopub.status.idle": "2024-04-01T20:20:26.743366Z",
     "shell.execute_reply": "2024-04-01T20:20:26.743140Z"
    },
    "papermill": {
     "duration": 27.993456,
     "end_time": "2024-04-01T20:20:26.744008",
     "exception": false,
     "start_time": "2024-04-01T20:19:58.750552",
     "status": "completed"
    },
    "tags": []
   },
   "outputs": [
    {
     "name": "stderr",
     "output_type": "stream",
     "text": [
      "\r",
      "  0%|          | 0/75 [00:00<?, ?it/s]"
     ]
    },
    {
     "name": "stderr",
     "output_type": "stream",
     "text": [
      "\r",
      "  3%|▎         | 2/75 [00:00<00:10,  6.93it/s]"
     ]
    },
    {
     "name": "stderr",
     "output_type": "stream",
     "text": [
      "\r",
      "  4%|▍         | 3/75 [00:00<00:15,  4.78it/s]"
     ]
    },
    {
     "name": "stderr",
     "output_type": "stream",
     "text": [
      "\r",
      "  5%|▌         | 4/75 [00:00<00:17,  4.02it/s]"
     ]
    },
    {
     "name": "stderr",
     "output_type": "stream",
     "text": [
      "\r",
      "  7%|▋         | 5/75 [00:01<00:19,  3.58it/s]"
     ]
    },
    {
     "name": "stderr",
     "output_type": "stream",
     "text": [
      "\r",
      "  8%|▊         | 6/75 [00:01<00:23,  2.96it/s]"
     ]
    },
    {
     "name": "stderr",
     "output_type": "stream",
     "text": [
      "\r",
      "  9%|▉         | 7/75 [00:02<00:22,  3.03it/s]"
     ]
    },
    {
     "name": "stderr",
     "output_type": "stream",
     "text": [
      "\r",
      " 11%|█         | 8/75 [00:02<00:21,  3.10it/s]"
     ]
    },
    {
     "name": "stderr",
     "output_type": "stream",
     "text": [
      "\r",
      " 12%|█▏        | 9/75 [00:02<00:21,  3.10it/s]"
     ]
    },
    {
     "name": "stderr",
     "output_type": "stream",
     "text": [
      "\r",
      " 13%|█▎        | 10/75 [00:02<00:20,  3.11it/s]"
     ]
    },
    {
     "name": "stderr",
     "output_type": "stream",
     "text": [
      "\r",
      " 15%|█▍        | 11/75 [00:03<00:20,  3.13it/s]"
     ]
    },
    {
     "name": "stderr",
     "output_type": "stream",
     "text": [
      "\r",
      " 16%|█▌        | 12/75 [00:03<00:19,  3.20it/s]"
     ]
    },
    {
     "name": "stderr",
     "output_type": "stream",
     "text": [
      "\r",
      " 17%|█▋        | 13/75 [00:03<00:19,  3.26it/s]"
     ]
    },
    {
     "name": "stderr",
     "output_type": "stream",
     "text": [
      "\r",
      " 19%|█▊        | 14/75 [00:04<00:18,  3.36it/s]"
     ]
    },
    {
     "name": "stderr",
     "output_type": "stream",
     "text": [
      "\r",
      " 20%|██        | 15/75 [00:04<00:17,  3.34it/s]"
     ]
    },
    {
     "name": "stderr",
     "output_type": "stream",
     "text": [
      "\r",
      " 21%|██▏       | 16/75 [00:04<00:18,  3.18it/s]"
     ]
    },
    {
     "name": "stderr",
     "output_type": "stream",
     "text": [
      "\r",
      " 23%|██▎       | 17/75 [00:05<00:20,  2.85it/s]"
     ]
    },
    {
     "name": "stderr",
     "output_type": "stream",
     "text": [
      "\r",
      " 24%|██▍       | 18/75 [00:05<00:20,  2.80it/s]"
     ]
    },
    {
     "name": "stderr",
     "output_type": "stream",
     "text": [
      "\r",
      " 25%|██▌       | 19/75 [00:05<00:19,  2.90it/s]"
     ]
    },
    {
     "name": "stderr",
     "output_type": "stream",
     "text": [
      "\r",
      " 27%|██▋       | 20/75 [00:06<00:18,  2.90it/s]"
     ]
    },
    {
     "name": "stderr",
     "output_type": "stream",
     "text": [
      "\r",
      " 28%|██▊       | 21/75 [00:06<00:18,  2.86it/s]"
     ]
    },
    {
     "name": "stderr",
     "output_type": "stream",
     "text": [
      "\r",
      " 29%|██▉       | 22/75 [00:06<00:17,  3.01it/s]"
     ]
    },
    {
     "name": "stderr",
     "output_type": "stream",
     "text": [
      "\r",
      " 31%|███       | 23/75 [00:07<00:17,  3.05it/s]"
     ]
    },
    {
     "name": "stderr",
     "output_type": "stream",
     "text": [
      "\r",
      " 32%|███▏      | 24/75 [00:07<00:16,  3.15it/s]"
     ]
    },
    {
     "name": "stderr",
     "output_type": "stream",
     "text": [
      "\r",
      " 33%|███▎      | 25/75 [00:07<00:15,  3.13it/s]"
     ]
    },
    {
     "name": "stderr",
     "output_type": "stream",
     "text": [
      "\r",
      " 35%|███▍      | 26/75 [00:08<00:16,  2.92it/s]"
     ]
    },
    {
     "name": "stderr",
     "output_type": "stream",
     "text": [
      "\r",
      " 36%|███▌      | 27/75 [00:08<00:15,  3.00it/s]"
     ]
    },
    {
     "name": "stderr",
     "output_type": "stream",
     "text": [
      "\r",
      " 37%|███▋      | 28/75 [00:08<00:15,  2.97it/s]"
     ]
    },
    {
     "name": "stderr",
     "output_type": "stream",
     "text": [
      "\r",
      " 39%|███▊      | 29/75 [00:09<00:15,  3.04it/s]"
     ]
    },
    {
     "name": "stderr",
     "output_type": "stream",
     "text": [
      "\r",
      " 40%|████      | 30/75 [00:09<00:15,  2.90it/s]"
     ]
    },
    {
     "name": "stderr",
     "output_type": "stream",
     "text": [
      "\r",
      " 41%|████▏     | 31/75 [00:09<00:14,  2.97it/s]"
     ]
    },
    {
     "name": "stderr",
     "output_type": "stream",
     "text": [
      "\r",
      " 43%|████▎     | 32/75 [00:10<00:14,  3.00it/s]"
     ]
    },
    {
     "name": "stderr",
     "output_type": "stream",
     "text": [
      "\r",
      " 44%|████▍     | 33/75 [00:10<00:13,  3.01it/s]"
     ]
    },
    {
     "name": "stderr",
     "output_type": "stream",
     "text": [
      "\r",
      " 45%|████▌     | 34/75 [00:10<00:13,  3.08it/s]"
     ]
    },
    {
     "name": "stderr",
     "output_type": "stream",
     "text": [
      "\r",
      " 47%|████▋     | 35/75 [00:11<00:13,  2.95it/s]"
     ]
    },
    {
     "name": "stderr",
     "output_type": "stream",
     "text": [
      "\r",
      " 48%|████▊     | 36/75 [00:11<00:13,  2.92it/s]"
     ]
    },
    {
     "name": "stderr",
     "output_type": "stream",
     "text": [
      "\r",
      " 49%|████▉     | 37/75 [00:12<00:14,  2.54it/s]"
     ]
    },
    {
     "name": "stderr",
     "output_type": "stream",
     "text": [
      "\r",
      " 51%|█████     | 38/75 [00:12<00:13,  2.71it/s]"
     ]
    },
    {
     "name": "stderr",
     "output_type": "stream",
     "text": [
      "\r",
      " 52%|█████▏    | 39/75 [00:12<00:12,  2.87it/s]"
     ]
    },
    {
     "name": "stderr",
     "output_type": "stream",
     "text": [
      "\r",
      " 53%|█████▎    | 40/75 [00:13<00:11,  2.96it/s]"
     ]
    },
    {
     "name": "stderr",
     "output_type": "stream",
     "text": [
      "\r",
      " 55%|█████▍    | 41/75 [00:13<00:13,  2.45it/s]"
     ]
    },
    {
     "name": "stderr",
     "output_type": "stream",
     "text": [
      "\r",
      " 56%|█████▌    | 42/75 [00:13<00:12,  2.60it/s]"
     ]
    },
    {
     "name": "stderr",
     "output_type": "stream",
     "text": [
      "\r",
      " 57%|█████▋    | 43/75 [00:14<00:11,  2.72it/s]"
     ]
    },
    {
     "name": "stderr",
     "output_type": "stream",
     "text": [
      "\r",
      " 59%|█████▊    | 44/75 [00:14<00:10,  2.88it/s]"
     ]
    },
    {
     "name": "stderr",
     "output_type": "stream",
     "text": [
      "\r",
      " 60%|██████    | 45/75 [00:14<00:10,  2.98it/s]"
     ]
    },
    {
     "name": "stderr",
     "output_type": "stream",
     "text": [
      "\r",
      " 61%|██████▏   | 46/75 [00:15<00:09,  3.09it/s]"
     ]
    },
    {
     "name": "stderr",
     "output_type": "stream",
     "text": [
      "\r",
      " 63%|██████▎   | 47/75 [00:15<00:09,  3.10it/s]"
     ]
    },
    {
     "name": "stderr",
     "output_type": "stream",
     "text": [
      "\r",
      " 64%|██████▍   | 48/75 [00:15<00:08,  3.17it/s]"
     ]
    },
    {
     "name": "stderr",
     "output_type": "stream",
     "text": [
      "\r",
      " 65%|██████▌   | 49/75 [00:16<00:09,  2.76it/s]"
     ]
    },
    {
     "name": "stderr",
     "output_type": "stream",
     "text": [
      "\r",
      " 67%|██████▋   | 50/75 [00:16<00:08,  2.89it/s]"
     ]
    },
    {
     "name": "stderr",
     "output_type": "stream",
     "text": [
      "\r",
      " 68%|██████▊   | 51/75 [00:17<00:08,  2.67it/s]"
     ]
    },
    {
     "name": "stderr",
     "output_type": "stream",
     "text": [
      "\r",
      " 69%|██████▉   | 52/75 [00:17<00:09,  2.41it/s]"
     ]
    },
    {
     "name": "stderr",
     "output_type": "stream",
     "text": [
      "\r",
      " 71%|███████   | 53/75 [00:18<00:09,  2.28it/s]"
     ]
    },
    {
     "name": "stderr",
     "output_type": "stream",
     "text": [
      "\r",
      " 72%|███████▏  | 54/75 [00:18<00:10,  1.99it/s]"
     ]
    },
    {
     "name": "stderr",
     "output_type": "stream",
     "text": [
      "\r",
      " 73%|███████▎  | 55/75 [00:18<00:09,  2.21it/s]"
     ]
    },
    {
     "name": "stderr",
     "output_type": "stream",
     "text": [
      "\r",
      " 75%|███████▍  | 56/75 [00:19<00:09,  2.10it/s]"
     ]
    },
    {
     "name": "stderr",
     "output_type": "stream",
     "text": [
      "\r",
      " 76%|███████▌  | 57/75 [00:20<00:08,  2.08it/s]"
     ]
    },
    {
     "name": "stderr",
     "output_type": "stream",
     "text": [
      "\r",
      " 77%|███████▋  | 58/75 [00:20<00:08,  2.02it/s]"
     ]
    },
    {
     "name": "stderr",
     "output_type": "stream",
     "text": [
      "\r",
      " 79%|███████▊  | 59/75 [00:20<00:07,  2.23it/s]"
     ]
    },
    {
     "name": "stderr",
     "output_type": "stream",
     "text": [
      "\r",
      " 80%|████████  | 60/75 [00:21<00:06,  2.42it/s]"
     ]
    },
    {
     "name": "stderr",
     "output_type": "stream",
     "text": [
      "\r",
      " 81%|████████▏ | 61/75 [00:21<00:05,  2.39it/s]"
     ]
    },
    {
     "name": "stderr",
     "output_type": "stream",
     "text": [
      "\r",
      " 83%|████████▎ | 62/75 [00:21<00:05,  2.55it/s]"
     ]
    },
    {
     "name": "stderr",
     "output_type": "stream",
     "text": [
      "\r",
      " 84%|████████▍ | 63/75 [00:22<00:05,  2.38it/s]"
     ]
    },
    {
     "name": "stderr",
     "output_type": "stream",
     "text": [
      "\r",
      " 85%|████████▌ | 64/75 [00:22<00:04,  2.49it/s]"
     ]
    },
    {
     "name": "stderr",
     "output_type": "stream",
     "text": [
      "\r",
      " 87%|████████▋ | 65/75 [00:23<00:04,  2.49it/s]"
     ]
    },
    {
     "name": "stderr",
     "output_type": "stream",
     "text": [
      "\r",
      " 88%|████████▊ | 66/75 [00:23<00:03,  2.54it/s]"
     ]
    },
    {
     "name": "stderr",
     "output_type": "stream",
     "text": [
      "\r",
      " 89%|████████▉ | 67/75 [00:24<00:03,  2.53it/s]"
     ]
    },
    {
     "name": "stderr",
     "output_type": "stream",
     "text": [
      "\r",
      " 91%|█████████ | 68/75 [00:24<00:02,  2.61it/s]"
     ]
    },
    {
     "name": "stderr",
     "output_type": "stream",
     "text": [
      "\r",
      " 92%|█████████▏| 69/75 [00:24<00:02,  2.76it/s]"
     ]
    },
    {
     "name": "stderr",
     "output_type": "stream",
     "text": [
      "\r",
      " 93%|█████████▎| 70/75 [00:24<00:01,  2.88it/s]"
     ]
    },
    {
     "name": "stderr",
     "output_type": "stream",
     "text": [
      "\r",
      " 95%|█████████▍| 71/75 [00:25<00:01,  2.52it/s]"
     ]
    },
    {
     "name": "stderr",
     "output_type": "stream",
     "text": [
      "\r",
      " 96%|█████████▌| 72/75 [00:25<00:01,  2.74it/s]"
     ]
    },
    {
     "name": "stderr",
     "output_type": "stream",
     "text": [
      "\r",
      " 97%|█████████▋| 73/75 [00:26<00:00,  2.63it/s]"
     ]
    },
    {
     "name": "stderr",
     "output_type": "stream",
     "text": [
      "\r",
      " 99%|█████████▊| 74/75 [00:26<00:00,  2.74it/s]"
     ]
    },
    {
     "name": "stderr",
     "output_type": "stream",
     "text": [
      "\r",
      "100%|██████████| 75/75 [00:26<00:00,  2.67it/s]"
     ]
    },
    {
     "name": "stderr",
     "output_type": "stream",
     "text": [
      "\r",
      "100%|██████████| 75/75 [00:27<00:00,  2.75it/s]"
     ]
    },
    {
     "name": "stderr",
     "output_type": "stream",
     "text": [
      "\n"
     ]
    },
    {
     "data": {
      "text/html": [
       "<div>\n",
       "<style scoped>\n",
       "    .dataframe tbody tr th:only-of-type {\n",
       "        vertical-align: middle;\n",
       "    }\n",
       "\n",
       "    .dataframe tbody tr th {\n",
       "        vertical-align: top;\n",
       "    }\n",
       "\n",
       "    .dataframe thead th {\n",
       "        text-align: right;\n",
       "    }\n",
       "</style>\n",
       "<table border=\"1\" class=\"dataframe\">\n",
       "  <thead>\n",
       "    <tr style=\"text-align: right;\">\n",
       "      <th></th>\n",
       "      <th>parentid</th>\n",
       "      <th>user</th>\n",
       "      <th>userid</th>\n",
       "      <th>timestamp</th>\n",
       "      <th>size</th>\n",
       "      <th>sha1</th>\n",
       "      <th>comment</th>\n",
       "      <th>anon</th>\n",
       "      <th>diff</th>\n",
       "      <th>deleted</th>\n",
       "      <th>added</th>\n",
       "    </tr>\n",
       "    <tr>\n",
       "      <th>revid</th>\n",
       "      <th></th>\n",
       "      <th></th>\n",
       "      <th></th>\n",
       "      <th></th>\n",
       "      <th></th>\n",
       "      <th></th>\n",
       "      <th></th>\n",
       "      <th></th>\n",
       "      <th></th>\n",
       "      <th></th>\n",
       "      <th></th>\n",
       "    </tr>\n",
       "  </thead>\n",
       "  <tbody>\n",
       "    <tr>\n",
       "      <th>213143912</th>\n",
       "      <td>213143881</td>\n",
       "      <td>Skouratov</td>\n",
       "      <td>926212</td>\n",
       "      <td>2024-03-07T18:21:02Z</td>\n",
       "      <td>26666</td>\n",
       "      <td>4640478c72a1d9b804143ace578689ffd0c735d0</td>\n",
       "      <td>/* The Dungeoneer et les jeux de rôle fantasti...</td>\n",
       "      <td>NaN</td>\n",
       "      <td>&lt;tr&gt;\\n  &lt;td colspan=\"2\" class=\"diff-lineno\"&gt;Li...</td>\n",
       "      <td>[]]]</td>\n",
       "      <td>[]]]</td>\n",
       "    </tr>\n",
       "    <tr>\n",
       "      <th>213143881</th>\n",
       "      <td>213143869</td>\n",
       "      <td>Skouratov</td>\n",
       "      <td>926212</td>\n",
       "      <td>2024-03-07T18:20:09Z</td>\n",
       "      <td>26666</td>\n",
       "      <td>11af4b74f22b205943a9bc697da30f93d5c652af</td>\n",
       "      <td>/* Judges Guild, projets de jeux de rôle indép...</td>\n",
       "      <td>NaN</td>\n",
       "      <td>&lt;tr&gt;\\n  &lt;td colspan=\"2\" class=\"diff-lineno\"&gt;Li...</td>\n",
       "      <td>[company]</td>\n",
       "      <td>[entreprise]</td>\n",
       "    </tr>\n",
       "    <tr>\n",
       "      <th>213143869</th>\n",
       "      <td>213143855</td>\n",
       "      <td>Skouratov</td>\n",
       "      <td>926212</td>\n",
       "      <td>2024-03-07T18:19:43Z</td>\n",
       "      <td>26663</td>\n",
       "      <td>3eedcd66bb98458ab21c32da3d02a36ee1ce0323</td>\n",
       "      <td>/* The Dungeoneer et les jeux de rôle fantasti...</td>\n",
       "      <td>NaN</td>\n",
       "      <td>&lt;tr&gt;\\n  &lt;td colspan=\"2\" class=\"diff-lineno\"&gt;Li...</td>\n",
       "      <td>[Édinbourg, company]</td>\n",
       "      <td>[Édimbourg, entreprise]</td>\n",
       "    </tr>\n",
       "    <tr>\n",
       "      <th>213143855</th>\n",
       "      <td>213141826</td>\n",
       "      <td>Skouratov</td>\n",
       "      <td>926212</td>\n",
       "      <td>2024-03-07T18:18:45Z</td>\n",
       "      <td>26660</td>\n",
       "      <td>db2907b5c8b17221db7a40c620c2d1d2f682c950</td>\n",
       "      <td>/* The Dungeoneer et les jeux de rôle fantasti...</td>\n",
       "      <td>NaN</td>\n",
       "      <td>&lt;tr&gt;\\n  &lt;td colspan=\"2\" class=\"diff-lineno\"&gt;Li...</td>\n",
       "      <td>[company]</td>\n",
       "      <td>[entreprise]</td>\n",
       "    </tr>\n",
       "    <tr>\n",
       "      <th>213141826</th>\n",
       "      <td>213037363</td>\n",
       "      <td>Skouratov</td>\n",
       "      <td>926212</td>\n",
       "      <td>2024-03-07T16:53:46Z</td>\n",
       "      <td>26657</td>\n",
       "      <td>103ae0b6537ecde00e79c206441bc07711b6cea6</td>\n",
       "      <td></td>\n",
       "      <td>NaN</td>\n",
       "      <td>&lt;tr&gt;\\n  &lt;td colspan=\"2\" class=\"diff-lineno\"&gt;Li...</td>\n",
       "      <td>[,, California, ,, Edinburgh, Scotland, ,]</td>\n",
       "      <td>[(Californie), (, ), Édinbourg, Écosse, (, )]</td>\n",
       "    </tr>\n",
       "    <tr>\n",
       "      <th>...</th>\n",
       "      <td>...</td>\n",
       "      <td>...</td>\n",
       "      <td>...</td>\n",
       "      <td>...</td>\n",
       "      <td>...</td>\n",
       "      <td>...</td>\n",
       "      <td>...</td>\n",
       "      <td>...</td>\n",
       "      <td>...</td>\n",
       "      <td>...</td>\n",
       "      <td>...</td>\n",
       "    </tr>\n",
       "    <tr>\n",
       "      <th>194235829</th>\n",
       "      <td>194235782</td>\n",
       "      <td>JilanoB</td>\n",
       "      <td>2951316</td>\n",
       "      <td>2022-06-03T20:24:44Z</td>\n",
       "      <td>27715</td>\n",
       "      <td>6535777e0f8df7c9521f7caf288db3e6e62e6062</td>\n",
       "      <td>/* Activisme */</td>\n",
       "      <td>NaN</td>\n",
       "      <td>&lt;tr&gt;\\n  &lt;td colspan=\"2\" class=\"diff-lineno\"&gt;Li...</td>\n",
       "      <td>[Cite, news, access-date, 2017, 12, 01]</td>\n",
       "      <td>[Lien web |prénom=Julia |nom=Glum |titre=Leela...</td>\n",
       "    </tr>\n",
       "    <tr>\n",
       "      <th>194235782</th>\n",
       "      <td>194235515</td>\n",
       "      <td>JilanoB</td>\n",
       "      <td>2951316</td>\n",
       "      <td>2022-06-03T20:23:07Z</td>\n",
       "      <td>27418</td>\n",
       "      <td>1db52a68ef8dbafdfee3a57f933a018686d2e252</td>\n",
       "      <td>/* Judges Guild, projets de jeux de rôle indép...</td>\n",
       "      <td>NaN</td>\n",
       "      <td>&lt;tr&gt;\\n  &lt;td colspan=\"2\" class=\"diff-lineno\"&gt;Li...</td>\n",
       "      <td>[. , name, \"ciroint\", &lt;cite class=\"citation we...</td>\n",
       "      <td>[&gt;{{Lien, web |titre, Read, the Paul Jaquays i...</td>\n",
       "    </tr>\n",
       "    <tr>\n",
       "      <th>194235515</th>\n",
       "      <td>194235446</td>\n",
       "      <td>JilanoB</td>\n",
       "      <td>2951316</td>\n",
       "      <td>2022-06-03T20:12:51Z</td>\n",
       "      <td>28081</td>\n",
       "      <td>1f788b23ab58b3e118768b9c82536c5eeff493d5</td>\n",
       "      <td></td>\n",
       "      <td>NaN</td>\n",
       "      <td>&lt;tr&gt;\\n  &lt;td colspan=\"2\" class=\"diff-lineno\"&gt;Li...</td>\n",
       "      <td>[&lt;nowiki&gt;, &lt;/nowiki&gt;]</td>\n",
       "      <td>[{{Traduction/Référence|en|Jennell Jaquays|107...</td>\n",
       "    </tr>\n",
       "    <tr>\n",
       "      <th>194235446</th>\n",
       "      <td>194235244</td>\n",
       "      <td>JilanoB</td>\n",
       "      <td>2951316</td>\n",
       "      <td>2022-06-03T20:10:06Z</td>\n",
       "      <td>28040</td>\n",
       "      <td>5e9cc3ed891eb3a7cd99e37bd9576bab044eb25d</td>\n",
       "      <td></td>\n",
       "      <td>NaN</td>\n",
       "      <td>&lt;tr&gt;\\n  &lt;td colspan=\"2\" class=\"diff-lineno\"&gt;Li...</td>\n",
       "      <td>[ name=\"jaquaysaboutpaul\",  name=\"escapistinte...</td>\n",
       "      <td>[]</td>\n",
       "    </tr>\n",
       "    <tr>\n",
       "      <th>194235244</th>\n",
       "      <td>0</td>\n",
       "      <td>JilanoB</td>\n",
       "      <td>2951316</td>\n",
       "      <td>2022-06-03T20:00:59Z</td>\n",
       "      <td>28139</td>\n",
       "      <td>05f176f103d7e2627c525692c002b7712da7d70b</td>\n",
       "      <td>Créé en traduisant la page « [[:en:Special:Red...</td>\n",
       "      <td>NaN</td>\n",
       "      <td></td>\n",
       "      <td>[]</td>\n",
       "      <td>[]</td>\n",
       "    </tr>\n",
       "  </tbody>\n",
       "</table>\n",
       "<p>75 rows × 11 columns</p>\n",
       "</div>"
      ],
      "text/plain": [
       "            parentid       user   userid             timestamp   size  \\\n",
       "revid                                                                   \n",
       "213143912  213143881  Skouratov   926212  2024-03-07T18:21:02Z  26666   \n",
       "213143881  213143869  Skouratov   926212  2024-03-07T18:20:09Z  26666   \n",
       "213143869  213143855  Skouratov   926212  2024-03-07T18:19:43Z  26663   \n",
       "213143855  213141826  Skouratov   926212  2024-03-07T18:18:45Z  26660   \n",
       "213141826  213037363  Skouratov   926212  2024-03-07T16:53:46Z  26657   \n",
       "...              ...        ...      ...                   ...    ...   \n",
       "194235829  194235782    JilanoB  2951316  2022-06-03T20:24:44Z  27715   \n",
       "194235782  194235515    JilanoB  2951316  2022-06-03T20:23:07Z  27418   \n",
       "194235515  194235446    JilanoB  2951316  2022-06-03T20:12:51Z  28081   \n",
       "194235446  194235244    JilanoB  2951316  2022-06-03T20:10:06Z  28040   \n",
       "194235244          0    JilanoB  2951316  2022-06-03T20:00:59Z  28139   \n",
       "\n",
       "                                               sha1  \\\n",
       "revid                                                 \n",
       "213143912  4640478c72a1d9b804143ace578689ffd0c735d0   \n",
       "213143881  11af4b74f22b205943a9bc697da30f93d5c652af   \n",
       "213143869  3eedcd66bb98458ab21c32da3d02a36ee1ce0323   \n",
       "213143855  db2907b5c8b17221db7a40c620c2d1d2f682c950   \n",
       "213141826  103ae0b6537ecde00e79c206441bc07711b6cea6   \n",
       "...                                             ...   \n",
       "194235829  6535777e0f8df7c9521f7caf288db3e6e62e6062   \n",
       "194235782  1db52a68ef8dbafdfee3a57f933a018686d2e252   \n",
       "194235515  1f788b23ab58b3e118768b9c82536c5eeff493d5   \n",
       "194235446  5e9cc3ed891eb3a7cd99e37bd9576bab044eb25d   \n",
       "194235244  05f176f103d7e2627c525692c002b7712da7d70b   \n",
       "\n",
       "                                                     comment anon  \\\n",
       "revid                                                               \n",
       "213143912  /* The Dungeoneer et les jeux de rôle fantasti...  NaN   \n",
       "213143881  /* Judges Guild, projets de jeux de rôle indép...  NaN   \n",
       "213143869  /* The Dungeoneer et les jeux de rôle fantasti...  NaN   \n",
       "213143855  /* The Dungeoneer et les jeux de rôle fantasti...  NaN   \n",
       "213141826                                                     NaN   \n",
       "...                                                      ...  ...   \n",
       "194235829                                    /* Activisme */  NaN   \n",
       "194235782  /* Judges Guild, projets de jeux de rôle indép...  NaN   \n",
       "194235515                                                     NaN   \n",
       "194235446                                                     NaN   \n",
       "194235244  Créé en traduisant la page « [[:en:Special:Red...  NaN   \n",
       "\n",
       "                                                        diff  \\\n",
       "revid                                                          \n",
       "213143912  <tr>\\n  <td colspan=\"2\" class=\"diff-lineno\">Li...   \n",
       "213143881  <tr>\\n  <td colspan=\"2\" class=\"diff-lineno\">Li...   \n",
       "213143869  <tr>\\n  <td colspan=\"2\" class=\"diff-lineno\">Li...   \n",
       "213143855  <tr>\\n  <td colspan=\"2\" class=\"diff-lineno\">Li...   \n",
       "213141826  <tr>\\n  <td colspan=\"2\" class=\"diff-lineno\">Li...   \n",
       "...                                                      ...   \n",
       "194235829  <tr>\\n  <td colspan=\"2\" class=\"diff-lineno\">Li...   \n",
       "194235782  <tr>\\n  <td colspan=\"2\" class=\"diff-lineno\">Li...   \n",
       "194235515  <tr>\\n  <td colspan=\"2\" class=\"diff-lineno\">Li...   \n",
       "194235446  <tr>\\n  <td colspan=\"2\" class=\"diff-lineno\">Li...   \n",
       "194235244                                                      \n",
       "\n",
       "                                                     deleted  \\\n",
       "revid                                                          \n",
       "213143912                                               []]]   \n",
       "213143881                                          [company]   \n",
       "213143869                               [Édinbourg, company]   \n",
       "213143855                                          [company]   \n",
       "213141826         [,, California, ,, Edinburgh, Scotland, ,]   \n",
       "...                                                      ...   \n",
       "194235829            [Cite, news, access-date, 2017, 12, 01]   \n",
       "194235782  [. , name, \"ciroint\", <cite class=\"citation we...   \n",
       "194235515                              [<nowiki>, </nowiki>]   \n",
       "194235446  [ name=\"jaquaysaboutpaul\",  name=\"escapistinte...   \n",
       "194235244                                                 []   \n",
       "\n",
       "                                                       added  \n",
       "revid                                                         \n",
       "213143912                                               []]]  \n",
       "213143881                                       [entreprise]  \n",
       "213143869                            [Édimbourg, entreprise]  \n",
       "213143855                                       [entreprise]  \n",
       "213141826      [(Californie), (, ), Édinbourg, Écosse, (, )]  \n",
       "...                                                      ...  \n",
       "194235829  [Lien web |prénom=Julia |nom=Glum |titre=Leela...  \n",
       "194235782  [>{{Lien, web |titre, Read, the Paul Jaquays i...  \n",
       "194235515  [{{Traduction/Référence|en|Jennell Jaquays|107...  \n",
       "194235446                                                 []  \n",
       "194235244                                                 []  \n",
       "\n",
       "[75 rows x 11 columns]"
      ]
     },
     "execution_count": 6,
     "metadata": {},
     "output_type": "execute_result"
    }
   ],
   "source": [
    "revisions = (\n",
    "    pd\n",
    "    .DataFrame\n",
    "    .from_records(page.get_revisions_list())\n",
    "    .assign(\n",
    "        diff = lambda df: df.revid.progress_apply(lambda x: page.get_diff(x)).fillna(''),\n",
    "        deleted = lambda df: df['diff'].apply(lambda diff: page.extract_plusminus(diff)['deleted']),\n",
    "        added = lambda df: df['diff'].apply(lambda diff: page.extract_plusminus(diff)['added']),\n",
    "    )\n",
    "    .set_index('revid')\n",
    ")\n",
    "\n",
    "revisions"
   ]
  },
  {
   "cell_type": "code",
   "execution_count": 7,
   "id": "c589c8bc-5e6a-4361-bb5c-99b125c56fd4",
   "metadata": {
    "execution": {
     "iopub.execute_input": "2024-04-01T20:20:26.755688Z",
     "iopub.status.busy": "2024-04-01T20:20:26.755587Z",
     "iopub.status.idle": "2024-04-01T20:20:26.763847Z",
     "shell.execute_reply": "2024-04-01T20:20:26.763623Z"
    },
    "papermill": {
     "duration": 0.017231,
     "end_time": "2024-04-01T20:20:26.764425",
     "exception": false,
     "start_time": "2024-04-01T20:20:26.747194",
     "status": "completed"
    },
    "tags": []
   },
   "outputs": [],
   "source": [
    "revisions.to_csv(f'../data/page-revisions/{page_name.lower()}.csv')"
   ]
  },
  {
   "cell_type": "code",
   "execution_count": 8,
   "id": "32533855-d09c-42e1-9071-35f10655dcd8",
   "metadata": {
    "execution": {
     "iopub.execute_input": "2024-04-01T20:20:26.770345Z",
     "iopub.status.busy": "2024-04-01T20:20:26.770235Z",
     "iopub.status.idle": "2024-04-01T20:20:26.771757Z",
     "shell.execute_reply": "2024-04-01T20:20:26.771548Z"
    },
    "papermill": {
     "duration": 0.004983,
     "end_time": "2024-04-01T20:20:26.772199",
     "exception": false,
     "start_time": "2024-04-01T20:20:26.767216",
     "status": "completed"
    },
    "tags": []
   },
   "outputs": [],
   "source": [
    "def decode(string):\n",
    "    return base64.b64decode(string).decode(\"utf-8\")"
   ]
  },
  {
   "cell_type": "code",
   "execution_count": 9,
   "id": "bea34dc6-f504-44a9-846f-39e8401c62f7",
   "metadata": {
    "execution": {
     "iopub.execute_input": "2024-04-01T20:20:26.778595Z",
     "iopub.status.busy": "2024-04-01T20:20:26.778432Z",
     "iopub.status.idle": "2024-04-01T20:20:26.780068Z",
     "shell.execute_reply": "2024-04-01T20:20:26.779826Z"
    },
    "papermill": {
     "duration": 0.005747,
     "end_time": "2024-04-01T20:20:26.780689",
     "exception": false,
     "start_time": "2024-04-01T20:20:26.774942",
     "status": "completed"
    },
    "tags": []
   },
   "outputs": [],
   "source": [
    "# (\n",
    "#     revisions\n",
    "#     .assign(\n",
    "#         deadnames = lambda df: df['*'].apply(lambda x: str(x).lower().count(decode(dead_name).lower()))\n",
    "#     )\n",
    "#     #.reset_index()\n",
    "#     [['timestamp', 'deadnames']]\n",
    "#     .assign(\n",
    "#         date = lambda df: pd.to_datetime(df.timestamp).dt.date\n",
    "#     )\n",
    "#     .groupby('date')\n",
    "#     .agg({'deadnames': 'mean'})\n",
    "#     .plot\n",
    "#     .line(\n",
    "#         figsize=(15,10)\n",
    "#     )\n",
    "# )"
   ]
  },
  {
   "cell_type": "markdown",
   "id": "49e1e9d0-0960-4573-a7d3-a7a218c3c34f",
   "metadata": {
    "papermill": {
     "duration": 0.005513,
     "end_time": "2024-04-01T20:20:26.790526",
     "exception": false,
     "start_time": "2024-04-01T20:20:26.785013",
     "status": "completed"
    },
    "tags": []
   },
   "source": [
    "### depuis le coming out"
   ]
  },
  {
   "cell_type": "code",
   "execution_count": 10,
   "id": "308c3a1c-e446-42b8-b087-915ff9fdf05f",
   "metadata": {
    "execution": {
     "iopub.execute_input": "2024-04-01T20:20:26.797749Z",
     "iopub.status.busy": "2024-04-01T20:20:26.797587Z",
     "iopub.status.idle": "2024-04-01T20:20:26.802554Z",
     "shell.execute_reply": "2024-04-01T20:20:26.802310Z"
    },
    "papermill": {
     "duration": 0.008868,
     "end_time": "2024-04-01T20:20:26.803267",
     "exception": false,
     "start_time": "2024-04-01T20:20:26.794399",
     "status": "completed"
    },
    "tags": []
   },
   "outputs": [
    {
     "data": {
      "text/plain": [
       "user\n",
       "2A01:CB09:B069:C899:93E7:FDCE:FC91:45DA    1\n",
       "JilanoB                                    1\n",
       "Lucky Marie Wiki                           0\n",
       "Taniki                                     0\n",
       "Sété40                                     0\n",
       "Skouratov                                  0\n",
       "Sherwood6                                  0\n",
       "Rell Canis                                 0\n",
       "Python72                                   0\n",
       "Pierregil83                                0\n",
       "Name: deadname_count, dtype: int64"
      ]
     },
     "execution_count": 10,
     "metadata": {},
     "output_type": "execute_result"
    }
   ],
   "source": [
    "(\n",
    "    revisions\n",
    "    .assign(\n",
    "        deadname_count = lambda df: df.added.apply(lambda x: ' '.join(x).lower().count(decode(dead_name).lower()))\n",
    "    )\n",
    "    # on ne garde que les contributions après son coming out\n",
    "    .pipe(lambda df: df.query(f'timestamp >= \"{co_date}\"') if co_date != None else df)\n",
    "    .groupby('user')\n",
    "    .deadname_count\n",
    "    .sum()\n",
    "    .sort_values(ascending=False)\n",
    "    .head(10)\n",
    ")"
   ]
  },
  {
   "cell_type": "markdown",
   "id": "cdbf2cbe-7d9c-458a-8bb5-7554dbb954b5",
   "metadata": {
    "papermill": {
     "duration": 0.002876,
     "end_time": "2024-04-01T20:20:26.809902",
     "exception": false,
     "start_time": "2024-04-01T20:20:26.807026",
     "status": "completed"
    },
    "tags": []
   },
   "source": [
    "### depuis le début du sondage"
   ]
  },
  {
   "cell_type": "code",
   "execution_count": 11,
   "id": "e75e4ded-3e9d-45a6-bdd7-0af3b6f8b8ee",
   "metadata": {
    "execution": {
     "iopub.execute_input": "2024-04-01T20:20:26.815989Z",
     "iopub.status.busy": "2024-04-01T20:20:26.815868Z",
     "iopub.status.idle": "2024-04-01T20:20:26.819972Z",
     "shell.execute_reply": "2024-04-01T20:20:26.819780Z"
    },
    "papermill": {
     "duration": 0.007686,
     "end_time": "2024-04-01T20:20:26.820459",
     "exception": false,
     "start_time": "2024-04-01T20:20:26.812773",
     "status": "completed"
    },
    "tags": []
   },
   "outputs": [
    {
     "data": {
      "text/plain": [
       "user\n",
       "Cymbella                       0\n",
       "Esprit Fugace                  0\n",
       "Evpok                          0\n",
       "Kvardek du                     0\n",
       "Mystery Man From Outerspace    0\n",
       "Nouill                         0\n",
       "Pierregil83                    0\n",
       "Python72                       0\n",
       "Sherwood6                      0\n",
       "Skouratov                      0\n",
       "Taniki                         0\n",
       "Name: deadname_count, dtype: int64"
      ]
     },
     "execution_count": 11,
     "metadata": {},
     "output_type": "execute_result"
    }
   ],
   "source": [
    "(\n",
    "    revisions\n",
    "    .assign(\n",
    "        deadname_count = lambda df: df.added.apply(lambda x: ' '.join(x).lower().count(decode(dead_name).lower()))\n",
    "    )\n",
    "    # début du sondage\n",
    "    .query('timestamp >= \"2024-01-15\"')\n",
    "    .groupby('user')\n",
    "    .deadname_count\n",
    "    .sum()\n",
    "    .sort_values(ascending=False)\n",
    "    .head(20)\n",
    ")"
   ]
  },
  {
   "cell_type": "code",
   "execution_count": 12,
   "id": "7e9a0650-90e2-4d49-9fec-7d015b4a75dc",
   "metadata": {
    "execution": {
     "iopub.execute_input": "2024-04-01T20:20:26.826601Z",
     "iopub.status.busy": "2024-04-01T20:20:26.826474Z",
     "iopub.status.idle": "2024-04-01T20:20:26.988013Z",
     "shell.execute_reply": "2024-04-01T20:20:26.987793Z"
    },
    "papermill": {
     "duration": 0.165375,
     "end_time": "2024-04-01T20:20:26.988732",
     "exception": false,
     "start_time": "2024-04-01T20:20:26.823357",
     "status": "completed"
    },
    "tags": []
   },
   "outputs": [
    {
     "data": {
      "text/html": [
       "<style type=\"text/css\">\n",
       "</style>\n",
       "<table id=\"T_78459\">\n",
       "  <thead>\n",
       "    <tr>\n",
       "      <th class=\"blank level0\" >&nbsp;</th>\n",
       "      <th id=\"T_78459_level0_col0\" class=\"col_heading level0 col0\" >user</th>\n",
       "      <th id=\"T_78459_level0_col1\" class=\"col_heading level0 col1\" >deadname_count</th>\n",
       "      <th id=\"T_78459_level0_col2\" class=\"col_heading level0 col2\" >timestamp</th>\n",
       "    </tr>\n",
       "    <tr>\n",
       "      <th class=\"index_name level0\" >revid</th>\n",
       "      <th class=\"blank col0\" >&nbsp;</th>\n",
       "      <th class=\"blank col1\" >&nbsp;</th>\n",
       "      <th class=\"blank col2\" >&nbsp;</th>\n",
       "    </tr>\n",
       "  </thead>\n",
       "  <tbody>\n",
       "  </tbody>\n",
       "</table>\n"
      ],
      "text/plain": [
       "<pandas.io.formats.style.Styler at 0x7e708c63b3d0>"
      ]
     },
     "execution_count": 12,
     "metadata": {},
     "output_type": "execute_result"
    }
   ],
   "source": [
    "(\n",
    "    revisions\n",
    "    .assign(\n",
    "        deadname_count = lambda df: df.added.apply(lambda x: ' '.join(x).lower().count(decode(dead_name).lower()))\n",
    "    )\n",
    "    # début du sondage\n",
    "    .query('timestamp >= \"2024-01-15\"')\n",
    "    .query('deadname_count > 0')\n",
    "    [['user', 'deadname_count', 'timestamp']]\n",
    "    .style\n",
    "    .format_index(lambda x: format_revid_index(x, page_name))\n",
    ")"
   ]
  },
  {
   "cell_type": "markdown",
   "id": "b4ae0d43-e0f3-403f-8d77-06778155c12d",
   "metadata": {
    "papermill": {
     "duration": 0.007997,
     "end_time": "2024-04-01T20:20:27.000082",
     "exception": false,
     "start_time": "2024-04-01T20:20:26.992085",
     "status": "completed"
    },
    "tags": []
   },
   "source": [
    "## Discussions"
   ]
  },
  {
   "cell_type": "code",
   "execution_count": 13,
   "id": "65c5a95c-6148-4099-bcec-47e23701d260",
   "metadata": {
    "execution": {
     "iopub.execute_input": "2024-04-01T20:20:27.006747Z",
     "iopub.status.busy": "2024-04-01T20:20:27.006527Z",
     "iopub.status.idle": "2024-04-01T20:20:27.309111Z",
     "shell.execute_reply": "2024-04-01T20:20:27.307518Z"
    },
    "papermill": {
     "duration": 0.309622,
     "end_time": "2024-04-01T20:20:27.312619",
     "exception": false,
     "start_time": "2024-04-01T20:20:27.002997",
     "status": "completed"
    },
    "tags": []
   },
   "outputs": [],
   "source": [
    "talk = Page(f'Discussion:{page_name}', lang='fr')"
   ]
  },
  {
   "cell_type": "code",
   "execution_count": 14,
   "id": "f1aaec90-5c20-4488-a9aa-11da50fd1cf6",
   "metadata": {
    "execution": {
     "iopub.execute_input": "2024-04-01T20:20:27.339853Z",
     "iopub.status.busy": "2024-04-01T20:20:27.338261Z",
     "iopub.status.idle": "2024-04-01T20:20:51.727039Z",
     "shell.execute_reply": "2024-04-01T20:20:51.726645Z"
    },
    "papermill": {
     "duration": 24.400564,
     "end_time": "2024-04-01T20:20:51.727720",
     "exception": false,
     "start_time": "2024-04-01T20:20:27.327156",
     "status": "completed"
    },
    "tags": []
   },
   "outputs": [
    {
     "name": "stderr",
     "output_type": "stream",
     "text": [
      "\r",
      "  0%|          | 0/67 [00:00<?, ?it/s]"
     ]
    },
    {
     "name": "stderr",
     "output_type": "stream",
     "text": [
      "\r",
      "  3%|▎         | 2/67 [00:00<00:11,  5.81it/s]"
     ]
    },
    {
     "name": "stderr",
     "output_type": "stream",
     "text": [
      "\r",
      "  4%|▍         | 3/67 [00:00<00:16,  3.98it/s]"
     ]
    },
    {
     "name": "stderr",
     "output_type": "stream",
     "text": [
      "\r",
      "  6%|▌         | 4/67 [00:01<00:18,  3.42it/s]"
     ]
    },
    {
     "name": "stderr",
     "output_type": "stream",
     "text": [
      "\r",
      "  7%|▋         | 5/67 [00:01<00:19,  3.25it/s]"
     ]
    },
    {
     "name": "stderr",
     "output_type": "stream",
     "text": [
      "\r",
      "  9%|▉         | 6/67 [00:01<00:19,  3.19it/s]"
     ]
    },
    {
     "name": "stderr",
     "output_type": "stream",
     "text": [
      "\r",
      " 10%|█         | 7/67 [00:02<00:18,  3.18it/s]"
     ]
    },
    {
     "name": "stderr",
     "output_type": "stream",
     "text": [
      "\r",
      " 12%|█▏        | 8/67 [00:02<00:18,  3.11it/s]"
     ]
    },
    {
     "name": "stderr",
     "output_type": "stream",
     "text": [
      "\r",
      " 13%|█▎        | 9/67 [00:02<00:18,  3.09it/s]"
     ]
    },
    {
     "name": "stderr",
     "output_type": "stream",
     "text": [
      "\r",
      " 15%|█▍        | 10/67 [00:03<00:18,  3.12it/s]"
     ]
    },
    {
     "name": "stderr",
     "output_type": "stream",
     "text": [
      "\r",
      " 16%|█▋        | 11/67 [00:03<00:19,  2.90it/s]"
     ]
    },
    {
     "name": "stderr",
     "output_type": "stream",
     "text": [
      "\r",
      " 18%|█▊        | 12/67 [00:03<00:18,  3.00it/s]"
     ]
    },
    {
     "name": "stderr",
     "output_type": "stream",
     "text": [
      "\r",
      " 19%|█▉        | 13/67 [00:04<00:17,  3.05it/s]"
     ]
    },
    {
     "name": "stderr",
     "output_type": "stream",
     "text": [
      "\r",
      " 21%|██        | 14/67 [00:04<00:17,  3.08it/s]"
     ]
    },
    {
     "name": "stderr",
     "output_type": "stream",
     "text": [
      "\r",
      " 22%|██▏       | 15/67 [00:04<00:17,  2.93it/s]"
     ]
    },
    {
     "name": "stderr",
     "output_type": "stream",
     "text": [
      "\r",
      " 24%|██▍       | 16/67 [00:05<00:19,  2.59it/s]"
     ]
    },
    {
     "name": "stderr",
     "output_type": "stream",
     "text": [
      "\r",
      " 25%|██▌       | 17/67 [00:05<00:18,  2.72it/s]"
     ]
    },
    {
     "name": "stderr",
     "output_type": "stream",
     "text": [
      "\r",
      " 27%|██▋       | 18/67 [00:05<00:18,  2.67it/s]"
     ]
    },
    {
     "name": "stderr",
     "output_type": "stream",
     "text": [
      "\r",
      " 28%|██▊       | 19/67 [00:06<00:19,  2.51it/s]"
     ]
    },
    {
     "name": "stderr",
     "output_type": "stream",
     "text": [
      "\r",
      " 30%|██▉       | 20/67 [00:06<00:17,  2.75it/s]"
     ]
    },
    {
     "name": "stderr",
     "output_type": "stream",
     "text": [
      "\r",
      " 31%|███▏      | 21/67 [00:07<00:16,  2.78it/s]"
     ]
    },
    {
     "name": "stderr",
     "output_type": "stream",
     "text": [
      "\r",
      " 33%|███▎      | 22/67 [00:07<00:16,  2.75it/s]"
     ]
    },
    {
     "name": "stderr",
     "output_type": "stream",
     "text": [
      "\r",
      " 34%|███▍      | 23/67 [00:07<00:16,  2.74it/s]"
     ]
    },
    {
     "name": "stderr",
     "output_type": "stream",
     "text": [
      "\r",
      " 36%|███▌      | 24/67 [00:08<00:16,  2.53it/s]"
     ]
    },
    {
     "name": "stderr",
     "output_type": "stream",
     "text": [
      "\r",
      " 37%|███▋      | 25/67 [00:08<00:17,  2.39it/s]"
     ]
    },
    {
     "name": "stderr",
     "output_type": "stream",
     "text": [
      "\r",
      " 39%|███▉      | 26/67 [00:09<00:16,  2.55it/s]"
     ]
    },
    {
     "name": "stderr",
     "output_type": "stream",
     "text": [
      "\r",
      " 40%|████      | 27/67 [00:09<00:14,  2.69it/s]"
     ]
    },
    {
     "name": "stderr",
     "output_type": "stream",
     "text": [
      "\r",
      " 42%|████▏     | 28/67 [00:09<00:13,  2.83it/s]"
     ]
    },
    {
     "name": "stderr",
     "output_type": "stream",
     "text": [
      "\r",
      " 43%|████▎     | 29/67 [00:09<00:12,  2.99it/s]"
     ]
    },
    {
     "name": "stderr",
     "output_type": "stream",
     "text": [
      "\r",
      " 45%|████▍     | 30/67 [00:10<00:12,  3.00it/s]"
     ]
    },
    {
     "name": "stderr",
     "output_type": "stream",
     "text": [
      "\r",
      " 46%|████▋     | 31/67 [00:10<00:13,  2.71it/s]"
     ]
    },
    {
     "name": "stderr",
     "output_type": "stream",
     "text": [
      "\r",
      " 48%|████▊     | 32/67 [00:11<00:15,  2.31it/s]"
     ]
    },
    {
     "name": "stderr",
     "output_type": "stream",
     "text": [
      "\r",
      " 49%|████▉     | 33/67 [00:11<00:14,  2.28it/s]"
     ]
    },
    {
     "name": "stderr",
     "output_type": "stream",
     "text": [
      "\r",
      " 51%|█████     | 34/67 [00:12<00:13,  2.48it/s]"
     ]
    },
    {
     "name": "stderr",
     "output_type": "stream",
     "text": [
      "\r",
      " 52%|█████▏    | 35/67 [00:12<00:12,  2.64it/s]"
     ]
    },
    {
     "name": "stderr",
     "output_type": "stream",
     "text": [
      "\r",
      " 54%|█████▎    | 36/67 [00:12<00:12,  2.57it/s]"
     ]
    },
    {
     "name": "stderr",
     "output_type": "stream",
     "text": [
      "\r",
      " 55%|█████▌    | 37/67 [00:13<00:12,  2.45it/s]"
     ]
    },
    {
     "name": "stderr",
     "output_type": "stream",
     "text": [
      "\r",
      " 57%|█████▋    | 38/67 [00:13<00:11,  2.63it/s]"
     ]
    },
    {
     "name": "stderr",
     "output_type": "stream",
     "text": [
      "\r",
      " 58%|█████▊    | 39/67 [00:13<00:10,  2.68it/s]"
     ]
    },
    {
     "name": "stderr",
     "output_type": "stream",
     "text": [
      "\r",
      " 60%|█████▉    | 40/67 [00:14<00:09,  2.79it/s]"
     ]
    },
    {
     "name": "stderr",
     "output_type": "stream",
     "text": [
      "\r",
      " 61%|██████    | 41/67 [00:14<00:09,  2.88it/s]"
     ]
    },
    {
     "name": "stderr",
     "output_type": "stream",
     "text": [
      "\r",
      " 63%|██████▎   | 42/67 [00:14<00:08,  2.88it/s]"
     ]
    },
    {
     "name": "stderr",
     "output_type": "stream",
     "text": [
      "\r",
      " 64%|██████▍   | 43/67 [00:15<00:08,  2.97it/s]"
     ]
    },
    {
     "name": "stderr",
     "output_type": "stream",
     "text": [
      "\r",
      " 66%|██████▌   | 44/67 [00:15<00:07,  3.06it/s]"
     ]
    },
    {
     "name": "stderr",
     "output_type": "stream",
     "text": [
      "\r",
      " 67%|██████▋   | 45/67 [00:15<00:07,  3.09it/s]"
     ]
    },
    {
     "name": "stderr",
     "output_type": "stream",
     "text": [
      "\r",
      " 69%|██████▊   | 46/67 [00:16<00:06,  3.10it/s]"
     ]
    },
    {
     "name": "stderr",
     "output_type": "stream",
     "text": [
      "\r",
      " 70%|███████   | 47/67 [00:16<00:06,  2.91it/s]"
     ]
    },
    {
     "name": "stderr",
     "output_type": "stream",
     "text": [
      "\r",
      " 72%|███████▏  | 48/67 [00:16<00:06,  3.04it/s]"
     ]
    },
    {
     "name": "stderr",
     "output_type": "stream",
     "text": [
      "\r",
      " 73%|███████▎  | 49/67 [00:17<00:06,  2.99it/s]"
     ]
    },
    {
     "name": "stderr",
     "output_type": "stream",
     "text": [
      "\r",
      " 75%|███████▍  | 50/67 [00:17<00:06,  2.75it/s]"
     ]
    },
    {
     "name": "stderr",
     "output_type": "stream",
     "text": [
      "\r",
      " 76%|███████▌  | 51/67 [00:18<00:06,  2.50it/s]"
     ]
    },
    {
     "name": "stderr",
     "output_type": "stream",
     "text": [
      "\r",
      " 78%|███████▊  | 52/67 [00:18<00:05,  2.61it/s]"
     ]
    },
    {
     "name": "stderr",
     "output_type": "stream",
     "text": [
      "\r",
      " 79%|███████▉  | 53/67 [00:18<00:05,  2.75it/s]"
     ]
    },
    {
     "name": "stderr",
     "output_type": "stream",
     "text": [
      "\r",
      " 81%|████████  | 54/67 [00:19<00:04,  2.86it/s]"
     ]
    },
    {
     "name": "stderr",
     "output_type": "stream",
     "text": [
      "\r",
      " 82%|████████▏ | 55/67 [00:19<00:04,  2.56it/s]"
     ]
    },
    {
     "name": "stderr",
     "output_type": "stream",
     "text": [
      "\r",
      " 84%|████████▎ | 56/67 [00:19<00:03,  2.76it/s]"
     ]
    },
    {
     "name": "stderr",
     "output_type": "stream",
     "text": [
      "\r",
      " 85%|████████▌ | 57/67 [00:20<00:03,  2.80it/s]"
     ]
    },
    {
     "name": "stderr",
     "output_type": "stream",
     "text": [
      "\r",
      " 87%|████████▋ | 58/67 [00:20<00:03,  2.90it/s]"
     ]
    },
    {
     "name": "stderr",
     "output_type": "stream",
     "text": [
      "\r",
      " 88%|████████▊ | 59/67 [00:20<00:02,  3.02it/s]"
     ]
    },
    {
     "name": "stderr",
     "output_type": "stream",
     "text": [
      "\r",
      " 90%|████████▉ | 60/67 [00:21<00:02,  3.08it/s]"
     ]
    },
    {
     "name": "stderr",
     "output_type": "stream",
     "text": [
      "\r",
      " 91%|█████████ | 61/67 [00:21<00:01,  3.11it/s]"
     ]
    },
    {
     "name": "stderr",
     "output_type": "stream",
     "text": [
      "\r",
      " 93%|█████████▎| 62/67 [00:21<00:01,  3.14it/s]"
     ]
    },
    {
     "name": "stderr",
     "output_type": "stream",
     "text": [
      "\r",
      " 94%|█████████▍| 63/67 [00:22<00:01,  3.09it/s]"
     ]
    },
    {
     "name": "stderr",
     "output_type": "stream",
     "text": [
      "\r",
      " 96%|█████████▌| 64/67 [00:22<00:00,  3.17it/s]"
     ]
    },
    {
     "name": "stderr",
     "output_type": "stream",
     "text": [
      "\r",
      " 97%|█████████▋| 65/67 [00:22<00:00,  2.86it/s]"
     ]
    },
    {
     "name": "stderr",
     "output_type": "stream",
     "text": [
      "\r",
      " 99%|█████████▊| 66/67 [00:23<00:00,  2.96it/s]"
     ]
    },
    {
     "name": "stderr",
     "output_type": "stream",
     "text": [
      "\r",
      "100%|██████████| 67/67 [00:23<00:00,  2.99it/s]"
     ]
    },
    {
     "name": "stderr",
     "output_type": "stream",
     "text": [
      "\r",
      "100%|██████████| 67/67 [00:23<00:00,  2.81it/s]"
     ]
    },
    {
     "name": "stderr",
     "output_type": "stream",
     "text": [
      "\n"
     ]
    }
   ],
   "source": [
    "talk_revisions = (\n",
    "    pd\n",
    "    .DataFrame\n",
    "    .from_records(talk.get_revisions_list())\n",
    "    .assign(\n",
    "        diff = lambda df: df.revid.progress_apply(lambda x: talk.get_diff(x)),\n",
    "        deleted = lambda df: df['diff'].apply(lambda diff: talk.extract_plusminus(diff)['deleted']),\n",
    "        added = lambda df: df['diff'].apply(lambda diff: talk.extract_plusminus(diff)['added']),\n",
    "    )\n",
    "    .set_index('revid')\n",
    ")\n",
    "\n",
    "#talk_revisions"
   ]
  },
  {
   "cell_type": "code",
   "execution_count": 15,
   "id": "25ec8a7b-a133-458e-bad3-331c8f41b851",
   "metadata": {
    "execution": {
     "iopub.execute_input": "2024-04-01T20:20:51.740773Z",
     "iopub.status.busy": "2024-04-01T20:20:51.740683Z",
     "iopub.status.idle": "2024-04-01T20:20:51.744907Z",
     "shell.execute_reply": "2024-04-01T20:20:51.744708Z"
    },
    "papermill": {
     "duration": 0.013238,
     "end_time": "2024-04-01T20:20:51.745428",
     "exception": false,
     "start_time": "2024-04-01T20:20:51.732190",
     "status": "completed"
    },
    "tags": []
   },
   "outputs": [],
   "source": [
    "talk_revisions.to_csv(f'../data/page-revisions/discussion:{page_name.lower()}.csv')"
   ]
  },
  {
   "cell_type": "markdown",
   "id": "4d1737c2-1d19-48bb-925f-f3a73fc7c585",
   "metadata": {
    "papermill": {
     "duration": 0.00408,
     "end_time": "2024-04-01T20:20:51.753621",
     "exception": false,
     "start_time": "2024-04-01T20:20:51.749541",
     "status": "completed"
    },
    "tags": []
   },
   "source": [
    "### depuis le coming out"
   ]
  },
  {
   "cell_type": "code",
   "execution_count": 16,
   "id": "0e863939-69ce-43d1-a48c-ed831817f6c6",
   "metadata": {
    "execution": {
     "iopub.execute_input": "2024-04-01T20:20:51.762401Z",
     "iopub.status.busy": "2024-04-01T20:20:51.762305Z",
     "iopub.status.idle": "2024-04-01T20:20:51.765939Z",
     "shell.execute_reply": "2024-04-01T20:20:51.765756Z"
    },
    "papermill": {
     "duration": 0.009027,
     "end_time": "2024-04-01T20:20:51.766702",
     "exception": false,
     "start_time": "2024-04-01T20:20:51.757675",
     "status": "completed"
    },
    "tags": []
   },
   "outputs": [
    {
     "data": {
      "text/plain": [
       "user\n",
       "Abbd-44          0\n",
       "Celinea33        0\n",
       "Cymbella         0\n",
       "Esprit Fugace    0\n",
       "Eunostos         0\n",
       "Florck           0\n",
       "Framabot         0\n",
       "JilanoB          0\n",
       "Kvardek du       0\n",
       "Léna             0\n",
       "Name: deadname_count, dtype: int64"
      ]
     },
     "execution_count": 16,
     "metadata": {},
     "output_type": "execute_result"
    }
   ],
   "source": [
    "(\n",
    "    talk_revisions\n",
    "    .assign(\n",
    "        deadname_count = lambda df: df.added.apply(lambda x: ' '.join(x).lower().count(decode(dead_name).lower()))\n",
    "    )\n",
    "    # on ne garde que les contributions après son coming out\n",
    "    #.query('timestamp >= \"2013-08-22\"')\n",
    "    .groupby('user')\n",
    "    .deadname_count\n",
    "    .sum()\n",
    "    .sort_values(ascending=False)\n",
    "    .head(10)\n",
    ")"
   ]
  },
  {
   "cell_type": "markdown",
   "id": "f527cdea-8c65-45e8-8274-48ee9e2246b8",
   "metadata": {
    "papermill": {
     "duration": 0.004118,
     "end_time": "2024-04-01T20:20:51.774896",
     "exception": false,
     "start_time": "2024-04-01T20:20:51.770778",
     "status": "completed"
    },
    "tags": []
   },
   "source": [
    "### depuis le début du sondage"
   ]
  },
  {
   "cell_type": "code",
   "execution_count": 17,
   "id": "9e1a66e6-8622-4a4c-a031-95f1ee3e81b1",
   "metadata": {
    "execution": {
     "iopub.execute_input": "2024-04-01T20:20:51.783987Z",
     "iopub.status.busy": "2024-04-01T20:20:51.783864Z",
     "iopub.status.idle": "2024-04-01T20:20:51.789064Z",
     "shell.execute_reply": "2024-04-01T20:20:51.788867Z"
    },
    "papermill": {
     "duration": 0.011055,
     "end_time": "2024-04-01T20:20:51.789989",
     "exception": false,
     "start_time": "2024-04-01T20:20:51.778934",
     "status": "completed"
    },
    "tags": []
   },
   "outputs": [
    {
     "data": {
      "text/plain": [
       "user\n",
       "Cymbella                       0\n",
       "Esprit Fugace                  0\n",
       "Eunostos                       0\n",
       "Florck                         0\n",
       "Kvardek du                     0\n",
       "Mystery Man From Outerspace    0\n",
       "Nattes à chat                  0\n",
       "Pa2chant.bis                   0\n",
       "Pic-Sou                        0\n",
       "Sherwood6                      0\n",
       "Name: deadname_count, dtype: int64"
      ]
     },
     "execution_count": 17,
     "metadata": {},
     "output_type": "execute_result"
    }
   ],
   "source": [
    "(\n",
    "    talk_revisions\n",
    "    .assign(\n",
    "        deadname_count = lambda df: df.added.apply(lambda x: ' '.join(x).lower().count(decode(dead_name).lower()))\n",
    "    )\n",
    "    # depuis le sondage\n",
    "    .query('timestamp >= \"2024-01-15\"')\n",
    "    .groupby('user')\n",
    "    .deadname_count\n",
    "    .sum()\n",
    "    .sort_values(ascending=False)\n",
    "    .head(10)\n",
    ")"
   ]
  },
  {
   "cell_type": "code",
   "execution_count": 18,
   "id": "63fb08f4-6403-42c9-87ea-7851eb4853b9",
   "metadata": {
    "execution": {
     "iopub.execute_input": "2024-04-01T20:20:51.799159Z",
     "iopub.status.busy": "2024-04-01T20:20:51.798973Z",
     "iopub.status.idle": "2024-04-01T20:20:51.804145Z",
     "shell.execute_reply": "2024-04-01T20:20:51.803957Z"
    },
    "papermill": {
     "duration": 0.010743,
     "end_time": "2024-04-01T20:20:51.805028",
     "exception": false,
     "start_time": "2024-04-01T20:20:51.794285",
     "status": "completed"
    },
    "tags": []
   },
   "outputs": [
    {
     "data": {
      "text/html": [
       "<style type=\"text/css\">\n",
       "</style>\n",
       "<table id=\"T_2ef47\">\n",
       "  <thead>\n",
       "    <tr>\n",
       "      <th class=\"blank level0\" >&nbsp;</th>\n",
       "      <th id=\"T_2ef47_level0_col0\" class=\"col_heading level0 col0\" >user</th>\n",
       "      <th id=\"T_2ef47_level0_col1\" class=\"col_heading level0 col1\" >deadname_count</th>\n",
       "      <th id=\"T_2ef47_level0_col2\" class=\"col_heading level0 col2\" >timestamp</th>\n",
       "    </tr>\n",
       "    <tr>\n",
       "      <th class=\"index_name level0\" >revid</th>\n",
       "      <th class=\"blank col0\" >&nbsp;</th>\n",
       "      <th class=\"blank col1\" >&nbsp;</th>\n",
       "      <th class=\"blank col2\" >&nbsp;</th>\n",
       "    </tr>\n",
       "  </thead>\n",
       "  <tbody>\n",
       "  </tbody>\n",
       "</table>\n"
      ],
      "text/plain": [
       "<pandas.io.formats.style.Styler at 0x7e6fb2f995d0>"
      ]
     },
     "execution_count": 18,
     "metadata": {},
     "output_type": "execute_result"
    }
   ],
   "source": [
    "(\n",
    "    talk_revisions\n",
    "    .assign(\n",
    "        deadname_count = lambda df: df.added.apply(lambda x: ' '.join(x).lower().count(decode(dead_name).lower()))\n",
    "    )\n",
    "    # depuis le sondage\n",
    "    .query('timestamp >= \"2024-01-15\"')\n",
    "    .query('deadname_count > 0')\n",
    "    [['user', 'deadname_count', 'timestamp']]\n",
    "    .style\n",
    "    .format_index(lambda x : format_revid_index(x, f'Discussion:{page_name}'))\n",
    ")"
   ]
  },
  {
   "cell_type": "code",
   "execution_count": 19,
   "id": "27f65dc8-0dab-464f-931b-4498c241e3f5",
   "metadata": {
    "execution": {
     "iopub.execute_input": "2024-04-01T20:20:51.814206Z",
     "iopub.status.busy": "2024-04-01T20:20:51.814067Z",
     "iopub.status.idle": "2024-04-01T20:20:51.818415Z",
     "shell.execute_reply": "2024-04-01T20:20:51.818229Z"
    },
    "papermill": {
     "duration": 0.009966,
     "end_time": "2024-04-01T20:20:51.819239",
     "exception": false,
     "start_time": "2024-04-01T20:20:51.809273",
     "status": "completed"
    },
    "tags": []
   },
   "outputs": [
    {
     "data": {
      "text/plain": [
       "0"
      ]
     },
     "execution_count": 19,
     "metadata": {},
     "output_type": "execute_result"
    }
   ],
   "source": [
    "len(\n",
    "    talk_revisions\n",
    "    .assign(\n",
    "        deadname_count = lambda df: df.added.apply(lambda x: ' '.join(x).lower().count(decode(dead_name).lower()))\n",
    "    )\n",
    "    # depuis le sondage\n",
    "    .query('timestamp >= \"2024-01-15\"')\n",
    "    .query('deadname_count > 0')\n",
    "    [['user', 'deadname_count']]\n",
    ")"
   ]
  },
  {
   "cell_type": "code",
   "execution_count": null,
   "id": "f53cbc6c-c121-4c41-895b-60d2eafe8fbe",
   "metadata": {
    "papermill": {
     "duration": 0.004418,
     "end_time": "2024-04-01T20:20:51.827912",
     "exception": false,
     "start_time": "2024-04-01T20:20:51.823494",
     "status": "completed"
    },
    "tags": []
   },
   "outputs": [],
   "source": []
  }
 ],
 "metadata": {
  "kernelspec": {
   "display_name": "Python 3 (ipykernel)",
   "language": "python",
   "name": "python3"
  },
  "language_info": {
   "codemirror_mode": {
    "name": "ipython",
    "version": 3
   },
   "file_extension": ".py",
   "mimetype": "text/x-python",
   "name": "python",
   "nbconvert_exporter": "python",
   "pygments_lexer": "ipython3",
   "version": "3.10.12"
  },
  "papermill": {
   "default_parameters": {},
   "duration": 54.757731,
   "end_time": "2024-04-01T20:20:52.048807",
   "environment_variables": {},
   "exception": null,
   "input_path": "cook_template_deadname_watch.ipynb",
   "output_path": "cook_eda_deadnames_jennell_jaquays.ipynb",
   "parameters": {
    "co_date": "2021-03-04",
    "dead_name": "UGF1bCBKYXF1YXlz",
    "name": "Jennell Jaquays",
    "page_name": "Jennell_Jaquays"
   },
   "start_time": "2024-04-01T20:19:57.291076",
   "version": "2.4.0"
  }
 },
 "nbformat": 4,
 "nbformat_minor": 5
}