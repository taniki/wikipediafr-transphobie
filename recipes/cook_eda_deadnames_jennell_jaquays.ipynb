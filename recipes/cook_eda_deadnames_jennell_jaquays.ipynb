{
 "cells": [
  {
   "cell_type": "code",
   "execution_count": 1,
   "id": "2ad56d7a-56a0-4f9e-a19d-906c01ac23f1",
   "metadata": {
    "execution": {
     "iopub.execute_input": "2024-03-31T21:07:30.127720Z",
     "iopub.status.busy": "2024-03-31T21:07:30.127490Z",
     "iopub.status.idle": "2024-03-31T21:07:30.579205Z",
     "shell.execute_reply": "2024-03-31T21:07:30.578850Z"
    },
    "papermill": {
     "duration": 0.461165,
     "end_time": "2024-03-31T21:07:30.580084",
     "exception": false,
     "start_time": "2024-03-31T21:07:30.118919",
     "status": "completed"
    },
    "tags": []
   },
   "outputs": [],
   "source": [
    "import pandas as pd\n",
    "from bs4 import BeautifulSoup\n",
    "from tqdm import tqdm\n",
    "import base64\n",
    "\n",
    "tqdm.pandas()\n",
    "from wekeypedia import WikipediaPage as Page"
   ]
  },
  {
   "cell_type": "code",
   "execution_count": 2,
   "id": "23765632-31c5-4a46-a008-89df2f3fb17a",
   "metadata": {
    "execution": {
     "iopub.execute_input": "2024-03-31T21:07:30.590662Z",
     "iopub.status.busy": "2024-03-31T21:07:30.590470Z",
     "iopub.status.idle": "2024-03-31T21:07:30.592121Z",
     "shell.execute_reply": "2024-03-31T21:07:30.591927Z"
    },
    "papermill": {
     "duration": 0.010846,
     "end_time": "2024-03-31T21:07:30.592780",
     "exception": false,
     "start_time": "2024-03-31T21:07:30.581934",
     "status": "completed"
    },
    "tags": [
     "parameters"
    ]
   },
   "outputs": [],
   "source": [
    "name = 'Elke Mackenzie'\n",
    "dead_name = 'SXZhbg=='\n",
    "page_name = 'Ivan_Mackenzie_Lamb'\n",
    "co_date = None"
   ]
  },
  {
   "cell_type": "code",
   "execution_count": 3,
   "id": "e4f6bf2e",
   "metadata": {
    "execution": {
     "iopub.execute_input": "2024-03-31T21:07:30.596128Z",
     "iopub.status.busy": "2024-03-31T21:07:30.595963Z",
     "iopub.status.idle": "2024-03-31T21:07:30.597383Z",
     "shell.execute_reply": "2024-03-31T21:07:30.597199Z"
    },
    "papermill": {
     "duration": 0.003783,
     "end_time": "2024-03-31T21:07:30.598017",
     "exception": false,
     "start_time": "2024-03-31T21:07:30.594234",
     "status": "completed"
    },
    "tags": [
     "injected-parameters"
    ]
   },
   "outputs": [],
   "source": [
    "# Parameters\n",
    "name = \"Jennell Jaquays\"\n",
    "dead_name = \"UGF1bCBKYXF1YXlz\"\n",
    "page_name = \"Jennell_Jaquays\"\n",
    "co_date = \"2021-03-04\"\n"
   ]
  },
  {
   "cell_type": "code",
   "execution_count": 4,
   "id": "743460e0-da77-4f86-bb1c-7e260dd25dd2",
   "metadata": {
    "execution": {
     "iopub.execute_input": "2024-03-31T21:07:30.601209Z",
     "iopub.status.busy": "2024-03-31T21:07:30.601071Z",
     "iopub.status.idle": "2024-03-31T21:07:30.602436Z",
     "shell.execute_reply": "2024-03-31T21:07:30.602256Z"
    },
    "papermill": {
     "duration": 0.003629,
     "end_time": "2024-03-31T21:07:30.603065",
     "exception": false,
     "start_time": "2024-03-31T21:07:30.599436",
     "status": "completed"
    },
    "tags": []
   },
   "outputs": [],
   "source": [
    "def format_revid_index(revid, page):\n",
    "    return f'<a href=\"https://fr.wikipedia.org/w/index.php?title={page}&diff=prev&oldid={revid}\">{revid}</a>'"
   ]
  },
  {
   "cell_type": "markdown",
   "id": "5cc2bf74-9863-42ee-a757-703825106697",
   "metadata": {
    "papermill": {
     "duration": 0.001419,
     "end_time": "2024-03-31T21:07:30.605857",
     "exception": false,
     "start_time": "2024-03-31T21:07:30.604438",
     "status": "completed"
    },
    "tags": []
   },
   "source": [
    "# qui sont personnes qui énoncent le deadname dans l'article ?"
   ]
  },
  {
   "cell_type": "markdown",
   "id": "ef5929df-44e4-4ab2-a25b-25c1db364961",
   "metadata": {
    "papermill": {
     "duration": 0.001467,
     "end_time": "2024-03-31T21:07:30.608685",
     "exception": false,
     "start_time": "2024-03-31T21:07:30.607218",
     "status": "completed"
    },
    "tags": []
   },
   "source": [
    "## article"
   ]
  },
  {
   "cell_type": "code",
   "execution_count": 5,
   "id": "eed28b1e-97c4-4eab-9ead-6a8b55b85187",
   "metadata": {
    "execution": {
     "iopub.execute_input": "2024-03-31T21:07:30.612188Z",
     "iopub.status.busy": "2024-03-31T21:07:30.612028Z",
     "iopub.status.idle": "2024-03-31T21:07:30.977661Z",
     "shell.execute_reply": "2024-03-31T21:07:30.975938Z"
    },
    "papermill": {
     "duration": 0.371165,
     "end_time": "2024-03-31T21:07:30.981239",
     "exception": false,
     "start_time": "2024-03-31T21:07:30.610074",
     "status": "completed"
    },
    "tags": []
   },
   "outputs": [],
   "source": [
    "page = Page(page_name, lang='fr')"
   ]
  },
  {
   "cell_type": "code",
   "execution_count": 6,
   "id": "e496177f-af35-4c14-84a2-40f86b9a0309",
   "metadata": {
    "execution": {
     "iopub.execute_input": "2024-03-31T21:07:31.000188Z",
     "iopub.status.busy": "2024-03-31T21:07:30.999802Z",
     "iopub.status.idle": "2024-03-31T21:07:33.988333Z",
     "shell.execute_reply": "2024-03-31T21:07:33.987986Z"
    },
    "papermill": {
     "duration": 2.999416,
     "end_time": "2024-03-31T21:07:33.989109",
     "exception": false,
     "start_time": "2024-03-31T21:07:30.989693",
     "status": "completed"
    },
    "tags": []
   },
   "outputs": [
    {
     "data": {
      "text/html": [
       "<div>\n",
       "<style scoped>\n",
       "    .dataframe tbody tr th:only-of-type {\n",
       "        vertical-align: middle;\n",
       "    }\n",
       "\n",
       "    .dataframe tbody tr th {\n",
       "        vertical-align: top;\n",
       "    }\n",
       "\n",
       "    .dataframe thead th {\n",
       "        text-align: right;\n",
       "    }\n",
       "</style>\n",
       "<table border=\"1\" class=\"dataframe\">\n",
       "  <thead>\n",
       "    <tr style=\"text-align: right;\">\n",
       "      <th></th>\n",
       "      <th>parentid</th>\n",
       "      <th>user</th>\n",
       "      <th>userid</th>\n",
       "      <th>timestamp</th>\n",
       "      <th>size</th>\n",
       "      <th>sha1</th>\n",
       "      <th>contentformat</th>\n",
       "      <th>contentmodel</th>\n",
       "      <th>comment</th>\n",
       "      <th>*</th>\n",
       "      <th>anon</th>\n",
       "    </tr>\n",
       "    <tr>\n",
       "      <th>revid</th>\n",
       "      <th></th>\n",
       "      <th></th>\n",
       "      <th></th>\n",
       "      <th></th>\n",
       "      <th></th>\n",
       "      <th></th>\n",
       "      <th></th>\n",
       "      <th></th>\n",
       "      <th></th>\n",
       "      <th></th>\n",
       "      <th></th>\n",
       "    </tr>\n",
       "  </thead>\n",
       "  <tbody>\n",
       "    <tr>\n",
       "      <th>213143912</th>\n",
       "      <td>213143881</td>\n",
       "      <td>Skouratov</td>\n",
       "      <td>926212</td>\n",
       "      <td>2024-03-07T18:21:02Z</td>\n",
       "      <td>26666</td>\n",
       "      <td>4640478c72a1d9b804143ace578689ffd0c735d0</td>\n",
       "      <td>text/x-wiki</td>\n",
       "      <td>wikitext</td>\n",
       "      <td>/* The Dungeoneer et les jeux de rôle fantasti...</td>\n",
       "      <td>{{Infobox Biographie2\\n | charte            = ...</td>\n",
       "      <td>NaN</td>\n",
       "    </tr>\n",
       "    <tr>\n",
       "      <th>213143881</th>\n",
       "      <td>213143869</td>\n",
       "      <td>Skouratov</td>\n",
       "      <td>926212</td>\n",
       "      <td>2024-03-07T18:20:09Z</td>\n",
       "      <td>26666</td>\n",
       "      <td>11af4b74f22b205943a9bc697da30f93d5c652af</td>\n",
       "      <td>text/x-wiki</td>\n",
       "      <td>wikitext</td>\n",
       "      <td>/* Judges Guild, projets de jeux de rôle indép...</td>\n",
       "      <td>{{Infobox Biographie2\\n | charte            = ...</td>\n",
       "      <td>NaN</td>\n",
       "    </tr>\n",
       "    <tr>\n",
       "      <th>213143869</th>\n",
       "      <td>213143855</td>\n",
       "      <td>Skouratov</td>\n",
       "      <td>926212</td>\n",
       "      <td>2024-03-07T18:19:43Z</td>\n",
       "      <td>26663</td>\n",
       "      <td>3eedcd66bb98458ab21c32da3d02a36ee1ce0323</td>\n",
       "      <td>text/x-wiki</td>\n",
       "      <td>wikitext</td>\n",
       "      <td>/* The Dungeoneer et les jeux de rôle fantasti...</td>\n",
       "      <td>{{Infobox Biographie2\\n | charte            = ...</td>\n",
       "      <td>NaN</td>\n",
       "    </tr>\n",
       "    <tr>\n",
       "      <th>213143855</th>\n",
       "      <td>213141826</td>\n",
       "      <td>Skouratov</td>\n",
       "      <td>926212</td>\n",
       "      <td>2024-03-07T18:18:45Z</td>\n",
       "      <td>26660</td>\n",
       "      <td>db2907b5c8b17221db7a40c620c2d1d2f682c950</td>\n",
       "      <td>text/x-wiki</td>\n",
       "      <td>wikitext</td>\n",
       "      <td>/* The Dungeoneer et les jeux de rôle fantasti...</td>\n",
       "      <td>{{Infobox Biographie2\\n | charte            = ...</td>\n",
       "      <td>NaN</td>\n",
       "    </tr>\n",
       "    <tr>\n",
       "      <th>213141826</th>\n",
       "      <td>213037363</td>\n",
       "      <td>Skouratov</td>\n",
       "      <td>926212</td>\n",
       "      <td>2024-03-07T16:53:46Z</td>\n",
       "      <td>26657</td>\n",
       "      <td>103ae0b6537ecde00e79c206441bc07711b6cea6</td>\n",
       "      <td>text/x-wiki</td>\n",
       "      <td>wikitext</td>\n",
       "      <td></td>\n",
       "      <td>{{Infobox Biographie2\\n | charte            = ...</td>\n",
       "      <td>NaN</td>\n",
       "    </tr>\n",
       "    <tr>\n",
       "      <th>...</th>\n",
       "      <td>...</td>\n",
       "      <td>...</td>\n",
       "      <td>...</td>\n",
       "      <td>...</td>\n",
       "      <td>...</td>\n",
       "      <td>...</td>\n",
       "      <td>...</td>\n",
       "      <td>...</td>\n",
       "      <td>...</td>\n",
       "      <td>...</td>\n",
       "      <td>...</td>\n",
       "    </tr>\n",
       "    <tr>\n",
       "      <th>194235829</th>\n",
       "      <td>194235782</td>\n",
       "      <td>JilanoB</td>\n",
       "      <td>2951316</td>\n",
       "      <td>2022-06-03T20:24:44Z</td>\n",
       "      <td>27715</td>\n",
       "      <td>6535777e0f8df7c9521f7caf288db3e6e62e6062</td>\n",
       "      <td>text/x-wiki</td>\n",
       "      <td>wikitext</td>\n",
       "      <td>/* Activisme */</td>\n",
       "      <td>{{Infobox Écrivain\\n | image              = Je...</td>\n",
       "      <td>NaN</td>\n",
       "    </tr>\n",
       "    <tr>\n",
       "      <th>194235782</th>\n",
       "      <td>194235515</td>\n",
       "      <td>JilanoB</td>\n",
       "      <td>2951316</td>\n",
       "      <td>2022-06-03T20:23:07Z</td>\n",
       "      <td>27418</td>\n",
       "      <td>1db52a68ef8dbafdfee3a57f933a018686d2e252</td>\n",
       "      <td>text/x-wiki</td>\n",
       "      <td>wikitext</td>\n",
       "      <td>/* Judges Guild, projets de jeux de rôle indép...</td>\n",
       "      <td>{{Infobox Écrivain\\n | image              = Je...</td>\n",
       "      <td>NaN</td>\n",
       "    </tr>\n",
       "    <tr>\n",
       "      <th>194235515</th>\n",
       "      <td>194235446</td>\n",
       "      <td>JilanoB</td>\n",
       "      <td>2951316</td>\n",
       "      <td>2022-06-03T20:12:51Z</td>\n",
       "      <td>28081</td>\n",
       "      <td>1f788b23ab58b3e118768b9c82536c5eeff493d5</td>\n",
       "      <td>text/x-wiki</td>\n",
       "      <td>wikitext</td>\n",
       "      <td></td>\n",
       "      <td>{{Infobox Écrivain\\n | image              = Je...</td>\n",
       "      <td>NaN</td>\n",
       "    </tr>\n",
       "    <tr>\n",
       "      <th>194235446</th>\n",
       "      <td>194235244</td>\n",
       "      <td>JilanoB</td>\n",
       "      <td>2951316</td>\n",
       "      <td>2022-06-03T20:10:06Z</td>\n",
       "      <td>28040</td>\n",
       "      <td>5e9cc3ed891eb3a7cd99e37bd9576bab044eb25d</td>\n",
       "      <td>text/x-wiki</td>\n",
       "      <td>wikitext</td>\n",
       "      <td></td>\n",
       "      <td>{{Infobox Écrivain\\n | image              = Je...</td>\n",
       "      <td>NaN</td>\n",
       "    </tr>\n",
       "    <tr>\n",
       "      <th>194235244</th>\n",
       "      <td>0</td>\n",
       "      <td>JilanoB</td>\n",
       "      <td>2951316</td>\n",
       "      <td>2022-06-03T20:00:59Z</td>\n",
       "      <td>28139</td>\n",
       "      <td>05f176f103d7e2627c525692c002b7712da7d70b</td>\n",
       "      <td>text/x-wiki</td>\n",
       "      <td>wikitext</td>\n",
       "      <td>Créé en traduisant la page « [[:en:Special:Red...</td>\n",
       "      <td>{{Infobox Écrivain\\n | image              = Je...</td>\n",
       "      <td>NaN</td>\n",
       "    </tr>\n",
       "  </tbody>\n",
       "</table>\n",
       "<p>75 rows × 11 columns</p>\n",
       "</div>"
      ],
      "text/plain": [
       "            parentid       user   userid             timestamp   size  \\\n",
       "revid                                                                   \n",
       "213143912  213143881  Skouratov   926212  2024-03-07T18:21:02Z  26666   \n",
       "213143881  213143869  Skouratov   926212  2024-03-07T18:20:09Z  26666   \n",
       "213143869  213143855  Skouratov   926212  2024-03-07T18:19:43Z  26663   \n",
       "213143855  213141826  Skouratov   926212  2024-03-07T18:18:45Z  26660   \n",
       "213141826  213037363  Skouratov   926212  2024-03-07T16:53:46Z  26657   \n",
       "...              ...        ...      ...                   ...    ...   \n",
       "194235829  194235782    JilanoB  2951316  2022-06-03T20:24:44Z  27715   \n",
       "194235782  194235515    JilanoB  2951316  2022-06-03T20:23:07Z  27418   \n",
       "194235515  194235446    JilanoB  2951316  2022-06-03T20:12:51Z  28081   \n",
       "194235446  194235244    JilanoB  2951316  2022-06-03T20:10:06Z  28040   \n",
       "194235244          0    JilanoB  2951316  2022-06-03T20:00:59Z  28139   \n",
       "\n",
       "                                               sha1 contentformat  \\\n",
       "revid                                                               \n",
       "213143912  4640478c72a1d9b804143ace578689ffd0c735d0   text/x-wiki   \n",
       "213143881  11af4b74f22b205943a9bc697da30f93d5c652af   text/x-wiki   \n",
       "213143869  3eedcd66bb98458ab21c32da3d02a36ee1ce0323   text/x-wiki   \n",
       "213143855  db2907b5c8b17221db7a40c620c2d1d2f682c950   text/x-wiki   \n",
       "213141826  103ae0b6537ecde00e79c206441bc07711b6cea6   text/x-wiki   \n",
       "...                                             ...           ...   \n",
       "194235829  6535777e0f8df7c9521f7caf288db3e6e62e6062   text/x-wiki   \n",
       "194235782  1db52a68ef8dbafdfee3a57f933a018686d2e252   text/x-wiki   \n",
       "194235515  1f788b23ab58b3e118768b9c82536c5eeff493d5   text/x-wiki   \n",
       "194235446  5e9cc3ed891eb3a7cd99e37bd9576bab044eb25d   text/x-wiki   \n",
       "194235244  05f176f103d7e2627c525692c002b7712da7d70b   text/x-wiki   \n",
       "\n",
       "          contentmodel                                            comment  \\\n",
       "revid                                                                       \n",
       "213143912     wikitext  /* The Dungeoneer et les jeux de rôle fantasti...   \n",
       "213143881     wikitext  /* Judges Guild, projets de jeux de rôle indép...   \n",
       "213143869     wikitext  /* The Dungeoneer et les jeux de rôle fantasti...   \n",
       "213143855     wikitext  /* The Dungeoneer et les jeux de rôle fantasti...   \n",
       "213141826     wikitext                                                      \n",
       "...                ...                                                ...   \n",
       "194235829     wikitext                                    /* Activisme */   \n",
       "194235782     wikitext  /* Judges Guild, projets de jeux de rôle indép...   \n",
       "194235515     wikitext                                                      \n",
       "194235446     wikitext                                                      \n",
       "194235244     wikitext  Créé en traduisant la page « [[:en:Special:Red...   \n",
       "\n",
       "                                                           * anon  \n",
       "revid                                                              \n",
       "213143912  {{Infobox Biographie2\\n | charte            = ...  NaN  \n",
       "213143881  {{Infobox Biographie2\\n | charte            = ...  NaN  \n",
       "213143869  {{Infobox Biographie2\\n | charte            = ...  NaN  \n",
       "213143855  {{Infobox Biographie2\\n | charte            = ...  NaN  \n",
       "213141826  {{Infobox Biographie2\\n | charte            = ...  NaN  \n",
       "...                                                      ...  ...  \n",
       "194235829  {{Infobox Écrivain\\n | image              = Je...  NaN  \n",
       "194235782  {{Infobox Écrivain\\n | image              = Je...  NaN  \n",
       "194235515  {{Infobox Écrivain\\n | image              = Je...  NaN  \n",
       "194235446  {{Infobox Écrivain\\n | image              = Je...  NaN  \n",
       "194235244  {{Infobox Écrivain\\n | image              = Je...  NaN  \n",
       "\n",
       "[75 rows x 11 columns]"
      ]
     },
     "execution_count": 6,
     "metadata": {},
     "output_type": "execute_result"
    }
   ],
   "source": [
    "revisions = (\n",
    "    pd\n",
    "    .DataFrame\n",
    "    .from_records(page.get_revisions())\n",
    "    .set_index('revid')\n",
    ")\n",
    "\n",
    "revisions"
   ]
  },
  {
   "cell_type": "code",
   "execution_count": 7,
   "id": "c589c8bc-5e6a-4361-bb5c-99b125c56fd4",
   "metadata": {
    "execution": {
     "iopub.execute_input": "2024-03-31T21:07:33.999850Z",
     "iopub.status.busy": "2024-03-31T21:07:33.999702Z",
     "iopub.status.idle": "2024-03-31T21:07:34.015160Z",
     "shell.execute_reply": "2024-03-31T21:07:34.014886Z"
    },
    "papermill": {
     "duration": 0.024921,
     "end_time": "2024-03-31T21:07:34.015988",
     "exception": false,
     "start_time": "2024-03-31T21:07:33.991067",
     "status": "completed"
    },
    "tags": []
   },
   "outputs": [],
   "source": [
    "revisions.to_csv(f'../data/page-revisions/{page_name.lower()}.csv')"
   ]
  },
  {
   "cell_type": "code",
   "execution_count": 8,
   "id": "32533855-d09c-42e1-9071-35f10655dcd8",
   "metadata": {
    "execution": {
     "iopub.execute_input": "2024-03-31T21:07:34.019789Z",
     "iopub.status.busy": "2024-03-31T21:07:34.019697Z",
     "iopub.status.idle": "2024-03-31T21:07:34.021300Z",
     "shell.execute_reply": "2024-03-31T21:07:34.021091Z"
    },
    "papermill": {
     "duration": 0.004046,
     "end_time": "2024-03-31T21:07:34.021741",
     "exception": false,
     "start_time": "2024-03-31T21:07:34.017695",
     "status": "completed"
    },
    "tags": []
   },
   "outputs": [],
   "source": [
    "def decode(string):\n",
    "    return base64.b64decode(string).decode(\"utf-8\")"
   ]
  },
  {
   "cell_type": "code",
   "execution_count": 9,
   "id": "bea34dc6-f504-44a9-846f-39e8401c62f7",
   "metadata": {
    "execution": {
     "iopub.execute_input": "2024-03-31T21:07:34.025429Z",
     "iopub.status.busy": "2024-03-31T21:07:34.025310Z",
     "iopub.status.idle": "2024-03-31T21:07:34.253940Z",
     "shell.execute_reply": "2024-03-31T21:07:34.253684Z"
    },
    "papermill": {
     "duration": 0.231396,
     "end_time": "2024-03-31T21:07:34.254725",
     "exception": false,
     "start_time": "2024-03-31T21:07:34.023329",
     "status": "completed"
    },
    "tags": []
   },
   "outputs": [
    {
     "data": {
      "text/plain": [
       "<Axes: xlabel='date'>"
      ]
     },
     "execution_count": 9,
     "metadata": {},
     "output_type": "execute_result"
    },
    {
     "data": {
      "image/png": "[encoded data removed]",
      "text/plain": [
       "<Figure size 1500x1000 with 1 Axes>"
      ]
     },
     "metadata": {},
     "output_type": "display_data"
    }
   ],
   "source": [
    "(\n",
    "    revisions\n",
    "    .assign(\n",
    "        deadnames = lambda df: df['*'].apply(lambda x: str(x).lower().count(decode(dead_name).lower()))\n",
    "    )\n",
    "    #.reset_index()\n",
    "    [['timestamp', 'deadnames']]\n",
    "    .assign(\n",
    "        date = lambda df: pd.to_datetime(df.timestamp).dt.date\n",
    "    )\n",
    "    .groupby('date')\n",
    "    .agg({'deadnames': 'mean'})\n",
    "    .plot\n",
    "    .line(\n",
    "        figsize=(15,10)\n",
    "    )\n",
    ")"
   ]
  },
  {
   "cell_type": "code",
   "execution_count": 10,
   "id": "ca8a4ed9-db8d-4e1b-9f65-dfddd22ed89f",
   "metadata": {
    "execution": {
     "iopub.execute_input": "2024-03-31T21:07:34.268748Z",
     "iopub.status.busy": "2024-03-31T21:07:34.268554Z",
     "iopub.status.idle": "2024-03-31T21:08:00.520252Z",
     "shell.execute_reply": "2024-03-31T21:08:00.518578Z"
    },
    "papermill": {
     "duration": 26.257414,
     "end_time": "2024-03-31T21:08:00.523401",
     "exception": false,
     "start_time": "2024-03-31T21:07:34.265987",
     "status": "completed"
    },
    "tags": []
   },
   "outputs": [
    {
     "name": "stderr",
     "output_type": "stream",
     "text": [
      "\r",
      "  0%|          | 0/75 [00:00<?, ?it/s]"
     ]
    },
    {
     "name": "stderr",
     "output_type": "stream",
     "text": [
      "\r",
      "  3%|▎         | 2/75 [00:00<00:11,  6.13it/s]"
     ]
    },
    {
     "name": "stderr",
     "output_type": "stream",
     "text": [
      "\r",
      "  4%|▍         | 3/75 [00:00<00:16,  4.45it/s]"
     ]
    },
    {
     "name": "stderr",
     "output_type": "stream",
     "text": [
      "\r",
      "  5%|▌         | 4/75 [00:00<00:18,  3.89it/s]"
     ]
    },
    {
     "name": "stderr",
     "output_type": "stream",
     "text": [
      "\r",
      "  7%|▋         | 5/75 [00:01<00:19,  3.57it/s]"
     ]
    },
    {
     "name": "stderr",
     "output_type": "stream",
     "text": [
      "\r",
      "  8%|▊         | 6/75 [00:01<00:22,  3.02it/s]"
     ]
    },
    {
     "name": "stderr",
     "output_type": "stream",
     "text": [
      "\r",
      "  9%|▉         | 7/75 [00:02<00:22,  3.02it/s]"
     ]
    },
    {
     "name": "stderr",
     "output_type": "stream",
     "text": [
      "\r",
      " 11%|█         | 8/75 [00:02<00:21,  3.12it/s]"
     ]
    },
    {
     "name": "stderr",
     "output_type": "stream",
     "text": [
      "\r",
      " 12%|█▏        | 9/75 [00:02<00:20,  3.20it/s]"
     ]
    },
    {
     "name": "stderr",
     "output_type": "stream",
     "text": [
      "\r",
      " 13%|█▎        | 10/75 [00:02<00:20,  3.20it/s]"
     ]
    },
    {
     "name": "stderr",
     "output_type": "stream",
     "text": [
      "\r",
      " 15%|█▍        | 11/75 [00:03<00:19,  3.23it/s]"
     ]
    },
    {
     "name": "stderr",
     "output_type": "stream",
     "text": [
      "\r",
      " 16%|█▌        | 12/75 [00:03<00:19,  3.21it/s]"
     ]
    },
    {
     "name": "stderr",
     "output_type": "stream",
     "text": [
      "\r",
      " 17%|█▋        | 13/75 [00:03<00:19,  3.16it/s]"
     ]
    },
    {
     "name": "stderr",
     "output_type": "stream",
     "text": [
      "\r",
      " 19%|█▊        | 14/75 [00:04<00:18,  3.23it/s]"
     ]
    },
    {
     "name": "stderr",
     "output_type": "stream",
     "text": [
      "\r",
      " 20%|██        | 15/75 [00:04<00:18,  3.28it/s]"
     ]
    },
    {
     "name": "stderr",
     "output_type": "stream",
     "text": [
      "\r",
      " 21%|██▏       | 16/75 [00:04<00:17,  3.36it/s]"
     ]
    },
    {
     "name": "stderr",
     "output_type": "stream",
     "text": [
      "\r",
      " 23%|██▎       | 17/75 [00:05<00:19,  3.05it/s]"
     ]
    },
    {
     "name": "stderr",
     "output_type": "stream",
     "text": [
      "\r",
      " 24%|██▍       | 18/75 [00:05<00:20,  2.80it/s]"
     ]
    },
    {
     "name": "stderr",
     "output_type": "stream",
     "text": [
      "\r",
      " 25%|██▌       | 19/75 [00:05<00:19,  2.92it/s]"
     ]
    },
    {
     "name": "stderr",
     "output_type": "stream",
     "text": [
      "\r",
      " 27%|██▋       | 20/75 [00:06<00:18,  3.05it/s]"
     ]
    },
    {
     "name": "stderr",
     "output_type": "stream",
     "text": [
      "\r",
      " 28%|██▊       | 21/75 [00:06<00:17,  3.07it/s]"
     ]
    },
    {
     "name": "stderr",
     "output_type": "stream",
     "text": [
      "\r",
      " 29%|██▉       | 22/75 [00:06<00:16,  3.13it/s]"
     ]
    },
    {
     "name": "stderr",
     "output_type": "stream",
     "text": [
      "\r",
      " 31%|███       | 23/75 [00:07<00:16,  3.15it/s]"
     ]
    },
    {
     "name": "stderr",
     "output_type": "stream",
     "text": [
      "\r",
      " 32%|███▏      | 24/75 [00:07<00:16,  3.15it/s]"
     ]
    },
    {
     "name": "stderr",
     "output_type": "stream",
     "text": [
      "\r",
      " 33%|███▎      | 25/75 [00:07<00:15,  3.15it/s]"
     ]
    },
    {
     "name": "stderr",
     "output_type": "stream",
     "text": [
      "\r",
      " 35%|███▍      | 26/75 [00:08<00:16,  2.91it/s]"
     ]
    },
    {
     "name": "stderr",
     "output_type": "stream",
     "text": [
      "\r",
      " 36%|███▌      | 27/75 [00:08<00:16,  2.98it/s]"
     ]
    },
    {
     "name": "stderr",
     "output_type": "stream",
     "text": [
      "\r",
      " 37%|███▋      | 28/75 [00:08<00:15,  3.06it/s]"
     ]
    },
    {
     "name": "stderr",
     "output_type": "stream",
     "text": [
      "\r",
      " 39%|███▊      | 29/75 [00:09<00:15,  3.07it/s]"
     ]
    },
    {
     "name": "stderr",
     "output_type": "stream",
     "text": [
      "\r",
      " 40%|████      | 30/75 [00:09<00:14,  3.11it/s]"
     ]
    },
    {
     "name": "stderr",
     "output_type": "stream",
     "text": [
      "\r",
      " 41%|████▏     | 31/75 [00:09<00:13,  3.16it/s]"
     ]
    },
    {
     "name": "stderr",
     "output_type": "stream",
     "text": [
      "\r",
      " 43%|████▎     | 32/75 [00:10<00:13,  3.17it/s]"
     ]
    },
    {
     "name": "stderr",
     "output_type": "stream",
     "text": [
      "\r",
      " 44%|████▍     | 33/75 [00:10<00:13,  3.09it/s]"
     ]
    },
    {
     "name": "stderr",
     "output_type": "stream",
     "text": [
      "\r",
      " 45%|████▌     | 34/75 [00:10<00:13,  3.11it/s]"
     ]
    },
    {
     "name": "stderr",
     "output_type": "stream",
     "text": [
      "\r",
      " 47%|████▋     | 35/75 [00:11<00:14,  2.79it/s]"
     ]
    },
    {
     "name": "stderr",
     "output_type": "stream",
     "text": [
      "\r",
      " 48%|████▊     | 36/75 [00:11<00:14,  2.63it/s]"
     ]
    },
    {
     "name": "stderr",
     "output_type": "stream",
     "text": [
      "\r",
      " 49%|████▉     | 37/75 [00:12<00:15,  2.39it/s]"
     ]
    },
    {
     "name": "stderr",
     "output_type": "stream",
     "text": [
      "\r",
      " 51%|█████     | 38/75 [00:12<00:14,  2.56it/s]"
     ]
    },
    {
     "name": "stderr",
     "output_type": "stream",
     "text": [
      "\r",
      " 52%|█████▏    | 39/75 [00:12<00:13,  2.61it/s]"
     ]
    },
    {
     "name": "stderr",
     "output_type": "stream",
     "text": [
      "\r",
      " 53%|█████▎    | 40/75 [00:13<00:12,  2.77it/s]"
     ]
    },
    {
     "name": "stderr",
     "output_type": "stream",
     "text": [
      "\r",
      " 55%|█████▍    | 41/75 [00:13<00:11,  2.89it/s]"
     ]
    },
    {
     "name": "stderr",
     "output_type": "stream",
     "text": [
      "\r",
      " 56%|█████▌    | 42/75 [00:13<00:11,  2.97it/s]"
     ]
    },
    {
     "name": "stderr",
     "output_type": "stream",
     "text": [
      "\r",
      " 57%|█████▋    | 43/75 [00:14<00:10,  3.03it/s]"
     ]
    },
    {
     "name": "stderr",
     "output_type": "stream",
     "text": [
      "\r",
      " 59%|█████▊    | 44/75 [00:14<00:09,  3.12it/s]"
     ]
    },
    {
     "name": "stderr",
     "output_type": "stream",
     "text": [
      "\r",
      " 60%|██████    | 45/75 [00:14<00:09,  3.17it/s]"
     ]
    },
    {
     "name": "stderr",
     "output_type": "stream",
     "text": [
      "\r",
      " 61%|██████▏   | 46/75 [00:14<00:09,  3.19it/s]"
     ]
    },
    {
     "name": "stderr",
     "output_type": "stream",
     "text": [
      "\r",
      " 63%|██████▎   | 47/75 [00:15<00:09,  3.10it/s]"
     ]
    },
    {
     "name": "stderr",
     "output_type": "stream",
     "text": [
      "\r",
      " 64%|██████▍   | 48/75 [00:15<00:08,  3.12it/s]"
     ]
    },
    {
     "name": "stderr",
     "output_type": "stream",
     "text": [
      "\r",
      " 65%|██████▌   | 49/75 [00:16<00:09,  2.70it/s]"
     ]
    },
    {
     "name": "stderr",
     "output_type": "stream",
     "text": [
      "\r",
      " 67%|██████▋   | 50/75 [00:16<00:08,  2.85it/s]"
     ]
    },
    {
     "name": "stderr",
     "output_type": "stream",
     "text": [
      "\r",
      " 68%|██████▊   | 51/75 [00:16<00:08,  2.71it/s]"
     ]
    },
    {
     "name": "stderr",
     "output_type": "stream",
     "text": [
      "\r",
      " 69%|██████▉   | 52/75 [00:17<00:09,  2.43it/s]"
     ]
    },
    {
     "name": "stderr",
     "output_type": "stream",
     "text": [
      "\r",
      " 71%|███████   | 53/75 [00:17<00:08,  2.63it/s]"
     ]
    },
    {
     "name": "stderr",
     "output_type": "stream",
     "text": [
      "\r",
      " 72%|███████▏  | 54/75 [00:18<00:08,  2.37it/s]"
     ]
    },
    {
     "name": "stderr",
     "output_type": "stream",
     "text": [
      "\r",
      " 73%|███████▎  | 55/75 [00:18<00:07,  2.58it/s]"
     ]
    },
    {
     "name": "stderr",
     "output_type": "stream",
     "text": [
      "\r",
      " 75%|███████▍  | 56/75 [00:18<00:07,  2.38it/s]"
     ]
    },
    {
     "name": "stderr",
     "output_type": "stream",
     "text": [
      "\r",
      " 76%|███████▌  | 57/75 [00:19<00:07,  2.38it/s]"
     ]
    },
    {
     "name": "stderr",
     "output_type": "stream",
     "text": [
      "\r",
      " 77%|███████▋  | 58/75 [00:19<00:06,  2.53it/s]"
     ]
    },
    {
     "name": "stderr",
     "output_type": "stream",
     "text": [
      "\r",
      " 79%|███████▊  | 59/75 [00:20<00:05,  2.68it/s]"
     ]
    },
    {
     "name": "stderr",
     "output_type": "stream",
     "text": [
      "\r",
      " 80%|████████  | 60/75 [00:20<00:05,  2.86it/s]"
     ]
    },
    {
     "name": "stderr",
     "output_type": "stream",
     "text": [
      "\r",
      " 81%|████████▏ | 61/75 [00:20<00:04,  2.88it/s]"
     ]
    },
    {
     "name": "stderr",
     "output_type": "stream",
     "text": [
      "\r",
      " 83%|████████▎ | 62/75 [00:20<00:04,  3.00it/s]"
     ]
    },
    {
     "name": "stderr",
     "output_type": "stream",
     "text": [
      "\r",
      " 84%|████████▍ | 63/75 [00:21<00:04,  2.63it/s]"
     ]
    },
    {
     "name": "stderr",
     "output_type": "stream",
     "text": [
      "\r",
      " 85%|████████▌ | 64/75 [00:21<00:03,  2.81it/s]"
     ]
    },
    {
     "name": "stderr",
     "output_type": "stream",
     "text": [
      "\r",
      " 87%|████████▋ | 65/75 [00:22<00:03,  2.66it/s]"
     ]
    },
    {
     "name": "stderr",
     "output_type": "stream",
     "text": [
      "\r",
      " 88%|████████▊ | 66/75 [00:22<00:03,  2.78it/s]"
     ]
    },
    {
     "name": "stderr",
     "output_type": "stream",
     "text": [
      "\r",
      " 89%|████████▉ | 67/75 [00:22<00:02,  2.70it/s]"
     ]
    },
    {
     "name": "stderr",
     "output_type": "stream",
     "text": [
      "\r",
      " 91%|█████████ | 68/75 [00:23<00:02,  2.87it/s]"
     ]
    },
    {
     "name": "stderr",
     "output_type": "stream",
     "text": [
      "\r",
      " 92%|█████████▏| 69/75 [00:23<00:02,  2.99it/s]"
     ]
    },
    {
     "name": "stderr",
     "output_type": "stream",
     "text": [
      "\r",
      " 93%|█████████▎| 70/75 [00:23<00:01,  3.06it/s]"
     ]
    },
    {
     "name": "stderr",
     "output_type": "stream",
     "text": [
      "\r",
      " 95%|█████████▍| 71/75 [00:24<00:01,  2.84it/s]"
     ]
    },
    {
     "name": "stderr",
     "output_type": "stream",
     "text": [
      "\r",
      " 96%|█████████▌| 72/75 [00:24<00:01,  2.96it/s]"
     ]
    },
    {
     "name": "stderr",
     "output_type": "stream",
     "text": [
      "\r",
      " 97%|█████████▋| 73/75 [00:24<00:00,  2.77it/s]"
     ]
    },
    {
     "name": "stderr",
     "output_type": "stream",
     "text": [
      "\r",
      " 99%|█████████▊| 74/75 [00:25<00:00,  2.45it/s]"
     ]
    },
    {
     "name": "stderr",
     "output_type": "stream",
     "text": [
      "\r",
      "100%|██████████| 75/75 [00:25<00:00,  2.63it/s]"
     ]
    },
    {
     "name": "stderr",
     "output_type": "stream",
     "text": [
      "\r",
      "100%|██████████| 75/75 [00:26<00:00,  2.86it/s]"
     ]
    },
    {
     "name": "stderr",
     "output_type": "stream",
     "text": [
      "\n"
     ]
    }
   ],
   "source": [
    "def get_diff(revid):\n",
    "    return page.get_diff(revid)\n",
    "\n",
    "diffs = revisions.reset_index().revid.progress_apply(lambda x: page.extract_plusminus(get_diff(x))['added'] )\n",
    "\n",
    "#diffs"
   ]
  },
  {
   "cell_type": "markdown",
   "id": "49e1e9d0-0960-4573-a7d3-a7a218c3c34f",
   "metadata": {
    "papermill": {
     "duration": 0.011307,
     "end_time": "2024-03-31T21:08:00.550068",
     "exception": false,
     "start_time": "2024-03-31T21:08:00.538761",
     "status": "completed"
    },
    "tags": []
   },
   "source": [
    "### depuis le coming out"
   ]
  },
  {
   "cell_type": "code",
   "execution_count": 11,
   "id": "308c3a1c-e446-42b8-b087-915ff9fdf05f",
   "metadata": {
    "execution": {
     "iopub.execute_input": "2024-03-31T21:08:00.561913Z",
     "iopub.status.busy": "2024-03-31T21:08:00.561805Z",
     "iopub.status.idle": "2024-03-31T21:08:00.567559Z",
     "shell.execute_reply": "2024-03-31T21:08:00.567242Z"
    },
    "papermill": {
     "duration": 0.010712,
     "end_time": "2024-03-31T21:08:00.568828",
     "exception": false,
     "start_time": "2024-03-31T21:08:00.558116",
     "status": "completed"
    },
    "tags": []
   },
   "outputs": [
    {
     "data": {
      "text/plain": [
       "user\n",
       "2A01:CB09:B069:C899:93E7:FDCE:FC91:45DA    1\n",
       "JilanoB                                    1\n",
       "Lucky Marie Wiki                           0\n",
       "Taniki                                     0\n",
       "Sété40                                     0\n",
       "Skouratov                                  0\n",
       "Sherwood6                                  0\n",
       "Rell Canis                                 0\n",
       "Python72                                   0\n",
       "Pierregil83                                0\n",
       "Name: deadname_count, dtype: int64"
      ]
     },
     "execution_count": 11,
     "metadata": {},
     "output_type": "execute_result"
    }
   ],
   "source": [
    "(\n",
    "    revisions\n",
    "    .assign(\n",
    "        deadname_count = [ ' '.join(added).lower().count(decode(dead_name).lower()) for added in diffs ]\n",
    "    )\n",
    "    # on ne garde que les contributions après son coming out\n",
    "    .pipe(lambda df: df.query(f'timestamp >= \"{co_date}\"') if co_date != None else df)\n",
    "    .groupby('user')\n",
    "    .deadname_count\n",
    "    .sum()\n",
    "    .sort_values(ascending=False)\n",
    "    .head(10)\n",
    ")"
   ]
  },
  {
   "cell_type": "markdown",
   "id": "cdbf2cbe-7d9c-458a-8bb5-7554dbb954b5",
   "metadata": {
    "papermill": {
     "duration": 0.00324,
     "end_time": "2024-03-31T21:08:00.576159",
     "exception": false,
     "start_time": "2024-03-31T21:08:00.572919",
     "status": "completed"
    },
    "tags": []
   },
   "source": [
    "### depuis le début du sondage"
   ]
  },
  {
   "cell_type": "code",
   "execution_count": 12,
   "id": "e75e4ded-3e9d-45a6-bdd7-0af3b6f8b8ee",
   "metadata": {
    "execution": {
     "iopub.execute_input": "2024-03-31T21:08:00.583296Z",
     "iopub.status.busy": "2024-03-31T21:08:00.583178Z",
     "iopub.status.idle": "2024-03-31T21:08:00.587566Z",
     "shell.execute_reply": "2024-03-31T21:08:00.587373Z"
    },
    "papermill": {
     "duration": 0.00868,
     "end_time": "2024-03-31T21:08:00.588170",
     "exception": false,
     "start_time": "2024-03-31T21:08:00.579490",
     "status": "completed"
    },
    "tags": []
   },
   "outputs": [
    {
     "data": {
      "text/plain": [
       "user\n",
       "Evpok         0\n",
       "Kvardek du    0\n",
       "Python72      0\n",
       "Sherwood6     0\n",
       "Skouratov     0\n",
       "Taniki        0\n",
       "Name: deadname_count, dtype: int64"
      ]
     },
     "execution_count": 12,
     "metadata": {},
     "output_type": "execute_result"
    }
   ],
   "source": [
    "(\n",
    "    revisions\n",
    "    .assign(\n",
    "        deadname_count = [ ' '.join(added).lower().count(decode(dead_name).lower()) for added in diffs ]\n",
    "    )\n",
    "    # début du sondage\n",
    "    .query('timestamp >= \"2024-02-12\"')\n",
    "    .groupby('user')\n",
    "    .deadname_count\n",
    "    .sum()\n",
    "    .sort_values(ascending=False)\n",
    "    .head(20)\n",
    ")"
   ]
  },
  {
   "cell_type": "code",
   "execution_count": 13,
   "id": "7e9a0650-90e2-4d49-9fec-7d015b4a75dc",
   "metadata": {
    "execution": {
     "iopub.execute_input": "2024-03-31T21:08:00.595530Z",
     "iopub.status.busy": "2024-03-31T21:08:00.595394Z",
     "iopub.status.idle": "2024-03-31T21:08:00.619620Z",
     "shell.execute_reply": "2024-03-31T21:08:00.619418Z"
    },
    "papermill": {
     "duration": 0.028691,
     "end_time": "2024-03-31T21:08:00.620241",
     "exception": false,
     "start_time": "2024-03-31T21:08:00.591550",
     "status": "completed"
    },
    "tags": []
   },
   "outputs": [
    {
     "data": {
      "text/html": [
       "<style type=\"text/css\">\n",
       "</style>\n",
       "<table id=\"T_ba223\">\n",
       "  <thead>\n",
       "    <tr>\n",
       "      <th class=\"blank level0\" >&nbsp;</th>\n",
       "      <th id=\"T_ba223_level0_col0\" class=\"col_heading level0 col0\" >user</th>\n",
       "      <th id=\"T_ba223_level0_col1\" class=\"col_heading level0 col1\" >deadname_count</th>\n",
       "      <th id=\"T_ba223_level0_col2\" class=\"col_heading level0 col2\" >timestamp</th>\n",
       "    </tr>\n",
       "    <tr>\n",
       "      <th class=\"index_name level0\" >revid</th>\n",
       "      <th class=\"blank col0\" >&nbsp;</th>\n",
       "      <th class=\"blank col1\" >&nbsp;</th>\n",
       "      <th class=\"blank col2\" >&nbsp;</th>\n",
       "    </tr>\n",
       "  </thead>\n",
       "  <tbody>\n",
       "  </tbody>\n",
       "</table>\n"
      ],
      "text/plain": [
       "<pandas.io.formats.style.Styler at 0x729a504cf730>"
      ]
     },
     "execution_count": 13,
     "metadata": {},
     "output_type": "execute_result"
    }
   ],
   "source": [
    "(\n",
    "    revisions\n",
    "    .assign(\n",
    "        deadname_count = [ ' '.join(added).lower().count(decode(dead_name).lower()) for added in diffs ]\n",
    "    )\n",
    "    # début du sondage\n",
    "    .query('timestamp >= \"2024-01-15\"')\n",
    "    .query('deadname_count > 0')\n",
    "    [['user', 'deadname_count', 'timestamp']]\n",
    "    .style\n",
    "    .format_index(lambda x: format_revid_index(x, page_name))\n",
    ")"
   ]
  },
  {
   "cell_type": "markdown",
   "id": "b4ae0d43-e0f3-403f-8d77-06778155c12d",
   "metadata": {
    "papermill": {
     "duration": 0.003431,
     "end_time": "2024-03-31T21:08:00.627222",
     "exception": false,
     "start_time": "2024-03-31T21:08:00.623791",
     "status": "completed"
    },
    "tags": []
   },
   "source": [
    "## Discussions"
   ]
  },
  {
   "cell_type": "code",
   "execution_count": 14,
   "id": "65c5a95c-6148-4099-bcec-47e23701d260",
   "metadata": {
    "execution": {
     "iopub.execute_input": "2024-03-31T21:08:00.634810Z",
     "iopub.status.busy": "2024-03-31T21:08:00.634492Z",
     "iopub.status.idle": "2024-03-31T21:08:00.923247Z",
     "shell.execute_reply": "2024-03-31T21:08:00.921564Z"
    },
    "papermill": {
     "duration": 0.295966,
     "end_time": "2024-03-31T21:08:00.926604",
     "exception": false,
     "start_time": "2024-03-31T21:08:00.630638",
     "status": "completed"
    },
    "tags": []
   },
   "outputs": [],
   "source": [
    "talk = Page(f'Discussion:{page_name}', lang='fr')"
   ]
  },
  {
   "cell_type": "code",
   "execution_count": 15,
   "id": "f1aaec90-5c20-4488-a9aa-11da50fd1cf6",
   "metadata": {
    "execution": {
     "iopub.execute_input": "2024-03-31T21:08:00.947331Z",
     "iopub.status.busy": "2024-03-31T21:08:00.946968Z",
     "iopub.status.idle": "2024-03-31T21:08:24.589174Z",
     "shell.execute_reply": "2024-03-31T21:08:24.588925Z"
    },
    "papermill": {
     "duration": 23.651444,
     "end_time": "2024-03-31T21:08:24.589858",
     "exception": false,
     "start_time": "2024-03-31T21:08:00.938414",
     "status": "completed"
    },
    "tags": []
   },
   "outputs": [
    {
     "name": "stderr",
     "output_type": "stream",
     "text": [
      "\r",
      "  0%|          | 0/67 [00:00<?, ?it/s]"
     ]
    },
    {
     "name": "stderr",
     "output_type": "stream",
     "text": [
      "\r",
      "  3%|▎         | 2/67 [00:00<00:11,  5.67it/s]"
     ]
    },
    {
     "name": "stderr",
     "output_type": "stream",
     "text": [
      "\r",
      "  4%|▍         | 3/67 [00:00<00:15,  4.03it/s]"
     ]
    },
    {
     "name": "stderr",
     "output_type": "stream",
     "text": [
      "\r",
      "  6%|▌         | 4/67 [00:01<00:19,  3.18it/s]"
     ]
    },
    {
     "name": "stderr",
     "output_type": "stream",
     "text": [
      "\r",
      "  7%|▋         | 5/67 [00:01<00:19,  3.23it/s]"
     ]
    },
    {
     "name": "stderr",
     "output_type": "stream",
     "text": [
      "\r",
      "  9%|▉         | 6/67 [00:01<00:19,  3.09it/s]"
     ]
    },
    {
     "name": "stderr",
     "output_type": "stream",
     "text": [
      "\r",
      " 10%|█         | 7/67 [00:02<00:20,  2.98it/s]"
     ]
    },
    {
     "name": "stderr",
     "output_type": "stream",
     "text": [
      "\r",
      " 12%|█▏        | 8/67 [00:02<00:19,  2.95it/s]"
     ]
    },
    {
     "name": "stderr",
     "output_type": "stream",
     "text": [
      "\r",
      " 13%|█▎        | 9/67 [00:02<00:19,  2.96it/s]"
     ]
    },
    {
     "name": "stderr",
     "output_type": "stream",
     "text": [
      "\r",
      " 15%|█▍        | 10/67 [00:03<00:19,  2.90it/s]"
     ]
    },
    {
     "name": "stderr",
     "output_type": "stream",
     "text": [
      "\r",
      " 16%|█▋        | 11/67 [00:03<00:19,  2.89it/s]"
     ]
    },
    {
     "name": "stderr",
     "output_type": "stream",
     "text": [
      "\r",
      " 18%|█▊        | 12/67 [00:03<00:18,  2.95it/s]"
     ]
    },
    {
     "name": "stderr",
     "output_type": "stream",
     "text": [
      "\r",
      " 19%|█▉        | 13/67 [00:04<00:18,  2.90it/s]"
     ]
    },
    {
     "name": "stderr",
     "output_type": "stream",
     "text": [
      "\r",
      " 21%|██        | 14/67 [00:04<00:18,  2.94it/s]"
     ]
    },
    {
     "name": "stderr",
     "output_type": "stream",
     "text": [
      "\r",
      " 22%|██▏       | 15/67 [00:04<00:17,  2.90it/s]"
     ]
    },
    {
     "name": "stderr",
     "output_type": "stream",
     "text": [
      "\r",
      " 24%|██▍       | 16/67 [00:05<00:17,  2.88it/s]"
     ]
    },
    {
     "name": "stderr",
     "output_type": "stream",
     "text": [
      "\r",
      " 25%|██▌       | 17/67 [00:05<00:17,  2.89it/s]"
     ]
    },
    {
     "name": "stderr",
     "output_type": "stream",
     "text": [
      "\r",
      " 27%|██▋       | 18/67 [00:05<00:16,  2.97it/s]"
     ]
    },
    {
     "name": "stderr",
     "output_type": "stream",
     "text": [
      "\r",
      " 28%|██▊       | 19/67 [00:06<00:16,  2.98it/s]"
     ]
    },
    {
     "name": "stderr",
     "output_type": "stream",
     "text": [
      "\r",
      " 30%|██▉       | 20/67 [00:06<00:15,  2.95it/s]"
     ]
    },
    {
     "name": "stderr",
     "output_type": "stream",
     "text": [
      "\r",
      " 31%|███▏      | 21/67 [00:06<00:15,  3.00it/s]"
     ]
    },
    {
     "name": "stderr",
     "output_type": "stream",
     "text": [
      "\r",
      " 33%|███▎      | 22/67 [00:07<00:15,  2.99it/s]"
     ]
    },
    {
     "name": "stderr",
     "output_type": "stream",
     "text": [
      "\r",
      " 34%|███▍      | 23/67 [00:07<00:14,  2.98it/s]"
     ]
    },
    {
     "name": "stderr",
     "output_type": "stream",
     "text": [
      "\r",
      " 36%|███▌      | 24/67 [00:07<00:14,  3.02it/s]"
     ]
    },
    {
     "name": "stderr",
     "output_type": "stream",
     "text": [
      "\r",
      " 37%|███▋      | 25/67 [00:08<00:13,  3.02it/s]"
     ]
    },
    {
     "name": "stderr",
     "output_type": "stream",
     "text": [
      "\r",
      " 39%|███▉      | 26/67 [00:08<00:13,  2.94it/s]"
     ]
    },
    {
     "name": "stderr",
     "output_type": "stream",
     "text": [
      "\r",
      " 40%|████      | 27/67 [00:08<00:13,  2.90it/s]"
     ]
    },
    {
     "name": "stderr",
     "output_type": "stream",
     "text": [
      "\r",
      " 42%|████▏     | 28/67 [00:09<00:13,  2.90it/s]"
     ]
    },
    {
     "name": "stderr",
     "output_type": "stream",
     "text": [
      "\r",
      " 43%|████▎     | 29/67 [00:09<00:13,  2.91it/s]"
     ]
    },
    {
     "name": "stderr",
     "output_type": "stream",
     "text": [
      "\r",
      " 45%|████▍     | 30/67 [00:09<00:12,  2.98it/s]"
     ]
    },
    {
     "name": "stderr",
     "output_type": "stream",
     "text": [
      "\r",
      " 46%|████▋     | 31/67 [00:10<00:12,  2.88it/s]"
     ]
    },
    {
     "name": "stderr",
     "output_type": "stream",
     "text": [
      "\r",
      " 48%|████▊     | 32/67 [00:10<00:12,  2.91it/s]"
     ]
    },
    {
     "name": "stderr",
     "output_type": "stream",
     "text": [
      "\r",
      " 49%|████▉     | 33/67 [00:11<00:11,  2.87it/s]"
     ]
    },
    {
     "name": "stderr",
     "output_type": "stream",
     "text": [
      "\r",
      " 51%|█████     | 34/67 [00:11<00:11,  2.81it/s]"
     ]
    },
    {
     "name": "stderr",
     "output_type": "stream",
     "text": [
      "\r",
      " 52%|█████▏    | 35/67 [00:11<00:11,  2.83it/s]"
     ]
    },
    {
     "name": "stderr",
     "output_type": "stream",
     "text": [
      "\r",
      " 54%|█████▎    | 36/67 [00:12<00:11,  2.63it/s]"
     ]
    },
    {
     "name": "stderr",
     "output_type": "stream",
     "text": [
      "\r",
      " 55%|█████▌    | 37/67 [00:12<00:10,  2.75it/s]"
     ]
    },
    {
     "name": "stderr",
     "output_type": "stream",
     "text": [
      "\r",
      " 57%|█████▋    | 38/67 [00:12<00:10,  2.85it/s]"
     ]
    },
    {
     "name": "stderr",
     "output_type": "stream",
     "text": [
      "\r",
      " 58%|█████▊    | 39/67 [00:13<00:09,  2.93it/s]"
     ]
    },
    {
     "name": "stderr",
     "output_type": "stream",
     "text": [
      "\r",
      " 60%|█████▉    | 40/67 [00:13<00:09,  2.95it/s]"
     ]
    },
    {
     "name": "stderr",
     "output_type": "stream",
     "text": [
      "\r",
      " 61%|██████    | 41/67 [00:13<00:08,  2.99it/s]"
     ]
    },
    {
     "name": "stderr",
     "output_type": "stream",
     "text": [
      "\r",
      " 63%|██████▎   | 42/67 [00:14<00:08,  2.97it/s]"
     ]
    },
    {
     "name": "stderr",
     "output_type": "stream",
     "text": [
      "\r",
      " 64%|██████▍   | 43/67 [00:14<00:08,  2.88it/s]"
     ]
    },
    {
     "name": "stderr",
     "output_type": "stream",
     "text": [
      "\r",
      " 66%|██████▌   | 44/67 [00:14<00:07,  2.91it/s]"
     ]
    },
    {
     "name": "stderr",
     "output_type": "stream",
     "text": [
      "\r",
      " 67%|██████▋   | 45/67 [00:15<00:07,  2.93it/s]"
     ]
    },
    {
     "name": "stderr",
     "output_type": "stream",
     "text": [
      "\r",
      " 69%|██████▊   | 46/67 [00:15<00:07,  2.99it/s]"
     ]
    },
    {
     "name": "stderr",
     "output_type": "stream",
     "text": [
      "\r",
      " 70%|███████   | 47/67 [00:15<00:06,  3.02it/s]"
     ]
    },
    {
     "name": "stderr",
     "output_type": "stream",
     "text": [
      "\r",
      " 72%|███████▏  | 48/67 [00:16<00:06,  3.08it/s]"
     ]
    },
    {
     "name": "stderr",
     "output_type": "stream",
     "text": [
      "\r",
      " 73%|███████▎  | 49/67 [00:16<00:06,  3.00it/s]"
     ]
    },
    {
     "name": "stderr",
     "output_type": "stream",
     "text": [
      "\r",
      " 75%|███████▍  | 50/67 [00:16<00:05,  3.04it/s]"
     ]
    },
    {
     "name": "stderr",
     "output_type": "stream",
     "text": [
      "\r",
      " 76%|███████▌  | 51/67 [00:17<00:05,  3.01it/s]"
     ]
    },
    {
     "name": "stderr",
     "output_type": "stream",
     "text": [
      "\r",
      " 78%|███████▊  | 52/67 [00:17<00:04,  3.00it/s]"
     ]
    },
    {
     "name": "stderr",
     "output_type": "stream",
     "text": [
      "\r",
      " 79%|███████▉  | 53/67 [00:17<00:04,  2.92it/s]"
     ]
    },
    {
     "name": "stderr",
     "output_type": "stream",
     "text": [
      "\r",
      " 81%|████████  | 54/67 [00:18<00:04,  2.62it/s]"
     ]
    },
    {
     "name": "stderr",
     "output_type": "stream",
     "text": [
      "\r",
      " 82%|████████▏ | 55/67 [00:18<00:04,  2.65it/s]"
     ]
    },
    {
     "name": "stderr",
     "output_type": "stream",
     "text": [
      "\r",
      " 84%|████████▎ | 56/67 [00:19<00:04,  2.64it/s]"
     ]
    },
    {
     "name": "stderr",
     "output_type": "stream",
     "text": [
      "\r",
      " 85%|████████▌ | 57/67 [00:19<00:03,  2.71it/s]"
     ]
    },
    {
     "name": "stderr",
     "output_type": "stream",
     "text": [
      "\r",
      " 87%|████████▋ | 58/67 [00:19<00:03,  2.84it/s]"
     ]
    },
    {
     "name": "stderr",
     "output_type": "stream",
     "text": [
      "\r",
      " 88%|████████▊ | 59/67 [00:20<00:02,  2.87it/s]"
     ]
    },
    {
     "name": "stderr",
     "output_type": "stream",
     "text": [
      "\r",
      " 90%|████████▉ | 60/67 [00:20<00:02,  2.93it/s]"
     ]
    },
    {
     "name": "stderr",
     "output_type": "stream",
     "text": [
      "\r",
      " 91%|█████████ | 61/67 [00:20<00:02,  2.91it/s]"
     ]
    },
    {
     "name": "stderr",
     "output_type": "stream",
     "text": [
      "\r",
      " 93%|█████████▎| 62/67 [00:21<00:01,  2.94it/s]"
     ]
    },
    {
     "name": "stderr",
     "output_type": "stream",
     "text": [
      "\r",
      " 94%|█████████▍| 63/67 [00:21<00:01,  3.01it/s]"
     ]
    },
    {
     "name": "stderr",
     "output_type": "stream",
     "text": [
      "\r",
      " 96%|█████████▌| 64/67 [00:21<00:01,  2.98it/s]"
     ]
    },
    {
     "name": "stderr",
     "output_type": "stream",
     "text": [
      "\r",
      " 97%|█████████▋| 65/67 [00:22<00:00,  2.95it/s]"
     ]
    },
    {
     "name": "stderr",
     "output_type": "stream",
     "text": [
      "\r",
      " 99%|█████████▊| 66/67 [00:22<00:00,  2.94it/s]"
     ]
    },
    {
     "name": "stderr",
     "output_type": "stream",
     "text": [
      "\r",
      "100%|██████████| 67/67 [00:22<00:00,  2.92it/s]"
     ]
    },
    {
     "name": "stderr",
     "output_type": "stream",
     "text": [
      "\r",
      "100%|██████████| 67/67 [00:23<00:00,  2.90it/s]"
     ]
    },
    {
     "name": "stderr",
     "output_type": "stream",
     "text": [
      "\n"
     ]
    }
   ],
   "source": [
    "talk_revisions = (\n",
    "    pd\n",
    "    .DataFrame\n",
    "    .from_records(talk.get_revisions_list())\n",
    "    .assign(\n",
    "        diff = lambda df: df.revid.progress_apply(lambda x: talk.get_diff(x)),\n",
    "        deleted = lambda df: df['diff'].apply(lambda diff: talk.extract_plusminus(diff)['deleted']),\n",
    "        added = lambda df: df['diff'].apply(lambda diff: talk.extract_plusminus(diff)['added']),\n",
    "    )\n",
    "    .set_index('revid')\n",
    ")\n",
    "\n",
    "#talk_revisions"
   ]
  },
  {
   "cell_type": "code",
   "execution_count": 16,
   "id": "25ec8a7b-a133-458e-bad3-331c8f41b851",
   "metadata": {
    "execution": {
     "iopub.execute_input": "2024-03-31T21:08:24.603350Z",
     "iopub.status.busy": "2024-03-31T21:08:24.603248Z",
     "iopub.status.idle": "2024-03-31T21:08:24.607639Z",
     "shell.execute_reply": "2024-03-31T21:08:24.607365Z"
    },
    "papermill": {
     "duration": 0.01332,
     "end_time": "2024-03-31T21:08:24.608116",
     "exception": false,
     "start_time": "2024-03-31T21:08:24.594796",
     "status": "completed"
    },
    "tags": []
   },
   "outputs": [],
   "source": [
    "talk_revisions.to_csv(f'../data/page-diffs/discussion:{page_name.lower()}.csv')"
   ]
  },
  {
   "cell_type": "markdown",
   "id": "4d1737c2-1d19-48bb-925f-f3a73fc7c585",
   "metadata": {
    "papermill": {
     "duration": 0.004487,
     "end_time": "2024-03-31T21:08:24.617249",
     "exception": false,
     "start_time": "2024-03-31T21:08:24.612762",
     "status": "completed"
    },
    "tags": []
   },
   "source": [
    "### depuis le coming out"
   ]
  },
  {
   "cell_type": "code",
   "execution_count": 17,
   "id": "0e863939-69ce-43d1-a48c-ed831817f6c6",
   "metadata": {
    "execution": {
     "iopub.execute_input": "2024-03-31T21:08:24.626723Z",
     "iopub.status.busy": "2024-03-31T21:08:24.626614Z",
     "iopub.status.idle": "2024-03-31T21:08:24.630547Z",
     "shell.execute_reply": "2024-03-31T21:08:24.630294Z"
    },
    "papermill": {
     "duration": 0.009342,
     "end_time": "2024-03-31T21:08:24.631136",
     "exception": false,
     "start_time": "2024-03-31T21:08:24.621794",
     "status": "completed"
    },
    "tags": []
   },
   "outputs": [
    {
     "data": {
      "text/plain": [
       "user\n",
       "Abbd-44          0\n",
       "Celinea33        0\n",
       "Cymbella         0\n",
       "Esprit Fugace    0\n",
       "Eunostos         0\n",
       "Florck           0\n",
       "Framabot         0\n",
       "JilanoB          0\n",
       "Kvardek du       0\n",
       "Léna             0\n",
       "Name: deadname_count, dtype: int64"
      ]
     },
     "execution_count": 17,
     "metadata": {},
     "output_type": "execute_result"
    }
   ],
   "source": [
    "(\n",
    "    talk_revisions\n",
    "    .assign(\n",
    "        deadname_count = lambda df: df.added.apply(lambda x: ' '.join(x).lower().count(decode(dead_name).lower()))\n",
    "    )\n",
    "    # on ne garde que les contributions après son coming out\n",
    "    #.query('timestamp >= \"2013-08-22\"')\n",
    "    .groupby('user')\n",
    "    .deadname_count\n",
    "    .sum()\n",
    "    .sort_values(ascending=False)\n",
    "    .head(10)\n",
    ")"
   ]
  },
  {
   "cell_type": "markdown",
   "id": "f527cdea-8c65-45e8-8274-48ee9e2246b8",
   "metadata": {
    "papermill": {
     "duration": 0.004485,
     "end_time": "2024-03-31T21:08:24.640109",
     "exception": false,
     "start_time": "2024-03-31T21:08:24.635624",
     "status": "completed"
    },
    "tags": []
   },
   "source": [
    "### depuis le début du sondage"
   ]
  },
  {
   "cell_type": "code",
   "execution_count": 18,
   "id": "9e1a66e6-8622-4a4c-a031-95f1ee3e81b1",
   "metadata": {
    "execution": {
     "iopub.execute_input": "2024-03-31T21:08:24.649768Z",
     "iopub.status.busy": "2024-03-31T21:08:24.649598Z",
     "iopub.status.idle": "2024-03-31T21:08:24.654465Z",
     "shell.execute_reply": "2024-03-31T21:08:24.654211Z"
    },
    "papermill": {
     "duration": 0.010435,
     "end_time": "2024-03-31T21:08:24.655040",
     "exception": false,
     "start_time": "2024-03-31T21:08:24.644605",
     "status": "completed"
    },
    "tags": []
   },
   "outputs": [
    {
     "data": {
      "text/plain": [
       "user\n",
       "Cymbella      0\n",
       "Florck        0\n",
       "Kvardek du    0\n",
       "Sherwood6     0\n",
       "Name: deadname_count, dtype: int64"
      ]
     },
     "execution_count": 18,
     "metadata": {},
     "output_type": "execute_result"
    }
   ],
   "source": [
    "(\n",
    "    talk_revisions\n",
    "    .assign(\n",
    "        deadname_count = lambda df: df.added.apply(lambda x: ' '.join(x).lower().count(decode(dead_name).lower()))\n",
    "    )\n",
    "    # depuis le sondage\n",
    "    .query('timestamp >= \"2024-02-12\"')\n",
    "    .groupby('user')\n",
    "    .deadname_count\n",
    "    .sum()\n",
    "    .sort_values(ascending=False)\n",
    "    .head(10)\n",
    ")"
   ]
  },
  {
   "cell_type": "code",
   "execution_count": 19,
   "id": "63fb08f4-6403-42c9-87ea-7851eb4853b9",
   "metadata": {
    "execution": {
     "iopub.execute_input": "2024-03-31T21:08:24.664925Z",
     "iopub.status.busy": "2024-03-31T21:08:24.664769Z",
     "iopub.status.idle": "2024-03-31T21:08:24.670422Z",
     "shell.execute_reply": "2024-03-31T21:08:24.670233Z"
    },
    "papermill": {
     "duration": 0.011505,
     "end_time": "2024-03-31T21:08:24.671233",
     "exception": false,
     "start_time": "2024-03-31T21:08:24.659728",
     "status": "completed"
    },
    "tags": []
   },
   "outputs": [
    {
     "data": {
      "text/html": [
       "<style type=\"text/css\">\n",
       "</style>\n",
       "<table id=\"T_3f6ab\">\n",
       "  <thead>\n",
       "    <tr>\n",
       "      <th class=\"blank level0\" >&nbsp;</th>\n",
       "      <th id=\"T_3f6ab_level0_col0\" class=\"col_heading level0 col0\" >user</th>\n",
       "      <th id=\"T_3f6ab_level0_col1\" class=\"col_heading level0 col1\" >deadname_count</th>\n",
       "      <th id=\"T_3f6ab_level0_col2\" class=\"col_heading level0 col2\" >timestamp</th>\n",
       "    </tr>\n",
       "    <tr>\n",
       "      <th class=\"index_name level0\" >revid</th>\n",
       "      <th class=\"blank col0\" >&nbsp;</th>\n",
       "      <th class=\"blank col1\" >&nbsp;</th>\n",
       "      <th class=\"blank col2\" >&nbsp;</th>\n",
       "    </tr>\n",
       "  </thead>\n",
       "  <tbody>\n",
       "  </tbody>\n",
       "</table>\n"
      ],
      "text/plain": [
       "<pandas.io.formats.style.Styler at 0x72997b4ed510>"
      ]
     },
     "execution_count": 19,
     "metadata": {},
     "output_type": "execute_result"
    }
   ],
   "source": [
    "(\n",
    "    talk_revisions\n",
    "    .assign(\n",
    "        deadname_count = lambda df: df.added.apply(lambda x: ' '.join(x).lower().count(decode(dead_name).lower()))\n",
    "    )\n",
    "    # depuis le sondage\n",
    "    .query('timestamp >= \"2024-02-12\"')\n",
    "    .query('deadname_count > 0')\n",
    "    [['user', 'deadname_count', 'timestamp']]\n",
    "    .style\n",
    "    .format_index(lambda x : format_revid_index(x, f'Discussion:{page_name}'))\n",
    ")"
   ]
  },
  {
   "cell_type": "code",
   "execution_count": 20,
   "id": "27f65dc8-0dab-464f-931b-4498c241e3f5",
   "metadata": {
    "execution": {
     "iopub.execute_input": "2024-03-31T21:08:24.681483Z",
     "iopub.status.busy": "2024-03-31T21:08:24.681392Z",
     "iopub.status.idle": "2024-03-31T21:08:24.685874Z",
     "shell.execute_reply": "2024-03-31T21:08:24.685690Z"
    },
    "papermill": {
     "duration": 0.010198,
     "end_time": "2024-03-31T21:08:24.686558",
     "exception": false,
     "start_time": "2024-03-31T21:08:24.676360",
     "status": "completed"
    },
    "tags": []
   },
   "outputs": [
    {
     "data": {
      "text/plain": [
       "0"
      ]
     },
     "execution_count": 20,
     "metadata": {},
     "output_type": "execute_result"
    }
   ],
   "source": [
    "len(\n",
    "    talk_revisions\n",
    "    .assign(\n",
    "        deadname_count = lambda df: df.added.apply(lambda x: ' '.join(x).lower().count(decode(dead_name).lower()))\n",
    "    )\n",
    "    # depuis le sondage\n",
    "    .query('timestamp >= \"2024-02-12\"')\n",
    "    .query('deadname_count > 0')\n",
    "    [['user', 'deadname_count']]\n",
    ")"
   ]
  },
  {
   "cell_type": "code",
   "execution_count": null,
   "id": "f53cbc6c-c121-4c41-895b-60d2eafe8fbe",
   "metadata": {
    "papermill": {
     "duration": 0.004627,
     "end_time": "2024-03-31T21:08:24.695805",
     "exception": false,
     "start_time": "2024-03-31T21:08:24.691178",
     "status": "completed"
    },
    "tags": []
   },
   "outputs": [],
   "source": []
  }
 ],
 "metadata": {
  "kernelspec": {
   "display_name": "Python 3 (ipykernel)",
   "language": "python",
   "name": "python3"
  },
  "language_info": {
   "codemirror_mode": {
    "name": "ipython",
    "version": 3
   },
   "file_extension": ".py",
   "mimetype": "text/x-python",
   "name": "python",
   "nbconvert_exporter": "python",
   "pygments_lexer": "ipython3",
   "version": "3.10.12"
  },
  "papermill": {
   "default_parameters": {},
   "duration": 55.415464,
   "end_time": "2024-03-31T21:08:24.917255",
   "environment_variables": {},
   "exception": null,
   "input_path": "cook_template_deadname_watch.ipynb",
   "output_path": "cook_eda_deadnames_jennell_jaquays.ipynb",
   "parameters": {
    "co_date": "2021-03-04",
    "dead_name": "UGF1bCBKYXF1YXlz",
    "name": "Jennell Jaquays",
    "page_name": "Jennell_Jaquays"
   },
   "start_time": "2024-03-31T21:07:29.501791",
   "version": "2.4.0"
  }
 },
 "nbformat": 4,
 "nbformat_minor": 5
}