{
 "cells": [
  {
   "cell_type": "markdown",
   "id": "1e13ca15-90a3-418c-8d4d-9750e3531c6b",
   "metadata": {},
   "source": [
    "## analyse exploratoire des contributions des votant·e·s à la question 1"
   ]
  },
  {
   "cell_type": "code",
   "execution_count": 1,
   "id": "cf8e3549-73d5-485e-b025-9018b34fced8",
   "metadata": {},
   "outputs": [
    {
     "name": "stderr",
     "output_type": "stream",
     "text": [
      "/home/tk/.virtualenvs/kitchen/lib/python3.10/site-packages/dask/dataframe/_pyarrow_compat.py:23: UserWarning: You are using pyarrow version 11.0.0 which is known to be insecure. See https://www.cve.org/CVERecord?id=CVE-2023-47248 for further details. Please upgrade to pyarrow>=14.0.1 or install pyarrow-hotfix to patch your current version.\n",
      "  warnings.warn(\n"
     ]
    }
   ],
   "source": [
    "import pandas as pd\n",
    "import dask\n",
    "dask.config.set({'dataframe.query-planning': True})\n",
    "import dask.dataframe as dd\n",
    "from tqdm import tqdm"
   ]
  },
  {
   "cell_type": "code",
   "execution_count": 2,
   "id": "ae6e509e-4014-46f1-bcec-81cf3c8feafc",
   "metadata": {},
   "outputs": [
    {
     "data": {
      "text/plain": [
       "Index(['path', 'user', 'vote'], dtype='object')"
      ]
     },
     "execution_count": 2,
     "metadata": {},
     "output_type": "execute_result"
    }
   ],
   "source": [
    "votes = pd.read_csv('../data/votes-q1.csv')\n",
    "\n",
    "#votes.columns"
   ]
  },
  {
   "cell_type": "code",
   "execution_count": 3,
   "id": "8f1f5ca2-6845-47d8-845a-c2055a63d385",
   "metadata": {},
   "outputs": [
    {
     "data": {
      "text/plain": [
       "(9742264, 16)"
      ]
     },
     "execution_count": 3,
     "metadata": {},
     "output_type": "execute_result"
    }
   ],
   "source": [
    "contributions = (\n",
    "    dd\n",
    "    .read_csv('../data/user-logs/*.csv')\n",
    "    .compute()\n",
    ")\n",
    "\n",
    "contributions.shape"
   ]
  },
  {
   "cell_type": "code",
   "execution_count": 4,
   "id": "28ef4a37-17a3-477f-99f5-a5d1bb090de7",
   "metadata": {},
   "outputs": [
    {
     "data": {
      "text/plain": [
       "(6811318, 16)"
      ]
     },
     "execution_count": 4,
     "metadata": {},
     "output_type": "execute_result"
    }
   ],
   "source": [
    "main = (\n",
    "    contributions\n",
    "    .query('~title.isna()')\n",
    "    .query('~title.str.contains(\":\")')\n",
    ")\n",
    "\n",
    "main.shape"
   ]
  },
  {
   "cell_type": "code",
   "execution_count": 5,
   "id": "985410b4-d6fd-4be0-be26-436194c0918a",
   "metadata": {},
   "outputs": [
    {
     "data": {
      "text/plain": [
       "Index(['userid', 'user', 'pageid', 'revid', 'parentid', 'ns', 'title',\n",
       "       'timestamp', 'comment', 'size', 'top', 'minor', 'new', 'commenthidden',\n",
       "       'suppressed', 'texthidden'],\n",
       "      dtype='object')"
      ]
     },
     "execution_count": 5,
     "metadata": {},
     "output_type": "execute_result"
    }
   ],
   "source": [
    "main.columns"
   ]
  },
  {
   "cell_type": "markdown",
   "id": "26b2f7bd-d877-4085-9f35-429b9b0908c0",
   "metadata": {},
   "source": [
    "## tout le monde"
   ]
  },
  {
   "cell_type": "code",
   "execution_count": 6,
   "id": "55d321a3-3042-40a9-8ece-483a02b147d2",
   "metadata": {},
   "outputs": [
    {
     "data": {
      "text/html": [
       "<div>\n",
       "<style scoped>\n",
       "    .dataframe tbody tr th:only-of-type {\n",
       "        vertical-align: middle;\n",
       "    }\n",
       "\n",
       "    .dataframe tbody tr th {\n",
       "        vertical-align: top;\n",
       "    }\n",
       "\n",
       "    .dataframe thead th {\n",
       "        text-align: right;\n",
       "    }\n",
       "</style>\n",
       "<table border=\"1\" class=\"dataframe\">\n",
       "  <thead>\n",
       "    <tr style=\"text-align: right;\">\n",
       "      <th></th>\n",
       "      <th>userid</th>\n",
       "    </tr>\n",
       "    <tr>\n",
       "      <th>title</th>\n",
       "      <th></th>\n",
       "    </tr>\n",
       "  </thead>\n",
       "  <tbody>\n",
       "    <tr>\n",
       "      <th>Éric Zemmour</th>\n",
       "      <td>72</td>\n",
       "    </tr>\n",
       "    <tr>\n",
       "      <th>Charles de Gaulle</th>\n",
       "      <td>71</td>\n",
       "    </tr>\n",
       "    <tr>\n",
       "      <th>France</th>\n",
       "      <td>71</td>\n",
       "    </tr>\n",
       "    <tr>\n",
       "      <th>Jacques Chirac</th>\n",
       "      <td>66</td>\n",
       "    </tr>\n",
       "    <tr>\n",
       "      <th>Rassemblement national</th>\n",
       "      <td>66</td>\n",
       "    </tr>\n",
       "    <tr>\n",
       "      <th>Nicolas Sarkozy</th>\n",
       "      <td>64</td>\n",
       "    </tr>\n",
       "    <tr>\n",
       "      <th>Emmanuel Macron</th>\n",
       "      <td>64</td>\n",
       "    </tr>\n",
       "    <tr>\n",
       "      <th>François Mitterrand</th>\n",
       "      <td>63</td>\n",
       "    </tr>\n",
       "    <tr>\n",
       "      <th>François Hollande</th>\n",
       "      <td>60</td>\n",
       "    </tr>\n",
       "    <tr>\n",
       "      <th>Dieudonné</th>\n",
       "      <td>59</td>\n",
       "    </tr>\n",
       "  </tbody>\n",
       "</table>\n",
       "</div>"
      ],
      "text/plain": [
       "                        userid\n",
       "title                         \n",
       "Éric Zemmour                72\n",
       "Charles de Gaulle           71\n",
       "France                      71\n",
       "Jacques Chirac              66\n",
       "Rassemblement national      66\n",
       "Nicolas Sarkozy             64\n",
       "Emmanuel Macron             64\n",
       "François Mitterrand         63\n",
       "François Hollande           60\n",
       "Dieudonné                   59"
      ]
     },
     "execution_count": 6,
     "metadata": {},
     "output_type": "execute_result"
    }
   ],
   "source": [
    "(\n",
    "    main\n",
    "    .groupby('title')\n",
    "    .agg({\n",
    "        'userid': lambda s: len(s.unique())\n",
    "    })\n",
    "    .sort_values('userid', ascending=False)\n",
    "    .head(10)\n",
    ")"
   ]
  },
  {
   "cell_type": "code",
   "execution_count": 7,
   "id": "2fbd842f-84ad-4f15-924f-f97794e4c09a",
   "metadata": {},
   "outputs": [],
   "source": [
    "oui = votes.query('vote == \"oui\"')\n",
    "non = votes.query('vote == \"non\"')"
   ]
  },
  {
   "cell_type": "markdown",
   "id": "bbcd4cb7-387a-4423-aad5-8b0e1dd59977",
   "metadata": {},
   "source": [
    "## seulement `vote = oui`"
   ]
  },
  {
   "cell_type": "code",
   "execution_count": 8,
   "id": "3e1dbea5-38c0-4253-9c3d-a61a0c803905",
   "metadata": {},
   "outputs": [],
   "source": [
    "top_oui = (\n",
    "    main\n",
    "    .query('user.isin(@oui.user)')\n",
    "    .groupby('title')\n",
    "    .agg({\n",
    "        'userid': lambda s: len(s.unique())\n",
    "    })\n",
    "    .sort_values('userid', ascending=False)\n",
    ")"
   ]
  },
  {
   "cell_type": "code",
   "execution_count": 10,
   "id": "e8c2601f-e1f6-4b5b-929d-d38755f56dd1",
   "metadata": {},
   "outputs": [
    {
     "data": {
      "text/html": [
       "<div>\n",
       "<style scoped>\n",
       "    .dataframe tbody tr th:only-of-type {\n",
       "        vertical-align: middle;\n",
       "    }\n",
       "\n",
       "    .dataframe tbody tr th {\n",
       "        vertical-align: top;\n",
       "    }\n",
       "\n",
       "    .dataframe thead th {\n",
       "        text-align: right;\n",
       "    }\n",
       "</style>\n",
       "<table border=\"1\" class=\"dataframe\">\n",
       "  <thead>\n",
       "    <tr style=\"text-align: right;\">\n",
       "      <th></th>\n",
       "      <th>userid</th>\n",
       "    </tr>\n",
       "    <tr>\n",
       "      <th>title</th>\n",
       "      <th></th>\n",
       "    </tr>\n",
       "  </thead>\n",
       "  <tbody>\n",
       "    <tr>\n",
       "      <th>France</th>\n",
       "      <td>42</td>\n",
       "    </tr>\n",
       "    <tr>\n",
       "      <th>Charles de Gaulle</th>\n",
       "      <td>39</td>\n",
       "    </tr>\n",
       "    <tr>\n",
       "      <th>Emmanuel Macron</th>\n",
       "      <td>39</td>\n",
       "    </tr>\n",
       "    <tr>\n",
       "      <th>Donald Trump</th>\n",
       "      <td>38</td>\n",
       "    </tr>\n",
       "    <tr>\n",
       "      <th>Éric Zemmour</th>\n",
       "      <td>37</td>\n",
       "    </tr>\n",
       "    <tr>\n",
       "      <th>Attentats du 11 septembre 2001</th>\n",
       "      <td>37</td>\n",
       "    </tr>\n",
       "    <tr>\n",
       "      <th>Jacques Chirac</th>\n",
       "      <td>36</td>\n",
       "    </tr>\n",
       "    <tr>\n",
       "      <th>François Mitterrand</th>\n",
       "      <td>36</td>\n",
       "    </tr>\n",
       "    <tr>\n",
       "      <th>Lyon</th>\n",
       "      <td>36</td>\n",
       "    </tr>\n",
       "    <tr>\n",
       "      <th>Rassemblement national</th>\n",
       "      <td>36</td>\n",
       "    </tr>\n",
       "  </tbody>\n",
       "</table>\n",
       "</div>"
      ],
      "text/plain": [
       "                                userid\n",
       "title                                 \n",
       "France                              42\n",
       "Charles de Gaulle                   39\n",
       "Emmanuel Macron                     39\n",
       "Donald Trump                        38\n",
       "Éric Zemmour                        37\n",
       "Attentats du 11 septembre 2001      37\n",
       "Jacques Chirac                      36\n",
       "François Mitterrand                 36\n",
       "Lyon                                36\n",
       "Rassemblement national              36"
      ]
     },
     "execution_count": 10,
     "metadata": {},
     "output_type": "execute_result"
    }
   ],
   "source": [
    "(\n",
    "    top_oui\n",
    "    .head(10)\n",
    ")"
   ]
  },
  {
   "cell_type": "markdown",
   "id": "ed42660c-7509-43bc-908e-8571b431f507",
   "metadata": {},
   "source": [
    "## seulement `vote = non`"
   ]
  },
  {
   "cell_type": "code",
   "execution_count": 9,
   "id": "d5a2da61-330b-4b39-b0dc-b7c302f1b49a",
   "metadata": {},
   "outputs": [],
   "source": [
    "top_non = (\n",
    "    main\n",
    "    .query('user.isin(@non.user)')\n",
    "    .groupby('title')\n",
    "    .agg({\n",
    "        'userid': lambda s: len(s.unique())\n",
    "    })\n",
    "    .sort_values('userid', ascending=False)\n",
    ")"
   ]
  },
  {
   "cell_type": "code",
   "execution_count": 11,
   "id": "0565f589-b77c-48ea-93d2-8440dd31c380",
   "metadata": {},
   "outputs": [
    {
     "data": {
      "text/html": [
       "<div>\n",
       "<style scoped>\n",
       "    .dataframe tbody tr th:only-of-type {\n",
       "        vertical-align: middle;\n",
       "    }\n",
       "\n",
       "    .dataframe tbody tr th {\n",
       "        vertical-align: top;\n",
       "    }\n",
       "\n",
       "    .dataframe thead th {\n",
       "        text-align: right;\n",
       "    }\n",
       "</style>\n",
       "<table border=\"1\" class=\"dataframe\">\n",
       "  <thead>\n",
       "    <tr style=\"text-align: right;\">\n",
       "      <th></th>\n",
       "      <th>userid</th>\n",
       "    </tr>\n",
       "    <tr>\n",
       "      <th>title</th>\n",
       "      <th></th>\n",
       "    </tr>\n",
       "  </thead>\n",
       "  <tbody>\n",
       "    <tr>\n",
       "      <th>Philippe Pétain</th>\n",
       "      <td>18</td>\n",
       "    </tr>\n",
       "    <tr>\n",
       "      <th>Éric Zemmour</th>\n",
       "      <td>18</td>\n",
       "    </tr>\n",
       "    <tr>\n",
       "      <th>Marseille</th>\n",
       "      <td>16</td>\n",
       "    </tr>\n",
       "    <tr>\n",
       "      <th>Jean-Luc Mélenchon</th>\n",
       "      <td>16</td>\n",
       "    </tr>\n",
       "    <tr>\n",
       "      <th>Adolf Hitler</th>\n",
       "      <td>16</td>\n",
       "    </tr>\n",
       "    <tr>\n",
       "      <th>Charles de Gaulle</th>\n",
       "      <td>16</td>\n",
       "    </tr>\n",
       "    <tr>\n",
       "      <th>Twitter</th>\n",
       "      <td>16</td>\n",
       "    </tr>\n",
       "    <tr>\n",
       "      <th>Nantes</th>\n",
       "      <td>16</td>\n",
       "    </tr>\n",
       "    <tr>\n",
       "      <th>Nicolas Sarkozy</th>\n",
       "      <td>16</td>\n",
       "    </tr>\n",
       "    <tr>\n",
       "      <th>Gérard Depardieu</th>\n",
       "      <td>15</td>\n",
       "    </tr>\n",
       "  </tbody>\n",
       "</table>\n",
       "</div>"
      ],
      "text/plain": [
       "                    userid\n",
       "title                     \n",
       "Philippe Pétain         18\n",
       "Éric Zemmour            18\n",
       "Marseille               16\n",
       "Jean-Luc Mélenchon      16\n",
       "Adolf Hitler            16\n",
       "Charles de Gaulle       16\n",
       "Twitter                 16\n",
       "Nantes                  16\n",
       "Nicolas Sarkozy         16\n",
       "Gérard Depardieu        15"
      ]
     },
     "execution_count": 11,
     "metadata": {},
     "output_type": "execute_result"
    }
   ],
   "source": [
    "(\n",
    "    top_non\n",
    "    .head(10)\n",
    ")"
   ]
  },
  {
   "cell_type": "code",
   "execution_count": null,
   "id": "37ec23a6-3e0e-4dec-926a-beb8705bf29e",
   "metadata": {},
   "outputs": [],
   "source": []
  }
 ],
 "metadata": {
  "kernelspec": {
   "display_name": "Python 3 (ipykernel)",
   "language": "python",
   "name": "python3"
  },
  "language_info": {
   "codemirror_mode": {
    "name": "ipython",
    "version": 3
   },
   "file_extension": ".py",
   "mimetype": "text/x-python",
   "name": "python",
   "nbconvert_exporter": "python",
   "pygments_lexer": "ipython3",
   "version": "3.10.12"
  }
 },
 "nbformat": 4,
 "nbformat_minor": 5
}
