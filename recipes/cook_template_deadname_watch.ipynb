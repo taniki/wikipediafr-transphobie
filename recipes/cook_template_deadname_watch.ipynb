{
 "cells": [
  {
   "cell_type": "code",
   "execution_count": 1,
   "id": "2ad56d7a-56a0-4f9e-a19d-906c01ac23f1",
   "metadata": {},
   "outputs": [],
   "source": [
    "import pandas as pd\n",
    "from bs4 import BeautifulSoup\n",
    "from tqdm import tqdm\n",
    "import base64\n",
    "\n",
    "tqdm.pandas()\n",
    "from wekeypedia import WikipediaPage as Page"
   ]
  },
  {
   "cell_type": "code",
   "execution_count": 2,
   "id": "23765632-31c5-4a46-a008-89df2f3fb17a",
   "metadata": {
    "tags": [
     "parameters"
    ]
   },
   "outputs": [],
   "source": [
    "name = 'Elke Mackenzie'\n",
    "dead_name = 'SXZhbg=='\n",
    "page_name = 'Ivan_Mackenzie_Lamb'\n",
    "co_date = None"
   ]
  },
  {
   "cell_type": "code",
   "execution_count": 3,
   "id": "743460e0-da77-4f86-bb1c-7e260dd25dd2",
   "metadata": {},
   "outputs": [],
   "source": [
    "def format_revid_index(revid, page):\n",
    "    return f'<a href=\"https://fr.wikipedia.org/w/index.php?title={page}&diff=prev&oldid={revid}\">{revid}</a>'"
   ]
  },
  {
   "cell_type": "markdown",
   "id": "5cc2bf74-9863-42ee-a757-703825106697",
   "metadata": {},
   "source": [
    "# qui sont personnes qui énoncent le deadname dans l'article ?"
   ]
  },
  {
   "cell_type": "markdown",
   "id": "ef5929df-44e4-4ab2-a25b-25c1db364961",
   "metadata": {},
   "source": [
    "## article"
   ]
  },
  {
   "cell_type": "code",
   "execution_count": 4,
   "id": "eed28b1e-97c4-4eab-9ead-6a8b55b85187",
   "metadata": {},
   "outputs": [],
   "source": [
    "page = Page(page_name, lang='fr')"
   ]
  },
  {
   "cell_type": "code",
   "execution_count": 5,
   "id": "e496177f-af35-4c14-84a2-40f86b9a0309",
   "metadata": {},
   "outputs": [
    {
     "data": {
      "text/html": [
       "<div>\n",
       "<style scoped>\n",
       "    .dataframe tbody tr th:only-of-type {\n",
       "        vertical-align: middle;\n",
       "    }\n",
       "\n",
       "    .dataframe tbody tr th {\n",
       "        vertical-align: top;\n",
       "    }\n",
       "\n",
       "    .dataframe thead th {\n",
       "        text-align: right;\n",
       "    }\n",
       "</style>\n",
       "<table border=\"1\" class=\"dataframe\">\n",
       "  <thead>\n",
       "    <tr style=\"text-align: right;\">\n",
       "      <th></th>\n",
       "      <th>parentid</th>\n",
       "      <th>user</th>\n",
       "      <th>userid</th>\n",
       "      <th>timestamp</th>\n",
       "      <th>size</th>\n",
       "      <th>sha1</th>\n",
       "      <th>contentformat</th>\n",
       "      <th>contentmodel</th>\n",
       "      <th>comment</th>\n",
       "      <th>*</th>\n",
       "      <th>anon</th>\n",
       "    </tr>\n",
       "    <tr>\n",
       "      <th>revid</th>\n",
       "      <th></th>\n",
       "      <th></th>\n",
       "      <th></th>\n",
       "      <th></th>\n",
       "      <th></th>\n",
       "      <th></th>\n",
       "      <th></th>\n",
       "      <th></th>\n",
       "      <th></th>\n",
       "      <th></th>\n",
       "      <th></th>\n",
       "    </tr>\n",
       "  </thead>\n",
       "  <tbody>\n",
       "    <tr>\n",
       "      <th>213844287</th>\n",
       "      <td>213844145</td>\n",
       "      <td>Cymbella</td>\n",
       "      <td>316223</td>\n",
       "      <td>2024-03-31T17:49:57Z</td>\n",
       "      <td>14621</td>\n",
       "      <td>3bfade8089890811e9b090bfaf7e3630ca08c5bb</td>\n",
       "      <td>text/x-wiki</td>\n",
       "      <td>wikitext</td>\n",
       "      <td>/* Collections et archives */ reformulation no...</td>\n",
       "      <td>{{voir homonymes|Mackenzie|Lamb}}\\n{{Infobox B...</td>\n",
       "      <td>NaN</td>\n",
       "    </tr>\n",
       "    <tr>\n",
       "      <th>213844145</th>\n",
       "      <td>213842295</td>\n",
       "      <td>Cymbella</td>\n",
       "      <td>316223</td>\n",
       "      <td>2024-03-31T17:44:37Z</td>\n",
       "      <td>14629</td>\n",
       "      <td>d6fe03e932e2c2a061fc69724e1fdf75b8cfa225</td>\n",
       "      <td>text/x-wiki</td>\n",
       "      <td>wikitext</td>\n",
       "      <td>/* Identité de genre et dernières années */ re...</td>\n",
       "      <td>{{voir homonymes|Mackenzie|Lamb}}\\n{{Infobox B...</td>\n",
       "      <td>NaN</td>\n",
       "    </tr>\n",
       "    <tr>\n",
       "      <th>213842295</th>\n",
       "      <td>213841635</td>\n",
       "      <td>Shev123</td>\n",
       "      <td>1144964</td>\n",
       "      <td>2024-03-31T16:42:01Z</td>\n",
       "      <td>14662</td>\n",
       "      <td>9440533d666f7053d36d17e78347bebbe187ab8e</td>\n",
       "      <td>text/x-wiki</td>\n",
       "      <td>wikitext</td>\n",
       "      <td>retrait du sous-titre, modèle inapproprié pour...</td>\n",
       "      <td>{{voir homonymes|Mackenzie|Lamb}}\\n{{Infobox B...</td>\n",
       "      <td>NaN</td>\n",
       "    </tr>\n",
       "    <tr>\n",
       "      <th>213841635</th>\n",
       "      <td>213841602</td>\n",
       "      <td>Cymbella</td>\n",
       "      <td>316223</td>\n",
       "      <td>2024-03-31T16:18:49Z</td>\n",
       "      <td>14692</td>\n",
       "      <td>69ce53815f2b67b9dda9e2a1f162387cd74d3c52</td>\n",
       "      <td>text/x-wiki</td>\n",
       "      <td>wikitext</td>\n",
       "      <td>+ sous-titre</td>\n",
       "      <td>{{sous-titre|Elke Mackenzie}}\\n{{voir homonyme...</td>\n",
       "      <td>NaN</td>\n",
       "    </tr>\n",
       "    <tr>\n",
       "      <th>213841602</th>\n",
       "      <td>213839792</td>\n",
       "      <td>Cymbella</td>\n",
       "      <td>316223</td>\n",
       "      <td>2024-03-31T16:17:44Z</td>\n",
       "      <td>14662</td>\n",
       "      <td>9440533d666f7053d36d17e78347bebbe187ab8e</td>\n",
       "      <td>text/x-wiki</td>\n",
       "      <td>wikitext</td>\n",
       "      <td>formulation évitant de genrer</td>\n",
       "      <td>{{voir homonymes|Mackenzie|Lamb}}\\n{{Infobox B...</td>\n",
       "      <td>NaN</td>\n",
       "    </tr>\n",
       "    <tr>\n",
       "      <th>...</th>\n",
       "      <td>...</td>\n",
       "      <td>...</td>\n",
       "      <td>...</td>\n",
       "      <td>...</td>\n",
       "      <td>...</td>\n",
       "      <td>...</td>\n",
       "      <td>...</td>\n",
       "      <td>...</td>\n",
       "      <td>...</td>\n",
       "      <td>...</td>\n",
       "      <td>...</td>\n",
       "    </tr>\n",
       "    <tr>\n",
       "      <th>179466871</th>\n",
       "      <td>179466834</td>\n",
       "      <td>Cymbella</td>\n",
       "      <td>316223</td>\n",
       "      <td>2021-02-01T16:32:35Z</td>\n",
       "      <td>10596</td>\n",
       "      <td>1a78da4baf1b9b45045c61155d775a13c38aed53</td>\n",
       "      <td>text/x-wiki</td>\n",
       "      <td>wikitext</td>\n",
       "      <td>/* Carrière */ précision</td>\n",
       "      <td>{{Infobox Biographie 2\\n|charte=botaniste}}\\n'...</td>\n",
       "      <td>NaN</td>\n",
       "    </tr>\n",
       "    <tr>\n",
       "      <th>179466834</th>\n",
       "      <td>179466796</td>\n",
       "      <td>Cymbella</td>\n",
       "      <td>316223</td>\n",
       "      <td>2021-02-01T16:31:32Z</td>\n",
       "      <td>10585</td>\n",
       "      <td>4b1581edbadffb364b691ba2ced0e02fb4f0ac3a</td>\n",
       "      <td>text/x-wiki</td>\n",
       "      <td>wikitext</td>\n",
       "      <td>/* Carrière */ relecture</td>\n",
       "      <td>{{Infobox Biographie 2\\n|charte=botaniste}}\\n'...</td>\n",
       "      <td>NaN</td>\n",
       "    </tr>\n",
       "    <tr>\n",
       "      <th>179466796</th>\n",
       "      <td>179466692</td>\n",
       "      <td>Cymbella</td>\n",
       "      <td>316223</td>\n",
       "      <td>2021-02-01T16:30:33Z</td>\n",
       "      <td>10584</td>\n",
       "      <td>a01435f3a8e93409e8daf0352cc3af588a5a155a</td>\n",
       "      <td>text/x-wiki</td>\n",
       "      <td>wikitext</td>\n",
       "      <td>/* Introduction */ + liens int</td>\n",
       "      <td>{{Infobox Biographie 2\\n|charte=botaniste}}\\n'...</td>\n",
       "      <td>NaN</td>\n",
       "    </tr>\n",
       "    <tr>\n",
       "      <th>179466692</th>\n",
       "      <td>179466433</td>\n",
       "      <td>Cymbella</td>\n",
       "      <td>316223</td>\n",
       "      <td>2021-02-01T16:27:58Z</td>\n",
       "      <td>10556</td>\n",
       "      <td>88cd8ca66d81528063334a7769a84b2af448c0b4</td>\n",
       "      <td>text/x-wiki</td>\n",
       "      <td>wikitext</td>\n",
       "      <td>retouche de la modification précédente</td>\n",
       "      <td>{{Infobox Biographie 2\\n|charte=botaniste}}\\n'...</td>\n",
       "      <td>NaN</td>\n",
       "    </tr>\n",
       "    <tr>\n",
       "      <th>179466433</th>\n",
       "      <td>0</td>\n",
       "      <td>Cymbella</td>\n",
       "      <td>316223</td>\n",
       "      <td>2021-02-01T16:22:07Z</td>\n",
       "      <td>10481</td>\n",
       "      <td>2c0ec5e2580e76e6a47a567c30a4ab18dc008d81</td>\n",
       "      <td>text/x-wiki</td>\n",
       "      <td>wikitext</td>\n",
       "      <td>Nouvelle page : '''Ivan Mackenzie Lamb''' ('''...</td>\n",
       "      <td>'''Ivan Mackenzie Lamb''' ('''Elke Mackenzie''...</td>\n",
       "      <td>NaN</td>\n",
       "    </tr>\n",
       "  </tbody>\n",
       "</table>\n",
       "<p>80 rows × 11 columns</p>\n",
       "</div>"
      ],
      "text/plain": [
       "            parentid      user   userid             timestamp   size  \\\n",
       "revid                                                                  \n",
       "213844287  213844145  Cymbella   316223  2024-03-31T17:49:57Z  14621   \n",
       "213844145  213842295  Cymbella   316223  2024-03-31T17:44:37Z  14629   \n",
       "213842295  213841635   Shev123  1144964  2024-03-31T16:42:01Z  14662   \n",
       "213841635  213841602  Cymbella   316223  2024-03-31T16:18:49Z  14692   \n",
       "213841602  213839792  Cymbella   316223  2024-03-31T16:17:44Z  14662   \n",
       "...              ...       ...      ...                   ...    ...   \n",
       "179466871  179466834  Cymbella   316223  2021-02-01T16:32:35Z  10596   \n",
       "179466834  179466796  Cymbella   316223  2021-02-01T16:31:32Z  10585   \n",
       "179466796  179466692  Cymbella   316223  2021-02-01T16:30:33Z  10584   \n",
       "179466692  179466433  Cymbella   316223  2021-02-01T16:27:58Z  10556   \n",
       "179466433          0  Cymbella   316223  2021-02-01T16:22:07Z  10481   \n",
       "\n",
       "                                               sha1 contentformat  \\\n",
       "revid                                                               \n",
       "213844287  3bfade8089890811e9b090bfaf7e3630ca08c5bb   text/x-wiki   \n",
       "213844145  d6fe03e932e2c2a061fc69724e1fdf75b8cfa225   text/x-wiki   \n",
       "213842295  9440533d666f7053d36d17e78347bebbe187ab8e   text/x-wiki   \n",
       "213841635  69ce53815f2b67b9dda9e2a1f162387cd74d3c52   text/x-wiki   \n",
       "213841602  9440533d666f7053d36d17e78347bebbe187ab8e   text/x-wiki   \n",
       "...                                             ...           ...   \n",
       "179466871  1a78da4baf1b9b45045c61155d775a13c38aed53   text/x-wiki   \n",
       "179466834  4b1581edbadffb364b691ba2ced0e02fb4f0ac3a   text/x-wiki   \n",
       "179466796  a01435f3a8e93409e8daf0352cc3af588a5a155a   text/x-wiki   \n",
       "179466692  88cd8ca66d81528063334a7769a84b2af448c0b4   text/x-wiki   \n",
       "179466433  2c0ec5e2580e76e6a47a567c30a4ab18dc008d81   text/x-wiki   \n",
       "\n",
       "          contentmodel                                            comment  \\\n",
       "revid                                                                       \n",
       "213844287     wikitext  /* Collections et archives */ reformulation no...   \n",
       "213844145     wikitext  /* Identité de genre et dernières années */ re...   \n",
       "213842295     wikitext  retrait du sous-titre, modèle inapproprié pour...   \n",
       "213841635     wikitext                                       + sous-titre   \n",
       "213841602     wikitext                      formulation évitant de genrer   \n",
       "...                ...                                                ...   \n",
       "179466871     wikitext                           /* Carrière */ précision   \n",
       "179466834     wikitext                           /* Carrière */ relecture   \n",
       "179466796     wikitext                     /* Introduction */ + liens int   \n",
       "179466692     wikitext             retouche de la modification précédente   \n",
       "179466433     wikitext  Nouvelle page : '''Ivan Mackenzie Lamb''' ('''...   \n",
       "\n",
       "                                                           * anon  \n",
       "revid                                                              \n",
       "213844287  {{voir homonymes|Mackenzie|Lamb}}\\n{{Infobox B...  NaN  \n",
       "213844145  {{voir homonymes|Mackenzie|Lamb}}\\n{{Infobox B...  NaN  \n",
       "213842295  {{voir homonymes|Mackenzie|Lamb}}\\n{{Infobox B...  NaN  \n",
       "213841635  {{sous-titre|Elke Mackenzie}}\\n{{voir homonyme...  NaN  \n",
       "213841602  {{voir homonymes|Mackenzie|Lamb}}\\n{{Infobox B...  NaN  \n",
       "...                                                      ...  ...  \n",
       "179466871  {{Infobox Biographie 2\\n|charte=botaniste}}\\n'...  NaN  \n",
       "179466834  {{Infobox Biographie 2\\n|charte=botaniste}}\\n'...  NaN  \n",
       "179466796  {{Infobox Biographie 2\\n|charte=botaniste}}\\n'...  NaN  \n",
       "179466692  {{Infobox Biographie 2\\n|charte=botaniste}}\\n'...  NaN  \n",
       "179466433  '''Ivan Mackenzie Lamb''' ('''Elke Mackenzie''...  NaN  \n",
       "\n",
       "[80 rows x 11 columns]"
      ]
     },
     "execution_count": 5,
     "metadata": {},
     "output_type": "execute_result"
    }
   ],
   "source": [
    "revisions = (\n",
    "    pd\n",
    "    .DataFrame\n",
    "    .from_records(page.get_revisions())\n",
    "    .set_index('revid')\n",
    ")\n",
    "\n",
    "revisions"
   ]
  },
  {
   "cell_type": "code",
   "execution_count": 6,
   "id": "c589c8bc-5e6a-4361-bb5c-99b125c56fd4",
   "metadata": {},
   "outputs": [],
   "source": [
    "revisions.to_csv(f'../data/page-revisions/{page_name.lower()}.csv')"
   ]
  },
  {
   "cell_type": "code",
   "execution_count": 7,
   "id": "32533855-d09c-42e1-9071-35f10655dcd8",
   "metadata": {},
   "outputs": [],
   "source": [
    "def decode(string):\n",
    "    return base64.b64decode(string).decode(\"utf-8\")"
   ]
  },
  {
   "cell_type": "code",
   "execution_count": 8,
   "id": "bea34dc6-f504-44a9-846f-39e8401c62f7",
   "metadata": {},
   "outputs": [
    {
     "data": {
      "text/plain": [
       "<Axes: xlabel='date'>"
      ]
     },
     "execution_count": 8,
     "metadata": {},
     "output_type": "execute_result"
    },
    {
     "data": {
      "image/png": "[encoded data removed]",
      "text/plain": [
       "<Figure size 1500x1000 with 1 Axes>"
      ]
     },
     "metadata": {},
     "output_type": "display_data"
    }
   ],
   "source": [
    "(\n",
    "    revisions\n",
    "    .assign(\n",
    "        deadnames = lambda df: df['*'].apply(lambda x: str(x).lower().count(decode(dead_name).lower()))\n",
    "    )\n",
    "    #.reset_index()\n",
    "    [['timestamp', 'deadnames']]\n",
    "    .assign(\n",
    "        date = lambda df: pd.to_datetime(df.timestamp).dt.date\n",
    "    )\n",
    "    .groupby('date')\n",
    "    .agg({'deadnames': 'mean'})\n",
    "    .plot\n",
    "    .line(\n",
    "        figsize=(15,10)\n",
    "    )\n",
    ")"
   ]
  },
  {
   "cell_type": "code",
   "execution_count": 9,
   "id": "ca8a4ed9-db8d-4e1b-9f65-dfddd22ed89f",
   "metadata": {},
   "outputs": [
    {
     "name": "stderr",
     "output_type": "stream",
     "text": [
      "100%|███████████████████████████████████████████| 80/80 [00:26<00:00,  3.01it/s]\n"
     ]
    }
   ],
   "source": [
    "def get_diff(revid):\n",
    "    return page.get_diff(revid)\n",
    "\n",
    "diffs = revisions.reset_index().revid.progress_apply(lambda x: page.extract_plusminus(get_diff(x))['added'] )\n",
    "\n",
    "#diffs"
   ]
  },
  {
   "cell_type": "markdown",
   "id": "49e1e9d0-0960-4573-a7d3-a7a218c3c34f",
   "metadata": {},
   "source": [
    "### depuis le coming out"
   ]
  },
  {
   "cell_type": "code",
   "execution_count": 10,
   "id": "308c3a1c-e446-42b8-b087-915ff9fdf05f",
   "metadata": {},
   "outputs": [
    {
     "data": {
      "text/plain": [
       "user\n",
       "Cymbella                              14\n",
       "Biologisteantique                      2\n",
       "2A02:8440:5304:1188:0:1B:C326:2F01     1\n",
       "Anne Daemon                            1\n",
       "Cardabela48                            0\n",
       "Criric                                 0\n",
       "FR                                     0\n",
       "La Grande Feutrelle                    0\n",
       "Matpib                                 0\n",
       "Pierrette13                            0\n",
       "Name: deadname_count, dtype: int64"
      ]
     },
     "execution_count": 10,
     "metadata": {},
     "output_type": "execute_result"
    }
   ],
   "source": [
    "(\n",
    "    revisions\n",
    "    .assign(\n",
    "        deadname_count = [ ' '.join(added).lower().count(decode(dead_name).lower()) for added in diffs ]\n",
    "    )\n",
    "    # on ne garde que les contributions après son coming out\n",
    "    .pipe(lambda df: df.query(f'timestamp >= \"{co_date}\"') if co_date != None else df)\n",
    "    .groupby('user')\n",
    "    .deadname_count\n",
    "    .sum()\n",
    "    .sort_values(ascending=False)\n",
    "    .head(10)\n",
    ")"
   ]
  },
  {
   "cell_type": "markdown",
   "id": "cdbf2cbe-7d9c-458a-8bb5-7554dbb954b5",
   "metadata": {},
   "source": [
    "### depuis le début du sondage"
   ]
  },
  {
   "cell_type": "code",
   "execution_count": 11,
   "id": "e75e4ded-3e9d-45a6-bdd7-0af3b6f8b8ee",
   "metadata": {},
   "outputs": [
    {
     "data": {
      "text/plain": [
       "user\n",
       "Cymbella       4\n",
       "Anne Daemon    1\n",
       "Shev123        0\n",
       "Name: deadname_count, dtype: int64"
      ]
     },
     "execution_count": 11,
     "metadata": {},
     "output_type": "execute_result"
    }
   ],
   "source": [
    "(\n",
    "    revisions\n",
    "    .assign(\n",
    "        deadname_count = [ ' '.join(added).lower().count(decode(dead_name).lower()) for added in diffs ]\n",
    "    )\n",
    "    # début du sondage\n",
    "    .query('timestamp >= \"2024-02-12\"')\n",
    "    .groupby('user')\n",
    "    .deadname_count\n",
    "    .sum()\n",
    "    .sort_values(ascending=False)\n",
    "    .head(20)\n",
    ")"
   ]
  },
  {
   "cell_type": "code",
   "execution_count": 12,
   "id": "7e9a0650-90e2-4d49-9fec-7d015b4a75dc",
   "metadata": {},
   "outputs": [
    {
     "data": {
      "text/html": [
       "<style type=\"text/css\">\n",
       "</style>\n",
       "<table id=\"T_4301d\">\n",
       "  <thead>\n",
       "    <tr>\n",
       "      <th class=\"blank level0\" >&nbsp;</th>\n",
       "      <th id=\"T_4301d_level0_col0\" class=\"col_heading level0 col0\" >user</th>\n",
       "      <th id=\"T_4301d_level0_col1\" class=\"col_heading level0 col1\" >deadname_count</th>\n",
       "      <th id=\"T_4301d_level0_col2\" class=\"col_heading level0 col2\" >timestamp</th>\n",
       "    </tr>\n",
       "    <tr>\n",
       "      <th class=\"index_name level0\" >revid</th>\n",
       "      <th class=\"blank col0\" >&nbsp;</th>\n",
       "      <th class=\"blank col1\" >&nbsp;</th>\n",
       "      <th class=\"blank col2\" >&nbsp;</th>\n",
       "    </tr>\n",
       "  </thead>\n",
       "  <tbody>\n",
       "    <tr>\n",
       "      <th id=\"T_4301d_level0_row0\" class=\"row_heading level0 row0\" ><a href=\"https://fr.wikipedia.org/w/index.php?title=Ivan_Mackenzie_Lamb&diff=prev&oldid=213704822\">213704822</a></th>\n",
       "      <td id=\"T_4301d_row0_col0\" class=\"data row0 col0\" >Cymbella</td>\n",
       "      <td id=\"T_4301d_row0_col1\" class=\"data row0 col1\" >2</td>\n",
       "      <td id=\"T_4301d_row0_col2\" class=\"data row0 col2\" >2024-03-26T20:16:14Z</td>\n",
       "    </tr>\n",
       "    <tr>\n",
       "      <th id=\"T_4301d_level0_row1\" class=\"row_heading level0 row1\" ><a href=\"https://fr.wikipedia.org/w/index.php?title=Ivan_Mackenzie_Lamb&diff=prev&oldid=213513219\">213513219</a></th>\n",
       "      <td id=\"T_4301d_row1_col0\" class=\"data row1 col0\" >Anne Daemon</td>\n",
       "      <td id=\"T_4301d_row1_col1\" class=\"data row1 col1\" >1</td>\n",
       "      <td id=\"T_4301d_row1_col2\" class=\"data row1 col2\" >2024-03-20T14:40:41Z</td>\n",
       "    </tr>\n",
       "    <tr>\n",
       "      <th id=\"T_4301d_level0_row2\" class=\"row_heading level0 row2\" ><a href=\"https://fr.wikipedia.org/w/index.php?title=Ivan_Mackenzie_Lamb&diff=prev&oldid=213112486\">213112486</a></th>\n",
       "      <td id=\"T_4301d_row2_col0\" class=\"data row2 col0\" >Cymbella</td>\n",
       "      <td id=\"T_4301d_row2_col1\" class=\"data row2 col1\" >2</td>\n",
       "      <td id=\"T_4301d_row2_col2\" class=\"data row2 col2\" >2024-03-06T14:52:30Z</td>\n",
       "    </tr>\n",
       "  </tbody>\n",
       "</table>\n"
      ],
      "text/plain": [
       "<pandas.io.formats.style.Styler at 0x7ca57bc76bc0>"
      ]
     },
     "execution_count": 12,
     "metadata": {},
     "output_type": "execute_result"
    }
   ],
   "source": [
    "(\n",
    "    revisions\n",
    "    .assign(\n",
    "        deadname_count = [ ' '.join(added).lower().count(decode(dead_name).lower()) for added in diffs ]\n",
    "    )\n",
    "    # début du sondage\n",
    "    .query('timestamp >= \"2024-01-15\"')\n",
    "    .query('deadname_count > 0')\n",
    "    [['user', 'deadname_count', 'timestamp']]\n",
    "    .style\n",
    "    .format_index(lambda x: format_revid_index(x, page_name))\n",
    ")"
   ]
  },
  {
   "cell_type": "markdown",
   "id": "b4ae0d43-e0f3-403f-8d77-06778155c12d",
   "metadata": {},
   "source": [
    "## Discussions"
   ]
  },
  {
   "cell_type": "code",
   "execution_count": 13,
   "id": "65c5a95c-6148-4099-bcec-47e23701d260",
   "metadata": {},
   "outputs": [],
   "source": [
    "talk = Page(f'Discussion:{page_name}', lang='fr')"
   ]
  },
  {
   "cell_type": "code",
   "execution_count": 14,
   "id": "f1aaec90-5c20-4488-a9aa-11da50fd1cf6",
   "metadata": {},
   "outputs": [
    {
     "name": "stderr",
     "output_type": "stream",
     "text": [
      "100%|███████████████████████████████████████████| 94/94 [00:29<00:00,  3.17it/s]\n"
     ]
    }
   ],
   "source": [
    "talk_revisions = (\n",
    "    pd\n",
    "    .DataFrame\n",
    "    .from_records(talk.get_revisions_list())\n",
    "    .assign(\n",
    "        diff = lambda df: df.revid.progress_apply(lambda x: talk.get_diff(x)),\n",
    "        deleted = lambda df: df['diff'].apply(lambda diff: talk.extract_plusminus(diff)['deleted']),\n",
    "        added = lambda df: df['diff'].apply(lambda diff: talk.extract_plusminus(diff)['added']),\n",
    "    )\n",
    "    .set_index('revid')\n",
    ")\n",
    "\n",
    "#talk_revisions"
   ]
  },
  {
   "cell_type": "code",
   "execution_count": 15,
   "id": "25ec8a7b-a133-458e-bad3-331c8f41b851",
   "metadata": {},
   "outputs": [],
   "source": [
    "talk_revisions.to_csv(f'../data/page-diffs/discussion:{page_name.lower()}.csv')"
   ]
  },
  {
   "cell_type": "markdown",
   "id": "4d1737c2-1d19-48bb-925f-f3a73fc7c585",
   "metadata": {},
   "source": [
    "### depuis le coming out"
   ]
  },
  {
   "cell_type": "code",
   "execution_count": 16,
   "id": "0e863939-69ce-43d1-a48c-ed831817f6c6",
   "metadata": {},
   "outputs": [
    {
     "data": {
      "text/plain": [
       "user\n",
       "Cymbella                                16\n",
       "Sherwood6                                7\n",
       "Enthalpist                               6\n",
       "2A01:CB18:3A1:600:7D38:3E1:EB42:DB05     1\n",
       "Le GreeKiwi                              1\n",
       "Kvardek du                               0\n",
       "Shev123                                  0\n",
       "Léna                                     0\n",
       "Lambig44                                 0\n",
       "La Grande Feutrelle                      0\n",
       "Name: deadname_count, dtype: int64"
      ]
     },
     "execution_count": 16,
     "metadata": {},
     "output_type": "execute_result"
    }
   ],
   "source": [
    "(\n",
    "    talk_revisions\n",
    "    .assign(\n",
    "        deadname_count = lambda df: df.added.apply(lambda x: ' '.join(x).lower().count(decode(dead_name).lower()))\n",
    "    )\n",
    "    # on ne garde que les contributions après son coming out\n",
    "    #.query('timestamp >= \"2013-08-22\"')\n",
    "    .groupby('user')\n",
    "    .deadname_count\n",
    "    .sum()\n",
    "    .sort_values(ascending=False)\n",
    "    .head(10)\n",
    ")"
   ]
  },
  {
   "cell_type": "markdown",
   "id": "f527cdea-8c65-45e8-8274-48ee9e2246b8",
   "metadata": {},
   "source": [
    "### depuis le début du sondage"
   ]
  },
  {
   "cell_type": "code",
   "execution_count": 17,
   "id": "9e1a66e6-8622-4a4c-a031-95f1ee3e81b1",
   "metadata": {},
   "outputs": [
    {
     "data": {
      "text/plain": [
       "user\n",
       "Cymbella                                  9\n",
       "Enthalpist                                6\n",
       "Sherwood6                                 6\n",
       "2A01:CB18:3A1:600:7D38:3E1:EB42:DB05      1\n",
       "Le GreeKiwi                               1\n",
       "2A02:8440:A10A:6893:8C9A:7FF:FEBB:6102    0\n",
       "2A04:8EC0:0:216:CE0B:3DD0:28C:416F        0\n",
       "Anne Daemon                               0\n",
       "Jeune Lutin                               0\n",
       "Jugio                                     0\n",
       "Name: deadname_count, dtype: int64"
      ]
     },
     "execution_count": 17,
     "metadata": {},
     "output_type": "execute_result"
    }
   ],
   "source": [
    "(\n",
    "    talk_revisions\n",
    "    .assign(\n",
    "        deadname_count = lambda df: df.added.apply(lambda x: ' '.join(x).lower().count(decode(dead_name).lower()))\n",
    "    )\n",
    "    # depuis le sondage\n",
    "    .query('timestamp >= \"2024-02-12\"')\n",
    "    .groupby('user')\n",
    "    .deadname_count\n",
    "    .sum()\n",
    "    .sort_values(ascending=False)\n",
    "    .head(10)\n",
    ")"
   ]
  },
  {
   "cell_type": "code",
   "execution_count": 18,
   "id": "63fb08f4-6403-42c9-87ea-7851eb4853b9",
   "metadata": {},
   "outputs": [
    {
     "data": {
      "text/html": [
       "<style type=\"text/css\">\n",
       "</style>\n",
       "<table id=\"T_4c5a6\">\n",
       "  <thead>\n",
       "    <tr>\n",
       "      <th class=\"blank level0\" >&nbsp;</th>\n",
       "      <th id=\"T_4c5a6_level0_col0\" class=\"col_heading level0 col0\" >user</th>\n",
       "      <th id=\"T_4c5a6_level0_col1\" class=\"col_heading level0 col1\" >deadname_count</th>\n",
       "      <th id=\"T_4c5a6_level0_col2\" class=\"col_heading level0 col2\" >timestamp</th>\n",
       "    </tr>\n",
       "    <tr>\n",
       "      <th class=\"index_name level0\" >revid</th>\n",
       "      <th class=\"blank col0\" >&nbsp;</th>\n",
       "      <th class=\"blank col1\" >&nbsp;</th>\n",
       "      <th class=\"blank col2\" >&nbsp;</th>\n",
       "    </tr>\n",
       "  </thead>\n",
       "  <tbody>\n",
       "    <tr>\n",
       "      <th id=\"T_4c5a6_level0_row0\" class=\"row_heading level0 row0\" ><a href=\"https://fr.wikipedia.org/w/index.php?title=Discussion:Ivan_Mackenzie_Lamb&diff=prev&oldid=213843134\">213843134</a></th>\n",
       "      <td id=\"T_4c5a6_row0_col0\" class=\"data row0 col0\" >Cymbella</td>\n",
       "      <td id=\"T_4c5a6_row0_col1\" class=\"data row0 col1\" >1</td>\n",
       "      <td id=\"T_4c5a6_row0_col2\" class=\"data row0 col2\" >2024-03-31T17:10:53Z</td>\n",
       "    </tr>\n",
       "    <tr>\n",
       "      <th id=\"T_4c5a6_level0_row1\" class=\"row_heading level0 row1\" ><a href=\"https://fr.wikipedia.org/w/index.php?title=Discussion:Ivan_Mackenzie_Lamb&diff=prev&oldid=213751051\">213751051</a></th>\n",
       "      <td id=\"T_4c5a6_row1_col0\" class=\"data row1 col0\" >2A01:CB18:3A1:600:7D38:3E1:EB42:DB05</td>\n",
       "      <td id=\"T_4c5a6_row1_col1\" class=\"data row1 col1\" >1</td>\n",
       "      <td id=\"T_4c5a6_row1_col2\" class=\"data row1 col2\" >2024-03-28T11:41:08Z</td>\n",
       "    </tr>\n",
       "    <tr>\n",
       "      <th id=\"T_4c5a6_level0_row2\" class=\"row_heading level0 row2\" ><a href=\"https://fr.wikipedia.org/w/index.php?title=Discussion:Ivan_Mackenzie_Lamb&diff=prev&oldid=213747283\">213747283</a></th>\n",
       "      <td id=\"T_4c5a6_row2_col0\" class=\"data row2 col0\" >Enthalpist</td>\n",
       "      <td id=\"T_4c5a6_row2_col1\" class=\"data row2 col1\" >2</td>\n",
       "      <td id=\"T_4c5a6_row2_col2\" class=\"data row2 col2\" >2024-03-28T09:02:54Z</td>\n",
       "    </tr>\n",
       "    <tr>\n",
       "      <th id=\"T_4c5a6_level0_row3\" class=\"row_heading level0 row3\" ><a href=\"https://fr.wikipedia.org/w/index.php?title=Discussion:Ivan_Mackenzie_Lamb&diff=prev&oldid=213733772\">213733772</a></th>\n",
       "      <td id=\"T_4c5a6_row3_col0\" class=\"data row3 col0\" >Enthalpist</td>\n",
       "      <td id=\"T_4c5a6_row3_col1\" class=\"data row3 col1\" >3</td>\n",
       "      <td id=\"T_4c5a6_row3_col2\" class=\"data row3 col2\" >2024-03-27T18:43:44Z</td>\n",
       "    </tr>\n",
       "    <tr>\n",
       "      <th id=\"T_4c5a6_level0_row4\" class=\"row_heading level0 row4\" ><a href=\"https://fr.wikipedia.org/w/index.php?title=Discussion:Ivan_Mackenzie_Lamb&diff=prev&oldid=213732723\">213732723</a></th>\n",
       "      <td id=\"T_4c5a6_row4_col0\" class=\"data row4 col0\" >Sherwood6</td>\n",
       "      <td id=\"T_4c5a6_row4_col1\" class=\"data row4 col1\" >1</td>\n",
       "      <td id=\"T_4c5a6_row4_col2\" class=\"data row4 col2\" >2024-03-27T17:58:19Z</td>\n",
       "    </tr>\n",
       "    <tr>\n",
       "      <th id=\"T_4c5a6_level0_row5\" class=\"row_heading level0 row5\" ><a href=\"https://fr.wikipedia.org/w/index.php?title=Discussion:Ivan_Mackenzie_Lamb&diff=prev&oldid=213731305\">213731305</a></th>\n",
       "      <td id=\"T_4c5a6_row5_col0\" class=\"data row5 col0\" >Enthalpist</td>\n",
       "      <td id=\"T_4c5a6_row5_col1\" class=\"data row5 col1\" >1</td>\n",
       "      <td id=\"T_4c5a6_row5_col2\" class=\"data row5 col2\" >2024-03-27T17:11:37Z</td>\n",
       "    </tr>\n",
       "    <tr>\n",
       "      <th id=\"T_4c5a6_level0_row6\" class=\"row_heading level0 row6\" ><a href=\"https://fr.wikipedia.org/w/index.php?title=Discussion:Ivan_Mackenzie_Lamb&diff=prev&oldid=213729217\">213729217</a></th>\n",
       "      <td id=\"T_4c5a6_row6_col0\" class=\"data row6 col0\" >Cymbella</td>\n",
       "      <td id=\"T_4c5a6_row6_col1\" class=\"data row6 col1\" >1</td>\n",
       "      <td id=\"T_4c5a6_row6_col2\" class=\"data row6 col2\" >2024-03-27T16:01:44Z</td>\n",
       "    </tr>\n",
       "    <tr>\n",
       "      <th id=\"T_4c5a6_level0_row7\" class=\"row_heading level0 row7\" ><a href=\"https://fr.wikipedia.org/w/index.php?title=Discussion:Ivan_Mackenzie_Lamb&diff=prev&oldid=213723362\">213723362</a></th>\n",
       "      <td id=\"T_4c5a6_row7_col0\" class=\"data row7 col0\" >Sherwood6</td>\n",
       "      <td id=\"T_4c5a6_row7_col1\" class=\"data row7 col1\" >1</td>\n",
       "      <td id=\"T_4c5a6_row7_col2\" class=\"data row7 col2\" >2024-03-27T12:43:39Z</td>\n",
       "    </tr>\n",
       "    <tr>\n",
       "      <th id=\"T_4c5a6_level0_row8\" class=\"row_heading level0 row8\" ><a href=\"https://fr.wikipedia.org/w/index.php?title=Discussion:Ivan_Mackenzie_Lamb&diff=prev&oldid=213538736\">213538736</a></th>\n",
       "      <td id=\"T_4c5a6_row8_col0\" class=\"data row8 col0\" >Cymbella</td>\n",
       "      <td id=\"T_4c5a6_row8_col1\" class=\"data row8 col1\" >1</td>\n",
       "      <td id=\"T_4c5a6_row8_col2\" class=\"data row8 col2\" >2024-03-21T13:50:11Z</td>\n",
       "    </tr>\n",
       "    <tr>\n",
       "      <th id=\"T_4c5a6_level0_row9\" class=\"row_heading level0 row9\" ><a href=\"https://fr.wikipedia.org/w/index.php?title=Discussion:Ivan_Mackenzie_Lamb&diff=prev&oldid=213537083\">213537083</a></th>\n",
       "      <td id=\"T_4c5a6_row9_col0\" class=\"data row9 col0\" >Sherwood6</td>\n",
       "      <td id=\"T_4c5a6_row9_col1\" class=\"data row9 col1\" >1</td>\n",
       "      <td id=\"T_4c5a6_row9_col2\" class=\"data row9 col2\" >2024-03-21T12:43:03Z</td>\n",
       "    </tr>\n",
       "    <tr>\n",
       "      <th id=\"T_4c5a6_level0_row10\" class=\"row_heading level0 row10\" ><a href=\"https://fr.wikipedia.org/w/index.php?title=Discussion:Ivan_Mackenzie_Lamb&diff=prev&oldid=213536879\">213536879</a></th>\n",
       "      <td id=\"T_4c5a6_row10_col0\" class=\"data row10 col0\" >Sherwood6</td>\n",
       "      <td id=\"T_4c5a6_row10_col1\" class=\"data row10 col1\" >1</td>\n",
       "      <td id=\"T_4c5a6_row10_col2\" class=\"data row10 col2\" >2024-03-21T12:35:16Z</td>\n",
       "    </tr>\n",
       "    <tr>\n",
       "      <th id=\"T_4c5a6_level0_row11\" class=\"row_heading level0 row11\" ><a href=\"https://fr.wikipedia.org/w/index.php?title=Discussion:Ivan_Mackenzie_Lamb&diff=prev&oldid=213535423\">213535423</a></th>\n",
       "      <td id=\"T_4c5a6_row11_col0\" class=\"data row11 col0\" >Cymbella</td>\n",
       "      <td id=\"T_4c5a6_row11_col1\" class=\"data row11 col1\" >2</td>\n",
       "      <td id=\"T_4c5a6_row11_col2\" class=\"data row11 col2\" >2024-03-21T11:22:29Z</td>\n",
       "    </tr>\n",
       "    <tr>\n",
       "      <th id=\"T_4c5a6_level0_row12\" class=\"row_heading level0 row12\" ><a href=\"https://fr.wikipedia.org/w/index.php?title=Discussion:Ivan_Mackenzie_Lamb&diff=prev&oldid=213534411\">213534411</a></th>\n",
       "      <td id=\"T_4c5a6_row12_col0\" class=\"data row12 col0\" >Le GreeKiwi</td>\n",
       "      <td id=\"T_4c5a6_row12_col1\" class=\"data row12 col1\" >1</td>\n",
       "      <td id=\"T_4c5a6_row12_col2\" class=\"data row12 col2\" >2024-03-21T10:41:31Z</td>\n",
       "    </tr>\n",
       "    <tr>\n",
       "      <th id=\"T_4c5a6_level0_row13\" class=\"row_heading level0 row13\" ><a href=\"https://fr.wikipedia.org/w/index.php?title=Discussion:Ivan_Mackenzie_Lamb&diff=prev&oldid=213534030\">213534030</a></th>\n",
       "      <td id=\"T_4c5a6_row13_col0\" class=\"data row13 col0\" >Cymbella</td>\n",
       "      <td id=\"T_4c5a6_row13_col1\" class=\"data row13 col1\" >1</td>\n",
       "      <td id=\"T_4c5a6_row13_col2\" class=\"data row13 col2\" >2024-03-21T10:26:34Z</td>\n",
       "    </tr>\n",
       "    <tr>\n",
       "      <th id=\"T_4c5a6_level0_row14\" class=\"row_heading level0 row14\" ><a href=\"https://fr.wikipedia.org/w/index.php?title=Discussion:Ivan_Mackenzie_Lamb&diff=prev&oldid=213521178\">213521178</a></th>\n",
       "      <td id=\"T_4c5a6_row14_col0\" class=\"data row14 col0\" >Sherwood6</td>\n",
       "      <td id=\"T_4c5a6_row14_col1\" class=\"data row14 col1\" >1</td>\n",
       "      <td id=\"T_4c5a6_row14_col2\" class=\"data row14 col2\" >2024-03-20T19:43:38Z</td>\n",
       "    </tr>\n",
       "    <tr>\n",
       "      <th id=\"T_4c5a6_level0_row15\" class=\"row_heading level0 row15\" ><a href=\"https://fr.wikipedia.org/w/index.php?title=Discussion:Ivan_Mackenzie_Lamb&diff=prev&oldid=213519286\">213519286</a></th>\n",
       "      <td id=\"T_4c5a6_row15_col0\" class=\"data row15 col0\" >Sherwood6</td>\n",
       "      <td id=\"T_4c5a6_row15_col1\" class=\"data row15 col1\" >1</td>\n",
       "      <td id=\"T_4c5a6_row15_col2\" class=\"data row15 col2\" >2024-03-20T18:05:21Z</td>\n",
       "    </tr>\n",
       "    <tr>\n",
       "      <th id=\"T_4c5a6_level0_row16\" class=\"row_heading level0 row16\" ><a href=\"https://fr.wikipedia.org/w/index.php?title=Discussion:Ivan_Mackenzie_Lamb&diff=prev&oldid=213511085\">213511085</a></th>\n",
       "      <td id=\"T_4c5a6_row16_col0\" class=\"data row16 col0\" >Cymbella</td>\n",
       "      <td id=\"T_4c5a6_row16_col1\" class=\"data row16 col1\" >1</td>\n",
       "      <td id=\"T_4c5a6_row16_col2\" class=\"data row16 col2\" >2024-03-20T13:20:01Z</td>\n",
       "    </tr>\n",
       "    <tr>\n",
       "      <th id=\"T_4c5a6_level0_row17\" class=\"row_heading level0 row17\" ><a href=\"https://fr.wikipedia.org/w/index.php?title=Discussion:Ivan_Mackenzie_Lamb&diff=prev&oldid=213479789\">213479789</a></th>\n",
       "      <td id=\"T_4c5a6_row17_col0\" class=\"data row17 col0\" >Cymbella</td>\n",
       "      <td id=\"T_4c5a6_row17_col1\" class=\"data row17 col1\" >2</td>\n",
       "      <td id=\"T_4c5a6_row17_col2\" class=\"data row17 col2\" >2024-03-19T10:54:34Z</td>\n",
       "    </tr>\n",
       "  </tbody>\n",
       "</table>\n"
      ],
      "text/plain": [
       "<pandas.io.formats.style.Styler at 0x7ca57b935570>"
      ]
     },
     "execution_count": 18,
     "metadata": {},
     "output_type": "execute_result"
    }
   ],
   "source": [
    "(\n",
    "    talk_revisions\n",
    "    .assign(\n",
    "        deadname_count = lambda df: df.added.apply(lambda x: ' '.join(x).lower().count(decode(dead_name).lower()))\n",
    "    )\n",
    "    # depuis le sondage\n",
    "    .query('timestamp >= \"2024-02-12\"')\n",
    "    .query('deadname_count > 0')\n",
    "    [['user', 'deadname_count', 'timestamp']]\n",
    "    .style\n",
    "    .format_index(lambda x : format_revid_index(x, f'Discussion:{page_name}'))\n",
    ")"
   ]
  },
  {
   "cell_type": "code",
   "execution_count": 19,
   "id": "27f65dc8-0dab-464f-931b-4498c241e3f5",
   "metadata": {},
   "outputs": [
    {
     "data": {
      "text/plain": [
       "18"
      ]
     },
     "execution_count": 19,
     "metadata": {},
     "output_type": "execute_result"
    }
   ],
   "source": [
    "len(\n",
    "    talk_revisions\n",
    "    .assign(\n",
    "        deadname_count = lambda df: df.added.apply(lambda x: ' '.join(x).lower().count(decode(dead_name).lower()))\n",
    "    )\n",
    "    # depuis le sondage\n",
    "    .query('timestamp >= \"2024-02-12\"')\n",
    "    .query('deadname_count > 0')\n",
    "    [['user', 'deadname_count']]\n",
    ")"
   ]
  },
  {
   "cell_type": "code",
   "execution_count": null,
   "id": "f53cbc6c-c121-4c41-895b-60d2eafe8fbe",
   "metadata": {},
   "outputs": [],
   "source": []
  }
 ],
 "metadata": {
  "kernelspec": {
   "display_name": "Python 3 (ipykernel)",
   "language": "python",
   "name": "python3"
  },
  "language_info": {
   "codemirror_mode": {
    "name": "ipython",
    "version": 3
   },
   "file_extension": ".py",
   "mimetype": "text/x-python",
   "name": "python",
   "nbconvert_exporter": "python",
   "pygments_lexer": "ipython3",
   "version": "3.10.12"
  }
 },
 "nbformat": 4,
 "nbformat_minor": 5
}
