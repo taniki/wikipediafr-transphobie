{
 "cells": [
  {
   "cell_type": "code",
   "execution_count": 1,
   "id": "55f242a6-c703-4334-9867-be24d24aabe1",
   "metadata": {},
   "outputs": [],
   "source": [
    "import papermill as pm\n",
    "import base64"
   ]
  },
  {
   "cell_type": "code",
   "execution_count": 5,
   "id": "63821b36-8c94-4676-8591-44f795f965de",
   "metadata": {},
   "outputs": [
    {
     "data": {
      "text/plain": [
       "[['Chelsea Manning', 'QnJhZGxleQ==', 'Chelsea_Manning', '2012-08-22'],\n",
       " ['Elke Mackenzie', 'SXZhbg==', 'Ivan_Mackenzie_Lamb', None],\n",
       " ['Jennell Jaquays', 'UGF1bCBKYXF1YXlz', 'Jennell_Jaquays', '2021-03-04'],\n",
       " ['Wendy Carlos', 'V2FsdGVy', 'Wendy_Carlos', None],\n",
       " ['Andréa Furet', 'QWxleGFuZHJl', 'Andréa_Furet', '2019-06-01']]"
      ]
     },
     "execution_count": 5,
     "metadata": {},
     "output_type": "execute_result"
    }
   ],
   "source": [
    "watch = [\n",
    "    # [\n",
    "    #     'Elliot Page',\n",
    "    #     'RWxsZW4gUGFnZQ==',\n",
    "    #     'Elliot_Page',\n",
    "    #     '2020-12-01'\n",
    "    # ],\n",
    "    [\n",
    "        'Chelsea Manning',\n",
    "        'QnJhZGxleQ==',\n",
    "        'Chelsea_Manning',\n",
    "        '2012-08-22'\n",
    "    ],\n",
    "    [\n",
    "        'Elke Mackenzie',\n",
    "        'SXZhbg==',\n",
    "        'Ivan_Mackenzie_Lamb',\n",
    "        None\n",
    "    ],\n",
    "    [\n",
    "        'Jennell Jaquays',\n",
    "        'UGF1bCBKYXF1YXlz',\n",
    "        'Jennell_Jaquays',\n",
    "        '2021-03-04'\n",
    "    ],\n",
    "    [\n",
    "        'Wendy Carlos',\n",
    "        'V2FsdGVy',\n",
    "        'Wendy_Carlos',\n",
    "        None\n",
    "    ],\n",
    "    [\n",
    "        'Andréa Furet',\n",
    "        'QWxleGFuZHJl',\n",
    "        'Andréa_Furet',\n",
    "        '2019-06-01'\n",
    "    ],\n",
    "]\n",
    "\n",
    "watch"
   ]
  },
  {
   "cell_type": "code",
   "execution_count": 6,
   "id": "98fb6831-b906-4850-80fe-d31449d3cfb2",
   "metadata": {},
   "outputs": [
    {
     "name": "stderr",
     "output_type": "stream",
     "text": [
      "Black is not installed, parameters wont be formatted\n"
     ]
    },
    {
     "data": {
      "application/vnd.jupyter.widget-view+json": {
       "model_id": "78743ceb3365423180972da03adda64f",
       "version_major": 2,
       "version_minor": 0
      },
      "text/plain": [
       "Executing:   0%|          | 0/28 [00:00<?, ?cell/s]"
      ]
     },
     "metadata": {},
     "output_type": "display_data"
    },
    {
     "name": "stderr",
     "output_type": "stream",
     "text": [
      "Black is not installed, parameters wont be formatted\n"
     ]
    },
    {
     "data": {
      "application/vnd.jupyter.widget-view+json": {
       "model_id": "cc90071feb0f46bba4f125a6ffc140a6",
       "version_major": 2,
       "version_minor": 0
      },
      "text/plain": [
       "Executing:   0%|          | 0/28 [00:00<?, ?cell/s]"
      ]
     },
     "metadata": {},
     "output_type": "display_data"
    },
    {
     "name": "stderr",
     "output_type": "stream",
     "text": [
      "Black is not installed, parameters wont be formatted\n"
     ]
    },
    {
     "data": {
      "application/vnd.jupyter.widget-view+json": {
       "model_id": "5e82973850904836ba76b87661973366",
       "version_major": 2,
       "version_minor": 0
      },
      "text/plain": [
       "Executing:   0%|          | 0/28 [00:00<?, ?cell/s]"
      ]
     },
     "metadata": {},
     "output_type": "display_data"
    },
    {
     "name": "stderr",
     "output_type": "stream",
     "text": [
      "Black is not installed, parameters wont be formatted\n"
     ]
    },
    {
     "data": {
      "application/vnd.jupyter.widget-view+json": {
       "model_id": "aa602ec77d544a3ca4f583bc2b150127",
       "version_major": 2,
       "version_minor": 0
      },
      "text/plain": [
       "Executing:   0%|          | 0/28 [00:00<?, ?cell/s]"
      ]
     },
     "metadata": {},
     "output_type": "display_data"
    },
    {
     "name": "stderr",
     "output_type": "stream",
     "text": [
      "Black is not installed, parameters wont be formatted\n"
     ]
    },
    {
     "data": {
      "application/vnd.jupyter.widget-view+json": {
       "model_id": "1576ce002dd44160a31cd4af3b3f6eec",
       "version_major": 2,
       "version_minor": 0
      },
      "text/plain": [
       "Executing:   0%|          | 0/28 [00:00<?, ?cell/s]"
      ]
     },
     "metadata": {},
     "output_type": "display_data"
    }
   ],
   "source": [
    "for i in watch:\n",
    "    pm.execute_notebook(\n",
    "        'cook_template_deadname_watch.ipynb',\n",
    "        f'cook_eda_deadnames_{i[2].lower()}.ipynb',\n",
    "        parameters = dict(\n",
    "            name = i[0],\n",
    "            dead_name = i[1],\n",
    "            page_name = i[2],\n",
    "            co_date = i[3]\n",
    "        )\n",
    "    )"
   ]
  },
  {
   "cell_type": "code",
   "execution_count": null,
   "id": "1ec89c61-bc46-4cd0-acc0-f61f60124e83",
   "metadata": {},
   "outputs": [],
   "source": []
  }
 ],
 "metadata": {
  "kernelspec": {
   "display_name": "Python 3 (ipykernel)",
   "language": "python",
   "name": "python3"
  },
  "language_info": {
   "codemirror_mode": {
    "name": "ipython",
    "version": 3
   },
   "file_extension": ".py",
   "mimetype": "text/x-python",
   "name": "python",
   "nbconvert_exporter": "python",
   "pygments_lexer": "ipython3",
   "version": "3.10.12"
  }
 },
 "nbformat": 4,
 "nbformat_minor": 5
}
