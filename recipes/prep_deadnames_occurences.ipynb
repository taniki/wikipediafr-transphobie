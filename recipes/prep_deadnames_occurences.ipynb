{
 "cells": [
  {
   "cell_type": "code",
   "execution_count": 48,
   "id": "93688d69-2db7-4eff-bbce-96df2d864a02",
   "metadata": {},
   "outputs": [],
   "source": [
    "import pandas as pd\n",
    "from bs4 import BeautifulSoup\n",
    "from tqdm import tqdm\n",
    "\n",
    "tqdm.pandas()\n",
    "from wekeypedia import WikipediaPage as Page"
   ]
  },
  {
   "cell_type": "code",
   "execution_count": 31,
   "id": "b5fa3ee3-0a79-4649-ba56-1313a6a5dec4",
   "metadata": {},
   "outputs": [],
   "source": [
    "watch = [\n",
    "    [\n",
    "        'Elliot Page',\n",
    "        'Ellen Page',\n",
    "        'Elliot_Page'\n",
    "    ],\n",
    "    [\n",
    "        'Chelsea Manning',\n",
    "        'Bradley',\n",
    "        'Chelsea_Manning'\n",
    "    ],\n",
    "]"
   ]
  },
  {
   "cell_type": "code",
   "execution_count": 35,
   "id": "f4df8fa3-610a-466b-a98f-a9049750fcd4",
   "metadata": {},
   "outputs": [
    {
     "data": {
      "text/plain": [
       "{'main': {'name': 53, 'dead_name': 25}, 'talk': {'name': 71, 'dead_name': 12}}"
      ]
     },
     "execution_count": 35,
     "metadata": {},
     "output_type": "execute_result"
    }
   ],
   "source": [
    "def count_deadname(page, name, deadname, lang='fr'):\n",
    "    article = Page(page, lang=lang)\n",
    "    text = BeautifulSoup(article.get_current()).get_text()\n",
    "    \n",
    "    return {\n",
    "        'name': text.lower().count(name.lower()),\n",
    "        'dead_name': text.lower().count(deadname.lower()),\n",
    "    }\n",
    "\n",
    "def count(page, name, deadname, lang='fr'):\n",
    "    return {\n",
    "        'main': count_deadname(page, name, deadname),\n",
    "        'talk': count_deadname(f'Discussion:{page}', name, deadname),\n",
    "    }\n",
    "    \n",
    "count(watch[0][2], watch[0][0], watch[0][1])"
   ]
  },
  {
   "cell_type": "code",
   "execution_count": 36,
   "id": "008a6ff8-a8c1-41b9-8530-001b560f8ca9",
   "metadata": {},
   "outputs": [
    {
     "name": "stdout",
     "output_type": "stream",
     "text": [
      "Elliot_Page {'main': {'name': 53, 'dead_name': 25}, 'talk': {'name': 71, 'dead_name': 12}}\n",
      "Chelsea_Manning {'main': {'name': 62, 'dead_name': 50}, 'talk': {'name': 112, 'dead_name': 141}}\n"
     ]
    }
   ],
   "source": [
    "for p in watch:\n",
    "    print(p[2], count(p[2], p[0], p[1]))"
   ]
  },
  {
   "cell_type": "code",
   "execution_count": null,
   "id": "511d0614-b98f-4129-950b-98c808e83548",
   "metadata": {},
   "outputs": [],
   "source": []
  }
 ],
 "metadata": {
  "kernelspec": {
   "display_name": "Python 3 (ipykernel)",
   "language": "python",
   "name": "python3"
  },
  "language_info": {
   "codemirror_mode": {
    "name": "ipython",
    "version": 3
   },
   "file_extension": ".py",
   "mimetype": "text/x-python",
   "name": "python",
   "nbconvert_exporter": "python",
   "pygments_lexer": "ipython3",
   "version": "3.10.12"
  }
 },
 "nbformat": 4,
 "nbformat_minor": 5
}
