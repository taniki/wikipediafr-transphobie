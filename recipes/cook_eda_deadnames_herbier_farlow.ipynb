{
 "cells": [
  {
   "cell_type": "code",
   "execution_count": 1,
   "id": "2ad56d7a-56a0-4f9e-a19d-906c01ac23f1",
   "metadata": {
    "execution": {
     "iopub.execute_input": "2024-04-02T17:05:33.140902Z",
     "iopub.status.busy": "2024-04-02T17:05:33.140430Z",
     "iopub.status.idle": "2024-04-02T17:05:33.587229Z",
     "shell.execute_reply": "2024-04-02T17:05:33.586793Z"
    },
    "papermill": {
     "duration": 0.456786,
     "end_time": "2024-04-02T17:05:33.588161",
     "exception": false,
     "start_time": "2024-04-02T17:05:33.131375",
     "status": "completed"
    },
    "tags": []
   },
   "outputs": [],
   "source": [
    "import pandas as pd\n",
    "from bs4 import BeautifulSoup\n",
    "from tqdm import tqdm\n",
    "import base64\n",
    "\n",
    "tqdm.pandas()\n",
    "from wekeypedia import WikipediaPage as Page"
   ]
  },
  {
   "cell_type": "code",
   "execution_count": 2,
   "id": "23765632-31c5-4a46-a008-89df2f3fb17a",
   "metadata": {
    "execution": {
     "iopub.execute_input": "2024-04-02T17:05:33.598607Z",
     "iopub.status.busy": "2024-04-02T17:05:33.598434Z",
     "iopub.status.idle": "2024-04-02T17:05:33.600525Z",
     "shell.execute_reply": "2024-04-02T17:05:33.600234Z"
    },
    "papermill": {
     "duration": 0.011205,
     "end_time": "2024-04-02T17:05:33.601142",
     "exception": false,
     "start_time": "2024-04-02T17:05:33.589937",
     "status": "completed"
    },
    "tags": [
     "parameters"
    ]
   },
   "outputs": [],
   "source": [
    "name = \"Elliot Page\"\n",
    "dead_name = \"RWxsZW4=\"\n",
    "page_name = \"Elliot_Page\"\n",
    "co_date = \"2020-12-01\""
   ]
  },
  {
   "cell_type": "code",
   "execution_count": 3,
   "id": "7a00bfe3",
   "metadata": {
    "execution": {
     "iopub.execute_input": "2024-04-02T17:05:33.604311Z",
     "iopub.status.busy": "2024-04-02T17:05:33.604224Z",
     "iopub.status.idle": "2024-04-02T17:05:33.605884Z",
     "shell.execute_reply": "2024-04-02T17:05:33.605691Z"
    },
    "papermill": {
     "duration": 0.003986,
     "end_time": "2024-04-02T17:05:33.606500",
     "exception": false,
     "start_time": "2024-04-02T17:05:33.602514",
     "status": "completed"
    },
    "tags": [
     "injected-parameters"
    ]
   },
   "outputs": [],
   "source": [
    "# Parameters\n",
    "name = \"Elke Mackenzie\"\n",
    "dead_name = \"SXZhbg==\"\n",
    "page_name = \"Herbier_Farlow\"\n",
    "co_date = None\n"
   ]
  },
  {
   "cell_type": "code",
   "execution_count": 4,
   "id": "743460e0-da77-4f86-bb1c-7e260dd25dd2",
   "metadata": {
    "execution": {
     "iopub.execute_input": "2024-04-02T17:05:33.609691Z",
     "iopub.status.busy": "2024-04-02T17:05:33.609605Z",
     "iopub.status.idle": "2024-04-02T17:05:33.611143Z",
     "shell.execute_reply": "2024-04-02T17:05:33.610954Z"
    },
    "papermill": {
     "duration": 0.003808,
     "end_time": "2024-04-02T17:05:33.611693",
     "exception": false,
     "start_time": "2024-04-02T17:05:33.607885",
     "status": "completed"
    },
    "tags": []
   },
   "outputs": [],
   "source": [
    "def format_revid_index(revid, page):\n",
    "    return f'<a href=\"https://fr.wikipedia.org/w/index.php?title={page}&diff=prev&oldid={revid}\">{revid}</a>'"
   ]
  },
  {
   "cell_type": "markdown",
   "id": "5cc2bf74-9863-42ee-a757-703825106697",
   "metadata": {
    "papermill": {
     "duration": 0.001357,
     "end_time": "2024-04-02T17:05:33.614381",
     "exception": false,
     "start_time": "2024-04-02T17:05:33.613024",
     "status": "completed"
    },
    "tags": []
   },
   "source": [
    "# qui sont personnes qui énoncent le deadname dans l'article ?"
   ]
  },
  {
   "cell_type": "markdown",
   "id": "ef5929df-44e4-4ab2-a25b-25c1db364961",
   "metadata": {
    "papermill": {
     "duration": 0.001409,
     "end_time": "2024-04-02T17:05:33.617078",
     "exception": false,
     "start_time": "2024-04-02T17:05:33.615669",
     "status": "completed"
    },
    "tags": []
   },
   "source": [
    "## article"
   ]
  },
  {
   "cell_type": "code",
   "execution_count": 5,
   "id": "eed28b1e-97c4-4eab-9ead-6a8b55b85187",
   "metadata": {
    "execution": {
     "iopub.execute_input": "2024-04-02T17:05:33.620432Z",
     "iopub.status.busy": "2024-04-02T17:05:33.620261Z",
     "iopub.status.idle": "2024-04-02T17:05:33.931030Z",
     "shell.execute_reply": "2024-04-02T17:05:33.929570Z"
    },
    "papermill": {
     "duration": 0.315614,
     "end_time": "2024-04-02T17:05:33.934186",
     "exception": false,
     "start_time": "2024-04-02T17:05:33.618572",
     "status": "completed"
    },
    "tags": []
   },
   "outputs": [],
   "source": [
    "page = Page(page_name, lang='fr')"
   ]
  },
  {
   "cell_type": "code",
   "execution_count": 6,
   "id": "e496177f-af35-4c14-84a2-40f86b9a0309",
   "metadata": {
    "execution": {
     "iopub.execute_input": "2024-04-02T17:05:33.951175Z",
     "iopub.status.busy": "2024-04-02T17:05:33.951063Z",
     "iopub.status.idle": "2024-04-02T17:05:40.038059Z",
     "shell.execute_reply": "2024-04-02T17:05:40.037855Z"
    },
    "papermill": {
     "duration": 6.097106,
     "end_time": "2024-04-02T17:05:40.038776",
     "exception": false,
     "start_time": "2024-04-02T17:05:33.941670",
     "status": "completed"
    },
    "tags": []
   },
   "outputs": [
    {
     "name": "stderr",
     "output_type": "stream",
     "text": [
      "\r",
      "  0%|          | 0/18 [00:00<?, ?it/s]"
     ]
    },
    {
     "name": "stderr",
     "output_type": "stream",
     "text": [
      "\r",
      " 11%|█         | 2/18 [00:00<00:02,  6.55it/s]"
     ]
    },
    {
     "name": "stderr",
     "output_type": "stream",
     "text": [
      "\r",
      " 17%|█▋        | 3/18 [00:00<00:03,  4.74it/s]"
     ]
    },
    {
     "name": "stderr",
     "output_type": "stream",
     "text": [
      "\r",
      " 22%|██▏       | 4/18 [00:00<00:03,  4.02it/s]"
     ]
    },
    {
     "name": "stderr",
     "output_type": "stream",
     "text": [
      "\r",
      " 28%|██▊       | 5/18 [00:01<00:03,  3.65it/s]"
     ]
    },
    {
     "name": "stderr",
     "output_type": "stream",
     "text": [
      "\r",
      " 33%|███▎      | 6/18 [00:01<00:03,  3.49it/s]"
     ]
    },
    {
     "name": "stderr",
     "output_type": "stream",
     "text": [
      "\r",
      " 39%|███▉      | 7/18 [00:01<00:03,  3.36it/s]"
     ]
    },
    {
     "name": "stderr",
     "output_type": "stream",
     "text": [
      "\r",
      " 44%|████▍     | 8/18 [00:02<00:03,  3.30it/s]"
     ]
    },
    {
     "name": "stderr",
     "output_type": "stream",
     "text": [
      "\r",
      " 50%|█████     | 9/18 [00:02<00:02,  3.24it/s]"
     ]
    },
    {
     "name": "stderr",
     "output_type": "stream",
     "text": [
      "\r",
      " 56%|█████▌    | 10/18 [00:02<00:02,  3.18it/s]"
     ]
    },
    {
     "name": "stderr",
     "output_type": "stream",
     "text": [
      "\r",
      " 61%|██████    | 11/18 [00:03<00:02,  3.14it/s]"
     ]
    },
    {
     "name": "stderr",
     "output_type": "stream",
     "text": [
      "\r",
      " 67%|██████▋   | 12/18 [00:03<00:01,  3.07it/s]"
     ]
    },
    {
     "name": "stderr",
     "output_type": "stream",
     "text": [
      "\r",
      " 72%|███████▏  | 13/18 [00:03<00:01,  3.11it/s]"
     ]
    },
    {
     "name": "stderr",
     "output_type": "stream",
     "text": [
      "\r",
      " 78%|███████▊  | 14/18 [00:04<00:01,  3.04it/s]"
     ]
    },
    {
     "name": "stderr",
     "output_type": "stream",
     "text": [
      "\r",
      " 83%|████████▎ | 15/18 [00:04<00:00,  3.03it/s]"
     ]
    },
    {
     "name": "stderr",
     "output_type": "stream",
     "text": [
      "\r",
      " 89%|████████▉ | 16/18 [00:04<00:00,  3.05it/s]"
     ]
    },
    {
     "name": "stderr",
     "output_type": "stream",
     "text": [
      "\r",
      " 94%|█████████▍| 17/18 [00:05<00:00,  3.05it/s]"
     ]
    },
    {
     "name": "stderr",
     "output_type": "stream",
     "text": [
      "\r",
      "100%|██████████| 18/18 [00:05<00:00,  3.07it/s]"
     ]
    },
    {
     "name": "stderr",
     "output_type": "stream",
     "text": [
      "\r",
      "100%|██████████| 18/18 [00:05<00:00,  3.12it/s]"
     ]
    },
    {
     "name": "stderr",
     "output_type": "stream",
     "text": [
      "\n"
     ]
    },
    {
     "data": {
      "text/html": [
       "<div>\n",
       "<style scoped>\n",
       "    .dataframe tbody tr th:only-of-type {\n",
       "        vertical-align: middle;\n",
       "    }\n",
       "\n",
       "    .dataframe tbody tr th {\n",
       "        vertical-align: top;\n",
       "    }\n",
       "\n",
       "    .dataframe thead th {\n",
       "        text-align: right;\n",
       "    }\n",
       "</style>\n",
       "<table border=\"1\" class=\"dataframe\">\n",
       "  <thead>\n",
       "    <tr style=\"text-align: right;\">\n",
       "      <th></th>\n",
       "      <th>parentid</th>\n",
       "      <th>user</th>\n",
       "      <th>userid</th>\n",
       "      <th>timestamp</th>\n",
       "      <th>size</th>\n",
       "      <th>sha1</th>\n",
       "      <th>comment</th>\n",
       "      <th>diff</th>\n",
       "      <th>deleted</th>\n",
       "      <th>added</th>\n",
       "    </tr>\n",
       "    <tr>\n",
       "      <th>revid</th>\n",
       "      <th></th>\n",
       "      <th></th>\n",
       "      <th></th>\n",
       "      <th></th>\n",
       "      <th></th>\n",
       "      <th></th>\n",
       "      <th></th>\n",
       "      <th></th>\n",
       "      <th></th>\n",
       "      <th></th>\n",
       "    </tr>\n",
       "  </thead>\n",
       "  <tbody>\n",
       "    <tr>\n",
       "      <th>213902381</th>\n",
       "      <td>213901840</td>\n",
       "      <td>GF38storic</td>\n",
       "      <td>1747736</td>\n",
       "      <td>2024-04-02T13:51:50Z</td>\n",
       "      <td>2206</td>\n",
       "      <td>aa324da33cded1042c9603f6dfa30ba65bcb6ea5</td>\n",
       "      <td>Révocation des modifications de [[Special:Cont...</td>\n",
       "      <td>&lt;tr&gt;\\n  &lt;td colspan=\"2\" class=\"diff-lineno\"&gt;Li...</td>\n",
       "      <td>[. Elke Mackenzie, alors connue sous le, nom, ...</td>\n",
       "      <td>[et, qui, en fut le directeur]</td>\n",
       "    </tr>\n",
       "    <tr>\n",
       "      <th>213901840</th>\n",
       "      <td>213901507</td>\n",
       "      <td>Anne Daemon</td>\n",
       "      <td>3147955</td>\n",
       "      <td>2024-04-02T13:31:28Z</td>\n",
       "      <td>2766</td>\n",
       "      <td>806e92c1a70b38e416408779fa89b4be579bfa18</td>\n",
       "      <td>ajout de source (aucune falsification ici)</td>\n",
       "      <td>&lt;tr&gt;\\n  &lt;td colspan=\"2\" class=\"diff-lineno\"&gt;Li...</td>\n",
       "      <td>[et, qui, en fut le directeur]</td>\n",
       "      <td>[. Elke Mackenzie, alors connue sous le, nom, ...</td>\n",
       "    </tr>\n",
       "    <tr>\n",
       "      <th>213901507</th>\n",
       "      <td>213901208</td>\n",
       "      <td>Anne Daemon</td>\n",
       "      <td>3147955</td>\n",
       "      <td>2024-04-02T13:17:37Z</td>\n",
       "      <td>2206</td>\n",
       "      <td>aa324da33cded1042c9603f6dfa30ba65bcb6ea5</td>\n",
       "      <td>Annulation de la [[Special:Diff/213901208|modi...</td>\n",
       "      <td>&lt;tr&gt;\\n  &lt;td colspan=\"2\" class=\"diff-lineno\"&gt;Li...</td>\n",
       "      <td>[ ]</td>\n",
       "      <td>[[[File:Farlow Herbarium Harvard University Ju...</td>\n",
       "    </tr>\n",
       "    <tr>\n",
       "      <th>213901208</th>\n",
       "      <td>213901183</td>\n",
       "      <td>GF38storic</td>\n",
       "      <td>1747736</td>\n",
       "      <td>2024-04-02T13:02:40Z</td>\n",
       "      <td>2096</td>\n",
       "      <td>c14a5669fb8fe7efc3c62c7c7765d332d3b172c0</td>\n",
       "      <td>Merci d'éviter de falsifier l'histoire - Annul...</td>\n",
       "      <td>&lt;tr&gt;\\n  &lt;td colspan=\"2\" class=\"diff-lineno\"&gt;Li...</td>\n",
       "      <td>[[[File:Farlow Herbarium Harvard University Ju...</td>\n",
       "      <td>[ ]</td>\n",
       "    </tr>\n",
       "    <tr>\n",
       "      <th>213901183</th>\n",
       "      <td>213898898</td>\n",
       "      <td>GF38storic</td>\n",
       "      <td>1747736</td>\n",
       "      <td>2024-04-02T13:01:18Z</td>\n",
       "      <td>2206</td>\n",
       "      <td>aa324da33cded1042c9603f6dfa30ba65bcb6ea5</td>\n",
       "      <td>Annulation de la [[Special:Diff/213898898|modi...</td>\n",
       "      <td>&lt;tr&gt;\\n  &lt;td colspan=\"2\" class=\"diff-lineno\"&gt;Li...</td>\n",
       "      <td>[Elke Mackenzie (connue alors sous le nom d', ...</td>\n",
       "      <td>[,, en fut le, directeur,  ,  ]</td>\n",
       "    </tr>\n",
       "    <tr>\n",
       "      <th>213898898</th>\n",
       "      <td>213898859</td>\n",
       "      <td>Anne Daemon</td>\n",
       "      <td>3147955</td>\n",
       "      <td>2024-04-02T11:26:46Z</td>\n",
       "      <td>2243</td>\n",
       "      <td>a9e4754eb20606dc78bd6478b2b269f04ebad811</td>\n",
       "      <td></td>\n",
       "      <td>&lt;tr&gt;\\n  &lt;td colspan=\"2\" class=\"diff-lineno\"&gt;Li...</td>\n",
       "      <td>[,, en fut le, directeur]</td>\n",
       "      <td>[Elke Mackenzie (connue alors sous le nom d', ...</td>\n",
       "    </tr>\n",
       "    <tr>\n",
       "      <th>213898859</th>\n",
       "      <td>179581040</td>\n",
       "      <td>Anne Daemon</td>\n",
       "      <td>3147955</td>\n",
       "      <td>2024-04-02T11:25:00Z</td>\n",
       "      <td>2208</td>\n",
       "      <td>e0cab30b57097f11242d167a8646c76ffc3f9581</td>\n",
       "      <td>illustration</td>\n",
       "      <td>&lt;tr&gt;\\n  &lt;td colspan=\"2\" class=\"diff-lineno\"&gt;Li...</td>\n",
       "      <td>[ ]</td>\n",
       "      <td>[[[File:Farlow Herbarium Harvard University Ju...</td>\n",
       "    </tr>\n",
       "    <tr>\n",
       "      <th>179581040</th>\n",
       "      <td>179487283</td>\n",
       "      <td>Cymbella</td>\n",
       "      <td>316223</td>\n",
       "      <td>2021-02-04T19:09:21Z</td>\n",
       "      <td>2098</td>\n",
       "      <td>1f7b7be75089d54160a9804e32cae6a77f8d8440</td>\n",
       "      <td>précision + ref</td>\n",
       "      <td>&lt;tr&gt;\\n  &lt;td colspan=\"2\" class=\"diff-lineno\"&gt;Li...</td>\n",
       "      <td>[]</td>\n",
       "      <td>[, qui en fut le directeur de 1953 à 1972&lt;ref&gt;...</td>\n",
       "    </tr>\n",
       "    <tr>\n",
       "      <th>179487283</th>\n",
       "      <td>179487266</td>\n",
       "      <td>Pierrette13</td>\n",
       "      <td>1220016</td>\n",
       "      <td>2021-02-02T06:47:54Z</td>\n",
       "      <td>1779</td>\n",
       "      <td>3fef5c756953389ccfacbd5fb9660c772814cfca</td>\n",
       "      <td>ital</td>\n",
       "      <td>&lt;tr&gt;\\n  &lt;td colspan=\"2\" class=\"diff-lineno\"&gt;Li...</td>\n",
       "      <td>[]</td>\n",
       "      <td>['', '']</td>\n",
       "    </tr>\n",
       "    <tr>\n",
       "      <th>179487266</th>\n",
       "      <td>179483470</td>\n",
       "      <td>Pierrette13</td>\n",
       "      <td>1220016</td>\n",
       "      <td>2021-02-02T06:46:03Z</td>\n",
       "      <td>1775</td>\n",
       "      <td>2adac84cef989cc7e05c3124a1c39746a22a05dd</td>\n",
       "      <td></td>\n",
       "      <td>&lt;tr&gt;\\n  &lt;td colspan=\"2\" class=\"diff-lineno\"&gt;Li...</td>\n",
       "      <td>[]</td>\n",
       "      <td>[, }}.&lt;/ref&gt;. Une revue associée à l'herbier, ...</td>\n",
       "    </tr>\n",
       "    <tr>\n",
       "      <th>179483470</th>\n",
       "      <td>179476042</td>\n",
       "      <td>TED</td>\n",
       "      <td>44258</td>\n",
       "      <td>2021-02-02T01:08:38Z</td>\n",
       "      <td>1514</td>\n",
       "      <td>768c981dcbf4a2709e9bf0f5ff69ee7875379d0b</td>\n",
       "      <td>Ajout rapide de {{portail}} : + phycologie , +...</td>\n",
       "      <td>&lt;tr&gt;\\n  &lt;td colspan=\"2\" class=\"diff-lineno\"&gt;Li...</td>\n",
       "      <td>[]</td>\n",
       "      <td>[|phycologie|mycologie]</td>\n",
       "    </tr>\n",
       "    <tr>\n",
       "      <th>179476042</th>\n",
       "      <td>179474581</td>\n",
       "      <td>Cymbella</td>\n",
       "      <td>316223</td>\n",
       "      <td>2021-02-01T20:36:20Z</td>\n",
       "      <td>1493</td>\n",
       "      <td>ac710629870a8aa01e6cdd997102bfb7aba08996</td>\n",
       "      <td>+ ref index herbariorum</td>\n",
       "      <td>&lt;tr&gt;\\n  &lt;td colspan=\"2\" class=\"diff-lineno\"&gt;Li...</td>\n",
       "      <td>[E., B, W., ,, D]</td>\n",
       "      <td>[, Son code dans l'{{lien|Index Herbariorum}} ...</td>\n",
       "    </tr>\n",
       "    <tr>\n",
       "      <th>179474581</th>\n",
       "      <td>179472085</td>\n",
       "      <td>Cymbella</td>\n",
       "      <td>316223</td>\n",
       "      <td>2021-02-01T20:01:11Z</td>\n",
       "      <td>1166</td>\n",
       "      <td>a6b924ac8ddba82ef3de594476327c0c4c1608ae</td>\n",
       "      <td>relecture</td>\n",
       "      <td>&lt;tr&gt;\\n  &lt;td colspan=\"2\" class=\"diff-lineno\"&gt;Li...</td>\n",
       "      <td>[s']</td>\n",
       "      <td>[trouve son , .]</td>\n",
       "    </tr>\n",
       "    <tr>\n",
       "      <th>179472085</th>\n",
       "      <td>179472039</td>\n",
       "      <td>Pierrette13</td>\n",
       "      <td>1220016</td>\n",
       "      <td>2021-02-01T19:02:34Z</td>\n",
       "      <td>1156</td>\n",
       "      <td>577d5d8f212a0dcc67a6cb9dc1651b61bcfbe1c8</td>\n",
       "      <td></td>\n",
       "      <td>&lt;tr&gt;\\n  &lt;td colspan=\"2\" class=\"diff-lineno\"&gt;Li...</td>\n",
       "      <td>[Université Harvard|l'Université de, |William ...</td>\n",
       "      <td>[l', université, {{nombre|, }}, {{nombre|, }},...</td>\n",
       "    </tr>\n",
       "    <tr>\n",
       "      <th>179472039</th>\n",
       "      <td>179471990</td>\n",
       "      <td>Pierrette13</td>\n",
       "      <td>1220016</td>\n",
       "      <td>2021-02-01T19:01:09Z</td>\n",
       "      <td>1186</td>\n",
       "      <td>ba19c0335d28c65443fab7017cb04d740ae75d65</td>\n",
       "      <td>/* Références */</td>\n",
       "      <td>&lt;tr&gt;\\n  &lt;td colspan=\"2\" class=\"diff-lineno\"&gt;Li...</td>\n",
       "      <td>[]</td>\n",
       "      <td>[{{Traduction/Référence|en|Farlow Herbarium of...</td>\n",
       "    </tr>\n",
       "    <tr>\n",
       "      <th>179471990</th>\n",
       "      <td>179471932</td>\n",
       "      <td>Pierrette13</td>\n",
       "      <td>1220016</td>\n",
       "      <td>2021-02-01T18:59:56Z</td>\n",
       "      <td>1106</td>\n",
       "      <td>51f9a361f363b417d070131c02af0197b2ffbc4b</td>\n",
       "      <td>+ autori</td>\n",
       "      <td>&lt;tr&gt;\\n  &lt;td colspan=\"2\" class=\"diff-lineno\"&gt;Li...</td>\n",
       "      <td>[]</td>\n",
       "      <td>[, == Liens externes ==, * {{site officiel|htt...</td>\n",
       "    </tr>\n",
       "    <tr>\n",
       "      <th>179471932</th>\n",
       "      <td>179471806</td>\n",
       "      <td>Pierrette13</td>\n",
       "      <td>1220016</td>\n",
       "      <td>2021-02-01T18:58:24Z</td>\n",
       "      <td>967</td>\n",
       "      <td>874502851189da0d4ac947120786fef13fb79345</td>\n",
       "      <td></td>\n",
       "      <td>&lt;tr&gt;\\n  &lt;td colspan=\"2\" class=\"diff-lineno\"&gt;Li...</td>\n",
       "      <td>[]</td>\n",
       "      <td>[{{portail|botanique|HZB}}, [[Catégorie:Herbie...</td>\n",
       "    </tr>\n",
       "    <tr>\n",
       "      <th>179471806</th>\n",
       "      <td>0</td>\n",
       "      <td>Pierrette13</td>\n",
       "      <td>1220016</td>\n",
       "      <td>2021-02-01T18:55:31Z</td>\n",
       "      <td>918</td>\n",
       "      <td>69f464a96958a4dda99e9455d7c36332bca70905</td>\n",
       "      <td>Créé en traduisant la page « [[:en:Special:Red...</td>\n",
       "      <td></td>\n",
       "      <td>[]</td>\n",
       "      <td>[]</td>\n",
       "    </tr>\n",
       "  </tbody>\n",
       "</table>\n",
       "</div>"
      ],
      "text/plain": [
       "            parentid         user   userid             timestamp  size  \\\n",
       "revid                                                                    \n",
       "213902381  213901840   GF38storic  1747736  2024-04-02T13:51:50Z  2206   \n",
       "213901840  213901507  Anne Daemon  3147955  2024-04-02T13:31:28Z  2766   \n",
       "213901507  213901208  Anne Daemon  3147955  2024-04-02T13:17:37Z  2206   \n",
       "213901208  213901183   GF38storic  1747736  2024-04-02T13:02:40Z  2096   \n",
       "213901183  213898898   GF38storic  1747736  2024-04-02T13:01:18Z  2206   \n",
       "213898898  213898859  Anne Daemon  3147955  2024-04-02T11:26:46Z  2243   \n",
       "213898859  179581040  Anne Daemon  3147955  2024-04-02T11:25:00Z  2208   \n",
       "179581040  179487283     Cymbella   316223  2021-02-04T19:09:21Z  2098   \n",
       "179487283  179487266  Pierrette13  1220016  2021-02-02T06:47:54Z  1779   \n",
       "179487266  179483470  Pierrette13  1220016  2021-02-02T06:46:03Z  1775   \n",
       "179483470  179476042          TED    44258  2021-02-02T01:08:38Z  1514   \n",
       "179476042  179474581     Cymbella   316223  2021-02-01T20:36:20Z  1493   \n",
       "179474581  179472085     Cymbella   316223  2021-02-01T20:01:11Z  1166   \n",
       "179472085  179472039  Pierrette13  1220016  2021-02-01T19:02:34Z  1156   \n",
       "179472039  179471990  Pierrette13  1220016  2021-02-01T19:01:09Z  1186   \n",
       "179471990  179471932  Pierrette13  1220016  2021-02-01T18:59:56Z  1106   \n",
       "179471932  179471806  Pierrette13  1220016  2021-02-01T18:58:24Z   967   \n",
       "179471806          0  Pierrette13  1220016  2021-02-01T18:55:31Z   918   \n",
       "\n",
       "                                               sha1  \\\n",
       "revid                                                 \n",
       "213902381  aa324da33cded1042c9603f6dfa30ba65bcb6ea5   \n",
       "213901840  806e92c1a70b38e416408779fa89b4be579bfa18   \n",
       "213901507  aa324da33cded1042c9603f6dfa30ba65bcb6ea5   \n",
       "213901208  c14a5669fb8fe7efc3c62c7c7765d332d3b172c0   \n",
       "213901183  aa324da33cded1042c9603f6dfa30ba65bcb6ea5   \n",
       "213898898  a9e4754eb20606dc78bd6478b2b269f04ebad811   \n",
       "213898859  e0cab30b57097f11242d167a8646c76ffc3f9581   \n",
       "179581040  1f7b7be75089d54160a9804e32cae6a77f8d8440   \n",
       "179487283  3fef5c756953389ccfacbd5fb9660c772814cfca   \n",
       "179487266  2adac84cef989cc7e05c3124a1c39746a22a05dd   \n",
       "179483470  768c981dcbf4a2709e9bf0f5ff69ee7875379d0b   \n",
       "179476042  ac710629870a8aa01e6cdd997102bfb7aba08996   \n",
       "179474581  a6b924ac8ddba82ef3de594476327c0c4c1608ae   \n",
       "179472085  577d5d8f212a0dcc67a6cb9dc1651b61bcfbe1c8   \n",
       "179472039  ba19c0335d28c65443fab7017cb04d740ae75d65   \n",
       "179471990  51f9a361f363b417d070131c02af0197b2ffbc4b   \n",
       "179471932  874502851189da0d4ac947120786fef13fb79345   \n",
       "179471806  69f464a96958a4dda99e9455d7c36332bca70905   \n",
       "\n",
       "                                                     comment  \\\n",
       "revid                                                          \n",
       "213902381  Révocation des modifications de [[Special:Cont...   \n",
       "213901840         ajout de source (aucune falsification ici)   \n",
       "213901507  Annulation de la [[Special:Diff/213901208|modi...   \n",
       "213901208  Merci d'éviter de falsifier l'histoire - Annul...   \n",
       "213901183  Annulation de la [[Special:Diff/213898898|modi...   \n",
       "213898898                                                      \n",
       "213898859                                       illustration   \n",
       "179581040                                    précision + ref   \n",
       "179487283                                               ital   \n",
       "179487266                                                      \n",
       "179483470  Ajout rapide de {{portail}} : + phycologie , +...   \n",
       "179476042                            + ref index herbariorum   \n",
       "179474581                                          relecture   \n",
       "179472085                                                      \n",
       "179472039                                   /* Références */   \n",
       "179471990                                           + autori   \n",
       "179471932                                                      \n",
       "179471806  Créé en traduisant la page « [[:en:Special:Red...   \n",
       "\n",
       "                                                        diff  \\\n",
       "revid                                                          \n",
       "213902381  <tr>\\n  <td colspan=\"2\" class=\"diff-lineno\">Li...   \n",
       "213901840  <tr>\\n  <td colspan=\"2\" class=\"diff-lineno\">Li...   \n",
       "213901507  <tr>\\n  <td colspan=\"2\" class=\"diff-lineno\">Li...   \n",
       "213901208  <tr>\\n  <td colspan=\"2\" class=\"diff-lineno\">Li...   \n",
       "213901183  <tr>\\n  <td colspan=\"2\" class=\"diff-lineno\">Li...   \n",
       "213898898  <tr>\\n  <td colspan=\"2\" class=\"diff-lineno\">Li...   \n",
       "213898859  <tr>\\n  <td colspan=\"2\" class=\"diff-lineno\">Li...   \n",
       "179581040  <tr>\\n  <td colspan=\"2\" class=\"diff-lineno\">Li...   \n",
       "179487283  <tr>\\n  <td colspan=\"2\" class=\"diff-lineno\">Li...   \n",
       "179487266  <tr>\\n  <td colspan=\"2\" class=\"diff-lineno\">Li...   \n",
       "179483470  <tr>\\n  <td colspan=\"2\" class=\"diff-lineno\">Li...   \n",
       "179476042  <tr>\\n  <td colspan=\"2\" class=\"diff-lineno\">Li...   \n",
       "179474581  <tr>\\n  <td colspan=\"2\" class=\"diff-lineno\">Li...   \n",
       "179472085  <tr>\\n  <td colspan=\"2\" class=\"diff-lineno\">Li...   \n",
       "179472039  <tr>\\n  <td colspan=\"2\" class=\"diff-lineno\">Li...   \n",
       "179471990  <tr>\\n  <td colspan=\"2\" class=\"diff-lineno\">Li...   \n",
       "179471932  <tr>\\n  <td colspan=\"2\" class=\"diff-lineno\">Li...   \n",
       "179471806                                                      \n",
       "\n",
       "                                                     deleted  \\\n",
       "revid                                                          \n",
       "213902381  [. Elke Mackenzie, alors connue sous le, nom, ...   \n",
       "213901840                     [et, qui, en fut le directeur]   \n",
       "213901507                                                [ ]   \n",
       "213901208  [[[File:Farlow Herbarium Harvard University Ju...   \n",
       "213901183  [Elke Mackenzie (connue alors sous le nom d', ...   \n",
       "213898898                          [,, en fut le, directeur]   \n",
       "213898859                                                [ ]   \n",
       "179581040                                                 []   \n",
       "179487283                                                 []   \n",
       "179487266                                                 []   \n",
       "179483470                                                 []   \n",
       "179476042                                  [E., B, W., ,, D]   \n",
       "179474581                                               [s']   \n",
       "179472085  [Université Harvard|l'Université de, |William ...   \n",
       "179472039                                                 []   \n",
       "179471990                                                 []   \n",
       "179471932                                                 []   \n",
       "179471806                                                 []   \n",
       "\n",
       "                                                       added  \n",
       "revid                                                         \n",
       "213902381                     [et, qui, en fut le directeur]  \n",
       "213901840  [. Elke Mackenzie, alors connue sous le, nom, ...  \n",
       "213901507  [[[File:Farlow Herbarium Harvard University Ju...  \n",
       "213901208                                                [ ]  \n",
       "213901183                    [,, en fut le, directeur,  ,  ]  \n",
       "213898898  [Elke Mackenzie (connue alors sous le nom d', ...  \n",
       "213898859  [[[File:Farlow Herbarium Harvard University Ju...  \n",
       "179581040  [, qui en fut le directeur de 1953 à 1972<ref>...  \n",
       "179487283                                           ['', '']  \n",
       "179487266  [, }}.</ref>. Une revue associée à l'herbier, ...  \n",
       "179483470                            [|phycologie|mycologie]  \n",
       "179476042  [, Son code dans l'{{lien|Index Herbariorum}} ...  \n",
       "179474581                                   [trouve son , .]  \n",
       "179472085  [l', université, {{nombre|, }}, {{nombre|, }},...  \n",
       "179472039  [{{Traduction/Référence|en|Farlow Herbarium of...  \n",
       "179471990  [, == Liens externes ==, * {{site officiel|htt...  \n",
       "179471932  [{{portail|botanique|HZB}}, [[Catégorie:Herbie...  \n",
       "179471806                                                 []  "
      ]
     },
     "execution_count": 6,
     "metadata": {},
     "output_type": "execute_result"
    }
   ],
   "source": [
    "revisions = (\n",
    "    pd\n",
    "    .DataFrame\n",
    "    .from_records(page.get_revisions_list())\n",
    "    .assign(\n",
    "        diff = lambda df: df.revid.progress_apply(lambda x: page.get_diff(x)).fillna(''),\n",
    "        deleted = lambda df: df['diff'].apply(lambda diff: page.extract_plusminus(diff)['deleted']),\n",
    "        added = lambda df: df['diff'].apply(lambda diff: page.extract_plusminus(diff)['added']),\n",
    "    )\n",
    "    .set_index('revid')\n",
    ")\n",
    "\n",
    "revisions"
   ]
  },
  {
   "cell_type": "code",
   "execution_count": 7,
   "id": "c589c8bc-5e6a-4361-bb5c-99b125c56fd4",
   "metadata": {
    "execution": {
     "iopub.execute_input": "2024-04-02T17:05:40.049708Z",
     "iopub.status.busy": "2024-04-02T17:05:40.049629Z",
     "iopub.status.idle": "2024-04-02T17:05:40.052624Z",
     "shell.execute_reply": "2024-04-02T17:05:40.052436Z"
    },
    "papermill": {
     "duration": 0.012497,
     "end_time": "2024-04-02T17:05:40.053346",
     "exception": false,
     "start_time": "2024-04-02T17:05:40.040849",
     "status": "completed"
    },
    "tags": []
   },
   "outputs": [],
   "source": [
    "revisions.to_csv(f'../data/page-revisions/{page_name.lower()}.csv')"
   ]
  },
  {
   "cell_type": "code",
   "execution_count": 8,
   "id": "32533855-d09c-42e1-9071-35f10655dcd8",
   "metadata": {
    "execution": {
     "iopub.execute_input": "2024-04-02T17:05:40.058346Z",
     "iopub.status.busy": "2024-04-02T17:05:40.058198Z",
     "iopub.status.idle": "2024-04-02T17:05:40.060028Z",
     "shell.execute_reply": "2024-04-02T17:05:40.059739Z"
    },
    "papermill": {
     "duration": 0.005212,
     "end_time": "2024-04-02T17:05:40.060726",
     "exception": false,
     "start_time": "2024-04-02T17:05:40.055514",
     "status": "completed"
    },
    "tags": []
   },
   "outputs": [],
   "source": [
    "def decode(string):\n",
    "    return base64.b64decode(string).decode(\"utf-8\")"
   ]
  },
  {
   "cell_type": "code",
   "execution_count": 9,
   "id": "bea34dc6-f504-44a9-846f-39e8401c62f7",
   "metadata": {
    "execution": {
     "iopub.execute_input": "2024-04-02T17:05:40.065356Z",
     "iopub.status.busy": "2024-04-02T17:05:40.065204Z",
     "iopub.status.idle": "2024-04-02T17:05:40.066839Z",
     "shell.execute_reply": "2024-04-02T17:05:40.066563Z"
    },
    "papermill": {
     "duration": 0.004694,
     "end_time": "2024-04-02T17:05:40.067503",
     "exception": false,
     "start_time": "2024-04-02T17:05:40.062809",
     "status": "completed"
    },
    "tags": []
   },
   "outputs": [],
   "source": [
    "# (\n",
    "#     revisions\n",
    "#     .assign(\n",
    "#         deadnames = lambda df: df['*'].apply(lambda x: str(x).lower().count(decode(dead_name).lower()))\n",
    "#     )\n",
    "#     #.reset_index()\n",
    "#     [['timestamp', 'deadnames']]\n",
    "#     .assign(\n",
    "#         date = lambda df: pd.to_datetime(df.timestamp).dt.date\n",
    "#     )\n",
    "#     .groupby('date')\n",
    "#     .agg({'deadnames': 'mean'})\n",
    "#     .plot\n",
    "#     .line(\n",
    "#         figsize=(15,10)\n",
    "#     )\n",
    "# )"
   ]
  },
  {
   "cell_type": "markdown",
   "id": "49e1e9d0-0960-4573-a7d3-a7a218c3c34f",
   "metadata": {
    "papermill": {
     "duration": 0.001966,
     "end_time": "2024-04-02T17:05:40.071430",
     "exception": false,
     "start_time": "2024-04-02T17:05:40.069464",
     "status": "completed"
    },
    "tags": []
   },
   "source": [
    "### depuis le coming out"
   ]
  },
  {
   "cell_type": "code",
   "execution_count": 10,
   "id": "308c3a1c-e446-42b8-b087-915ff9fdf05f",
   "metadata": {
    "execution": {
     "iopub.execute_input": "2024-04-02T17:05:40.075874Z",
     "iopub.status.busy": "2024-04-02T17:05:40.075744Z",
     "iopub.status.idle": "2024-04-02T17:05:40.079085Z",
     "shell.execute_reply": "2024-04-02T17:05:40.078904Z"
    },
    "papermill": {
     "duration": 0.006235,
     "end_time": "2024-04-02T17:05:40.079618",
     "exception": false,
     "start_time": "2024-04-02T17:05:40.073383",
     "status": "completed"
    },
    "tags": []
   },
   "outputs": [
    {
     "data": {
      "text/plain": [
       "user\n",
       "Anne Daemon    2\n",
       "Cymbella       0\n",
       "GF38storic     0\n",
       "Pierrette13    0\n",
       "TED            0\n",
       "Name: deadname_count, dtype: int64"
      ]
     },
     "execution_count": 10,
     "metadata": {},
     "output_type": "execute_result"
    }
   ],
   "source": [
    "(\n",
    "    revisions\n",
    "    .assign(\n",
    "        deadname_count = lambda df: df.added.apply(lambda x: ' '.join(x).lower().count(decode(dead_name).lower()))\n",
    "    )\n",
    "    # on ne garde que les contributions après son coming out\n",
    "    .pipe(lambda df: df.query(f'timestamp >= \"{co_date}\"') if co_date != None else df)\n",
    "    .groupby('user')\n",
    "    .deadname_count\n",
    "    .sum()\n",
    "    .sort_values(ascending=False)\n",
    "    .head(10)\n",
    ")"
   ]
  },
  {
   "cell_type": "markdown",
   "id": "cdbf2cbe-7d9c-458a-8bb5-7554dbb954b5",
   "metadata": {
    "papermill": {
     "duration": 0.001964,
     "end_time": "2024-04-02T17:05:40.083556",
     "exception": false,
     "start_time": "2024-04-02T17:05:40.081592",
     "status": "completed"
    },
    "tags": []
   },
   "source": [
    "### depuis le début du sondage"
   ]
  },
  {
   "cell_type": "code",
   "execution_count": 11,
   "id": "e75e4ded-3e9d-45a6-bdd7-0af3b6f8b8ee",
   "metadata": {
    "execution": {
     "iopub.execute_input": "2024-04-02T17:05:40.087990Z",
     "iopub.status.busy": "2024-04-02T17:05:40.087898Z",
     "iopub.status.idle": "2024-04-02T17:05:40.091993Z",
     "shell.execute_reply": "2024-04-02T17:05:40.091816Z"
    },
    "papermill": {
     "duration": 0.006887,
     "end_time": "2024-04-02T17:05:40.092503",
     "exception": false,
     "start_time": "2024-04-02T17:05:40.085616",
     "status": "completed"
    },
    "tags": []
   },
   "outputs": [
    {
     "data": {
      "text/plain": [
       "user\n",
       "Anne Daemon    2\n",
       "GF38storic     0\n",
       "Name: deadname_count, dtype: int64"
      ]
     },
     "execution_count": 11,
     "metadata": {},
     "output_type": "execute_result"
    }
   ],
   "source": [
    "(\n",
    "    revisions\n",
    "    .assign(\n",
    "        deadname_count = lambda df: df.added.apply(lambda x: ' '.join(x).lower().count(decode(dead_name).lower()))\n",
    "    )\n",
    "    # début du sondage\n",
    "    .query('timestamp >= \"2024-01-15\"')\n",
    "    .groupby('user')\n",
    "    .deadname_count\n",
    "    .sum()\n",
    "    .sort_values(ascending=False)\n",
    "    .head(20)\n",
    ")"
   ]
  },
  {
   "cell_type": "code",
   "execution_count": 12,
   "id": "7e9a0650-90e2-4d49-9fec-7d015b4a75dc",
   "metadata": {
    "execution": {
     "iopub.execute_input": "2024-04-02T17:05:40.097021Z",
     "iopub.status.busy": "2024-04-02T17:05:40.096887Z",
     "iopub.status.idle": "2024-04-02T17:05:40.222296Z",
     "shell.execute_reply": "2024-04-02T17:05:40.222090Z"
    },
    "papermill": {
     "duration": 0.128476,
     "end_time": "2024-04-02T17:05:40.223024",
     "exception": false,
     "start_time": "2024-04-02T17:05:40.094548",
     "status": "completed"
    },
    "tags": []
   },
   "outputs": [
    {
     "data": {
      "text/html": [
       "<style type=\"text/css\">\n",
       "</style>\n",
       "<table id=\"T_21ef1\">\n",
       "  <thead>\n",
       "    <tr>\n",
       "      <th class=\"blank level0\" >&nbsp;</th>\n",
       "      <th id=\"T_21ef1_level0_col0\" class=\"col_heading level0 col0\" >user</th>\n",
       "      <th id=\"T_21ef1_level0_col1\" class=\"col_heading level0 col1\" >deadname_count</th>\n",
       "      <th id=\"T_21ef1_level0_col2\" class=\"col_heading level0 col2\" >timestamp</th>\n",
       "    </tr>\n",
       "    <tr>\n",
       "      <th class=\"index_name level0\" >revid</th>\n",
       "      <th class=\"blank col0\" >&nbsp;</th>\n",
       "      <th class=\"blank col1\" >&nbsp;</th>\n",
       "      <th class=\"blank col2\" >&nbsp;</th>\n",
       "    </tr>\n",
       "  </thead>\n",
       "  <tbody>\n",
       "    <tr>\n",
       "      <th id=\"T_21ef1_level0_row0\" class=\"row_heading level0 row0\" ><a href=\"https://fr.wikipedia.org/w/index.php?title=Herbier_Farlow&diff=prev&oldid=213901507\">213901507</a></th>\n",
       "      <td id=\"T_21ef1_row0_col0\" class=\"data row0 col0\" >Anne Daemon</td>\n",
       "      <td id=\"T_21ef1_row0_col1\" class=\"data row0 col1\" >1</td>\n",
       "      <td id=\"T_21ef1_row0_col2\" class=\"data row0 col2\" >2024-04-02T13:17:37Z</td>\n",
       "    </tr>\n",
       "    <tr>\n",
       "      <th id=\"T_21ef1_level0_row1\" class=\"row_heading level0 row1\" ><a href=\"https://fr.wikipedia.org/w/index.php?title=Herbier_Farlow&diff=prev&oldid=213898859\">213898859</a></th>\n",
       "      <td id=\"T_21ef1_row1_col0\" class=\"data row1 col0\" >Anne Daemon</td>\n",
       "      <td id=\"T_21ef1_row1_col1\" class=\"data row1 col1\" >1</td>\n",
       "      <td id=\"T_21ef1_row1_col2\" class=\"data row1 col2\" >2024-04-02T11:25:00Z</td>\n",
       "    </tr>\n",
       "  </tbody>\n",
       "</table>\n"
      ],
      "text/plain": [
       "<pandas.io.formats.style.Styler at 0x7aa04435f790>"
      ]
     },
     "execution_count": 12,
     "metadata": {},
     "output_type": "execute_result"
    }
   ],
   "source": [
    "(\n",
    "    revisions\n",
    "    .assign(\n",
    "        deadname_count = lambda df: df.added.apply(lambda x: ' '.join(x).lower().count(decode(dead_name).lower()))\n",
    "    )\n",
    "    # début du sondage\n",
    "    .query('timestamp >= \"2024-01-15\"')\n",
    "    .query('deadname_count > 0')\n",
    "    [['user', 'deadname_count', 'timestamp']]\n",
    "    .style\n",
    "    .format_index(lambda x: format_revid_index(x, page_name))\n",
    ")"
   ]
  },
  {
   "cell_type": "markdown",
   "id": "b4ae0d43-e0f3-403f-8d77-06778155c12d",
   "metadata": {
    "papermill": {
     "duration": 0.008154,
     "end_time": "2024-04-02T17:05:40.233638",
     "exception": false,
     "start_time": "2024-04-02T17:05:40.225484",
     "status": "completed"
    },
    "tags": []
   },
   "source": [
    "## Discussions"
   ]
  },
  {
   "cell_type": "code",
   "execution_count": 13,
   "id": "65c5a95c-6148-4099-bcec-47e23701d260",
   "metadata": {
    "execution": {
     "iopub.execute_input": "2024-04-02T17:05:40.242118Z",
     "iopub.status.busy": "2024-04-02T17:05:40.241568Z",
     "iopub.status.idle": "2024-04-02T17:05:40.562336Z",
     "shell.execute_reply": "2024-04-02T17:05:40.560718Z"
    },
    "papermill": {
     "duration": 0.328012,
     "end_time": "2024-04-02T17:05:40.565369",
     "exception": false,
     "start_time": "2024-04-02T17:05:40.237357",
     "status": "completed"
    },
    "tags": []
   },
   "outputs": [],
   "source": [
    "talk = Page(f'Discussion:{page_name}', lang='fr')"
   ]
  },
  {
   "cell_type": "code",
   "execution_count": 14,
   "id": "f1aaec90-5c20-4488-a9aa-11da50fd1cf6",
   "metadata": {
    "execution": {
     "iopub.execute_input": "2024-04-02T17:05:40.581936Z",
     "iopub.status.busy": "2024-04-02T17:05:40.581577Z",
     "iopub.status.idle": "2024-04-02T17:05:46.453793Z",
     "shell.execute_reply": "2024-04-02T17:05:46.453500Z"
    },
    "papermill": {
     "duration": 5.882635,
     "end_time": "2024-04-02T17:05:46.454545",
     "exception": false,
     "start_time": "2024-04-02T17:05:40.571910",
     "status": "completed"
    },
    "tags": []
   },
   "outputs": [
    {
     "name": "stderr",
     "output_type": "stream",
     "text": [
      "\r",
      "  0%|          | 0/17 [00:00<?, ?it/s]"
     ]
    },
    {
     "name": "stderr",
     "output_type": "stream",
     "text": [
      "\r",
      " 12%|█▏        | 2/17 [00:00<00:02,  6.64it/s]"
     ]
    },
    {
     "name": "stderr",
     "output_type": "stream",
     "text": [
      "\r",
      " 18%|█▊        | 3/17 [00:00<00:02,  4.68it/s]"
     ]
    },
    {
     "name": "stderr",
     "output_type": "stream",
     "text": [
      "\r",
      " 24%|██▎       | 4/17 [00:00<00:03,  3.92it/s]"
     ]
    },
    {
     "name": "stderr",
     "output_type": "stream",
     "text": [
      "\r",
      " 29%|██▉       | 5/17 [00:01<00:03,  3.67it/s]"
     ]
    },
    {
     "name": "stderr",
     "output_type": "stream",
     "text": [
      "\r",
      " 35%|███▌      | 6/17 [00:01<00:03,  3.23it/s]"
     ]
    },
    {
     "name": "stderr",
     "output_type": "stream",
     "text": [
      "\r",
      " 41%|████      | 7/17 [00:01<00:03,  3.22it/s]"
     ]
    },
    {
     "name": "stderr",
     "output_type": "stream",
     "text": [
      "\r",
      " 47%|████▋     | 8/17 [00:02<00:02,  3.26it/s]"
     ]
    },
    {
     "name": "stderr",
     "output_type": "stream",
     "text": [
      "\r",
      " 53%|█████▎    | 9/17 [00:02<00:02,  3.20it/s]"
     ]
    },
    {
     "name": "stderr",
     "output_type": "stream",
     "text": [
      "\r",
      " 59%|█████▉    | 10/17 [00:02<00:02,  3.22it/s]"
     ]
    },
    {
     "name": "stderr",
     "output_type": "stream",
     "text": [
      "\r",
      " 65%|██████▍   | 11/17 [00:03<00:01,  3.05it/s]"
     ]
    },
    {
     "name": "stderr",
     "output_type": "stream",
     "text": [
      "\r",
      " 71%|███████   | 12/17 [00:03<00:01,  3.09it/s]"
     ]
    },
    {
     "name": "stderr",
     "output_type": "stream",
     "text": [
      "\r",
      " 76%|███████▋  | 13/17 [00:03<00:01,  2.96it/s]"
     ]
    },
    {
     "name": "stderr",
     "output_type": "stream",
     "text": [
      "\r",
      " 82%|████████▏ | 14/17 [00:04<00:01,  2.98it/s]"
     ]
    },
    {
     "name": "stderr",
     "output_type": "stream",
     "text": [
      "\r",
      " 88%|████████▊ | 15/17 [00:04<00:00,  3.04it/s]"
     ]
    },
    {
     "name": "stderr",
     "output_type": "stream",
     "text": [
      "\r",
      " 94%|█████████▍| 16/17 [00:04<00:00,  3.03it/s]"
     ]
    },
    {
     "name": "stderr",
     "output_type": "stream",
     "text": [
      "\r",
      "100%|██████████| 17/17 [00:05<00:00,  3.00it/s]"
     ]
    },
    {
     "name": "stderr",
     "output_type": "stream",
     "text": [
      "\r",
      "100%|██████████| 17/17 [00:05<00:00,  3.08it/s]"
     ]
    },
    {
     "name": "stderr",
     "output_type": "stream",
     "text": [
      "\n"
     ]
    }
   ],
   "source": [
    "talk_revisions = (\n",
    "    pd\n",
    "    .DataFrame\n",
    "    .from_records(talk.get_revisions_list())\n",
    "    .assign(\n",
    "        diff = lambda df: df.revid.progress_apply(lambda x: talk.get_diff(x)),\n",
    "        deleted = lambda df: df['diff'].apply(lambda diff: talk.extract_plusminus(diff)['deleted']),\n",
    "        added = lambda df: df['diff'].apply(lambda diff: talk.extract_plusminus(diff)['added']),\n",
    "    )\n",
    "    .set_index('revid')\n",
    ")\n",
    "\n",
    "#talk_revisions"
   ]
  },
  {
   "cell_type": "code",
   "execution_count": 15,
   "id": "25ec8a7b-a133-458e-bad3-331c8f41b851",
   "metadata": {
    "execution": {
     "iopub.execute_input": "2024-04-02T17:05:46.466098Z",
     "iopub.status.busy": "2024-04-02T17:05:46.465991Z",
     "iopub.status.idle": "2024-04-02T17:05:46.469225Z",
     "shell.execute_reply": "2024-04-02T17:05:46.469014Z"
    },
    "papermill": {
     "duration": 0.012909,
     "end_time": "2024-04-02T17:05:46.470031",
     "exception": false,
     "start_time": "2024-04-02T17:05:46.457122",
     "status": "completed"
    },
    "tags": []
   },
   "outputs": [],
   "source": [
    "talk_revisions.to_csv(f'../data/page-revisions/discussion:{page_name.lower()}.csv')"
   ]
  },
  {
   "cell_type": "markdown",
   "id": "4d1737c2-1d19-48bb-925f-f3a73fc7c585",
   "metadata": {
    "papermill": {
     "duration": 0.00423,
     "end_time": "2024-04-02T17:05:46.477438",
     "exception": false,
     "start_time": "2024-04-02T17:05:46.473208",
     "status": "completed"
    },
    "tags": []
   },
   "source": [
    "### depuis le coming out"
   ]
  },
  {
   "cell_type": "code",
   "execution_count": 16,
   "id": "0e863939-69ce-43d1-a48c-ed831817f6c6",
   "metadata": {
    "execution": {
     "iopub.execute_input": "2024-04-02T17:05:46.485278Z",
     "iopub.status.busy": "2024-04-02T17:05:46.485077Z",
     "iopub.status.idle": "2024-04-02T17:05:46.488465Z",
     "shell.execute_reply": "2024-04-02T17:05:46.488175Z"
    },
    "papermill": {
     "duration": 0.007554,
     "end_time": "2024-04-02T17:05:46.489101",
     "exception": false,
     "start_time": "2024-04-02T17:05:46.481547",
     "status": "completed"
    },
    "tags": []
   },
   "outputs": [
    {
     "data": {
      "text/plain": [
       "user\n",
       "GF38storic     24\n",
       "Cymbella        1\n",
       "Anne Daemon     0\n",
       "Jean.claude     0\n",
       "Pierrette13     0\n",
       "TED             0\n",
       "Name: deadname_count, dtype: int64"
      ]
     },
     "execution_count": 16,
     "metadata": {},
     "output_type": "execute_result"
    }
   ],
   "source": [
    "(\n",
    "    talk_revisions\n",
    "    .assign(\n",
    "        deadname_count = lambda df: df.added.apply(lambda x: ' '.join(x).lower().count(decode(dead_name).lower()))\n",
    "    )\n",
    "    # on ne garde que les contributions après son coming out\n",
    "    #.query('timestamp >= \"2013-08-22\"')\n",
    "    .groupby('user')\n",
    "    .deadname_count\n",
    "    .sum()\n",
    "    .sort_values(ascending=False)\n",
    "    .head(10)\n",
    ")"
   ]
  },
  {
   "cell_type": "markdown",
   "id": "f527cdea-8c65-45e8-8274-48ee9e2246b8",
   "metadata": {
    "papermill": {
     "duration": 0.002502,
     "end_time": "2024-04-02T17:05:46.494192",
     "exception": false,
     "start_time": "2024-04-02T17:05:46.491690",
     "status": "completed"
    },
    "tags": []
   },
   "source": [
    "### depuis le début du sondage"
   ]
  },
  {
   "cell_type": "code",
   "execution_count": 17,
   "id": "9e1a66e6-8622-4a4c-a031-95f1ee3e81b1",
   "metadata": {
    "execution": {
     "iopub.execute_input": "2024-04-02T17:05:46.499546Z",
     "iopub.status.busy": "2024-04-02T17:05:46.499432Z",
     "iopub.status.idle": "2024-04-02T17:05:46.503909Z",
     "shell.execute_reply": "2024-04-02T17:05:46.503728Z"
    },
    "papermill": {
     "duration": 0.007751,
     "end_time": "2024-04-02T17:05:46.504375",
     "exception": false,
     "start_time": "2024-04-02T17:05:46.496624",
     "status": "completed"
    },
    "tags": []
   },
   "outputs": [
    {
     "data": {
      "text/plain": [
       "user\n",
       "GF38storic     24\n",
       "Cymbella        1\n",
       "Anne Daemon     0\n",
       "Pierrette13     0\n",
       "Name: deadname_count, dtype: int64"
      ]
     },
     "execution_count": 17,
     "metadata": {},
     "output_type": "execute_result"
    }
   ],
   "source": [
    "(\n",
    "    talk_revisions\n",
    "    .assign(\n",
    "        deadname_count = lambda df: df.added.apply(lambda x: ' '.join(x).lower().count(decode(dead_name).lower()))\n",
    "    )\n",
    "    # depuis le sondage\n",
    "    .query('timestamp >= \"2024-01-15\"')\n",
    "    .groupby('user')\n",
    "    .deadname_count\n",
    "    .sum()\n",
    "    .sort_values(ascending=False)\n",
    "    .head(10)\n",
    ")"
   ]
  },
  {
   "cell_type": "code",
   "execution_count": 18,
   "id": "63fb08f4-6403-42c9-87ea-7851eb4853b9",
   "metadata": {
    "execution": {
     "iopub.execute_input": "2024-04-02T17:05:46.510489Z",
     "iopub.status.busy": "2024-04-02T17:05:46.510357Z",
     "iopub.status.idle": "2024-04-02T17:05:46.515201Z",
     "shell.execute_reply": "2024-04-02T17:05:46.515020Z"
    },
    "papermill": {
     "duration": 0.008566,
     "end_time": "2024-04-02T17:05:46.515714",
     "exception": false,
     "start_time": "2024-04-02T17:05:46.507148",
     "status": "completed"
    },
    "tags": []
   },
   "outputs": [
    {
     "data": {
      "text/html": [
       "<style type=\"text/css\">\n",
       "</style>\n",
       "<table id=\"T_c8d75\">\n",
       "  <thead>\n",
       "    <tr>\n",
       "      <th class=\"blank level0\" >&nbsp;</th>\n",
       "      <th id=\"T_c8d75_level0_col0\" class=\"col_heading level0 col0\" >user</th>\n",
       "      <th id=\"T_c8d75_level0_col1\" class=\"col_heading level0 col1\" >deadname_count</th>\n",
       "      <th id=\"T_c8d75_level0_col2\" class=\"col_heading level0 col2\" >timestamp</th>\n",
       "    </tr>\n",
       "    <tr>\n",
       "      <th class=\"index_name level0\" >revid</th>\n",
       "      <th class=\"blank col0\" >&nbsp;</th>\n",
       "      <th class=\"blank col1\" >&nbsp;</th>\n",
       "      <th class=\"blank col2\" >&nbsp;</th>\n",
       "    </tr>\n",
       "  </thead>\n",
       "  <tbody>\n",
       "    <tr>\n",
       "      <th id=\"T_c8d75_level0_row0\" class=\"row_heading level0 row0\" ><a href=\"https://fr.wikipedia.org/w/index.php?title=Discussion:Herbier_Farlow&diff=prev&oldid=213907260\">213907260</a></th>\n",
       "      <td id=\"T_c8d75_row0_col0\" class=\"data row0 col0\" >GF38storic</td>\n",
       "      <td id=\"T_c8d75_row0_col1\" class=\"data row0 col1\" >3</td>\n",
       "      <td id=\"T_c8d75_row0_col2\" class=\"data row0 col2\" >2024-04-02T16:42:34Z</td>\n",
       "    </tr>\n",
       "    <tr>\n",
       "      <th id=\"T_c8d75_level0_row1\" class=\"row_heading level0 row1\" ><a href=\"https://fr.wikipedia.org/w/index.php?title=Discussion:Herbier_Farlow&diff=prev&oldid=213904358\">213904358</a></th>\n",
       "      <td id=\"T_c8d75_row1_col0\" class=\"data row1 col0\" >GF38storic</td>\n",
       "      <td id=\"T_c8d75_row1_col1\" class=\"data row1 col1\" >19</td>\n",
       "      <td id=\"T_c8d75_row1_col2\" class=\"data row1 col2\" >2024-04-02T14:55:26Z</td>\n",
       "    </tr>\n",
       "    <tr>\n",
       "      <th id=\"T_c8d75_level0_row2\" class=\"row_heading level0 row2\" ><a href=\"https://fr.wikipedia.org/w/index.php?title=Discussion:Herbier_Farlow&diff=prev&oldid=213903947\">213903947</a></th>\n",
       "      <td id=\"T_c8d75_row2_col0\" class=\"data row2 col0\" >Cymbella</td>\n",
       "      <td id=\"T_c8d75_row2_col1\" class=\"data row2 col1\" >1</td>\n",
       "      <td id=\"T_c8d75_row2_col2\" class=\"data row2 col2\" >2024-04-02T14:38:10Z</td>\n",
       "    </tr>\n",
       "    <tr>\n",
       "      <th id=\"T_c8d75_level0_row3\" class=\"row_heading level0 row3\" ><a href=\"https://fr.wikipedia.org/w/index.php?title=Discussion:Herbier_Farlow&diff=prev&oldid=213901485\">213901485</a></th>\n",
       "      <td id=\"T_c8d75_row3_col0\" class=\"data row3 col0\" >GF38storic</td>\n",
       "      <td id=\"T_c8d75_row3_col1\" class=\"data row3 col1\" >2</td>\n",
       "      <td id=\"T_c8d75_row3_col2\" class=\"data row3 col2\" >2024-04-02T13:16:12Z</td>\n",
       "    </tr>\n",
       "  </tbody>\n",
       "</table>\n"
      ],
      "text/plain": [
       "<pandas.io.formats.style.Styler at 0x7a9f6e3b3190>"
      ]
     },
     "execution_count": 18,
     "metadata": {},
     "output_type": "execute_result"
    }
   ],
   "source": [
    "(\n",
    "    talk_revisions\n",
    "    .assign(\n",
    "        deadname_count = lambda df: df.added.apply(lambda x: ' '.join(x).lower().count(decode(dead_name).lower()))\n",
    "    )\n",
    "    # depuis le sondage\n",
    "    .query('timestamp >= \"2024-01-15\"')\n",
    "    .query('deadname_count > 0')\n",
    "    [['user', 'deadname_count', 'timestamp']]\n",
    "    .style\n",
    "    .format_index(lambda x : format_revid_index(x, f'Discussion:{page_name}'))\n",
    ")"
   ]
  },
  {
   "cell_type": "code",
   "execution_count": 19,
   "id": "27f65dc8-0dab-464f-931b-4498c241e3f5",
   "metadata": {
    "execution": {
     "iopub.execute_input": "2024-04-02T17:05:46.521409Z",
     "iopub.status.busy": "2024-04-02T17:05:46.521255Z",
     "iopub.status.idle": "2024-04-02T17:05:46.525338Z",
     "shell.execute_reply": "2024-04-02T17:05:46.525158Z"
    },
    "papermill": {
     "duration": 0.007518,
     "end_time": "2024-04-02T17:05:46.525838",
     "exception": false,
     "start_time": "2024-04-02T17:05:46.518320",
     "status": "completed"
    },
    "tags": []
   },
   "outputs": [
    {
     "data": {
      "text/plain": [
       "4"
      ]
     },
     "execution_count": 19,
     "metadata": {},
     "output_type": "execute_result"
    }
   ],
   "source": [
    "len(\n",
    "    talk_revisions\n",
    "    .assign(\n",
    "        deadname_count = lambda df: df.added.apply(lambda x: ' '.join(x).lower().count(decode(dead_name).lower()))\n",
    "    )\n",
    "    # depuis le sondage\n",
    "    .query('timestamp >= \"2024-01-15\"')\n",
    "    .query('deadname_count > 0')\n",
    "    [['user', 'deadname_count']]\n",
    ")"
   ]
  },
  {
   "cell_type": "code",
   "execution_count": null,
   "id": "f53cbc6c-c121-4c41-895b-60d2eafe8fbe",
   "metadata": {
    "papermill": {
     "duration": 0.002582,
     "end_time": "2024-04-02T17:05:46.531034",
     "exception": false,
     "start_time": "2024-04-02T17:05:46.528452",
     "status": "completed"
    },
    "tags": []
   },
   "outputs": [],
   "source": []
  }
 ],
 "metadata": {
  "kernelspec": {
   "display_name": "Python 3 (ipykernel)",
   "language": "python",
   "name": "python3"
  },
  "language_info": {
   "codemirror_mode": {
    "name": "ipython",
    "version": 3
   },
   "file_extension": ".py",
   "mimetype": "text/x-python",
   "name": "python",
   "nbconvert_exporter": "python",
   "pygments_lexer": "ipython3",
   "version": "3.10.12"
  },
  "papermill": {
   "default_parameters": {},
   "duration": 14.132508,
   "end_time": "2024-04-02T17:05:46.750976",
   "environment_variables": {},
   "exception": null,
   "input_path": "cook_template_deadname_watch.ipynb",
   "output_path": "cook_eda_deadnames_herbier_farlow.ipynb",
   "parameters": {
    "co_date": null,
    "dead_name": "SXZhbg==",
    "name": "Elke Mackenzie",
    "page_name": "Herbier_Farlow"
   },
   "start_time": "2024-04-02T17:05:32.618468",
   "version": "2.4.0"
  }
 },
 "nbformat": 4,
 "nbformat_minor": 5
}